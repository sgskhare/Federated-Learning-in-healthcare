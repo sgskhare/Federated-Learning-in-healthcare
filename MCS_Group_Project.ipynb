{
  "nbformat": 4,
  "nbformat_minor": 0,
  "metadata": {
    "colab": {
      "name": "MCS Group Project.ipynb",
      "provenance": [],
      "collapsed_sections": [
        "g1-2f_BcWoIp",
        "jSZ6Q7Q1Xs19",
        "D--AUumvYedR",
        "fs6bpCB3s61z",
        "9HbBKIFH_Tk7"
      ],
      "toc_visible": true
    },
    "kernelspec": {
      "name": "python3",
      "display_name": "Python 3"
    }
  },
  "cells": [
    {
      "cell_type": "code",
      "metadata": {
        "id": "Mfx1hsM8Ti4J"
      },
      "source": [
        ""
      ],
      "execution_count": null,
      "outputs": []
    },
    {
      "cell_type": "markdown",
      "metadata": {
        "id": "ejZfli1TTt_E"
      },
      "source": [
        "# Notes\n"
      ]
    },
    {
      "cell_type": "markdown",
      "metadata": {
        "id": "fs6bpCB3s61z"
      },
      "source": [
        "#Sample Dataset Creation"
      ]
    },
    {
      "cell_type": "code",
      "metadata": {
        "id": "x3PB0eDbtGrI"
      },
      "source": [
        "import csv\n",
        "import pandas as  pd\n",
        "import random\n",
        "import numpy as np"
      ],
      "execution_count": null,
      "outputs": []
    },
    {
      "cell_type": "code",
      "metadata": {
        "colab": {
          "base_uri": "https://localhost:8080/"
        },
        "id": "HMfoZCLOB0zv",
        "outputId": "14995f15-d2ac-4dd6-964f-b22ba28419f3"
      },
      "source": [
        "df = pd.read_csv (r'Israeli Test Data.csv',index_col=False)\n",
        "print (df)"
      ],
      "execution_count": null,
      "outputs": [
        {
          "output_type": "stream",
          "text": [
            "          test_date  cough  fever  ...  age_60_and_above  gender  test_indication\n",
            "0        11/03/2021      0      0  ...                No    male            Other\n",
            "1        11/03/2021      0      0  ...                No  female            Other\n",
            "2        11/03/2021      0      0  ...                No    male            Other\n",
            "3        11/03/2021      0      0  ...                No    male           Abroad\n",
            "4        11/03/2021      0      0  ...                No    male            Other\n",
            "...             ...    ...    ...  ...               ...     ...              ...\n",
            "1048570  10/01/2021      0      0  ...               NaN  female            Other\n",
            "1048571  10/01/2021      0      0  ...                No  female            Other\n",
            "1048572  10/01/2021      0      0  ...               Yes    male            Other\n",
            "1048573  10/01/2021      0      0  ...                No    male            Other\n",
            "1048574  10/01/2021      0      0  ...                No    male            Other\n",
            "\n",
            "[1048575 rows x 10 columns]\n"
          ],
          "name": "stdout"
        }
      ]
    },
    {
      "cell_type": "code",
      "metadata": {
        "colab": {
          "base_uri": "https://localhost:8080/",
          "height": 419
        },
        "id": "ZHufVXHQDP1O",
        "outputId": "19b94475-0dd1-486b-c4a6-ac690f75215b"
      },
      "source": [
        "df = df.loc[ (df['cough']==1)| (df['fever']==1)| (df['sore_throat']==1)| (df['shortness_of_breath']==1)| (df['head_ache']==1)]\n",
        "df = df.reset_index()\n",
        "df"
      ],
      "execution_count": null,
      "outputs": [
        {
          "output_type": "execute_result",
          "data": {
            "text/html": [
              "<div>\n",
              "<style scoped>\n",
              "    .dataframe tbody tr th:only-of-type {\n",
              "        vertical-align: middle;\n",
              "    }\n",
              "\n",
              "    .dataframe tbody tr th {\n",
              "        vertical-align: top;\n",
              "    }\n",
              "\n",
              "    .dataframe thead th {\n",
              "        text-align: right;\n",
              "    }\n",
              "</style>\n",
              "<table border=\"1\" class=\"dataframe\">\n",
              "  <thead>\n",
              "    <tr style=\"text-align: right;\">\n",
              "      <th></th>\n",
              "      <th>index</th>\n",
              "      <th>test_date</th>\n",
              "      <th>cough</th>\n",
              "      <th>fever</th>\n",
              "      <th>sore_throat</th>\n",
              "      <th>shortness_of_breath</th>\n",
              "      <th>head_ache</th>\n",
              "      <th>corona_result</th>\n",
              "      <th>age_60_and_above</th>\n",
              "      <th>gender</th>\n",
              "      <th>test_indication</th>\n",
              "    </tr>\n",
              "  </thead>\n",
              "  <tbody>\n",
              "    <tr>\n",
              "      <th>0</th>\n",
              "      <td>28</td>\n",
              "      <td>11/03/2021</td>\n",
              "      <td>1</td>\n",
              "      <td>0</td>\n",
              "      <td>0</td>\n",
              "      <td>0</td>\n",
              "      <td>0</td>\n",
              "      <td>1.0</td>\n",
              "      <td>No</td>\n",
              "      <td>male</td>\n",
              "      <td>Contact with confirmed</td>\n",
              "    </tr>\n",
              "    <tr>\n",
              "      <th>1</th>\n",
              "      <td>134</td>\n",
              "      <td>11/03/2021</td>\n",
              "      <td>0</td>\n",
              "      <td>0</td>\n",
              "      <td>0</td>\n",
              "      <td>1</td>\n",
              "      <td>0</td>\n",
              "      <td>1.0</td>\n",
              "      <td>No</td>\n",
              "      <td>male</td>\n",
              "      <td>Contact with confirmed</td>\n",
              "    </tr>\n",
              "    <tr>\n",
              "      <th>2</th>\n",
              "      <td>266</td>\n",
              "      <td>11/03/2021</td>\n",
              "      <td>0</td>\n",
              "      <td>0</td>\n",
              "      <td>0</td>\n",
              "      <td>0</td>\n",
              "      <td>1</td>\n",
              "      <td>1.0</td>\n",
              "      <td>No</td>\n",
              "      <td>NaN</td>\n",
              "      <td>Contact with confirmed</td>\n",
              "    </tr>\n",
              "    <tr>\n",
              "      <th>3</th>\n",
              "      <td>373</td>\n",
              "      <td>11/03/2021</td>\n",
              "      <td>1</td>\n",
              "      <td>1</td>\n",
              "      <td>0</td>\n",
              "      <td>0</td>\n",
              "      <td>0</td>\n",
              "      <td>1.0</td>\n",
              "      <td>No</td>\n",
              "      <td>female</td>\n",
              "      <td>Other</td>\n",
              "    </tr>\n",
              "    <tr>\n",
              "      <th>4</th>\n",
              "      <td>378</td>\n",
              "      <td>11/03/2021</td>\n",
              "      <td>0</td>\n",
              "      <td>0</td>\n",
              "      <td>1</td>\n",
              "      <td>0</td>\n",
              "      <td>0</td>\n",
              "      <td>1.0</td>\n",
              "      <td>No</td>\n",
              "      <td>female</td>\n",
              "      <td>Other</td>\n",
              "    </tr>\n",
              "    <tr>\n",
              "      <th>...</th>\n",
              "      <td>...</td>\n",
              "      <td>...</td>\n",
              "      <td>...</td>\n",
              "      <td>...</td>\n",
              "      <td>...</td>\n",
              "      <td>...</td>\n",
              "      <td>...</td>\n",
              "      <td>...</td>\n",
              "      <td>...</td>\n",
              "      <td>...</td>\n",
              "      <td>...</td>\n",
              "    </tr>\n",
              "    <tr>\n",
              "      <th>75765</th>\n",
              "      <td>1048521</td>\n",
              "      <td>10/01/2021</td>\n",
              "      <td>1</td>\n",
              "      <td>0</td>\n",
              "      <td>0</td>\n",
              "      <td>0</td>\n",
              "      <td>1</td>\n",
              "      <td>1.0</td>\n",
              "      <td>No</td>\n",
              "      <td>male</td>\n",
              "      <td>Contact with confirmed</td>\n",
              "    </tr>\n",
              "    <tr>\n",
              "      <th>75766</th>\n",
              "      <td>1048529</td>\n",
              "      <td>10/01/2021</td>\n",
              "      <td>0</td>\n",
              "      <td>0</td>\n",
              "      <td>1</td>\n",
              "      <td>0</td>\n",
              "      <td>0</td>\n",
              "      <td>1.0</td>\n",
              "      <td>Yes</td>\n",
              "      <td>female</td>\n",
              "      <td>Other</td>\n",
              "    </tr>\n",
              "    <tr>\n",
              "      <th>75767</th>\n",
              "      <td>1048530</td>\n",
              "      <td>10/01/2021</td>\n",
              "      <td>0</td>\n",
              "      <td>1</td>\n",
              "      <td>0</td>\n",
              "      <td>0</td>\n",
              "      <td>1</td>\n",
              "      <td>1.0</td>\n",
              "      <td>No</td>\n",
              "      <td>female</td>\n",
              "      <td>Other</td>\n",
              "    </tr>\n",
              "    <tr>\n",
              "      <th>75768</th>\n",
              "      <td>1048534</td>\n",
              "      <td>10/01/2021</td>\n",
              "      <td>0</td>\n",
              "      <td>0</td>\n",
              "      <td>1</td>\n",
              "      <td>0</td>\n",
              "      <td>0</td>\n",
              "      <td>1.0</td>\n",
              "      <td>Yes</td>\n",
              "      <td>female</td>\n",
              "      <td>Contact with confirmed</td>\n",
              "    </tr>\n",
              "    <tr>\n",
              "      <th>75769</th>\n",
              "      <td>1048557</td>\n",
              "      <td>10/01/2021</td>\n",
              "      <td>1</td>\n",
              "      <td>0</td>\n",
              "      <td>0</td>\n",
              "      <td>0</td>\n",
              "      <td>0</td>\n",
              "      <td>1.0</td>\n",
              "      <td>No</td>\n",
              "      <td>female</td>\n",
              "      <td>Other</td>\n",
              "    </tr>\n",
              "  </tbody>\n",
              "</table>\n",
              "<p>75770 rows × 11 columns</p>\n",
              "</div>"
            ],
            "text/plain": [
              "         index   test_date  ...  gender         test_indication\n",
              "0           28  11/03/2021  ...    male  Contact with confirmed\n",
              "1          134  11/03/2021  ...    male  Contact with confirmed\n",
              "2          266  11/03/2021  ...     NaN  Contact with confirmed\n",
              "3          373  11/03/2021  ...  female                   Other\n",
              "4          378  11/03/2021  ...  female                   Other\n",
              "...        ...         ...  ...     ...                     ...\n",
              "75765  1048521  10/01/2021  ...    male  Contact with confirmed\n",
              "75766  1048529  10/01/2021  ...  female                   Other\n",
              "75767  1048530  10/01/2021  ...  female                   Other\n",
              "75768  1048534  10/01/2021  ...  female  Contact with confirmed\n",
              "75769  1048557  10/01/2021  ...  female                   Other\n",
              "\n",
              "[75770 rows x 11 columns]"
            ]
          },
          "metadata": {
            "tags": []
          },
          "execution_count": 151
        }
      ]
    },
    {
      "cell_type": "code",
      "metadata": {
        "colab": {
          "base_uri": "https://localhost:8080/",
          "height": 1000
        },
        "id": "Vk5YtuhimYPF",
        "outputId": "2a087bbd-130b-40f4-9a36-e2bea1991699"
      },
      "source": [
        "df.sample(frac=1)\n",
        "df['lc28'] = 0\n",
        "df['lc56'] = 0\n",
        "df_mu60 = df.loc[(df['age_60_and_above'] == 'No') & (df['gender'] == 'male')]\n",
        "df_mo60 = df.loc[(df['age_60_and_above'] == 'Yes') & (df['gender'] == 'male')]\n",
        "df_fu60 = df.loc[(df['age_60_and_above'] == 'No') & (df['gender'] == 'female')]\n",
        "df_fo60 = df.loc[(df['age_60_and_above'] == 'Yes') & (df['gender'] == 'female')]\n",
        "\n",
        "#df_mu60.reset_index()\n",
        "print(df_mu60['lc28'][0])\n",
        "for row in df_mu60.iterrows(): #for each row in the file\n",
        "  n = random.uniform(0, 100) #generate random number\n",
        "  #print(row[0])\n",
        "  if n<= 4.094083: #if number below threshold\n",
        "    df_mu60['lc28'][(row[0])] = 1 #set to lc28\n",
        "    if n<= 0.367693: #if below lc56 threshold\n",
        "      df_mu60['lc56'][(row[0])] = 1 #set to lc56\n",
        "print(df_mu60['lc28'].value_counts())\n",
        "print(df_mu60['lc56'].value_counts())\n",
        "\n",
        "for row in df_mo60.iterrows(): #for each row in the file\n",
        "  n = random.uniform(0, 100) #generate random number\n",
        "  if n<= 14.38678: #if number below threshold\n",
        "    df_mo60['lc28'][(row[0])] = 1 #set to lc28\n",
        "    if n<= 0.730742: #if below lc56 threshold\n",
        "      df_mo60['lc56'][(row[0])] = 1 #set to lc56\n",
        "print(df_mo60['lc28'].value_counts())\n",
        "print(df_mo60['lc56'].value_counts())\n",
        "\n",
        "for row in df_fu60.iterrows(): #for each row in the file\n",
        "  n = random.uniform(0, 100) #generate random number\n",
        "  if n<= 4.632015: #if number below threshold\n",
        "    df_fu60['lc28'][(row[0])] = 1 #set to lc28\n",
        "    if n<= 0.378154: #if below lc56 threshold\n",
        "      df_fu60['lc56'][(row[0])] = 1 #set to lc56\n",
        "\n",
        "print(df_fu60['lc28'].value_counts())\n",
        "print(df_fu60['lc56'].value_counts())\n",
        "\n",
        "for row in df_fo60.iterrows(): #for each row in the file\n",
        "  n = random.uniform(0, 100) #generate random number\n",
        "  if n<= 18.6391: #if number below threshold\n",
        "    df_fo60['lc28'][(row[0])] = 1 #set to lc28\n",
        "    if n<= 0.906496: #if below lc56 threshold\n",
        "      df_fo60['lc56'][(row[0])] = 1 #set to lc56\n",
        "print(df_fo60['lc28'].value_counts())\n",
        "print(df_fo60['lc56'].value_counts())\n",
        "\n",
        "dfs = [df_mu60,df_mo60,df_fu60,df_fo60]\n",
        "df = []\n",
        "df = pd.concat(dfs)\n",
        "df\n"
      ],
      "execution_count": null,
      "outputs": [
        {
          "output_type": "stream",
          "text": [
            "0\n"
          ],
          "name": "stdout"
        },
        {
          "output_type": "stream",
          "text": [
            "/usr/local/lib/python3.7/dist-packages/ipykernel_launcher.py:15: SettingWithCopyWarning: \n",
            "A value is trying to be set on a copy of a slice from a DataFrame\n",
            "\n",
            "See the caveats in the documentation: https://pandas.pydata.org/pandas-docs/stable/user_guide/indexing.html#returning-a-view-versus-a-copy\n",
            "  from ipykernel import kernelapp as app\n",
            "/usr/local/lib/python3.7/dist-packages/IPython/core/interactiveshell.py:2882: SettingWithCopyWarning: \n",
            "A value is trying to be set on a copy of a slice from a DataFrame\n",
            "\n",
            "See the caveats in the documentation: https://pandas.pydata.org/pandas-docs/stable/user_guide/indexing.html#returning-a-view-versus-a-copy\n",
            "  exec(code_obj, self.user_global_ns, self.user_ns)\n",
            "/usr/local/lib/python3.7/dist-packages/ipykernel_launcher.py:17: SettingWithCopyWarning: \n",
            "A value is trying to be set on a copy of a slice from a DataFrame\n",
            "\n",
            "See the caveats in the documentation: https://pandas.pydata.org/pandas-docs/stable/user_guide/indexing.html#returning-a-view-versus-a-copy\n"
          ],
          "name": "stderr"
        },
        {
          "output_type": "stream",
          "text": [
            "0    28889\n",
            "1     1319\n",
            "Name: lc28, dtype: int64\n",
            "0    30104\n",
            "1      104\n",
            "Name: lc56, dtype: int64\n"
          ],
          "name": "stdout"
        },
        {
          "output_type": "stream",
          "text": [
            "/usr/local/lib/python3.7/dist-packages/ipykernel_launcher.py:24: SettingWithCopyWarning: \n",
            "A value is trying to be set on a copy of a slice from a DataFrame\n",
            "\n",
            "See the caveats in the documentation: https://pandas.pydata.org/pandas-docs/stable/user_guide/indexing.html#returning-a-view-versus-a-copy\n",
            "/usr/local/lib/python3.7/dist-packages/ipykernel_launcher.py:26: SettingWithCopyWarning: \n",
            "A value is trying to be set on a copy of a slice from a DataFrame\n",
            "\n",
            "See the caveats in the documentation: https://pandas.pydata.org/pandas-docs/stable/user_guide/indexing.html#returning-a-view-versus-a-copy\n"
          ],
          "name": "stderr"
        },
        {
          "output_type": "stream",
          "text": [
            "0    2617\n",
            "1     466\n",
            "Name: lc28, dtype: int64\n",
            "0    3070\n",
            "1      13\n",
            "Name: lc56, dtype: int64\n"
          ],
          "name": "stdout"
        },
        {
          "output_type": "stream",
          "text": [
            "/usr/local/lib/python3.7/dist-packages/ipykernel_launcher.py:33: SettingWithCopyWarning: \n",
            "A value is trying to be set on a copy of a slice from a DataFrame\n",
            "\n",
            "See the caveats in the documentation: https://pandas.pydata.org/pandas-docs/stable/user_guide/indexing.html#returning-a-view-versus-a-copy\n",
            "/usr/local/lib/python3.7/dist-packages/ipykernel_launcher.py:35: SettingWithCopyWarning: \n",
            "A value is trying to be set on a copy of a slice from a DataFrame\n",
            "\n",
            "See the caveats in the documentation: https://pandas.pydata.org/pandas-docs/stable/user_guide/indexing.html#returning-a-view-versus-a-copy\n"
          ],
          "name": "stderr"
        },
        {
          "output_type": "stream",
          "text": [
            "0    35473\n",
            "1     1753\n",
            "Name: lc28, dtype: int64\n",
            "0    37072\n",
            "1      154\n",
            "Name: lc56, dtype: int64\n"
          ],
          "name": "stdout"
        },
        {
          "output_type": "stream",
          "text": [
            "/usr/local/lib/python3.7/dist-packages/ipykernel_launcher.py:43: SettingWithCopyWarning: \n",
            "A value is trying to be set on a copy of a slice from a DataFrame\n",
            "\n",
            "See the caveats in the documentation: https://pandas.pydata.org/pandas-docs/stable/user_guide/indexing.html#returning-a-view-versus-a-copy\n",
            "/usr/local/lib/python3.7/dist-packages/ipykernel_launcher.py:45: SettingWithCopyWarning: \n",
            "A value is trying to be set on a copy of a slice from a DataFrame\n",
            "\n",
            "See the caveats in the documentation: https://pandas.pydata.org/pandas-docs/stable/user_guide/indexing.html#returning-a-view-versus-a-copy\n"
          ],
          "name": "stderr"
        },
        {
          "output_type": "stream",
          "text": [
            "0    3537\n",
            "1     812\n",
            "Name: lc28, dtype: int64\n",
            "0    4316\n",
            "1      33\n",
            "Name: lc56, dtype: int64\n"
          ],
          "name": "stdout"
        },
        {
          "output_type": "execute_result",
          "data": {
            "text/html": [
              "<div>\n",
              "<style scoped>\n",
              "    .dataframe tbody tr th:only-of-type {\n",
              "        vertical-align: middle;\n",
              "    }\n",
              "\n",
              "    .dataframe tbody tr th {\n",
              "        vertical-align: top;\n",
              "    }\n",
              "\n",
              "    .dataframe thead th {\n",
              "        text-align: right;\n",
              "    }\n",
              "</style>\n",
              "<table border=\"1\" class=\"dataframe\">\n",
              "  <thead>\n",
              "    <tr style=\"text-align: right;\">\n",
              "      <th></th>\n",
              "      <th>index</th>\n",
              "      <th>test_date</th>\n",
              "      <th>cough</th>\n",
              "      <th>fever</th>\n",
              "      <th>sore_throat</th>\n",
              "      <th>shortness_of_breath</th>\n",
              "      <th>head_ache</th>\n",
              "      <th>corona_result</th>\n",
              "      <th>age_60_and_above</th>\n",
              "      <th>gender</th>\n",
              "      <th>test_indication</th>\n",
              "      <th>lc28</th>\n",
              "      <th>lc56</th>\n",
              "    </tr>\n",
              "  </thead>\n",
              "  <tbody>\n",
              "    <tr>\n",
              "      <th>0</th>\n",
              "      <td>28</td>\n",
              "      <td>11/03/2021</td>\n",
              "      <td>1</td>\n",
              "      <td>0</td>\n",
              "      <td>0</td>\n",
              "      <td>0</td>\n",
              "      <td>0</td>\n",
              "      <td>1.0</td>\n",
              "      <td>No</td>\n",
              "      <td>male</td>\n",
              "      <td>Contact with confirmed</td>\n",
              "      <td>0</td>\n",
              "      <td>0</td>\n",
              "    </tr>\n",
              "    <tr>\n",
              "      <th>1</th>\n",
              "      <td>134</td>\n",
              "      <td>11/03/2021</td>\n",
              "      <td>0</td>\n",
              "      <td>0</td>\n",
              "      <td>0</td>\n",
              "      <td>1</td>\n",
              "      <td>0</td>\n",
              "      <td>1.0</td>\n",
              "      <td>No</td>\n",
              "      <td>male</td>\n",
              "      <td>Contact with confirmed</td>\n",
              "      <td>0</td>\n",
              "      <td>0</td>\n",
              "    </tr>\n",
              "    <tr>\n",
              "      <th>7</th>\n",
              "      <td>436</td>\n",
              "      <td>11/03/2021</td>\n",
              "      <td>0</td>\n",
              "      <td>0</td>\n",
              "      <td>1</td>\n",
              "      <td>0</td>\n",
              "      <td>0</td>\n",
              "      <td>1.0</td>\n",
              "      <td>No</td>\n",
              "      <td>male</td>\n",
              "      <td>Other</td>\n",
              "      <td>0</td>\n",
              "      <td>0</td>\n",
              "    </tr>\n",
              "    <tr>\n",
              "      <th>8</th>\n",
              "      <td>445</td>\n",
              "      <td>11/03/2021</td>\n",
              "      <td>0</td>\n",
              "      <td>0</td>\n",
              "      <td>1</td>\n",
              "      <td>0</td>\n",
              "      <td>0</td>\n",
              "      <td>1.0</td>\n",
              "      <td>No</td>\n",
              "      <td>male</td>\n",
              "      <td>Other</td>\n",
              "      <td>0</td>\n",
              "      <td>0</td>\n",
              "    </tr>\n",
              "    <tr>\n",
              "      <th>13</th>\n",
              "      <td>839</td>\n",
              "      <td>11/03/2021</td>\n",
              "      <td>1</td>\n",
              "      <td>1</td>\n",
              "      <td>0</td>\n",
              "      <td>0</td>\n",
              "      <td>0</td>\n",
              "      <td>1.0</td>\n",
              "      <td>No</td>\n",
              "      <td>male</td>\n",
              "      <td>Other</td>\n",
              "      <td>0</td>\n",
              "      <td>0</td>\n",
              "    </tr>\n",
              "    <tr>\n",
              "      <th>...</th>\n",
              "      <td>...</td>\n",
              "      <td>...</td>\n",
              "      <td>...</td>\n",
              "      <td>...</td>\n",
              "      <td>...</td>\n",
              "      <td>...</td>\n",
              "      <td>...</td>\n",
              "      <td>...</td>\n",
              "      <td>...</td>\n",
              "      <td>...</td>\n",
              "      <td>...</td>\n",
              "      <td>...</td>\n",
              "      <td>...</td>\n",
              "    </tr>\n",
              "    <tr>\n",
              "      <th>75727</th>\n",
              "      <td>1048000</td>\n",
              "      <td>10/01/2021</td>\n",
              "      <td>1</td>\n",
              "      <td>1</td>\n",
              "      <td>1</td>\n",
              "      <td>1</td>\n",
              "      <td>1</td>\n",
              "      <td>1.0</td>\n",
              "      <td>Yes</td>\n",
              "      <td>female</td>\n",
              "      <td>Contact with confirmed</td>\n",
              "      <td>0</td>\n",
              "      <td>0</td>\n",
              "    </tr>\n",
              "    <tr>\n",
              "      <th>75749</th>\n",
              "      <td>1048341</td>\n",
              "      <td>10/01/2021</td>\n",
              "      <td>1</td>\n",
              "      <td>1</td>\n",
              "      <td>0</td>\n",
              "      <td>0</td>\n",
              "      <td>0</td>\n",
              "      <td>1.0</td>\n",
              "      <td>Yes</td>\n",
              "      <td>female</td>\n",
              "      <td>Other</td>\n",
              "      <td>0</td>\n",
              "      <td>0</td>\n",
              "    </tr>\n",
              "    <tr>\n",
              "      <th>75760</th>\n",
              "      <td>1048487</td>\n",
              "      <td>10/01/2021</td>\n",
              "      <td>1</td>\n",
              "      <td>0</td>\n",
              "      <td>1</td>\n",
              "      <td>1</td>\n",
              "      <td>1</td>\n",
              "      <td>1.0</td>\n",
              "      <td>Yes</td>\n",
              "      <td>female</td>\n",
              "      <td>Other</td>\n",
              "      <td>1</td>\n",
              "      <td>0</td>\n",
              "    </tr>\n",
              "    <tr>\n",
              "      <th>75766</th>\n",
              "      <td>1048529</td>\n",
              "      <td>10/01/2021</td>\n",
              "      <td>0</td>\n",
              "      <td>0</td>\n",
              "      <td>1</td>\n",
              "      <td>0</td>\n",
              "      <td>0</td>\n",
              "      <td>1.0</td>\n",
              "      <td>Yes</td>\n",
              "      <td>female</td>\n",
              "      <td>Other</td>\n",
              "      <td>0</td>\n",
              "      <td>0</td>\n",
              "    </tr>\n",
              "    <tr>\n",
              "      <th>75768</th>\n",
              "      <td>1048534</td>\n",
              "      <td>10/01/2021</td>\n",
              "      <td>0</td>\n",
              "      <td>0</td>\n",
              "      <td>1</td>\n",
              "      <td>0</td>\n",
              "      <td>0</td>\n",
              "      <td>1.0</td>\n",
              "      <td>Yes</td>\n",
              "      <td>female</td>\n",
              "      <td>Contact with confirmed</td>\n",
              "      <td>0</td>\n",
              "      <td>0</td>\n",
              "    </tr>\n",
              "  </tbody>\n",
              "</table>\n",
              "<p>74866 rows × 13 columns</p>\n",
              "</div>"
            ],
            "text/plain": [
              "         index   test_date  cough  ...         test_indication  lc28  lc56\n",
              "0           28  11/03/2021      1  ...  Contact with confirmed     0     0\n",
              "1          134  11/03/2021      0  ...  Contact with confirmed     0     0\n",
              "7          436  11/03/2021      0  ...                   Other     0     0\n",
              "8          445  11/03/2021      0  ...                   Other     0     0\n",
              "13         839  11/03/2021      1  ...                   Other     0     0\n",
              "...        ...         ...    ...  ...                     ...   ...   ...\n",
              "75727  1048000  10/01/2021      1  ...  Contact with confirmed     0     0\n",
              "75749  1048341  10/01/2021      1  ...                   Other     0     0\n",
              "75760  1048487  10/01/2021      1  ...                   Other     1     0\n",
              "75766  1048529  10/01/2021      0  ...                   Other     0     0\n",
              "75768  1048534  10/01/2021      0  ...  Contact with confirmed     0     0\n",
              "\n",
              "[74866 rows x 13 columns]"
            ]
          },
          "metadata": {
            "tags": []
          },
          "execution_count": 152
        }
      ]
    },
    {
      "cell_type": "code",
      "metadata": {
        "id": "GbvnnsuAjEAk"
      },
      "source": [
        "df.to_csv('sample.csv', encoding='utf-8')"
      ],
      "execution_count": null,
      "outputs": []
    },
    {
      "cell_type": "code",
      "metadata": {
        "colab": {
          "base_uri": "https://localhost:8080/"
        },
        "id": "OwcniuMD1NUj",
        "outputId": "e8061636-471f-4bd9-8d53-323db1eddb42"
      },
      "source": [
        "df['asthma'] = 0\n",
        "for row in df.iterrows(): #for each row in the file\n",
        "  n = random.uniform(0, 100) #generate random number\n",
        "  if df['lc56'][(row[0])] == 1:\n",
        "    if n<= 18.0:\n",
        "      df['asthma'][(row[0])] = 1\n",
        "  elif df['lc28'][(row[0])] == 1:\n",
        "    if n<= 15.8:\n",
        "      df['asthma'][(row[0])] = 1\n",
        "  else:\n",
        "    if n<= 7.7:\n",
        "      df['asthma'][(row[0])] = 1"
      ],
      "execution_count": null,
      "outputs": [
        {
          "output_type": "stream",
          "text": [
            "/usr/local/lib/python3.7/dist-packages/ipykernel_launcher.py:12: SettingWithCopyWarning: \n",
            "A value is trying to be set on a copy of a slice from a DataFrame\n",
            "\n",
            "See the caveats in the documentation: https://pandas.pydata.org/pandas-docs/stable/user_guide/indexing.html#returning-a-view-versus-a-copy\n",
            "  if sys.path[0] == '':\n",
            "/usr/local/lib/python3.7/dist-packages/ipykernel_launcher.py:9: SettingWithCopyWarning: \n",
            "A value is trying to be set on a copy of a slice from a DataFrame\n",
            "\n",
            "See the caveats in the documentation: https://pandas.pydata.org/pandas-docs/stable/user_guide/indexing.html#returning-a-view-versus-a-copy\n",
            "  if __name__ == '__main__':\n",
            "/usr/local/lib/python3.7/dist-packages/ipykernel_launcher.py:6: SettingWithCopyWarning: \n",
            "A value is trying to be set on a copy of a slice from a DataFrame\n",
            "\n",
            "See the caveats in the documentation: https://pandas.pydata.org/pandas-docs/stable/user_guide/indexing.html#returning-a-view-versus-a-copy\n",
            "  \n"
          ],
          "name": "stderr"
        }
      ]
    },
    {
      "cell_type": "markdown",
      "metadata": {
        "id": "7ED6dKIN0N3V"
      },
      "source": [
        "#None Federated Learning"
      ]
    },
    {
      "cell_type": "code",
      "metadata": {
        "id": "KYjLj-kM0S7g"
      },
      "source": [
        "import csv\n",
        "import pandas as pd\n",
        "import numpy as np"
      ],
      "execution_count": null,
      "outputs": []
    },
    {
      "cell_type": "code",
      "metadata": {
        "colab": {
          "base_uri": "https://localhost:8080/"
        },
        "id": "nh4KPOAC0lkI",
        "outputId": "cab3d794-1f6b-4486-8e7f-3321de9eb67a"
      },
      "source": [
        "df = pd.read_csv (r'Sample Dataset.csv',index_col=False)\n",
        "print (df)"
      ],
      "execution_count": null,
      "outputs": [
        {
          "output_type": "stream",
          "text": [
            "       cough  fever  sore_throat  ...  lc28  lc56 asthma\n",
            "0          1      0            0  ...     0     0      0\n",
            "1          0      0            0  ...     0     0      0\n",
            "2          0      0            1  ...     0     0      0\n",
            "3          0      0            1  ...     0     0      0\n",
            "4          1      1            0  ...     0     0      0\n",
            "...      ...    ...          ...  ...   ...   ...    ...\n",
            "74861      1      1            1  ...     0     0      0\n",
            "74862      1      1            0  ...     0     0      0\n",
            "74863      1      0            1  ...     1     0      0\n",
            "74864      0      0            1  ...     0     0      0\n",
            "74865      0      0            1  ...     0     0      0\n",
            "\n",
            "[74866 rows x 10 columns]\n"
          ],
          "name": "stdout"
        }
      ]
    },
    {
      "cell_type": "code",
      "metadata": {
        "id": "GYAfbKrM0xXl",
        "colab": {
          "base_uri": "https://localhost:8080/",
          "height": 407
        },
        "outputId": "826f4979-0caa-4ca9-9c16-658f26903fa5"
      },
      "source": [
        "df.columns\n",
        "df = df.dropna()\n",
        "df"
      ],
      "execution_count": null,
      "outputs": [
        {
          "output_type": "execute_result",
          "data": {
            "text/html": [
              "<div>\n",
              "<style scoped>\n",
              "    .dataframe tbody tr th:only-of-type {\n",
              "        vertical-align: middle;\n",
              "    }\n",
              "\n",
              "    .dataframe tbody tr th {\n",
              "        vertical-align: top;\n",
              "    }\n",
              "\n",
              "    .dataframe thead th {\n",
              "        text-align: right;\n",
              "    }\n",
              "</style>\n",
              "<table border=\"1\" class=\"dataframe\">\n",
              "  <thead>\n",
              "    <tr style=\"text-align: right;\">\n",
              "      <th></th>\n",
              "      <th>cough</th>\n",
              "      <th>fever</th>\n",
              "      <th>sore_throat</th>\n",
              "      <th>shortness_of_breath</th>\n",
              "      <th>head_ache</th>\n",
              "      <th>age_60_and_above</th>\n",
              "      <th>gender</th>\n",
              "      <th>lc28</th>\n",
              "      <th>lc56</th>\n",
              "      <th>asthma</th>\n",
              "    </tr>\n",
              "  </thead>\n",
              "  <tbody>\n",
              "    <tr>\n",
              "      <th>0</th>\n",
              "      <td>1</td>\n",
              "      <td>0</td>\n",
              "      <td>0</td>\n",
              "      <td>0</td>\n",
              "      <td>0</td>\n",
              "      <td>No</td>\n",
              "      <td>male</td>\n",
              "      <td>0</td>\n",
              "      <td>0</td>\n",
              "      <td>0</td>\n",
              "    </tr>\n",
              "    <tr>\n",
              "      <th>1</th>\n",
              "      <td>0</td>\n",
              "      <td>0</td>\n",
              "      <td>0</td>\n",
              "      <td>1</td>\n",
              "      <td>0</td>\n",
              "      <td>No</td>\n",
              "      <td>male</td>\n",
              "      <td>0</td>\n",
              "      <td>0</td>\n",
              "      <td>0</td>\n",
              "    </tr>\n",
              "    <tr>\n",
              "      <th>2</th>\n",
              "      <td>0</td>\n",
              "      <td>0</td>\n",
              "      <td>1</td>\n",
              "      <td>0</td>\n",
              "      <td>0</td>\n",
              "      <td>No</td>\n",
              "      <td>male</td>\n",
              "      <td>0</td>\n",
              "      <td>0</td>\n",
              "      <td>0</td>\n",
              "    </tr>\n",
              "    <tr>\n",
              "      <th>3</th>\n",
              "      <td>0</td>\n",
              "      <td>0</td>\n",
              "      <td>1</td>\n",
              "      <td>0</td>\n",
              "      <td>0</td>\n",
              "      <td>No</td>\n",
              "      <td>male</td>\n",
              "      <td>0</td>\n",
              "      <td>0</td>\n",
              "      <td>0</td>\n",
              "    </tr>\n",
              "    <tr>\n",
              "      <th>4</th>\n",
              "      <td>1</td>\n",
              "      <td>1</td>\n",
              "      <td>0</td>\n",
              "      <td>0</td>\n",
              "      <td>0</td>\n",
              "      <td>No</td>\n",
              "      <td>male</td>\n",
              "      <td>0</td>\n",
              "      <td>0</td>\n",
              "      <td>0</td>\n",
              "    </tr>\n",
              "    <tr>\n",
              "      <th>...</th>\n",
              "      <td>...</td>\n",
              "      <td>...</td>\n",
              "      <td>...</td>\n",
              "      <td>...</td>\n",
              "      <td>...</td>\n",
              "      <td>...</td>\n",
              "      <td>...</td>\n",
              "      <td>...</td>\n",
              "      <td>...</td>\n",
              "      <td>...</td>\n",
              "    </tr>\n",
              "    <tr>\n",
              "      <th>74861</th>\n",
              "      <td>1</td>\n",
              "      <td>1</td>\n",
              "      <td>1</td>\n",
              "      <td>1</td>\n",
              "      <td>1</td>\n",
              "      <td>Yes</td>\n",
              "      <td>female</td>\n",
              "      <td>0</td>\n",
              "      <td>0</td>\n",
              "      <td>0</td>\n",
              "    </tr>\n",
              "    <tr>\n",
              "      <th>74862</th>\n",
              "      <td>1</td>\n",
              "      <td>1</td>\n",
              "      <td>0</td>\n",
              "      <td>0</td>\n",
              "      <td>0</td>\n",
              "      <td>Yes</td>\n",
              "      <td>female</td>\n",
              "      <td>0</td>\n",
              "      <td>0</td>\n",
              "      <td>0</td>\n",
              "    </tr>\n",
              "    <tr>\n",
              "      <th>74863</th>\n",
              "      <td>1</td>\n",
              "      <td>0</td>\n",
              "      <td>1</td>\n",
              "      <td>1</td>\n",
              "      <td>1</td>\n",
              "      <td>Yes</td>\n",
              "      <td>female</td>\n",
              "      <td>1</td>\n",
              "      <td>0</td>\n",
              "      <td>0</td>\n",
              "    </tr>\n",
              "    <tr>\n",
              "      <th>74864</th>\n",
              "      <td>0</td>\n",
              "      <td>0</td>\n",
              "      <td>1</td>\n",
              "      <td>0</td>\n",
              "      <td>0</td>\n",
              "      <td>Yes</td>\n",
              "      <td>female</td>\n",
              "      <td>0</td>\n",
              "      <td>0</td>\n",
              "      <td>0</td>\n",
              "    </tr>\n",
              "    <tr>\n",
              "      <th>74865</th>\n",
              "      <td>0</td>\n",
              "      <td>0</td>\n",
              "      <td>1</td>\n",
              "      <td>0</td>\n",
              "      <td>0</td>\n",
              "      <td>Yes</td>\n",
              "      <td>female</td>\n",
              "      <td>0</td>\n",
              "      <td>0</td>\n",
              "      <td>0</td>\n",
              "    </tr>\n",
              "  </tbody>\n",
              "</table>\n",
              "<p>74866 rows × 10 columns</p>\n",
              "</div>"
            ],
            "text/plain": [
              "       cough  fever  sore_throat  ...  lc28  lc56 asthma\n",
              "0          1      0            0  ...     0     0      0\n",
              "1          0      0            0  ...     0     0      0\n",
              "2          0      0            1  ...     0     0      0\n",
              "3          0      0            1  ...     0     0      0\n",
              "4          1      1            0  ...     0     0      0\n",
              "...      ...    ...          ...  ...   ...   ...    ...\n",
              "74861      1      1            1  ...     0     0      0\n",
              "74862      1      1            0  ...     0     0      0\n",
              "74863      1      0            1  ...     1     0      0\n",
              "74864      0      0            1  ...     0     0      0\n",
              "74865      0      0            1  ...     0     0      0\n",
              "\n",
              "[74866 rows x 10 columns]"
            ]
          },
          "metadata": {
            "tags": []
          },
          "execution_count": 3
        }
      ]
    },
    {
      "cell_type": "code",
      "metadata": {
        "colab": {
          "base_uri": "https://localhost:8080/",
          "height": 407
        },
        "id": "b6Tg1i-G1xQx",
        "outputId": "f1b8ebbb-b777-4b6f-8ee9-0be7c7c9d24a"
      },
      "source": [
        "df['label'] = 0\n",
        "df['label'] = np.where((df['lc28'] == 1) | (df['lc56'] == 1), 1,0)\n",
        "del df['lc28']\n",
        "del df['lc56']\n",
        "df"
      ],
      "execution_count": null,
      "outputs": [
        {
          "output_type": "execute_result",
          "data": {
            "text/html": [
              "<div>\n",
              "<style scoped>\n",
              "    .dataframe tbody tr th:only-of-type {\n",
              "        vertical-align: middle;\n",
              "    }\n",
              "\n",
              "    .dataframe tbody tr th {\n",
              "        vertical-align: top;\n",
              "    }\n",
              "\n",
              "    .dataframe thead th {\n",
              "        text-align: right;\n",
              "    }\n",
              "</style>\n",
              "<table border=\"1\" class=\"dataframe\">\n",
              "  <thead>\n",
              "    <tr style=\"text-align: right;\">\n",
              "      <th></th>\n",
              "      <th>cough</th>\n",
              "      <th>fever</th>\n",
              "      <th>sore_throat</th>\n",
              "      <th>shortness_of_breath</th>\n",
              "      <th>head_ache</th>\n",
              "      <th>age_60_and_above</th>\n",
              "      <th>gender</th>\n",
              "      <th>asthma</th>\n",
              "      <th>label</th>\n",
              "    </tr>\n",
              "  </thead>\n",
              "  <tbody>\n",
              "    <tr>\n",
              "      <th>0</th>\n",
              "      <td>1</td>\n",
              "      <td>0</td>\n",
              "      <td>0</td>\n",
              "      <td>0</td>\n",
              "      <td>0</td>\n",
              "      <td>No</td>\n",
              "      <td>male</td>\n",
              "      <td>0</td>\n",
              "      <td>0</td>\n",
              "    </tr>\n",
              "    <tr>\n",
              "      <th>1</th>\n",
              "      <td>0</td>\n",
              "      <td>0</td>\n",
              "      <td>0</td>\n",
              "      <td>1</td>\n",
              "      <td>0</td>\n",
              "      <td>No</td>\n",
              "      <td>male</td>\n",
              "      <td>0</td>\n",
              "      <td>0</td>\n",
              "    </tr>\n",
              "    <tr>\n",
              "      <th>2</th>\n",
              "      <td>0</td>\n",
              "      <td>0</td>\n",
              "      <td>1</td>\n",
              "      <td>0</td>\n",
              "      <td>0</td>\n",
              "      <td>No</td>\n",
              "      <td>male</td>\n",
              "      <td>0</td>\n",
              "      <td>0</td>\n",
              "    </tr>\n",
              "    <tr>\n",
              "      <th>3</th>\n",
              "      <td>0</td>\n",
              "      <td>0</td>\n",
              "      <td>1</td>\n",
              "      <td>0</td>\n",
              "      <td>0</td>\n",
              "      <td>No</td>\n",
              "      <td>male</td>\n",
              "      <td>0</td>\n",
              "      <td>0</td>\n",
              "    </tr>\n",
              "    <tr>\n",
              "      <th>4</th>\n",
              "      <td>1</td>\n",
              "      <td>1</td>\n",
              "      <td>0</td>\n",
              "      <td>0</td>\n",
              "      <td>0</td>\n",
              "      <td>No</td>\n",
              "      <td>male</td>\n",
              "      <td>0</td>\n",
              "      <td>0</td>\n",
              "    </tr>\n",
              "    <tr>\n",
              "      <th>...</th>\n",
              "      <td>...</td>\n",
              "      <td>...</td>\n",
              "      <td>...</td>\n",
              "      <td>...</td>\n",
              "      <td>...</td>\n",
              "      <td>...</td>\n",
              "      <td>...</td>\n",
              "      <td>...</td>\n",
              "      <td>...</td>\n",
              "    </tr>\n",
              "    <tr>\n",
              "      <th>74861</th>\n",
              "      <td>1</td>\n",
              "      <td>1</td>\n",
              "      <td>1</td>\n",
              "      <td>1</td>\n",
              "      <td>1</td>\n",
              "      <td>Yes</td>\n",
              "      <td>female</td>\n",
              "      <td>0</td>\n",
              "      <td>0</td>\n",
              "    </tr>\n",
              "    <tr>\n",
              "      <th>74862</th>\n",
              "      <td>1</td>\n",
              "      <td>1</td>\n",
              "      <td>0</td>\n",
              "      <td>0</td>\n",
              "      <td>0</td>\n",
              "      <td>Yes</td>\n",
              "      <td>female</td>\n",
              "      <td>0</td>\n",
              "      <td>0</td>\n",
              "    </tr>\n",
              "    <tr>\n",
              "      <th>74863</th>\n",
              "      <td>1</td>\n",
              "      <td>0</td>\n",
              "      <td>1</td>\n",
              "      <td>1</td>\n",
              "      <td>1</td>\n",
              "      <td>Yes</td>\n",
              "      <td>female</td>\n",
              "      <td>0</td>\n",
              "      <td>1</td>\n",
              "    </tr>\n",
              "    <tr>\n",
              "      <th>74864</th>\n",
              "      <td>0</td>\n",
              "      <td>0</td>\n",
              "      <td>1</td>\n",
              "      <td>0</td>\n",
              "      <td>0</td>\n",
              "      <td>Yes</td>\n",
              "      <td>female</td>\n",
              "      <td>0</td>\n",
              "      <td>0</td>\n",
              "    </tr>\n",
              "    <tr>\n",
              "      <th>74865</th>\n",
              "      <td>0</td>\n",
              "      <td>0</td>\n",
              "      <td>1</td>\n",
              "      <td>0</td>\n",
              "      <td>0</td>\n",
              "      <td>Yes</td>\n",
              "      <td>female</td>\n",
              "      <td>0</td>\n",
              "      <td>0</td>\n",
              "    </tr>\n",
              "  </tbody>\n",
              "</table>\n",
              "<p>74866 rows × 9 columns</p>\n",
              "</div>"
            ],
            "text/plain": [
              "       cough  fever  sore_throat  ...  gender  asthma label\n",
              "0          1      0            0  ...    male       0     0\n",
              "1          0      0            0  ...    male       0     0\n",
              "2          0      0            1  ...    male       0     0\n",
              "3          0      0            1  ...    male       0     0\n",
              "4          1      1            0  ...    male       0     0\n",
              "...      ...    ...          ...  ...     ...     ...   ...\n",
              "74861      1      1            1  ...  female       0     0\n",
              "74862      1      1            0  ...  female       0     0\n",
              "74863      1      0            1  ...  female       0     1\n",
              "74864      0      0            1  ...  female       0     0\n",
              "74865      0      0            1  ...  female       0     0\n",
              "\n",
              "[74866 rows x 9 columns]"
            ]
          },
          "metadata": {
            "tags": []
          },
          "execution_count": 4
        }
      ]
    },
    {
      "cell_type": "code",
      "metadata": {
        "colab": {
          "base_uri": "https://localhost:8080/",
          "height": 407
        },
        "id": "t3pj8lxj25wm",
        "outputId": "5cd5f228-9f27-44b6-a42c-eb6b5c4fd64f"
      },
      "source": [
        "df['gender'] = np.where((df['gender'] == 'male'), 1,0)\n",
        "df['age_60_and_above'] = np.where((df['age_60_and_above'] == 'Yes'), 1,0)\n",
        "df"
      ],
      "execution_count": null,
      "outputs": [
        {
          "output_type": "execute_result",
          "data": {
            "text/html": [
              "<div>\n",
              "<style scoped>\n",
              "    .dataframe tbody tr th:only-of-type {\n",
              "        vertical-align: middle;\n",
              "    }\n",
              "\n",
              "    .dataframe tbody tr th {\n",
              "        vertical-align: top;\n",
              "    }\n",
              "\n",
              "    .dataframe thead th {\n",
              "        text-align: right;\n",
              "    }\n",
              "</style>\n",
              "<table border=\"1\" class=\"dataframe\">\n",
              "  <thead>\n",
              "    <tr style=\"text-align: right;\">\n",
              "      <th></th>\n",
              "      <th>cough</th>\n",
              "      <th>fever</th>\n",
              "      <th>sore_throat</th>\n",
              "      <th>shortness_of_breath</th>\n",
              "      <th>head_ache</th>\n",
              "      <th>age_60_and_above</th>\n",
              "      <th>gender</th>\n",
              "      <th>asthma</th>\n",
              "      <th>label</th>\n",
              "    </tr>\n",
              "  </thead>\n",
              "  <tbody>\n",
              "    <tr>\n",
              "      <th>0</th>\n",
              "      <td>1</td>\n",
              "      <td>0</td>\n",
              "      <td>0</td>\n",
              "      <td>0</td>\n",
              "      <td>0</td>\n",
              "      <td>0</td>\n",
              "      <td>0</td>\n",
              "      <td>0</td>\n",
              "      <td>0</td>\n",
              "    </tr>\n",
              "    <tr>\n",
              "      <th>1</th>\n",
              "      <td>0</td>\n",
              "      <td>0</td>\n",
              "      <td>0</td>\n",
              "      <td>1</td>\n",
              "      <td>0</td>\n",
              "      <td>0</td>\n",
              "      <td>0</td>\n",
              "      <td>0</td>\n",
              "      <td>0</td>\n",
              "    </tr>\n",
              "    <tr>\n",
              "      <th>2</th>\n",
              "      <td>0</td>\n",
              "      <td>0</td>\n",
              "      <td>1</td>\n",
              "      <td>0</td>\n",
              "      <td>0</td>\n",
              "      <td>0</td>\n",
              "      <td>0</td>\n",
              "      <td>0</td>\n",
              "      <td>0</td>\n",
              "    </tr>\n",
              "    <tr>\n",
              "      <th>3</th>\n",
              "      <td>0</td>\n",
              "      <td>0</td>\n",
              "      <td>1</td>\n",
              "      <td>0</td>\n",
              "      <td>0</td>\n",
              "      <td>0</td>\n",
              "      <td>0</td>\n",
              "      <td>0</td>\n",
              "      <td>0</td>\n",
              "    </tr>\n",
              "    <tr>\n",
              "      <th>4</th>\n",
              "      <td>1</td>\n",
              "      <td>1</td>\n",
              "      <td>0</td>\n",
              "      <td>0</td>\n",
              "      <td>0</td>\n",
              "      <td>0</td>\n",
              "      <td>0</td>\n",
              "      <td>0</td>\n",
              "      <td>0</td>\n",
              "    </tr>\n",
              "    <tr>\n",
              "      <th>...</th>\n",
              "      <td>...</td>\n",
              "      <td>...</td>\n",
              "      <td>...</td>\n",
              "      <td>...</td>\n",
              "      <td>...</td>\n",
              "      <td>...</td>\n",
              "      <td>...</td>\n",
              "      <td>...</td>\n",
              "      <td>...</td>\n",
              "    </tr>\n",
              "    <tr>\n",
              "      <th>74861</th>\n",
              "      <td>1</td>\n",
              "      <td>1</td>\n",
              "      <td>1</td>\n",
              "      <td>1</td>\n",
              "      <td>1</td>\n",
              "      <td>0</td>\n",
              "      <td>0</td>\n",
              "      <td>0</td>\n",
              "      <td>0</td>\n",
              "    </tr>\n",
              "    <tr>\n",
              "      <th>74862</th>\n",
              "      <td>1</td>\n",
              "      <td>1</td>\n",
              "      <td>0</td>\n",
              "      <td>0</td>\n",
              "      <td>0</td>\n",
              "      <td>0</td>\n",
              "      <td>0</td>\n",
              "      <td>0</td>\n",
              "      <td>0</td>\n",
              "    </tr>\n",
              "    <tr>\n",
              "      <th>74863</th>\n",
              "      <td>1</td>\n",
              "      <td>0</td>\n",
              "      <td>1</td>\n",
              "      <td>1</td>\n",
              "      <td>1</td>\n",
              "      <td>0</td>\n",
              "      <td>0</td>\n",
              "      <td>0</td>\n",
              "      <td>1</td>\n",
              "    </tr>\n",
              "    <tr>\n",
              "      <th>74864</th>\n",
              "      <td>0</td>\n",
              "      <td>0</td>\n",
              "      <td>1</td>\n",
              "      <td>0</td>\n",
              "      <td>0</td>\n",
              "      <td>0</td>\n",
              "      <td>0</td>\n",
              "      <td>0</td>\n",
              "      <td>0</td>\n",
              "    </tr>\n",
              "    <tr>\n",
              "      <th>74865</th>\n",
              "      <td>0</td>\n",
              "      <td>0</td>\n",
              "      <td>1</td>\n",
              "      <td>0</td>\n",
              "      <td>0</td>\n",
              "      <td>0</td>\n",
              "      <td>0</td>\n",
              "      <td>0</td>\n",
              "      <td>0</td>\n",
              "    </tr>\n",
              "  </tbody>\n",
              "</table>\n",
              "<p>74866 rows × 9 columns</p>\n",
              "</div>"
            ],
            "text/plain": [
              "       cough  fever  sore_throat  ...  gender  asthma  label\n",
              "0          1      0            0  ...       0       0      0\n",
              "1          0      0            0  ...       0       0      0\n",
              "2          0      0            1  ...       0       0      0\n",
              "3          0      0            1  ...       0       0      0\n",
              "4          1      1            0  ...       0       0      0\n",
              "...      ...    ...          ...  ...     ...     ...    ...\n",
              "74861      1      1            1  ...       0       0      0\n",
              "74862      1      1            0  ...       0       0      0\n",
              "74863      1      0            1  ...       0       0      1\n",
              "74864      0      0            1  ...       0       0      0\n",
              "74865      0      0            1  ...       0       0      0\n",
              "\n",
              "[74866 rows x 9 columns]"
            ]
          },
          "metadata": {
            "tags": []
          },
          "execution_count": 6
        }
      ]
    },
    {
      "cell_type": "code",
      "metadata": {
        "colab": {
          "base_uri": "https://localhost:8080/",
          "height": 444
        },
        "id": "QDvzTaEo88_B",
        "outputId": "65442b3f-5a02-4470-e592-f869113f2bf0"
      },
      "source": [
        "df_positive = df[df.label == 1]\n",
        "df_negative = df[df.label ==0]\n",
        "df_negative = df_negative.sample(n=(len(df_positive)))\n",
        "print(len(df_positive))\n",
        "print(len(df_negative))\n",
        "dfs = [df_positive,df_negative]\n",
        "df_balanced = pd.concat(dfs)\n",
        "del df_positive\n",
        "del df_negative\n",
        "df_balanced.sample(frac=1)\n",
        "df_balanced\n"
      ],
      "execution_count": null,
      "outputs": [
        {
          "output_type": "stream",
          "text": [
            "4350\n",
            "4350\n"
          ],
          "name": "stdout"
        },
        {
          "output_type": "execute_result",
          "data": {
            "text/html": [
              "<div>\n",
              "<style scoped>\n",
              "    .dataframe tbody tr th:only-of-type {\n",
              "        vertical-align: middle;\n",
              "    }\n",
              "\n",
              "    .dataframe tbody tr th {\n",
              "        vertical-align: top;\n",
              "    }\n",
              "\n",
              "    .dataframe thead th {\n",
              "        text-align: right;\n",
              "    }\n",
              "</style>\n",
              "<table border=\"1\" class=\"dataframe\">\n",
              "  <thead>\n",
              "    <tr style=\"text-align: right;\">\n",
              "      <th></th>\n",
              "      <th>cough</th>\n",
              "      <th>fever</th>\n",
              "      <th>sore_throat</th>\n",
              "      <th>shortness_of_breath</th>\n",
              "      <th>head_ache</th>\n",
              "      <th>age_60_and_above</th>\n",
              "      <th>gender</th>\n",
              "      <th>asthma</th>\n",
              "      <th>label</th>\n",
              "    </tr>\n",
              "  </thead>\n",
              "  <tbody>\n",
              "    <tr>\n",
              "      <th>59</th>\n",
              "      <td>1</td>\n",
              "      <td>1</td>\n",
              "      <td>0</td>\n",
              "      <td>0</td>\n",
              "      <td>1</td>\n",
              "      <td>0</td>\n",
              "      <td>0</td>\n",
              "      <td>0</td>\n",
              "      <td>1</td>\n",
              "    </tr>\n",
              "    <tr>\n",
              "      <th>66</th>\n",
              "      <td>1</td>\n",
              "      <td>1</td>\n",
              "      <td>0</td>\n",
              "      <td>0</td>\n",
              "      <td>0</td>\n",
              "      <td>0</td>\n",
              "      <td>0</td>\n",
              "      <td>0</td>\n",
              "      <td>1</td>\n",
              "    </tr>\n",
              "    <tr>\n",
              "      <th>71</th>\n",
              "      <td>1</td>\n",
              "      <td>0</td>\n",
              "      <td>1</td>\n",
              "      <td>0</td>\n",
              "      <td>1</td>\n",
              "      <td>0</td>\n",
              "      <td>0</td>\n",
              "      <td>0</td>\n",
              "      <td>1</td>\n",
              "    </tr>\n",
              "    <tr>\n",
              "      <th>134</th>\n",
              "      <td>0</td>\n",
              "      <td>0</td>\n",
              "      <td>1</td>\n",
              "      <td>0</td>\n",
              "      <td>0</td>\n",
              "      <td>0</td>\n",
              "      <td>0</td>\n",
              "      <td>0</td>\n",
              "      <td>1</td>\n",
              "    </tr>\n",
              "    <tr>\n",
              "      <th>190</th>\n",
              "      <td>0</td>\n",
              "      <td>0</td>\n",
              "      <td>1</td>\n",
              "      <td>0</td>\n",
              "      <td>1</td>\n",
              "      <td>0</td>\n",
              "      <td>0</td>\n",
              "      <td>0</td>\n",
              "      <td>1</td>\n",
              "    </tr>\n",
              "    <tr>\n",
              "      <th>...</th>\n",
              "      <td>...</td>\n",
              "      <td>...</td>\n",
              "      <td>...</td>\n",
              "      <td>...</td>\n",
              "      <td>...</td>\n",
              "      <td>...</td>\n",
              "      <td>...</td>\n",
              "      <td>...</td>\n",
              "      <td>...</td>\n",
              "    </tr>\n",
              "    <tr>\n",
              "      <th>65635</th>\n",
              "      <td>1</td>\n",
              "      <td>0</td>\n",
              "      <td>1</td>\n",
              "      <td>0</td>\n",
              "      <td>1</td>\n",
              "      <td>0</td>\n",
              "      <td>0</td>\n",
              "      <td>0</td>\n",
              "      <td>0</td>\n",
              "    </tr>\n",
              "    <tr>\n",
              "      <th>33908</th>\n",
              "      <td>1</td>\n",
              "      <td>1</td>\n",
              "      <td>1</td>\n",
              "      <td>0</td>\n",
              "      <td>0</td>\n",
              "      <td>0</td>\n",
              "      <td>0</td>\n",
              "      <td>0</td>\n",
              "      <td>0</td>\n",
              "    </tr>\n",
              "    <tr>\n",
              "      <th>67012</th>\n",
              "      <td>1</td>\n",
              "      <td>0</td>\n",
              "      <td>1</td>\n",
              "      <td>0</td>\n",
              "      <td>0</td>\n",
              "      <td>0</td>\n",
              "      <td>0</td>\n",
              "      <td>0</td>\n",
              "      <td>0</td>\n",
              "    </tr>\n",
              "    <tr>\n",
              "      <th>1975</th>\n",
              "      <td>1</td>\n",
              "      <td>0</td>\n",
              "      <td>0</td>\n",
              "      <td>0</td>\n",
              "      <td>0</td>\n",
              "      <td>0</td>\n",
              "      <td>0</td>\n",
              "      <td>0</td>\n",
              "      <td>0</td>\n",
              "    </tr>\n",
              "    <tr>\n",
              "      <th>13026</th>\n",
              "      <td>1</td>\n",
              "      <td>1</td>\n",
              "      <td>0</td>\n",
              "      <td>0</td>\n",
              "      <td>0</td>\n",
              "      <td>0</td>\n",
              "      <td>0</td>\n",
              "      <td>0</td>\n",
              "      <td>0</td>\n",
              "    </tr>\n",
              "  </tbody>\n",
              "</table>\n",
              "<p>8700 rows × 9 columns</p>\n",
              "</div>"
            ],
            "text/plain": [
              "       cough  fever  sore_throat  ...  gender  asthma  label\n",
              "59         1      1            0  ...       0       0      1\n",
              "66         1      1            0  ...       0       0      1\n",
              "71         1      0            1  ...       0       0      1\n",
              "134        0      0            1  ...       0       0      1\n",
              "190        0      0            1  ...       0       0      1\n",
              "...      ...    ...          ...  ...     ...     ...    ...\n",
              "65635      1      0            1  ...       0       0      0\n",
              "33908      1      1            1  ...       0       0      0\n",
              "67012      1      0            1  ...       0       0      0\n",
              "1975       1      0            0  ...       0       0      0\n",
              "13026      1      1            0  ...       0       0      0\n",
              "\n",
              "[8700 rows x 9 columns]"
            ]
          },
          "metadata": {
            "tags": []
          },
          "execution_count": 7
        }
      ]
    },
    {
      "cell_type": "code",
      "metadata": {
        "id": "ThmiJVgdnxPW"
      },
      "source": [
        "df_balanced.sample(frac=1)\n",
        "df.to_csv('SampleDataPP.csv', index=False,header=False)"
      ],
      "execution_count": null,
      "outputs": []
    },
    {
      "cell_type": "code",
      "metadata": {
        "colab": {
          "base_uri": "https://localhost:8080/"
        },
        "id": "-0LzBLeH3TrU",
        "outputId": "e567beef-bacb-4129-b575-4e9fce606736"
      },
      "source": [
        "df_balanced.sample(frac=1)\n",
        "from sklearn.model_selection import train_test_split\n",
        "\n",
        "y = df_balanced.loc[:,'label'].values\n",
        "del df_balanced['label']\n",
        "y\n",
        "\n"
      ],
      "execution_count": null,
      "outputs": [
        {
          "output_type": "execute_result",
          "data": {
            "text/plain": [
              "array([ 1,  1,  1, ..., -1, -1, -1])"
            ]
          },
          "metadata": {
            "tags": []
          },
          "execution_count": 49
        }
      ]
    },
    {
      "cell_type": "code",
      "metadata": {
        "colab": {
          "base_uri": "https://localhost:8080/"
        },
        "id": "wT0Xpyum5STO",
        "outputId": "e4d6ec14-1f4c-4bda-d6eb-baa18491b2fa"
      },
      "source": [
        "x_train, x_test, y_train, y_test = train_test_split(df_balanced, y, test_size = 0.2)\n",
        "print(x_train)\n",
        "print(x_test)\n",
        "print(len(y_train))\n",
        "print(len(y_test))"
      ],
      "execution_count": null,
      "outputs": [
        {
          "output_type": "stream",
          "text": [
            "       cough  fever  sore_throat  ...  age_60_and_above  gender  asthma\n",
            "73092      0      0            0  ...                 1      -1       0\n",
            "37318      0      0            1  ...                -1      -1       0\n",
            "40789      0      0            0  ...                -1      -1       0\n",
            "12476      0      1            0  ...                -1       1       0\n",
            "37952      1      0            0  ...                -1      -1       0\n",
            "...      ...    ...          ...  ...               ...     ...     ...\n",
            "50185      1      0            0  ...                -1      -1       0\n",
            "13809      1      0            0  ...                -1       1       0\n",
            "60922      1      0            0  ...                -1      -1       0\n",
            "30962      1      0            0  ...                 1       1       0\n",
            "59826      0      0            0  ...                -1      -1       0\n",
            "\n",
            "[6744 rows x 9 columns]\n",
            "       cough  fever  sore_throat  ...  age_60_and_above  gender  asthma\n",
            "48067      0      0            0  ...                -1      -1       0\n",
            "7136       0      1            0  ...                -1       1       0\n",
            "71964      0      0            0  ...                 1      -1       0\n",
            "59712      1      0            0  ...                -1      -1       0\n",
            "24759      0      1            0  ...                -1       1       0\n",
            "...      ...    ...          ...  ...               ...     ...     ...\n",
            "18960      1      0            0  ...                -1       1       0\n",
            "19182      1      0            0  ...                -1       1       0\n",
            "9972       0      1            1  ...                -1       1       0\n",
            "26159      0      0            0  ...                -1       1       0\n",
            "65073      0      0            0  ...                -1      -1       0\n",
            "\n",
            "[1686 rows x 9 columns]\n",
            "6744\n",
            "1686\n"
          ],
          "name": "stdout"
        }
      ]
    },
    {
      "cell_type": "markdown",
      "metadata": {
        "id": "9HbBKIFH_Tk7"
      },
      "source": [
        "## SVM Model"
      ]
    },
    {
      "cell_type": "code",
      "metadata": {
        "colab": {
          "base_uri": "https://localhost:8080/"
        },
        "id": "NpY2BATE5gJU",
        "outputId": "7b80022d-08cc-4955-8b66-8a0003cbabcc"
      },
      "source": [
        "from sklearn import svm\n",
        "clf = svm.SVC()\n",
        "clf.fit(x_train,y_train)"
      ],
      "execution_count": null,
      "outputs": [
        {
          "output_type": "execute_result",
          "data": {
            "text/plain": [
              "SVC(C=1.0, break_ties=False, cache_size=200, class_weight=None, coef0=0.0,\n",
              "    decision_function_shape='ovr', degree=3, gamma='scale', kernel='rbf',\n",
              "    max_iter=-1, probability=False, random_state=None, shrinking=True,\n",
              "    tol=0.001, verbose=False)"
            ]
          },
          "metadata": {
            "tags": []
          },
          "execution_count": 51
        }
      ]
    },
    {
      "cell_type": "code",
      "metadata": {
        "colab": {
          "base_uri": "https://localhost:8080/"
        },
        "id": "_xJMjsA76QAp",
        "outputId": "e7d3ecbb-43be-4dda-c611-3e702079b460"
      },
      "source": [
        "from sklearn.metrics import confusion_matrix\n",
        "from sklearn.metrics import classification_report, accuracy_score, precision_score, recall_score\n",
        "pred_values = clf.predict(x_test)\n",
        "\n",
        "print(confusion_matrix(y_test, pred_values))\n",
        "print('Accuracy: ',accuracy_score(y_test, pred_values))\n",
        "print('precision: ', precision_score(y_test, pred_values))\n",
        "print('Recall: ',recall_score(y_test, pred_values))"
      ],
      "execution_count": null,
      "outputs": [
        {
          "output_type": "stream",
          "text": [
            "[[708 139]\n",
            " [468 371]]\n",
            "Accuracy:  0.6399762752075919\n",
            "precision:  0.7274509803921568\n",
            "Recall:  0.44219308700834326\n"
          ],
          "name": "stdout"
        }
      ]
    },
    {
      "cell_type": "markdown",
      "metadata": {
        "id": "BLdR6mwF_X2C"
      },
      "source": [
        "##KNN Model"
      ]
    },
    {
      "cell_type": "code",
      "metadata": {
        "colab": {
          "base_uri": "https://localhost:8080/"
        },
        "id": "DsqPeYFm_azV",
        "outputId": "a110bc96-114d-4b17-86b1-eeb2588ee8b8"
      },
      "source": [
        "from sklearn.neighbors import KNeighborsClassifier\n",
        "neigh = KNeighborsClassifier(n_neighbors=11)\n",
        "neigh.fit(x_train,y_train)"
      ],
      "execution_count": null,
      "outputs": [
        {
          "output_type": "execute_result",
          "data": {
            "text/plain": [
              "KNeighborsClassifier(algorithm='auto', leaf_size=30, metric='minkowski',\n",
              "                     metric_params=None, n_jobs=None, n_neighbors=11, p=2,\n",
              "                     weights='uniform')"
            ]
          },
          "metadata": {
            "tags": []
          },
          "execution_count": 74
        }
      ]
    },
    {
      "cell_type": "code",
      "metadata": {
        "colab": {
          "base_uri": "https://localhost:8080/"
        },
        "id": "CR7qhqJi_sNH",
        "outputId": "a618f8b9-2668-4b8d-b441-f33ef024e047"
      },
      "source": [
        "pred_values = neigh.predict(x_test)\n",
        "\n",
        "print(confusion_matrix(y_test, pred_values))\n",
        "print('Accuracy: ',accuracy_score(y_test, pred_values))\n",
        "print('precision: ', precision_score(y_test, pred_values))\n",
        "print('Recall: ',recall_score(y_test, pred_values))"
      ],
      "execution_count": null,
      "outputs": [
        {
          "output_type": "stream",
          "text": [
            "[[547 300]\n",
            " [359 480]]\n",
            "Accuracy:  0.6091340450771056\n",
            "precision:  0.6153846153846154\n",
            "Recall:  0.5721096543504172\n"
          ],
          "name": "stdout"
        }
      ]
    },
    {
      "cell_type": "markdown",
      "metadata": {
        "id": "rw3ybpKmCWSP"
      },
      "source": [
        "##Decision Tree Classifier"
      ]
    },
    {
      "cell_type": "code",
      "metadata": {
        "id": "VlXpAdMECbA_"
      },
      "source": [
        "from sklearn import tree\n",
        "clf_tree = tree.DecisionTreeClassifier()\n",
        "clf_tree = clf.fit(x_train,y_train)"
      ],
      "execution_count": null,
      "outputs": []
    },
    {
      "cell_type": "code",
      "metadata": {
        "colab": {
          "base_uri": "https://localhost:8080/"
        },
        "id": "fBwdaD8VClQA",
        "outputId": "31949f43-b632-4de4-a98c-c7d3cdd8682b"
      },
      "source": [
        "pred_values = clf_tree.predict(x_test)\n",
        "\n",
        "print(confusion_matrix(y_test, pred_values))\n",
        "print('Accuracy: ',accuracy_score(y_test, pred_values))\n",
        "print('precision: ', precision_score(y_test, pred_values))\n",
        "print('Recall: ',recall_score(y_test, pred_values))"
      ],
      "execution_count": null,
      "outputs": [
        {
          "output_type": "stream",
          "text": [
            "[[708 139]\n",
            " [468 371]]\n",
            "Accuracy:  0.6399762752075919\n",
            "precision:  0.7274509803921568\n",
            "Recall:  0.44219308700834326\n"
          ],
          "name": "stdout"
        }
      ]
    },
    {
      "cell_type": "markdown",
      "metadata": {
        "id": "xtEyicwoC9ww"
      },
      "source": [
        "##Neural Network"
      ]
    },
    {
      "cell_type": "code",
      "metadata": {
        "id": "Y9gjlZBSDBsL"
      },
      "source": [
        "from sklearn.neural_network import MLPClassifier\n",
        "nn_clf = MLPClassifier(random_state=1)\n",
        "nn_clf.fit(x_train,y_train)"
      ],
      "execution_count": null,
      "outputs": []
    },
    {
      "cell_type": "code",
      "metadata": {
        "colab": {
          "base_uri": "https://localhost:8080/"
        },
        "id": "9DYZf-FaDcCc",
        "outputId": "9fbc8936-2f5b-4bfa-f9ba-eba1ddb0bb1c"
      },
      "source": [
        "pred_values = nn_clf.predict(x_test)\n",
        "\n",
        "print(confusion_matrix(y_test, pred_values))\n",
        "print('Accuracy: ',accuracy_score(y_test, pred_values))\n",
        "print('precision: ', precision_score(y_test, pred_values))\n",
        "print('Recall: ',recall_score(y_test, pred_values))"
      ],
      "execution_count": null,
      "outputs": [
        {
          "output_type": "stream",
          "text": [
            "[[696 151]\n",
            " [471 368]]\n",
            "Accuracy:  0.631079478054567\n",
            "precision:  0.7090558766859345\n",
            "Recall:  0.43861740166865315\n"
          ],
          "name": "stdout"
        }
      ]
    },
    {
      "cell_type": "markdown",
      "metadata": {
        "id": "qoIte97_gilR"
      },
      "source": [
        "##Keras Learning"
      ]
    },
    {
      "cell_type": "code",
      "metadata": {
        "id": "3PtmITjJh6d7"
      },
      "source": [
        "from numpy import loadtxt\n",
        "from keras.models import Sequential\n",
        "from keras.layers import Dense\n",
        "from numpy import loadtxt"
      ],
      "execution_count": null,
      "outputs": []
    },
    {
      "cell_type": "code",
      "metadata": {
        "id": "OjuUAnKPgno3",
        "colab": {
          "base_uri": "https://localhost:8080/",
          "height": 464
        },
        "outputId": "1ff110b7-75e0-4381-87f2-48dfb5e47cd7"
      },
      "source": [
        "import csv\n",
        "import pandas as pd\n",
        "import numpy as np\n",
        "\n",
        "df = pd.read_csv (r'Sample Dataset.csv',index_col=False)\n",
        "df = df.dropna()\n",
        "df['label'] = 0\n",
        "df['label'] = np.where((df['lc28'] == 1) | (df['lc56'] == 1), 1,0)\n",
        "del df['lc28']\n",
        "del df['lc56']\n",
        "df['gender'] = np.where((df['gender'] == 'male'), 1,0)\n",
        "df['age_60_and_above'] = np.where((df['age_60_and_above'] == 'Yes'), 1,0)\n",
        "df_positive = df[df.label == 1]\n",
        "df_negative = df[df.label ==0]\n",
        "df_negative = df_negative.sample(n=(len(df_positive)))\n",
        "print(len(df_positive))\n",
        "print(len(df_negative))\n",
        "dfs = [df_positive,df_negative]\n",
        "df_balanced = pd.concat(dfs)\n",
        "del df_positive\n",
        "del df_negative\n",
        "df_balanced = df_balanced.sample(frac=1)\n",
        "df_balanced"
      ],
      "execution_count": null,
      "outputs": [
        {
          "output_type": "stream",
          "text": [
            "4350\n",
            "4350\n"
          ],
          "name": "stdout"
        },
        {
          "output_type": "execute_result",
          "data": {
            "text/html": [
              "<div>\n",
              "<style scoped>\n",
              "    .dataframe tbody tr th:only-of-type {\n",
              "        vertical-align: middle;\n",
              "    }\n",
              "\n",
              "    .dataframe tbody tr th {\n",
              "        vertical-align: top;\n",
              "    }\n",
              "\n",
              "    .dataframe thead th {\n",
              "        text-align: right;\n",
              "    }\n",
              "</style>\n",
              "<table border=\"1\" class=\"dataframe\">\n",
              "  <thead>\n",
              "    <tr style=\"text-align: right;\">\n",
              "      <th></th>\n",
              "      <th>cough</th>\n",
              "      <th>fever</th>\n",
              "      <th>sore_throat</th>\n",
              "      <th>shortness_of_breath</th>\n",
              "      <th>head_ache</th>\n",
              "      <th>age_60_and_above</th>\n",
              "      <th>gender</th>\n",
              "      <th>asthma</th>\n",
              "      <th>label</th>\n",
              "    </tr>\n",
              "  </thead>\n",
              "  <tbody>\n",
              "    <tr>\n",
              "      <th>5590</th>\n",
              "      <td>0</td>\n",
              "      <td>1</td>\n",
              "      <td>0</td>\n",
              "      <td>0</td>\n",
              "      <td>1</td>\n",
              "      <td>0</td>\n",
              "      <td>1</td>\n",
              "      <td>0</td>\n",
              "      <td>1</td>\n",
              "    </tr>\n",
              "    <tr>\n",
              "      <th>50031</th>\n",
              "      <td>0</td>\n",
              "      <td>0</td>\n",
              "      <td>1</td>\n",
              "      <td>0</td>\n",
              "      <td>1</td>\n",
              "      <td>0</td>\n",
              "      <td>0</td>\n",
              "      <td>0</td>\n",
              "      <td>1</td>\n",
              "    </tr>\n",
              "    <tr>\n",
              "      <th>66502</th>\n",
              "      <td>0</td>\n",
              "      <td>0</td>\n",
              "      <td>0</td>\n",
              "      <td>0</td>\n",
              "      <td>1</td>\n",
              "      <td>0</td>\n",
              "      <td>0</td>\n",
              "      <td>0</td>\n",
              "      <td>0</td>\n",
              "    </tr>\n",
              "    <tr>\n",
              "      <th>63336</th>\n",
              "      <td>1</td>\n",
              "      <td>0</td>\n",
              "      <td>0</td>\n",
              "      <td>0</td>\n",
              "      <td>0</td>\n",
              "      <td>0</td>\n",
              "      <td>0</td>\n",
              "      <td>0</td>\n",
              "      <td>1</td>\n",
              "    </tr>\n",
              "    <tr>\n",
              "      <th>50563</th>\n",
              "      <td>1</td>\n",
              "      <td>0</td>\n",
              "      <td>0</td>\n",
              "      <td>0</td>\n",
              "      <td>0</td>\n",
              "      <td>0</td>\n",
              "      <td>0</td>\n",
              "      <td>0</td>\n",
              "      <td>0</td>\n",
              "    </tr>\n",
              "    <tr>\n",
              "      <th>...</th>\n",
              "      <td>...</td>\n",
              "      <td>...</td>\n",
              "      <td>...</td>\n",
              "      <td>...</td>\n",
              "      <td>...</td>\n",
              "      <td>...</td>\n",
              "      <td>...</td>\n",
              "      <td>...</td>\n",
              "      <td>...</td>\n",
              "    </tr>\n",
              "    <tr>\n",
              "      <th>60222</th>\n",
              "      <td>1</td>\n",
              "      <td>0</td>\n",
              "      <td>0</td>\n",
              "      <td>0</td>\n",
              "      <td>0</td>\n",
              "      <td>0</td>\n",
              "      <td>0</td>\n",
              "      <td>0</td>\n",
              "      <td>1</td>\n",
              "    </tr>\n",
              "    <tr>\n",
              "      <th>73285</th>\n",
              "      <td>1</td>\n",
              "      <td>1</td>\n",
              "      <td>0</td>\n",
              "      <td>0</td>\n",
              "      <td>0</td>\n",
              "      <td>1</td>\n",
              "      <td>0</td>\n",
              "      <td>0</td>\n",
              "      <td>1</td>\n",
              "    </tr>\n",
              "    <tr>\n",
              "      <th>37633</th>\n",
              "      <td>1</td>\n",
              "      <td>1</td>\n",
              "      <td>0</td>\n",
              "      <td>1</td>\n",
              "      <td>0</td>\n",
              "      <td>0</td>\n",
              "      <td>0</td>\n",
              "      <td>0</td>\n",
              "      <td>0</td>\n",
              "    </tr>\n",
              "    <tr>\n",
              "      <th>6580</th>\n",
              "      <td>0</td>\n",
              "      <td>0</td>\n",
              "      <td>0</td>\n",
              "      <td>0</td>\n",
              "      <td>1</td>\n",
              "      <td>0</td>\n",
              "      <td>1</td>\n",
              "      <td>0</td>\n",
              "      <td>0</td>\n",
              "    </tr>\n",
              "    <tr>\n",
              "      <th>72962</th>\n",
              "      <td>0</td>\n",
              "      <td>0</td>\n",
              "      <td>0</td>\n",
              "      <td>1</td>\n",
              "      <td>0</td>\n",
              "      <td>1</td>\n",
              "      <td>0</td>\n",
              "      <td>0</td>\n",
              "      <td>1</td>\n",
              "    </tr>\n",
              "  </tbody>\n",
              "</table>\n",
              "<p>8700 rows × 9 columns</p>\n",
              "</div>"
            ],
            "text/plain": [
              "       cough  fever  sore_throat  ...  gender  asthma  label\n",
              "5590       0      1            0  ...       1       0      1\n",
              "50031      0      0            1  ...       0       0      1\n",
              "66502      0      0            0  ...       0       0      0\n",
              "63336      1      0            0  ...       0       0      1\n",
              "50563      1      0            0  ...       0       0      0\n",
              "...      ...    ...          ...  ...     ...     ...    ...\n",
              "60222      1      0            0  ...       0       0      1\n",
              "73285      1      1            0  ...       0       0      1\n",
              "37633      1      1            0  ...       0       0      0\n",
              "6580       0      0            0  ...       1       0      0\n",
              "72962      0      0            0  ...       0       0      1\n",
              "\n",
              "[8700 rows x 9 columns]"
            ]
          },
          "metadata": {
            "tags": []
          },
          "execution_count": 5
        }
      ]
    },
    {
      "cell_type": "code",
      "metadata": {
        "colab": {
          "base_uri": "https://localhost:8080/"
        },
        "id": "O5Lbe8WrPTvV",
        "outputId": "4e8c9c7e-0454-4f25-cf45-1672704a4145"
      },
      "source": [
        "msk = np.random.rand(len(df_balanced)) < 0.9\n",
        "\n",
        "df_test = df_balanced[~msk]\n",
        "df_balanced = df_balanced[msk]\n",
        "\n",
        "print(len(df_balanced))\n",
        "print(len(df_test))"
      ],
      "execution_count": null,
      "outputs": [
        {
          "output_type": "stream",
          "text": [
            "7818\n",
            "882\n"
          ],
          "name": "stdout"
        }
      ]
    },
    {
      "cell_type": "code",
      "metadata": {
        "colab": {
          "base_uri": "https://localhost:8080/"
        },
        "id": "PzrbHTknPemz",
        "outputId": "96268d68-d03e-423b-abab-88957ba82cc5"
      },
      "source": [
        "x_test = df_test.values[:,0:8]\n",
        "y_test = df_test.values[:,8]\n",
        "x_train = df_balanced.values[:,0:8]\n",
        "y_train = df_balanced.values[:,8]\n",
        "print(len(x_test))\n",
        "print(len(y_test))\n",
        "print(len(x_train))\n",
        "print(len(y_train))"
      ],
      "execution_count": null,
      "outputs": [
        {
          "output_type": "stream",
          "text": [
            "882\n",
            "882\n",
            "7818\n",
            "7818\n"
          ],
          "name": "stdout"
        }
      ]
    },
    {
      "cell_type": "code",
      "metadata": {
        "colab": {
          "base_uri": "https://localhost:8080/"
        },
        "id": "wBs2hviYJKFq",
        "outputId": "b9ed7058-d875-49e1-92a8-b09057613880"
      },
      "source": [
        "df_balanced.dtypes"
      ],
      "execution_count": null,
      "outputs": [
        {
          "output_type": "execute_result",
          "data": {
            "text/plain": [
              "cough                  int64\n",
              "fever                  int64\n",
              "sore_throat            int64\n",
              "shortness_of_breath    int64\n",
              "head_ache              int64\n",
              "age_60_and_above       int64\n",
              "gender                 int64\n",
              "asthma                 int64\n",
              "label                  int64\n",
              "dtype: object"
            ]
          },
          "metadata": {
            "tags": []
          },
          "execution_count": 14
        }
      ]
    },
    {
      "cell_type": "code",
      "metadata": {
        "id": "L-GRRAG0jecW"
      },
      "source": [
        "model = Sequential()\n",
        "model.add(Dense(12, input_dim=8, activation='relu'))\n",
        "model.add(Dense(8,activation='relu'))\n",
        "model.add(Dense(1,activation='sigmoid'))"
      ],
      "execution_count": null,
      "outputs": []
    },
    {
      "cell_type": "code",
      "metadata": {
        "id": "uqiV5LjAkaV2"
      },
      "source": [
        "model.compile(loss='binary_crossentropy', optimizer='adam', metrics=['accuracy'])"
      ],
      "execution_count": null,
      "outputs": []
    },
    {
      "cell_type": "code",
      "metadata": {
        "colab": {
          "base_uri": "https://localhost:8080/"
        },
        "id": "N32A_rInkjEC",
        "outputId": "437de95e-e201-4b76-8d2c-59fd45bc94a7"
      },
      "source": [
        "model.fit(x_train, y_train, epochs=200, batch_size=100)"
      ],
      "execution_count": null,
      "outputs": [
        {
          "output_type": "stream",
          "text": [
            "Epoch 1/200\n",
            "79/79 [==============================] - 1s 1ms/step - loss: 0.7136 - accuracy: 0.4978\n",
            "Epoch 2/200\n",
            "79/79 [==============================] - 0s 1ms/step - loss: 0.6822 - accuracy: 0.5331\n",
            "Epoch 3/200\n",
            "79/79 [==============================] - 0s 1ms/step - loss: 0.6656 - accuracy: 0.5996\n",
            "Epoch 4/200\n",
            "79/79 [==============================] - 0s 1ms/step - loss: 0.6552 - accuracy: 0.6189\n",
            "Epoch 5/200\n",
            "79/79 [==============================] - 0s 1ms/step - loss: 0.6440 - accuracy: 0.6372\n",
            "Epoch 6/200\n",
            "79/79 [==============================] - 0s 1ms/step - loss: 0.6451 - accuracy: 0.6320\n",
            "Epoch 7/200\n",
            "79/79 [==============================] - 0s 1ms/step - loss: 0.6465 - accuracy: 0.6297\n",
            "Epoch 8/200\n",
            "79/79 [==============================] - 0s 1ms/step - loss: 0.6495 - accuracy: 0.6250\n",
            "Epoch 9/200\n",
            "79/79 [==============================] - 0s 1ms/step - loss: 0.6428 - accuracy: 0.6363\n",
            "Epoch 10/200\n",
            "79/79 [==============================] - 0s 1ms/step - loss: 0.6509 - accuracy: 0.6283\n",
            "Epoch 11/200\n",
            "79/79 [==============================] - 0s 1ms/step - loss: 0.6444 - accuracy: 0.6319\n",
            "Epoch 12/200\n",
            "79/79 [==============================] - 0s 1ms/step - loss: 0.6460 - accuracy: 0.6309\n",
            "Epoch 13/200\n",
            "79/79 [==============================] - 0s 1ms/step - loss: 0.6418 - accuracy: 0.6346\n",
            "Epoch 14/200\n",
            "79/79 [==============================] - 0s 1ms/step - loss: 0.6433 - accuracy: 0.6320\n",
            "Epoch 15/200\n",
            "79/79 [==============================] - 0s 1ms/step - loss: 0.6457 - accuracy: 0.6305\n",
            "Epoch 16/200\n",
            "79/79 [==============================] - 0s 1ms/step - loss: 0.6483 - accuracy: 0.6246\n",
            "Epoch 17/200\n",
            "79/79 [==============================] - 0s 1ms/step - loss: 0.6436 - accuracy: 0.6338\n",
            "Epoch 18/200\n",
            "79/79 [==============================] - 0s 1ms/step - loss: 0.6393 - accuracy: 0.6332\n",
            "Epoch 19/200\n",
            "79/79 [==============================] - 0s 1ms/step - loss: 0.6437 - accuracy: 0.6366\n",
            "Epoch 20/200\n",
            "79/79 [==============================] - 0s 1ms/step - loss: 0.6408 - accuracy: 0.6344\n",
            "Epoch 21/200\n",
            "79/79 [==============================] - 0s 1ms/step - loss: 0.6414 - accuracy: 0.6301\n",
            "Epoch 22/200\n",
            "79/79 [==============================] - 0s 1ms/step - loss: 0.6403 - accuracy: 0.6346\n",
            "Epoch 23/200\n",
            "79/79 [==============================] - 0s 1ms/step - loss: 0.6394 - accuracy: 0.6332\n",
            "Epoch 24/200\n",
            "79/79 [==============================] - 0s 1ms/step - loss: 0.6410 - accuracy: 0.6369\n",
            "Epoch 25/200\n",
            "79/79 [==============================] - 0s 1ms/step - loss: 0.6434 - accuracy: 0.6335\n",
            "Epoch 26/200\n",
            "79/79 [==============================] - 0s 1ms/step - loss: 0.6410 - accuracy: 0.6352\n",
            "Epoch 27/200\n",
            "79/79 [==============================] - 0s 1ms/step - loss: 0.6412 - accuracy: 0.6310\n",
            "Epoch 28/200\n",
            "79/79 [==============================] - 0s 1ms/step - loss: 0.6440 - accuracy: 0.6342\n",
            "Epoch 29/200\n",
            "79/79 [==============================] - 0s 1ms/step - loss: 0.6392 - accuracy: 0.6370\n",
            "Epoch 30/200\n",
            "79/79 [==============================] - 0s 1ms/step - loss: 0.6458 - accuracy: 0.6268\n",
            "Epoch 31/200\n",
            "79/79 [==============================] - 0s 1ms/step - loss: 0.6423 - accuracy: 0.6283\n",
            "Epoch 32/200\n",
            "79/79 [==============================] - 0s 1ms/step - loss: 0.6399 - accuracy: 0.6349\n",
            "Epoch 33/200\n",
            "79/79 [==============================] - 0s 1ms/step - loss: 0.6389 - accuracy: 0.6334\n",
            "Epoch 34/200\n",
            "79/79 [==============================] - 0s 1ms/step - loss: 0.6366 - accuracy: 0.6386\n",
            "Epoch 35/200\n",
            "79/79 [==============================] - 0s 1ms/step - loss: 0.6450 - accuracy: 0.6276\n",
            "Epoch 36/200\n",
            "79/79 [==============================] - 0s 1ms/step - loss: 0.6461 - accuracy: 0.6310\n",
            "Epoch 37/200\n",
            "79/79 [==============================] - 0s 1ms/step - loss: 0.6425 - accuracy: 0.6363\n",
            "Epoch 38/200\n",
            "79/79 [==============================] - 0s 1ms/step - loss: 0.6442 - accuracy: 0.6282\n",
            "Epoch 39/200\n",
            "79/79 [==============================] - 0s 1ms/step - loss: 0.6432 - accuracy: 0.6347\n",
            "Epoch 40/200\n",
            "79/79 [==============================] - 0s 1ms/step - loss: 0.6419 - accuracy: 0.6341\n",
            "Epoch 41/200\n",
            "79/79 [==============================] - 0s 1ms/step - loss: 0.6365 - accuracy: 0.6405\n",
            "Epoch 42/200\n",
            "79/79 [==============================] - 0s 1ms/step - loss: 0.6441 - accuracy: 0.6301\n",
            "Epoch 43/200\n",
            "79/79 [==============================] - 0s 1ms/step - loss: 0.6445 - accuracy: 0.6237\n",
            "Epoch 44/200\n",
            "79/79 [==============================] - 0s 1ms/step - loss: 0.6412 - accuracy: 0.6340\n",
            "Epoch 45/200\n",
            "79/79 [==============================] - 0s 1ms/step - loss: 0.6459 - accuracy: 0.6270\n",
            "Epoch 46/200\n",
            "79/79 [==============================] - 0s 1ms/step - loss: 0.6404 - accuracy: 0.6378\n",
            "Epoch 47/200\n",
            "79/79 [==============================] - 0s 1ms/step - loss: 0.6430 - accuracy: 0.6318\n",
            "Epoch 48/200\n",
            "79/79 [==============================] - 0s 1ms/step - loss: 0.6382 - accuracy: 0.6438\n",
            "Epoch 49/200\n",
            "79/79 [==============================] - 0s 1ms/step - loss: 0.6429 - accuracy: 0.6341\n",
            "Epoch 50/200\n",
            "79/79 [==============================] - 0s 1ms/step - loss: 0.6406 - accuracy: 0.6389\n",
            "Epoch 51/200\n",
            "79/79 [==============================] - 0s 1ms/step - loss: 0.6425 - accuracy: 0.6317\n",
            "Epoch 52/200\n",
            "79/79 [==============================] - 0s 1ms/step - loss: 0.6413 - accuracy: 0.6331\n",
            "Epoch 53/200\n",
            "79/79 [==============================] - 0s 1ms/step - loss: 0.6403 - accuracy: 0.6394\n",
            "Epoch 54/200\n",
            "79/79 [==============================] - 0s 1ms/step - loss: 0.6452 - accuracy: 0.6283\n",
            "Epoch 55/200\n",
            "79/79 [==============================] - 0s 1ms/step - loss: 0.6427 - accuracy: 0.6337\n",
            "Epoch 56/200\n",
            "79/79 [==============================] - 0s 1ms/step - loss: 0.6387 - accuracy: 0.6335\n",
            "Epoch 57/200\n",
            "79/79 [==============================] - 0s 1ms/step - loss: 0.6457 - accuracy: 0.6290\n",
            "Epoch 58/200\n",
            "79/79 [==============================] - 0s 1ms/step - loss: 0.6455 - accuracy: 0.6244\n",
            "Epoch 59/200\n",
            "79/79 [==============================] - 0s 1ms/step - loss: 0.6404 - accuracy: 0.6345\n",
            "Epoch 60/200\n",
            "79/79 [==============================] - 0s 1ms/step - loss: 0.6424 - accuracy: 0.6294\n",
            "Epoch 61/200\n",
            "79/79 [==============================] - 0s 1ms/step - loss: 0.6436 - accuracy: 0.6329\n",
            "Epoch 62/200\n",
            "79/79 [==============================] - 0s 1ms/step - loss: 0.6463 - accuracy: 0.6262\n",
            "Epoch 63/200\n",
            "79/79 [==============================] - 0s 1ms/step - loss: 0.6453 - accuracy: 0.6279\n",
            "Epoch 64/200\n",
            "79/79 [==============================] - 0s 1ms/step - loss: 0.6355 - accuracy: 0.6401\n",
            "Epoch 65/200\n",
            "79/79 [==============================] - 0s 1ms/step - loss: 0.6442 - accuracy: 0.6289\n",
            "Epoch 66/200\n",
            "79/79 [==============================] - 0s 1ms/step - loss: 0.6453 - accuracy: 0.6283\n",
            "Epoch 67/200\n",
            "79/79 [==============================] - 0s 1ms/step - loss: 0.6443 - accuracy: 0.6245\n",
            "Epoch 68/200\n",
            "79/79 [==============================] - 0s 1ms/step - loss: 0.6400 - accuracy: 0.6348\n",
            "Epoch 69/200\n",
            "79/79 [==============================] - 0s 1ms/step - loss: 0.6449 - accuracy: 0.6272\n",
            "Epoch 70/200\n",
            "79/79 [==============================] - 0s 1ms/step - loss: 0.6382 - accuracy: 0.6359\n",
            "Epoch 71/200\n",
            "79/79 [==============================] - 0s 1ms/step - loss: 0.6477 - accuracy: 0.6234\n",
            "Epoch 72/200\n",
            "79/79 [==============================] - 0s 1ms/step - loss: 0.6437 - accuracy: 0.6282\n",
            "Epoch 73/200\n",
            "79/79 [==============================] - 0s 1ms/step - loss: 0.6413 - accuracy: 0.6324\n",
            "Epoch 74/200\n",
            "79/79 [==============================] - 0s 1ms/step - loss: 0.6397 - accuracy: 0.6355\n",
            "Epoch 75/200\n",
            "79/79 [==============================] - 0s 1ms/step - loss: 0.6451 - accuracy: 0.6282\n",
            "Epoch 76/200\n",
            "79/79 [==============================] - 0s 1ms/step - loss: 0.6399 - accuracy: 0.6329\n",
            "Epoch 77/200\n",
            "79/79 [==============================] - 0s 1ms/step - loss: 0.6403 - accuracy: 0.6351\n",
            "Epoch 78/200\n",
            "79/79 [==============================] - 0s 1ms/step - loss: 0.6431 - accuracy: 0.6282\n",
            "Epoch 79/200\n",
            "79/79 [==============================] - 0s 1ms/step - loss: 0.6461 - accuracy: 0.6258\n",
            "Epoch 80/200\n",
            "79/79 [==============================] - 0s 1ms/step - loss: 0.6386 - accuracy: 0.6377\n",
            "Epoch 81/200\n",
            "79/79 [==============================] - 0s 1ms/step - loss: 0.6444 - accuracy: 0.6271\n",
            "Epoch 82/200\n",
            "79/79 [==============================] - 0s 1ms/step - loss: 0.6431 - accuracy: 0.6306\n",
            "Epoch 83/200\n",
            "79/79 [==============================] - 0s 1ms/step - loss: 0.6406 - accuracy: 0.6313\n",
            "Epoch 84/200\n",
            "79/79 [==============================] - 0s 1ms/step - loss: 0.6379 - accuracy: 0.6345\n",
            "Epoch 85/200\n",
            "79/79 [==============================] - 0s 1ms/step - loss: 0.6399 - accuracy: 0.6335\n",
            "Epoch 86/200\n",
            "79/79 [==============================] - 0s 1ms/step - loss: 0.6442 - accuracy: 0.6287\n",
            "Epoch 87/200\n",
            "79/79 [==============================] - 0s 1ms/step - loss: 0.6434 - accuracy: 0.6311\n",
            "Epoch 88/200\n",
            "79/79 [==============================] - 0s 1ms/step - loss: 0.6427 - accuracy: 0.6284\n",
            "Epoch 89/200\n",
            "79/79 [==============================] - 0s 1ms/step - loss: 0.6449 - accuracy: 0.6297\n",
            "Epoch 90/200\n",
            "79/79 [==============================] - 0s 1ms/step - loss: 0.6447 - accuracy: 0.6257\n",
            "Epoch 91/200\n",
            "79/79 [==============================] - 0s 1ms/step - loss: 0.6408 - accuracy: 0.6353\n",
            "Epoch 92/200\n",
            "79/79 [==============================] - 0s 1ms/step - loss: 0.6480 - accuracy: 0.6276\n",
            "Epoch 93/200\n",
            "79/79 [==============================] - 0s 1ms/step - loss: 0.6435 - accuracy: 0.6347\n",
            "Epoch 94/200\n",
            "79/79 [==============================] - 0s 1ms/step - loss: 0.6387 - accuracy: 0.6365\n",
            "Epoch 95/200\n",
            "79/79 [==============================] - 0s 1ms/step - loss: 0.6419 - accuracy: 0.6340\n",
            "Epoch 96/200\n",
            "79/79 [==============================] - 0s 1ms/step - loss: 0.6429 - accuracy: 0.6327\n",
            "Epoch 97/200\n",
            "79/79 [==============================] - 0s 1ms/step - loss: 0.6432 - accuracy: 0.6295\n",
            "Epoch 98/200\n",
            "79/79 [==============================] - 0s 2ms/step - loss: 0.6389 - accuracy: 0.6357\n",
            "Epoch 99/200\n",
            "79/79 [==============================] - 0s 1ms/step - loss: 0.6422 - accuracy: 0.6313\n",
            "Epoch 100/200\n",
            "79/79 [==============================] - 0s 1ms/step - loss: 0.6398 - accuracy: 0.6379\n",
            "Epoch 101/200\n",
            "79/79 [==============================] - 0s 1ms/step - loss: 0.6450 - accuracy: 0.6340\n",
            "Epoch 102/200\n",
            "79/79 [==============================] - 0s 1ms/step - loss: 0.6453 - accuracy: 0.6259\n",
            "Epoch 103/200\n",
            "79/79 [==============================] - 0s 1ms/step - loss: 0.6431 - accuracy: 0.6330\n",
            "Epoch 104/200\n",
            "79/79 [==============================] - 0s 1ms/step - loss: 0.6367 - accuracy: 0.6450\n",
            "Epoch 105/200\n",
            "79/79 [==============================] - 0s 1ms/step - loss: 0.6396 - accuracy: 0.6354\n",
            "Epoch 106/200\n",
            "79/79 [==============================] - 0s 1ms/step - loss: 0.6422 - accuracy: 0.6332\n",
            "Epoch 107/200\n",
            "79/79 [==============================] - 0s 1ms/step - loss: 0.6403 - accuracy: 0.6327\n",
            "Epoch 108/200\n",
            "79/79 [==============================] - 0s 1ms/step - loss: 0.6459 - accuracy: 0.6251\n",
            "Epoch 109/200\n",
            "79/79 [==============================] - 0s 1ms/step - loss: 0.6431 - accuracy: 0.6298\n",
            "Epoch 110/200\n",
            "79/79 [==============================] - 0s 1ms/step - loss: 0.6443 - accuracy: 0.6285\n",
            "Epoch 111/200\n",
            "79/79 [==============================] - 0s 1ms/step - loss: 0.6378 - accuracy: 0.6401\n",
            "Epoch 112/200\n",
            "79/79 [==============================] - 0s 1ms/step - loss: 0.6453 - accuracy: 0.6233\n",
            "Epoch 113/200\n",
            "79/79 [==============================] - 0s 1ms/step - loss: 0.6397 - accuracy: 0.6334\n",
            "Epoch 114/200\n",
            "79/79 [==============================] - 0s 1ms/step - loss: 0.6403 - accuracy: 0.6342\n",
            "Epoch 115/200\n",
            "79/79 [==============================] - 0s 1ms/step - loss: 0.6440 - accuracy: 0.6301\n",
            "Epoch 116/200\n",
            "79/79 [==============================] - 0s 1ms/step - loss: 0.6442 - accuracy: 0.6300\n",
            "Epoch 117/200\n",
            "79/79 [==============================] - 0s 1ms/step - loss: 0.6400 - accuracy: 0.6297\n",
            "Epoch 118/200\n",
            "79/79 [==============================] - 0s 1ms/step - loss: 0.6429 - accuracy: 0.6312\n",
            "Epoch 119/200\n",
            "79/79 [==============================] - 0s 1ms/step - loss: 0.6395 - accuracy: 0.6404\n",
            "Epoch 120/200\n",
            "79/79 [==============================] - 0s 1ms/step - loss: 0.6474 - accuracy: 0.6265\n",
            "Epoch 121/200\n",
            "79/79 [==============================] - 0s 1ms/step - loss: 0.6409 - accuracy: 0.6342\n",
            "Epoch 122/200\n",
            "79/79 [==============================] - 0s 1ms/step - loss: 0.6378 - accuracy: 0.6377\n",
            "Epoch 123/200\n",
            "79/79 [==============================] - 0s 1ms/step - loss: 0.6358 - accuracy: 0.6413\n",
            "Epoch 124/200\n",
            "79/79 [==============================] - 0s 1ms/step - loss: 0.6481 - accuracy: 0.6243\n",
            "Epoch 125/200\n",
            "79/79 [==============================] - 0s 1ms/step - loss: 0.6349 - accuracy: 0.6403\n",
            "Epoch 126/200\n",
            "79/79 [==============================] - 0s 1ms/step - loss: 0.6473 - accuracy: 0.6272\n",
            "Epoch 127/200\n",
            "79/79 [==============================] - 0s 1ms/step - loss: 0.6458 - accuracy: 0.6229\n",
            "Epoch 128/200\n",
            "79/79 [==============================] - 0s 1ms/step - loss: 0.6405 - accuracy: 0.6354\n",
            "Epoch 129/200\n",
            "79/79 [==============================] - 0s 1ms/step - loss: 0.6418 - accuracy: 0.6351\n",
            "Epoch 130/200\n",
            "79/79 [==============================] - 0s 1ms/step - loss: 0.6396 - accuracy: 0.6384\n",
            "Epoch 131/200\n",
            "79/79 [==============================] - 0s 1ms/step - loss: 0.6457 - accuracy: 0.6254\n",
            "Epoch 132/200\n",
            "79/79 [==============================] - 0s 1ms/step - loss: 0.6428 - accuracy: 0.6284\n",
            "Epoch 133/200\n",
            "79/79 [==============================] - 0s 1ms/step - loss: 0.6459 - accuracy: 0.6298\n",
            "Epoch 134/200\n",
            "79/79 [==============================] - 0s 1ms/step - loss: 0.6427 - accuracy: 0.6302\n",
            "Epoch 135/200\n",
            "79/79 [==============================] - 0s 1ms/step - loss: 0.6318 - accuracy: 0.6474\n",
            "Epoch 136/200\n",
            "79/79 [==============================] - 0s 1ms/step - loss: 0.6342 - accuracy: 0.6446\n",
            "Epoch 137/200\n",
            "79/79 [==============================] - 0s 1ms/step - loss: 0.6363 - accuracy: 0.6413\n",
            "Epoch 138/200\n",
            "79/79 [==============================] - 0s 1ms/step - loss: 0.6352 - accuracy: 0.6454\n",
            "Epoch 139/200\n",
            "79/79 [==============================] - 0s 1ms/step - loss: 0.6461 - accuracy: 0.6298\n",
            "Epoch 140/200\n",
            "79/79 [==============================] - 0s 1ms/step - loss: 0.6399 - accuracy: 0.6333\n",
            "Epoch 141/200\n",
            "79/79 [==============================] - 0s 1ms/step - loss: 0.6406 - accuracy: 0.6287\n",
            "Epoch 142/200\n",
            "79/79 [==============================] - 0s 1ms/step - loss: 0.6455 - accuracy: 0.6308\n",
            "Epoch 143/200\n",
            "79/79 [==============================] - 0s 1ms/step - loss: 0.6417 - accuracy: 0.6333\n",
            "Epoch 144/200\n",
            "79/79 [==============================] - 0s 1ms/step - loss: 0.6459 - accuracy: 0.6284\n",
            "Epoch 145/200\n",
            "79/79 [==============================] - 0s 1ms/step - loss: 0.6402 - accuracy: 0.6405\n",
            "Epoch 146/200\n",
            "79/79 [==============================] - 0s 2ms/step - loss: 0.6438 - accuracy: 0.6303\n",
            "Epoch 147/200\n",
            "79/79 [==============================] - 0s 1ms/step - loss: 0.6387 - accuracy: 0.6346\n",
            "Epoch 148/200\n",
            "79/79 [==============================] - 0s 1ms/step - loss: 0.6432 - accuracy: 0.6302\n",
            "Epoch 149/200\n",
            "79/79 [==============================] - 0s 1ms/step - loss: 0.6456 - accuracy: 0.6239\n",
            "Epoch 150/200\n",
            "79/79 [==============================] - 0s 1ms/step - loss: 0.6443 - accuracy: 0.6318\n",
            "Epoch 151/200\n",
            "79/79 [==============================] - 0s 1ms/step - loss: 0.6365 - accuracy: 0.6396\n",
            "Epoch 152/200\n",
            "79/79 [==============================] - 0s 1ms/step - loss: 0.6380 - accuracy: 0.6367\n",
            "Epoch 153/200\n",
            "79/79 [==============================] - 0s 1ms/step - loss: 0.6442 - accuracy: 0.6265\n",
            "Epoch 154/200\n",
            "79/79 [==============================] - 0s 1ms/step - loss: 0.6403 - accuracy: 0.6309\n",
            "Epoch 155/200\n",
            "79/79 [==============================] - 0s 1ms/step - loss: 0.6365 - accuracy: 0.6359\n",
            "Epoch 156/200\n",
            "79/79 [==============================] - 0s 1ms/step - loss: 0.6405 - accuracy: 0.6317\n",
            "Epoch 157/200\n",
            "79/79 [==============================] - 0s 1ms/step - loss: 0.6393 - accuracy: 0.6369\n",
            "Epoch 158/200\n",
            "79/79 [==============================] - 0s 1ms/step - loss: 0.6456 - accuracy: 0.6261\n",
            "Epoch 159/200\n",
            "79/79 [==============================] - 0s 1ms/step - loss: 0.6435 - accuracy: 0.6295\n",
            "Epoch 160/200\n",
            "79/79 [==============================] - 0s 1ms/step - loss: 0.6431 - accuracy: 0.6231\n",
            "Epoch 161/200\n",
            "79/79 [==============================] - 0s 1ms/step - loss: 0.6421 - accuracy: 0.6319\n",
            "Epoch 162/200\n",
            "79/79 [==============================] - 0s 1ms/step - loss: 0.6419 - accuracy: 0.6343\n",
            "Epoch 163/200\n",
            "79/79 [==============================] - 0s 1ms/step - loss: 0.6375 - accuracy: 0.6397\n",
            "Epoch 164/200\n",
            "79/79 [==============================] - 0s 1ms/step - loss: 0.6402 - accuracy: 0.6353\n",
            "Epoch 165/200\n",
            "79/79 [==============================] - 0s 2ms/step - loss: 0.6447 - accuracy: 0.6256\n",
            "Epoch 166/200\n",
            "79/79 [==============================] - 0s 1ms/step - loss: 0.6447 - accuracy: 0.6266\n",
            "Epoch 167/200\n",
            "79/79 [==============================] - 0s 1ms/step - loss: 0.6485 - accuracy: 0.6263\n",
            "Epoch 168/200\n",
            "79/79 [==============================] - 0s 1ms/step - loss: 0.6437 - accuracy: 0.6314\n",
            "Epoch 169/200\n",
            "79/79 [==============================] - 0s 1ms/step - loss: 0.6389 - accuracy: 0.6363\n",
            "Epoch 170/200\n",
            "79/79 [==============================] - 0s 1ms/step - loss: 0.6443 - accuracy: 0.6304\n",
            "Epoch 171/200\n",
            "79/79 [==============================] - 0s 1ms/step - loss: 0.6462 - accuracy: 0.6259\n",
            "Epoch 172/200\n",
            "79/79 [==============================] - 0s 1ms/step - loss: 0.6423 - accuracy: 0.6325\n",
            "Epoch 173/200\n",
            "79/79 [==============================] - 0s 1ms/step - loss: 0.6390 - accuracy: 0.6340\n",
            "Epoch 174/200\n",
            "79/79 [==============================] - 0s 1ms/step - loss: 0.6411 - accuracy: 0.6342\n",
            "Epoch 175/200\n",
            "79/79 [==============================] - 0s 1ms/step - loss: 0.6429 - accuracy: 0.6303\n",
            "Epoch 176/200\n",
            "79/79 [==============================] - 0s 1ms/step - loss: 0.6408 - accuracy: 0.6320\n",
            "Epoch 177/200\n",
            "79/79 [==============================] - 0s 1ms/step - loss: 0.6376 - accuracy: 0.6364\n",
            "Epoch 178/200\n",
            "79/79 [==============================] - 0s 1ms/step - loss: 0.6420 - accuracy: 0.6356\n",
            "Epoch 179/200\n",
            "79/79 [==============================] - 0s 1ms/step - loss: 0.6390 - accuracy: 0.6353\n",
            "Epoch 180/200\n",
            "79/79 [==============================] - 0s 1ms/step - loss: 0.6484 - accuracy: 0.6245\n",
            "Epoch 181/200\n",
            "79/79 [==============================] - 0s 1ms/step - loss: 0.6396 - accuracy: 0.6359\n",
            "Epoch 182/200\n",
            "79/79 [==============================] - 0s 1ms/step - loss: 0.6412 - accuracy: 0.6254\n",
            "Epoch 183/200\n",
            "79/79 [==============================] - 0s 1ms/step - loss: 0.6450 - accuracy: 0.6231\n",
            "Epoch 184/200\n",
            "79/79 [==============================] - 0s 1ms/step - loss: 0.6454 - accuracy: 0.6242\n",
            "Epoch 185/200\n",
            "79/79 [==============================] - 0s 1ms/step - loss: 0.6428 - accuracy: 0.6339\n",
            "Epoch 186/200\n",
            "79/79 [==============================] - 0s 1ms/step - loss: 0.6403 - accuracy: 0.6366\n",
            "Epoch 187/200\n",
            "79/79 [==============================] - 0s 1ms/step - loss: 0.6458 - accuracy: 0.6276\n",
            "Epoch 188/200\n",
            "79/79 [==============================] - 0s 1ms/step - loss: 0.6400 - accuracy: 0.6360\n",
            "Epoch 189/200\n",
            "79/79 [==============================] - 0s 1ms/step - loss: 0.6424 - accuracy: 0.6326\n",
            "Epoch 190/200\n",
            "79/79 [==============================] - 0s 1ms/step - loss: 0.6403 - accuracy: 0.6352\n",
            "Epoch 191/200\n",
            "79/79 [==============================] - 0s 1ms/step - loss: 0.6400 - accuracy: 0.6360\n",
            "Epoch 192/200\n",
            "79/79 [==============================] - 0s 1ms/step - loss: 0.6424 - accuracy: 0.6273\n",
            "Epoch 193/200\n",
            "79/79 [==============================] - 0s 1ms/step - loss: 0.6368 - accuracy: 0.6400\n",
            "Epoch 194/200\n",
            "79/79 [==============================] - 0s 1ms/step - loss: 0.6396 - accuracy: 0.6330\n",
            "Epoch 195/200\n",
            "79/79 [==============================] - 0s 1ms/step - loss: 0.6440 - accuracy: 0.6292\n",
            "Epoch 196/200\n",
            "79/79 [==============================] - 0s 1ms/step - loss: 0.6402 - accuracy: 0.6347\n",
            "Epoch 197/200\n",
            "79/79 [==============================] - 0s 1ms/step - loss: 0.6411 - accuracy: 0.6369\n",
            "Epoch 198/200\n",
            "79/79 [==============================] - 0s 1ms/step - loss: 0.6440 - accuracy: 0.6308\n",
            "Epoch 199/200\n",
            "79/79 [==============================] - 0s 1ms/step - loss: 0.6406 - accuracy: 0.6366\n",
            "Epoch 200/200\n",
            "79/79 [==============================] - 0s 2ms/step - loss: 0.6392 - accuracy: 0.6366\n"
          ],
          "name": "stdout"
        },
        {
          "output_type": "execute_result",
          "data": {
            "text/plain": [
              "<tensorflow.python.keras.callbacks.History at 0x7f00095c5bd0>"
            ]
          },
          "metadata": {
            "tags": []
          },
          "execution_count": 11
        }
      ]
    },
    {
      "cell_type": "code",
      "metadata": {
        "id": "IstR4ibyGtAB"
      },
      "source": [
        "import os\n",
        "save_path = r\"model\""
      ],
      "execution_count": null,
      "outputs": []
    },
    {
      "cell_type": "code",
      "metadata": {
        "id": "fn_c2ktrSV78"
      },
      "source": [
        "model.save_weights(\"covid_model-weights.h5\")\n",
        "model_json = model.to_json()\n",
        "with open(\"covid_model.json\",\"w\") as json_file:\n",
        "  json_file.write(model_json)"
      ],
      "execution_count": null,
      "outputs": []
    },
    {
      "cell_type": "code",
      "metadata": {
        "colab": {
          "base_uri": "https://localhost:8080/"
        },
        "id": "pweohA1tuA5k",
        "outputId": "b691d806-7936-470f-e5b0-8a50ce27b38b"
      },
      "source": [
        "# evaluate the keras model\n",
        "_, accuracy = model.evaluate(x_test, y_test)\n",
        "print('Accuracy: %.2f' % (accuracy*100))"
      ],
      "execution_count": null,
      "outputs": [
        {
          "output_type": "stream",
          "text": [
            "27/27 [==============================] - 0s 1ms/step - loss: 0.8225 - accuracy: 0.6099\n",
            "Accuracy: 60.99\n"
          ],
          "name": "stdout"
        }
      ]
    },
    {
      "cell_type": "code",
      "metadata": {
        "id": "02V-MJNDaZEG",
        "colab": {
          "base_uri": "https://localhost:8080/"
        },
        "outputId": "46823a14-b4dd-49bb-982e-eea480c7a7c9"
      },
      "source": [
        "model.save(\"longCovidPrediction\")"
      ],
      "execution_count": null,
      "outputs": [
        {
          "output_type": "stream",
          "text": [
            "INFO:tensorflow:Assets written to: longCovidPrediction/assets\n"
          ],
          "name": "stdout"
        }
      ]
    },
    {
      "cell_type": "code",
      "metadata": {
        "colab": {
          "base_uri": "https://localhost:8080/",
          "height": 126
        },
        "id": "1eRXTLB9U0s0",
        "outputId": "447df745-7d97-44a0-b624-efd7c0af0e2f"
      },
      "source": [
        "!zip -r /content/longCovidPrediction.zip /content/longCovidPrediction/\n",
        "from google.colab import files\n",
        "files.download('longCovidPrediction.zip') "
      ],
      "execution_count": null,
      "outputs": [
        {
          "output_type": "stream",
          "text": [
            "  adding: content/longCovidPrediction/ (stored 0%)\n",
            "  adding: content/longCovidPrediction/saved_model.pb (deflated 88%)\n",
            "  adding: content/longCovidPrediction/variables/ (stored 0%)\n",
            "  adding: content/longCovidPrediction/variables/variables.index (deflated 63%)\n",
            "  adding: content/longCovidPrediction/variables/variables.data-00000-of-00001 (deflated 50%)\n",
            "  adding: content/longCovidPrediction/assets/ (stored 0%)\n"
          ],
          "name": "stdout"
        },
        {
          "output_type": "display_data",
          "data": {
            "application/javascript": [
              "\n",
              "    async function download(id, filename, size) {\n",
              "      if (!google.colab.kernel.accessAllowed) {\n",
              "        return;\n",
              "      }\n",
              "      const div = document.createElement('div');\n",
              "      const label = document.createElement('label');\n",
              "      label.textContent = `Downloading \"${filename}\": `;\n",
              "      div.appendChild(label);\n",
              "      const progress = document.createElement('progress');\n",
              "      progress.max = size;\n",
              "      div.appendChild(progress);\n",
              "      document.body.appendChild(div);\n",
              "\n",
              "      const buffers = [];\n",
              "      let downloaded = 0;\n",
              "\n",
              "      const channel = await google.colab.kernel.comms.open(id);\n",
              "      // Send a message to notify the kernel that we're ready.\n",
              "      channel.send({})\n",
              "\n",
              "      for await (const message of channel.messages) {\n",
              "        // Send a message to notify the kernel that we're ready.\n",
              "        channel.send({})\n",
              "        if (message.buffers) {\n",
              "          for (const buffer of message.buffers) {\n",
              "            buffers.push(buffer);\n",
              "            downloaded += buffer.byteLength;\n",
              "            progress.value = downloaded;\n",
              "          }\n",
              "        }\n",
              "      }\n",
              "      const blob = new Blob(buffers, {type: 'application/binary'});\n",
              "      const a = document.createElement('a');\n",
              "      a.href = window.URL.createObjectURL(blob);\n",
              "      a.download = filename;\n",
              "      div.appendChild(a);\n",
              "      a.click();\n",
              "      div.remove();\n",
              "    }\n",
              "  "
            ],
            "text/plain": [
              "<IPython.core.display.Javascript object>"
            ]
          },
          "metadata": {
            "tags": []
          }
        },
        {
          "output_type": "display_data",
          "data": {
            "application/javascript": [
              "download(\"download_d49c15ba-5965-4877-bfbb-790fae4bf651\", \"longCovidPrediction.zip\", 16641)"
            ],
            "text/plain": [
              "<IPython.core.display.Javascript object>"
            ]
          },
          "metadata": {
            "tags": []
          }
        }
      ]
    },
    {
      "cell_type": "code",
      "metadata": {
        "colab": {
          "base_uri": "https://localhost:8080/",
          "height": 782
        },
        "id": "req-Ztx07RAb",
        "outputId": "896ca528-ddf8-4023-a3b3-60b5c1e01acd"
      },
      "source": [
        "def federateData(data, numClients):\n",
        "    avg = len(data) / float(numClients)\n",
        "    out = []\n",
        "    last = 0.0\n",
        "    while last < len(data):\n",
        "        out.append(data[int(last):int(last + avg)])\n",
        "        last += avg\n",
        "    for i in range(len(out)):\n",
        "      out[i] = np.asarray(out[i]).astype(np.float32)\n",
        "      if i == 0:\n",
        "        tensor_out = tf.convert_to_tensor(out[i])\n",
        "        print(i)\n",
        "        print('Tensor Out')\n",
        "        print(tensor_out)\n",
        "      else:\n",
        "        print(i)\n",
        "        print('Tensor Out')\n",
        "        print(tensor_out)\n",
        "        print('New Tensor')\n",
        "        print(tf.convert_to_tensor(out[i]))\n",
        "        tensor_out = tf.concat([tensor_out,tf.convert_to_tensor(out[i])],1)\n",
        "    return tensor_out\n",
        "\n",
        "x = (federateData(x_test,NUM_CLIENTS))\n",
        "\n",
        "#x_test_fed = np.array(federateData(x_test,NUM_CLIENTS))\n",
        "#x_train_fed = np.array(federateData(x_train,NUM_CLIENTS))\n",
        "#y_train_fed = np.array(federateData(y_train,NUM_CLIENTS))\n",
        "#y_test_fed = np.array(federateData(y_test,NUM_CLIENTS))\n",
        "\n",
        "for i in range(len(x_test_fed)):\n",
        "  print(x_test_fed[i].shape)"
      ],
      "execution_count": null,
      "outputs": [
        {
          "output_type": "stream",
          "text": [
            "0\n",
            "Tensor Out\n",
            "tf.Tensor(\n",
            "[[1. 0. 0. ... 0. 0. 0.]\n",
            " [0. 0. 0. ... 0. 1. 1.]\n",
            " [0. 1. 0. ... 0. 1. 0.]\n",
            " ...\n",
            " [0. 0. 1. ... 0. 1. 1.]\n",
            " [1. 1. 0. ... 0. 1. 0.]\n",
            " [1. 1. 0. ... 1. 0. 0.]], shape=(1871, 8), dtype=float32)\n",
            "1\n",
            "Tensor Out\n",
            "tf.Tensor(\n",
            "[[1. 0. 0. ... 0. 0. 0.]\n",
            " [0. 0. 0. ... 0. 1. 1.]\n",
            " [0. 1. 0. ... 0. 1. 0.]\n",
            " ...\n",
            " [0. 0. 1. ... 0. 1. 1.]\n",
            " [1. 1. 0. ... 0. 1. 0.]\n",
            " [1. 1. 0. ... 1. 0. 0.]], shape=(1871, 8), dtype=float32)\n",
            "New Tensor\n",
            "tf.Tensor(\n",
            "[[1. 0. 1. ... 0. 0. 0.]\n",
            " [0. 0. 0. ... 0. 0. 0.]\n",
            " [1. 0. 0. ... 0. 1. 0.]\n",
            " ...\n",
            " [1. 0. 1. ... 0. 1. 0.]\n",
            " [0. 0. 0. ... 0. 1. 0.]\n",
            " [1. 0. 0. ... 1. 0. 0.]], shape=(1872, 8), dtype=float32)\n"
          ],
          "name": "stdout"
        },
        {
          "output_type": "error",
          "ename": "InvalidArgumentError",
          "evalue": "ignored",
          "traceback": [
            "\u001b[0;31m---------------------------------------------------------------------------\u001b[0m",
            "\u001b[0;31mInvalidArgumentError\u001b[0m                      Traceback (most recent call last)",
            "\u001b[0;32m<ipython-input-111-179cb2186e4b>\u001b[0m in \u001b[0;36m<module>\u001b[0;34m()\u001b[0m\n\u001b[1;32m     22\u001b[0m     \u001b[0;32mreturn\u001b[0m \u001b[0mtensor_out\u001b[0m\u001b[0;34m\u001b[0m\u001b[0;34m\u001b[0m\u001b[0m\n\u001b[1;32m     23\u001b[0m \u001b[0;34m\u001b[0m\u001b[0m\n\u001b[0;32m---> 24\u001b[0;31m \u001b[0mx\u001b[0m \u001b[0;34m=\u001b[0m \u001b[0;34m(\u001b[0m\u001b[0mfederateData\u001b[0m\u001b[0;34m(\u001b[0m\u001b[0mx_test\u001b[0m\u001b[0;34m,\u001b[0m\u001b[0mNUM_CLIENTS\u001b[0m\u001b[0;34m)\u001b[0m\u001b[0;34m)\u001b[0m\u001b[0;34m\u001b[0m\u001b[0;34m\u001b[0m\u001b[0m\n\u001b[0m\u001b[1;32m     25\u001b[0m \u001b[0;34m\u001b[0m\u001b[0m\n\u001b[1;32m     26\u001b[0m \u001b[0;31m#x_test_fed = np.array(federateData(x_test,NUM_CLIENTS))\u001b[0m\u001b[0;34m\u001b[0m\u001b[0;34m\u001b[0m\u001b[0;34m\u001b[0m\u001b[0m\n",
            "\u001b[0;32m<ipython-input-111-179cb2186e4b>\u001b[0m in \u001b[0;36mfederateData\u001b[0;34m(data, numClients)\u001b[0m\n\u001b[1;32m     19\u001b[0m         \u001b[0mprint\u001b[0m\u001b[0;34m(\u001b[0m\u001b[0;34m'New Tensor'\u001b[0m\u001b[0;34m)\u001b[0m\u001b[0;34m\u001b[0m\u001b[0;34m\u001b[0m\u001b[0m\n\u001b[1;32m     20\u001b[0m         \u001b[0mprint\u001b[0m\u001b[0;34m(\u001b[0m\u001b[0mtf\u001b[0m\u001b[0;34m.\u001b[0m\u001b[0mconvert_to_tensor\u001b[0m\u001b[0;34m(\u001b[0m\u001b[0mout\u001b[0m\u001b[0;34m[\u001b[0m\u001b[0mi\u001b[0m\u001b[0;34m]\u001b[0m\u001b[0;34m)\u001b[0m\u001b[0;34m)\u001b[0m\u001b[0;34m\u001b[0m\u001b[0;34m\u001b[0m\u001b[0m\n\u001b[0;32m---> 21\u001b[0;31m         \u001b[0mtensor_out\u001b[0m \u001b[0;34m=\u001b[0m \u001b[0mtf\u001b[0m\u001b[0;34m.\u001b[0m\u001b[0mconcat\u001b[0m\u001b[0;34m(\u001b[0m\u001b[0;34m[\u001b[0m\u001b[0mtensor_out\u001b[0m\u001b[0;34m,\u001b[0m\u001b[0mtf\u001b[0m\u001b[0;34m.\u001b[0m\u001b[0mconvert_to_tensor\u001b[0m\u001b[0;34m(\u001b[0m\u001b[0mout\u001b[0m\u001b[0;34m[\u001b[0m\u001b[0mi\u001b[0m\u001b[0;34m]\u001b[0m\u001b[0;34m)\u001b[0m\u001b[0;34m]\u001b[0m\u001b[0;34m,\u001b[0m\u001b[0;36m1\u001b[0m\u001b[0;34m)\u001b[0m\u001b[0;34m\u001b[0m\u001b[0;34m\u001b[0m\u001b[0m\n\u001b[0m\u001b[1;32m     22\u001b[0m     \u001b[0;32mreturn\u001b[0m \u001b[0mtensor_out\u001b[0m\u001b[0;34m\u001b[0m\u001b[0;34m\u001b[0m\u001b[0m\n\u001b[1;32m     23\u001b[0m \u001b[0;34m\u001b[0m\u001b[0m\n",
            "\u001b[0;32m/usr/local/lib/python3.7/dist-packages/tensorflow/python/util/dispatch.py\u001b[0m in \u001b[0;36mwrapper\u001b[0;34m(*args, **kwargs)\u001b[0m\n\u001b[1;32m    204\u001b[0m     \u001b[0;34m\"\"\"Call target, and fall back on dispatchers if there is a TypeError.\"\"\"\u001b[0m\u001b[0;34m\u001b[0m\u001b[0;34m\u001b[0m\u001b[0m\n\u001b[1;32m    205\u001b[0m     \u001b[0;32mtry\u001b[0m\u001b[0;34m:\u001b[0m\u001b[0;34m\u001b[0m\u001b[0;34m\u001b[0m\u001b[0m\n\u001b[0;32m--> 206\u001b[0;31m       \u001b[0;32mreturn\u001b[0m \u001b[0mtarget\u001b[0m\u001b[0;34m(\u001b[0m\u001b[0;34m*\u001b[0m\u001b[0margs\u001b[0m\u001b[0;34m,\u001b[0m \u001b[0;34m**\u001b[0m\u001b[0mkwargs\u001b[0m\u001b[0;34m)\u001b[0m\u001b[0;34m\u001b[0m\u001b[0;34m\u001b[0m\u001b[0m\n\u001b[0m\u001b[1;32m    207\u001b[0m     \u001b[0;32mexcept\u001b[0m \u001b[0;34m(\u001b[0m\u001b[0mTypeError\u001b[0m\u001b[0;34m,\u001b[0m \u001b[0mValueError\u001b[0m\u001b[0;34m)\u001b[0m\u001b[0;34m:\u001b[0m\u001b[0;34m\u001b[0m\u001b[0;34m\u001b[0m\u001b[0m\n\u001b[1;32m    208\u001b[0m       \u001b[0;31m# Note: convert_to_eager_tensor currently raises a ValueError, not a\u001b[0m\u001b[0;34m\u001b[0m\u001b[0;34m\u001b[0m\u001b[0;34m\u001b[0m\u001b[0m\n",
            "\u001b[0;32m/usr/local/lib/python3.7/dist-packages/tensorflow/python/ops/array_ops.py\u001b[0m in \u001b[0;36mconcat\u001b[0;34m(values, axis, name)\u001b[0m\n\u001b[1;32m   1766\u001b[0m           dtype=dtypes.int32).get_shape().assert_has_rank(0)\n\u001b[1;32m   1767\u001b[0m       \u001b[0;32mreturn\u001b[0m \u001b[0midentity\u001b[0m\u001b[0;34m(\u001b[0m\u001b[0mvalues\u001b[0m\u001b[0;34m[\u001b[0m\u001b[0;36m0\u001b[0m\u001b[0;34m]\u001b[0m\u001b[0;34m,\u001b[0m \u001b[0mname\u001b[0m\u001b[0;34m=\u001b[0m\u001b[0mname\u001b[0m\u001b[0;34m)\u001b[0m\u001b[0;34m\u001b[0m\u001b[0;34m\u001b[0m\u001b[0m\n\u001b[0;32m-> 1768\u001b[0;31m   \u001b[0;32mreturn\u001b[0m \u001b[0mgen_array_ops\u001b[0m\u001b[0;34m.\u001b[0m\u001b[0mconcat_v2\u001b[0m\u001b[0;34m(\u001b[0m\u001b[0mvalues\u001b[0m\u001b[0;34m=\u001b[0m\u001b[0mvalues\u001b[0m\u001b[0;34m,\u001b[0m \u001b[0maxis\u001b[0m\u001b[0;34m=\u001b[0m\u001b[0maxis\u001b[0m\u001b[0;34m,\u001b[0m \u001b[0mname\u001b[0m\u001b[0;34m=\u001b[0m\u001b[0mname\u001b[0m\u001b[0;34m)\u001b[0m\u001b[0;34m\u001b[0m\u001b[0;34m\u001b[0m\u001b[0m\n\u001b[0m\u001b[1;32m   1769\u001b[0m \u001b[0;34m\u001b[0m\u001b[0m\n\u001b[1;32m   1770\u001b[0m \u001b[0;34m\u001b[0m\u001b[0m\n",
            "\u001b[0;32m/usr/local/lib/python3.7/dist-packages/tensorflow/python/ops/gen_array_ops.py\u001b[0m in \u001b[0;36mconcat_v2\u001b[0;34m(values, axis, name)\u001b[0m\n\u001b[1;32m   1211\u001b[0m       \u001b[0;32mreturn\u001b[0m \u001b[0m_result\u001b[0m\u001b[0;34m\u001b[0m\u001b[0;34m\u001b[0m\u001b[0m\n\u001b[1;32m   1212\u001b[0m     \u001b[0;32mexcept\u001b[0m \u001b[0m_core\u001b[0m\u001b[0;34m.\u001b[0m\u001b[0m_NotOkStatusException\u001b[0m \u001b[0;32mas\u001b[0m \u001b[0me\u001b[0m\u001b[0;34m:\u001b[0m\u001b[0;34m\u001b[0m\u001b[0;34m\u001b[0m\u001b[0m\n\u001b[0;32m-> 1213\u001b[0;31m       \u001b[0m_ops\u001b[0m\u001b[0;34m.\u001b[0m\u001b[0mraise_from_not_ok_status\u001b[0m\u001b[0;34m(\u001b[0m\u001b[0me\u001b[0m\u001b[0;34m,\u001b[0m \u001b[0mname\u001b[0m\u001b[0;34m)\u001b[0m\u001b[0;34m\u001b[0m\u001b[0;34m\u001b[0m\u001b[0m\n\u001b[0m\u001b[1;32m   1214\u001b[0m     \u001b[0;32mexcept\u001b[0m \u001b[0m_core\u001b[0m\u001b[0;34m.\u001b[0m\u001b[0m_FallbackException\u001b[0m\u001b[0;34m:\u001b[0m\u001b[0;34m\u001b[0m\u001b[0;34m\u001b[0m\u001b[0m\n\u001b[1;32m   1215\u001b[0m       \u001b[0;32mpass\u001b[0m\u001b[0;34m\u001b[0m\u001b[0;34m\u001b[0m\u001b[0m\n",
            "\u001b[0;32m/usr/local/lib/python3.7/dist-packages/tensorflow/python/framework/ops.py\u001b[0m in \u001b[0;36mraise_from_not_ok_status\u001b[0;34m(e, name)\u001b[0m\n\u001b[1;32m   6895\u001b[0m   \u001b[0mmessage\u001b[0m \u001b[0;34m=\u001b[0m \u001b[0me\u001b[0m\u001b[0;34m.\u001b[0m\u001b[0mmessage\u001b[0m \u001b[0;34m+\u001b[0m \u001b[0;34m(\u001b[0m\u001b[0;34m\" name: \"\u001b[0m \u001b[0;34m+\u001b[0m \u001b[0mname\u001b[0m \u001b[0;32mif\u001b[0m \u001b[0mname\u001b[0m \u001b[0;32mis\u001b[0m \u001b[0;32mnot\u001b[0m \u001b[0;32mNone\u001b[0m \u001b[0;32melse\u001b[0m \u001b[0;34m\"\"\u001b[0m\u001b[0;34m)\u001b[0m\u001b[0;34m\u001b[0m\u001b[0;34m\u001b[0m\u001b[0m\n\u001b[1;32m   6896\u001b[0m   \u001b[0;31m# pylint: disable=protected-access\u001b[0m\u001b[0;34m\u001b[0m\u001b[0;34m\u001b[0m\u001b[0;34m\u001b[0m\u001b[0m\n\u001b[0;32m-> 6897\u001b[0;31m   \u001b[0msix\u001b[0m\u001b[0;34m.\u001b[0m\u001b[0mraise_from\u001b[0m\u001b[0;34m(\u001b[0m\u001b[0mcore\u001b[0m\u001b[0;34m.\u001b[0m\u001b[0m_status_to_exception\u001b[0m\u001b[0;34m(\u001b[0m\u001b[0me\u001b[0m\u001b[0;34m.\u001b[0m\u001b[0mcode\u001b[0m\u001b[0;34m,\u001b[0m \u001b[0mmessage\u001b[0m\u001b[0;34m)\u001b[0m\u001b[0;34m,\u001b[0m \u001b[0;32mNone\u001b[0m\u001b[0;34m)\u001b[0m\u001b[0;34m\u001b[0m\u001b[0;34m\u001b[0m\u001b[0m\n\u001b[0m\u001b[1;32m   6898\u001b[0m   \u001b[0;31m# pylint: enable=protected-access\u001b[0m\u001b[0;34m\u001b[0m\u001b[0;34m\u001b[0m\u001b[0;34m\u001b[0m\u001b[0m\n\u001b[1;32m   6899\u001b[0m \u001b[0;34m\u001b[0m\u001b[0m\n",
            "\u001b[0;32m/usr/local/lib/python3.7/dist-packages/six.py\u001b[0m in \u001b[0;36mraise_from\u001b[0;34m(value, from_value)\u001b[0m\n",
            "\u001b[0;31mInvalidArgumentError\u001b[0m: ConcatOp : Dimensions of inputs should match: shape[0] = [1871,8] vs. shape[1] = [1872,8] [Op:ConcatV2] name: concat"
          ]
        }
      ]
    },
    {
      "cell_type": "code",
      "metadata": {
        "colab": {
          "base_uri": "https://localhost:8080/",
          "height": 265
        },
        "id": "_zBaQO92VOLV",
        "outputId": "703c6e2f-2df2-42c2-cc1c-7de622ea8b41"
      },
      "source": [
        "x_test_fed = np.asarray(x_test_fed).astype('float32')\n",
        "tensor = tf.convert_to_tensor(x_test_fed)"
      ],
      "execution_count": null,
      "outputs": [
        {
          "output_type": "error",
          "ename": "ValueError",
          "evalue": "ignored",
          "traceback": [
            "\u001b[0;31m---------------------------------------------------------------------------\u001b[0m",
            "\u001b[0;31mTypeError\u001b[0m                                 Traceback (most recent call last)",
            "\u001b[0;31mTypeError\u001b[0m: only size-1 arrays can be converted to Python scalars",
            "\nThe above exception was the direct cause of the following exception:\n",
            "\u001b[0;31mValueError\u001b[0m                                Traceback (most recent call last)",
            "\u001b[0;32m<ipython-input-100-c8d8cb13032f>\u001b[0m in \u001b[0;36m<module>\u001b[0;34m()\u001b[0m\n\u001b[0;32m----> 1\u001b[0;31m \u001b[0mx_test_fed\u001b[0m \u001b[0;34m=\u001b[0m \u001b[0mnp\u001b[0m\u001b[0;34m.\u001b[0m\u001b[0masarray\u001b[0m\u001b[0;34m(\u001b[0m\u001b[0mx_test_fed\u001b[0m\u001b[0;34m)\u001b[0m\u001b[0;34m.\u001b[0m\u001b[0mastype\u001b[0m\u001b[0;34m(\u001b[0m\u001b[0;34m'float32'\u001b[0m\u001b[0;34m)\u001b[0m\u001b[0;34m\u001b[0m\u001b[0;34m\u001b[0m\u001b[0m\n\u001b[0m\u001b[1;32m      2\u001b[0m \u001b[0mtensor\u001b[0m \u001b[0;34m=\u001b[0m \u001b[0mtf\u001b[0m\u001b[0;34m.\u001b[0m\u001b[0mconvert_to_tensor\u001b[0m\u001b[0;34m(\u001b[0m\u001b[0mx_test_fed\u001b[0m\u001b[0;34m)\u001b[0m\u001b[0;34m\u001b[0m\u001b[0;34m\u001b[0m\u001b[0m\n",
            "\u001b[0;31mValueError\u001b[0m: setting an array element with a sequence."
          ]
        }
      ]
    },
    {
      "cell_type": "code",
      "metadata": {
        "colab": {
          "base_uri": "https://localhost:8080/",
          "height": 408
        },
        "id": "U_rGdu3DGTs4",
        "outputId": "24bb17a0-059d-466e-cc1d-2b11efdc76a9"
      },
      "source": [
        "def create_keras_model():\n",
        "  return tf.keras.models.Sequential([\n",
        "      tf.keras.layers.Input(shape=(8,)),\n",
        "      tf.keras.layers.Dense(8,activation='relu'),\n",
        "      tf.keras.layers.Dense(1,activation='sigmoid'),\n",
        "  ])\n",
        "def model_fn():\n",
        "  keras_model = create_keras_model()\n",
        "  return tff.learning.from_keras_model(\n",
        "      keras_model,\n",
        "      input_spec = tf.nest.map_structure(tf.TensorSpec.from_tensor,\n",
        "                  [train,test]),\n",
        "      loss=tf.keras.losses.SparseCategoricalCrossentropy(),\n",
        "      metrics=[tf.keras.metrics.SparseCategoricalAccuracy()])\n",
        "print(model_fn())\n",
        "\n",
        "'''\n",
        "model = Sequential()\n",
        "model.add(Dense(12, input_dim=8, activation='relu'))\n",
        "model.add(Dense(8,activation='relu'))\n",
        "model.add(Dense(1,activation='sigmoid'))\n",
        "'''"
      ],
      "execution_count": null,
      "outputs": [
        {
          "output_type": "stream",
          "text": [
            "WARNING:tensorflow:Please add `keras.layers.InputLayer` instead of `keras.Input` to Sequential model. `keras.Input` is intended to be used by Functional model.\n"
          ],
          "name": "stdout"
        },
        {
          "output_type": "stream",
          "text": [
            "WARNING:tensorflow:Please add `keras.layers.InputLayer` instead of `keras.Input` to Sequential model. `keras.Input` is intended to be used by Functional model.\n"
          ],
          "name": "stderr"
        },
        {
          "output_type": "error",
          "ename": "ValueError",
          "evalue": "ignored",
          "traceback": [
            "\u001b[0;31m---------------------------------------------------------------------------\u001b[0m",
            "\u001b[0;31mValueError\u001b[0m                                Traceback (most recent call last)",
            "\u001b[0;32m<ipython-input-141-72a9d82b347b>\u001b[0m in \u001b[0;36m<module>\u001b[0;34m()\u001b[0m\n\u001b[1;32m     13\u001b[0m       \u001b[0mloss\u001b[0m\u001b[0;34m=\u001b[0m\u001b[0mtf\u001b[0m\u001b[0;34m.\u001b[0m\u001b[0mkeras\u001b[0m\u001b[0;34m.\u001b[0m\u001b[0mlosses\u001b[0m\u001b[0;34m.\u001b[0m\u001b[0mSparseCategoricalCrossentropy\u001b[0m\u001b[0;34m(\u001b[0m\u001b[0;34m)\u001b[0m\u001b[0;34m,\u001b[0m\u001b[0;34m\u001b[0m\u001b[0;34m\u001b[0m\u001b[0m\n\u001b[1;32m     14\u001b[0m       metrics=[tf.keras.metrics.SparseCategoricalAccuracy()])\n\u001b[0;32m---> 15\u001b[0;31m \u001b[0mprint\u001b[0m\u001b[0;34m(\u001b[0m\u001b[0mmodel_fn\u001b[0m\u001b[0;34m(\u001b[0m\u001b[0;34m)\u001b[0m\u001b[0;34m)\u001b[0m\u001b[0;34m\u001b[0m\u001b[0;34m\u001b[0m\u001b[0m\n\u001b[0m\u001b[1;32m     16\u001b[0m \u001b[0;34m\u001b[0m\u001b[0m\n\u001b[1;32m     17\u001b[0m '''\n",
            "\u001b[0;32m<ipython-input-141-72a9d82b347b>\u001b[0m in \u001b[0;36mmodel_fn\u001b[0;34m()\u001b[0m\n\u001b[1;32m     10\u001b[0m       \u001b[0mkeras_model\u001b[0m\u001b[0;34m,\u001b[0m\u001b[0;34m\u001b[0m\u001b[0;34m\u001b[0m\u001b[0m\n\u001b[1;32m     11\u001b[0m       input_spec = tf.nest.map_structure(tf.TensorSpec.from_tensor,\n\u001b[0;32m---> 12\u001b[0;31m                   [train,test]),\n\u001b[0m\u001b[1;32m     13\u001b[0m       \u001b[0mloss\u001b[0m\u001b[0;34m=\u001b[0m\u001b[0mtf\u001b[0m\u001b[0;34m.\u001b[0m\u001b[0mkeras\u001b[0m\u001b[0;34m.\u001b[0m\u001b[0mlosses\u001b[0m\u001b[0;34m.\u001b[0m\u001b[0mSparseCategoricalCrossentropy\u001b[0m\u001b[0;34m(\u001b[0m\u001b[0;34m)\u001b[0m\u001b[0;34m,\u001b[0m\u001b[0;34m\u001b[0m\u001b[0;34m\u001b[0m\u001b[0m\n\u001b[1;32m     14\u001b[0m       metrics=[tf.keras.metrics.SparseCategoricalAccuracy()])\n",
            "\u001b[0;32m/usr/local/lib/python3.7/dist-packages/tensorflow/python/util/nest.py\u001b[0m in \u001b[0;36mmap_structure\u001b[0;34m(func, *structure, **kwargs)\u001b[0m\n\u001b[1;32m    865\u001b[0m \u001b[0;34m\u001b[0m\u001b[0m\n\u001b[1;32m    866\u001b[0m   return pack_sequence_as(\n\u001b[0;32m--> 867\u001b[0;31m       \u001b[0mstructure\u001b[0m\u001b[0;34m[\u001b[0m\u001b[0;36m0\u001b[0m\u001b[0;34m]\u001b[0m\u001b[0;34m,\u001b[0m \u001b[0;34m[\u001b[0m\u001b[0mfunc\u001b[0m\u001b[0;34m(\u001b[0m\u001b[0;34m*\u001b[0m\u001b[0mx\u001b[0m\u001b[0;34m)\u001b[0m \u001b[0;32mfor\u001b[0m \u001b[0mx\u001b[0m \u001b[0;32min\u001b[0m \u001b[0mentries\u001b[0m\u001b[0;34m]\u001b[0m\u001b[0;34m,\u001b[0m\u001b[0;34m\u001b[0m\u001b[0;34m\u001b[0m\u001b[0m\n\u001b[0m\u001b[1;32m    868\u001b[0m       expand_composites=expand_composites)\n\u001b[1;32m    869\u001b[0m \u001b[0;34m\u001b[0m\u001b[0m\n",
            "\u001b[0;32m/usr/local/lib/python3.7/dist-packages/tensorflow/python/util/nest.py\u001b[0m in \u001b[0;36m<listcomp>\u001b[0;34m(.0)\u001b[0m\n\u001b[1;32m    865\u001b[0m \u001b[0;34m\u001b[0m\u001b[0m\n\u001b[1;32m    866\u001b[0m   return pack_sequence_as(\n\u001b[0;32m--> 867\u001b[0;31m       \u001b[0mstructure\u001b[0m\u001b[0;34m[\u001b[0m\u001b[0;36m0\u001b[0m\u001b[0;34m]\u001b[0m\u001b[0;34m,\u001b[0m \u001b[0;34m[\u001b[0m\u001b[0mfunc\u001b[0m\u001b[0;34m(\u001b[0m\u001b[0;34m*\u001b[0m\u001b[0mx\u001b[0m\u001b[0;34m)\u001b[0m \u001b[0;32mfor\u001b[0m \u001b[0mx\u001b[0m \u001b[0;32min\u001b[0m \u001b[0mentries\u001b[0m\u001b[0;34m]\u001b[0m\u001b[0;34m,\u001b[0m\u001b[0;34m\u001b[0m\u001b[0;34m\u001b[0m\u001b[0m\n\u001b[0m\u001b[1;32m    868\u001b[0m       expand_composites=expand_composites)\n\u001b[1;32m    869\u001b[0m \u001b[0;34m\u001b[0m\u001b[0m\n",
            "\u001b[0;32m/usr/local/lib/python3.7/dist-packages/tensorflow/python/framework/tensor_spec.py\u001b[0m in \u001b[0;36mfrom_tensor\u001b[0;34m(cls, tensor, name)\u001b[0m\n\u001b[1;32m    172\u001b[0m       \u001b[0;32mreturn\u001b[0m \u001b[0mTensorSpec\u001b[0m\u001b[0;34m(\u001b[0m\u001b[0mtensor\u001b[0m\u001b[0;34m.\u001b[0m\u001b[0mshape\u001b[0m\u001b[0;34m,\u001b[0m \u001b[0mtensor\u001b[0m\u001b[0;34m.\u001b[0m\u001b[0mdtype\u001b[0m\u001b[0;34m,\u001b[0m \u001b[0mname\u001b[0m \u001b[0;32mor\u001b[0m \u001b[0mtensor\u001b[0m\u001b[0;34m.\u001b[0m\u001b[0mop\u001b[0m\u001b[0;34m.\u001b[0m\u001b[0mname\u001b[0m\u001b[0;34m)\u001b[0m\u001b[0;34m\u001b[0m\u001b[0;34m\u001b[0m\u001b[0m\n\u001b[1;32m    173\u001b[0m     \u001b[0;32melse\u001b[0m\u001b[0;34m:\u001b[0m\u001b[0;34m\u001b[0m\u001b[0;34m\u001b[0m\u001b[0m\n\u001b[0;32m--> 174\u001b[0;31m       \u001b[0;32mraise\u001b[0m \u001b[0mValueError\u001b[0m\u001b[0;34m(\u001b[0m\u001b[0;34m\"`tensor` should be a tf.Tensor\"\u001b[0m\u001b[0;34m)\u001b[0m\u001b[0;34m\u001b[0m\u001b[0;34m\u001b[0m\u001b[0m\n\u001b[0m\u001b[1;32m    175\u001b[0m \u001b[0;34m\u001b[0m\u001b[0m\n\u001b[1;32m    176\u001b[0m   \u001b[0;34m@\u001b[0m\u001b[0mproperty\u001b[0m\u001b[0;34m\u001b[0m\u001b[0;34m\u001b[0m\u001b[0m\n",
            "\u001b[0;31mValueError\u001b[0m: `tensor` should be a tf.Tensor"
          ]
        }
      ]
    },
    {
      "cell_type": "code",
      "metadata": {
        "colab": {
          "base_uri": "https://localhost:8080/"
        },
        "id": "3FfOCVsPIUuB",
        "outputId": "9d94b1a1-bcad-407d-a822-1310551b0f06"
      },
      "source": [
        "print(tf.nest.map_structure(lambda x: tf.TensorSpec(x.shape, x.dtype), x_train_fed[0]))"
      ],
      "execution_count": null,
      "outputs": [
        {
          "output_type": "stream",
          "text": [
            "TensorSpec(shape=(5614, 8), dtype=tf.float64, name=None)\n"
          ],
          "name": "stdout"
        }
      ]
    },
    {
      "cell_type": "markdown",
      "metadata": {
        "id": "SKlE2H_3Qrrc"
      },
      "source": [
        ""
      ]
    },
    {
      "cell_type": "markdown",
      "metadata": {
        "id": "ESBSsveSQsIs"
      },
      "source": [
        "#FedLearning Attempt\n"
      ]
    },
    {
      "cell_type": "code",
      "metadata": {
        "colab": {
          "base_uri": "https://localhost:8080/"
        },
        "id": "BBinYtE7Q1cm",
        "outputId": "297061bf-7df0-4903-a6eb-05619cc80ce9"
      },
      "source": [
        "import numpy as np\n",
        "from numpy import loadtxt\n",
        "dataset = loadtxt(r'SampleDataPP.csv', delimiter=',')\n",
        "dataset"
      ],
      "execution_count": null,
      "outputs": [
        {
          "output_type": "execute_result",
          "data": {
            "text/plain": [
              "array([[1., 0., 0., ..., 1., 0., 0.],\n",
              "       [0., 0., 0., ..., 1., 0., 0.],\n",
              "       [0., 0., 1., ..., 1., 0., 0.],\n",
              "       ...,\n",
              "       [1., 0., 1., ..., 0., 0., 1.],\n",
              "       [0., 0., 1., ..., 0., 0., 0.],\n",
              "       [0., 0., 1., ..., 0., 0., 0.]])"
            ]
          },
          "metadata": {
            "tags": []
          },
          "execution_count": 42
        }
      ]
    },
    {
      "cell_type": "code",
      "metadata": {
        "colab": {
          "base_uri": "https://localhost:8080/"
        },
        "id": "TD8U4FJ3c16H",
        "outputId": "63731410-d9e2-4fbf-eba2-b1c944233864"
      },
      "source": [
        "!pip install --quiet --upgrade tf.data\n",
        "!pip install --quiet --upgrade tfds\n",
        "!pip install --quiet --upgrade tensorflow_federated\n",
        "import tensorflow as tf\n",
        "import tensorflow_datasets as tfds\n",
        "import tensorflow_federated as tff"
      ],
      "execution_count": null,
      "outputs": [
        {
          "output_type": "stream",
          "text": [
            "\u001b[K     |████████████████████████████████| 3.8MB 7.4MB/s \n",
            "\u001b[K     |████████████████████████████████| 2.9MB 44.6MB/s \n",
            "\u001b[?25h  Building wheel for tf.data (setup.py) ... \u001b[?25l\u001b[?25hdone\n",
            "\u001b[31mERROR: tf-nightly 2.6.0.dev20210402 has requirement gast==0.4.0, but you'll have gast 0.3.3 which is incompatible.\u001b[0m\n",
            "\u001b[31mERROR: tf-nightly 2.6.0.dev20210402 has requirement grpcio~=1.34.0, but you'll have grpcio 1.32.0 which is incompatible.\u001b[0m\n",
            "\u001b[31mERROR: tf-nightly 2.6.0.dev20210402 has requirement h5py~=3.1.0, but you'll have h5py 2.10.0 which is incompatible.\u001b[0m\n",
            "\u001b[31mERROR: tensorflow-federated-nightly 0.18.0.dev20210403 has requirement grpcio~=1.34.0, but you'll have grpcio 1.32.0 which is incompatible.\u001b[0m\n",
            "\u001b[31mERROR: Could not find a version that satisfies the requirement tfds (from versions: none)\u001b[0m\n",
            "\u001b[31mERROR: No matching distribution found for tfds\u001b[0m\n"
          ],
          "name": "stdout"
        }
      ]
    },
    {
      "cell_type": "code",
      "metadata": {
        "id": "OPx2C6e4ayGH"
      },
      "source": [
        "\n",
        "x = dataset[:,0:8]\n",
        "y = dataset[:,8]\n",
        "\n",
        "\n",
        "x_tensor = tf.convert_to_tensor(x, dtype=tf.float32)\n",
        "y_tensor  = tf.convert_to_tensor(y, dtype=tf.float32)\n"
      ],
      "execution_count": null,
      "outputs": []
    },
    {
      "cell_type": "code",
      "metadata": {
        "colab": {
          "base_uri": "https://localhost:8080/"
        },
        "id": "Ff8XRxdqj5bT",
        "outputId": "d0fa7148-7f85-4e94-cf22-bd62ef513c89"
      },
      "source": [
        "train_number = int(x_tensor.shape[0]/100*80)\n",
        "x_train_tensor = x_tensor[train_number:]\n",
        "y_train_tensor = y_tensor[train_number:]\n",
        "x_test_tensor = x_tensor[:train_number]\n",
        "y_test_tensor = y_tensor[:train_number]\n",
        "print('Tensor Lengths: ')\n",
        "print('x_train: ',x_train_tensor)\n",
        "print('y_train: ',y_train_tensor)\n",
        "print('x_test: ',x_test_tensor)\n",
        "print('y_test: ',y_test_tensor)\n",
        "\n",
        "\n",
        "#dataset = tf.data.Dataset.from_tensor_slices((x_train_tensor, y_train_tensor))\n",
        "print(dataset)"
      ],
      "execution_count": null,
      "outputs": [
        {
          "output_type": "stream",
          "text": [
            "Tensor Lengths: \n",
            "x_train:  tf.Tensor(\n",
            "[[1. 0. 0. ... 0. 0. 0.]\n",
            " [1. 0. 0. ... 0. 0. 0.]\n",
            " [1. 0. 0. ... 0. 0. 0.]\n",
            " ...\n",
            " [1. 0. 1. ... 1. 0. 0.]\n",
            " [0. 0. 1. ... 1. 0. 0.]\n",
            " [0. 0. 1. ... 1. 0. 0.]], shape=(14974, 8), dtype=float32)\n",
            "y_train:  tf.Tensor([0. 0. 0. ... 1. 0. 0.], shape=(14974,), dtype=float32)\n",
            "x_test:  tf.Tensor(\n",
            "[[1. 0. 0. ... 0. 1. 0.]\n",
            " [0. 0. 0. ... 0. 1. 0.]\n",
            " [0. 0. 1. ... 0. 1. 0.]\n",
            " ...\n",
            " [0. 0. 0. ... 0. 0. 0.]\n",
            " [1. 0. 0. ... 0. 0. 0.]\n",
            " [0. 0. 0. ... 0. 0. 0.]], shape=(59892, 8), dtype=float32)\n",
            "y_test:  tf.Tensor([0. 0. 0. ... 0. 0. 0.], shape=(59892,), dtype=float32)\n",
            "[[1. 0. 0. ... 1. 0. 0.]\n",
            " [0. 0. 0. ... 1. 0. 0.]\n",
            " [0. 0. 1. ... 1. 0. 0.]\n",
            " ...\n",
            " [1. 0. 1. ... 0. 0. 1.]\n",
            " [0. 0. 1. ... 0. 0. 0.]\n",
            " [0. 0. 1. ... 0. 0. 0.]]\n"
          ],
          "name": "stdout"
        }
      ]
    },
    {
      "cell_type": "code",
      "metadata": {
        "colab": {
          "base_uri": "https://localhost:8080/",
          "height": 453
        },
        "id": "qVYg_atUOf0I",
        "outputId": "b4a04727-9229-445c-8446-60395f31fcb2"
      },
      "source": [
        "import csv\n",
        "import pandas as pd\n",
        "import numpy as np\n",
        "\n",
        "df = pd.read_csv (r'Sample Dataset.csv',index_col=False)\n",
        "df = df.dropna()\n",
        "df['label'] = 0\n",
        "df['label'] = np.where((df['lc28'] == 1) | (df['lc56'] == 1), 1,0)\n",
        "del df['lc28']\n",
        "del df['lc56']\n",
        "df['gender'] = np.where((df['gender'] == 'male'), 1,0)\n",
        "df['age_60_and_above'] = np.where((df['age_60_and_above'] == 'Yes'), 1,0)\n",
        "df_positive = df[df.label == 1]\n",
        "df_negative = df[df.label ==0]\n",
        "df_negative = df_negative.sample(n=(len(df_positive)))\n",
        "print(len(df_positive))\n",
        "print(len(df_negative))\n",
        "dfs = [df_positive,df_negative]\n",
        "df_balanced = pd.concat(dfs)\n",
        "del df_positive\n",
        "del df_negative\n",
        "df_balanced.sample(frac=1)\n",
        "df_balanced\n"
      ],
      "execution_count": null,
      "outputs": [
        {
          "output_type": "stream",
          "text": [
            "4350\n",
            "4350\n"
          ],
          "name": "stdout"
        },
        {
          "output_type": "execute_result",
          "data": {
            "text/html": [
              "<div>\n",
              "<style scoped>\n",
              "    .dataframe tbody tr th:only-of-type {\n",
              "        vertical-align: middle;\n",
              "    }\n",
              "\n",
              "    .dataframe tbody tr th {\n",
              "        vertical-align: top;\n",
              "    }\n",
              "\n",
              "    .dataframe thead th {\n",
              "        text-align: right;\n",
              "    }\n",
              "</style>\n",
              "<table border=\"1\" class=\"dataframe\">\n",
              "  <thead>\n",
              "    <tr style=\"text-align: right;\">\n",
              "      <th></th>\n",
              "      <th>cough</th>\n",
              "      <th>fever</th>\n",
              "      <th>sore_throat</th>\n",
              "      <th>shortness_of_breath</th>\n",
              "      <th>head_ache</th>\n",
              "      <th>age_60_and_above</th>\n",
              "      <th>gender</th>\n",
              "      <th>asthma</th>\n",
              "      <th>label</th>\n",
              "    </tr>\n",
              "  </thead>\n",
              "  <tbody>\n",
              "    <tr>\n",
              "      <th>59</th>\n",
              "      <td>1</td>\n",
              "      <td>1</td>\n",
              "      <td>0</td>\n",
              "      <td>0</td>\n",
              "      <td>1</td>\n",
              "      <td>0</td>\n",
              "      <td>1</td>\n",
              "      <td>0</td>\n",
              "      <td>1</td>\n",
              "    </tr>\n",
              "    <tr>\n",
              "      <th>66</th>\n",
              "      <td>1</td>\n",
              "      <td>1</td>\n",
              "      <td>0</td>\n",
              "      <td>0</td>\n",
              "      <td>0</td>\n",
              "      <td>0</td>\n",
              "      <td>1</td>\n",
              "      <td>0</td>\n",
              "      <td>1</td>\n",
              "    </tr>\n",
              "    <tr>\n",
              "      <th>71</th>\n",
              "      <td>1</td>\n",
              "      <td>0</td>\n",
              "      <td>1</td>\n",
              "      <td>0</td>\n",
              "      <td>1</td>\n",
              "      <td>0</td>\n",
              "      <td>1</td>\n",
              "      <td>0</td>\n",
              "      <td>1</td>\n",
              "    </tr>\n",
              "    <tr>\n",
              "      <th>134</th>\n",
              "      <td>0</td>\n",
              "      <td>0</td>\n",
              "      <td>1</td>\n",
              "      <td>0</td>\n",
              "      <td>0</td>\n",
              "      <td>0</td>\n",
              "      <td>1</td>\n",
              "      <td>0</td>\n",
              "      <td>1</td>\n",
              "    </tr>\n",
              "    <tr>\n",
              "      <th>190</th>\n",
              "      <td>0</td>\n",
              "      <td>0</td>\n",
              "      <td>1</td>\n",
              "      <td>0</td>\n",
              "      <td>1</td>\n",
              "      <td>0</td>\n",
              "      <td>1</td>\n",
              "      <td>0</td>\n",
              "      <td>1</td>\n",
              "    </tr>\n",
              "    <tr>\n",
              "      <th>...</th>\n",
              "      <td>...</td>\n",
              "      <td>...</td>\n",
              "      <td>...</td>\n",
              "      <td>...</td>\n",
              "      <td>...</td>\n",
              "      <td>...</td>\n",
              "      <td>...</td>\n",
              "      <td>...</td>\n",
              "      <td>...</td>\n",
              "    </tr>\n",
              "    <tr>\n",
              "      <th>69024</th>\n",
              "      <td>0</td>\n",
              "      <td>0</td>\n",
              "      <td>1</td>\n",
              "      <td>0</td>\n",
              "      <td>1</td>\n",
              "      <td>0</td>\n",
              "      <td>0</td>\n",
              "      <td>0</td>\n",
              "      <td>0</td>\n",
              "    </tr>\n",
              "    <tr>\n",
              "      <th>25020</th>\n",
              "      <td>1</td>\n",
              "      <td>0</td>\n",
              "      <td>0</td>\n",
              "      <td>0</td>\n",
              "      <td>0</td>\n",
              "      <td>0</td>\n",
              "      <td>1</td>\n",
              "      <td>0</td>\n",
              "      <td>0</td>\n",
              "    </tr>\n",
              "    <tr>\n",
              "      <th>22811</th>\n",
              "      <td>0</td>\n",
              "      <td>1</td>\n",
              "      <td>0</td>\n",
              "      <td>0</td>\n",
              "      <td>0</td>\n",
              "      <td>0</td>\n",
              "      <td>1</td>\n",
              "      <td>0</td>\n",
              "      <td>0</td>\n",
              "    </tr>\n",
              "    <tr>\n",
              "      <th>48195</th>\n",
              "      <td>1</td>\n",
              "      <td>1</td>\n",
              "      <td>0</td>\n",
              "      <td>0</td>\n",
              "      <td>1</td>\n",
              "      <td>0</td>\n",
              "      <td>0</td>\n",
              "      <td>0</td>\n",
              "      <td>0</td>\n",
              "    </tr>\n",
              "    <tr>\n",
              "      <th>410</th>\n",
              "      <td>0</td>\n",
              "      <td>1</td>\n",
              "      <td>0</td>\n",
              "      <td>0</td>\n",
              "      <td>1</td>\n",
              "      <td>0</td>\n",
              "      <td>1</td>\n",
              "      <td>0</td>\n",
              "      <td>0</td>\n",
              "    </tr>\n",
              "  </tbody>\n",
              "</table>\n",
              "<p>8700 rows × 9 columns</p>\n",
              "</div>"
            ],
            "text/plain": [
              "       cough  fever  sore_throat  ...  gender  asthma  label\n",
              "59         1      1            0  ...       1       0      1\n",
              "66         1      1            0  ...       1       0      1\n",
              "71         1      0            1  ...       1       0      1\n",
              "134        0      0            1  ...       1       0      1\n",
              "190        0      0            1  ...       1       0      1\n",
              "...      ...    ...          ...  ...     ...     ...    ...\n",
              "69024      0      0            1  ...       0       0      0\n",
              "25020      1      0            0  ...       1       0      0\n",
              "22811      0      1            0  ...       1       0      0\n",
              "48195      1      1            0  ...       0       0      0\n",
              "410        0      1            0  ...       1       0      0\n",
              "\n",
              "[8700 rows x 9 columns]"
            ]
          },
          "metadata": {
            "tags": []
          },
          "execution_count": 127
        }
      ]
    },
    {
      "cell_type": "code",
      "metadata": {
        "colab": {
          "base_uri": "https://localhost:8080/",
          "height": 436
        },
        "id": "R6-XqDHDSyLm",
        "outputId": "8832bf12-c052-489f-8d51-4a1c500a2fd4"
      },
      "source": [
        "train_number = int(len(df_balanced)/100*80)\n",
        "df_train = df_balanced[:train_number]\n",
        "df_test = df_balanced[train_number:]\n",
        "print(len(df_train),' / ',len(df_test))\n",
        "df_train"
      ],
      "execution_count": null,
      "outputs": [
        {
          "output_type": "stream",
          "text": [
            "6960  /  1740\n"
          ],
          "name": "stdout"
        },
        {
          "output_type": "execute_result",
          "data": {
            "text/html": [
              "<div>\n",
              "<style scoped>\n",
              "    .dataframe tbody tr th:only-of-type {\n",
              "        vertical-align: middle;\n",
              "    }\n",
              "\n",
              "    .dataframe tbody tr th {\n",
              "        vertical-align: top;\n",
              "    }\n",
              "\n",
              "    .dataframe thead th {\n",
              "        text-align: right;\n",
              "    }\n",
              "</style>\n",
              "<table border=\"1\" class=\"dataframe\">\n",
              "  <thead>\n",
              "    <tr style=\"text-align: right;\">\n",
              "      <th></th>\n",
              "      <th>cough</th>\n",
              "      <th>fever</th>\n",
              "      <th>sore_throat</th>\n",
              "      <th>shortness_of_breath</th>\n",
              "      <th>head_ache</th>\n",
              "      <th>age_60_and_above</th>\n",
              "      <th>gender</th>\n",
              "      <th>asthma</th>\n",
              "      <th>label</th>\n",
              "    </tr>\n",
              "  </thead>\n",
              "  <tbody>\n",
              "    <tr>\n",
              "      <th>59</th>\n",
              "      <td>1</td>\n",
              "      <td>1</td>\n",
              "      <td>0</td>\n",
              "      <td>0</td>\n",
              "      <td>1</td>\n",
              "      <td>0</td>\n",
              "      <td>1</td>\n",
              "      <td>0</td>\n",
              "      <td>1</td>\n",
              "    </tr>\n",
              "    <tr>\n",
              "      <th>66</th>\n",
              "      <td>1</td>\n",
              "      <td>1</td>\n",
              "      <td>0</td>\n",
              "      <td>0</td>\n",
              "      <td>0</td>\n",
              "      <td>0</td>\n",
              "      <td>1</td>\n",
              "      <td>0</td>\n",
              "      <td>1</td>\n",
              "    </tr>\n",
              "    <tr>\n",
              "      <th>71</th>\n",
              "      <td>1</td>\n",
              "      <td>0</td>\n",
              "      <td>1</td>\n",
              "      <td>0</td>\n",
              "      <td>1</td>\n",
              "      <td>0</td>\n",
              "      <td>1</td>\n",
              "      <td>0</td>\n",
              "      <td>1</td>\n",
              "    </tr>\n",
              "    <tr>\n",
              "      <th>134</th>\n",
              "      <td>0</td>\n",
              "      <td>0</td>\n",
              "      <td>1</td>\n",
              "      <td>0</td>\n",
              "      <td>0</td>\n",
              "      <td>0</td>\n",
              "      <td>1</td>\n",
              "      <td>0</td>\n",
              "      <td>1</td>\n",
              "    </tr>\n",
              "    <tr>\n",
              "      <th>190</th>\n",
              "      <td>0</td>\n",
              "      <td>0</td>\n",
              "      <td>1</td>\n",
              "      <td>0</td>\n",
              "      <td>1</td>\n",
              "      <td>0</td>\n",
              "      <td>1</td>\n",
              "      <td>0</td>\n",
              "      <td>1</td>\n",
              "    </tr>\n",
              "    <tr>\n",
              "      <th>...</th>\n",
              "      <td>...</td>\n",
              "      <td>...</td>\n",
              "      <td>...</td>\n",
              "      <td>...</td>\n",
              "      <td>...</td>\n",
              "      <td>...</td>\n",
              "      <td>...</td>\n",
              "      <td>...</td>\n",
              "      <td>...</td>\n",
              "    </tr>\n",
              "    <tr>\n",
              "      <th>10000</th>\n",
              "      <td>1</td>\n",
              "      <td>1</td>\n",
              "      <td>0</td>\n",
              "      <td>0</td>\n",
              "      <td>1</td>\n",
              "      <td>0</td>\n",
              "      <td>1</td>\n",
              "      <td>0</td>\n",
              "      <td>0</td>\n",
              "    </tr>\n",
              "    <tr>\n",
              "      <th>50630</th>\n",
              "      <td>0</td>\n",
              "      <td>1</td>\n",
              "      <td>1</td>\n",
              "      <td>0</td>\n",
              "      <td>0</td>\n",
              "      <td>0</td>\n",
              "      <td>0</td>\n",
              "      <td>0</td>\n",
              "      <td>0</td>\n",
              "    </tr>\n",
              "    <tr>\n",
              "      <th>1475</th>\n",
              "      <td>1</td>\n",
              "      <td>0</td>\n",
              "      <td>0</td>\n",
              "      <td>0</td>\n",
              "      <td>0</td>\n",
              "      <td>0</td>\n",
              "      <td>1</td>\n",
              "      <td>0</td>\n",
              "      <td>0</td>\n",
              "    </tr>\n",
              "    <tr>\n",
              "      <th>66598</th>\n",
              "      <td>1</td>\n",
              "      <td>0</td>\n",
              "      <td>0</td>\n",
              "      <td>0</td>\n",
              "      <td>1</td>\n",
              "      <td>0</td>\n",
              "      <td>0</td>\n",
              "      <td>1</td>\n",
              "      <td>0</td>\n",
              "    </tr>\n",
              "    <tr>\n",
              "      <th>35022</th>\n",
              "      <td>1</td>\n",
              "      <td>0</td>\n",
              "      <td>1</td>\n",
              "      <td>0</td>\n",
              "      <td>0</td>\n",
              "      <td>0</td>\n",
              "      <td>0</td>\n",
              "      <td>0</td>\n",
              "      <td>0</td>\n",
              "    </tr>\n",
              "  </tbody>\n",
              "</table>\n",
              "<p>6960 rows × 9 columns</p>\n",
              "</div>"
            ],
            "text/plain": [
              "       cough  fever  sore_throat  ...  gender  asthma  label\n",
              "59         1      1            0  ...       1       0      1\n",
              "66         1      1            0  ...       1       0      1\n",
              "71         1      0            1  ...       1       0      1\n",
              "134        0      0            1  ...       1       0      1\n",
              "190        0      0            1  ...       1       0      1\n",
              "...      ...    ...          ...  ...     ...     ...    ...\n",
              "10000      1      1            0  ...       1       0      0\n",
              "50630      0      1            1  ...       0       0      0\n",
              "1475       1      0            0  ...       1       0      0\n",
              "66598      1      0            0  ...       0       1      0\n",
              "35022      1      0            1  ...       0       0      0\n",
              "\n",
              "[6960 rows x 9 columns]"
            ]
          },
          "metadata": {
            "tags": []
          },
          "execution_count": 128
        }
      ]
    },
    {
      "cell_type": "code",
      "metadata": {
        "id": "LYNqy-H1PHZn"
      },
      "source": [
        "def dfToTensor(df):\n",
        "  label = df.pop('label')\n",
        "  dataset = tf.data.Dataset.from_tensor_slices((df.values, label.values))\n",
        "  return dataset"
      ],
      "execution_count": null,
      "outputs": []
    },
    {
      "cell_type": "code",
      "metadata": {
        "id": "LS30r-tdPeK6"
      },
      "source": [
        "tfTrain = dfToTensor(df_train)\n",
        "tfTest = dfToTensor(df_test)\n",
        "\n",
        "#dataset = tf.data.Dataset.from_tensor_slices((df_balanced.values, label.values))"
      ],
      "execution_count": null,
      "outputs": []
    },
    {
      "cell_type": "code",
      "metadata": {
        "colab": {
          "base_uri": "https://localhost:8080/"
        },
        "id": "GW1PqijdPo2E",
        "outputId": "2f27886f-ba9a-4297-c477-d3f3dbe2d732"
      },
      "source": [
        "tfTrain.element_spec[0].shape"
      ],
      "execution_count": null,
      "outputs": [
        {
          "output_type": "execute_result",
          "data": {
            "text/plain": [
              "TensorShape([8])"
            ]
          },
          "metadata": {
            "tags": []
          },
          "execution_count": 131
        }
      ]
    },
    {
      "cell_type": "code",
      "metadata": {
        "id": "l_uPRJ9djadu",
        "colab": {
          "base_uri": "https://localhost:8080/",
          "height": 231
        },
        "outputId": "2cdc7e37-2c6b-4261-f3ce-060eb55fe1f8"
      },
      "source": [
        "for i in range(1, NUM_CLIENTS+1):\n",
        "    client_ids.append(\"client_\" + str(i))\n",
        "\n",
        "def create_tf_dataset_for_client_fn(client_id,size):\n",
        "  # a function which takes a client_id and returns a\n",
        "  # tf.data.Dataset for that client\n",
        "  client_data = df_train[start:end]\n",
        "  client_data = df[df[client_id_colname] == client_id]\n",
        "  dataset = tf.data.Dataset.from_tensor_slices(client_data.to_dict('list'))\n",
        "  dataset = dataset.shuffle(SHUFFLE_BUFFER).batch(1).repeat(NUM_EPOCHS)\n",
        "  return dataset"
      ],
      "execution_count": null,
      "outputs": [
        {
          "output_type": "error",
          "ename": "NameError",
          "evalue": "ignored",
          "traceback": [
            "\u001b[0;31m---------------------------------------------------------------------------\u001b[0m",
            "\u001b[0;31mNameError\u001b[0m                                 Traceback (most recent call last)",
            "\u001b[0;32m<ipython-input-11-a13d6bbbb3e2>\u001b[0m in \u001b[0;36m<module>\u001b[0;34m()\u001b[0m\n\u001b[1;32m      1\u001b[0m \u001b[0;32mfor\u001b[0m \u001b[0mi\u001b[0m \u001b[0;32min\u001b[0m \u001b[0mrange\u001b[0m\u001b[0;34m(\u001b[0m\u001b[0;36m1\u001b[0m\u001b[0;34m,\u001b[0m \u001b[0mNUM_CLIENTS\u001b[0m\u001b[0;34m+\u001b[0m\u001b[0;36m1\u001b[0m\u001b[0;34m)\u001b[0m\u001b[0;34m:\u001b[0m\u001b[0;34m\u001b[0m\u001b[0;34m\u001b[0m\u001b[0m\n\u001b[0;32m----> 2\u001b[0;31m     \u001b[0mclient_ids\u001b[0m\u001b[0;34m.\u001b[0m\u001b[0mappend\u001b[0m\u001b[0;34m(\u001b[0m\u001b[0;34m\"client_\"\u001b[0m \u001b[0;34m+\u001b[0m \u001b[0mstr\u001b[0m\u001b[0;34m(\u001b[0m\u001b[0mi\u001b[0m\u001b[0;34m)\u001b[0m\u001b[0;34m)\u001b[0m\u001b[0;34m\u001b[0m\u001b[0;34m\u001b[0m\u001b[0m\n\u001b[0m\u001b[1;32m      3\u001b[0m \u001b[0;34m\u001b[0m\u001b[0m\n\u001b[1;32m      4\u001b[0m \u001b[0;32mdef\u001b[0m \u001b[0mcreate_tf_dataset_for_client_fn\u001b[0m\u001b[0;34m(\u001b[0m\u001b[0mclient_id\u001b[0m\u001b[0;34m,\u001b[0m\u001b[0msize\u001b[0m\u001b[0;34m)\u001b[0m\u001b[0;34m:\u001b[0m\u001b[0;34m\u001b[0m\u001b[0;34m\u001b[0m\u001b[0m\n\u001b[1;32m      5\u001b[0m   \u001b[0;31m# a function which takes a client_id and returns a\u001b[0m\u001b[0;34m\u001b[0m\u001b[0;34m\u001b[0m\u001b[0;34m\u001b[0m\u001b[0m\n",
            "\u001b[0;31mNameError\u001b[0m: name 'client_ids' is not defined"
          ]
        }
      ]
    },
    {
      "cell_type": "code",
      "metadata": {
        "id": "i3dSgwTgfqgy"
      },
      "source": [
        "y = df_train.loc[:,'label'].values\n",
        "del df_train['label']"
      ],
      "execution_count": null,
      "outputs": []
    },
    {
      "cell_type": "code",
      "metadata": {
        "colab": {
          "base_uri": "https://localhost:8080/",
          "height": 265
        },
        "id": "RTgBpVEbdxDf",
        "outputId": "c007b8aa-661d-4d4f-f452-7b3ae45e7c5c"
      },
      "source": [
        "import collections\n",
        "client_train_dataset = collections.OrderedDict()\n",
        "rows_per_set = 6960\n",
        "client_ids = []\n",
        "for i in range(1, NUM_CLIENTS+1):\n",
        "    client_name = \"client_\" + str(i)\n",
        "    client_ids.append(client_name)\n",
        "    start = rows_per_set * (i-1)\n",
        "    end = rows_per_set * i\n",
        "    print(client_name,start,end)\n",
        "    print(f\"Adding data from {start} to {end} for client : {client_name}\")\n",
        "    data = collections.OrderedDict((('label', y[start:end]), ('data', df_train[start:end])))\n",
        "    client_train_dataset[client_name] = data\n",
        "train_dataset = tff.simulation.FromTensorSlicesClientData(client_train_dataset)\n",
        "print(client_ids)\n",
        "print(train_dataset)"
      ],
      "execution_count": null,
      "outputs": [
        {
          "output_type": "stream",
          "text": [
            "client_1 0 6960\n",
            "Adding data from 0 to 6960 for client : client_1\n"
          ],
          "name": "stdout"
        },
        {
          "output_type": "error",
          "ename": "NameError",
          "evalue": "ignored",
          "traceback": [
            "\u001b[0;31m---------------------------------------------------------------------------\u001b[0m",
            "\u001b[0;31mNameError\u001b[0m                                 Traceback (most recent call last)",
            "\u001b[0;32m<ipython-input-12-f53e37453e00>\u001b[0m in \u001b[0;36m<module>\u001b[0;34m()\u001b[0m\n\u001b[1;32m     10\u001b[0m     \u001b[0mprint\u001b[0m\u001b[0;34m(\u001b[0m\u001b[0mclient_name\u001b[0m\u001b[0;34m,\u001b[0m\u001b[0mstart\u001b[0m\u001b[0;34m,\u001b[0m\u001b[0mend\u001b[0m\u001b[0;34m)\u001b[0m\u001b[0;34m\u001b[0m\u001b[0;34m\u001b[0m\u001b[0m\n\u001b[1;32m     11\u001b[0m     \u001b[0mprint\u001b[0m\u001b[0;34m(\u001b[0m\u001b[0;34mf\"Adding data from {start} to {end} for client : {client_name}\"\u001b[0m\u001b[0;34m)\u001b[0m\u001b[0;34m\u001b[0m\u001b[0;34m\u001b[0m\u001b[0m\n\u001b[0;32m---> 12\u001b[0;31m     \u001b[0mdata\u001b[0m \u001b[0;34m=\u001b[0m \u001b[0mcollections\u001b[0m\u001b[0;34m.\u001b[0m\u001b[0mOrderedDict\u001b[0m\u001b[0;34m(\u001b[0m\u001b[0;34m(\u001b[0m\u001b[0;34m(\u001b[0m\u001b[0;34m'label'\u001b[0m\u001b[0;34m,\u001b[0m \u001b[0my\u001b[0m\u001b[0;34m[\u001b[0m\u001b[0mstart\u001b[0m\u001b[0;34m:\u001b[0m\u001b[0mend\u001b[0m\u001b[0;34m]\u001b[0m\u001b[0;34m)\u001b[0m\u001b[0;34m,\u001b[0m \u001b[0;34m(\u001b[0m\u001b[0;34m'data'\u001b[0m\u001b[0;34m,\u001b[0m \u001b[0mdf_train\u001b[0m\u001b[0;34m[\u001b[0m\u001b[0mstart\u001b[0m\u001b[0;34m:\u001b[0m\u001b[0mend\u001b[0m\u001b[0;34m]\u001b[0m\u001b[0;34m)\u001b[0m\u001b[0;34m)\u001b[0m\u001b[0;34m)\u001b[0m\u001b[0;34m\u001b[0m\u001b[0;34m\u001b[0m\u001b[0m\n\u001b[0m\u001b[1;32m     13\u001b[0m     \u001b[0mclient_train_dataset\u001b[0m\u001b[0;34m[\u001b[0m\u001b[0mclient_name\u001b[0m\u001b[0;34m]\u001b[0m \u001b[0;34m=\u001b[0m \u001b[0mdata\u001b[0m\u001b[0;34m\u001b[0m\u001b[0;34m\u001b[0m\u001b[0m\n\u001b[1;32m     14\u001b[0m \u001b[0mtrain_dataset\u001b[0m \u001b[0;34m=\u001b[0m \u001b[0mtff\u001b[0m\u001b[0;34m.\u001b[0m\u001b[0msimulation\u001b[0m\u001b[0;34m.\u001b[0m\u001b[0mFromTensorSlicesClientData\u001b[0m\u001b[0;34m(\u001b[0m\u001b[0mclient_train_dataset\u001b[0m\u001b[0;34m)\u001b[0m\u001b[0;34m\u001b[0m\u001b[0;34m\u001b[0m\u001b[0m\n",
            "\u001b[0;31mNameError\u001b[0m: name 'y' is not defined"
          ]
        }
      ]
    },
    {
      "cell_type": "code",
      "metadata": {
        "colab": {
          "base_uri": "https://localhost:8080/"
        },
        "id": "i5o5Bl2bgeqi",
        "outputId": "965c71fc-a2ed-4611-a376-357c3b9a4c14"
      },
      "source": [
        "train_dataset"
      ],
      "execution_count": null,
      "outputs": [
        {
          "output_type": "execute_result",
          "data": {
            "text/plain": [
              "<tensorflow_federated.python.simulation.from_tensor_slices_client_data.FromTensorSlicesClientData at 0x7f4bba196690>"
            ]
          },
          "metadata": {
            "tags": []
          },
          "execution_count": 132
        }
      ]
    },
    {
      "cell_type": "markdown",
      "metadata": {
        "id": "e7u5_TzAobdl"
      },
      "source": [
        "##Data Preprocessing"
      ]
    },
    {
      "cell_type": "code",
      "metadata": {
        "colab": {
          "base_uri": "https://localhost:8080/"
        },
        "id": "R_-4GashUplI",
        "outputId": "c8f57091-dd22-48c1-e891-16b95f66cd7f"
      },
      "source": [
        "#@test {\"skip\": true}\n",
        "\n",
        "# tensorflow_federated_nightly also bring in tf_nightly, which\n",
        "# can causes a duplicate tensorboard install, leading to errors.\n",
        "!pip uninstall --yes tensorboard tb-nightly\n",
        "!pip install --quiet --upgrade tensorflow_federated\n",
        "!pip install --quiet --upgrade tensorflow-federated-nightly\n",
        "!pip install --quiet --upgrade nest-asyncio\n",
        "!pip install --quiet --upgrade tb-nightly  # or tensorboard, but not both\n",
        "import nest_asyncio\n",
        "nest_asyncio.apply()"
      ],
      "execution_count": null,
      "outputs": [
        {
          "output_type": "stream",
          "text": [
            "Uninstalling tensorboard-2.4.1:\n",
            "  Successfully uninstalled tensorboard-2.4.1\n",
            "\u001b[33mWARNING: Skipping tb-nightly as it is not installed.\u001b[0m\n",
            "\u001b[K     |████████████████████████████████| 583kB 12.7MB/s \n",
            "\u001b[K     |████████████████████████████████| 194kB 15.2MB/s \n",
            "\u001b[K     |████████████████████████████████| 174kB 32.5MB/s \n",
            "\u001b[K     |████████████████████████████████| 706kB 31.8MB/s \n",
            "\u001b[K     |████████████████████████████████| 6.0MB 66.8MB/s \n",
            "\u001b[K     |████████████████████████████████| 3.9MB 76.8MB/s \n",
            "\u001b[31mERROR: datascience 0.10.6 has requirement folium==0.2.1, but you'll have folium 0.8.3 which is incompatible.\u001b[0m\n",
            "\u001b[K     |████████████████████████████████| 604kB 13.7MB/s \n",
            "\u001b[K     |████████████████████████████████| 456.7MB 44kB/s \n",
            "\u001b[K     |████████████████████████████████| 51kB 5.3MB/s \n",
            "\u001b[K     |████████████████████████████████| 4.0MB 63.4MB/s \n",
            "\u001b[K     |████████████████████████████████| 5.9MB 58.4MB/s \n",
            "\u001b[K     |████████████████████████████████| 1.3MB 55.1MB/s \n",
            "\u001b[K     |████████████████████████████████| 4.0MB 69.5MB/s \n",
            "\u001b[K     |████████████████████████████████| 471kB 67.4MB/s \n",
            "\u001b[31mERROR: tensorflow 2.4.1 has requirement gast==0.3.3, but you'll have gast 0.4.0 which is incompatible.\u001b[0m\n",
            "\u001b[31mERROR: tensorflow 2.4.1 has requirement grpcio~=1.32.0, but you'll have grpcio 1.34.1 which is incompatible.\u001b[0m\n",
            "\u001b[31mERROR: tensorflow 2.4.1 has requirement h5py~=2.10.0, but you'll have h5py 3.1.0 which is incompatible.\u001b[0m\n",
            "\u001b[31mERROR: tensorflow-federated 0.18.0 has requirement grpcio~=1.32.0, but you'll have grpcio 1.34.1 which is incompatible.\u001b[0m\n",
            "\u001b[31mERROR: tensorflow-federated 0.18.0 has requirement h5py~=2.10.0, but you'll have h5py 3.1.0 which is incompatible.\u001b[0m\n",
            "\u001b[31mERROR: spacy 2.2.4 has requirement tqdm<5.0.0,>=4.38.0, but you'll have tqdm 4.28.1 which is incompatible.\u001b[0m\n",
            "\u001b[31mERROR: fbprophet 0.7.1 has requirement tqdm>=4.36.1, but you'll have tqdm 4.28.1 which is incompatible.\u001b[0m\n",
            "\u001b[31mERROR: tf-nightly 2.6.0.dev20210429 has requirement grpcio<2.0,>=1.37.0, but you'll have grpcio 1.34.1 which is incompatible.\u001b[0m\n",
            "\u001b[?25h"
          ],
          "name": "stdout"
        }
      ]
    },
    {
      "cell_type": "code",
      "metadata": {
        "colab": {
          "base_uri": "https://localhost:8080/"
        },
        "id": "u1VnlIB6U5NE",
        "outputId": "d0092d4b-f35a-4770-c50e-7726b5a65a5b"
      },
      "source": [
        "import collections\n",
        "\n",
        "import numpy as np\n",
        "import tensorflow as tf\n",
        "import tensorflow_federated as tff\n",
        "\n",
        "np.random.seed(0)\n",
        "\n",
        "tff.federated_computation(lambda: 'Hello, World!')()"
      ],
      "execution_count": null,
      "outputs": [
        {
          "output_type": "execute_result",
          "data": {
            "text/plain": [
              "b'Hello, World!'"
            ]
          },
          "metadata": {
            "tags": []
          },
          "execution_count": 2
        }
      ]
    },
    {
      "cell_type": "code",
      "metadata": {
        "colab": {
          "base_uri": "https://localhost:8080/",
          "height": 444
        },
        "id": "7lIE84kmoddu",
        "outputId": "9ca72c23-d8b6-40fb-a222-1bfe2d45ee92"
      },
      "source": [
        "import csv\n",
        "import pandas as pd\n",
        "import numpy as np\n",
        "\n",
        "df = pd.read_csv (r'Sample Dataset.csv',index_col=False)\n",
        "df = df.dropna()\n",
        "df['label'] = 0\n",
        "df['label'] = np.where((df['lc28'] == 1) | (df['lc56'] == 1), 1,0)\n",
        "del df['lc28']\n",
        "del df['lc56']\n",
        "df['gender'] = np.where((df['gender'] == 'male'), 1,0)\n",
        "df['age_60_and_above'] = np.where((df['age_60_and_above'] == 'Yes'), 1,0)\n",
        "df_positive = df[df.label == 1]\n",
        "df_negative = df[df.label ==0]\n",
        "df_negative = df_negative.sample(n=(len(df_positive)))\n",
        "print(len(df_positive))\n",
        "print(len(df_negative))\n",
        "dfs = [df_positive,df_negative]\n",
        "df_balanced = pd.concat(dfs)\n",
        "del df_positive\n",
        "del df_negative\n",
        "df_balanced = df_balanced.sample(frac=1)\n",
        "df_balanced"
      ],
      "execution_count": null,
      "outputs": [
        {
          "output_type": "stream",
          "text": [
            "4350\n",
            "4350\n"
          ],
          "name": "stdout"
        },
        {
          "output_type": "execute_result",
          "data": {
            "text/html": [
              "<div>\n",
              "<style scoped>\n",
              "    .dataframe tbody tr th:only-of-type {\n",
              "        vertical-align: middle;\n",
              "    }\n",
              "\n",
              "    .dataframe tbody tr th {\n",
              "        vertical-align: top;\n",
              "    }\n",
              "\n",
              "    .dataframe thead th {\n",
              "        text-align: right;\n",
              "    }\n",
              "</style>\n",
              "<table border=\"1\" class=\"dataframe\">\n",
              "  <thead>\n",
              "    <tr style=\"text-align: right;\">\n",
              "      <th></th>\n",
              "      <th>cough</th>\n",
              "      <th>fever</th>\n",
              "      <th>sore_throat</th>\n",
              "      <th>shortness_of_breath</th>\n",
              "      <th>head_ache</th>\n",
              "      <th>age_60_and_above</th>\n",
              "      <th>gender</th>\n",
              "      <th>asthma</th>\n",
              "      <th>label</th>\n",
              "    </tr>\n",
              "  </thead>\n",
              "  <tbody>\n",
              "    <tr>\n",
              "      <th>71561</th>\n",
              "      <td>1</td>\n",
              "      <td>0</td>\n",
              "      <td>0</td>\n",
              "      <td>0</td>\n",
              "      <td>0</td>\n",
              "      <td>1</td>\n",
              "      <td>0</td>\n",
              "      <td>0</td>\n",
              "      <td>1</td>\n",
              "    </tr>\n",
              "    <tr>\n",
              "      <th>63899</th>\n",
              "      <td>1</td>\n",
              "      <td>0</td>\n",
              "      <td>0</td>\n",
              "      <td>0</td>\n",
              "      <td>1</td>\n",
              "      <td>0</td>\n",
              "      <td>0</td>\n",
              "      <td>0</td>\n",
              "      <td>0</td>\n",
              "    </tr>\n",
              "    <tr>\n",
              "      <th>54944</th>\n",
              "      <td>1</td>\n",
              "      <td>0</td>\n",
              "      <td>0</td>\n",
              "      <td>0</td>\n",
              "      <td>0</td>\n",
              "      <td>0</td>\n",
              "      <td>0</td>\n",
              "      <td>0</td>\n",
              "      <td>1</td>\n",
              "    </tr>\n",
              "    <tr>\n",
              "      <th>58572</th>\n",
              "      <td>1</td>\n",
              "      <td>0</td>\n",
              "      <td>1</td>\n",
              "      <td>0</td>\n",
              "      <td>1</td>\n",
              "      <td>0</td>\n",
              "      <td>0</td>\n",
              "      <td>0</td>\n",
              "      <td>1</td>\n",
              "    </tr>\n",
              "    <tr>\n",
              "      <th>30852</th>\n",
              "      <td>0</td>\n",
              "      <td>1</td>\n",
              "      <td>0</td>\n",
              "      <td>0</td>\n",
              "      <td>0</td>\n",
              "      <td>1</td>\n",
              "      <td>1</td>\n",
              "      <td>0</td>\n",
              "      <td>1</td>\n",
              "    </tr>\n",
              "    <tr>\n",
              "      <th>...</th>\n",
              "      <td>...</td>\n",
              "      <td>...</td>\n",
              "      <td>...</td>\n",
              "      <td>...</td>\n",
              "      <td>...</td>\n",
              "      <td>...</td>\n",
              "      <td>...</td>\n",
              "      <td>...</td>\n",
              "      <td>...</td>\n",
              "    </tr>\n",
              "    <tr>\n",
              "      <th>45581</th>\n",
              "      <td>0</td>\n",
              "      <td>0</td>\n",
              "      <td>0</td>\n",
              "      <td>0</td>\n",
              "      <td>1</td>\n",
              "      <td>0</td>\n",
              "      <td>0</td>\n",
              "      <td>0</td>\n",
              "      <td>1</td>\n",
              "    </tr>\n",
              "    <tr>\n",
              "      <th>73040</th>\n",
              "      <td>1</td>\n",
              "      <td>0</td>\n",
              "      <td>0</td>\n",
              "      <td>0</td>\n",
              "      <td>0</td>\n",
              "      <td>1</td>\n",
              "      <td>0</td>\n",
              "      <td>1</td>\n",
              "      <td>1</td>\n",
              "    </tr>\n",
              "    <tr>\n",
              "      <th>48637</th>\n",
              "      <td>1</td>\n",
              "      <td>0</td>\n",
              "      <td>0</td>\n",
              "      <td>0</td>\n",
              "      <td>0</td>\n",
              "      <td>0</td>\n",
              "      <td>0</td>\n",
              "      <td>0</td>\n",
              "      <td>1</td>\n",
              "    </tr>\n",
              "    <tr>\n",
              "      <th>68550</th>\n",
              "      <td>1</td>\n",
              "      <td>0</td>\n",
              "      <td>0</td>\n",
              "      <td>0</td>\n",
              "      <td>0</td>\n",
              "      <td>0</td>\n",
              "      <td>0</td>\n",
              "      <td>0</td>\n",
              "      <td>0</td>\n",
              "    </tr>\n",
              "    <tr>\n",
              "      <th>32664</th>\n",
              "      <td>0</td>\n",
              "      <td>0</td>\n",
              "      <td>0</td>\n",
              "      <td>0</td>\n",
              "      <td>1</td>\n",
              "      <td>1</td>\n",
              "      <td>1</td>\n",
              "      <td>0</td>\n",
              "      <td>1</td>\n",
              "    </tr>\n",
              "  </tbody>\n",
              "</table>\n",
              "<p>8700 rows × 9 columns</p>\n",
              "</div>"
            ],
            "text/plain": [
              "       cough  fever  sore_throat  ...  gender  asthma  label\n",
              "71561      1      0            0  ...       0       0      1\n",
              "63899      1      0            0  ...       0       0      0\n",
              "54944      1      0            0  ...       0       0      1\n",
              "58572      1      0            1  ...       0       0      1\n",
              "30852      0      1            0  ...       1       0      1\n",
              "...      ...    ...          ...  ...     ...     ...    ...\n",
              "45581      0      0            0  ...       0       0      1\n",
              "73040      1      0            0  ...       0       1      1\n",
              "48637      1      0            0  ...       0       0      1\n",
              "68550      1      0            0  ...       0       0      0\n",
              "32664      0      0            0  ...       1       0      1\n",
              "\n",
              "[8700 rows x 9 columns]"
            ]
          },
          "metadata": {
            "tags": []
          },
          "execution_count": 3
        }
      ]
    },
    {
      "cell_type": "code",
      "metadata": {
        "colab": {
          "base_uri": "https://localhost:8080/"
        },
        "id": "cPMgIBamsFLe",
        "outputId": "c1b9f066-aef8-440a-94a5-91fd562e312e"
      },
      "source": [
        "msk = np.random.rand(len(df_balanced)) < 0.9\n",
        "\n",
        "df_test = df_balanced[~msk]\n",
        "df_balanced = df_balanced[msk]\n",
        "\n",
        "print(len(df_balanced))\n",
        "print(len(df_test))"
      ],
      "execution_count": null,
      "outputs": [
        {
          "output_type": "stream",
          "text": [
            "7045\n",
            "808\n"
          ],
          "name": "stdout"
        }
      ]
    },
    {
      "cell_type": "code",
      "metadata": {
        "id": "byrMzMX9gFlH"
      },
      "source": [
        "x = df_test.values[:,0:8]\n",
        "y = df_test.values[:,8]\n",
        "\n",
        "\n",
        "x_test = tf.convert_to_tensor(x, dtype=tf.float32)\n",
        "y_test  = tf.convert_to_tensor(y, dtype=tf.float32)"
      ],
      "execution_count": null,
      "outputs": []
    },
    {
      "cell_type": "code",
      "metadata": {
        "colab": {
          "base_uri": "https://localhost:8080/"
        },
        "id": "tl8nVWBlo1Od",
        "outputId": "0f600eb0-ec08-41f7-fde2-ec957e04f730"
      },
      "source": [
        "NUM_CLIENTS = 7000\n",
        "def listToList(lst):\n",
        "    return [[el] for el in lst]\n",
        "\n",
        "def fedData (df,NUM_CLIENTS):\n",
        "  rowperclient = int(len(df)/NUM_CLIENTS)\n",
        "  federated_dataset = []\n",
        "  print(rowperclient)\n",
        "  print(NUM_CLIENTS)\n",
        "  #train_number = int(len(df)/100*80)\n",
        "  #df_train = df_balanced[:train_number]\n",
        "  #df_test = df_balanced[train_number:]\n",
        "  for i in range(1,NUM_CLIENTS+1):\n",
        "    start = rowperclient * (i-1)\n",
        "    end = rowperclient * i\n",
        "    y_train = listToList(df_balanced['label'])\n",
        "    df_traindata = df_balanced.drop('label',axis=1) \n",
        "    #print(y_train[start:end])\n",
        "    data_dataset = tf.data.Dataset.from_tensor_slices((df_traindata[start:end].values,y_train[start:end]))\n",
        "\n",
        "    federated_dataset.append(data_dataset)\n",
        "\n",
        "  print(federated_dataset)\n",
        "  return federated_dataset\n",
        "federated_dataset = fedData(df_balanced,NUM_CLIENTS)"
      ],
      "execution_count": null,
      "outputs": [
        {
          "output_type": "stream",
          "text": [
            "1\n",
            "7000\n",
            "[<TensorSliceDataset shapes: ((8,), (1,)), types: (tf.int64, tf.int32)>, <TensorSliceDataset shapes: ((8,), (1,)), types: (tf.int64, tf.int32)>, <TensorSliceDataset shapes: ((8,), (1,)), types: (tf.int64, tf.int32)>, <TensorSliceDataset shapes: ((8,), (1,)), types: (tf.int64, tf.int32)>, <TensorSliceDataset shapes: ((8,), (1,)), types: (tf.int64, tf.int32)>, <TensorSliceDataset shapes: ((8,), (1,)), types: (tf.int64, tf.int32)>, <TensorSliceDataset shapes: ((8,), (1,)), types: (tf.int64, tf.int32)>, <TensorSliceDataset shapes: ((8,), (1,)), types: (tf.int64, tf.int32)>, <TensorSliceDataset shapes: ((8,), (1,)), types: (tf.int64, tf.int32)>, <TensorSliceDataset shapes: ((8,), (1,)), types: (tf.int64, tf.int32)>, <TensorSliceDataset shapes: ((8,), (1,)), types: (tf.int64, tf.int32)>, <TensorSliceDataset shapes: ((8,), (1,)), types: (tf.int64, tf.int32)>, <TensorSliceDataset shapes: ((8,), (1,)), types: (tf.int64, tf.int32)>, <TensorSliceDataset shapes: ((8,), (1,)), types: (tf.int64, tf.int32)>, <TensorSliceDataset shapes: ((8,), (1,)), types: (tf.int64, tf.int32)>, <TensorSliceDataset shapes: ((8,), (1,)), types: (tf.int64, tf.int32)>, <TensorSliceDataset shapes: ((8,), (1,)), types: (tf.int64, tf.int32)>, <TensorSliceDataset shapes: ((8,), (1,)), types: (tf.int64, tf.int32)>, <TensorSliceDataset shapes: ((8,), (1,)), types: (tf.int64, tf.int32)>, <TensorSliceDataset shapes: ((8,), (1,)), types: (tf.int64, tf.int32)>, <TensorSliceDataset shapes: ((8,), (1,)), types: (tf.int64, tf.int32)>, <TensorSliceDataset shapes: ((8,), (1,)), types: (tf.int64, tf.int32)>, <TensorSliceDataset shapes: ((8,), (1,)), types: (tf.int64, tf.int32)>, <TensorSliceDataset shapes: ((8,), (1,)), types: (tf.int64, tf.int32)>, <TensorSliceDataset shapes: ((8,), (1,)), types: (tf.int64, tf.int32)>, <TensorSliceDataset shapes: ((8,), (1,)), types: (tf.int64, tf.int32)>, <TensorSliceDataset shapes: ((8,), (1,)), types: (tf.int64, tf.int32)>, <TensorSliceDataset shapes: ((8,), (1,)), types: (tf.int64, tf.int32)>, <TensorSliceDataset shapes: ((8,), (1,)), types: (tf.int64, tf.int32)>, <TensorSliceDataset shapes: ((8,), (1,)), types: (tf.int64, tf.int32)>, <TensorSliceDataset shapes: ((8,), (1,)), types: (tf.int64, tf.int32)>, <TensorSliceDataset shapes: ((8,), (1,)), types: (tf.int64, tf.int32)>, <TensorSliceDataset shapes: ((8,), (1,)), types: (tf.int64, tf.int32)>, <TensorSliceDataset shapes: ((8,), (1,)), types: (tf.int64, tf.int32)>, <TensorSliceDataset shapes: ((8,), (1,)), types: (tf.int64, tf.int32)>, <TensorSliceDataset shapes: ((8,), (1,)), types: (tf.int64, tf.int32)>, <TensorSliceDataset shapes: ((8,), (1,)), types: (tf.int64, tf.int32)>, <TensorSliceDataset shapes: ((8,), (1,)), types: (tf.int64, tf.int32)>, <TensorSliceDataset shapes: ((8,), (1,)), types: (tf.int64, tf.int32)>, <TensorSliceDataset shapes: ((8,), (1,)), types: (tf.int64, tf.int32)>, <TensorSliceDataset shapes: ((8,), (1,)), types: (tf.int64, tf.int32)>, <TensorSliceDataset shapes: ((8,), (1,)), types: (tf.int64, tf.int32)>, <TensorSliceDataset shapes: ((8,), (1,)), types: (tf.int64, tf.int32)>, <TensorSliceDataset shapes: ((8,), (1,)), types: (tf.int64, tf.int32)>, <TensorSliceDataset shapes: ((8,), (1,)), types: (tf.int64, tf.int32)>, <TensorSliceDataset shapes: ((8,), (1,)), types: (tf.int64, tf.int32)>, <TensorSliceDataset shapes: ((8,), (1,)), types: (tf.int64, tf.int32)>, <TensorSliceDataset shapes: ((8,), (1,)), types: (tf.int64, tf.int32)>, <TensorSliceDataset shapes: ((8,), (1,)), types: (tf.int64, tf.int32)>, <TensorSliceDataset shapes: ((8,), (1,)), types: (tf.int64, tf.int32)>, <TensorSliceDataset shapes: ((8,), (1,)), types: (tf.int64, tf.int32)>, <TensorSliceDataset shapes: ((8,), (1,)), types: (tf.int64, tf.int32)>, <TensorSliceDataset shapes: ((8,), (1,)), types: (tf.int64, tf.int32)>, <TensorSliceDataset shapes: ((8,), (1,)), types: (tf.int64, tf.int32)>, <TensorSliceDataset shapes: ((8,), (1,)), types: (tf.int64, tf.int32)>, <TensorSliceDataset shapes: ((8,), (1,)), types: (tf.int64, tf.int32)>, <TensorSliceDataset shapes: ((8,), (1,)), types: (tf.int64, tf.int32)>, <TensorSliceDataset shapes: ((8,), (1,)), types: (tf.int64, tf.int32)>, <TensorSliceDataset shapes: ((8,), (1,)), types: (tf.int64, tf.int32)>, <TensorSliceDataset shapes: ((8,), (1,)), types: (tf.int64, tf.int32)>, <TensorSliceDataset shapes: ((8,), (1,)), types: (tf.int64, tf.int32)>, <TensorSliceDataset shapes: ((8,), (1,)), types: (tf.int64, tf.int32)>, <TensorSliceDataset shapes: ((8,), (1,)), types: (tf.int64, tf.int32)>, <TensorSliceDataset shapes: ((8,), (1,)), types: (tf.int64, tf.int32)>, <TensorSliceDataset shapes: ((8,), (1,)), types: (tf.int64, tf.int32)>, <TensorSliceDataset shapes: ((8,), (1,)), types: (tf.int64, tf.int32)>, <TensorSliceDataset shapes: ((8,), (1,)), types: (tf.int64, tf.int32)>, <TensorSliceDataset shapes: ((8,), (1,)), types: (tf.int64, tf.int32)>, <TensorSliceDataset shapes: ((8,), (1,)), types: (tf.int64, tf.int32)>, <TensorSliceDataset shapes: ((8,), (1,)), types: (tf.int64, tf.int32)>, <TensorSliceDataset shapes: ((8,), (1,)), types: (tf.int64, tf.int32)>, <TensorSliceDataset shapes: ((8,), (1,)), types: (tf.int64, tf.int32)>, <TensorSliceDataset shapes: ((8,), (1,)), types: (tf.int64, tf.int32)>, <TensorSliceDataset shapes: ((8,), (1,)), types: (tf.int64, tf.int32)>, <TensorSliceDataset shapes: ((8,), (1,)), types: (tf.int64, tf.int32)>, <TensorSliceDataset shapes: ((8,), (1,)), types: (tf.int64, tf.int32)>, <TensorSliceDataset shapes: ((8,), (1,)), types: (tf.int64, tf.int32)>, <TensorSliceDataset shapes: ((8,), (1,)), types: (tf.int64, tf.int32)>, <TensorSliceDataset shapes: ((8,), (1,)), types: (tf.int64, tf.int32)>, <TensorSliceDataset shapes: ((8,), (1,)), types: (tf.int64, tf.int32)>, <TensorSliceDataset shapes: ((8,), (1,)), types: (tf.int64, tf.int32)>, <TensorSliceDataset shapes: ((8,), (1,)), types: (tf.int64, tf.int32)>, <TensorSliceDataset shapes: ((8,), (1,)), types: (tf.int64, tf.int32)>, <TensorSliceDataset shapes: ((8,), (1,)), types: (tf.int64, tf.int32)>, <TensorSliceDataset shapes: ((8,), (1,)), types: (tf.int64, tf.int32)>, <TensorSliceDataset shapes: ((8,), (1,)), types: (tf.int64, tf.int32)>, <TensorSliceDataset shapes: ((8,), (1,)), types: (tf.int64, tf.int32)>, <TensorSliceDataset shapes: ((8,), (1,)), types: (tf.int64, tf.int32)>, <TensorSliceDataset shapes: ((8,), (1,)), types: (tf.int64, tf.int32)>, <TensorSliceDataset shapes: ((8,), (1,)), types: (tf.int64, tf.int32)>, <TensorSliceDataset shapes: ((8,), (1,)), types: (tf.int64, tf.int32)>, <TensorSliceDataset shapes: ((8,), (1,)), types: (tf.int64, tf.int32)>, <TensorSliceDataset shapes: ((8,), (1,)), types: (tf.int64, tf.int32)>, <TensorSliceDataset shapes: ((8,), (1,)), types: (tf.int64, tf.int32)>, <TensorSliceDataset shapes: ((8,), (1,)), types: (tf.int64, tf.int32)>, <TensorSliceDataset shapes: ((8,), (1,)), types: (tf.int64, tf.int32)>, <TensorSliceDataset shapes: ((8,), (1,)), types: (tf.int64, tf.int32)>, <TensorSliceDataset shapes: ((8,), (1,)), types: (tf.int64, tf.int32)>, <TensorSliceDataset shapes: ((8,), (1,)), types: (tf.int64, tf.int32)>, <TensorSliceDataset shapes: ((8,), (1,)), types: (tf.int64, tf.int32)>, <TensorSliceDataset shapes: ((8,), (1,)), types: (tf.int64, tf.int32)>, <TensorSliceDataset shapes: ((8,), (1,)), types: (tf.int64, tf.int32)>, <TensorSliceDataset shapes: ((8,), (1,)), types: (tf.int64, tf.int32)>, <TensorSliceDataset shapes: ((8,), (1,)), types: (tf.int64, tf.int32)>, <TensorSliceDataset shapes: ((8,), (1,)), types: (tf.int64, tf.int32)>, <TensorSliceDataset shapes: ((8,), (1,)), types: (tf.int64, tf.int32)>, <TensorSliceDataset shapes: ((8,), (1,)), types: (tf.int64, tf.int32)>, <TensorSliceDataset shapes: ((8,), (1,)), types: (tf.int64, tf.int32)>, <TensorSliceDataset shapes: ((8,), (1,)), types: (tf.int64, tf.int32)>, <TensorSliceDataset shapes: ((8,), (1,)), types: (tf.int64, tf.int32)>, <TensorSliceDataset shapes: ((8,), (1,)), types: (tf.int64, tf.int32)>, <TensorSliceDataset shapes: ((8,), (1,)), types: (tf.int64, tf.int32)>, <TensorSliceDataset shapes: ((8,), (1,)), types: (tf.int64, tf.int32)>, <TensorSliceDataset shapes: ((8,), (1,)), types: (tf.int64, tf.int32)>, <TensorSliceDataset shapes: ((8,), (1,)), types: (tf.int64, tf.int32)>, <TensorSliceDataset shapes: ((8,), (1,)), types: (tf.int64, tf.int32)>, <TensorSliceDataset shapes: ((8,), (1,)), types: (tf.int64, tf.int32)>, <TensorSliceDataset shapes: ((8,), (1,)), types: (tf.int64, tf.int32)>, <TensorSliceDataset shapes: ((8,), (1,)), types: (tf.int64, tf.int32)>, <TensorSliceDataset shapes: ((8,), (1,)), types: (tf.int64, tf.int32)>, <TensorSliceDataset shapes: ((8,), (1,)), types: (tf.int64, tf.int32)>, <TensorSliceDataset shapes: ((8,), (1,)), types: (tf.int64, tf.int32)>, <TensorSliceDataset shapes: ((8,), (1,)), types: (tf.int64, tf.int32)>, <TensorSliceDataset shapes: ((8,), (1,)), types: (tf.int64, tf.int32)>, <TensorSliceDataset shapes: ((8,), (1,)), types: (tf.int64, tf.int32)>, <TensorSliceDataset shapes: ((8,), (1,)), types: (tf.int64, tf.int32)>, <TensorSliceDataset shapes: ((8,), (1,)), types: (tf.int64, tf.int32)>, <TensorSliceDataset shapes: ((8,), (1,)), types: (tf.int64, tf.int32)>, <TensorSliceDataset shapes: ((8,), (1,)), types: (tf.int64, tf.int32)>, <TensorSliceDataset shapes: ((8,), (1,)), types: (tf.int64, tf.int32)>, <TensorSliceDataset shapes: ((8,), (1,)), types: (tf.int64, tf.int32)>, <TensorSliceDataset shapes: ((8,), (1,)), types: (tf.int64, tf.int32)>, <TensorSliceDataset shapes: ((8,), (1,)), types: (tf.int64, tf.int32)>, <TensorSliceDataset shapes: ((8,), (1,)), types: (tf.int64, tf.int32)>, <TensorSliceDataset shapes: ((8,), (1,)), types: (tf.int64, tf.int32)>, <TensorSliceDataset shapes: ((8,), (1,)), types: (tf.int64, tf.int32)>, <TensorSliceDataset shapes: ((8,), (1,)), types: (tf.int64, tf.int32)>, <TensorSliceDataset shapes: ((8,), (1,)), types: (tf.int64, tf.int32)>, <TensorSliceDataset shapes: ((8,), (1,)), types: (tf.int64, tf.int32)>, <TensorSliceDataset shapes: ((8,), (1,)), types: (tf.int64, tf.int32)>, <TensorSliceDataset shapes: ((8,), (1,)), types: (tf.int64, tf.int32)>, <TensorSliceDataset shapes: ((8,), (1,)), types: (tf.int64, tf.int32)>, <TensorSliceDataset shapes: ((8,), (1,)), types: (tf.int64, tf.int32)>, <TensorSliceDataset shapes: ((8,), (1,)), types: (tf.int64, tf.int32)>, <TensorSliceDataset shapes: ((8,), (1,)), types: (tf.int64, tf.int32)>, <TensorSliceDataset shapes: ((8,), (1,)), types: (tf.int64, tf.int32)>, <TensorSliceDataset shapes: ((8,), (1,)), types: (tf.int64, tf.int32)>, <TensorSliceDataset shapes: ((8,), (1,)), types: (tf.int64, tf.int32)>, <TensorSliceDataset shapes: ((8,), (1,)), types: (tf.int64, tf.int32)>, <TensorSliceDataset shapes: ((8,), (1,)), types: (tf.int64, tf.int32)>, <TensorSliceDataset shapes: ((8,), (1,)), types: (tf.int64, tf.int32)>, <TensorSliceDataset shapes: ((8,), (1,)), types: (tf.int64, tf.int32)>, <TensorSliceDataset shapes: ((8,), (1,)), types: (tf.int64, tf.int32)>, <TensorSliceDataset shapes: ((8,), (1,)), types: (tf.int64, tf.int32)>, <TensorSliceDataset shapes: ((8,), (1,)), types: (tf.int64, tf.int32)>, <TensorSliceDataset shapes: ((8,), (1,)), types: (tf.int64, tf.int32)>, <TensorSliceDataset shapes: ((8,), (1,)), types: (tf.int64, tf.int32)>, <TensorSliceDataset shapes: ((8,), (1,)), types: (tf.int64, tf.int32)>, <TensorSliceDataset shapes: ((8,), (1,)), types: (tf.int64, tf.int32)>, <TensorSliceDataset shapes: ((8,), (1,)), types: (tf.int64, tf.int32)>, <TensorSliceDataset shapes: ((8,), (1,)), types: (tf.int64, tf.int32)>, <TensorSliceDataset shapes: ((8,), (1,)), types: (tf.int64, tf.int32)>, <TensorSliceDataset shapes: ((8,), (1,)), types: (tf.int64, tf.int32)>, <TensorSliceDataset shapes: ((8,), (1,)), types: (tf.int64, tf.int32)>, <TensorSliceDataset shapes: ((8,), (1,)), types: (tf.int64, tf.int32)>, <TensorSliceDataset shapes: ((8,), (1,)), types: (tf.int64, tf.int32)>, <TensorSliceDataset shapes: ((8,), (1,)), types: (tf.int64, tf.int32)>, <TensorSliceDataset shapes: ((8,), (1,)), types: (tf.int64, tf.int32)>, <TensorSliceDataset shapes: ((8,), (1,)), types: (tf.int64, tf.int32)>, <TensorSliceDataset shapes: ((8,), (1,)), types: (tf.int64, tf.int32)>, <TensorSliceDataset shapes: ((8,), (1,)), types: (tf.int64, tf.int32)>, <TensorSliceDataset shapes: ((8,), (1,)), types: (tf.int64, tf.int32)>, <TensorSliceDataset shapes: ((8,), (1,)), types: (tf.int64, tf.int32)>, <TensorSliceDataset shapes: ((8,), (1,)), types: (tf.int64, tf.int32)>, <TensorSliceDataset shapes: ((8,), (1,)), types: (tf.int64, tf.int32)>, <TensorSliceDataset shapes: ((8,), (1,)), types: (tf.int64, tf.int32)>, <TensorSliceDataset shapes: ((8,), (1,)), types: (tf.int64, tf.int32)>, <TensorSliceDataset shapes: ((8,), (1,)), types: (tf.int64, tf.int32)>, <TensorSliceDataset shapes: ((8,), (1,)), types: (tf.int64, tf.int32)>, <TensorSliceDataset shapes: ((8,), (1,)), types: (tf.int64, tf.int32)>, <TensorSliceDataset shapes: ((8,), (1,)), types: (tf.int64, tf.int32)>, <TensorSliceDataset shapes: ((8,), (1,)), types: (tf.int64, tf.int32)>, <TensorSliceDataset shapes: ((8,), (1,)), types: (tf.int64, tf.int32)>, <TensorSliceDataset shapes: ((8,), (1,)), types: (tf.int64, tf.int32)>, <TensorSliceDataset shapes: ((8,), (1,)), types: (tf.int64, tf.int32)>, <TensorSliceDataset shapes: ((8,), (1,)), types: (tf.int64, tf.int32)>, <TensorSliceDataset shapes: ((8,), (1,)), types: (tf.int64, tf.int32)>, <TensorSliceDataset shapes: ((8,), (1,)), types: (tf.int64, tf.int32)>, <TensorSliceDataset shapes: ((8,), (1,)), types: (tf.int64, tf.int32)>, <TensorSliceDataset shapes: ((8,), (1,)), types: (tf.int64, tf.int32)>, <TensorSliceDataset shapes: ((8,), (1,)), types: (tf.int64, tf.int32)>, <TensorSliceDataset shapes: ((8,), (1,)), types: (tf.int64, tf.int32)>, <TensorSliceDataset shapes: ((8,), (1,)), types: (tf.int64, tf.int32)>, <TensorSliceDataset shapes: ((8,), (1,)), types: (tf.int64, tf.int32)>, <TensorSliceDataset shapes: ((8,), (1,)), types: (tf.int64, tf.int32)>, <TensorSliceDataset shapes: ((8,), (1,)), types: (tf.int64, tf.int32)>, <TensorSliceDataset shapes: ((8,), (1,)), types: (tf.int64, tf.int32)>, <TensorSliceDataset shapes: ((8,), (1,)), types: (tf.int64, tf.int32)>, <TensorSliceDataset shapes: ((8,), (1,)), types: (tf.int64, tf.int32)>, <TensorSliceDataset shapes: ((8,), (1,)), types: (tf.int64, tf.int32)>, <TensorSliceDataset shapes: ((8,), (1,)), types: (tf.int64, tf.int32)>, <TensorSliceDataset shapes: ((8,), (1,)), types: (tf.int64, tf.int32)>, <TensorSliceDataset shapes: ((8,), (1,)), types: (tf.int64, tf.int32)>, <TensorSliceDataset shapes: ((8,), (1,)), types: (tf.int64, tf.int32)>, <TensorSliceDataset shapes: ((8,), (1,)), types: (tf.int64, tf.int32)>, <TensorSliceDataset shapes: ((8,), (1,)), types: (tf.int64, tf.int32)>, <TensorSliceDataset shapes: ((8,), (1,)), types: (tf.int64, tf.int32)>, <TensorSliceDataset shapes: ((8,), (1,)), types: (tf.int64, tf.int32)>, <TensorSliceDataset shapes: ((8,), (1,)), types: (tf.int64, tf.int32)>, <TensorSliceDataset shapes: ((8,), (1,)), types: (tf.int64, tf.int32)>, <TensorSliceDataset shapes: ((8,), (1,)), types: (tf.int64, tf.int32)>, <TensorSliceDataset shapes: ((8,), (1,)), types: (tf.int64, tf.int32)>, <TensorSliceDataset shapes: ((8,), (1,)), types: (tf.int64, tf.int32)>, <TensorSliceDataset shapes: ((8,), (1,)), types: (tf.int64, tf.int32)>, <TensorSliceDataset shapes: ((8,), (1,)), types: (tf.int64, tf.int32)>, <TensorSliceDataset shapes: ((8,), (1,)), types: (tf.int64, tf.int32)>, <TensorSliceDataset shapes: ((8,), (1,)), types: (tf.int64, tf.int32)>, <TensorSliceDataset shapes: ((8,), (1,)), types: (tf.int64, tf.int32)>, <TensorSliceDataset shapes: ((8,), (1,)), types: (tf.int64, tf.int32)>, <TensorSliceDataset shapes: ((8,), (1,)), types: (tf.int64, tf.int32)>, <TensorSliceDataset shapes: ((8,), (1,)), types: (tf.int64, tf.int32)>, <TensorSliceDataset shapes: ((8,), (1,)), types: (tf.int64, tf.int32)>, <TensorSliceDataset shapes: ((8,), (1,)), types: (tf.int64, tf.int32)>, <TensorSliceDataset shapes: ((8,), (1,)), types: (tf.int64, tf.int32)>, <TensorSliceDataset shapes: ((8,), (1,)), types: (tf.int64, tf.int32)>, <TensorSliceDataset shapes: ((8,), (1,)), types: (tf.int64, tf.int32)>, <TensorSliceDataset shapes: ((8,), (1,)), types: (tf.int64, tf.int32)>, <TensorSliceDataset shapes: ((8,), (1,)), types: (tf.int64, tf.int32)>, <TensorSliceDataset shapes: ((8,), (1,)), types: (tf.int64, tf.int32)>, <TensorSliceDataset shapes: ((8,), (1,)), types: (tf.int64, tf.int32)>, <TensorSliceDataset shapes: ((8,), (1,)), types: (tf.int64, tf.int32)>, <TensorSliceDataset shapes: ((8,), (1,)), types: (tf.int64, tf.int32)>, <TensorSliceDataset shapes: ((8,), (1,)), types: (tf.int64, tf.int32)>, <TensorSliceDataset shapes: ((8,), (1,)), types: (tf.int64, tf.int32)>, <TensorSliceDataset shapes: ((8,), (1,)), types: (tf.int64, tf.int32)>, <TensorSliceDataset shapes: ((8,), (1,)), types: (tf.int64, tf.int32)>, <TensorSliceDataset shapes: ((8,), (1,)), types: (tf.int64, tf.int32)>, <TensorSliceDataset shapes: ((8,), (1,)), types: (tf.int64, tf.int32)>, <TensorSliceDataset shapes: ((8,), (1,)), types: (tf.int64, tf.int32)>, <TensorSliceDataset shapes: ((8,), (1,)), types: (tf.int64, tf.int32)>, <TensorSliceDataset shapes: ((8,), (1,)), types: (tf.int64, tf.int32)>, <TensorSliceDataset shapes: ((8,), (1,)), types: (tf.int64, tf.int32)>, <TensorSliceDataset shapes: ((8,), (1,)), types: (tf.int64, tf.int32)>, <TensorSliceDataset shapes: ((8,), (1,)), types: (tf.int64, tf.int32)>, <TensorSliceDataset shapes: ((8,), (1,)), types: (tf.int64, tf.int32)>, <TensorSliceDataset shapes: ((8,), (1,)), types: (tf.int64, tf.int32)>, <TensorSliceDataset shapes: ((8,), (1,)), types: (tf.int64, tf.int32)>, <TensorSliceDataset shapes: ((8,), (1,)), types: (tf.int64, tf.int32)>, <TensorSliceDataset shapes: ((8,), (1,)), types: (tf.int64, tf.int32)>, <TensorSliceDataset shapes: ((8,), (1,)), types: (tf.int64, tf.int32)>, <TensorSliceDataset shapes: ((8,), (1,)), types: (tf.int64, tf.int32)>, <TensorSliceDataset shapes: ((8,), (1,)), types: (tf.int64, tf.int32)>, <TensorSliceDataset shapes: ((8,), (1,)), types: (tf.int64, tf.int32)>, <TensorSliceDataset shapes: ((8,), (1,)), types: (tf.int64, tf.int32)>, <TensorSliceDataset shapes: ((8,), (1,)), types: (tf.int64, tf.int32)>, <TensorSliceDataset shapes: ((8,), (1,)), types: (tf.int64, tf.int32)>, <TensorSliceDataset shapes: ((8,), (1,)), types: (tf.int64, tf.int32)>, <TensorSliceDataset shapes: ((8,), (1,)), types: (tf.int64, tf.int32)>, <TensorSliceDataset shapes: ((8,), (1,)), types: (tf.int64, tf.int32)>, <TensorSliceDataset shapes: ((8,), (1,)), types: (tf.int64, tf.int32)>, <TensorSliceDataset shapes: ((8,), (1,)), types: (tf.int64, tf.int32)>, <TensorSliceDataset shapes: ((8,), (1,)), types: (tf.int64, tf.int32)>, <TensorSliceDataset shapes: ((8,), (1,)), types: (tf.int64, tf.int32)>, <TensorSliceDataset shapes: ((8,), (1,)), types: (tf.int64, tf.int32)>, <TensorSliceDataset shapes: ((8,), (1,)), types: (tf.int64, tf.int32)>, <TensorSliceDataset shapes: ((8,), (1,)), types: (tf.int64, tf.int32)>, <TensorSliceDataset shapes: ((8,), (1,)), types: (tf.int64, tf.int32)>, <TensorSliceDataset shapes: ((8,), (1,)), types: (tf.int64, tf.int32)>, <TensorSliceDataset shapes: ((8,), (1,)), types: (tf.int64, tf.int32)>, <TensorSliceDataset shapes: ((8,), (1,)), types: (tf.int64, tf.int32)>, <TensorSliceDataset shapes: ((8,), (1,)), types: (tf.int64, tf.int32)>, <TensorSliceDataset shapes: ((8,), (1,)), types: (tf.int64, tf.int32)>, <TensorSliceDataset shapes: ((8,), (1,)), types: (tf.int64, tf.int32)>, <TensorSliceDataset shapes: ((8,), (1,)), types: (tf.int64, tf.int32)>, <TensorSliceDataset shapes: ((8,), (1,)), types: (tf.int64, tf.int32)>, <TensorSliceDataset shapes: ((8,), (1,)), types: (tf.int64, tf.int32)>, <TensorSliceDataset shapes: ((8,), (1,)), types: (tf.int64, tf.int32)>, <TensorSliceDataset shapes: ((8,), (1,)), types: (tf.int64, tf.int32)>, <TensorSliceDataset shapes: ((8,), (1,)), types: (tf.int64, tf.int32)>, <TensorSliceDataset shapes: ((8,), (1,)), types: (tf.int64, tf.int32)>, <TensorSliceDataset shapes: ((8,), (1,)), types: (tf.int64, tf.int32)>, <TensorSliceDataset shapes: ((8,), (1,)), types: (tf.int64, tf.int32)>, <TensorSliceDataset shapes: ((8,), (1,)), types: (tf.int64, tf.int32)>, <TensorSliceDataset shapes: ((8,), (1,)), types: (tf.int64, tf.int32)>, <TensorSliceDataset shapes: ((8,), (1,)), types: (tf.int64, tf.int32)>, <TensorSliceDataset shapes: ((8,), (1,)), types: (tf.int64, tf.int32)>, <TensorSliceDataset shapes: ((8,), (1,)), types: (tf.int64, tf.int32)>, <TensorSliceDataset shapes: ((8,), (1,)), types: (tf.int64, tf.int32)>, <TensorSliceDataset shapes: ((8,), (1,)), types: (tf.int64, tf.int32)>, <TensorSliceDataset shapes: ((8,), (1,)), types: (tf.int64, tf.int32)>, <TensorSliceDataset shapes: ((8,), (1,)), types: (tf.int64, tf.int32)>, <TensorSliceDataset shapes: ((8,), (1,)), types: (tf.int64, tf.int32)>, <TensorSliceDataset shapes: ((8,), (1,)), types: (tf.int64, tf.int32)>, <TensorSliceDataset shapes: ((8,), (1,)), types: (tf.int64, tf.int32)>, <TensorSliceDataset shapes: ((8,), (1,)), types: (tf.int64, tf.int32)>, <TensorSliceDataset shapes: ((8,), (1,)), types: (tf.int64, tf.int32)>, <TensorSliceDataset shapes: ((8,), (1,)), types: (tf.int64, tf.int32)>, <TensorSliceDataset shapes: ((8,), (1,)), types: (tf.int64, tf.int32)>, <TensorSliceDataset shapes: ((8,), (1,)), types: (tf.int64, tf.int32)>, <TensorSliceDataset shapes: ((8,), (1,)), types: (tf.int64, tf.int32)>, <TensorSliceDataset shapes: ((8,), (1,)), types: (tf.int64, tf.int32)>, <TensorSliceDataset shapes: ((8,), (1,)), types: (tf.int64, tf.int32)>, <TensorSliceDataset shapes: ((8,), (1,)), types: (tf.int64, tf.int32)>, <TensorSliceDataset shapes: ((8,), (1,)), types: (tf.int64, tf.int32)>, <TensorSliceDataset shapes: ((8,), (1,)), types: (tf.int64, tf.int32)>, <TensorSliceDataset shapes: ((8,), (1,)), types: (tf.int64, tf.int32)>, <TensorSliceDataset shapes: ((8,), (1,)), types: (tf.int64, tf.int32)>, <TensorSliceDataset shapes: ((8,), (1,)), types: (tf.int64, tf.int32)>, <TensorSliceDataset shapes: ((8,), (1,)), types: (tf.int64, tf.int32)>, <TensorSliceDataset shapes: ((8,), (1,)), types: (tf.int64, tf.int32)>, <TensorSliceDataset shapes: ((8,), (1,)), types: (tf.int64, tf.int32)>, <TensorSliceDataset shapes: ((8,), (1,)), types: (tf.int64, tf.int32)>, <TensorSliceDataset shapes: ((8,), (1,)), types: (tf.int64, tf.int32)>, <TensorSliceDataset shapes: ((8,), (1,)), types: (tf.int64, tf.int32)>, <TensorSliceDataset shapes: ((8,), (1,)), types: (tf.int64, tf.int32)>, <TensorSliceDataset shapes: ((8,), (1,)), types: (tf.int64, tf.int32)>, <TensorSliceDataset shapes: ((8,), (1,)), types: (tf.int64, tf.int32)>, <TensorSliceDataset shapes: ((8,), (1,)), types: (tf.int64, tf.int32)>, <TensorSliceDataset shapes: ((8,), (1,)), types: (tf.int64, tf.int32)>, <TensorSliceDataset shapes: ((8,), (1,)), types: (tf.int64, tf.int32)>, <TensorSliceDataset shapes: ((8,), (1,)), types: (tf.int64, tf.int32)>, <TensorSliceDataset shapes: ((8,), (1,)), types: (tf.int64, tf.int32)>, <TensorSliceDataset shapes: ((8,), (1,)), types: (tf.int64, tf.int32)>, <TensorSliceDataset shapes: ((8,), (1,)), types: (tf.int64, tf.int32)>, <TensorSliceDataset shapes: ((8,), (1,)), types: (tf.int64, tf.int32)>, <TensorSliceDataset shapes: ((8,), (1,)), types: (tf.int64, tf.int32)>, <TensorSliceDataset shapes: ((8,), (1,)), types: (tf.int64, tf.int32)>, <TensorSliceDataset shapes: ((8,), (1,)), types: (tf.int64, tf.int32)>, <TensorSliceDataset shapes: ((8,), (1,)), types: (tf.int64, tf.int32)>, <TensorSliceDataset shapes: ((8,), (1,)), types: (tf.int64, tf.int32)>, <TensorSliceDataset shapes: ((8,), (1,)), types: (tf.int64, tf.int32)>, <TensorSliceDataset shapes: ((8,), (1,)), types: (tf.int64, tf.int32)>, <TensorSliceDataset shapes: ((8,), (1,)), types: (tf.int64, tf.int32)>, <TensorSliceDataset shapes: ((8,), (1,)), types: (tf.int64, tf.int32)>, <TensorSliceDataset shapes: ((8,), (1,)), types: (tf.int64, tf.int32)>, <TensorSliceDataset shapes: ((8,), (1,)), types: (tf.int64, tf.int32)>, <TensorSliceDataset shapes: ((8,), (1,)), types: (tf.int64, tf.int32)>, <TensorSliceDataset shapes: ((8,), (1,)), types: (tf.int64, tf.int32)>, <TensorSliceDataset shapes: ((8,), (1,)), types: (tf.int64, tf.int32)>, <TensorSliceDataset shapes: ((8,), (1,)), types: (tf.int64, tf.int32)>, <TensorSliceDataset shapes: ((8,), (1,)), types: (tf.int64, tf.int32)>, <TensorSliceDataset shapes: ((8,), (1,)), types: (tf.int64, tf.int32)>, <TensorSliceDataset shapes: ((8,), (1,)), types: (tf.int64, tf.int32)>, <TensorSliceDataset shapes: ((8,), (1,)), types: (tf.int64, tf.int32)>, <TensorSliceDataset shapes: ((8,), (1,)), types: (tf.int64, tf.int32)>, <TensorSliceDataset shapes: ((8,), (1,)), types: (tf.int64, tf.int32)>, <TensorSliceDataset shapes: ((8,), (1,)), types: (tf.int64, tf.int32)>, <TensorSliceDataset shapes: ((8,), (1,)), types: (tf.int64, tf.int32)>, <TensorSliceDataset shapes: ((8,), (1,)), types: (tf.int64, tf.int32)>, <TensorSliceDataset shapes: ((8,), (1,)), types: (tf.int64, tf.int32)>, <TensorSliceDataset shapes: ((8,), (1,)), types: (tf.int64, tf.int32)>, <TensorSliceDataset shapes: ((8,), (1,)), types: (tf.int64, tf.int32)>, <TensorSliceDataset shapes: ((8,), (1,)), types: (tf.int64, tf.int32)>, <TensorSliceDataset shapes: ((8,), (1,)), types: (tf.int64, tf.int32)>, <TensorSliceDataset shapes: ((8,), (1,)), types: (tf.int64, tf.int32)>, <TensorSliceDataset shapes: ((8,), (1,)), types: (tf.int64, tf.int32)>, <TensorSliceDataset shapes: ((8,), (1,)), types: (tf.int64, tf.int32)>, <TensorSliceDataset shapes: ((8,), (1,)), types: (tf.int64, tf.int32)>, <TensorSliceDataset shapes: ((8,), (1,)), types: (tf.int64, tf.int32)>, <TensorSliceDataset shapes: ((8,), (1,)), types: (tf.int64, tf.int32)>, <TensorSliceDataset shapes: ((8,), (1,)), types: (tf.int64, tf.int32)>, <TensorSliceDataset shapes: ((8,), (1,)), types: (tf.int64, tf.int32)>, <TensorSliceDataset shapes: ((8,), (1,)), types: (tf.int64, tf.int32)>, <TensorSliceDataset shapes: ((8,), (1,)), types: (tf.int64, tf.int32)>, <TensorSliceDataset shapes: ((8,), (1,)), types: (tf.int64, tf.int32)>, <TensorSliceDataset shapes: ((8,), (1,)), types: (tf.int64, tf.int32)>, <TensorSliceDataset shapes: ((8,), (1,)), types: (tf.int64, tf.int32)>, <TensorSliceDataset shapes: ((8,), (1,)), types: (tf.int64, tf.int32)>, <TensorSliceDataset shapes: ((8,), (1,)), types: (tf.int64, tf.int32)>, <TensorSliceDataset shapes: ((8,), (1,)), types: (tf.int64, tf.int32)>, <TensorSliceDataset shapes: ((8,), (1,)), types: (tf.int64, tf.int32)>, <TensorSliceDataset shapes: ((8,), (1,)), types: (tf.int64, tf.int32)>, <TensorSliceDataset shapes: ((8,), (1,)), types: (tf.int64, tf.int32)>, <TensorSliceDataset shapes: ((8,), (1,)), types: (tf.int64, tf.int32)>, <TensorSliceDataset shapes: ((8,), (1,)), types: (tf.int64, tf.int32)>, <TensorSliceDataset shapes: ((8,), (1,)), types: (tf.int64, tf.int32)>, <TensorSliceDataset shapes: ((8,), (1,)), types: (tf.int64, tf.int32)>, <TensorSliceDataset shapes: ((8,), (1,)), types: (tf.int64, tf.int32)>, <TensorSliceDataset shapes: ((8,), (1,)), types: (tf.int64, tf.int32)>, <TensorSliceDataset shapes: ((8,), (1,)), types: (tf.int64, tf.int32)>, <TensorSliceDataset shapes: ((8,), (1,)), types: (tf.int64, tf.int32)>, <TensorSliceDataset shapes: ((8,), (1,)), types: (tf.int64, tf.int32)>, <TensorSliceDataset shapes: ((8,), (1,)), types: (tf.int64, tf.int32)>, <TensorSliceDataset shapes: ((8,), (1,)), types: (tf.int64, tf.int32)>, <TensorSliceDataset shapes: ((8,), (1,)), types: (tf.int64, tf.int32)>, <TensorSliceDataset shapes: ((8,), (1,)), types: (tf.int64, tf.int32)>, <TensorSliceDataset shapes: ((8,), (1,)), types: (tf.int64, tf.int32)>, <TensorSliceDataset shapes: ((8,), (1,)), types: (tf.int64, tf.int32)>, <TensorSliceDataset shapes: ((8,), (1,)), types: (tf.int64, tf.int32)>, <TensorSliceDataset shapes: ((8,), (1,)), types: (tf.int64, tf.int32)>, <TensorSliceDataset shapes: ((8,), (1,)), types: (tf.int64, tf.int32)>, <TensorSliceDataset shapes: ((8,), (1,)), types: (tf.int64, tf.int32)>, <TensorSliceDataset shapes: ((8,), (1,)), types: (tf.int64, tf.int32)>, <TensorSliceDataset shapes: ((8,), (1,)), types: (tf.int64, tf.int32)>, <TensorSliceDataset shapes: ((8,), (1,)), types: (tf.int64, tf.int32)>, <TensorSliceDataset shapes: ((8,), (1,)), types: (tf.int64, tf.int32)>, <TensorSliceDataset shapes: ((8,), (1,)), types: (tf.int64, tf.int32)>, <TensorSliceDataset shapes: ((8,), (1,)), types: (tf.int64, tf.int32)>, <TensorSliceDataset shapes: ((8,), (1,)), types: (tf.int64, tf.int32)>, <TensorSliceDataset shapes: ((8,), (1,)), types: (tf.int64, tf.int32)>, <TensorSliceDataset shapes: ((8,), (1,)), types: (tf.int64, tf.int32)>, <TensorSliceDataset shapes: ((8,), (1,)), types: (tf.int64, tf.int32)>, <TensorSliceDataset shapes: ((8,), (1,)), types: (tf.int64, tf.int32)>, <TensorSliceDataset shapes: ((8,), (1,)), types: (tf.int64, tf.int32)>, <TensorSliceDataset shapes: ((8,), (1,)), types: (tf.int64, tf.int32)>, <TensorSliceDataset shapes: ((8,), (1,)), types: (tf.int64, tf.int32)>, <TensorSliceDataset shapes: ((8,), (1,)), types: (tf.int64, tf.int32)>, <TensorSliceDataset shapes: ((8,), (1,)), types: (tf.int64, tf.int32)>, <TensorSliceDataset shapes: ((8,), (1,)), types: (tf.int64, tf.int32)>, <TensorSliceDataset shapes: ((8,), (1,)), types: (tf.int64, tf.int32)>, <TensorSliceDataset shapes: ((8,), (1,)), types: (tf.int64, tf.int32)>, <TensorSliceDataset shapes: ((8,), (1,)), types: (tf.int64, tf.int32)>, <TensorSliceDataset shapes: ((8,), (1,)), types: (tf.int64, tf.int32)>, <TensorSliceDataset shapes: ((8,), (1,)), types: (tf.int64, tf.int32)>, <TensorSliceDataset shapes: ((8,), (1,)), types: (tf.int64, tf.int32)>, <TensorSliceDataset shapes: ((8,), (1,)), types: (tf.int64, tf.int32)>, <TensorSliceDataset shapes: ((8,), (1,)), types: (tf.int64, tf.int32)>, <TensorSliceDataset shapes: ((8,), (1,)), types: (tf.int64, tf.int32)>, <TensorSliceDataset shapes: ((8,), (1,)), types: (tf.int64, tf.int32)>, <TensorSliceDataset shapes: ((8,), (1,)), types: (tf.int64, tf.int32)>, <TensorSliceDataset shapes: ((8,), (1,)), types: (tf.int64, tf.int32)>, <TensorSliceDataset shapes: ((8,), (1,)), types: (tf.int64, tf.int32)>, <TensorSliceDataset shapes: ((8,), (1,)), types: (tf.int64, tf.int32)>, <TensorSliceDataset shapes: ((8,), (1,)), types: (tf.int64, tf.int32)>, <TensorSliceDataset shapes: ((8,), (1,)), types: (tf.int64, tf.int32)>, <TensorSliceDataset shapes: ((8,), (1,)), types: (tf.int64, tf.int32)>, <TensorSliceDataset shapes: ((8,), (1,)), types: (tf.int64, tf.int32)>, <TensorSliceDataset shapes: ((8,), (1,)), types: (tf.int64, tf.int32)>, <TensorSliceDataset shapes: ((8,), (1,)), types: (tf.int64, tf.int32)>, <TensorSliceDataset shapes: ((8,), (1,)), types: (tf.int64, tf.int32)>, <TensorSliceDataset shapes: ((8,), (1,)), types: (tf.int64, tf.int32)>, <TensorSliceDataset shapes: ((8,), (1,)), types: (tf.int64, tf.int32)>, <TensorSliceDataset shapes: ((8,), (1,)), types: (tf.int64, tf.int32)>, <TensorSliceDataset shapes: ((8,), (1,)), types: (tf.int64, tf.int32)>, <TensorSliceDataset shapes: ((8,), (1,)), types: (tf.int64, tf.int32)>, <TensorSliceDataset shapes: ((8,), (1,)), types: (tf.int64, tf.int32)>, <TensorSliceDataset shapes: ((8,), (1,)), types: (tf.int64, tf.int32)>, <TensorSliceDataset shapes: ((8,), (1,)), types: (tf.int64, tf.int32)>, <TensorSliceDataset shapes: ((8,), (1,)), types: (tf.int64, tf.int32)>, <TensorSliceDataset shapes: ((8,), (1,)), types: (tf.int64, tf.int32)>, <TensorSliceDataset shapes: ((8,), (1,)), types: (tf.int64, tf.int32)>, <TensorSliceDataset shapes: ((8,), (1,)), types: (tf.int64, tf.int32)>, <TensorSliceDataset shapes: ((8,), (1,)), types: (tf.int64, tf.int32)>, <TensorSliceDataset shapes: ((8,), (1,)), types: (tf.int64, tf.int32)>, <TensorSliceDataset shapes: ((8,), (1,)), types: (tf.int64, tf.int32)>, <TensorSliceDataset shapes: ((8,), (1,)), types: (tf.int64, tf.int32)>, <TensorSliceDataset shapes: ((8,), (1,)), types: (tf.int64, tf.int32)>, <TensorSliceDataset shapes: ((8,), (1,)), types: (tf.int64, tf.int32)>, <TensorSliceDataset shapes: ((8,), (1,)), types: (tf.int64, tf.int32)>, <TensorSliceDataset shapes: ((8,), (1,)), types: (tf.int64, tf.int32)>, <TensorSliceDataset shapes: ((8,), (1,)), types: (tf.int64, tf.int32)>, <TensorSliceDataset shapes: ((8,), (1,)), types: (tf.int64, tf.int32)>, <TensorSliceDataset shapes: ((8,), (1,)), types: (tf.int64, tf.int32)>, <TensorSliceDataset shapes: ((8,), (1,)), types: (tf.int64, tf.int32)>, <TensorSliceDataset shapes: ((8,), (1,)), types: (tf.int64, tf.int32)>, <TensorSliceDataset shapes: ((8,), (1,)), types: (tf.int64, tf.int32)>, <TensorSliceDataset shapes: ((8,), (1,)), types: (tf.int64, tf.int32)>, <TensorSliceDataset shapes: ((8,), (1,)), types: (tf.int64, tf.int32)>, <TensorSliceDataset shapes: ((8,), (1,)), types: (tf.int64, tf.int32)>, <TensorSliceDataset shapes: ((8,), (1,)), types: (tf.int64, tf.int32)>, <TensorSliceDataset shapes: ((8,), (1,)), types: (tf.int64, tf.int32)>, <TensorSliceDataset shapes: ((8,), (1,)), types: (tf.int64, tf.int32)>, <TensorSliceDataset shapes: ((8,), (1,)), types: (tf.int64, tf.int32)>, <TensorSliceDataset shapes: ((8,), (1,)), types: (tf.int64, tf.int32)>, <TensorSliceDataset shapes: ((8,), (1,)), types: (tf.int64, tf.int32)>, <TensorSliceDataset shapes: ((8,), (1,)), types: (tf.int64, tf.int32)>, <TensorSliceDataset shapes: ((8,), (1,)), types: (tf.int64, tf.int32)>, <TensorSliceDataset shapes: ((8,), (1,)), types: (tf.int64, tf.int32)>, <TensorSliceDataset shapes: ((8,), (1,)), types: (tf.int64, tf.int32)>, <TensorSliceDataset shapes: ((8,), (1,)), types: (tf.int64, tf.int32)>, <TensorSliceDataset shapes: ((8,), (1,)), types: (tf.int64, tf.int32)>, <TensorSliceDataset shapes: ((8,), (1,)), types: (tf.int64, tf.int32)>, <TensorSliceDataset shapes: ((8,), (1,)), types: (tf.int64, tf.int32)>, <TensorSliceDataset shapes: ((8,), (1,)), types: (tf.int64, tf.int32)>, <TensorSliceDataset shapes: ((8,), (1,)), types: (tf.int64, tf.int32)>, <TensorSliceDataset shapes: ((8,), (1,)), types: (tf.int64, tf.int32)>, <TensorSliceDataset shapes: ((8,), (1,)), types: (tf.int64, tf.int32)>, <TensorSliceDataset shapes: ((8,), (1,)), types: (tf.int64, tf.int32)>, <TensorSliceDataset shapes: ((8,), (1,)), types: (tf.int64, tf.int32)>, <TensorSliceDataset shapes: ((8,), (1,)), types: (tf.int64, tf.int32)>, <TensorSliceDataset shapes: ((8,), (1,)), types: (tf.int64, tf.int32)>, <TensorSliceDataset shapes: ((8,), (1,)), types: (tf.int64, tf.int32)>, <TensorSliceDataset shapes: ((8,), (1,)), types: (tf.int64, tf.int32)>, <TensorSliceDataset shapes: ((8,), (1,)), types: (tf.int64, tf.int32)>, <TensorSliceDataset shapes: ((8,), (1,)), types: (tf.int64, tf.int32)>, <TensorSliceDataset shapes: ((8,), (1,)), types: (tf.int64, tf.int32)>, <TensorSliceDataset shapes: ((8,), (1,)), types: (tf.int64, tf.int32)>, <TensorSliceDataset shapes: ((8,), (1,)), types: (tf.int64, tf.int32)>, <TensorSliceDataset shapes: ((8,), (1,)), types: (tf.int64, tf.int32)>, <TensorSliceDataset shapes: ((8,), (1,)), types: (tf.int64, tf.int32)>, <TensorSliceDataset shapes: ((8,), (1,)), types: (tf.int64, tf.int32)>, <TensorSliceDataset shapes: ((8,), (1,)), types: (tf.int64, tf.int32)>, <TensorSliceDataset shapes: ((8,), (1,)), types: (tf.int64, tf.int32)>, <TensorSliceDataset shapes: ((8,), (1,)), types: (tf.int64, tf.int32)>, <TensorSliceDataset shapes: ((8,), (1,)), types: (tf.int64, tf.int32)>, <TensorSliceDataset shapes: ((8,), (1,)), types: (tf.int64, tf.int32)>, <TensorSliceDataset shapes: ((8,), (1,)), types: (tf.int64, tf.int32)>, <TensorSliceDataset shapes: ((8,), (1,)), types: (tf.int64, tf.int32)>, <TensorSliceDataset shapes: ((8,), (1,)), types: (tf.int64, tf.int32)>, <TensorSliceDataset shapes: ((8,), (1,)), types: (tf.int64, tf.int32)>, <TensorSliceDataset shapes: ((8,), (1,)), types: (tf.int64, tf.int32)>, <TensorSliceDataset shapes: ((8,), (1,)), types: (tf.int64, tf.int32)>, <TensorSliceDataset shapes: ((8,), (1,)), types: (tf.int64, tf.int32)>, <TensorSliceDataset shapes: ((8,), (1,)), types: (tf.int64, tf.int32)>, <TensorSliceDataset shapes: ((8,), (1,)), types: (tf.int64, tf.int32)>, <TensorSliceDataset shapes: ((8,), (1,)), types: (tf.int64, tf.int32)>, <TensorSliceDataset shapes: ((8,), (1,)), types: (tf.int64, tf.int32)>, <TensorSliceDataset shapes: ((8,), (1,)), types: (tf.int64, tf.int32)>, <TensorSliceDataset shapes: ((8,), (1,)), types: (tf.int64, tf.int32)>, <TensorSliceDataset shapes: ((8,), (1,)), types: (tf.int64, tf.int32)>, <TensorSliceDataset shapes: ((8,), (1,)), types: (tf.int64, tf.int32)>, <TensorSliceDataset shapes: ((8,), (1,)), types: (tf.int64, tf.int32)>, <TensorSliceDataset shapes: ((8,), (1,)), types: (tf.int64, tf.int32)>, <TensorSliceDataset shapes: ((8,), (1,)), types: (tf.int64, tf.int32)>, <TensorSliceDataset shapes: ((8,), (1,)), types: (tf.int64, tf.int32)>, <TensorSliceDataset shapes: ((8,), (1,)), types: (tf.int64, tf.int32)>, <TensorSliceDataset shapes: ((8,), (1,)), types: (tf.int64, tf.int32)>, <TensorSliceDataset shapes: ((8,), (1,)), types: (tf.int64, tf.int32)>, <TensorSliceDataset shapes: ((8,), (1,)), types: (tf.int64, tf.int32)>, <TensorSliceDataset shapes: ((8,), (1,)), types: (tf.int64, tf.int32)>, <TensorSliceDataset shapes: ((8,), (1,)), types: (tf.int64, tf.int32)>, <TensorSliceDataset shapes: ((8,), (1,)), types: (tf.int64, tf.int32)>, <TensorSliceDataset shapes: ((8,), (1,)), types: (tf.int64, tf.int32)>, <TensorSliceDataset shapes: ((8,), (1,)), types: (tf.int64, tf.int32)>, <TensorSliceDataset shapes: ((8,), (1,)), types: (tf.int64, tf.int32)>, <TensorSliceDataset shapes: ((8,), (1,)), types: (tf.int64, tf.int32)>, <TensorSliceDataset shapes: ((8,), (1,)), types: (tf.int64, tf.int32)>, <TensorSliceDataset shapes: ((8,), (1,)), types: (tf.int64, tf.int32)>, <TensorSliceDataset shapes: ((8,), (1,)), types: (tf.int64, tf.int32)>, <TensorSliceDataset shapes: ((8,), (1,)), types: (tf.int64, tf.int32)>, <TensorSliceDataset shapes: ((8,), (1,)), types: (tf.int64, tf.int32)>, <TensorSliceDataset shapes: ((8,), (1,)), types: (tf.int64, tf.int32)>, <TensorSliceDataset shapes: ((8,), (1,)), types: (tf.int64, tf.int32)>, <TensorSliceDataset shapes: ((8,), (1,)), types: (tf.int64, tf.int32)>, <TensorSliceDataset shapes: ((8,), (1,)), types: (tf.int64, tf.int32)>, <TensorSliceDataset shapes: ((8,), (1,)), types: (tf.int64, tf.int32)>, <TensorSliceDataset shapes: ((8,), (1,)), types: (tf.int64, tf.int32)>, <TensorSliceDataset shapes: ((8,), (1,)), types: (tf.int64, tf.int32)>, <TensorSliceDataset shapes: ((8,), (1,)), types: (tf.int64, tf.int32)>, <TensorSliceDataset shapes: ((8,), (1,)), types: (tf.int64, tf.int32)>, <TensorSliceDataset shapes: ((8,), (1,)), types: (tf.int64, tf.int32)>, <TensorSliceDataset shapes: ((8,), (1,)), types: (tf.int64, tf.int32)>, <TensorSliceDataset shapes: ((8,), (1,)), types: (tf.int64, tf.int32)>, <TensorSliceDataset shapes: ((8,), (1,)), types: (tf.int64, tf.int32)>, <TensorSliceDataset shapes: ((8,), (1,)), types: (tf.int64, tf.int32)>, <TensorSliceDataset shapes: ((8,), (1,)), types: (tf.int64, tf.int32)>, <TensorSliceDataset shapes: ((8,), (1,)), types: (tf.int64, tf.int32)>, <TensorSliceDataset shapes: ((8,), (1,)), types: (tf.int64, tf.int32)>, <TensorSliceDataset shapes: ((8,), (1,)), types: (tf.int64, tf.int32)>, <TensorSliceDataset shapes: ((8,), (1,)), types: (tf.int64, tf.int32)>, <TensorSliceDataset shapes: ((8,), (1,)), types: (tf.int64, tf.int32)>, <TensorSliceDataset shapes: ((8,), (1,)), types: (tf.int64, tf.int32)>, <TensorSliceDataset shapes: ((8,), (1,)), types: (tf.int64, tf.int32)>, <TensorSliceDataset shapes: ((8,), (1,)), types: (tf.int64, tf.int32)>, <TensorSliceDataset shapes: ((8,), (1,)), types: (tf.int64, tf.int32)>, <TensorSliceDataset shapes: ((8,), (1,)), types: (tf.int64, tf.int32)>, <TensorSliceDataset shapes: ((8,), (1,)), types: (tf.int64, tf.int32)>, <TensorSliceDataset shapes: ((8,), (1,)), types: (tf.int64, tf.int32)>, <TensorSliceDataset shapes: ((8,), (1,)), types: (tf.int64, tf.int32)>, <TensorSliceDataset shapes: ((8,), (1,)), types: (tf.int64, tf.int32)>, <TensorSliceDataset shapes: ((8,), (1,)), types: (tf.int64, tf.int32)>, <TensorSliceDataset shapes: ((8,), (1,)), types: (tf.int64, tf.int32)>, <TensorSliceDataset shapes: ((8,), (1,)), types: (tf.int64, tf.int32)>, <TensorSliceDataset shapes: ((8,), (1,)), types: (tf.int64, tf.int32)>, <TensorSliceDataset shapes: ((8,), (1,)), types: (tf.int64, tf.int32)>, <TensorSliceDataset shapes: ((8,), (1,)), types: (tf.int64, tf.int32)>, <TensorSliceDataset shapes: ((8,), (1,)), types: (tf.int64, tf.int32)>, <TensorSliceDataset shapes: ((8,), (1,)), types: (tf.int64, tf.int32)>, <TensorSliceDataset shapes: ((8,), (1,)), types: (tf.int64, tf.int32)>, <TensorSliceDataset shapes: ((8,), (1,)), types: (tf.int64, tf.int32)>, <TensorSliceDataset shapes: ((8,), (1,)), types: (tf.int64, tf.int32)>, <TensorSliceDataset shapes: ((8,), (1,)), types: (tf.int64, tf.int32)>, <TensorSliceDataset shapes: ((8,), (1,)), types: (tf.int64, tf.int32)>, <TensorSliceDataset shapes: ((8,), (1,)), types: (tf.int64, tf.int32)>, <TensorSliceDataset shapes: ((8,), (1,)), types: (tf.int64, tf.int32)>, <TensorSliceDataset shapes: ((8,), (1,)), types: (tf.int64, tf.int32)>, <TensorSliceDataset shapes: ((8,), (1,)), types: (tf.int64, tf.int32)>, <TensorSliceDataset shapes: ((8,), (1,)), types: (tf.int64, tf.int32)>, <TensorSliceDataset shapes: ((8,), (1,)), types: (tf.int64, tf.int32)>, <TensorSliceDataset shapes: ((8,), (1,)), types: (tf.int64, tf.int32)>, <TensorSliceDataset shapes: ((8,), (1,)), types: (tf.int64, tf.int32)>, <TensorSliceDataset shapes: ((8,), (1,)), types: (tf.int64, tf.int32)>, <TensorSliceDataset shapes: ((8,), (1,)), types: (tf.int64, tf.int32)>, <TensorSliceDataset shapes: ((8,), (1,)), types: (tf.int64, tf.int32)>, <TensorSliceDataset shapes: ((8,), (1,)), types: (tf.int64, tf.int32)>, <TensorSliceDataset shapes: ((8,), (1,)), types: (tf.int64, tf.int32)>, <TensorSliceDataset shapes: ((8,), (1,)), types: (tf.int64, tf.int32)>, <TensorSliceDataset shapes: ((8,), (1,)), types: (tf.int64, tf.int32)>, <TensorSliceDataset shapes: ((8,), (1,)), types: (tf.int64, tf.int32)>, <TensorSliceDataset shapes: ((8,), (1,)), types: (tf.int64, tf.int32)>, <TensorSliceDataset shapes: ((8,), (1,)), types: (tf.int64, tf.int32)>, <TensorSliceDataset shapes: ((8,), (1,)), types: (tf.int64, tf.int32)>, <TensorSliceDataset shapes: ((8,), (1,)), types: (tf.int64, tf.int32)>, <TensorSliceDataset shapes: ((8,), (1,)), types: (tf.int64, tf.int32)>, <TensorSliceDataset shapes: ((8,), (1,)), types: (tf.int64, tf.int32)>, <TensorSliceDataset shapes: ((8,), (1,)), types: (tf.int64, tf.int32)>, <TensorSliceDataset shapes: ((8,), (1,)), types: (tf.int64, tf.int32)>, <TensorSliceDataset shapes: ((8,), (1,)), types: (tf.int64, tf.int32)>, <TensorSliceDataset shapes: ((8,), (1,)), types: (tf.int64, tf.int32)>, <TensorSliceDataset shapes: ((8,), (1,)), types: (tf.int64, tf.int32)>, <TensorSliceDataset shapes: ((8,), (1,)), types: (tf.int64, tf.int32)>, <TensorSliceDataset shapes: ((8,), (1,)), types: (tf.int64, tf.int32)>, <TensorSliceDataset shapes: ((8,), (1,)), types: (tf.int64, tf.int32)>, <TensorSliceDataset shapes: ((8,), (1,)), types: (tf.int64, tf.int32)>, <TensorSliceDataset shapes: ((8,), (1,)), types: (tf.int64, tf.int32)>, <TensorSliceDataset shapes: ((8,), (1,)), types: (tf.int64, tf.int32)>, <TensorSliceDataset shapes: ((8,), (1,)), types: (tf.int64, tf.int32)>, <TensorSliceDataset shapes: ((8,), (1,)), types: (tf.int64, tf.int32)>, <TensorSliceDataset shapes: ((8,), (1,)), types: (tf.int64, tf.int32)>, <TensorSliceDataset shapes: ((8,), (1,)), types: (tf.int64, tf.int32)>, <TensorSliceDataset shapes: ((8,), (1,)), types: (tf.int64, tf.int32)>, <TensorSliceDataset shapes: ((8,), (1,)), types: (tf.int64, tf.int32)>, <TensorSliceDataset shapes: ((8,), (1,)), types: (tf.int64, tf.int32)>, <TensorSliceDataset shapes: ((8,), (1,)), types: (tf.int64, tf.int32)>, <TensorSliceDataset shapes: ((8,), (1,)), types: (tf.int64, tf.int32)>, <TensorSliceDataset shapes: ((8,), (1,)), types: (tf.int64, tf.int32)>, <TensorSliceDataset shapes: ((8,), (1,)), types: (tf.int64, tf.int32)>, <TensorSliceDataset shapes: ((8,), (1,)), types: (tf.int64, tf.int32)>, <TensorSliceDataset shapes: ((8,), (1,)), types: (tf.int64, tf.int32)>, <TensorSliceDataset shapes: ((8,), (1,)), types: (tf.int64, tf.int32)>, <TensorSliceDataset shapes: ((8,), (1,)), types: (tf.int64, tf.int32)>, <TensorSliceDataset shapes: ((8,), (1,)), types: (tf.int64, tf.int32)>, <TensorSliceDataset shapes: ((8,), (1,)), types: (tf.int64, tf.int32)>, <TensorSliceDataset shapes: ((8,), (1,)), types: (tf.int64, tf.int32)>, <TensorSliceDataset shapes: ((8,), (1,)), types: (tf.int64, tf.int32)>, <TensorSliceDataset shapes: ((8,), (1,)), types: (tf.int64, tf.int32)>, <TensorSliceDataset shapes: ((8,), (1,)), types: (tf.int64, tf.int32)>, <TensorSliceDataset shapes: ((8,), (1,)), types: (tf.int64, tf.int32)>, <TensorSliceDataset shapes: ((8,), (1,)), types: (tf.int64, tf.int32)>, <TensorSliceDataset shapes: ((8,), (1,)), types: (tf.int64, tf.int32)>, <TensorSliceDataset shapes: ((8,), (1,)), types: (tf.int64, tf.int32)>, <TensorSliceDataset shapes: ((8,), (1,)), types: (tf.int64, tf.int32)>, <TensorSliceDataset shapes: ((8,), (1,)), types: (tf.int64, tf.int32)>, <TensorSliceDataset shapes: ((8,), (1,)), types: (tf.int64, tf.int32)>, <TensorSliceDataset shapes: ((8,), (1,)), types: (tf.int64, tf.int32)>, <TensorSliceDataset shapes: ((8,), (1,)), types: (tf.int64, tf.int32)>, <TensorSliceDataset shapes: ((8,), (1,)), types: (tf.int64, tf.int32)>, <TensorSliceDataset shapes: ((8,), (1,)), types: (tf.int64, tf.int32)>, <TensorSliceDataset shapes: ((8,), (1,)), types: (tf.int64, tf.int32)>, <TensorSliceDataset shapes: ((8,), (1,)), types: (tf.int64, tf.int32)>, <TensorSliceDataset shapes: ((8,), (1,)), types: (tf.int64, tf.int32)>, <TensorSliceDataset shapes: ((8,), (1,)), types: (tf.int64, tf.int32)>, <TensorSliceDataset shapes: ((8,), (1,)), types: (tf.int64, tf.int32)>, <TensorSliceDataset shapes: ((8,), (1,)), types: (tf.int64, tf.int32)>, <TensorSliceDataset shapes: ((8,), (1,)), types: (tf.int64, tf.int32)>, <TensorSliceDataset shapes: ((8,), (1,)), types: (tf.int64, tf.int32)>, <TensorSliceDataset shapes: ((8,), (1,)), types: (tf.int64, tf.int32)>, <TensorSliceDataset shapes: ((8,), (1,)), types: (tf.int64, tf.int32)>, <TensorSliceDataset shapes: ((8,), (1,)), types: (tf.int64, tf.int32)>, <TensorSliceDataset shapes: ((8,), (1,)), types: (tf.int64, tf.int32)>, <TensorSliceDataset shapes: ((8,), (1,)), types: (tf.int64, tf.int32)>, <TensorSliceDataset shapes: ((8,), (1,)), types: (tf.int64, tf.int32)>, <TensorSliceDataset shapes: ((8,), (1,)), types: (tf.int64, tf.int32)>, <TensorSliceDataset shapes: ((8,), (1,)), types: (tf.int64, tf.int32)>, <TensorSliceDataset shapes: ((8,), (1,)), types: (tf.int64, tf.int32)>, <TensorSliceDataset shapes: ((8,), (1,)), types: (tf.int64, tf.int32)>, <TensorSliceDataset shapes: ((8,), (1,)), types: (tf.int64, tf.int32)>, <TensorSliceDataset shapes: ((8,), (1,)), types: (tf.int64, tf.int32)>, <TensorSliceDataset shapes: ((8,), (1,)), types: (tf.int64, tf.int32)>, <TensorSliceDataset shapes: ((8,), (1,)), types: (tf.int64, tf.int32)>, <TensorSliceDataset shapes: ((8,), (1,)), types: (tf.int64, tf.int32)>, <TensorSliceDataset shapes: ((8,), (1,)), types: (tf.int64, tf.int32)>, <TensorSliceDataset shapes: ((8,), (1,)), types: (tf.int64, tf.int32)>, <TensorSliceDataset shapes: ((8,), (1,)), types: (tf.int64, tf.int32)>, <TensorSliceDataset shapes: ((8,), (1,)), types: (tf.int64, tf.int32)>, <TensorSliceDataset shapes: ((8,), (1,)), types: (tf.int64, tf.int32)>, <TensorSliceDataset shapes: ((8,), (1,)), types: (tf.int64, tf.int32)>, <TensorSliceDataset shapes: ((8,), (1,)), types: (tf.int64, tf.int32)>, <TensorSliceDataset shapes: ((8,), (1,)), types: (tf.int64, tf.int32)>, <TensorSliceDataset shapes: ((8,), (1,)), types: (tf.int64, tf.int32)>, <TensorSliceDataset shapes: ((8,), (1,)), types: (tf.int64, tf.int32)>, <TensorSliceDataset shapes: ((8,), (1,)), types: (tf.int64, tf.int32)>, <TensorSliceDataset shapes: ((8,), (1,)), types: (tf.int64, tf.int32)>, <TensorSliceDataset shapes: ((8,), (1,)), types: (tf.int64, tf.int32)>, <TensorSliceDataset shapes: ((8,), (1,)), types: (tf.int64, tf.int32)>, <TensorSliceDataset shapes: ((8,), (1,)), types: (tf.int64, tf.int32)>, <TensorSliceDataset shapes: ((8,), (1,)), types: (tf.int64, tf.int32)>, <TensorSliceDataset shapes: ((8,), (1,)), types: (tf.int64, tf.int32)>, <TensorSliceDataset shapes: ((8,), (1,)), types: (tf.int64, tf.int32)>, <TensorSliceDataset shapes: ((8,), (1,)), types: (tf.int64, tf.int32)>, <TensorSliceDataset shapes: ((8,), (1,)), types: (tf.int64, tf.int32)>, <TensorSliceDataset shapes: ((8,), (1,)), types: (tf.int64, tf.int32)>, <TensorSliceDataset shapes: ((8,), (1,)), types: (tf.int64, tf.int32)>, <TensorSliceDataset shapes: ((8,), (1,)), types: (tf.int64, tf.int32)>, <TensorSliceDataset shapes: ((8,), (1,)), types: (tf.int64, tf.int32)>, <TensorSliceDataset shapes: ((8,), (1,)), types: (tf.int64, tf.int32)>, <TensorSliceDataset shapes: ((8,), (1,)), types: (tf.int64, tf.int32)>, <TensorSliceDataset shapes: ((8,), (1,)), types: (tf.int64, tf.int32)>, <TensorSliceDataset shapes: ((8,), (1,)), types: (tf.int64, tf.int32)>, <TensorSliceDataset shapes: ((8,), (1,)), types: (tf.int64, tf.int32)>, <TensorSliceDataset shapes: ((8,), (1,)), types: (tf.int64, tf.int32)>, <TensorSliceDataset shapes: ((8,), (1,)), types: (tf.int64, tf.int32)>, <TensorSliceDataset shapes: ((8,), (1,)), types: (tf.int64, tf.int32)>, <TensorSliceDataset shapes: ((8,), (1,)), types: (tf.int64, tf.int32)>, <TensorSliceDataset shapes: ((8,), (1,)), types: (tf.int64, tf.int32)>, <TensorSliceDataset shapes: ((8,), (1,)), types: (tf.int64, tf.int32)>, <TensorSliceDataset shapes: ((8,), (1,)), types: (tf.int64, tf.int32)>, <TensorSliceDataset shapes: ((8,), (1,)), types: (tf.int64, tf.int32)>, <TensorSliceDataset shapes: ((8,), (1,)), types: (tf.int64, tf.int32)>, <TensorSliceDataset shapes: ((8,), (1,)), types: (tf.int64, tf.int32)>, <TensorSliceDataset shapes: ((8,), (1,)), types: (tf.int64, tf.int32)>, <TensorSliceDataset shapes: ((8,), (1,)), types: (tf.int64, tf.int32)>, <TensorSliceDataset shapes: ((8,), (1,)), types: (tf.int64, tf.int32)>, <TensorSliceDataset shapes: ((8,), (1,)), types: (tf.int64, tf.int32)>, <TensorSliceDataset shapes: ((8,), (1,)), types: (tf.int64, tf.int32)>, <TensorSliceDataset shapes: ((8,), (1,)), types: (tf.int64, tf.int32)>, <TensorSliceDataset shapes: ((8,), (1,)), types: (tf.int64, tf.int32)>, <TensorSliceDataset shapes: ((8,), (1,)), types: (tf.int64, tf.int32)>, <TensorSliceDataset shapes: ((8,), (1,)), types: (tf.int64, tf.int32)>, <TensorSliceDataset shapes: ((8,), (1,)), types: (tf.int64, tf.int32)>, <TensorSliceDataset shapes: ((8,), (1,)), types: (tf.int64, tf.int32)>, <TensorSliceDataset shapes: ((8,), (1,)), types: (tf.int64, tf.int32)>, <TensorSliceDataset shapes: ((8,), (1,)), types: (tf.int64, tf.int32)>, <TensorSliceDataset shapes: ((8,), (1,)), types: (tf.int64, tf.int32)>, <TensorSliceDataset shapes: ((8,), (1,)), types: (tf.int64, tf.int32)>, <TensorSliceDataset shapes: ((8,), (1,)), types: (tf.int64, tf.int32)>, <TensorSliceDataset shapes: ((8,), (1,)), types: (tf.int64, tf.int32)>, <TensorSliceDataset shapes: ((8,), (1,)), types: (tf.int64, tf.int32)>, <TensorSliceDataset shapes: ((8,), (1,)), types: (tf.int64, tf.int32)>, <TensorSliceDataset shapes: ((8,), (1,)), types: (tf.int64, tf.int32)>, <TensorSliceDataset shapes: ((8,), (1,)), types: (tf.int64, tf.int32)>, <TensorSliceDataset shapes: ((8,), (1,)), types: (tf.int64, tf.int32)>, <TensorSliceDataset shapes: ((8,), (1,)), types: (tf.int64, tf.int32)>, <TensorSliceDataset shapes: ((8,), (1,)), types: (tf.int64, tf.int32)>, <TensorSliceDataset shapes: ((8,), (1,)), types: (tf.int64, tf.int32)>, <TensorSliceDataset shapes: ((8,), (1,)), types: (tf.int64, tf.int32)>, <TensorSliceDataset shapes: ((8,), (1,)), types: (tf.int64, tf.int32)>, <TensorSliceDataset shapes: ((8,), (1,)), types: (tf.int64, tf.int32)>, <TensorSliceDataset shapes: ((8,), (1,)), types: (tf.int64, tf.int32)>, <TensorSliceDataset shapes: ((8,), (1,)), types: (tf.int64, tf.int32)>, <TensorSliceDataset shapes: ((8,), (1,)), types: (tf.int64, tf.int32)>, <TensorSliceDataset shapes: ((8,), (1,)), types: (tf.int64, tf.int32)>, <TensorSliceDataset shapes: ((8,), (1,)), types: (tf.int64, tf.int32)>, <TensorSliceDataset shapes: ((8,), (1,)), types: (tf.int64, tf.int32)>, <TensorSliceDataset shapes: ((8,), (1,)), types: (tf.int64, tf.int32)>, <TensorSliceDataset shapes: ((8,), (1,)), types: (tf.int64, tf.int32)>, <TensorSliceDataset shapes: ((8,), (1,)), types: (tf.int64, tf.int32)>, <TensorSliceDataset shapes: ((8,), (1,)), types: (tf.int64, tf.int32)>, <TensorSliceDataset shapes: ((8,), (1,)), types: (tf.int64, tf.int32)>, <TensorSliceDataset shapes: ((8,), (1,)), types: (tf.int64, tf.int32)>, <TensorSliceDataset shapes: ((8,), (1,)), types: (tf.int64, tf.int32)>, <TensorSliceDataset shapes: ((8,), (1,)), types: (tf.int64, tf.int32)>, <TensorSliceDataset shapes: ((8,), (1,)), types: (tf.int64, tf.int32)>, <TensorSliceDataset shapes: ((8,), (1,)), types: (tf.int64, tf.int32)>, <TensorSliceDataset shapes: ((8,), (1,)), types: (tf.int64, tf.int32)>, <TensorSliceDataset shapes: ((8,), (1,)), types: (tf.int64, tf.int32)>, <TensorSliceDataset shapes: ((8,), (1,)), types: (tf.int64, tf.int32)>, <TensorSliceDataset shapes: ((8,), (1,)), types: (tf.int64, tf.int32)>, <TensorSliceDataset shapes: ((8,), (1,)), types: (tf.int64, tf.int32)>, <TensorSliceDataset shapes: ((8,), (1,)), types: (tf.int64, tf.int32)>, <TensorSliceDataset shapes: ((8,), (1,)), types: (tf.int64, tf.int32)>, <TensorSliceDataset shapes: ((8,), (1,)), types: (tf.int64, tf.int32)>, <TensorSliceDataset shapes: ((8,), (1,)), types: (tf.int64, tf.int32)>, <TensorSliceDataset shapes: ((8,), (1,)), types: (tf.int64, tf.int32)>, <TensorSliceDataset shapes: ((8,), (1,)), types: (tf.int64, tf.int32)>, <TensorSliceDataset shapes: ((8,), (1,)), types: (tf.int64, tf.int32)>, <TensorSliceDataset shapes: ((8,), (1,)), types: (tf.int64, tf.int32)>, <TensorSliceDataset shapes: ((8,), (1,)), types: (tf.int64, tf.int32)>, <TensorSliceDataset shapes: ((8,), (1,)), types: (tf.int64, tf.int32)>, <TensorSliceDataset shapes: ((8,), (1,)), types: (tf.int64, tf.int32)>, <TensorSliceDataset shapes: ((8,), (1,)), types: (tf.int64, tf.int32)>, <TensorSliceDataset shapes: ((8,), (1,)), types: (tf.int64, tf.int32)>, <TensorSliceDataset shapes: ((8,), (1,)), types: (tf.int64, tf.int32)>, <TensorSliceDataset shapes: ((8,), (1,)), types: (tf.int64, tf.int32)>, <TensorSliceDataset shapes: ((8,), (1,)), types: (tf.int64, tf.int32)>, <TensorSliceDataset shapes: ((8,), (1,)), types: (tf.int64, tf.int32)>, <TensorSliceDataset shapes: ((8,), (1,)), types: (tf.int64, tf.int32)>, <TensorSliceDataset shapes: ((8,), (1,)), types: (tf.int64, tf.int32)>, <TensorSliceDataset shapes: ((8,), (1,)), types: (tf.int64, tf.int32)>, <TensorSliceDataset shapes: ((8,), (1,)), types: (tf.int64, tf.int32)>, <TensorSliceDataset shapes: ((8,), (1,)), types: (tf.int64, tf.int32)>, <TensorSliceDataset shapes: ((8,), (1,)), types: (tf.int64, tf.int32)>, <TensorSliceDataset shapes: ((8,), (1,)), types: (tf.int64, tf.int32)>, <TensorSliceDataset shapes: ((8,), (1,)), types: (tf.int64, tf.int32)>, <TensorSliceDataset shapes: ((8,), (1,)), types: (tf.int64, tf.int32)>, <TensorSliceDataset shapes: ((8,), (1,)), types: (tf.int64, tf.int32)>, <TensorSliceDataset shapes: ((8,), (1,)), types: (tf.int64, tf.int32)>, <TensorSliceDataset shapes: ((8,), (1,)), types: (tf.int64, tf.int32)>, <TensorSliceDataset shapes: ((8,), (1,)), types: (tf.int64, tf.int32)>, <TensorSliceDataset shapes: ((8,), (1,)), types: (tf.int64, tf.int32)>, <TensorSliceDataset shapes: ((8,), (1,)), types: (tf.int64, tf.int32)>, <TensorSliceDataset shapes: ((8,), (1,)), types: (tf.int64, tf.int32)>, <TensorSliceDataset shapes: ((8,), (1,)), types: (tf.int64, tf.int32)>, <TensorSliceDataset shapes: ((8,), (1,)), types: (tf.int64, tf.int32)>, <TensorSliceDataset shapes: ((8,), (1,)), types: (tf.int64, tf.int32)>, <TensorSliceDataset shapes: ((8,), (1,)), types: (tf.int64, tf.int32)>, <TensorSliceDataset shapes: ((8,), (1,)), types: (tf.int64, tf.int32)>, <TensorSliceDataset shapes: ((8,), (1,)), types: (tf.int64, tf.int32)>, <TensorSliceDataset shapes: ((8,), (1,)), types: (tf.int64, tf.int32)>, <TensorSliceDataset shapes: ((8,), (1,)), types: (tf.int64, tf.int32)>, <TensorSliceDataset shapes: ((8,), (1,)), types: (tf.int64, tf.int32)>, <TensorSliceDataset shapes: ((8,), (1,)), types: (tf.int64, tf.int32)>, <TensorSliceDataset shapes: ((8,), (1,)), types: (tf.int64, tf.int32)>, <TensorSliceDataset shapes: ((8,), (1,)), types: (tf.int64, tf.int32)>, <TensorSliceDataset shapes: ((8,), (1,)), types: (tf.int64, tf.int32)>, <TensorSliceDataset shapes: ((8,), (1,)), types: (tf.int64, tf.int32)>, <TensorSliceDataset shapes: ((8,), (1,)), types: (tf.int64, tf.int32)>, <TensorSliceDataset shapes: ((8,), (1,)), types: (tf.int64, tf.int32)>, <TensorSliceDataset shapes: ((8,), (1,)), types: (tf.int64, tf.int32)>, <TensorSliceDataset shapes: ((8,), (1,)), types: (tf.int64, tf.int32)>, <TensorSliceDataset shapes: ((8,), (1,)), types: (tf.int64, tf.int32)>, <TensorSliceDataset shapes: ((8,), (1,)), types: (tf.int64, tf.int32)>, <TensorSliceDataset shapes: ((8,), (1,)), types: (tf.int64, tf.int32)>, <TensorSliceDataset shapes: ((8,), (1,)), types: (tf.int64, tf.int32)>, <TensorSliceDataset shapes: ((8,), (1,)), types: (tf.int64, tf.int32)>, <TensorSliceDataset shapes: ((8,), (1,)), types: (tf.int64, tf.int32)>, <TensorSliceDataset shapes: ((8,), (1,)), types: (tf.int64, tf.int32)>, <TensorSliceDataset shapes: ((8,), (1,)), types: (tf.int64, tf.int32)>, <TensorSliceDataset shapes: ((8,), (1,)), types: (tf.int64, tf.int32)>, <TensorSliceDataset shapes: ((8,), (1,)), types: (tf.int64, tf.int32)>, <TensorSliceDataset shapes: ((8,), (1,)), types: (tf.int64, tf.int32)>, <TensorSliceDataset shapes: ((8,), (1,)), types: (tf.int64, tf.int32)>, <TensorSliceDataset shapes: ((8,), (1,)), types: (tf.int64, tf.int32)>, <TensorSliceDataset shapes: ((8,), (1,)), types: (tf.int64, tf.int32)>, <TensorSliceDataset shapes: ((8,), (1,)), types: (tf.int64, tf.int32)>, <TensorSliceDataset shapes: ((8,), (1,)), types: (tf.int64, tf.int32)>, <TensorSliceDataset shapes: ((8,), (1,)), types: (tf.int64, tf.int32)>, <TensorSliceDataset shapes: ((8,), (1,)), types: (tf.int64, tf.int32)>, <TensorSliceDataset shapes: ((8,), (1,)), types: (tf.int64, tf.int32)>, <TensorSliceDataset shapes: ((8,), (1,)), types: (tf.int64, tf.int32)>, <TensorSliceDataset shapes: ((8,), (1,)), types: (tf.int64, tf.int32)>, <TensorSliceDataset shapes: ((8,), (1,)), types: (tf.int64, tf.int32)>, <TensorSliceDataset shapes: ((8,), (1,)), types: (tf.int64, tf.int32)>, <TensorSliceDataset shapes: ((8,), (1,)), types: (tf.int64, tf.int32)>, <TensorSliceDataset shapes: ((8,), (1,)), types: (tf.int64, tf.int32)>, <TensorSliceDataset shapes: ((8,), (1,)), types: (tf.int64, tf.int32)>, <TensorSliceDataset shapes: ((8,), (1,)), types: (tf.int64, tf.int32)>, <TensorSliceDataset shapes: ((8,), (1,)), types: (tf.int64, tf.int32)>, <TensorSliceDataset shapes: ((8,), (1,)), types: (tf.int64, tf.int32)>, <TensorSliceDataset shapes: ((8,), (1,)), types: (tf.int64, tf.int32)>, <TensorSliceDataset shapes: ((8,), (1,)), types: (tf.int64, tf.int32)>, <TensorSliceDataset shapes: ((8,), (1,)), types: (tf.int64, tf.int32)>, <TensorSliceDataset shapes: ((8,), (1,)), types: (tf.int64, tf.int32)>, <TensorSliceDataset shapes: ((8,), (1,)), types: (tf.int64, tf.int32)>, <TensorSliceDataset shapes: ((8,), (1,)), types: (tf.int64, tf.int32)>, <TensorSliceDataset shapes: ((8,), (1,)), types: (tf.int64, tf.int32)>, <TensorSliceDataset shapes: ((8,), (1,)), types: (tf.int64, tf.int32)>, <TensorSliceDataset shapes: ((8,), (1,)), types: (tf.int64, tf.int32)>, <TensorSliceDataset shapes: ((8,), (1,)), types: (tf.int64, tf.int32)>, <TensorSliceDataset shapes: ((8,), (1,)), types: (tf.int64, tf.int32)>, <TensorSliceDataset shapes: ((8,), (1,)), types: (tf.int64, tf.int32)>, <TensorSliceDataset shapes: ((8,), (1,)), types: (tf.int64, tf.int32)>, <TensorSliceDataset shapes: ((8,), (1,)), types: (tf.int64, tf.int32)>, <TensorSliceDataset shapes: ((8,), (1,)), types: (tf.int64, tf.int32)>, <TensorSliceDataset shapes: ((8,), (1,)), types: (tf.int64, tf.int32)>, <TensorSliceDataset shapes: ((8,), (1,)), types: (tf.int64, tf.int32)>, <TensorSliceDataset shapes: ((8,), (1,)), types: (tf.int64, tf.int32)>, <TensorSliceDataset shapes: ((8,), (1,)), types: (tf.int64, tf.int32)>, <TensorSliceDataset shapes: ((8,), (1,)), types: (tf.int64, tf.int32)>, <TensorSliceDataset shapes: ((8,), (1,)), types: (tf.int64, tf.int32)>, <TensorSliceDataset shapes: ((8,), (1,)), types: (tf.int64, tf.int32)>, <TensorSliceDataset shapes: ((8,), (1,)), types: (tf.int64, tf.int32)>, <TensorSliceDataset shapes: ((8,), (1,)), types: (tf.int64, tf.int32)>, <TensorSliceDataset shapes: ((8,), (1,)), types: (tf.int64, tf.int32)>, <TensorSliceDataset shapes: ((8,), (1,)), types: (tf.int64, tf.int32)>, <TensorSliceDataset shapes: ((8,), (1,)), types: (tf.int64, tf.int32)>, <TensorSliceDataset shapes: ((8,), (1,)), types: (tf.int64, tf.int32)>, <TensorSliceDataset shapes: ((8,), (1,)), types: (tf.int64, tf.int32)>, <TensorSliceDataset shapes: ((8,), (1,)), types: (tf.int64, tf.int32)>, <TensorSliceDataset shapes: ((8,), (1,)), types: (tf.int64, tf.int32)>, <TensorSliceDataset shapes: ((8,), (1,)), types: (tf.int64, tf.int32)>, <TensorSliceDataset shapes: ((8,), (1,)), types: (tf.int64, tf.int32)>, <TensorSliceDataset shapes: ((8,), (1,)), types: (tf.int64, tf.int32)>, <TensorSliceDataset shapes: ((8,), (1,)), types: (tf.int64, tf.int32)>, <TensorSliceDataset shapes: ((8,), (1,)), types: (tf.int64, tf.int32)>, <TensorSliceDataset shapes: ((8,), (1,)), types: (tf.int64, tf.int32)>, <TensorSliceDataset shapes: ((8,), (1,)), types: (tf.int64, tf.int32)>, <TensorSliceDataset shapes: ((8,), (1,)), types: (tf.int64, tf.int32)>, <TensorSliceDataset shapes: ((8,), (1,)), types: (tf.int64, tf.int32)>, <TensorSliceDataset shapes: ((8,), (1,)), types: (tf.int64, tf.int32)>, <TensorSliceDataset shapes: ((8,), (1,)), types: (tf.int64, tf.int32)>, <TensorSliceDataset shapes: ((8,), (1,)), types: (tf.int64, tf.int32)>, <TensorSliceDataset shapes: ((8,), (1,)), types: (tf.int64, tf.int32)>, <TensorSliceDataset shapes: ((8,), (1,)), types: (tf.int64, tf.int32)>, <TensorSliceDataset shapes: ((8,), (1,)), types: (tf.int64, tf.int32)>, <TensorSliceDataset shapes: ((8,), (1,)), types: (tf.int64, tf.int32)>, <TensorSliceDataset shapes: ((8,), (1,)), types: (tf.int64, tf.int32)>, <TensorSliceDataset shapes: ((8,), (1,)), types: (tf.int64, tf.int32)>, <TensorSliceDataset shapes: ((8,), (1,)), types: (tf.int64, tf.int32)>, <TensorSliceDataset shapes: ((8,), (1,)), types: (tf.int64, tf.int32)>, <TensorSliceDataset shapes: ((8,), (1,)), types: (tf.int64, tf.int32)>, <TensorSliceDataset shapes: ((8,), (1,)), types: (tf.int64, tf.int32)>, <TensorSliceDataset shapes: ((8,), (1,)), types: (tf.int64, tf.int32)>, <TensorSliceDataset shapes: ((8,), (1,)), types: (tf.int64, tf.int32)>, <TensorSliceDataset shapes: ((8,), (1,)), types: (tf.int64, tf.int32)>, <TensorSliceDataset shapes: ((8,), (1,)), types: (tf.int64, tf.int32)>, <TensorSliceDataset shapes: ((8,), (1,)), types: (tf.int64, tf.int32)>, <TensorSliceDataset shapes: ((8,), (1,)), types: (tf.int64, tf.int32)>, <TensorSliceDataset shapes: ((8,), (1,)), types: (tf.int64, tf.int32)>, <TensorSliceDataset shapes: ((8,), (1,)), types: (tf.int64, tf.int32)>, <TensorSliceDataset shapes: ((8,), (1,)), types: (tf.int64, tf.int32)>, <TensorSliceDataset shapes: ((8,), (1,)), types: (tf.int64, tf.int32)>, <TensorSliceDataset shapes: ((8,), (1,)), types: (tf.int64, tf.int32)>, <TensorSliceDataset shapes: ((8,), (1,)), types: (tf.int64, tf.int32)>, <TensorSliceDataset shapes: ((8,), (1,)), types: (tf.int64, tf.int32)>, <TensorSliceDataset shapes: ((8,), (1,)), types: (tf.int64, tf.int32)>, <TensorSliceDataset shapes: ((8,), (1,)), types: (tf.int64, tf.int32)>, <TensorSliceDataset shapes: ((8,), (1,)), types: (tf.int64, tf.int32)>, <TensorSliceDataset shapes: ((8,), (1,)), types: (tf.int64, tf.int32)>, <TensorSliceDataset shapes: ((8,), (1,)), types: (tf.int64, tf.int32)>, <TensorSliceDataset shapes: ((8,), (1,)), types: (tf.int64, tf.int32)>, <TensorSliceDataset shapes: ((8,), (1,)), types: (tf.int64, tf.int32)>, <TensorSliceDataset shapes: ((8,), (1,)), types: (tf.int64, tf.int32)>, <TensorSliceDataset shapes: ((8,), (1,)), types: (tf.int64, tf.int32)>, <TensorSliceDataset shapes: ((8,), (1,)), types: (tf.int64, tf.int32)>, <TensorSliceDataset shapes: ((8,), (1,)), types: (tf.int64, tf.int32)>, <TensorSliceDataset shapes: ((8,), (1,)), types: (tf.int64, tf.int32)>, <TensorSliceDataset shapes: ((8,), (1,)), types: (tf.int64, tf.int32)>, <TensorSliceDataset shapes: ((8,), (1,)), types: (tf.int64, tf.int32)>, <TensorSliceDataset shapes: ((8,), (1,)), types: (tf.int64, tf.int32)>, <TensorSliceDataset shapes: ((8,), (1,)), types: (tf.int64, tf.int32)>, <TensorSliceDataset shapes: ((8,), (1,)), types: (tf.int64, tf.int32)>, <TensorSliceDataset shapes: ((8,), (1,)), types: (tf.int64, tf.int32)>, <TensorSliceDataset shapes: ((8,), (1,)), types: (tf.int64, tf.int32)>, <TensorSliceDataset shapes: ((8,), (1,)), types: (tf.int64, tf.int32)>, <TensorSliceDataset shapes: ((8,), (1,)), types: (tf.int64, tf.int32)>, <TensorSliceDataset shapes: ((8,), (1,)), types: (tf.int64, tf.int32)>, <TensorSliceDataset shapes: ((8,), (1,)), types: (tf.int64, tf.int32)>, <TensorSliceDataset shapes: ((8,), (1,)), types: (tf.int64, tf.int32)>, <TensorSliceDataset shapes: ((8,), (1,)), types: (tf.int64, tf.int32)>, <TensorSliceDataset shapes: ((8,), (1,)), types: (tf.int64, tf.int32)>, <TensorSliceDataset shapes: ((8,), (1,)), types: (tf.int64, tf.int32)>, <TensorSliceDataset shapes: ((8,), (1,)), types: (tf.int64, tf.int32)>, <TensorSliceDataset shapes: ((8,), (1,)), types: (tf.int64, tf.int32)>, <TensorSliceDataset shapes: ((8,), (1,)), types: (tf.int64, tf.int32)>, <TensorSliceDataset shapes: ((8,), (1,)), types: (tf.int64, tf.int32)>, <TensorSliceDataset shapes: ((8,), (1,)), types: (tf.int64, tf.int32)>, <TensorSliceDataset shapes: ((8,), (1,)), types: (tf.int64, tf.int32)>, <TensorSliceDataset shapes: ((8,), (1,)), types: (tf.int64, tf.int32)>, <TensorSliceDataset shapes: ((8,), (1,)), types: (tf.int64, tf.int32)>, <TensorSliceDataset shapes: ((8,), (1,)), types: (tf.int64, tf.int32)>, <TensorSliceDataset shapes: ((8,), (1,)), types: (tf.int64, tf.int32)>, <TensorSliceDataset shapes: ((8,), (1,)), types: (tf.int64, tf.int32)>, <TensorSliceDataset shapes: ((8,), (1,)), types: (tf.int64, tf.int32)>, <TensorSliceDataset shapes: ((8,), (1,)), types: (tf.int64, tf.int32)>, <TensorSliceDataset shapes: ((8,), (1,)), types: (tf.int64, tf.int32)>, <TensorSliceDataset shapes: ((8,), (1,)), types: (tf.int64, tf.int32)>, <TensorSliceDataset shapes: ((8,), (1,)), types: (tf.int64, tf.int32)>, <TensorSliceDataset shapes: ((8,), (1,)), types: (tf.int64, tf.int32)>, <TensorSliceDataset shapes: ((8,), (1,)), types: (tf.int64, tf.int32)>, <TensorSliceDataset shapes: ((8,), (1,)), types: (tf.int64, tf.int32)>, <TensorSliceDataset shapes: ((8,), (1,)), types: (tf.int64, tf.int32)>, <TensorSliceDataset shapes: ((8,), (1,)), types: (tf.int64, tf.int32)>, <TensorSliceDataset shapes: ((8,), (1,)), types: (tf.int64, tf.int32)>, <TensorSliceDataset shapes: ((8,), (1,)), types: (tf.int64, tf.int32)>, <TensorSliceDataset shapes: ((8,), (1,)), types: (tf.int64, tf.int32)>, <TensorSliceDataset shapes: ((8,), (1,)), types: (tf.int64, tf.int32)>, <TensorSliceDataset shapes: ((8,), (1,)), types: (tf.int64, tf.int32)>, <TensorSliceDataset shapes: ((8,), (1,)), types: (tf.int64, tf.int32)>, <TensorSliceDataset shapes: ((8,), (1,)), types: (tf.int64, tf.int32)>, <TensorSliceDataset shapes: ((8,), (1,)), types: (tf.int64, tf.int32)>, <TensorSliceDataset shapes: ((8,), (1,)), types: (tf.int64, tf.int32)>, <TensorSliceDataset shapes: ((8,), (1,)), types: (tf.int64, tf.int32)>, <TensorSliceDataset shapes: ((8,), (1,)), types: (tf.int64, tf.int32)>, <TensorSliceDataset shapes: ((8,), (1,)), types: (tf.int64, tf.int32)>, <TensorSliceDataset shapes: ((8,), (1,)), types: (tf.int64, tf.int32)>, <TensorSliceDataset shapes: ((8,), (1,)), types: (tf.int64, tf.int32)>, <TensorSliceDataset shapes: ((8,), (1,)), types: (tf.int64, tf.int32)>, <TensorSliceDataset shapes: ((8,), (1,)), types: (tf.int64, tf.int32)>, <TensorSliceDataset shapes: ((8,), (1,)), types: (tf.int64, tf.int32)>, <TensorSliceDataset shapes: ((8,), (1,)), types: (tf.int64, tf.int32)>, <TensorSliceDataset shapes: ((8,), (1,)), types: (tf.int64, tf.int32)>, <TensorSliceDataset shapes: ((8,), (1,)), types: (tf.int64, tf.int32)>, <TensorSliceDataset shapes: ((8,), (1,)), types: (tf.int64, tf.int32)>, <TensorSliceDataset shapes: ((8,), (1,)), types: (tf.int64, tf.int32)>, <TensorSliceDataset shapes: ((8,), (1,)), types: (tf.int64, tf.int32)>, <TensorSliceDataset shapes: ((8,), (1,)), types: (tf.int64, tf.int32)>, <TensorSliceDataset shapes: ((8,), (1,)), types: (tf.int64, tf.int32)>, <TensorSliceDataset shapes: ((8,), (1,)), types: (tf.int64, tf.int32)>, <TensorSliceDataset shapes: ((8,), (1,)), types: (tf.int64, tf.int32)>, <TensorSliceDataset shapes: ((8,), (1,)), types: (tf.int64, tf.int32)>, <TensorSliceDataset shapes: ((8,), (1,)), types: (tf.int64, tf.int32)>, <TensorSliceDataset shapes: ((8,), (1,)), types: (tf.int64, tf.int32)>, <TensorSliceDataset shapes: ((8,), (1,)), types: (tf.int64, tf.int32)>, <TensorSliceDataset shapes: ((8,), (1,)), types: (tf.int64, tf.int32)>, <TensorSliceDataset shapes: ((8,), (1,)), types: (tf.int64, tf.int32)>, <TensorSliceDataset shapes: ((8,), (1,)), types: (tf.int64, tf.int32)>, <TensorSliceDataset shapes: ((8,), (1,)), types: (tf.int64, tf.int32)>, <TensorSliceDataset shapes: ((8,), (1,)), types: (tf.int64, tf.int32)>, <TensorSliceDataset shapes: ((8,), (1,)), types: (tf.int64, tf.int32)>, <TensorSliceDataset shapes: ((8,), (1,)), types: (tf.int64, tf.int32)>, <TensorSliceDataset shapes: ((8,), (1,)), types: (tf.int64, tf.int32)>, <TensorSliceDataset shapes: ((8,), (1,)), types: (tf.int64, tf.int32)>, <TensorSliceDataset shapes: ((8,), (1,)), types: (tf.int64, tf.int32)>, <TensorSliceDataset shapes: ((8,), (1,)), types: (tf.int64, tf.int32)>, <TensorSliceDataset shapes: ((8,), (1,)), types: (tf.int64, tf.int32)>, <TensorSliceDataset shapes: ((8,), (1,)), types: (tf.int64, tf.int32)>, <TensorSliceDataset shapes: ((8,), (1,)), types: (tf.int64, tf.int32)>, <TensorSliceDataset shapes: ((8,), (1,)), types: (tf.int64, tf.int32)>, <TensorSliceDataset shapes: ((8,), (1,)), types: (tf.int64, tf.int32)>, <TensorSliceDataset shapes: ((8,), (1,)), types: (tf.int64, tf.int32)>, <TensorSliceDataset shapes: ((8,), (1,)), types: (tf.int64, tf.int32)>, <TensorSliceDataset shapes: ((8,), (1,)), types: (tf.int64, tf.int32)>, <TensorSliceDataset shapes: ((8,), (1,)), types: (tf.int64, tf.int32)>, <TensorSliceDataset shapes: ((8,), (1,)), types: (tf.int64, tf.int32)>, <TensorSliceDataset shapes: ((8,), (1,)), types: (tf.int64, tf.int32)>, <TensorSliceDataset shapes: ((8,), (1,)), types: (tf.int64, tf.int32)>, <TensorSliceDataset shapes: ((8,), (1,)), types: (tf.int64, tf.int32)>, <TensorSliceDataset shapes: ((8,), (1,)), types: (tf.int64, tf.int32)>, <TensorSliceDataset shapes: ((8,), (1,)), types: (tf.int64, tf.int32)>, <TensorSliceDataset shapes: ((8,), (1,)), types: (tf.int64, tf.int32)>, <TensorSliceDataset shapes: ((8,), (1,)), types: (tf.int64, tf.int32)>, <TensorSliceDataset shapes: ((8,), (1,)), types: (tf.int64, tf.int32)>, <TensorSliceDataset shapes: ((8,), (1,)), types: (tf.int64, tf.int32)>, <TensorSliceDataset shapes: ((8,), (1,)), types: (tf.int64, tf.int32)>, <TensorSliceDataset shapes: ((8,), (1,)), types: (tf.int64, tf.int32)>, <TensorSliceDataset shapes: ((8,), (1,)), types: (tf.int64, tf.int32)>, <TensorSliceDataset shapes: ((8,), (1,)), types: (tf.int64, tf.int32)>, <TensorSliceDataset shapes: ((8,), (1,)), types: (tf.int64, tf.int32)>, <TensorSliceDataset shapes: ((8,), (1,)), types: (tf.int64, tf.int32)>, <TensorSliceDataset shapes: ((8,), (1,)), types: (tf.int64, tf.int32)>, <TensorSliceDataset shapes: ((8,), (1,)), types: (tf.int64, tf.int32)>, <TensorSliceDataset shapes: ((8,), (1,)), types: (tf.int64, tf.int32)>, <TensorSliceDataset shapes: ((8,), (1,)), types: (tf.int64, tf.int32)>, <TensorSliceDataset shapes: ((8,), (1,)), types: (tf.int64, tf.int32)>, <TensorSliceDataset shapes: ((8,), (1,)), types: (tf.int64, tf.int32)>, <TensorSliceDataset shapes: ((8,), (1,)), types: (tf.int64, tf.int32)>, <TensorSliceDataset shapes: ((8,), (1,)), types: (tf.int64, tf.int32)>, <TensorSliceDataset shapes: ((8,), (1,)), types: (tf.int64, tf.int32)>, <TensorSliceDataset shapes: ((8,), (1,)), types: (tf.int64, tf.int32)>, <TensorSliceDataset shapes: ((8,), (1,)), types: (tf.int64, tf.int32)>, <TensorSliceDataset shapes: ((8,), (1,)), types: (tf.int64, tf.int32)>, <TensorSliceDataset shapes: ((8,), (1,)), types: (tf.int64, tf.int32)>, <TensorSliceDataset shapes: ((8,), (1,)), types: (tf.int64, tf.int32)>, <TensorSliceDataset shapes: ((8,), (1,)), types: (tf.int64, tf.int32)>, <TensorSliceDataset shapes: ((8,), (1,)), types: (tf.int64, tf.int32)>, <TensorSliceDataset shapes: ((8,), (1,)), types: (tf.int64, tf.int32)>, <TensorSliceDataset shapes: ((8,), (1,)), types: (tf.int64, tf.int32)>, <TensorSliceDataset shapes: ((8,), (1,)), types: (tf.int64, tf.int32)>, <TensorSliceDataset shapes: ((8,), (1,)), types: (tf.int64, tf.int32)>, <TensorSliceDataset shapes: ((8,), (1,)), types: (tf.int64, tf.int32)>, <TensorSliceDataset shapes: ((8,), (1,)), types: (tf.int64, tf.int32)>, <TensorSliceDataset shapes: ((8,), (1,)), types: (tf.int64, tf.int32)>, <TensorSliceDataset shapes: ((8,), (1,)), types: (tf.int64, tf.int32)>, <TensorSliceDataset shapes: ((8,), (1,)), types: (tf.int64, tf.int32)>, <TensorSliceDataset shapes: ((8,), (1,)), types: (tf.int64, tf.int32)>, <TensorSliceDataset shapes: ((8,), (1,)), types: (tf.int64, tf.int32)>, <TensorSliceDataset shapes: ((8,), (1,)), types: (tf.int64, tf.int32)>, <TensorSliceDataset shapes: ((8,), (1,)), types: (tf.int64, tf.int32)>, <TensorSliceDataset shapes: ((8,), (1,)), types: (tf.int64, tf.int32)>, <TensorSliceDataset shapes: ((8,), (1,)), types: (tf.int64, tf.int32)>, <TensorSliceDataset shapes: ((8,), (1,)), types: (tf.int64, tf.int32)>, <TensorSliceDataset shapes: ((8,), (1,)), types: (tf.int64, tf.int32)>, <TensorSliceDataset shapes: ((8,), (1,)), types: (tf.int64, tf.int32)>, <TensorSliceDataset shapes: ((8,), (1,)), types: (tf.int64, tf.int32)>, <TensorSliceDataset shapes: ((8,), (1,)), types: (tf.int64, tf.int32)>, <TensorSliceDataset shapes: ((8,), (1,)), types: (tf.int64, tf.int32)>, <TensorSliceDataset shapes: ((8,), (1,)), types: (tf.int64, tf.int32)>, <TensorSliceDataset shapes: ((8,), (1,)), types: (tf.int64, tf.int32)>, <TensorSliceDataset shapes: ((8,), (1,)), types: (tf.int64, tf.int32)>, <TensorSliceDataset shapes: ((8,), (1,)), types: (tf.int64, tf.int32)>, <TensorSliceDataset shapes: ((8,), (1,)), types: (tf.int64, tf.int32)>, <TensorSliceDataset shapes: ((8,), (1,)), types: (tf.int64, tf.int32)>, <TensorSliceDataset shapes: ((8,), (1,)), types: (tf.int64, tf.int32)>, <TensorSliceDataset shapes: ((8,), (1,)), types: (tf.int64, tf.int32)>, <TensorSliceDataset shapes: ((8,), (1,)), types: (tf.int64, tf.int32)>, <TensorSliceDataset shapes: ((8,), (1,)), types: (tf.int64, tf.int32)>, <TensorSliceDataset shapes: ((8,), (1,)), types: (tf.int64, tf.int32)>, <TensorSliceDataset shapes: ((8,), (1,)), types: (tf.int64, tf.int32)>, <TensorSliceDataset shapes: ((8,), (1,)), types: (tf.int64, tf.int32)>, <TensorSliceDataset shapes: ((8,), (1,)), types: (tf.int64, tf.int32)>, <TensorSliceDataset shapes: ((8,), (1,)), types: (tf.int64, tf.int32)>, <TensorSliceDataset shapes: ((8,), (1,)), types: (tf.int64, tf.int32)>, <TensorSliceDataset shapes: ((8,), (1,)), types: (tf.int64, tf.int32)>, <TensorSliceDataset shapes: ((8,), (1,)), types: (tf.int64, tf.int32)>, <TensorSliceDataset shapes: ((8,), (1,)), types: (tf.int64, tf.int32)>, <TensorSliceDataset shapes: ((8,), (1,)), types: (tf.int64, tf.int32)>, <TensorSliceDataset shapes: ((8,), (1,)), types: (tf.int64, tf.int32)>, <TensorSliceDataset shapes: ((8,), (1,)), types: (tf.int64, tf.int32)>, <TensorSliceDataset shapes: ((8,), (1,)), types: (tf.int64, tf.int32)>, <TensorSliceDataset shapes: ((8,), (1,)), types: (tf.int64, tf.int32)>, <TensorSliceDataset shapes: ((8,), (1,)), types: (tf.int64, tf.int32)>, <TensorSliceDataset shapes: ((8,), (1,)), types: (tf.int64, tf.int32)>, <TensorSliceDataset shapes: ((8,), (1,)), types: (tf.int64, tf.int32)>, <TensorSliceDataset shapes: ((8,), (1,)), types: (tf.int64, tf.int32)>, <TensorSliceDataset shapes: ((8,), (1,)), types: (tf.int64, tf.int32)>, <TensorSliceDataset shapes: ((8,), (1,)), types: (tf.int64, tf.int32)>, <TensorSliceDataset shapes: ((8,), (1,)), types: (tf.int64, tf.int32)>, <TensorSliceDataset shapes: ((8,), (1,)), types: (tf.int64, tf.int32)>, <TensorSliceDataset shapes: ((8,), (1,)), types: (tf.int64, tf.int32)>, <TensorSliceDataset shapes: ((8,), (1,)), types: (tf.int64, tf.int32)>, <TensorSliceDataset shapes: ((8,), (1,)), types: (tf.int64, tf.int32)>, <TensorSliceDataset shapes: ((8,), (1,)), types: (tf.int64, tf.int32)>, <TensorSliceDataset shapes: ((8,), (1,)), types: (tf.int64, tf.int32)>, <TensorSliceDataset shapes: ((8,), (1,)), types: (tf.int64, tf.int32)>, <TensorSliceDataset shapes: ((8,), (1,)), types: (tf.int64, tf.int32)>, <TensorSliceDataset shapes: ((8,), (1,)), types: (tf.int64, tf.int32)>, <TensorSliceDataset shapes: ((8,), (1,)), types: (tf.int64, tf.int32)>, <TensorSliceDataset shapes: ((8,), (1,)), types: (tf.int64, tf.int32)>, <TensorSliceDataset shapes: ((8,), (1,)), types: (tf.int64, tf.int32)>, <TensorSliceDataset shapes: ((8,), (1,)), types: (tf.int64, tf.int32)>, <TensorSliceDataset shapes: ((8,), (1,)), types: (tf.int64, tf.int32)>, <TensorSliceDataset shapes: ((8,), (1,)), types: (tf.int64, tf.int32)>, <TensorSliceDataset shapes: ((8,), (1,)), types: (tf.int64, tf.int32)>, <TensorSliceDataset shapes: ((8,), (1,)), types: (tf.int64, tf.int32)>, <TensorSliceDataset shapes: ((8,), (1,)), types: (tf.int64, tf.int32)>, <TensorSliceDataset shapes: ((8,), (1,)), types: (tf.int64, tf.int32)>, <TensorSliceDataset shapes: ((8,), (1,)), types: (tf.int64, tf.int32)>, <TensorSliceDataset shapes: ((8,), (1,)), types: (tf.int64, tf.int32)>, <TensorSliceDataset shapes: ((8,), (1,)), types: (tf.int64, tf.int32)>, <TensorSliceDataset shapes: ((8,), (1,)), types: (tf.int64, tf.int32)>, <TensorSliceDataset shapes: ((8,), (1,)), types: (tf.int64, tf.int32)>, <TensorSliceDataset shapes: ((8,), (1,)), types: (tf.int64, tf.int32)>, <TensorSliceDataset shapes: ((8,), (1,)), types: (tf.int64, tf.int32)>, <TensorSliceDataset shapes: ((8,), (1,)), types: (tf.int64, tf.int32)>, <TensorSliceDataset shapes: ((8,), (1,)), types: (tf.int64, tf.int32)>, <TensorSliceDataset shapes: ((8,), (1,)), types: (tf.int64, tf.int32)>, <TensorSliceDataset shapes: ((8,), (1,)), types: (tf.int64, tf.int32)>, <TensorSliceDataset shapes: ((8,), (1,)), types: (tf.int64, tf.int32)>, <TensorSliceDataset shapes: ((8,), (1,)), types: (tf.int64, tf.int32)>, <TensorSliceDataset shapes: ((8,), (1,)), types: (tf.int64, tf.int32)>, <TensorSliceDataset shapes: ((8,), (1,)), types: (tf.int64, tf.int32)>, <TensorSliceDataset shapes: ((8,), (1,)), types: (tf.int64, tf.int32)>, <TensorSliceDataset shapes: ((8,), (1,)), types: (tf.int64, tf.int32)>, <TensorSliceDataset shapes: ((8,), (1,)), types: (tf.int64, tf.int32)>, <TensorSliceDataset shapes: ((8,), (1,)), types: (tf.int64, tf.int32)>, <TensorSliceDataset shapes: ((8,), (1,)), types: (tf.int64, tf.int32)>, <TensorSliceDataset shapes: ((8,), (1,)), types: (tf.int64, tf.int32)>, <TensorSliceDataset shapes: ((8,), (1,)), types: (tf.int64, tf.int32)>, <TensorSliceDataset shapes: ((8,), (1,)), types: (tf.int64, tf.int32)>, <TensorSliceDataset shapes: ((8,), (1,)), types: (tf.int64, tf.int32)>, <TensorSliceDataset shapes: ((8,), (1,)), types: (tf.int64, tf.int32)>, <TensorSliceDataset shapes: ((8,), (1,)), types: (tf.int64, tf.int32)>, <TensorSliceDataset shapes: ((8,), (1,)), types: (tf.int64, tf.int32)>, <TensorSliceDataset shapes: ((8,), (1,)), types: (tf.int64, tf.int32)>, <TensorSliceDataset shapes: ((8,), (1,)), types: (tf.int64, tf.int32)>, <TensorSliceDataset shapes: ((8,), (1,)), types: (tf.int64, tf.int32)>, <TensorSliceDataset shapes: ((8,), (1,)), types: (tf.int64, tf.int32)>, <TensorSliceDataset shapes: ((8,), (1,)), types: (tf.int64, tf.int32)>, <TensorSliceDataset shapes: ((8,), (1,)), types: (tf.int64, tf.int32)>, <TensorSliceDataset shapes: ((8,), (1,)), types: (tf.int64, tf.int32)>, <TensorSliceDataset shapes: ((8,), (1,)), types: (tf.int64, tf.int32)>, <TensorSliceDataset shapes: ((8,), (1,)), types: (tf.int64, tf.int32)>, <TensorSliceDataset shapes: ((8,), (1,)), types: (tf.int64, tf.int32)>, <TensorSliceDataset shapes: ((8,), (1,)), types: (tf.int64, tf.int32)>, <TensorSliceDataset shapes: ((8,), (1,)), types: (tf.int64, tf.int32)>, <TensorSliceDataset shapes: ((8,), (1,)), types: (tf.int64, tf.int32)>, <TensorSliceDataset shapes: ((8,), (1,)), types: (tf.int64, tf.int32)>, <TensorSliceDataset shapes: ((8,), (1,)), types: (tf.int64, tf.int32)>, <TensorSliceDataset shapes: ((8,), (1,)), types: (tf.int64, tf.int32)>, <TensorSliceDataset shapes: ((8,), (1,)), types: (tf.int64, tf.int32)>, <TensorSliceDataset shapes: ((8,), (1,)), types: (tf.int64, tf.int32)>, <TensorSliceDataset shapes: ((8,), (1,)), types: (tf.int64, tf.int32)>, <TensorSliceDataset shapes: ((8,), (1,)), types: (tf.int64, tf.int32)>, <TensorSliceDataset shapes: ((8,), (1,)), types: (tf.int64, tf.int32)>, <TensorSliceDataset shapes: ((8,), (1,)), types: (tf.int64, tf.int32)>, <TensorSliceDataset shapes: ((8,), (1,)), types: (tf.int64, tf.int32)>, <TensorSliceDataset shapes: ((8,), (1,)), types: (tf.int64, tf.int32)>, <TensorSliceDataset shapes: ((8,), (1,)), types: (tf.int64, tf.int32)>, <TensorSliceDataset shapes: ((8,), (1,)), types: (tf.int64, tf.int32)>, <TensorSliceDataset shapes: ((8,), (1,)), types: (tf.int64, tf.int32)>, <TensorSliceDataset shapes: ((8,), (1,)), types: (tf.int64, tf.int32)>, <TensorSliceDataset shapes: ((8,), (1,)), types: (tf.int64, tf.int32)>, <TensorSliceDataset shapes: ((8,), (1,)), types: (tf.int64, tf.int32)>, <TensorSliceDataset shapes: ((8,), (1,)), types: (tf.int64, tf.int32)>, <TensorSliceDataset shapes: ((8,), (1,)), types: (tf.int64, tf.int32)>, <TensorSliceDataset shapes: ((8,), (1,)), types: (tf.int64, tf.int32)>, <TensorSliceDataset shapes: ((8,), (1,)), types: (tf.int64, tf.int32)>, <TensorSliceDataset shapes: ((8,), (1,)), types: (tf.int64, tf.int32)>, <TensorSliceDataset shapes: ((8,), (1,)), types: (tf.int64, tf.int32)>, <TensorSliceDataset shapes: ((8,), (1,)), types: (tf.int64, tf.int32)>, <TensorSliceDataset shapes: ((8,), (1,)), types: (tf.int64, tf.int32)>, <TensorSliceDataset shapes: ((8,), (1,)), types: (tf.int64, tf.int32)>, <TensorSliceDataset shapes: ((8,), (1,)), types: (tf.int64, tf.int32)>, <TensorSliceDataset shapes: ((8,), (1,)), types: (tf.int64, tf.int32)>, <TensorSliceDataset shapes: ((8,), (1,)), types: (tf.int64, tf.int32)>, <TensorSliceDataset shapes: ((8,), (1,)), types: (tf.int64, tf.int32)>, <TensorSliceDataset shapes: ((8,), (1,)), types: (tf.int64, tf.int32)>, <TensorSliceDataset shapes: ((8,), (1,)), types: (tf.int64, tf.int32)>, <TensorSliceDataset shapes: ((8,), (1,)), types: (tf.int64, tf.int32)>, <TensorSliceDataset shapes: ((8,), (1,)), types: (tf.int64, tf.int32)>, <TensorSliceDataset shapes: ((8,), (1,)), types: (tf.int64, tf.int32)>, <TensorSliceDataset shapes: ((8,), (1,)), types: (tf.int64, tf.int32)>, <TensorSliceDataset shapes: ((8,), (1,)), types: (tf.int64, tf.int32)>, <TensorSliceDataset shapes: ((8,), (1,)), types: (tf.int64, tf.int32)>, <TensorSliceDataset shapes: ((8,), (1,)), types: (tf.int64, tf.int32)>, <TensorSliceDataset shapes: ((8,), (1,)), types: (tf.int64, tf.int32)>, <TensorSliceDataset shapes: ((8,), (1,)), types: (tf.int64, tf.int32)>, <TensorSliceDataset shapes: ((8,), (1,)), types: (tf.int64, tf.int32)>, <TensorSliceDataset shapes: ((8,), (1,)), types: (tf.int64, tf.int32)>, <TensorSliceDataset shapes: ((8,), (1,)), types: (tf.int64, tf.int32)>, <TensorSliceDataset shapes: ((8,), (1,)), types: (tf.int64, tf.int32)>, <TensorSliceDataset shapes: ((8,), (1,)), types: (tf.int64, tf.int32)>, <TensorSliceDataset shapes: ((8,), (1,)), types: (tf.int64, tf.int32)>, <TensorSliceDataset shapes: ((8,), (1,)), types: (tf.int64, tf.int32)>, <TensorSliceDataset shapes: ((8,), (1,)), types: (tf.int64, tf.int32)>, <TensorSliceDataset shapes: ((8,), (1,)), types: (tf.int64, tf.int32)>, <TensorSliceDataset shapes: ((8,), (1,)), types: (tf.int64, tf.int32)>, <TensorSliceDataset shapes: ((8,), (1,)), types: (tf.int64, tf.int32)>, <TensorSliceDataset shapes: ((8,), (1,)), types: (tf.int64, tf.int32)>, <TensorSliceDataset shapes: ((8,), (1,)), types: (tf.int64, tf.int32)>, <TensorSliceDataset shapes: ((8,), (1,)), types: (tf.int64, tf.int32)>, <TensorSliceDataset shapes: ((8,), (1,)), types: (tf.int64, tf.int32)>, <TensorSliceDataset shapes: ((8,), (1,)), types: (tf.int64, tf.int32)>, <TensorSliceDataset shapes: ((8,), (1,)), types: (tf.int64, tf.int32)>, <TensorSliceDataset shapes: ((8,), (1,)), types: (tf.int64, tf.int32)>, <TensorSliceDataset shapes: ((8,), (1,)), types: (tf.int64, tf.int32)>, <TensorSliceDataset shapes: ((8,), (1,)), types: (tf.int64, tf.int32)>, <TensorSliceDataset shapes: ((8,), (1,)), types: (tf.int64, tf.int32)>, <TensorSliceDataset shapes: ((8,), (1,)), types: (tf.int64, tf.int32)>, <TensorSliceDataset shapes: ((8,), (1,)), types: (tf.int64, tf.int32)>, <TensorSliceDataset shapes: ((8,), (1,)), types: (tf.int64, tf.int32)>, <TensorSliceDataset shapes: ((8,), (1,)), types: (tf.int64, tf.int32)>, <TensorSliceDataset shapes: ((8,), (1,)), types: (tf.int64, tf.int32)>, <TensorSliceDataset shapes: ((8,), (1,)), types: (tf.int64, tf.int32)>, <TensorSliceDataset shapes: ((8,), (1,)), types: (tf.int64, tf.int32)>, <TensorSliceDataset shapes: ((8,), (1,)), types: (tf.int64, tf.int32)>, <TensorSliceDataset shapes: ((8,), (1,)), types: (tf.int64, tf.int32)>, <TensorSliceDataset shapes: ((8,), (1,)), types: (tf.int64, tf.int32)>, <TensorSliceDataset shapes: ((8,), (1,)), types: (tf.int64, tf.int32)>, <TensorSliceDataset shapes: ((8,), (1,)), types: (tf.int64, tf.int32)>, <TensorSliceDataset shapes: ((8,), (1,)), types: (tf.int64, tf.int32)>, <TensorSliceDataset shapes: ((8,), (1,)), types: (tf.int64, tf.int32)>, <TensorSliceDataset shapes: ((8,), (1,)), types: (tf.int64, tf.int32)>, <TensorSliceDataset shapes: ((8,), (1,)), types: (tf.int64, tf.int32)>, <TensorSliceDataset shapes: ((8,), (1,)), types: (tf.int64, tf.int32)>, <TensorSliceDataset shapes: ((8,), (1,)), types: (tf.int64, tf.int32)>, <TensorSliceDataset shapes: ((8,), (1,)), types: (tf.int64, tf.int32)>, <TensorSliceDataset shapes: ((8,), (1,)), types: (tf.int64, tf.int32)>, <TensorSliceDataset shapes: ((8,), (1,)), types: (tf.int64, tf.int32)>, <TensorSliceDataset shapes: ((8,), (1,)), types: (tf.int64, tf.int32)>, <TensorSliceDataset shapes: ((8,), (1,)), types: (tf.int64, tf.int32)>, <TensorSliceDataset shapes: ((8,), (1,)), types: (tf.int64, tf.int32)>, <TensorSliceDataset shapes: ((8,), (1,)), types: (tf.int64, tf.int32)>, <TensorSliceDataset shapes: ((8,), (1,)), types: (tf.int64, tf.int32)>, <TensorSliceDataset shapes: ((8,), (1,)), types: (tf.int64, tf.int32)>, <TensorSliceDataset shapes: ((8,), (1,)), types: (tf.int64, tf.int32)>, <TensorSliceDataset shapes: ((8,), (1,)), types: (tf.int64, tf.int32)>, <TensorSliceDataset shapes: ((8,), (1,)), types: (tf.int64, tf.int32)>, <TensorSliceDataset shapes: ((8,), (1,)), types: (tf.int64, tf.int32)>, <TensorSliceDataset shapes: ((8,), (1,)), types: (tf.int64, tf.int32)>, <TensorSliceDataset shapes: ((8,), (1,)), types: (tf.int64, tf.int32)>, <TensorSliceDataset shapes: ((8,), (1,)), types: (tf.int64, tf.int32)>, <TensorSliceDataset shapes: ((8,), (1,)), types: (tf.int64, tf.int32)>, <TensorSliceDataset shapes: ((8,), (1,)), types: (tf.int64, tf.int32)>, <TensorSliceDataset shapes: ((8,), (1,)), types: (tf.int64, tf.int32)>, <TensorSliceDataset shapes: ((8,), (1,)), types: (tf.int64, tf.int32)>, <TensorSliceDataset shapes: ((8,), (1,)), types: (tf.int64, tf.int32)>, <TensorSliceDataset shapes: ((8,), (1,)), types: (tf.int64, tf.int32)>, <TensorSliceDataset shapes: ((8,), (1,)), types: (tf.int64, tf.int32)>, <TensorSliceDataset shapes: ((8,), (1,)), types: (tf.int64, tf.int32)>, <TensorSliceDataset shapes: ((8,), (1,)), types: (tf.int64, tf.int32)>, <TensorSliceDataset shapes: ((8,), (1,)), types: (tf.int64, tf.int32)>, <TensorSliceDataset shapes: ((8,), (1,)), types: (tf.int64, tf.int32)>, <TensorSliceDataset shapes: ((8,), (1,)), types: (tf.int64, tf.int32)>, <TensorSliceDataset shapes: ((8,), (1,)), types: (tf.int64, tf.int32)>, <TensorSliceDataset shapes: ((8,), (1,)), types: (tf.int64, tf.int32)>, <TensorSliceDataset shapes: ((8,), (1,)), types: (tf.int64, tf.int32)>, <TensorSliceDataset shapes: ((8,), (1,)), types: (tf.int64, tf.int32)>, <TensorSliceDataset shapes: ((8,), (1,)), types: (tf.int64, tf.int32)>, <TensorSliceDataset shapes: ((8,), (1,)), types: (tf.int64, tf.int32)>, <TensorSliceDataset shapes: ((8,), (1,)), types: (tf.int64, tf.int32)>, <TensorSliceDataset shapes: ((8,), (1,)), types: (tf.int64, tf.int32)>, <TensorSliceDataset shapes: ((8,), (1,)), types: (tf.int64, tf.int32)>, <TensorSliceDataset shapes: ((8,), (1,)), types: (tf.int64, tf.int32)>, <TensorSliceDataset shapes: ((8,), (1,)), types: (tf.int64, tf.int32)>, <TensorSliceDataset shapes: ((8,), (1,)), types: (tf.int64, tf.int32)>, <TensorSliceDataset shapes: ((8,), (1,)), types: (tf.int64, tf.int32)>, <TensorSliceDataset shapes: ((8,), (1,)), types: (tf.int64, tf.int32)>, <TensorSliceDataset shapes: ((8,), (1,)), types: (tf.int64, tf.int32)>, <TensorSliceDataset shapes: ((8,), (1,)), types: (tf.int64, tf.int32)>, <TensorSliceDataset shapes: ((8,), (1,)), types: (tf.int64, tf.int32)>, <TensorSliceDataset shapes: ((8,), (1,)), types: (tf.int64, tf.int32)>, <TensorSliceDataset shapes: ((8,), (1,)), types: (tf.int64, tf.int32)>, <TensorSliceDataset shapes: ((8,), (1,)), types: (tf.int64, tf.int32)>, <TensorSliceDataset shapes: ((8,), (1,)), types: (tf.int64, tf.int32)>, <TensorSliceDataset shapes: ((8,), (1,)), types: (tf.int64, tf.int32)>, <TensorSliceDataset shapes: ((8,), (1,)), types: (tf.int64, tf.int32)>, <TensorSliceDataset shapes: ((8,), (1,)), types: (tf.int64, tf.int32)>, <TensorSliceDataset shapes: ((8,), (1,)), types: (tf.int64, tf.int32)>, <TensorSliceDataset shapes: ((8,), (1,)), types: (tf.int64, tf.int32)>, <TensorSliceDataset shapes: ((8,), (1,)), types: (tf.int64, tf.int32)>, <TensorSliceDataset shapes: ((8,), (1,)), types: (tf.int64, tf.int32)>, <TensorSliceDataset shapes: ((8,), (1,)), types: (tf.int64, tf.int32)>, <TensorSliceDataset shapes: ((8,), (1,)), types: (tf.int64, tf.int32)>, <TensorSliceDataset shapes: ((8,), (1,)), types: (tf.int64, tf.int32)>, <TensorSliceDataset shapes: ((8,), (1,)), types: (tf.int64, tf.int32)>, <TensorSliceDataset shapes: ((8,), (1,)), types: (tf.int64, tf.int32)>, <TensorSliceDataset shapes: ((8,), (1,)), types: (tf.int64, tf.int32)>, <TensorSliceDataset shapes: ((8,), (1,)), types: (tf.int64, tf.int32)>, <TensorSliceDataset shapes: ((8,), (1,)), types: (tf.int64, tf.int32)>, <TensorSliceDataset shapes: ((8,), (1,)), types: (tf.int64, tf.int32)>, <TensorSliceDataset shapes: ((8,), (1,)), types: (tf.int64, tf.int32)>, <TensorSliceDataset shapes: ((8,), (1,)), types: (tf.int64, tf.int32)>, <TensorSliceDataset shapes: ((8,), (1,)), types: (tf.int64, tf.int32)>, <TensorSliceDataset shapes: ((8,), (1,)), types: (tf.int64, tf.int32)>, <TensorSliceDataset shapes: ((8,), (1,)), types: (tf.int64, tf.int32)>, <TensorSliceDataset shapes: ((8,), (1,)), types: (tf.int64, tf.int32)>, <TensorSliceDataset shapes: ((8,), (1,)), types: (tf.int64, tf.int32)>, <TensorSliceDataset shapes: ((8,), (1,)), types: (tf.int64, tf.int32)>, <TensorSliceDataset shapes: ((8,), (1,)), types: (tf.int64, tf.int32)>, <TensorSliceDataset shapes: ((8,), (1,)), types: (tf.int64, tf.int32)>, <TensorSliceDataset shapes: ((8,), (1,)), types: (tf.int64, tf.int32)>, <TensorSliceDataset shapes: ((8,), (1,)), types: (tf.int64, tf.int32)>, <TensorSliceDataset shapes: ((8,), (1,)), types: (tf.int64, tf.int32)>, <TensorSliceDataset shapes: ((8,), (1,)), types: (tf.int64, tf.int32)>, <TensorSliceDataset shapes: ((8,), (1,)), types: (tf.int64, tf.int32)>, <TensorSliceDataset shapes: ((8,), (1,)), types: (tf.int64, tf.int32)>, <TensorSliceDataset shapes: ((8,), (1,)), types: (tf.int64, tf.int32)>, <TensorSliceDataset shapes: ((8,), (1,)), types: (tf.int64, tf.int32)>, <TensorSliceDataset shapes: ((8,), (1,)), types: (tf.int64, tf.int32)>, <TensorSliceDataset shapes: ((8,), (1,)), types: (tf.int64, tf.int32)>, <TensorSliceDataset shapes: ((8,), (1,)), types: (tf.int64, tf.int32)>, <TensorSliceDataset shapes: ((8,), (1,)), types: (tf.int64, tf.int32)>, <TensorSliceDataset shapes: ((8,), (1,)), types: (tf.int64, tf.int32)>, <TensorSliceDataset shapes: ((8,), (1,)), types: (tf.int64, tf.int32)>, <TensorSliceDataset shapes: ((8,), (1,)), types: (tf.int64, tf.int32)>, <TensorSliceDataset shapes: ((8,), (1,)), types: (tf.int64, tf.int32)>, <TensorSliceDataset shapes: ((8,), (1,)), types: (tf.int64, tf.int32)>, <TensorSliceDataset shapes: ((8,), (1,)), types: (tf.int64, tf.int32)>, <TensorSliceDataset shapes: ((8,), (1,)), types: (tf.int64, tf.int32)>, <TensorSliceDataset shapes: ((8,), (1,)), types: (tf.int64, tf.int32)>, <TensorSliceDataset shapes: ((8,), (1,)), types: (tf.int64, tf.int32)>, <TensorSliceDataset shapes: ((8,), (1,)), types: (tf.int64, tf.int32)>, <TensorSliceDataset shapes: ((8,), (1,)), types: (tf.int64, tf.int32)>, <TensorSliceDataset shapes: ((8,), (1,)), types: (tf.int64, tf.int32)>, <TensorSliceDataset shapes: ((8,), (1,)), types: (tf.int64, tf.int32)>, <TensorSliceDataset shapes: ((8,), (1,)), types: (tf.int64, tf.int32)>, <TensorSliceDataset shapes: ((8,), (1,)), types: (tf.int64, tf.int32)>, <TensorSliceDataset shapes: ((8,), (1,)), types: (tf.int64, tf.int32)>, <TensorSliceDataset shapes: ((8,), (1,)), types: (tf.int64, tf.int32)>, <TensorSliceDataset shapes: ((8,), (1,)), types: (tf.int64, tf.int32)>, <TensorSliceDataset shapes: ((8,), (1,)), types: (tf.int64, tf.int32)>, <TensorSliceDataset shapes: ((8,), (1,)), types: (tf.int64, tf.int32)>, <TensorSliceDataset shapes: ((8,), (1,)), types: (tf.int64, tf.int32)>, <TensorSliceDataset shapes: ((8,), (1,)), types: (tf.int64, tf.int32)>, <TensorSliceDataset shapes: ((8,), (1,)), types: (tf.int64, tf.int32)>, <TensorSliceDataset shapes: ((8,), (1,)), types: (tf.int64, tf.int32)>, <TensorSliceDataset shapes: ((8,), (1,)), types: (tf.int64, tf.int32)>, <TensorSliceDataset shapes: ((8,), (1,)), types: (tf.int64, tf.int32)>, <TensorSliceDataset shapes: ((8,), (1,)), types: (tf.int64, tf.int32)>, <TensorSliceDataset shapes: ((8,), (1,)), types: (tf.int64, tf.int32)>, <TensorSliceDataset shapes: ((8,), (1,)), types: (tf.int64, tf.int32)>, <TensorSliceDataset shapes: ((8,), (1,)), types: (tf.int64, tf.int32)>, <TensorSliceDataset shapes: ((8,), (1,)), types: (tf.int64, tf.int32)>, <TensorSliceDataset shapes: ((8,), (1,)), types: (tf.int64, tf.int32)>, <TensorSliceDataset shapes: ((8,), (1,)), types: (tf.int64, tf.int32)>, <TensorSliceDataset shapes: ((8,), (1,)), types: (tf.int64, tf.int32)>, <TensorSliceDataset shapes: ((8,), (1,)), types: (tf.int64, tf.int32)>, <TensorSliceDataset shapes: ((8,), (1,)), types: (tf.int64, tf.int32)>, <TensorSliceDataset shapes: ((8,), (1,)), types: (tf.int64, tf.int32)>, <TensorSliceDataset shapes: ((8,), (1,)), types: (tf.int64, tf.int32)>, <TensorSliceDataset shapes: ((8,), (1,)), types: (tf.int64, tf.int32)>, <TensorSliceDataset shapes: ((8,), (1,)), types: (tf.int64, tf.int32)>, <TensorSliceDataset shapes: ((8,), (1,)), types: (tf.int64, tf.int32)>, <TensorSliceDataset shapes: ((8,), (1,)), types: (tf.int64, tf.int32)>, <TensorSliceDataset shapes: ((8,), (1,)), types: (tf.int64, tf.int32)>, <TensorSliceDataset shapes: ((8,), (1,)), types: (tf.int64, tf.int32)>, <TensorSliceDataset shapes: ((8,), (1,)), types: (tf.int64, tf.int32)>, <TensorSliceDataset shapes: ((8,), (1,)), types: (tf.int64, tf.int32)>, <TensorSliceDataset shapes: ((8,), (1,)), types: (tf.int64, tf.int32)>, <TensorSliceDataset shapes: ((8,), (1,)), types: (tf.int64, tf.int32)>, <TensorSliceDataset shapes: ((8,), (1,)), types: (tf.int64, tf.int32)>, <TensorSliceDataset shapes: ((8,), (1,)), types: (tf.int64, tf.int32)>, <TensorSliceDataset shapes: ((8,), (1,)), types: (tf.int64, tf.int32)>, <TensorSliceDataset shapes: ((8,), (1,)), types: (tf.int64, tf.int32)>, <TensorSliceDataset shapes: ((8,), (1,)), types: (tf.int64, tf.int32)>, <TensorSliceDataset shapes: ((8,), (1,)), types: (tf.int64, tf.int32)>, <TensorSliceDataset shapes: ((8,), (1,)), types: (tf.int64, tf.int32)>, <TensorSliceDataset shapes: ((8,), (1,)), types: (tf.int64, tf.int32)>, <TensorSliceDataset shapes: ((8,), (1,)), types: (tf.int64, tf.int32)>, <TensorSliceDataset shapes: ((8,), (1,)), types: (tf.int64, tf.int32)>, <TensorSliceDataset shapes: ((8,), (1,)), types: (tf.int64, tf.int32)>, <TensorSliceDataset shapes: ((8,), (1,)), types: (tf.int64, tf.int32)>, <TensorSliceDataset shapes: ((8,), (1,)), types: (tf.int64, tf.int32)>, <TensorSliceDataset shapes: ((8,), (1,)), types: (tf.int64, tf.int32)>, <TensorSliceDataset shapes: ((8,), (1,)), types: (tf.int64, tf.int32)>, <TensorSliceDataset shapes: ((8,), (1,)), types: (tf.int64, tf.int32)>, <TensorSliceDataset shapes: ((8,), (1,)), types: (tf.int64, tf.int32)>, <TensorSliceDataset shapes: ((8,), (1,)), types: (tf.int64, tf.int32)>, <TensorSliceDataset shapes: ((8,), (1,)), types: (tf.int64, tf.int32)>, <TensorSliceDataset shapes: ((8,), (1,)), types: (tf.int64, tf.int32)>, <TensorSliceDataset shapes: ((8,), (1,)), types: (tf.int64, tf.int32)>, <TensorSliceDataset shapes: ((8,), (1,)), types: (tf.int64, tf.int32)>, <TensorSliceDataset shapes: ((8,), (1,)), types: (tf.int64, tf.int32)>, <TensorSliceDataset shapes: ((8,), (1,)), types: (tf.int64, tf.int32)>, <TensorSliceDataset shapes: ((8,), (1,)), types: (tf.int64, tf.int32)>, <TensorSliceDataset shapes: ((8,), (1,)), types: (tf.int64, tf.int32)>, <TensorSliceDataset shapes: ((8,), (1,)), types: (tf.int64, tf.int32)>, <TensorSliceDataset shapes: ((8,), (1,)), types: (tf.int64, tf.int32)>, <TensorSliceDataset shapes: ((8,), (1,)), types: (tf.int64, tf.int32)>, <TensorSliceDataset shapes: ((8,), (1,)), types: (tf.int64, tf.int32)>, <TensorSliceDataset shapes: ((8,), (1,)), types: (tf.int64, tf.int32)>, <TensorSliceDataset shapes: ((8,), (1,)), types: (tf.int64, tf.int32)>, <TensorSliceDataset shapes: ((8,), (1,)), types: (tf.int64, tf.int32)>, <TensorSliceDataset shapes: ((8,), (1,)), types: (tf.int64, tf.int32)>, <TensorSliceDataset shapes: ((8,), (1,)), types: (tf.int64, tf.int32)>, <TensorSliceDataset shapes: ((8,), (1,)), types: (tf.int64, tf.int32)>, <TensorSliceDataset shapes: ((8,), (1,)), types: (tf.int64, tf.int32)>, <TensorSliceDataset shapes: ((8,), (1,)), types: (tf.int64, tf.int32)>, <TensorSliceDataset shapes: ((8,), (1,)), types: (tf.int64, tf.int32)>, <TensorSliceDataset shapes: ((8,), (1,)), types: (tf.int64, tf.int32)>, <TensorSliceDataset shapes: ((8,), (1,)), types: (tf.int64, tf.int32)>, <TensorSliceDataset shapes: ((8,), (1,)), types: (tf.int64, tf.int32)>, <TensorSliceDataset shapes: ((8,), (1,)), types: (tf.int64, tf.int32)>, <TensorSliceDataset shapes: ((8,), (1,)), types: (tf.int64, tf.int32)>, <TensorSliceDataset shapes: ((8,), (1,)), types: (tf.int64, tf.int32)>, <TensorSliceDataset shapes: ((8,), (1,)), types: (tf.int64, tf.int32)>, <TensorSliceDataset shapes: ((8,), (1,)), types: (tf.int64, tf.int32)>, <TensorSliceDataset shapes: ((8,), (1,)), types: (tf.int64, tf.int32)>, <TensorSliceDataset shapes: ((8,), (1,)), types: (tf.int64, tf.int32)>, <TensorSliceDataset shapes: ((8,), (1,)), types: (tf.int64, tf.int32)>, <TensorSliceDataset shapes: ((8,), (1,)), types: (tf.int64, tf.int32)>, <TensorSliceDataset shapes: ((8,), (1,)), types: (tf.int64, tf.int32)>, <TensorSliceDataset shapes: ((8,), (1,)), types: (tf.int64, tf.int32)>, <TensorSliceDataset shapes: ((8,), (1,)), types: (tf.int64, tf.int32)>, <TensorSliceDataset shapes: ((8,), (1,)), types: (tf.int64, tf.int32)>, <TensorSliceDataset shapes: ((8,), (1,)), types: (tf.int64, tf.int32)>, <TensorSliceDataset shapes: ((8,), (1,)), types: (tf.int64, tf.int32)>, <TensorSliceDataset shapes: ((8,), (1,)), types: (tf.int64, tf.int32)>, <TensorSliceDataset shapes: ((8,), (1,)), types: (tf.int64, tf.int32)>, <TensorSliceDataset shapes: ((8,), (1,)), types: (tf.int64, tf.int32)>, <TensorSliceDataset shapes: ((8,), (1,)), types: (tf.int64, tf.int32)>, <TensorSliceDataset shapes: ((8,), (1,)), types: (tf.int64, tf.int32)>, <TensorSliceDataset shapes: ((8,), (1,)), types: (tf.int64, tf.int32)>, <TensorSliceDataset shapes: ((8,), (1,)), types: (tf.int64, tf.int32)>, <TensorSliceDataset shapes: ((8,), (1,)), types: (tf.int64, tf.int32)>, <TensorSliceDataset shapes: ((8,), (1,)), types: (tf.int64, tf.int32)>, <TensorSliceDataset shapes: ((8,), (1,)), types: (tf.int64, tf.int32)>, <TensorSliceDataset shapes: ((8,), (1,)), types: (tf.int64, tf.int32)>, <TensorSliceDataset shapes: ((8,), (1,)), types: (tf.int64, tf.int32)>, <TensorSliceDataset shapes: ((8,), (1,)), types: (tf.int64, tf.int32)>, <TensorSliceDataset shapes: ((8,), (1,)), types: (tf.int64, tf.int32)>, <TensorSliceDataset shapes: ((8,), (1,)), types: (tf.int64, tf.int32)>, <TensorSliceDataset shapes: ((8,), (1,)), types: (tf.int64, tf.int32)>, <TensorSliceDataset shapes: ((8,), (1,)), types: (tf.int64, tf.int32)>, <TensorSliceDataset shapes: ((8,), (1,)), types: (tf.int64, tf.int32)>, <TensorSliceDataset shapes: ((8,), (1,)), types: (tf.int64, tf.int32)>, <TensorSliceDataset shapes: ((8,), (1,)), types: (tf.int64, tf.int32)>, <TensorSliceDataset shapes: ((8,), (1,)), types: (tf.int64, tf.int32)>, <TensorSliceDataset shapes: ((8,), (1,)), types: (tf.int64, tf.int32)>, <TensorSliceDataset shapes: ((8,), (1,)), types: (tf.int64, tf.int32)>, <TensorSliceDataset shapes: ((8,), (1,)), types: (tf.int64, tf.int32)>, <TensorSliceDataset shapes: ((8,), (1,)), types: (tf.int64, tf.int32)>, <TensorSliceDataset shapes: ((8,), (1,)), types: (tf.int64, tf.int32)>, <TensorSliceDataset shapes: ((8,), (1,)), types: (tf.int64, tf.int32)>, <TensorSliceDataset shapes: ((8,), (1,)), types: (tf.int64, tf.int32)>, <TensorSliceDataset shapes: ((8,), (1,)), types: (tf.int64, tf.int32)>, <TensorSliceDataset shapes: ((8,), (1,)), types: (tf.int64, tf.int32)>, <TensorSliceDataset shapes: ((8,), (1,)), types: (tf.int64, tf.int32)>, <TensorSliceDataset shapes: ((8,), (1,)), types: (tf.int64, tf.int32)>, <TensorSliceDataset shapes: ((8,), (1,)), types: (tf.int64, tf.int32)>, <TensorSliceDataset shapes: ((8,), (1,)), types: (tf.int64, tf.int32)>, <TensorSliceDataset shapes: ((8,), (1,)), types: (tf.int64, tf.int32)>, <TensorSliceDataset shapes: ((8,), (1,)), types: (tf.int64, tf.int32)>, <TensorSliceDataset shapes: ((8,), (1,)), types: (tf.int64, tf.int32)>, <TensorSliceDataset shapes: ((8,), (1,)), types: (tf.int64, tf.int32)>, <TensorSliceDataset shapes: ((8,), (1,)), types: (tf.int64, tf.int32)>, <TensorSliceDataset shapes: ((8,), (1,)), types: (tf.int64, tf.int32)>, <TensorSliceDataset shapes: ((8,), (1,)), types: (tf.int64, tf.int32)>, <TensorSliceDataset shapes: ((8,), (1,)), types: (tf.int64, tf.int32)>, <TensorSliceDataset shapes: ((8,), (1,)), types: (tf.int64, tf.int32)>, <TensorSliceDataset shapes: ((8,), (1,)), types: (tf.int64, tf.int32)>, <TensorSliceDataset shapes: ((8,), (1,)), types: (tf.int64, tf.int32)>, <TensorSliceDataset shapes: ((8,), (1,)), types: (tf.int64, tf.int32)>, <TensorSliceDataset shapes: ((8,), (1,)), types: (tf.int64, tf.int32)>, <TensorSliceDataset shapes: ((8,), (1,)), types: (tf.int64, tf.int32)>, <TensorSliceDataset shapes: ((8,), (1,)), types: (tf.int64, tf.int32)>, <TensorSliceDataset shapes: ((8,), (1,)), types: (tf.int64, tf.int32)>, <TensorSliceDataset shapes: ((8,), (1,)), types: (tf.int64, tf.int32)>, <TensorSliceDataset shapes: ((8,), (1,)), types: (tf.int64, tf.int32)>, <TensorSliceDataset shapes: ((8,), (1,)), types: (tf.int64, tf.int32)>, <TensorSliceDataset shapes: ((8,), (1,)), types: (tf.int64, tf.int32)>, <TensorSliceDataset shapes: ((8,), (1,)), types: (tf.int64, tf.int32)>, <TensorSliceDataset shapes: ((8,), (1,)), types: (tf.int64, tf.int32)>, <TensorSliceDataset shapes: ((8,), (1,)), types: (tf.int64, tf.int32)>, <TensorSliceDataset shapes: ((8,), (1,)), types: (tf.int64, tf.int32)>, <TensorSliceDataset shapes: ((8,), (1,)), types: (tf.int64, tf.int32)>, <TensorSliceDataset shapes: ((8,), (1,)), types: (tf.int64, tf.int32)>, <TensorSliceDataset shapes: ((8,), (1,)), types: (tf.int64, tf.int32)>, <TensorSliceDataset shapes: ((8,), (1,)), types: (tf.int64, tf.int32)>, <TensorSliceDataset shapes: ((8,), (1,)), types: (tf.int64, tf.int32)>, <TensorSliceDataset shapes: ((8,), (1,)), types: (tf.int64, tf.int32)>, <TensorSliceDataset shapes: ((8,), (1,)), types: (tf.int64, tf.int32)>, <TensorSliceDataset shapes: ((8,), (1,)), types: (tf.int64, tf.int32)>, <TensorSliceDataset shapes: ((8,), (1,)), types: (tf.int64, tf.int32)>, <TensorSliceDataset shapes: ((8,), (1,)), types: (tf.int64, tf.int32)>, <TensorSliceDataset shapes: ((8,), (1,)), types: (tf.int64, tf.int32)>, <TensorSliceDataset shapes: ((8,), (1,)), types: (tf.int64, tf.int32)>, <TensorSliceDataset shapes: ((8,), (1,)), types: (tf.int64, tf.int32)>, <TensorSliceDataset shapes: ((8,), (1,)), types: (tf.int64, tf.int32)>, <TensorSliceDataset shapes: ((8,), (1,)), types: (tf.int64, tf.int32)>, <TensorSliceDataset shapes: ((8,), (1,)), types: (tf.int64, tf.int32)>, <TensorSliceDataset shapes: ((8,), (1,)), types: (tf.int64, tf.int32)>, <TensorSliceDataset shapes: ((8,), (1,)), types: (tf.int64, tf.int32)>, <TensorSliceDataset shapes: ((8,), (1,)), types: (tf.int64, tf.int32)>, <TensorSliceDataset shapes: ((8,), (1,)), types: (tf.int64, tf.int32)>, <TensorSliceDataset shapes: ((8,), (1,)), types: (tf.int64, tf.int32)>, <TensorSliceDataset shapes: ((8,), (1,)), types: (tf.int64, tf.int32)>, <TensorSliceDataset shapes: ((8,), (1,)), types: (tf.int64, tf.int32)>, <TensorSliceDataset shapes: ((8,), (1,)), types: (tf.int64, tf.int32)>, <TensorSliceDataset shapes: ((8,), (1,)), types: (tf.int64, tf.int32)>, <TensorSliceDataset shapes: ((8,), (1,)), types: (tf.int64, tf.int32)>, <TensorSliceDataset shapes: ((8,), (1,)), types: (tf.int64, tf.int32)>, <TensorSliceDataset shapes: ((8,), (1,)), types: (tf.int64, tf.int32)>, <TensorSliceDataset shapes: ((8,), (1,)), types: (tf.int64, tf.int32)>, <TensorSliceDataset shapes: ((8,), (1,)), types: (tf.int64, tf.int32)>, <TensorSliceDataset shapes: ((8,), (1,)), types: (tf.int64, tf.int32)>, <TensorSliceDataset shapes: ((8,), (1,)), types: (tf.int64, tf.int32)>, <TensorSliceDataset shapes: ((8,), (1,)), types: (tf.int64, tf.int32)>, <TensorSliceDataset shapes: ((8,), (1,)), types: (tf.int64, tf.int32)>, <TensorSliceDataset shapes: ((8,), (1,)), types: (tf.int64, tf.int32)>, <TensorSliceDataset shapes: ((8,), (1,)), types: (tf.int64, tf.int32)>, <TensorSliceDataset shapes: ((8,), (1,)), types: (tf.int64, tf.int32)>, <TensorSliceDataset shapes: ((8,), (1,)), types: (tf.int64, tf.int32)>, <TensorSliceDataset shapes: ((8,), (1,)), types: (tf.int64, tf.int32)>, <TensorSliceDataset shapes: ((8,), (1,)), types: (tf.int64, tf.int32)>, <TensorSliceDataset shapes: ((8,), (1,)), types: (tf.int64, tf.int32)>, <TensorSliceDataset shapes: ((8,), (1,)), types: (tf.int64, tf.int32)>, <TensorSliceDataset shapes: ((8,), (1,)), types: (tf.int64, tf.int32)>, <TensorSliceDataset shapes: ((8,), (1,)), types: (tf.int64, tf.int32)>, <TensorSliceDataset shapes: ((8,), (1,)), types: (tf.int64, tf.int32)>, <TensorSliceDataset shapes: ((8,), (1,)), types: (tf.int64, tf.int32)>, <TensorSliceDataset shapes: ((8,), (1,)), types: (tf.int64, tf.int32)>, <TensorSliceDataset shapes: ((8,), (1,)), types: (tf.int64, tf.int32)>, <TensorSliceDataset shapes: ((8,), (1,)), types: (tf.int64, tf.int32)>, <TensorSliceDataset shapes: ((8,), (1,)), types: (tf.int64, tf.int32)>, <TensorSliceDataset shapes: ((8,), (1,)), types: (tf.int64, tf.int32)>, <TensorSliceDataset shapes: ((8,), (1,)), types: (tf.int64, tf.int32)>, <TensorSliceDataset shapes: ((8,), (1,)), types: (tf.int64, tf.int32)>, <TensorSliceDataset shapes: ((8,), (1,)), types: (tf.int64, tf.int32)>, <TensorSliceDataset shapes: ((8,), (1,)), types: (tf.int64, tf.int32)>, <TensorSliceDataset shapes: ((8,), (1,)), types: (tf.int64, tf.int32)>, <TensorSliceDataset shapes: ((8,), (1,)), types: (tf.int64, tf.int32)>, <TensorSliceDataset shapes: ((8,), (1,)), types: (tf.int64, tf.int32)>, <TensorSliceDataset shapes: ((8,), (1,)), types: (tf.int64, tf.int32)>, <TensorSliceDataset shapes: ((8,), (1,)), types: (tf.int64, tf.int32)>, <TensorSliceDataset shapes: ((8,), (1,)), types: (tf.int64, tf.int32)>, <TensorSliceDataset shapes: ((8,), (1,)), types: (tf.int64, tf.int32)>, <TensorSliceDataset shapes: ((8,), (1,)), types: (tf.int64, tf.int32)>, <TensorSliceDataset shapes: ((8,), (1,)), types: (tf.int64, tf.int32)>, <TensorSliceDataset shapes: ((8,), (1,)), types: (tf.int64, tf.int32)>, <TensorSliceDataset shapes: ((8,), (1,)), types: (tf.int64, tf.int32)>, <TensorSliceDataset shapes: ((8,), (1,)), types: (tf.int64, tf.int32)>, <TensorSliceDataset shapes: ((8,), (1,)), types: (tf.int64, tf.int32)>, <TensorSliceDataset shapes: ((8,), (1,)), types: (tf.int64, tf.int32)>, <TensorSliceDataset shapes: ((8,), (1,)), types: (tf.int64, tf.int32)>, <TensorSliceDataset shapes: ((8,), (1,)), types: (tf.int64, tf.int32)>, <TensorSliceDataset shapes: ((8,), (1,)), types: (tf.int64, tf.int32)>, <TensorSliceDataset shapes: ((8,), (1,)), types: (tf.int64, tf.int32)>, <TensorSliceDataset shapes: ((8,), (1,)), types: (tf.int64, tf.int32)>, <TensorSliceDataset shapes: ((8,), (1,)), types: (tf.int64, tf.int32)>, <TensorSliceDataset shapes: ((8,), (1,)), types: (tf.int64, tf.int32)>, <TensorSliceDataset shapes: ((8,), (1,)), types: (tf.int64, tf.int32)>, <TensorSliceDataset shapes: ((8,), (1,)), types: (tf.int64, tf.int32)>, <TensorSliceDataset shapes: ((8,), (1,)), types: (tf.int64, tf.int32)>, <TensorSliceDataset shapes: ((8,), (1,)), types: (tf.int64, tf.int32)>, <TensorSliceDataset shapes: ((8,), (1,)), types: (tf.int64, tf.int32)>, <TensorSliceDataset shapes: ((8,), (1,)), types: (tf.int64, tf.int32)>, <TensorSliceDataset shapes: ((8,), (1,)), types: (tf.int64, tf.int32)>, <TensorSliceDataset shapes: ((8,), (1,)), types: (tf.int64, tf.int32)>, <TensorSliceDataset shapes: ((8,), (1,)), types: (tf.int64, tf.int32)>, <TensorSliceDataset shapes: ((8,), (1,)), types: (tf.int64, tf.int32)>, <TensorSliceDataset shapes: ((8,), (1,)), types: (tf.int64, tf.int32)>, <TensorSliceDataset shapes: ((8,), (1,)), types: (tf.int64, tf.int32)>, <TensorSliceDataset shapes: ((8,), (1,)), types: (tf.int64, tf.int32)>, <TensorSliceDataset shapes: ((8,), (1,)), types: (tf.int64, tf.int32)>, <TensorSliceDataset shapes: ((8,), (1,)), types: (tf.int64, tf.int32)>, <TensorSliceDataset shapes: ((8,), (1,)), types: (tf.int64, tf.int32)>, <TensorSliceDataset shapes: ((8,), (1,)), types: (tf.int64, tf.int32)>, <TensorSliceDataset shapes: ((8,), (1,)), types: (tf.int64, tf.int32)>, <TensorSliceDataset shapes: ((8,), (1,)), types: (tf.int64, tf.int32)>, <TensorSliceDataset shapes: ((8,), (1,)), types: (tf.int64, tf.int32)>, <TensorSliceDataset shapes: ((8,), (1,)), types: (tf.int64, tf.int32)>, <TensorSliceDataset shapes: ((8,), (1,)), types: (tf.int64, tf.int32)>, <TensorSliceDataset shapes: ((8,), (1,)), types: (tf.int64, tf.int32)>, <TensorSliceDataset shapes: ((8,), (1,)), types: (tf.int64, tf.int32)>, <TensorSliceDataset shapes: ((8,), (1,)), types: (tf.int64, tf.int32)>, <TensorSliceDataset shapes: ((8,), (1,)), types: (tf.int64, tf.int32)>, <TensorSliceDataset shapes: ((8,), (1,)), types: (tf.int64, tf.int32)>, <TensorSliceDataset shapes: ((8,), (1,)), types: (tf.int64, tf.int32)>, <TensorSliceDataset shapes: ((8,), (1,)), types: (tf.int64, tf.int32)>, <TensorSliceDataset shapes: ((8,), (1,)), types: (tf.int64, tf.int32)>, <TensorSliceDataset shapes: ((8,), (1,)), types: (tf.int64, tf.int32)>, <TensorSliceDataset shapes: ((8,), (1,)), types: (tf.int64, tf.int32)>, <TensorSliceDataset shapes: ((8,), (1,)), types: (tf.int64, tf.int32)>, <TensorSliceDataset shapes: ((8,), (1,)), types: (tf.int64, tf.int32)>, <TensorSliceDataset shapes: ((8,), (1,)), types: (tf.int64, tf.int32)>, <TensorSliceDataset shapes: ((8,), (1,)), types: (tf.int64, tf.int32)>, <TensorSliceDataset shapes: ((8,), (1,)), types: (tf.int64, tf.int32)>, <TensorSliceDataset shapes: ((8,), (1,)), types: (tf.int64, tf.int32)>, <TensorSliceDataset shapes: ((8,), (1,)), types: (tf.int64, tf.int32)>, <TensorSliceDataset shapes: ((8,), (1,)), types: (tf.int64, tf.int32)>, <TensorSliceDataset shapes: ((8,), (1,)), types: (tf.int64, tf.int32)>, <TensorSliceDataset shapes: ((8,), (1,)), types: (tf.int64, tf.int32)>, <TensorSliceDataset shapes: ((8,), (1,)), types: (tf.int64, tf.int32)>, <TensorSliceDataset shapes: ((8,), (1,)), types: (tf.int64, tf.int32)>, <TensorSliceDataset shapes: ((8,), (1,)), types: (tf.int64, tf.int32)>, <TensorSliceDataset shapes: ((8,), (1,)), types: (tf.int64, tf.int32)>, <TensorSliceDataset shapes: ((8,), (1,)), types: (tf.int64, tf.int32)>, <TensorSliceDataset shapes: ((8,), (1,)), types: (tf.int64, tf.int32)>, <TensorSliceDataset shapes: ((8,), (1,)), types: (tf.int64, tf.int32)>, <TensorSliceDataset shapes: ((8,), (1,)), types: (tf.int64, tf.int32)>, <TensorSliceDataset shapes: ((8,), (1,)), types: (tf.int64, tf.int32)>, <TensorSliceDataset shapes: ((8,), (1,)), types: (tf.int64, tf.int32)>, <TensorSliceDataset shapes: ((8,), (1,)), types: (tf.int64, tf.int32)>, <TensorSliceDataset shapes: ((8,), (1,)), types: (tf.int64, tf.int32)>, <TensorSliceDataset shapes: ((8,), (1,)), types: (tf.int64, tf.int32)>, <TensorSliceDataset shapes: ((8,), (1,)), types: (tf.int64, tf.int32)>, <TensorSliceDataset shapes: ((8,), (1,)), types: (tf.int64, tf.int32)>, <TensorSliceDataset shapes: ((8,), (1,)), types: (tf.int64, tf.int32)>, <TensorSliceDataset shapes: ((8,), (1,)), types: (tf.int64, tf.int32)>, <TensorSliceDataset shapes: ((8,), (1,)), types: (tf.int64, tf.int32)>, <TensorSliceDataset shapes: ((8,), (1,)), types: (tf.int64, tf.int32)>, <TensorSliceDataset shapes: ((8,), (1,)), types: (tf.int64, tf.int32)>, <TensorSliceDataset shapes: ((8,), (1,)), types: (tf.int64, tf.int32)>, <TensorSliceDataset shapes: ((8,), (1,)), types: (tf.int64, tf.int32)>, <TensorSliceDataset shapes: ((8,), (1,)), types: (tf.int64, tf.int32)>, <TensorSliceDataset shapes: ((8,), (1,)), types: (tf.int64, tf.int32)>, <TensorSliceDataset shapes: ((8,), (1,)), types: (tf.int64, tf.int32)>, <TensorSliceDataset shapes: ((8,), (1,)), types: (tf.int64, tf.int32)>, <TensorSliceDataset shapes: ((8,), (1,)), types: (tf.int64, tf.int32)>, <TensorSliceDataset shapes: ((8,), (1,)), types: (tf.int64, tf.int32)>, <TensorSliceDataset shapes: ((8,), (1,)), types: (tf.int64, tf.int32)>, <TensorSliceDataset shapes: ((8,), (1,)), types: (tf.int64, tf.int32)>, <TensorSliceDataset shapes: ((8,), (1,)), types: (tf.int64, tf.int32)>, <TensorSliceDataset shapes: ((8,), (1,)), types: (tf.int64, tf.int32)>, <TensorSliceDataset shapes: ((8,), (1,)), types: (tf.int64, tf.int32)>, <TensorSliceDataset shapes: ((8,), (1,)), types: (tf.int64, tf.int32)>, <TensorSliceDataset shapes: ((8,), (1,)), types: (tf.int64, tf.int32)>, <TensorSliceDataset shapes: ((8,), (1,)), types: (tf.int64, tf.int32)>, <TensorSliceDataset shapes: ((8,), (1,)), types: (tf.int64, tf.int32)>, <TensorSliceDataset shapes: ((8,), (1,)), types: (tf.int64, tf.int32)>, <TensorSliceDataset shapes: ((8,), (1,)), types: (tf.int64, tf.int32)>, <TensorSliceDataset shapes: ((8,), (1,)), types: (tf.int64, tf.int32)>, <TensorSliceDataset shapes: ((8,), (1,)), types: (tf.int64, tf.int32)>, <TensorSliceDataset shapes: ((8,), (1,)), types: (tf.int64, tf.int32)>, <TensorSliceDataset shapes: ((8,), (1,)), types: (tf.int64, tf.int32)>, <TensorSliceDataset shapes: ((8,), (1,)), types: (tf.int64, tf.int32)>, <TensorSliceDataset shapes: ((8,), (1,)), types: (tf.int64, tf.int32)>, <TensorSliceDataset shapes: ((8,), (1,)), types: (tf.int64, tf.int32)>, <TensorSliceDataset shapes: ((8,), (1,)), types: (tf.int64, tf.int32)>, <TensorSliceDataset shapes: ((8,), (1,)), types: (tf.int64, tf.int32)>, <TensorSliceDataset shapes: ((8,), (1,)), types: (tf.int64, tf.int32)>, <TensorSliceDataset shapes: ((8,), (1,)), types: (tf.int64, tf.int32)>, <TensorSliceDataset shapes: ((8,), (1,)), types: (tf.int64, tf.int32)>, <TensorSliceDataset shapes: ((8,), (1,)), types: (tf.int64, tf.int32)>, <TensorSliceDataset shapes: ((8,), (1,)), types: (tf.int64, tf.int32)>, <TensorSliceDataset shapes: ((8,), (1,)), types: (tf.int64, tf.int32)>, <TensorSliceDataset shapes: ((8,), (1,)), types: (tf.int64, tf.int32)>, <TensorSliceDataset shapes: ((8,), (1,)), types: (tf.int64, tf.int32)>, <TensorSliceDataset shapes: ((8,), (1,)), types: (tf.int64, tf.int32)>, <TensorSliceDataset shapes: ((8,), (1,)), types: (tf.int64, tf.int32)>, <TensorSliceDataset shapes: ((8,), (1,)), types: (tf.int64, tf.int32)>, <TensorSliceDataset shapes: ((8,), (1,)), types: (tf.int64, tf.int32)>, <TensorSliceDataset shapes: ((8,), (1,)), types: (tf.int64, tf.int32)>, <TensorSliceDataset shapes: ((8,), (1,)), types: (tf.int64, tf.int32)>, <TensorSliceDataset shapes: ((8,), (1,)), types: (tf.int64, tf.int32)>, <TensorSliceDataset shapes: ((8,), (1,)), types: (tf.int64, tf.int32)>, <TensorSliceDataset shapes: ((8,), (1,)), types: (tf.int64, tf.int32)>, <TensorSliceDataset shapes: ((8,), (1,)), types: (tf.int64, tf.int32)>, <TensorSliceDataset shapes: ((8,), (1,)), types: (tf.int64, tf.int32)>, <TensorSliceDataset shapes: ((8,), (1,)), types: (tf.int64, tf.int32)>, <TensorSliceDataset shapes: ((8,), (1,)), types: (tf.int64, tf.int32)>, <TensorSliceDataset shapes: ((8,), (1,)), types: (tf.int64, tf.int32)>, <TensorSliceDataset shapes: ((8,), (1,)), types: (tf.int64, tf.int32)>, <TensorSliceDataset shapes: ((8,), (1,)), types: (tf.int64, tf.int32)>, <TensorSliceDataset shapes: ((8,), (1,)), types: (tf.int64, tf.int32)>, <TensorSliceDataset shapes: ((8,), (1,)), types: (tf.int64, tf.int32)>, <TensorSliceDataset shapes: ((8,), (1,)), types: (tf.int64, tf.int32)>, <TensorSliceDataset shapes: ((8,), (1,)), types: (tf.int64, tf.int32)>, <TensorSliceDataset shapes: ((8,), (1,)), types: (tf.int64, tf.int32)>, <TensorSliceDataset shapes: ((8,), (1,)), types: (tf.int64, tf.int32)>, <TensorSliceDataset shapes: ((8,), (1,)), types: (tf.int64, tf.int32)>, <TensorSliceDataset shapes: ((8,), (1,)), types: (tf.int64, tf.int32)>, <TensorSliceDataset shapes: ((8,), (1,)), types: (tf.int64, tf.int32)>, <TensorSliceDataset shapes: ((8,), (1,)), types: (tf.int64, tf.int32)>, <TensorSliceDataset shapes: ((8,), (1,)), types: (tf.int64, tf.int32)>, <TensorSliceDataset shapes: ((8,), (1,)), types: (tf.int64, tf.int32)>, <TensorSliceDataset shapes: ((8,), (1,)), types: (tf.int64, tf.int32)>, <TensorSliceDataset shapes: ((8,), (1,)), types: (tf.int64, tf.int32)>, <TensorSliceDataset shapes: ((8,), (1,)), types: (tf.int64, tf.int32)>, <TensorSliceDataset shapes: ((8,), (1,)), types: (tf.int64, tf.int32)>, <TensorSliceDataset shapes: ((8,), (1,)), types: (tf.int64, tf.int32)>, <TensorSliceDataset shapes: ((8,), (1,)), types: (tf.int64, tf.int32)>, <TensorSliceDataset shapes: ((8,), (1,)), types: (tf.int64, tf.int32)>, <TensorSliceDataset shapes: ((8,), (1,)), types: (tf.int64, tf.int32)>, <TensorSliceDataset shapes: ((8,), (1,)), types: (tf.int64, tf.int32)>, <TensorSliceDataset shapes: ((8,), (1,)), types: (tf.int64, tf.int32)>, <TensorSliceDataset shapes: ((8,), (1,)), types: (tf.int64, tf.int32)>, <TensorSliceDataset shapes: ((8,), (1,)), types: (tf.int64, tf.int32)>, <TensorSliceDataset shapes: ((8,), (1,)), types: (tf.int64, tf.int32)>, <TensorSliceDataset shapes: ((8,), (1,)), types: (tf.int64, tf.int32)>, <TensorSliceDataset shapes: ((8,), (1,)), types: (tf.int64, tf.int32)>, <TensorSliceDataset shapes: ((8,), (1,)), types: (tf.int64, tf.int32)>, <TensorSliceDataset shapes: ((8,), (1,)), types: (tf.int64, tf.int32)>, <TensorSliceDataset shapes: ((8,), (1,)), types: (tf.int64, tf.int32)>, <TensorSliceDataset shapes: ((8,), (1,)), types: (tf.int64, tf.int32)>, <TensorSliceDataset shapes: ((8,), (1,)), types: (tf.int64, tf.int32)>, <TensorSliceDataset shapes: ((8,), (1,)), types: (tf.int64, tf.int32)>, <TensorSliceDataset shapes: ((8,), (1,)), types: (tf.int64, tf.int32)>, <TensorSliceDataset shapes: ((8,), (1,)), types: (tf.int64, tf.int32)>, <TensorSliceDataset shapes: ((8,), (1,)), types: (tf.int64, tf.int32)>, <TensorSliceDataset shapes: ((8,), (1,)), types: (tf.int64, tf.int32)>, <TensorSliceDataset shapes: ((8,), (1,)), types: (tf.int64, tf.int32)>, <TensorSliceDataset shapes: ((8,), (1,)), types: (tf.int64, tf.int32)>, <TensorSliceDataset shapes: ((8,), (1,)), types: (tf.int64, tf.int32)>, <TensorSliceDataset shapes: ((8,), (1,)), types: (tf.int64, tf.int32)>, <TensorSliceDataset shapes: ((8,), (1,)), types: (tf.int64, tf.int32)>, <TensorSliceDataset shapes: ((8,), (1,)), types: (tf.int64, tf.int32)>, <TensorSliceDataset shapes: ((8,), (1,)), types: (tf.int64, tf.int32)>, <TensorSliceDataset shapes: ((8,), (1,)), types: (tf.int64, tf.int32)>, <TensorSliceDataset shapes: ((8,), (1,)), types: (tf.int64, tf.int32)>, <TensorSliceDataset shapes: ((8,), (1,)), types: (tf.int64, tf.int32)>, <TensorSliceDataset shapes: ((8,), (1,)), types: (tf.int64, tf.int32)>, <TensorSliceDataset shapes: ((8,), (1,)), types: (tf.int64, tf.int32)>, <TensorSliceDataset shapes: ((8,), (1,)), types: (tf.int64, tf.int32)>, <TensorSliceDataset shapes: ((8,), (1,)), types: (tf.int64, tf.int32)>, <TensorSliceDataset shapes: ((8,), (1,)), types: (tf.int64, tf.int32)>, <TensorSliceDataset shapes: ((8,), (1,)), types: (tf.int64, tf.int32)>, <TensorSliceDataset shapes: ((8,), (1,)), types: (tf.int64, tf.int32)>, <TensorSliceDataset shapes: ((8,), (1,)), types: (tf.int64, tf.int32)>, <TensorSliceDataset shapes: ((8,), (1,)), types: (tf.int64, tf.int32)>, <TensorSliceDataset shapes: ((8,), (1,)), types: (tf.int64, tf.int32)>, <TensorSliceDataset shapes: ((8,), (1,)), types: (tf.int64, tf.int32)>, <TensorSliceDataset shapes: ((8,), (1,)), types: (tf.int64, tf.int32)>, <TensorSliceDataset shapes: ((8,), (1,)), types: (tf.int64, tf.int32)>, <TensorSliceDataset shapes: ((8,), (1,)), types: (tf.int64, tf.int32)>, <TensorSliceDataset shapes: ((8,), (1,)), types: (tf.int64, tf.int32)>, <TensorSliceDataset shapes: ((8,), (1,)), types: (tf.int64, tf.int32)>, <TensorSliceDataset shapes: ((8,), (1,)), types: (tf.int64, tf.int32)>, <TensorSliceDataset shapes: ((8,), (1,)), types: (tf.int64, tf.int32)>, <TensorSliceDataset shapes: ((8,), (1,)), types: (tf.int64, tf.int32)>, <TensorSliceDataset shapes: ((8,), (1,)), types: (tf.int64, tf.int32)>, <TensorSliceDataset shapes: ((8,), (1,)), types: (tf.int64, tf.int32)>, <TensorSliceDataset shapes: ((8,), (1,)), types: (tf.int64, tf.int32)>, <TensorSliceDataset shapes: ((8,), (1,)), types: (tf.int64, tf.int32)>, <TensorSliceDataset shapes: ((8,), (1,)), types: (tf.int64, tf.int32)>, <TensorSliceDataset shapes: ((8,), (1,)), types: (tf.int64, tf.int32)>, <TensorSliceDataset shapes: ((8,), (1,)), types: (tf.int64, tf.int32)>, <TensorSliceDataset shapes: ((8,), (1,)), types: (tf.int64, tf.int32)>, <TensorSliceDataset shapes: ((8,), (1,)), types: (tf.int64, tf.int32)>, <TensorSliceDataset shapes: ((8,), (1,)), types: (tf.int64, tf.int32)>, <TensorSliceDataset shapes: ((8,), (1,)), types: (tf.int64, tf.int32)>, <TensorSliceDataset shapes: ((8,), (1,)), types: (tf.int64, tf.int32)>, <TensorSliceDataset shapes: ((8,), (1,)), types: (tf.int64, tf.int32)>, <TensorSliceDataset shapes: ((8,), (1,)), types: (tf.int64, tf.int32)>, <TensorSliceDataset shapes: ((8,), (1,)), types: (tf.int64, tf.int32)>, <TensorSliceDataset shapes: ((8,), (1,)), types: (tf.int64, tf.int32)>, <TensorSliceDataset shapes: ((8,), (1,)), types: (tf.int64, tf.int32)>, <TensorSliceDataset shapes: ((8,), (1,)), types: (tf.int64, tf.int32)>, <TensorSliceDataset shapes: ((8,), (1,)), types: (tf.int64, tf.int32)>, <TensorSliceDataset shapes: ((8,), (1,)), types: (tf.int64, tf.int32)>, <TensorSliceDataset shapes: ((8,), (1,)), types: (tf.int64, tf.int32)>, <TensorSliceDataset shapes: ((8,), (1,)), types: (tf.int64, tf.int32)>, <TensorSliceDataset shapes: ((8,), (1,)), types: (tf.int64, tf.int32)>, <TensorSliceDataset shapes: ((8,), (1,)), types: (tf.int64, tf.int32)>, <TensorSliceDataset shapes: ((8,), (1,)), types: (tf.int64, tf.int32)>, <TensorSliceDataset shapes: ((8,), (1,)), types: (tf.int64, tf.int32)>, <TensorSliceDataset shapes: ((8,), (1,)), types: (tf.int64, tf.int32)>, <TensorSliceDataset shapes: ((8,), (1,)), types: (tf.int64, tf.int32)>, <TensorSliceDataset shapes: ((8,), (1,)), types: (tf.int64, tf.int32)>, <TensorSliceDataset shapes: ((8,), (1,)), types: (tf.int64, tf.int32)>, <TensorSliceDataset shapes: ((8,), (1,)), types: (tf.int64, tf.int32)>, <TensorSliceDataset shapes: ((8,), (1,)), types: (tf.int64, tf.int32)>, <TensorSliceDataset shapes: ((8,), (1,)), types: (tf.int64, tf.int32)>, <TensorSliceDataset shapes: ((8,), (1,)), types: (tf.int64, tf.int32)>, <TensorSliceDataset shapes: ((8,), (1,)), types: (tf.int64, tf.int32)>, <TensorSliceDataset shapes: ((8,), (1,)), types: (tf.int64, tf.int32)>, <TensorSliceDataset shapes: ((8,), (1,)), types: (tf.int64, tf.int32)>, <TensorSliceDataset shapes: ((8,), (1,)), types: (tf.int64, tf.int32)>, <TensorSliceDataset shapes: ((8,), (1,)), types: (tf.int64, tf.int32)>, <TensorSliceDataset shapes: ((8,), (1,)), types: (tf.int64, tf.int32)>, <TensorSliceDataset shapes: ((8,), (1,)), types: (tf.int64, tf.int32)>, <TensorSliceDataset shapes: ((8,), (1,)), types: (tf.int64, tf.int32)>, <TensorSliceDataset shapes: ((8,), (1,)), types: (tf.int64, tf.int32)>, <TensorSliceDataset shapes: ((8,), (1,)), types: (tf.int64, tf.int32)>, <TensorSliceDataset shapes: ((8,), (1,)), types: (tf.int64, tf.int32)>, <TensorSliceDataset shapes: ((8,), (1,)), types: (tf.int64, tf.int32)>, <TensorSliceDataset shapes: ((8,), (1,)), types: (tf.int64, tf.int32)>, <TensorSliceDataset shapes: ((8,), (1,)), types: (tf.int64, tf.int32)>, <TensorSliceDataset shapes: ((8,), (1,)), types: (tf.int64, tf.int32)>, <TensorSliceDataset shapes: ((8,), (1,)), types: (tf.int64, tf.int32)>, <TensorSliceDataset shapes: ((8,), (1,)), types: (tf.int64, tf.int32)>, <TensorSliceDataset shapes: ((8,), (1,)), types: (tf.int64, tf.int32)>, <TensorSliceDataset shapes: ((8,), (1,)), types: (tf.int64, tf.int32)>, <TensorSliceDataset shapes: ((8,), (1,)), types: (tf.int64, tf.int32)>, <TensorSliceDataset shapes: ((8,), (1,)), types: (tf.int64, tf.int32)>, <TensorSliceDataset shapes: ((8,), (1,)), types: (tf.int64, tf.int32)>, <TensorSliceDataset shapes: ((8,), (1,)), types: (tf.int64, tf.int32)>, <TensorSliceDataset shapes: ((8,), (1,)), types: (tf.int64, tf.int32)>, <TensorSliceDataset shapes: ((8,), (1,)), types: (tf.int64, tf.int32)>, <TensorSliceDataset shapes: ((8,), (1,)), types: (tf.int64, tf.int32)>, <TensorSliceDataset shapes: ((8,), (1,)), types: (tf.int64, tf.int32)>, <TensorSliceDataset shapes: ((8,), (1,)), types: (tf.int64, tf.int32)>, <TensorSliceDataset shapes: ((8,), (1,)), types: (tf.int64, tf.int32)>, <TensorSliceDataset shapes: ((8,), (1,)), types: (tf.int64, tf.int32)>, <TensorSliceDataset shapes: ((8,), (1,)), types: (tf.int64, tf.int32)>, <TensorSliceDataset shapes: ((8,), (1,)), types: (tf.int64, tf.int32)>, <TensorSliceDataset shapes: ((8,), (1,)), types: (tf.int64, tf.int32)>, <TensorSliceDataset shapes: ((8,), (1,)), types: (tf.int64, tf.int32)>, <TensorSliceDataset shapes: ((8,), (1,)), types: (tf.int64, tf.int32)>, <TensorSliceDataset shapes: ((8,), (1,)), types: (tf.int64, tf.int32)>, <TensorSliceDataset shapes: ((8,), (1,)), types: (tf.int64, tf.int32)>, <TensorSliceDataset shapes: ((8,), (1,)), types: (tf.int64, tf.int32)>, <TensorSliceDataset shapes: ((8,), (1,)), types: (tf.int64, tf.int32)>, <TensorSliceDataset shapes: ((8,), (1,)), types: (tf.int64, tf.int32)>, <TensorSliceDataset shapes: ((8,), (1,)), types: (tf.int64, tf.int32)>, <TensorSliceDataset shapes: ((8,), (1,)), types: (tf.int64, tf.int32)>, <TensorSliceDataset shapes: ((8,), (1,)), types: (tf.int64, tf.int32)>, <TensorSliceDataset shapes: ((8,), (1,)), types: (tf.int64, tf.int32)>, <TensorSliceDataset shapes: ((8,), (1,)), types: (tf.int64, tf.int32)>, <TensorSliceDataset shapes: ((8,), (1,)), types: (tf.int64, tf.int32)>, <TensorSliceDataset shapes: ((8,), (1,)), types: (tf.int64, tf.int32)>, <TensorSliceDataset shapes: ((8,), (1,)), types: (tf.int64, tf.int32)>, <TensorSliceDataset shapes: ((8,), (1,)), types: (tf.int64, tf.int32)>, <TensorSliceDataset shapes: ((8,), (1,)), types: (tf.int64, tf.int32)>, <TensorSliceDataset shapes: ((8,), (1,)), types: (tf.int64, tf.int32)>, <TensorSliceDataset shapes: ((8,), (1,)), types: (tf.int64, tf.int32)>, <TensorSliceDataset shapes: ((8,), (1,)), types: (tf.int64, tf.int32)>, <TensorSliceDataset shapes: ((8,), (1,)), types: (tf.int64, tf.int32)>, <TensorSliceDataset shapes: ((8,), (1,)), types: (tf.int64, tf.int32)>, <TensorSliceDataset shapes: ((8,), (1,)), types: (tf.int64, tf.int32)>, <TensorSliceDataset shapes: ((8,), (1,)), types: (tf.int64, tf.int32)>, <TensorSliceDataset shapes: ((8,), (1,)), types: (tf.int64, tf.int32)>, <TensorSliceDataset shapes: ((8,), (1,)), types: (tf.int64, tf.int32)>, <TensorSliceDataset shapes: ((8,), (1,)), types: (tf.int64, tf.int32)>, <TensorSliceDataset shapes: ((8,), (1,)), types: (tf.int64, tf.int32)>, <TensorSliceDataset shapes: ((8,), (1,)), types: (tf.int64, tf.int32)>, <TensorSliceDataset shapes: ((8,), (1,)), types: (tf.int64, tf.int32)>, <TensorSliceDataset shapes: ((8,), (1,)), types: (tf.int64, tf.int32)>, <TensorSliceDataset shapes: ((8,), (1,)), types: (tf.int64, tf.int32)>, <TensorSliceDataset shapes: ((8,), (1,)), types: (tf.int64, tf.int32)>, <TensorSliceDataset shapes: ((8,), (1,)), types: (tf.int64, tf.int32)>, <TensorSliceDataset shapes: ((8,), (1,)), types: (tf.int64, tf.int32)>, <TensorSliceDataset shapes: ((8,), (1,)), types: (tf.int64, tf.int32)>, <TensorSliceDataset shapes: ((8,), (1,)), types: (tf.int64, tf.int32)>, <TensorSliceDataset shapes: ((8,), (1,)), types: (tf.int64, tf.int32)>, <TensorSliceDataset shapes: ((8,), (1,)), types: (tf.int64, tf.int32)>, <TensorSliceDataset shapes: ((8,), (1,)), types: (tf.int64, tf.int32)>, <TensorSliceDataset shapes: ((8,), (1,)), types: (tf.int64, tf.int32)>, <TensorSliceDataset shapes: ((8,), (1,)), types: (tf.int64, tf.int32)>, <TensorSliceDataset shapes: ((8,), (1,)), types: (tf.int64, tf.int32)>, <TensorSliceDataset shapes: ((8,), (1,)), types: (tf.int64, tf.int32)>, <TensorSliceDataset shapes: ((8,), (1,)), types: (tf.int64, tf.int32)>, <TensorSliceDataset shapes: ((8,), (1,)), types: (tf.int64, tf.int32)>, <TensorSliceDataset shapes: ((8,), (1,)), types: (tf.int64, tf.int32)>, <TensorSliceDataset shapes: ((8,), (1,)), types: (tf.int64, tf.int32)>, <TensorSliceDataset shapes: ((8,), (1,)), types: (tf.int64, tf.int32)>, <TensorSliceDataset shapes: ((8,), (1,)), types: (tf.int64, tf.int32)>, <TensorSliceDataset shapes: ((8,), (1,)), types: (tf.int64, tf.int32)>, <TensorSliceDataset shapes: ((8,), (1,)), types: (tf.int64, tf.int32)>, <TensorSliceDataset shapes: ((8,), (1,)), types: (tf.int64, tf.int32)>, <TensorSliceDataset shapes: ((8,), (1,)), types: (tf.int64, tf.int32)>, <TensorSliceDataset shapes: ((8,), (1,)), types: (tf.int64, tf.int32)>, <TensorSliceDataset shapes: ((8,), (1,)), types: (tf.int64, tf.int32)>, <TensorSliceDataset shapes: ((8,), (1,)), types: (tf.int64, tf.int32)>, <TensorSliceDataset shapes: ((8,), (1,)), types: (tf.int64, tf.int32)>, <TensorSliceDataset shapes: ((8,), (1,)), types: (tf.int64, tf.int32)>, <TensorSliceDataset shapes: ((8,), (1,)), types: (tf.int64, tf.int32)>, <TensorSliceDataset shapes: ((8,), (1,)), types: (tf.int64, tf.int32)>, <TensorSliceDataset shapes: ((8,), (1,)), types: (tf.int64, tf.int32)>, <TensorSliceDataset shapes: ((8,), (1,)), types: (tf.int64, tf.int32)>, <TensorSliceDataset shapes: ((8,), (1,)), types: (tf.int64, tf.int32)>, <TensorSliceDataset shapes: ((8,), (1,)), types: (tf.int64, tf.int32)>, <TensorSliceDataset shapes: ((8,), (1,)), types: (tf.int64, tf.int32)>, <TensorSliceDataset shapes: ((8,), (1,)), types: (tf.int64, tf.int32)>, <TensorSliceDataset shapes: ((8,), (1,)), types: (tf.int64, tf.int32)>, <TensorSliceDataset shapes: ((8,), (1,)), types: (tf.int64, tf.int32)>, <TensorSliceDataset shapes: ((8,), (1,)), types: (tf.int64, tf.int32)>, <TensorSliceDataset shapes: ((8,), (1,)), types: (tf.int64, tf.int32)>, <TensorSliceDataset shapes: ((8,), (1,)), types: (tf.int64, tf.int32)>, <TensorSliceDataset shapes: ((8,), (1,)), types: (tf.int64, tf.int32)>, <TensorSliceDataset shapes: ((8,), (1,)), types: (tf.int64, tf.int32)>, <TensorSliceDataset shapes: ((8,), (1,)), types: (tf.int64, tf.int32)>, <TensorSliceDataset shapes: ((8,), (1,)), types: (tf.int64, tf.int32)>, <TensorSliceDataset shapes: ((8,), (1,)), types: (tf.int64, tf.int32)>, <TensorSliceDataset shapes: ((8,), (1,)), types: (tf.int64, tf.int32)>, <TensorSliceDataset shapes: ((8,), (1,)), types: (tf.int64, tf.int32)>, <TensorSliceDataset shapes: ((8,), (1,)), types: (tf.int64, tf.int32)>, <TensorSliceDataset shapes: ((8,), (1,)), types: (tf.int64, tf.int32)>, <TensorSliceDataset shapes: ((8,), (1,)), types: (tf.int64, tf.int32)>, <TensorSliceDataset shapes: ((8,), (1,)), types: (tf.int64, tf.int32)>, <TensorSliceDataset shapes: ((8,), (1,)), types: (tf.int64, tf.int32)>, <TensorSliceDataset shapes: ((8,), (1,)), types: (tf.int64, tf.int32)>, <TensorSliceDataset shapes: ((8,), (1,)), types: (tf.int64, tf.int32)>, <TensorSliceDataset shapes: ((8,), (1,)), types: (tf.int64, tf.int32)>, <TensorSliceDataset shapes: ((8,), (1,)), types: (tf.int64, tf.int32)>, <TensorSliceDataset shapes: ((8,), (1,)), types: (tf.int64, tf.int32)>, <TensorSliceDataset shapes: ((8,), (1,)), types: (tf.int64, tf.int32)>, <TensorSliceDataset shapes: ((8,), (1,)), types: (tf.int64, tf.int32)>, <TensorSliceDataset shapes: ((8,), (1,)), types: (tf.int64, tf.int32)>, <TensorSliceDataset shapes: ((8,), (1,)), types: (tf.int64, tf.int32)>, <TensorSliceDataset shapes: ((8,), (1,)), types: (tf.int64, tf.int32)>, <TensorSliceDataset shapes: ((8,), (1,)), types: (tf.int64, tf.int32)>, <TensorSliceDataset shapes: ((8,), (1,)), types: (tf.int64, tf.int32)>, <TensorSliceDataset shapes: ((8,), (1,)), types: (tf.int64, tf.int32)>, <TensorSliceDataset shapes: ((8,), (1,)), types: (tf.int64, tf.int32)>, <TensorSliceDataset shapes: ((8,), (1,)), types: (tf.int64, tf.int32)>, <TensorSliceDataset shapes: ((8,), (1,)), types: (tf.int64, tf.int32)>, <TensorSliceDataset shapes: ((8,), (1,)), types: (tf.int64, tf.int32)>, <TensorSliceDataset shapes: ((8,), (1,)), types: (tf.int64, tf.int32)>, <TensorSliceDataset shapes: ((8,), (1,)), types: (tf.int64, tf.int32)>, <TensorSliceDataset shapes: ((8,), (1,)), types: (tf.int64, tf.int32)>, <TensorSliceDataset shapes: ((8,), (1,)), types: (tf.int64, tf.int32)>, <TensorSliceDataset shapes: ((8,), (1,)), types: (tf.int64, tf.int32)>, <TensorSliceDataset shapes: ((8,), (1,)), types: (tf.int64, tf.int32)>, <TensorSliceDataset shapes: ((8,), (1,)), types: (tf.int64, tf.int32)>, <TensorSliceDataset shapes: ((8,), (1,)), types: (tf.int64, tf.int32)>, <TensorSliceDataset shapes: ((8,), (1,)), types: (tf.int64, tf.int32)>, <TensorSliceDataset shapes: ((8,), (1,)), types: (tf.int64, tf.int32)>, <TensorSliceDataset shapes: ((8,), (1,)), types: (tf.int64, tf.int32)>, <TensorSliceDataset shapes: ((8,), (1,)), types: (tf.int64, tf.int32)>, <TensorSliceDataset shapes: ((8,), (1,)), types: (tf.int64, tf.int32)>, <TensorSliceDataset shapes: ((8,), (1,)), types: (tf.int64, tf.int32)>, <TensorSliceDataset shapes: ((8,), (1,)), types: (tf.int64, tf.int32)>, <TensorSliceDataset shapes: ((8,), (1,)), types: (tf.int64, tf.int32)>, <TensorSliceDataset shapes: ((8,), (1,)), types: (tf.int64, tf.int32)>, <TensorSliceDataset shapes: ((8,), (1,)), types: (tf.int64, tf.int32)>, <TensorSliceDataset shapes: ((8,), (1,)), types: (tf.int64, tf.int32)>, <TensorSliceDataset shapes: ((8,), (1,)), types: (tf.int64, tf.int32)>, <TensorSliceDataset shapes: ((8,), (1,)), types: (tf.int64, tf.int32)>, <TensorSliceDataset shapes: ((8,), (1,)), types: (tf.int64, tf.int32)>, <TensorSliceDataset shapes: ((8,), (1,)), types: (tf.int64, tf.int32)>, <TensorSliceDataset shapes: ((8,), (1,)), types: (tf.int64, tf.int32)>, <TensorSliceDataset shapes: ((8,), (1,)), types: (tf.int64, tf.int32)>, <TensorSliceDataset shapes: ((8,), (1,)), types: (tf.int64, tf.int32)>, <TensorSliceDataset shapes: ((8,), (1,)), types: (tf.int64, tf.int32)>, <TensorSliceDataset shapes: ((8,), (1,)), types: (tf.int64, tf.int32)>, <TensorSliceDataset shapes: ((8,), (1,)), types: (tf.int64, tf.int32)>, <TensorSliceDataset shapes: ((8,), (1,)), types: (tf.int64, tf.int32)>, <TensorSliceDataset shapes: ((8,), (1,)), types: (tf.int64, tf.int32)>, <TensorSliceDataset shapes: ((8,), (1,)), types: (tf.int64, tf.int32)>, <TensorSliceDataset shapes: ((8,), (1,)), types: (tf.int64, tf.int32)>, <TensorSliceDataset shapes: ((8,), (1,)), types: (tf.int64, tf.int32)>, <TensorSliceDataset shapes: ((8,), (1,)), types: (tf.int64, tf.int32)>, <TensorSliceDataset shapes: ((8,), (1,)), types: (tf.int64, tf.int32)>, <TensorSliceDataset shapes: ((8,), (1,)), types: (tf.int64, tf.int32)>, <TensorSliceDataset shapes: ((8,), (1,)), types: (tf.int64, tf.int32)>, <TensorSliceDataset shapes: ((8,), (1,)), types: (tf.int64, tf.int32)>, <TensorSliceDataset shapes: ((8,), (1,)), types: (tf.int64, tf.int32)>, <TensorSliceDataset shapes: ((8,), (1,)), types: (tf.int64, tf.int32)>, <TensorSliceDataset shapes: ((8,), (1,)), types: (tf.int64, tf.int32)>, <TensorSliceDataset shapes: ((8,), (1,)), types: (tf.int64, tf.int32)>, <TensorSliceDataset shapes: ((8,), (1,)), types: (tf.int64, tf.int32)>, <TensorSliceDataset shapes: ((8,), (1,)), types: (tf.int64, tf.int32)>, <TensorSliceDataset shapes: ((8,), (1,)), types: (tf.int64, tf.int32)>, <TensorSliceDataset shapes: ((8,), (1,)), types: (tf.int64, tf.int32)>, <TensorSliceDataset shapes: ((8,), (1,)), types: (tf.int64, tf.int32)>, <TensorSliceDataset shapes: ((8,), (1,)), types: (tf.int64, tf.int32)>, <TensorSliceDataset shapes: ((8,), (1,)), types: (tf.int64, tf.int32)>, <TensorSliceDataset shapes: ((8,), (1,)), types: (tf.int64, tf.int32)>, <TensorSliceDataset shapes: ((8,), (1,)), types: (tf.int64, tf.int32)>, <TensorSliceDataset shapes: ((8,), (1,)), types: (tf.int64, tf.int32)>, <TensorSliceDataset shapes: ((8,), (1,)), types: (tf.int64, tf.int32)>, <TensorSliceDataset shapes: ((8,), (1,)), types: (tf.int64, tf.int32)>, <TensorSliceDataset shapes: ((8,), (1,)), types: (tf.int64, tf.int32)>, <TensorSliceDataset shapes: ((8,), (1,)), types: (tf.int64, tf.int32)>, <TensorSliceDataset shapes: ((8,), (1,)), types: (tf.int64, tf.int32)>, <TensorSliceDataset shapes: ((8,), (1,)), types: (tf.int64, tf.int32)>, <TensorSliceDataset shapes: ((8,), (1,)), types: (tf.int64, tf.int32)>, <TensorSliceDataset shapes: ((8,), (1,)), types: (tf.int64, tf.int32)>, <TensorSliceDataset shapes: ((8,), (1,)), types: (tf.int64, tf.int32)>, <TensorSliceDataset shapes: ((8,), (1,)), types: (tf.int64, tf.int32)>, <TensorSliceDataset shapes: ((8,), (1,)), types: (tf.int64, tf.int32)>, <TensorSliceDataset shapes: ((8,), (1,)), types: (tf.int64, tf.int32)>, <TensorSliceDataset shapes: ((8,), (1,)), types: (tf.int64, tf.int32)>, <TensorSliceDataset shapes: ((8,), (1,)), types: (tf.int64, tf.int32)>, <TensorSliceDataset shapes: ((8,), (1,)), types: (tf.int64, tf.int32)>, <TensorSliceDataset shapes: ((8,), (1,)), types: (tf.int64, tf.int32)>, <TensorSliceDataset shapes: ((8,), (1,)), types: (tf.int64, tf.int32)>, <TensorSliceDataset shapes: ((8,), (1,)), types: (tf.int64, tf.int32)>, <TensorSliceDataset shapes: ((8,), (1,)), types: (tf.int64, tf.int32)>, <TensorSliceDataset shapes: ((8,), (1,)), types: (tf.int64, tf.int32)>, <TensorSliceDataset shapes: ((8,), (1,)), types: (tf.int64, tf.int32)>, <TensorSliceDataset shapes: ((8,), (1,)), types: (tf.int64, tf.int32)>, <TensorSliceDataset shapes: ((8,), (1,)), types: (tf.int64, tf.int32)>, <TensorSliceDataset shapes: ((8,), (1,)), types: (tf.int64, tf.int32)>, <TensorSliceDataset shapes: ((8,), (1,)), types: (tf.int64, tf.int32)>, <TensorSliceDataset shapes: ((8,), (1,)), types: (tf.int64, tf.int32)>, <TensorSliceDataset shapes: ((8,), (1,)), types: (tf.int64, tf.int32)>, <TensorSliceDataset shapes: ((8,), (1,)), types: (tf.int64, tf.int32)>, <TensorSliceDataset shapes: ((8,), (1,)), types: (tf.int64, tf.int32)>, <TensorSliceDataset shapes: ((8,), (1,)), types: (tf.int64, tf.int32)>, <TensorSliceDataset shapes: ((8,), (1,)), types: (tf.int64, tf.int32)>, <TensorSliceDataset shapes: ((8,), (1,)), types: (tf.int64, tf.int32)>, <TensorSliceDataset shapes: ((8,), (1,)), types: (tf.int64, tf.int32)>, <TensorSliceDataset shapes: ((8,), (1,)), types: (tf.int64, tf.int32)>, <TensorSliceDataset shapes: ((8,), (1,)), types: (tf.int64, tf.int32)>, <TensorSliceDataset shapes: ((8,), (1,)), types: (tf.int64, tf.int32)>, <TensorSliceDataset shapes: ((8,), (1,)), types: (tf.int64, tf.int32)>, <TensorSliceDataset shapes: ((8,), (1,)), types: (tf.int64, tf.int32)>, <TensorSliceDataset shapes: ((8,), (1,)), types: (tf.int64, tf.int32)>, <TensorSliceDataset shapes: ((8,), (1,)), types: (tf.int64, tf.int32)>, <TensorSliceDataset shapes: ((8,), (1,)), types: (tf.int64, tf.int32)>, <TensorSliceDataset shapes: ((8,), (1,)), types: (tf.int64, tf.int32)>, <TensorSliceDataset shapes: ((8,), (1,)), types: (tf.int64, tf.int32)>, <TensorSliceDataset shapes: ((8,), (1,)), types: (tf.int64, tf.int32)>, <TensorSliceDataset shapes: ((8,), (1,)), types: (tf.int64, tf.int32)>, <TensorSliceDataset shapes: ((8,), (1,)), types: (tf.int64, tf.int32)>, <TensorSliceDataset shapes: ((8,), (1,)), types: (tf.int64, tf.int32)>, <TensorSliceDataset shapes: ((8,), (1,)), types: (tf.int64, tf.int32)>, <TensorSliceDataset shapes: ((8,), (1,)), types: (tf.int64, tf.int32)>, <TensorSliceDataset shapes: ((8,), (1,)), types: (tf.int64, tf.int32)>, <TensorSliceDataset shapes: ((8,), (1,)), types: (tf.int64, tf.int32)>, <TensorSliceDataset shapes: ((8,), (1,)), types: (tf.int64, tf.int32)>, <TensorSliceDataset shapes: ((8,), (1,)), types: (tf.int64, tf.int32)>, <TensorSliceDataset shapes: ((8,), (1,)), types: (tf.int64, tf.int32)>, <TensorSliceDataset shapes: ((8,), (1,)), types: (tf.int64, tf.int32)>, <TensorSliceDataset shapes: ((8,), (1,)), types: (tf.int64, tf.int32)>, <TensorSliceDataset shapes: ((8,), (1,)), types: (tf.int64, tf.int32)>, <TensorSliceDataset shapes: ((8,), (1,)), types: (tf.int64, tf.int32)>, <TensorSliceDataset shapes: ((8,), (1,)), types: (tf.int64, tf.int32)>, <TensorSliceDataset shapes: ((8,), (1,)), types: (tf.int64, tf.int32)>, <TensorSliceDataset shapes: ((8,), (1,)), types: (tf.int64, tf.int32)>, <TensorSliceDataset shapes: ((8,), (1,)), types: (tf.int64, tf.int32)>, <TensorSliceDataset shapes: ((8,), (1,)), types: (tf.int64, tf.int32)>, <TensorSliceDataset shapes: ((8,), (1,)), types: (tf.int64, tf.int32)>, <TensorSliceDataset shapes: ((8,), (1,)), types: (tf.int64, tf.int32)>, <TensorSliceDataset shapes: ((8,), (1,)), types: (tf.int64, tf.int32)>, <TensorSliceDataset shapes: ((8,), (1,)), types: (tf.int64, tf.int32)>, <TensorSliceDataset shapes: ((8,), (1,)), types: (tf.int64, tf.int32)>, <TensorSliceDataset shapes: ((8,), (1,)), types: (tf.int64, tf.int32)>, <TensorSliceDataset shapes: ((8,), (1,)), types: (tf.int64, tf.int32)>, <TensorSliceDataset shapes: ((8,), (1,)), types: (tf.int64, tf.int32)>, <TensorSliceDataset shapes: ((8,), (1,)), types: (tf.int64, tf.int32)>, <TensorSliceDataset shapes: ((8,), (1,)), types: (tf.int64, tf.int32)>, <TensorSliceDataset shapes: ((8,), (1,)), types: (tf.int64, tf.int32)>, <TensorSliceDataset shapes: ((8,), (1,)), types: (tf.int64, tf.int32)>, <TensorSliceDataset shapes: ((8,), (1,)), types: (tf.int64, tf.int32)>, <TensorSliceDataset shapes: ((8,), (1,)), types: (tf.int64, tf.int32)>, <TensorSliceDataset shapes: ((8,), (1,)), types: (tf.int64, tf.int32)>, <TensorSliceDataset shapes: ((8,), (1,)), types: (tf.int64, tf.int32)>, <TensorSliceDataset shapes: ((8,), (1,)), types: (tf.int64, tf.int32)>, <TensorSliceDataset shapes: ((8,), (1,)), types: (tf.int64, tf.int32)>, <TensorSliceDataset shapes: ((8,), (1,)), types: (tf.int64, tf.int32)>, <TensorSliceDataset shapes: ((8,), (1,)), types: (tf.int64, tf.int32)>, <TensorSliceDataset shapes: ((8,), (1,)), types: (tf.int64, tf.int32)>, <TensorSliceDataset shapes: ((8,), (1,)), types: (tf.int64, tf.int32)>, <TensorSliceDataset shapes: ((8,), (1,)), types: (tf.int64, tf.int32)>, <TensorSliceDataset shapes: ((8,), (1,)), types: (tf.int64, tf.int32)>, <TensorSliceDataset shapes: ((8,), (1,)), types: (tf.int64, tf.int32)>, <TensorSliceDataset shapes: ((8,), (1,)), types: (tf.int64, tf.int32)>, <TensorSliceDataset shapes: ((8,), (1,)), types: (tf.int64, tf.int32)>, <TensorSliceDataset shapes: ((8,), (1,)), types: (tf.int64, tf.int32)>, <TensorSliceDataset shapes: ((8,), (1,)), types: (tf.int64, tf.int32)>, <TensorSliceDataset shapes: ((8,), (1,)), types: (tf.int64, tf.int32)>, <TensorSliceDataset shapes: ((8,), (1,)), types: (tf.int64, tf.int32)>, <TensorSliceDataset shapes: ((8,), (1,)), types: (tf.int64, tf.int32)>, <TensorSliceDataset shapes: ((8,), (1,)), types: (tf.int64, tf.int32)>, <TensorSliceDataset shapes: ((8,), (1,)), types: (tf.int64, tf.int32)>, <TensorSliceDataset shapes: ((8,), (1,)), types: (tf.int64, tf.int32)>, <TensorSliceDataset shapes: ((8,), (1,)), types: (tf.int64, tf.int32)>, <TensorSliceDataset shapes: ((8,), (1,)), types: (tf.int64, tf.int32)>, <TensorSliceDataset shapes: ((8,), (1,)), types: (tf.int64, tf.int32)>, <TensorSliceDataset shapes: ((8,), (1,)), types: (tf.int64, tf.int32)>, <TensorSliceDataset shapes: ((8,), (1,)), types: (tf.int64, tf.int32)>, <TensorSliceDataset shapes: ((8,), (1,)), types: (tf.int64, tf.int32)>, <TensorSliceDataset shapes: ((8,), (1,)), types: (tf.int64, tf.int32)>, <TensorSliceDataset shapes: ((8,), (1,)), types: (tf.int64, tf.int32)>, <TensorSliceDataset shapes: ((8,), (1,)), types: (tf.int64, tf.int32)>, <TensorSliceDataset shapes: ((8,), (1,)), types: (tf.int64, tf.int32)>, <TensorSliceDataset shapes: ((8,), (1,)), types: (tf.int64, tf.int32)>, <TensorSliceDataset shapes: ((8,), (1,)), types: (tf.int64, tf.int32)>, <TensorSliceDataset shapes: ((8,), (1,)), types: (tf.int64, tf.int32)>, <TensorSliceDataset shapes: ((8,), (1,)), types: (tf.int64, tf.int32)>, <TensorSliceDataset shapes: ((8,), (1,)), types: (tf.int64, tf.int32)>, <TensorSliceDataset shapes: ((8,), (1,)), types: (tf.int64, tf.int32)>, <TensorSliceDataset shapes: ((8,), (1,)), types: (tf.int64, tf.int32)>, <TensorSliceDataset shapes: ((8,), (1,)), types: (tf.int64, tf.int32)>, <TensorSliceDataset shapes: ((8,), (1,)), types: (tf.int64, tf.int32)>, <TensorSliceDataset shapes: ((8,), (1,)), types: (tf.int64, tf.int32)>, <TensorSliceDataset shapes: ((8,), (1,)), types: (tf.int64, tf.int32)>, <TensorSliceDataset shapes: ((8,), (1,)), types: (tf.int64, tf.int32)>, <TensorSliceDataset shapes: ((8,), (1,)), types: (tf.int64, tf.int32)>, <TensorSliceDataset shapes: ((8,), (1,)), types: (tf.int64, tf.int32)>, <TensorSliceDataset shapes: ((8,), (1,)), types: (tf.int64, tf.int32)>, <TensorSliceDataset shapes: ((8,), (1,)), types: (tf.int64, tf.int32)>, <TensorSliceDataset shapes: ((8,), (1,)), types: (tf.int64, tf.int32)>, <TensorSliceDataset shapes: ((8,), (1,)), types: (tf.int64, tf.int32)>, <TensorSliceDataset shapes: ((8,), (1,)), types: (tf.int64, tf.int32)>, <TensorSliceDataset shapes: ((8,), (1,)), types: (tf.int64, tf.int32)>, <TensorSliceDataset shapes: ((8,), (1,)), types: (tf.int64, tf.int32)>, <TensorSliceDataset shapes: ((8,), (1,)), types: (tf.int64, tf.int32)>, <TensorSliceDataset shapes: ((8,), (1,)), types: (tf.int64, tf.int32)>, <TensorSliceDataset shapes: ((8,), (1,)), types: (tf.int64, tf.int32)>, <TensorSliceDataset shapes: ((8,), (1,)), types: (tf.int64, tf.int32)>, <TensorSliceDataset shapes: ((8,), (1,)), types: (tf.int64, tf.int32)>, <TensorSliceDataset shapes: ((8,), (1,)), types: (tf.int64, tf.int32)>, <TensorSliceDataset shapes: ((8,), (1,)), types: (tf.int64, tf.int32)>, <TensorSliceDataset shapes: ((8,), (1,)), types: (tf.int64, tf.int32)>, <TensorSliceDataset shapes: ((8,), (1,)), types: (tf.int64, tf.int32)>, <TensorSliceDataset shapes: ((8,), (1,)), types: (tf.int64, tf.int32)>, <TensorSliceDataset shapes: ((8,), (1,)), types: (tf.int64, tf.int32)>, <TensorSliceDataset shapes: ((8,), (1,)), types: (tf.int64, tf.int32)>, <TensorSliceDataset shapes: ((8,), (1,)), types: (tf.int64, tf.int32)>, <TensorSliceDataset shapes: ((8,), (1,)), types: (tf.int64, tf.int32)>, <TensorSliceDataset shapes: ((8,), (1,)), types: (tf.int64, tf.int32)>, <TensorSliceDataset shapes: ((8,), (1,)), types: (tf.int64, tf.int32)>, <TensorSliceDataset shapes: ((8,), (1,)), types: (tf.int64, tf.int32)>, <TensorSliceDataset shapes: ((8,), (1,)), types: (tf.int64, tf.int32)>, <TensorSliceDataset shapes: ((8,), (1,)), types: (tf.int64, tf.int32)>, <TensorSliceDataset shapes: ((8,), (1,)), types: (tf.int64, tf.int32)>, <TensorSliceDataset shapes: ((8,), (1,)), types: (tf.int64, tf.int32)>, <TensorSliceDataset shapes: ((8,), (1,)), types: (tf.int64, tf.int32)>, <TensorSliceDataset shapes: ((8,), (1,)), types: (tf.int64, tf.int32)>, <TensorSliceDataset shapes: ((8,), (1,)), types: (tf.int64, tf.int32)>, <TensorSliceDataset shapes: ((8,), (1,)), types: (tf.int64, tf.int32)>, <TensorSliceDataset shapes: ((8,), (1,)), types: (tf.int64, tf.int32)>, <TensorSliceDataset shapes: ((8,), (1,)), types: (tf.int64, tf.int32)>, <TensorSliceDataset shapes: ((8,), (1,)), types: (tf.int64, tf.int32)>, <TensorSliceDataset shapes: ((8,), (1,)), types: (tf.int64, tf.int32)>, <TensorSliceDataset shapes: ((8,), (1,)), types: (tf.int64, tf.int32)>, <TensorSliceDataset shapes: ((8,), (1,)), types: (tf.int64, tf.int32)>, <TensorSliceDataset shapes: ((8,), (1,)), types: (tf.int64, tf.int32)>, <TensorSliceDataset shapes: ((8,), (1,)), types: (tf.int64, tf.int32)>, <TensorSliceDataset shapes: ((8,), (1,)), types: (tf.int64, tf.int32)>, <TensorSliceDataset shapes: ((8,), (1,)), types: (tf.int64, tf.int32)>, <TensorSliceDataset shapes: ((8,), (1,)), types: (tf.int64, tf.int32)>, <TensorSliceDataset shapes: ((8,), (1,)), types: (tf.int64, tf.int32)>, <TensorSliceDataset shapes: ((8,), (1,)), types: (tf.int64, tf.int32)>, <TensorSliceDataset shapes: ((8,), (1,)), types: (tf.int64, tf.int32)>, <TensorSliceDataset shapes: ((8,), (1,)), types: (tf.int64, tf.int32)>, <TensorSliceDataset shapes: ((8,), (1,)), types: (tf.int64, tf.int32)>, <TensorSliceDataset shapes: ((8,), (1,)), types: (tf.int64, tf.int32)>, <TensorSliceDataset shapes: ((8,), (1,)), types: (tf.int64, tf.int32)>, <TensorSliceDataset shapes: ((8,), (1,)), types: (tf.int64, tf.int32)>, <TensorSliceDataset shapes: ((8,), (1,)), types: (tf.int64, tf.int32)>, <TensorSliceDataset shapes: ((8,), (1,)), types: (tf.int64, tf.int32)>, <TensorSliceDataset shapes: ((8,), (1,)), types: (tf.int64, tf.int32)>, <TensorSliceDataset shapes: ((8,), (1,)), types: (tf.int64, tf.int32)>, <TensorSliceDataset shapes: ((8,), (1,)), types: (tf.int64, tf.int32)>, <TensorSliceDataset shapes: ((8,), (1,)), types: (tf.int64, tf.int32)>, <TensorSliceDataset shapes: ((8,), (1,)), types: (tf.int64, tf.int32)>, <TensorSliceDataset shapes: ((8,), (1,)), types: (tf.int64, tf.int32)>, <TensorSliceDataset shapes: ((8,), (1,)), types: (tf.int64, tf.int32)>, <TensorSliceDataset shapes: ((8,), (1,)), types: (tf.int64, tf.int32)>, <TensorSliceDataset shapes: ((8,), (1,)), types: (tf.int64, tf.int32)>, <TensorSliceDataset shapes: ((8,), (1,)), types: (tf.int64, tf.int32)>, <TensorSliceDataset shapes: ((8,), (1,)), types: (tf.int64, tf.int32)>, <TensorSliceDataset shapes: ((8,), (1,)), types: (tf.int64, tf.int32)>, <TensorSliceDataset shapes: ((8,), (1,)), types: (tf.int64, tf.int32)>, <TensorSliceDataset shapes: ((8,), (1,)), types: (tf.int64, tf.int32)>, <TensorSliceDataset shapes: ((8,), (1,)), types: (tf.int64, tf.int32)>, <TensorSliceDataset shapes: ((8,), (1,)), types: (tf.int64, tf.int32)>, <TensorSliceDataset shapes: ((8,), (1,)), types: (tf.int64, tf.int32)>, <TensorSliceDataset shapes: ((8,), (1,)), types: (tf.int64, tf.int32)>, <TensorSliceDataset shapes: ((8,), (1,)), types: (tf.int64, tf.int32)>, <TensorSliceDataset shapes: ((8,), (1,)), types: (tf.int64, tf.int32)>, <TensorSliceDataset shapes: ((8,), (1,)), types: (tf.int64, tf.int32)>, <TensorSliceDataset shapes: ((8,), (1,)), types: (tf.int64, tf.int32)>, <TensorSliceDataset shapes: ((8,), (1,)), types: (tf.int64, tf.int32)>, <TensorSliceDataset shapes: ((8,), (1,)), types: (tf.int64, tf.int32)>, <TensorSliceDataset shapes: ((8,), (1,)), types: (tf.int64, tf.int32)>, <TensorSliceDataset shapes: ((8,), (1,)), types: (tf.int64, tf.int32)>, <TensorSliceDataset shapes: ((8,), (1,)), types: (tf.int64, tf.int32)>, <TensorSliceDataset shapes: ((8,), (1,)), types: (tf.int64, tf.int32)>, <TensorSliceDataset shapes: ((8,), (1,)), types: (tf.int64, tf.int32)>, <TensorSliceDataset shapes: ((8,), (1,)), types: (tf.int64, tf.int32)>, <TensorSliceDataset shapes: ((8,), (1,)), types: (tf.int64, tf.int32)>, <TensorSliceDataset shapes: ((8,), (1,)), types: (tf.int64, tf.int32)>, <TensorSliceDataset shapes: ((8,), (1,)), types: (tf.int64, tf.int32)>, <TensorSliceDataset shapes: ((8,), (1,)), types: (tf.int64, tf.int32)>, <TensorSliceDataset shapes: ((8,), (1,)), types: (tf.int64, tf.int32)>, <TensorSliceDataset shapes: ((8,), (1,)), types: (tf.int64, tf.int32)>, <TensorSliceDataset shapes: ((8,), (1,)), types: (tf.int64, tf.int32)>, <TensorSliceDataset shapes: ((8,), (1,)), types: (tf.int64, tf.int32)>, <TensorSliceDataset shapes: ((8,), (1,)), types: (tf.int64, tf.int32)>, <TensorSliceDataset shapes: ((8,), (1,)), types: (tf.int64, tf.int32)>, <TensorSliceDataset shapes: ((8,), (1,)), types: (tf.int64, tf.int32)>, <TensorSliceDataset shapes: ((8,), (1,)), types: (tf.int64, tf.int32)>, <TensorSliceDataset shapes: ((8,), (1,)), types: (tf.int64, tf.int32)>, <TensorSliceDataset shapes: ((8,), (1,)), types: (tf.int64, tf.int32)>, <TensorSliceDataset shapes: ((8,), (1,)), types: (tf.int64, tf.int32)>, <TensorSliceDataset shapes: ((8,), (1,)), types: (tf.int64, tf.int32)>, <TensorSliceDataset shapes: ((8,), (1,)), types: (tf.int64, tf.int32)>, <TensorSliceDataset shapes: ((8,), (1,)), types: (tf.int64, tf.int32)>, <TensorSliceDataset shapes: ((8,), (1,)), types: (tf.int64, tf.int32)>, <TensorSliceDataset shapes: ((8,), (1,)), types: (tf.int64, tf.int32)>, <TensorSliceDataset shapes: ((8,), (1,)), types: (tf.int64, tf.int32)>, <TensorSliceDataset shapes: ((8,), (1,)), types: (tf.int64, tf.int32)>, <TensorSliceDataset shapes: ((8,), (1,)), types: (tf.int64, tf.int32)>, <TensorSliceDataset shapes: ((8,), (1,)), types: (tf.int64, tf.int32)>, <TensorSliceDataset shapes: ((8,), (1,)), types: (tf.int64, tf.int32)>, <TensorSliceDataset shapes: ((8,), (1,)), types: (tf.int64, tf.int32)>, <TensorSliceDataset shapes: ((8,), (1,)), types: (tf.int64, tf.int32)>, <TensorSliceDataset shapes: ((8,), (1,)), types: (tf.int64, tf.int32)>, <TensorSliceDataset shapes: ((8,), (1,)), types: (tf.int64, tf.int32)>, <TensorSliceDataset shapes: ((8,), (1,)), types: (tf.int64, tf.int32)>, <TensorSliceDataset shapes: ((8,), (1,)), types: (tf.int64, tf.int32)>, <TensorSliceDataset shapes: ((8,), (1,)), types: (tf.int64, tf.int32)>, <TensorSliceDataset shapes: ((8,), (1,)), types: (tf.int64, tf.int32)>, <TensorSliceDataset shapes: ((8,), (1,)), types: (tf.int64, tf.int32)>, <TensorSliceDataset shapes: ((8,), (1,)), types: (tf.int64, tf.int32)>, <TensorSliceDataset shapes: ((8,), (1,)), types: (tf.int64, tf.int32)>, <TensorSliceDataset shapes: ((8,), (1,)), types: (tf.int64, tf.int32)>, <TensorSliceDataset shapes: ((8,), (1,)), types: (tf.int64, tf.int32)>, <TensorSliceDataset shapes: ((8,), (1,)), types: (tf.int64, tf.int32)>, <TensorSliceDataset shapes: ((8,), (1,)), types: (tf.int64, tf.int32)>, <TensorSliceDataset shapes: ((8,), (1,)), types: (tf.int64, tf.int32)>, <TensorSliceDataset shapes: ((8,), (1,)), types: (tf.int64, tf.int32)>, <TensorSliceDataset shapes: ((8,), (1,)), types: (tf.int64, tf.int32)>, <TensorSliceDataset shapes: ((8,), (1,)), types: (tf.int64, tf.int32)>, <TensorSliceDataset shapes: ((8,), (1,)), types: (tf.int64, tf.int32)>, <TensorSliceDataset shapes: ((8,), (1,)), types: (tf.int64, tf.int32)>, <TensorSliceDataset shapes: ((8,), (1,)), types: (tf.int64, tf.int32)>, <TensorSliceDataset shapes: ((8,), (1,)), types: (tf.int64, tf.int32)>, <TensorSliceDataset shapes: ((8,), (1,)), types: (tf.int64, tf.int32)>, <TensorSliceDataset shapes: ((8,), (1,)), types: (tf.int64, tf.int32)>, <TensorSliceDataset shapes: ((8,), (1,)), types: (tf.int64, tf.int32)>, <TensorSliceDataset shapes: ((8,), (1,)), types: (tf.int64, tf.int32)>, <TensorSliceDataset shapes: ((8,), (1,)), types: (tf.int64, tf.int32)>, <TensorSliceDataset shapes: ((8,), (1,)), types: (tf.int64, tf.int32)>, <TensorSliceDataset shapes: ((8,), (1,)), types: (tf.int64, tf.int32)>, <TensorSliceDataset shapes: ((8,), (1,)), types: (tf.int64, tf.int32)>, <TensorSliceDataset shapes: ((8,), (1,)), types: (tf.int64, tf.int32)>, <TensorSliceDataset shapes: ((8,), (1,)), types: (tf.int64, tf.int32)>, <TensorSliceDataset shapes: ((8,), (1,)), types: (tf.int64, tf.int32)>, <TensorSliceDataset shapes: ((8,), (1,)), types: (tf.int64, tf.int32)>, <TensorSliceDataset shapes: ((8,), (1,)), types: (tf.int64, tf.int32)>, <TensorSliceDataset shapes: ((8,), (1,)), types: (tf.int64, tf.int32)>, <TensorSliceDataset shapes: ((8,), (1,)), types: (tf.int64, tf.int32)>, <TensorSliceDataset shapes: ((8,), (1,)), types: (tf.int64, tf.int32)>, <TensorSliceDataset shapes: ((8,), (1,)), types: (tf.int64, tf.int32)>, <TensorSliceDataset shapes: ((8,), (1,)), types: (tf.int64, tf.int32)>, <TensorSliceDataset shapes: ((8,), (1,)), types: (tf.int64, tf.int32)>, <TensorSliceDataset shapes: ((8,), (1,)), types: (tf.int64, tf.int32)>, <TensorSliceDataset shapes: ((8,), (1,)), types: (tf.int64, tf.int32)>, <TensorSliceDataset shapes: ((8,), (1,)), types: (tf.int64, tf.int32)>, <TensorSliceDataset shapes: ((8,), (1,)), types: (tf.int64, tf.int32)>, <TensorSliceDataset shapes: ((8,), (1,)), types: (tf.int64, tf.int32)>, <TensorSliceDataset shapes: ((8,), (1,)), types: (tf.int64, tf.int32)>, <TensorSliceDataset shapes: ((8,), (1,)), types: (tf.int64, tf.int32)>, <TensorSliceDataset shapes: ((8,), (1,)), types: (tf.int64, tf.int32)>, <TensorSliceDataset shapes: ((8,), (1,)), types: (tf.int64, tf.int32)>, <TensorSliceDataset shapes: ((8,), (1,)), types: (tf.int64, tf.int32)>, <TensorSliceDataset shapes: ((8,), (1,)), types: (tf.int64, tf.int32)>, <TensorSliceDataset shapes: ((8,), (1,)), types: (tf.int64, tf.int32)>, <TensorSliceDataset shapes: ((8,), (1,)), types: (tf.int64, tf.int32)>, <TensorSliceDataset shapes: ((8,), (1,)), types: (tf.int64, tf.int32)>, <TensorSliceDataset shapes: ((8,), (1,)), types: (tf.int64, tf.int32)>, <TensorSliceDataset shapes: ((8,), (1,)), types: (tf.int64, tf.int32)>, <TensorSliceDataset shapes: ((8,), (1,)), types: (tf.int64, tf.int32)>, <TensorSliceDataset shapes: ((8,), (1,)), types: (tf.int64, tf.int32)>, <TensorSliceDataset shapes: ((8,), (1,)), types: (tf.int64, tf.int32)>, <TensorSliceDataset shapes: ((8,), (1,)), types: (tf.int64, tf.int32)>, <TensorSliceDataset shapes: ((8,), (1,)), types: (tf.int64, tf.int32)>, <TensorSliceDataset shapes: ((8,), (1,)), types: (tf.int64, tf.int32)>, <TensorSliceDataset shapes: ((8,), (1,)), types: (tf.int64, tf.int32)>, <TensorSliceDataset shapes: ((8,), (1,)), types: (tf.int64, tf.int32)>, <TensorSliceDataset shapes: ((8,), (1,)), types: (tf.int64, tf.int32)>, <TensorSliceDataset shapes: ((8,), (1,)), types: (tf.int64, tf.int32)>, <TensorSliceDataset shapes: ((8,), (1,)), types: (tf.int64, tf.int32)>, <TensorSliceDataset shapes: ((8,), (1,)), types: (tf.int64, tf.int32)>, <TensorSliceDataset shapes: ((8,), (1,)), types: (tf.int64, tf.int32)>, <TensorSliceDataset shapes: ((8,), (1,)), types: (tf.int64, tf.int32)>, <TensorSliceDataset shapes: ((8,), (1,)), types: (tf.int64, tf.int32)>, <TensorSliceDataset shapes: ((8,), (1,)), types: (tf.int64, tf.int32)>, <TensorSliceDataset shapes: ((8,), (1,)), types: (tf.int64, tf.int32)>, <TensorSliceDataset shapes: ((8,), (1,)), types: (tf.int64, tf.int32)>, <TensorSliceDataset shapes: ((8,), (1,)), types: (tf.int64, tf.int32)>, <TensorSliceDataset shapes: ((8,), (1,)), types: (tf.int64, tf.int32)>, <TensorSliceDataset shapes: ((8,), (1,)), types: (tf.int64, tf.int32)>, <TensorSliceDataset shapes: ((8,), (1,)), types: (tf.int64, tf.int32)>, <TensorSliceDataset shapes: ((8,), (1,)), types: (tf.int64, tf.int32)>, <TensorSliceDataset shapes: ((8,), (1,)), types: (tf.int64, tf.int32)>, <TensorSliceDataset shapes: ((8,), (1,)), types: (tf.int64, tf.int32)>, <TensorSliceDataset shapes: ((8,), (1,)), types: (tf.int64, tf.int32)>, <TensorSliceDataset shapes: ((8,), (1,)), types: (tf.int64, tf.int32)>, <TensorSliceDataset shapes: ((8,), (1,)), types: (tf.int64, tf.int32)>, <TensorSliceDataset shapes: ((8,), (1,)), types: (tf.int64, tf.int32)>, <TensorSliceDataset shapes: ((8,), (1,)), types: (tf.int64, tf.int32)>, <TensorSliceDataset shapes: ((8,), (1,)), types: (tf.int64, tf.int32)>, <TensorSliceDataset shapes: ((8,), (1,)), types: (tf.int64, tf.int32)>, <TensorSliceDataset shapes: ((8,), (1,)), types: (tf.int64, tf.int32)>, <TensorSliceDataset shapes: ((8,), (1,)), types: (tf.int64, tf.int32)>, <TensorSliceDataset shapes: ((8,), (1,)), types: (tf.int64, tf.int32)>, <TensorSliceDataset shapes: ((8,), (1,)), types: (tf.int64, tf.int32)>, <TensorSliceDataset shapes: ((8,), (1,)), types: (tf.int64, tf.int32)>, <TensorSliceDataset shapes: ((8,), (1,)), types: (tf.int64, tf.int32)>, <TensorSliceDataset shapes: ((8,), (1,)), types: (tf.int64, tf.int32)>, <TensorSliceDataset shapes: ((8,), (1,)), types: (tf.int64, tf.int32)>, <TensorSliceDataset shapes: ((8,), (1,)), types: (tf.int64, tf.int32)>, <TensorSliceDataset shapes: ((8,), (1,)), types: (tf.int64, tf.int32)>, <TensorSliceDataset shapes: ((8,), (1,)), types: (tf.int64, tf.int32)>, <TensorSliceDataset shapes: ((8,), (1,)), types: (tf.int64, tf.int32)>, <TensorSliceDataset shapes: ((8,), (1,)), types: (tf.int64, tf.int32)>, <TensorSliceDataset shapes: ((8,), (1,)), types: (tf.int64, tf.int32)>, <TensorSliceDataset shapes: ((8,), (1,)), types: (tf.int64, tf.int32)>, <TensorSliceDataset shapes: ((8,), (1,)), types: (tf.int64, tf.int32)>, <TensorSliceDataset shapes: ((8,), (1,)), types: (tf.int64, tf.int32)>, <TensorSliceDataset shapes: ((8,), (1,)), types: (tf.int64, tf.int32)>, <TensorSliceDataset shapes: ((8,), (1,)), types: (tf.int64, tf.int32)>, <TensorSliceDataset shapes: ((8,), (1,)), types: (tf.int64, tf.int32)>, <TensorSliceDataset shapes: ((8,), (1,)), types: (tf.int64, tf.int32)>, <TensorSliceDataset shapes: ((8,), (1,)), types: (tf.int64, tf.int32)>, <TensorSliceDataset shapes: ((8,), (1,)), types: (tf.int64, tf.int32)>, <TensorSliceDataset shapes: ((8,), (1,)), types: (tf.int64, tf.int32)>, <TensorSliceDataset shapes: ((8,), (1,)), types: (tf.int64, tf.int32)>, <TensorSliceDataset shapes: ((8,), (1,)), types: (tf.int64, tf.int32)>, <TensorSliceDataset shapes: ((8,), (1,)), types: (tf.int64, tf.int32)>, <TensorSliceDataset shapes: ((8,), (1,)), types: (tf.int64, tf.int32)>, <TensorSliceDataset shapes: ((8,), (1,)), types: (tf.int64, tf.int32)>, <TensorSliceDataset shapes: ((8,), (1,)), types: (tf.int64, tf.int32)>, <TensorSliceDataset shapes: ((8,), (1,)), types: (tf.int64, tf.int32)>, <TensorSliceDataset shapes: ((8,), (1,)), types: (tf.int64, tf.int32)>, <TensorSliceDataset shapes: ((8,), (1,)), types: (tf.int64, tf.int32)>, <TensorSliceDataset shapes: ((8,), (1,)), types: (tf.int64, tf.int32)>, <TensorSliceDataset shapes: ((8,), (1,)), types: (tf.int64, tf.int32)>, <TensorSliceDataset shapes: ((8,), (1,)), types: (tf.int64, tf.int32)>, <TensorSliceDataset shapes: ((8,), (1,)), types: (tf.int64, tf.int32)>, <TensorSliceDataset shapes: ((8,), (1,)), types: (tf.int64, tf.int32)>, <TensorSliceDataset shapes: ((8,), (1,)), types: (tf.int64, tf.int32)>, <TensorSliceDataset shapes: ((8,), (1,)), types: (tf.int64, tf.int32)>, <TensorSliceDataset shapes: ((8,), (1,)), types: (tf.int64, tf.int32)>, <TensorSliceDataset shapes: ((8,), (1,)), types: (tf.int64, tf.int32)>, <TensorSliceDataset shapes: ((8,), (1,)), types: (tf.int64, tf.int32)>, <TensorSliceDataset shapes: ((8,), (1,)), types: (tf.int64, tf.int32)>, <TensorSliceDataset shapes: ((8,), (1,)), types: (tf.int64, tf.int32)>, <TensorSliceDataset shapes: ((8,), (1,)), types: (tf.int64, tf.int32)>, <TensorSliceDataset shapes: ((8,), (1,)), types: (tf.int64, tf.int32)>, <TensorSliceDataset shapes: ((8,), (1,)), types: (tf.int64, tf.int32)>, <TensorSliceDataset shapes: ((8,), (1,)), types: (tf.int64, tf.int32)>, <TensorSliceDataset shapes: ((8,), (1,)), types: (tf.int64, tf.int32)>, <TensorSliceDataset shapes: ((8,), (1,)), types: (tf.int64, tf.int32)>, <TensorSliceDataset shapes: ((8,), (1,)), types: (tf.int64, tf.int32)>, <TensorSliceDataset shapes: ((8,), (1,)), types: (tf.int64, tf.int32)>, <TensorSliceDataset shapes: ((8,), (1,)), types: (tf.int64, tf.int32)>, <TensorSliceDataset shapes: ((8,), (1,)), types: (tf.int64, tf.int32)>, <TensorSliceDataset shapes: ((8,), (1,)), types: (tf.int64, tf.int32)>, <TensorSliceDataset shapes: ((8,), (1,)), types: (tf.int64, tf.int32)>, <TensorSliceDataset shapes: ((8,), (1,)), types: (tf.int64, tf.int32)>, <TensorSliceDataset shapes: ((8,), (1,)), types: (tf.int64, tf.int32)>, <TensorSliceDataset shapes: ((8,), (1,)), types: (tf.int64, tf.int32)>, <TensorSliceDataset shapes: ((8,), (1,)), types: (tf.int64, tf.int32)>, <TensorSliceDataset shapes: ((8,), (1,)), types: (tf.int64, tf.int32)>, <TensorSliceDataset shapes: ((8,), (1,)), types: (tf.int64, tf.int32)>, <TensorSliceDataset shapes: ((8,), (1,)), types: (tf.int64, tf.int32)>, <TensorSliceDataset shapes: ((8,), (1,)), types: (tf.int64, tf.int32)>, <TensorSliceDataset shapes: ((8,), (1,)), types: (tf.int64, tf.int32)>, <TensorSliceDataset shapes: ((8,), (1,)), types: (tf.int64, tf.int32)>, <TensorSliceDataset shapes: ((8,), (1,)), types: (tf.int64, tf.int32)>, <TensorSliceDataset shapes: ((8,), (1,)), types: (tf.int64, tf.int32)>, <TensorSliceDataset shapes: ((8,), (1,)), types: (tf.int64, tf.int32)>, <TensorSliceDataset shapes: ((8,), (1,)), types: (tf.int64, tf.int32)>, <TensorSliceDataset shapes: ((8,), (1,)), types: (tf.int64, tf.int32)>, <TensorSliceDataset shapes: ((8,), (1,)), types: (tf.int64, tf.int32)>, <TensorSliceDataset shapes: ((8,), (1,)), types: (tf.int64, tf.int32)>, <TensorSliceDataset shapes: ((8,), (1,)), types: (tf.int64, tf.int32)>, <TensorSliceDataset shapes: ((8,), (1,)), types: (tf.int64, tf.int32)>, <TensorSliceDataset shapes: ((8,), (1,)), types: (tf.int64, tf.int32)>, <TensorSliceDataset shapes: ((8,), (1,)), types: (tf.int64, tf.int32)>, <TensorSliceDataset shapes: ((8,), (1,)), types: (tf.int64, tf.int32)>, <TensorSliceDataset shapes: ((8,), (1,)), types: (tf.int64, tf.int32)>, <TensorSliceDataset shapes: ((8,), (1,)), types: (tf.int64, tf.int32)>, <TensorSliceDataset shapes: ((8,), (1,)), types: (tf.int64, tf.int32)>, <TensorSliceDataset shapes: ((8,), (1,)), types: (tf.int64, tf.int32)>, <TensorSliceDataset shapes: ((8,), (1,)), types: (tf.int64, tf.int32)>, <TensorSliceDataset shapes: ((8,), (1,)), types: (tf.int64, tf.int32)>, <TensorSliceDataset shapes: ((8,), (1,)), types: (tf.int64, tf.int32)>, <TensorSliceDataset shapes: ((8,), (1,)), types: (tf.int64, tf.int32)>, <TensorSliceDataset shapes: ((8,), (1,)), types: (tf.int64, tf.int32)>, <TensorSliceDataset shapes: ((8,), (1,)), types: (tf.int64, tf.int32)>, <TensorSliceDataset shapes: ((8,), (1,)), types: (tf.int64, tf.int32)>, <TensorSliceDataset shapes: ((8,), (1,)), types: (tf.int64, tf.int32)>, <TensorSliceDataset shapes: ((8,), (1,)), types: (tf.int64, tf.int32)>, <TensorSliceDataset shapes: ((8,), (1,)), types: (tf.int64, tf.int32)>, <TensorSliceDataset shapes: ((8,), (1,)), types: (tf.int64, tf.int32)>, <TensorSliceDataset shapes: ((8,), (1,)), types: (tf.int64, tf.int32)>, <TensorSliceDataset shapes: ((8,), (1,)), types: (tf.int64, tf.int32)>, <TensorSliceDataset shapes: ((8,), (1,)), types: (tf.int64, tf.int32)>, <TensorSliceDataset shapes: ((8,), (1,)), types: (tf.int64, tf.int32)>, <TensorSliceDataset shapes: ((8,), (1,)), types: (tf.int64, tf.int32)>, <TensorSliceDataset shapes: ((8,), (1,)), types: (tf.int64, tf.int32)>, <TensorSliceDataset shapes: ((8,), (1,)), types: (tf.int64, tf.int32)>, <TensorSliceDataset shapes: ((8,), (1,)), types: (tf.int64, tf.int32)>, <TensorSliceDataset shapes: ((8,), (1,)), types: (tf.int64, tf.int32)>, <TensorSliceDataset shapes: ((8,), (1,)), types: (tf.int64, tf.int32)>, <TensorSliceDataset shapes: ((8,), (1,)), types: (tf.int64, tf.int32)>, <TensorSliceDataset shapes: ((8,), (1,)), types: (tf.int64, tf.int32)>, <TensorSliceDataset shapes: ((8,), (1,)), types: (tf.int64, tf.int32)>, <TensorSliceDataset shapes: ((8,), (1,)), types: (tf.int64, tf.int32)>, <TensorSliceDataset shapes: ((8,), (1,)), types: (tf.int64, tf.int32)>, <TensorSliceDataset shapes: ((8,), (1,)), types: (tf.int64, tf.int32)>, <TensorSliceDataset shapes: ((8,), (1,)), types: (tf.int64, tf.int32)>, <TensorSliceDataset shapes: ((8,), (1,)), types: (tf.int64, tf.int32)>, <TensorSliceDataset shapes: ((8,), (1,)), types: (tf.int64, tf.int32)>, <TensorSliceDataset shapes: ((8,), (1,)), types: (tf.int64, tf.int32)>, <TensorSliceDataset shapes: ((8,), (1,)), types: (tf.int64, tf.int32)>, <TensorSliceDataset shapes: ((8,), (1,)), types: (tf.int64, tf.int32)>, <TensorSliceDataset shapes: ((8,), (1,)), types: (tf.int64, tf.int32)>, <TensorSliceDataset shapes: ((8,), (1,)), types: (tf.int64, tf.int32)>, <TensorSliceDataset shapes: ((8,), (1,)), types: (tf.int64, tf.int32)>, <TensorSliceDataset shapes: ((8,), (1,)), types: (tf.int64, tf.int32)>, <TensorSliceDataset shapes: ((8,), (1,)), types: (tf.int64, tf.int32)>, <TensorSliceDataset shapes: ((8,), (1,)), types: (tf.int64, tf.int32)>, <TensorSliceDataset shapes: ((8,), (1,)), types: (tf.int64, tf.int32)>, <TensorSliceDataset shapes: ((8,), (1,)), types: (tf.int64, tf.int32)>, <TensorSliceDataset shapes: ((8,), (1,)), types: (tf.int64, tf.int32)>, <TensorSliceDataset shapes: ((8,), (1,)), types: (tf.int64, tf.int32)>, <TensorSliceDataset shapes: ((8,), (1,)), types: (tf.int64, tf.int32)>, <TensorSliceDataset shapes: ((8,), (1,)), types: (tf.int64, tf.int32)>, <TensorSliceDataset shapes: ((8,), (1,)), types: (tf.int64, tf.int32)>, <TensorSliceDataset shapes: ((8,), (1,)), types: (tf.int64, tf.int32)>, <TensorSliceDataset shapes: ((8,), (1,)), types: (tf.int64, tf.int32)>, <TensorSliceDataset shapes: ((8,), (1,)), types: (tf.int64, tf.int32)>, <TensorSliceDataset shapes: ((8,), (1,)), types: (tf.int64, tf.int32)>, <TensorSliceDataset shapes: ((8,), (1,)), types: (tf.int64, tf.int32)>, <TensorSliceDataset shapes: ((8,), (1,)), types: (tf.int64, tf.int32)>, <TensorSliceDataset shapes: ((8,), (1,)), types: (tf.int64, tf.int32)>, <TensorSliceDataset shapes: ((8,), (1,)), types: (tf.int64, tf.int32)>, <TensorSliceDataset shapes: ((8,), (1,)), types: (tf.int64, tf.int32)>, <TensorSliceDataset shapes: ((8,), (1,)), types: (tf.int64, tf.int32)>, <TensorSliceDataset shapes: ((8,), (1,)), types: (tf.int64, tf.int32)>, <TensorSliceDataset shapes: ((8,), (1,)), types: (tf.int64, tf.int32)>, <TensorSliceDataset shapes: ((8,), (1,)), types: (tf.int64, tf.int32)>, <TensorSliceDataset shapes: ((8,), (1,)), types: (tf.int64, tf.int32)>, <TensorSliceDataset shapes: ((8,), (1,)), types: (tf.int64, tf.int32)>, <TensorSliceDataset shapes: ((8,), (1,)), types: (tf.int64, tf.int32)>, <TensorSliceDataset shapes: ((8,), (1,)), types: (tf.int64, tf.int32)>, <TensorSliceDataset shapes: ((8,), (1,)), types: (tf.int64, tf.int32)>, <TensorSliceDataset shapes: ((8,), (1,)), types: (tf.int64, tf.int32)>, <TensorSliceDataset shapes: ((8,), (1,)), types: (tf.int64, tf.int32)>, <TensorSliceDataset shapes: ((8,), (1,)), types: (tf.int64, tf.int32)>, <TensorSliceDataset shapes: ((8,), (1,)), types: (tf.int64, tf.int32)>, <TensorSliceDataset shapes: ((8,), (1,)), types: (tf.int64, tf.int32)>, <TensorSliceDataset shapes: ((8,), (1,)), types: (tf.int64, tf.int32)>, <TensorSliceDataset shapes: ((8,), (1,)), types: (tf.int64, tf.int32)>, <TensorSliceDataset shapes: ((8,), (1,)), types: (tf.int64, tf.int32)>, <TensorSliceDataset shapes: ((8,), (1,)), types: (tf.int64, tf.int32)>, <TensorSliceDataset shapes: ((8,), (1,)), types: (tf.int64, tf.int32)>, <TensorSliceDataset shapes: ((8,), (1,)), types: (tf.int64, tf.int32)>, <TensorSliceDataset shapes: ((8,), (1,)), types: (tf.int64, tf.int32)>, <TensorSliceDataset shapes: ((8,), (1,)), types: (tf.int64, tf.int32)>, <TensorSliceDataset shapes: ((8,), (1,)), types: (tf.int64, tf.int32)>, <TensorSliceDataset shapes: ((8,), (1,)), types: (tf.int64, tf.int32)>, <TensorSliceDataset shapes: ((8,), (1,)), types: (tf.int64, tf.int32)>, <TensorSliceDataset shapes: ((8,), (1,)), types: (tf.int64, tf.int32)>, <TensorSliceDataset shapes: ((8,), (1,)), types: (tf.int64, tf.int32)>, <TensorSliceDataset shapes: ((8,), (1,)), types: (tf.int64, tf.int32)>, <TensorSliceDataset shapes: ((8,), (1,)), types: (tf.int64, tf.int32)>, <TensorSliceDataset shapes: ((8,), (1,)), types: (tf.int64, tf.int32)>, <TensorSliceDataset shapes: ((8,), (1,)), types: (tf.int64, tf.int32)>, <TensorSliceDataset shapes: ((8,), (1,)), types: (tf.int64, tf.int32)>, <TensorSliceDataset shapes: ((8,), (1,)), types: (tf.int64, tf.int32)>, <TensorSliceDataset shapes: ((8,), (1,)), types: (tf.int64, tf.int32)>, <TensorSliceDataset shapes: ((8,), (1,)), types: (tf.int64, tf.int32)>, <TensorSliceDataset shapes: ((8,), (1,)), types: (tf.int64, tf.int32)>, <TensorSliceDataset shapes: ((8,), (1,)), types: (tf.int64, tf.int32)>, <TensorSliceDataset shapes: ((8,), (1,)), types: (tf.int64, tf.int32)>, <TensorSliceDataset shapes: ((8,), (1,)), types: (tf.int64, tf.int32)>, <TensorSliceDataset shapes: ((8,), (1,)), types: (tf.int64, tf.int32)>, <TensorSliceDataset shapes: ((8,), (1,)), types: (tf.int64, tf.int32)>, <TensorSliceDataset shapes: ((8,), (1,)), types: (tf.int64, tf.int32)>, <TensorSliceDataset shapes: ((8,), (1,)), types: (tf.int64, tf.int32)>, <TensorSliceDataset shapes: ((8,), (1,)), types: (tf.int64, tf.int32)>, <TensorSliceDataset shapes: ((8,), (1,)), types: (tf.int64, tf.int32)>, <TensorSliceDataset shapes: ((8,), (1,)), types: (tf.int64, tf.int32)>, <TensorSliceDataset shapes: ((8,), (1,)), types: (tf.int64, tf.int32)>, <TensorSliceDataset shapes: ((8,), (1,)), types: (tf.int64, tf.int32)>, <TensorSliceDataset shapes: ((8,), (1,)), types: (tf.int64, tf.int32)>, <TensorSliceDataset shapes: ((8,), (1,)), types: (tf.int64, tf.int32)>, <TensorSliceDataset shapes: ((8,), (1,)), types: (tf.int64, tf.int32)>, <TensorSliceDataset shapes: ((8,), (1,)), types: (tf.int64, tf.int32)>, <TensorSliceDataset shapes: ((8,), (1,)), types: (tf.int64, tf.int32)>, <TensorSliceDataset shapes: ((8,), (1,)), types: (tf.int64, tf.int32)>, <TensorSliceDataset shapes: ((8,), (1,)), types: (tf.int64, tf.int32)>, <TensorSliceDataset shapes: ((8,), (1,)), types: (tf.int64, tf.int32)>, <TensorSliceDataset shapes: ((8,), (1,)), types: (tf.int64, tf.int32)>, <TensorSliceDataset shapes: ((8,), (1,)), types: (tf.int64, tf.int32)>, <TensorSliceDataset shapes: ((8,), (1,)), types: (tf.int64, tf.int32)>, <TensorSliceDataset shapes: ((8,), (1,)), types: (tf.int64, tf.int32)>, <TensorSliceDataset shapes: ((8,), (1,)), types: (tf.int64, tf.int32)>, <TensorSliceDataset shapes: ((8,), (1,)), types: (tf.int64, tf.int32)>, <TensorSliceDataset shapes: ((8,), (1,)), types: (tf.int64, tf.int32)>, <TensorSliceDataset shapes: ((8,), (1,)), types: (tf.int64, tf.int32)>, <TensorSliceDataset shapes: ((8,), (1,)), types: (tf.int64, tf.int32)>, <TensorSliceDataset shapes: ((8,), (1,)), types: (tf.int64, tf.int32)>, <TensorSliceDataset shapes: ((8,), (1,)), types: (tf.int64, tf.int32)>, <TensorSliceDataset shapes: ((8,), (1,)), types: (tf.int64, tf.int32)>, <TensorSliceDataset shapes: ((8,), (1,)), types: (tf.int64, tf.int32)>, <TensorSliceDataset shapes: ((8,), (1,)), types: (tf.int64, tf.int32)>, <TensorSliceDataset shapes: ((8,), (1,)), types: (tf.int64, tf.int32)>, <TensorSliceDataset shapes: ((8,), (1,)), types: (tf.int64, tf.int32)>, <TensorSliceDataset shapes: ((8,), (1,)), types: (tf.int64, tf.int32)>, <TensorSliceDataset shapes: ((8,), (1,)), types: (tf.int64, tf.int32)>, <TensorSliceDataset shapes: ((8,), (1,)), types: (tf.int64, tf.int32)>, <TensorSliceDataset shapes: ((8,), (1,)), types: (tf.int64, tf.int32)>, <TensorSliceDataset shapes: ((8,), (1,)), types: (tf.int64, tf.int32)>, <TensorSliceDataset shapes: ((8,), (1,)), types: (tf.int64, tf.int32)>, <TensorSliceDataset shapes: ((8,), (1,)), types: (tf.int64, tf.int32)>, <TensorSliceDataset shapes: ((8,), (1,)), types: (tf.int64, tf.int32)>, <TensorSliceDataset shapes: ((8,), (1,)), types: (tf.int64, tf.int32)>, <TensorSliceDataset shapes: ((8,), (1,)), types: (tf.int64, tf.int32)>, <TensorSliceDataset shapes: ((8,), (1,)), types: (tf.int64, tf.int32)>, <TensorSliceDataset shapes: ((8,), (1,)), types: (tf.int64, tf.int32)>, <TensorSliceDataset shapes: ((8,), (1,)), types: (tf.int64, tf.int32)>, <TensorSliceDataset shapes: ((8,), (1,)), types: (tf.int64, tf.int32)>, <TensorSliceDataset shapes: ((8,), (1,)), types: (tf.int64, tf.int32)>, <TensorSliceDataset shapes: ((8,), (1,)), types: (tf.int64, tf.int32)>, <TensorSliceDataset shapes: ((8,), (1,)), types: (tf.int64, tf.int32)>, <TensorSliceDataset shapes: ((8,), (1,)), types: (tf.int64, tf.int32)>, <TensorSliceDataset shapes: ((8,), (1,)), types: (tf.int64, tf.int32)>, <TensorSliceDataset shapes: ((8,), (1,)), types: (tf.int64, tf.int32)>, <TensorSliceDataset shapes: ((8,), (1,)), types: (tf.int64, tf.int32)>, <TensorSliceDataset shapes: ((8,), (1,)), types: (tf.int64, tf.int32)>, <TensorSliceDataset shapes: ((8,), (1,)), types: (tf.int64, tf.int32)>, <TensorSliceDataset shapes: ((8,), (1,)), types: (tf.int64, tf.int32)>, <TensorSliceDataset shapes: ((8,), (1,)), types: (tf.int64, tf.int32)>, <TensorSliceDataset shapes: ((8,), (1,)), types: (tf.int64, tf.int32)>, <TensorSliceDataset shapes: ((8,), (1,)), types: (tf.int64, tf.int32)>, <TensorSliceDataset shapes: ((8,), (1,)), types: (tf.int64, tf.int32)>, <TensorSliceDataset shapes: ((8,), (1,)), types: (tf.int64, tf.int32)>, <TensorSliceDataset shapes: ((8,), (1,)), types: (tf.int64, tf.int32)>, <TensorSliceDataset shapes: ((8,), (1,)), types: (tf.int64, tf.int32)>, <TensorSliceDataset shapes: ((8,), (1,)), types: (tf.int64, tf.int32)>, <TensorSliceDataset shapes: ((8,), (1,)), types: (tf.int64, tf.int32)>, <TensorSliceDataset shapes: ((8,), (1,)), types: (tf.int64, tf.int32)>, <TensorSliceDataset shapes: ((8,), (1,)), types: (tf.int64, tf.int32)>, <TensorSliceDataset shapes: ((8,), (1,)), types: (tf.int64, tf.int32)>, <TensorSliceDataset shapes: ((8,), (1,)), types: (tf.int64, tf.int32)>, <TensorSliceDataset shapes: ((8,), (1,)), types: (tf.int64, tf.int32)>, <TensorSliceDataset shapes: ((8,), (1,)), types: (tf.int64, tf.int32)>, <TensorSliceDataset shapes: ((8,), (1,)), types: (tf.int64, tf.int32)>, <TensorSliceDataset shapes: ((8,), (1,)), types: (tf.int64, tf.int32)>, <TensorSliceDataset shapes: ((8,), (1,)), types: (tf.int64, tf.int32)>, <TensorSliceDataset shapes: ((8,), (1,)), types: (tf.int64, tf.int32)>, <TensorSliceDataset shapes: ((8,), (1,)), types: (tf.int64, tf.int32)>, <TensorSliceDataset shapes: ((8,), (1,)), types: (tf.int64, tf.int32)>, <TensorSliceDataset shapes: ((8,), (1,)), types: (tf.int64, tf.int32)>, <TensorSliceDataset shapes: ((8,), (1,)), types: (tf.int64, tf.int32)>, <TensorSliceDataset shapes: ((8,), (1,)), types: (tf.int64, tf.int32)>, <TensorSliceDataset shapes: ((8,), (1,)), types: (tf.int64, tf.int32)>, <TensorSliceDataset shapes: ((8,), (1,)), types: (tf.int64, tf.int32)>, <TensorSliceDataset shapes: ((8,), (1,)), types: (tf.int64, tf.int32)>, <TensorSliceDataset shapes: ((8,), (1,)), types: (tf.int64, tf.int32)>, <TensorSliceDataset shapes: ((8,), (1,)), types: (tf.int64, tf.int32)>, <TensorSliceDataset shapes: ((8,), (1,)), types: (tf.int64, tf.int32)>, <TensorSliceDataset shapes: ((8,), (1,)), types: (tf.int64, tf.int32)>, <TensorSliceDataset shapes: ((8,), (1,)), types: (tf.int64, tf.int32)>, <TensorSliceDataset shapes: ((8,), (1,)), types: (tf.int64, tf.int32)>, <TensorSliceDataset shapes: ((8,), (1,)), types: (tf.int64, tf.int32)>, <TensorSliceDataset shapes: ((8,), (1,)), types: (tf.int64, tf.int32)>, <TensorSliceDataset shapes: ((8,), (1,)), types: (tf.int64, tf.int32)>, <TensorSliceDataset shapes: ((8,), (1,)), types: (tf.int64, tf.int32)>, <TensorSliceDataset shapes: ((8,), (1,)), types: (tf.int64, tf.int32)>, <TensorSliceDataset shapes: ((8,), (1,)), types: (tf.int64, tf.int32)>, <TensorSliceDataset shapes: ((8,), (1,)), types: (tf.int64, tf.int32)>, <TensorSliceDataset shapes: ((8,), (1,)), types: (tf.int64, tf.int32)>, <TensorSliceDataset shapes: ((8,), (1,)), types: (tf.int64, tf.int32)>, <TensorSliceDataset shapes: ((8,), (1,)), types: (tf.int64, tf.int32)>, <TensorSliceDataset shapes: ((8,), (1,)), types: (tf.int64, tf.int32)>, <TensorSliceDataset shapes: ((8,), (1,)), types: (tf.int64, tf.int32)>, <TensorSliceDataset shapes: ((8,), (1,)), types: (tf.int64, tf.int32)>, <TensorSliceDataset shapes: ((8,), (1,)), types: (tf.int64, tf.int32)>, <TensorSliceDataset shapes: ((8,), (1,)), types: (tf.int64, tf.int32)>, <TensorSliceDataset shapes: ((8,), (1,)), types: (tf.int64, tf.int32)>, <TensorSliceDataset shapes: ((8,), (1,)), types: (tf.int64, tf.int32)>, <TensorSliceDataset shapes: ((8,), (1,)), types: (tf.int64, tf.int32)>, <TensorSliceDataset shapes: ((8,), (1,)), types: (tf.int64, tf.int32)>, <TensorSliceDataset shapes: ((8,), (1,)), types: (tf.int64, tf.int32)>, <TensorSliceDataset shapes: ((8,), (1,)), types: (tf.int64, tf.int32)>, <TensorSliceDataset shapes: ((8,), (1,)), types: (tf.int64, tf.int32)>, <TensorSliceDataset shapes: ((8,), (1,)), types: (tf.int64, tf.int32)>, <TensorSliceDataset shapes: ((8,), (1,)), types: (tf.int64, tf.int32)>, <TensorSliceDataset shapes: ((8,), (1,)), types: (tf.int64, tf.int32)>, <TensorSliceDataset shapes: ((8,), (1,)), types: (tf.int64, tf.int32)>, <TensorSliceDataset shapes: ((8,), (1,)), types: (tf.int64, tf.int32)>, <TensorSliceDataset shapes: ((8,), (1,)), types: (tf.int64, tf.int32)>, <TensorSliceDataset shapes: ((8,), (1,)), types: (tf.int64, tf.int32)>, <TensorSliceDataset shapes: ((8,), (1,)), types: (tf.int64, tf.int32)>, <TensorSliceDataset shapes: ((8,), (1,)), types: (tf.int64, tf.int32)>, <TensorSliceDataset shapes: ((8,), (1,)), types: (tf.int64, tf.int32)>, <TensorSliceDataset shapes: ((8,), (1,)), types: (tf.int64, tf.int32)>, <TensorSliceDataset shapes: ((8,), (1,)), types: (tf.int64, tf.int32)>, <TensorSliceDataset shapes: ((8,), (1,)), types: (tf.int64, tf.int32)>, <TensorSliceDataset shapes: ((8,), (1,)), types: (tf.int64, tf.int32)>, <TensorSliceDataset shapes: ((8,), (1,)), types: (tf.int64, tf.int32)>, <TensorSliceDataset shapes: ((8,), (1,)), types: (tf.int64, tf.int32)>, <TensorSliceDataset shapes: ((8,), (1,)), types: (tf.int64, tf.int32)>, <TensorSliceDataset shapes: ((8,), (1,)), types: (tf.int64, tf.int32)>, <TensorSliceDataset shapes: ((8,), (1,)), types: (tf.int64, tf.int32)>, <TensorSliceDataset shapes: ((8,), (1,)), types: (tf.int64, tf.int32)>, <TensorSliceDataset shapes: ((8,), (1,)), types: (tf.int64, tf.int32)>, <TensorSliceDataset shapes: ((8,), (1,)), types: (tf.int64, tf.int32)>, <TensorSliceDataset shapes: ((8,), (1,)), types: (tf.int64, tf.int32)>, <TensorSliceDataset shapes: ((8,), (1,)), types: (tf.int64, tf.int32)>, <TensorSliceDataset shapes: ((8,), (1,)), types: (tf.int64, tf.int32)>, <TensorSliceDataset shapes: ((8,), (1,)), types: (tf.int64, tf.int32)>, <TensorSliceDataset shapes: ((8,), (1,)), types: (tf.int64, tf.int32)>, <TensorSliceDataset shapes: ((8,), (1,)), types: (tf.int64, tf.int32)>, <TensorSliceDataset shapes: ((8,), (1,)), types: (tf.int64, tf.int32)>, <TensorSliceDataset shapes: ((8,), (1,)), types: (tf.int64, tf.int32)>, <TensorSliceDataset shapes: ((8,), (1,)), types: (tf.int64, tf.int32)>, <TensorSliceDataset shapes: ((8,), (1,)), types: (tf.int64, tf.int32)>, <TensorSliceDataset shapes: ((8,), (1,)), types: (tf.int64, tf.int32)>, <TensorSliceDataset shapes: ((8,), (1,)), types: (tf.int64, tf.int32)>, <TensorSliceDataset shapes: ((8,), (1,)), types: (tf.int64, tf.int32)>, <TensorSliceDataset shapes: ((8,), (1,)), types: (tf.int64, tf.int32)>, <TensorSliceDataset shapes: ((8,), (1,)), types: (tf.int64, tf.int32)>, <TensorSliceDataset shapes: ((8,), (1,)), types: (tf.int64, tf.int32)>, <TensorSliceDataset shapes: ((8,), (1,)), types: (tf.int64, tf.int32)>, <TensorSliceDataset shapes: ((8,), (1,)), types: (tf.int64, tf.int32)>, <TensorSliceDataset shapes: ((8,), (1,)), types: (tf.int64, tf.int32)>, <TensorSliceDataset shapes: ((8,), (1,)), types: (tf.int64, tf.int32)>, <TensorSliceDataset shapes: ((8,), (1,)), types: (tf.int64, tf.int32)>, <TensorSliceDataset shapes: ((8,), (1,)), types: (tf.int64, tf.int32)>, <TensorSliceDataset shapes: ((8,), (1,)), types: (tf.int64, tf.int32)>, <TensorSliceDataset shapes: ((8,), (1,)), types: (tf.int64, tf.int32)>, <TensorSliceDataset shapes: ((8,), (1,)), types: (tf.int64, tf.int32)>, <TensorSliceDataset shapes: ((8,), (1,)), types: (tf.int64, tf.int32)>, <TensorSliceDataset shapes: ((8,), (1,)), types: (tf.int64, tf.int32)>, <TensorSliceDataset shapes: ((8,), (1,)), types: (tf.int64, tf.int32)>, <TensorSliceDataset shapes: ((8,), (1,)), types: (tf.int64, tf.int32)>, <TensorSliceDataset shapes: ((8,), (1,)), types: (tf.int64, tf.int32)>, <TensorSliceDataset shapes: ((8,), (1,)), types: (tf.int64, tf.int32)>, <TensorSliceDataset shapes: ((8,), (1,)), types: (tf.int64, tf.int32)>, <TensorSliceDataset shapes: ((8,), (1,)), types: (tf.int64, tf.int32)>, <TensorSliceDataset shapes: ((8,), (1,)), types: (tf.int64, tf.int32)>, <TensorSliceDataset shapes: ((8,), (1,)), types: (tf.int64, tf.int32)>, <TensorSliceDataset shapes: ((8,), (1,)), types: (tf.int64, tf.int32)>, <TensorSliceDataset shapes: ((8,), (1,)), types: (tf.int64, tf.int32)>, <TensorSliceDataset shapes: ((8,), (1,)), types: (tf.int64, tf.int32)>, <TensorSliceDataset shapes: ((8,), (1,)), types: (tf.int64, tf.int32)>, <TensorSliceDataset shapes: ((8,), (1,)), types: (tf.int64, tf.int32)>, <TensorSliceDataset shapes: ((8,), (1,)), types: (tf.int64, tf.int32)>, <TensorSliceDataset shapes: ((8,), (1,)), types: (tf.int64, tf.int32)>, <TensorSliceDataset shapes: ((8,), (1,)), types: (tf.int64, tf.int32)>, <TensorSliceDataset shapes: ((8,), (1,)), types: (tf.int64, tf.int32)>, <TensorSliceDataset shapes: ((8,), (1,)), types: (tf.int64, tf.int32)>, <TensorSliceDataset shapes: ((8,), (1,)), types: (tf.int64, tf.int32)>, <TensorSliceDataset shapes: ((8,), (1,)), types: (tf.int64, tf.int32)>, <TensorSliceDataset shapes: ((8,), (1,)), types: (tf.int64, tf.int32)>, <TensorSliceDataset shapes: ((8,), (1,)), types: (tf.int64, tf.int32)>, <TensorSliceDataset shapes: ((8,), (1,)), types: (tf.int64, tf.int32)>, <TensorSliceDataset shapes: ((8,), (1,)), types: (tf.int64, tf.int32)>, <TensorSliceDataset shapes: ((8,), (1,)), types: (tf.int64, tf.int32)>, <TensorSliceDataset shapes: ((8,), (1,)), types: (tf.int64, tf.int32)>, <TensorSliceDataset shapes: ((8,), (1,)), types: (tf.int64, tf.int32)>, <TensorSliceDataset shapes: ((8,), (1,)), types: (tf.int64, tf.int32)>, <TensorSliceDataset shapes: ((8,), (1,)), types: (tf.int64, tf.int32)>, <TensorSliceDataset shapes: ((8,), (1,)), types: (tf.int64, tf.int32)>, <TensorSliceDataset shapes: ((8,), (1,)), types: (tf.int64, tf.int32)>, <TensorSliceDataset shapes: ((8,), (1,)), types: (tf.int64, tf.int32)>, <TensorSliceDataset shapes: ((8,), (1,)), types: (tf.int64, tf.int32)>, <TensorSliceDataset shapes: ((8,), (1,)), types: (tf.int64, tf.int32)>, <TensorSliceDataset shapes: ((8,), (1,)), types: (tf.int64, tf.int32)>, <TensorSliceDataset shapes: ((8,), (1,)), types: (tf.int64, tf.int32)>, <TensorSliceDataset shapes: ((8,), (1,)), types: (tf.int64, tf.int32)>, <TensorSliceDataset shapes: ((8,), (1,)), types: (tf.int64, tf.int32)>, <TensorSliceDataset shapes: ((8,), (1,)), types: (tf.int64, tf.int32)>, <TensorSliceDataset shapes: ((8,), (1,)), types: (tf.int64, tf.int32)>, <TensorSliceDataset shapes: ((8,), (1,)), types: (tf.int64, tf.int32)>, <TensorSliceDataset shapes: ((8,), (1,)), types: (tf.int64, tf.int32)>, <TensorSliceDataset shapes: ((8,), (1,)), types: (tf.int64, tf.int32)>, <TensorSliceDataset shapes: ((8,), (1,)), types: (tf.int64, tf.int32)>, <TensorSliceDataset shapes: ((8,), (1,)), types: (tf.int64, tf.int32)>, <TensorSliceDataset shapes: ((8,), (1,)), types: (tf.int64, tf.int32)>, <TensorSliceDataset shapes: ((8,), (1,)), types: (tf.int64, tf.int32)>, <TensorSliceDataset shapes: ((8,), (1,)), types: (tf.int64, tf.int32)>, <TensorSliceDataset shapes: ((8,), (1,)), types: (tf.int64, tf.int32)>, <TensorSliceDataset shapes: ((8,), (1,)), types: (tf.int64, tf.int32)>, <TensorSliceDataset shapes: ((8,), (1,)), types: (tf.int64, tf.int32)>, <TensorSliceDataset shapes: ((8,), (1,)), types: (tf.int64, tf.int32)>, <TensorSliceDataset shapes: ((8,), (1,)), types: (tf.int64, tf.int32)>, <TensorSliceDataset shapes: ((8,), (1,)), types: (tf.int64, tf.int32)>, <TensorSliceDataset shapes: ((8,), (1,)), types: (tf.int64, tf.int32)>, <TensorSliceDataset shapes: ((8,), (1,)), types: (tf.int64, tf.int32)>, <TensorSliceDataset shapes: ((8,), (1,)), types: (tf.int64, tf.int32)>, <TensorSliceDataset shapes: ((8,), (1,)), types: (tf.int64, tf.int32)>, <TensorSliceDataset shapes: ((8,), (1,)), types: (tf.int64, tf.int32)>, <TensorSliceDataset shapes: ((8,), (1,)), types: (tf.int64, tf.int32)>, <TensorSliceDataset shapes: ((8,), (1,)), types: (tf.int64, tf.int32)>, <TensorSliceDataset shapes: ((8,), (1,)), types: (tf.int64, tf.int32)>, <TensorSliceDataset shapes: ((8,), (1,)), types: (tf.int64, tf.int32)>, <TensorSliceDataset shapes: ((8,), (1,)), types: (tf.int64, tf.int32)>, <TensorSliceDataset shapes: ((8,), (1,)), types: (tf.int64, tf.int32)>, <TensorSliceDataset shapes: ((8,), (1,)), types: (tf.int64, tf.int32)>, <TensorSliceDataset shapes: ((8,), (1,)), types: (tf.int64, tf.int32)>, <TensorSliceDataset shapes: ((8,), (1,)), types: (tf.int64, tf.int32)>, <TensorSliceDataset shapes: ((8,), (1,)), types: (tf.int64, tf.int32)>, <TensorSliceDataset shapes: ((8,), (1,)), types: (tf.int64, tf.int32)>, <TensorSliceDataset shapes: ((8,), (1,)), types: (tf.int64, tf.int32)>, <TensorSliceDataset shapes: ((8,), (1,)), types: (tf.int64, tf.int32)>, <TensorSliceDataset shapes: ((8,), (1,)), types: (tf.int64, tf.int32)>, <TensorSliceDataset shapes: ((8,), (1,)), types: (tf.int64, tf.int32)>, <TensorSliceDataset shapes: ((8,), (1,)), types: (tf.int64, tf.int32)>, <TensorSliceDataset shapes: ((8,), (1,)), types: (tf.int64, tf.int32)>, <TensorSliceDataset shapes: ((8,), (1,)), types: (tf.int64, tf.int32)>, <TensorSliceDataset shapes: ((8,), (1,)), types: (tf.int64, tf.int32)>, <TensorSliceDataset shapes: ((8,), (1,)), types: (tf.int64, tf.int32)>, <TensorSliceDataset shapes: ((8,), (1,)), types: (tf.int64, tf.int32)>, <TensorSliceDataset shapes: ((8,), (1,)), types: (tf.int64, tf.int32)>, <TensorSliceDataset shapes: ((8,), (1,)), types: (tf.int64, tf.int32)>, <TensorSliceDataset shapes: ((8,), (1,)), types: (tf.int64, tf.int32)>, <TensorSliceDataset shapes: ((8,), (1,)), types: (tf.int64, tf.int32)>, <TensorSliceDataset shapes: ((8,), (1,)), types: (tf.int64, tf.int32)>, <TensorSliceDataset shapes: ((8,), (1,)), types: (tf.int64, tf.int32)>, <TensorSliceDataset shapes: ((8,), (1,)), types: (tf.int64, tf.int32)>, <TensorSliceDataset shapes: ((8,), (1,)), types: (tf.int64, tf.int32)>, <TensorSliceDataset shapes: ((8,), (1,)), types: (tf.int64, tf.int32)>, <TensorSliceDataset shapes: ((8,), (1,)), types: (tf.int64, tf.int32)>, <TensorSliceDataset shapes: ((8,), (1,)), types: (tf.int64, tf.int32)>, <TensorSliceDataset shapes: ((8,), (1,)), types: (tf.int64, tf.int32)>, <TensorSliceDataset shapes: ((8,), (1,)), types: (tf.int64, tf.int32)>, <TensorSliceDataset shapes: ((8,), (1,)), types: (tf.int64, tf.int32)>, <TensorSliceDataset shapes: ((8,), (1,)), types: (tf.int64, tf.int32)>, <TensorSliceDataset shapes: ((8,), (1,)), types: (tf.int64, tf.int32)>, <TensorSliceDataset shapes: ((8,), (1,)), types: (tf.int64, tf.int32)>, <TensorSliceDataset shapes: ((8,), (1,)), types: (tf.int64, tf.int32)>, <TensorSliceDataset shapes: ((8,), (1,)), types: (tf.int64, tf.int32)>, <TensorSliceDataset shapes: ((8,), (1,)), types: (tf.int64, tf.int32)>, <TensorSliceDataset shapes: ((8,), (1,)), types: (tf.int64, tf.int32)>, <TensorSliceDataset shapes: ((8,), (1,)), types: (tf.int64, tf.int32)>, <TensorSliceDataset shapes: ((8,), (1,)), types: (tf.int64, tf.int32)>, <TensorSliceDataset shapes: ((8,), (1,)), types: (tf.int64, tf.int32)>, <TensorSliceDataset shapes: ((8,), (1,)), types: (tf.int64, tf.int32)>, <TensorSliceDataset shapes: ((8,), (1,)), types: (tf.int64, tf.int32)>, <TensorSliceDataset shapes: ((8,), (1,)), types: (tf.int64, tf.int32)>, <TensorSliceDataset shapes: ((8,), (1,)), types: (tf.int64, tf.int32)>, <TensorSliceDataset shapes: ((8,), (1,)), types: (tf.int64, tf.int32)>, <TensorSliceDataset shapes: ((8,), (1,)), types: (tf.int64, tf.int32)>, <TensorSliceDataset shapes: ((8,), (1,)), types: (tf.int64, tf.int32)>, <TensorSliceDataset shapes: ((8,), (1,)), types: (tf.int64, tf.int32)>, <TensorSliceDataset shapes: ((8,), (1,)), types: (tf.int64, tf.int32)>, <TensorSliceDataset shapes: ((8,), (1,)), types: (tf.int64, tf.int32)>, <TensorSliceDataset shapes: ((8,), (1,)), types: (tf.int64, tf.int32)>, <TensorSliceDataset shapes: ((8,), (1,)), types: (tf.int64, tf.int32)>, <TensorSliceDataset shapes: ((8,), (1,)), types: (tf.int64, tf.int32)>, <TensorSliceDataset shapes: ((8,), (1,)), types: (tf.int64, tf.int32)>, <TensorSliceDataset shapes: ((8,), (1,)), types: (tf.int64, tf.int32)>, <TensorSliceDataset shapes: ((8,), (1,)), types: (tf.int64, tf.int32)>, <TensorSliceDataset shapes: ((8,), (1,)), types: (tf.int64, tf.int32)>, <TensorSliceDataset shapes: ((8,), (1,)), types: (tf.int64, tf.int32)>, <TensorSliceDataset shapes: ((8,), (1,)), types: (tf.int64, tf.int32)>, <TensorSliceDataset shapes: ((8,), (1,)), types: (tf.int64, tf.int32)>, <TensorSliceDataset shapes: ((8,), (1,)), types: (tf.int64, tf.int32)>, <TensorSliceDataset shapes: ((8,), (1,)), types: (tf.int64, tf.int32)>, <TensorSliceDataset shapes: ((8,), (1,)), types: (tf.int64, tf.int32)>, <TensorSliceDataset shapes: ((8,), (1,)), types: (tf.int64, tf.int32)>, <TensorSliceDataset shapes: ((8,), (1,)), types: (tf.int64, tf.int32)>, <TensorSliceDataset shapes: ((8,), (1,)), types: (tf.int64, tf.int32)>, <TensorSliceDataset shapes: ((8,), (1,)), types: (tf.int64, tf.int32)>, <TensorSliceDataset shapes: ((8,), (1,)), types: (tf.int64, tf.int32)>, <TensorSliceDataset shapes: ((8,), (1,)), types: (tf.int64, tf.int32)>, <TensorSliceDataset shapes: ((8,), (1,)), types: (tf.int64, tf.int32)>, <TensorSliceDataset shapes: ((8,), (1,)), types: (tf.int64, tf.int32)>, <TensorSliceDataset shapes: ((8,), (1,)), types: (tf.int64, tf.int32)>, <TensorSliceDataset shapes: ((8,), (1,)), types: (tf.int64, tf.int32)>, <TensorSliceDataset shapes: ((8,), (1,)), types: (tf.int64, tf.int32)>, <TensorSliceDataset shapes: ((8,), (1,)), types: (tf.int64, tf.int32)>, <TensorSliceDataset shapes: ((8,), (1,)), types: (tf.int64, tf.int32)>, <TensorSliceDataset shapes: ((8,), (1,)), types: (tf.int64, tf.int32)>, <TensorSliceDataset shapes: ((8,), (1,)), types: (tf.int64, tf.int32)>, <TensorSliceDataset shapes: ((8,), (1,)), types: (tf.int64, tf.int32)>, <TensorSliceDataset shapes: ((8,), (1,)), types: (tf.int64, tf.int32)>, <TensorSliceDataset shapes: ((8,), (1,)), types: (tf.int64, tf.int32)>, <TensorSliceDataset shapes: ((8,), (1,)), types: (tf.int64, tf.int32)>, <TensorSliceDataset shapes: ((8,), (1,)), types: (tf.int64, tf.int32)>, <TensorSliceDataset shapes: ((8,), (1,)), types: (tf.int64, tf.int32)>, <TensorSliceDataset shapes: ((8,), (1,)), types: (tf.int64, tf.int32)>, <TensorSliceDataset shapes: ((8,), (1,)), types: (tf.int64, tf.int32)>, <TensorSliceDataset shapes: ((8,), (1,)), types: (tf.int64, tf.int32)>, <TensorSliceDataset shapes: ((8,), (1,)), types: (tf.int64, tf.int32)>, <TensorSliceDataset shapes: ((8,), (1,)), types: (tf.int64, tf.int32)>, <TensorSliceDataset shapes: ((8,), (1,)), types: (tf.int64, tf.int32)>, <TensorSliceDataset shapes: ((8,), (1,)), types: (tf.int64, tf.int32)>, <TensorSliceDataset shapes: ((8,), (1,)), types: (tf.int64, tf.int32)>, <TensorSliceDataset shapes: ((8,), (1,)), types: (tf.int64, tf.int32)>, <TensorSliceDataset shapes: ((8,), (1,)), types: (tf.int64, tf.int32)>, <TensorSliceDataset shapes: ((8,), (1,)), types: (tf.int64, tf.int32)>, <TensorSliceDataset shapes: ((8,), (1,)), types: (tf.int64, tf.int32)>, <TensorSliceDataset shapes: ((8,), (1,)), types: (tf.int64, tf.int32)>, <TensorSliceDataset shapes: ((8,), (1,)), types: (tf.int64, tf.int32)>, <TensorSliceDataset shapes: ((8,), (1,)), types: (tf.int64, tf.int32)>, <TensorSliceDataset shapes: ((8,), (1,)), types: (tf.int64, tf.int32)>, <TensorSliceDataset shapes: ((8,), (1,)), types: (tf.int64, tf.int32)>, <TensorSliceDataset shapes: ((8,), (1,)), types: (tf.int64, tf.int32)>, <TensorSliceDataset shapes: ((8,), (1,)), types: (tf.int64, tf.int32)>, <TensorSliceDataset shapes: ((8,), (1,)), types: (tf.int64, tf.int32)>, <TensorSliceDataset shapes: ((8,), (1,)), types: (tf.int64, tf.int32)>, <TensorSliceDataset shapes: ((8,), (1,)), types: (tf.int64, tf.int32)>, <TensorSliceDataset shapes: ((8,), (1,)), types: (tf.int64, tf.int32)>, <TensorSliceDataset shapes: ((8,), (1,)), types: (tf.int64, tf.int32)>, <TensorSliceDataset shapes: ((8,), (1,)), types: (tf.int64, tf.int32)>, <TensorSliceDataset shapes: ((8,), (1,)), types: (tf.int64, tf.int32)>, <TensorSliceDataset shapes: ((8,), (1,)), types: (tf.int64, tf.int32)>, <TensorSliceDataset shapes: ((8,), (1,)), types: (tf.int64, tf.int32)>, <TensorSliceDataset shapes: ((8,), (1,)), types: (tf.int64, tf.int32)>, <TensorSliceDataset shapes: ((8,), (1,)), types: (tf.int64, tf.int32)>, <TensorSliceDataset shapes: ((8,), (1,)), types: (tf.int64, tf.int32)>, <TensorSliceDataset shapes: ((8,), (1,)), types: (tf.int64, tf.int32)>, <TensorSliceDataset shapes: ((8,), (1,)), types: (tf.int64, tf.int32)>, <TensorSliceDataset shapes: ((8,), (1,)), types: (tf.int64, tf.int32)>, <TensorSliceDataset shapes: ((8,), (1,)), types: (tf.int64, tf.int32)>, <TensorSliceDataset shapes: ((8,), (1,)), types: (tf.int64, tf.int32)>, <TensorSliceDataset shapes: ((8,), (1,)), types: (tf.int64, tf.int32)>, <TensorSliceDataset shapes: ((8,), (1,)), types: (tf.int64, tf.int32)>, <TensorSliceDataset shapes: ((8,), (1,)), types: (tf.int64, tf.int32)>, <TensorSliceDataset shapes: ((8,), (1,)), types: (tf.int64, tf.int32)>, <TensorSliceDataset shapes: ((8,), (1,)), types: (tf.int64, tf.int32)>, <TensorSliceDataset shapes: ((8,), (1,)), types: (tf.int64, tf.int32)>, <TensorSliceDataset shapes: ((8,), (1,)), types: (tf.int64, tf.int32)>, <TensorSliceDataset shapes: ((8,), (1,)), types: (tf.int64, tf.int32)>, <TensorSliceDataset shapes: ((8,), (1,)), types: (tf.int64, tf.int32)>, <TensorSliceDataset shapes: ((8,), (1,)), types: (tf.int64, tf.int32)>, <TensorSliceDataset shapes: ((8,), (1,)), types: (tf.int64, tf.int32)>, <TensorSliceDataset shapes: ((8,), (1,)), types: (tf.int64, tf.int32)>, <TensorSliceDataset shapes: ((8,), (1,)), types: (tf.int64, tf.int32)>, <TensorSliceDataset shapes: ((8,), (1,)), types: (tf.int64, tf.int32)>, <TensorSliceDataset shapes: ((8,), (1,)), types: (tf.int64, tf.int32)>, <TensorSliceDataset shapes: ((8,), (1,)), types: (tf.int64, tf.int32)>, <TensorSliceDataset shapes: ((8,), (1,)), types: (tf.int64, tf.int32)>, <TensorSliceDataset shapes: ((8,), (1,)), types: (tf.int64, tf.int32)>, <TensorSliceDataset shapes: ((8,), (1,)), types: (tf.int64, tf.int32)>, <TensorSliceDataset shapes: ((8,), (1,)), types: (tf.int64, tf.int32)>, <TensorSliceDataset shapes: ((8,), (1,)), types: (tf.int64, tf.int32)>, <TensorSliceDataset shapes: ((8,), (1,)), types: (tf.int64, tf.int32)>, <TensorSliceDataset shapes: ((8,), (1,)), types: (tf.int64, tf.int32)>, <TensorSliceDataset shapes: ((8,), (1,)), types: (tf.int64, tf.int32)>, <TensorSliceDataset shapes: ((8,), (1,)), types: (tf.int64, tf.int32)>, <TensorSliceDataset shapes: ((8,), (1,)), types: (tf.int64, tf.int32)>, <TensorSliceDataset shapes: ((8,), (1,)), types: (tf.int64, tf.int32)>, <TensorSliceDataset shapes: ((8,), (1,)), types: (tf.int64, tf.int32)>, <TensorSliceDataset shapes: ((8,), (1,)), types: (tf.int64, tf.int32)>, <TensorSliceDataset shapes: ((8,), (1,)), types: (tf.int64, tf.int32)>, <TensorSliceDataset shapes: ((8,), (1,)), types: (tf.int64, tf.int32)>, <TensorSliceDataset shapes: ((8,), (1,)), types: (tf.int64, tf.int32)>, <TensorSliceDataset shapes: ((8,), (1,)), types: (tf.int64, tf.int32)>, <TensorSliceDataset shapes: ((8,), (1,)), types: (tf.int64, tf.int32)>, <TensorSliceDataset shapes: ((8,), (1,)), types: (tf.int64, tf.int32)>, <TensorSliceDataset shapes: ((8,), (1,)), types: (tf.int64, tf.int32)>, <TensorSliceDataset shapes: ((8,), (1,)), types: (tf.int64, tf.int32)>, <TensorSliceDataset shapes: ((8,), (1,)), types: (tf.int64, tf.int32)>, <TensorSliceDataset shapes: ((8,), (1,)), types: (tf.int64, tf.int32)>, <TensorSliceDataset shapes: ((8,), (1,)), types: (tf.int64, tf.int32)>, <TensorSliceDataset shapes: ((8,), (1,)), types: (tf.int64, tf.int32)>, <TensorSliceDataset shapes: ((8,), (1,)), types: (tf.int64, tf.int32)>, <TensorSliceDataset shapes: ((8,), (1,)), types: (tf.int64, tf.int32)>, <TensorSliceDataset shapes: ((8,), (1,)), types: (tf.int64, tf.int32)>, <TensorSliceDataset shapes: ((8,), (1,)), types: (tf.int64, tf.int32)>, <TensorSliceDataset shapes: ((8,), (1,)), types: (tf.int64, tf.int32)>, <TensorSliceDataset shapes: ((8,), (1,)), types: (tf.int64, tf.int32)>, <TensorSliceDataset shapes: ((8,), (1,)), types: (tf.int64, tf.int32)>, <TensorSliceDataset shapes: ((8,), (1,)), types: (tf.int64, tf.int32)>, <TensorSliceDataset shapes: ((8,), (1,)), types: (tf.int64, tf.int32)>, <TensorSliceDataset shapes: ((8,), (1,)), types: (tf.int64, tf.int32)>, <TensorSliceDataset shapes: ((8,), (1,)), types: (tf.int64, tf.int32)>, <TensorSliceDataset shapes: ((8,), (1,)), types: (tf.int64, tf.int32)>, <TensorSliceDataset shapes: ((8,), (1,)), types: (tf.int64, tf.int32)>, <TensorSliceDataset shapes: ((8,), (1,)), types: (tf.int64, tf.int32)>, <TensorSliceDataset shapes: ((8,), (1,)), types: (tf.int64, tf.int32)>, <TensorSliceDataset shapes: ((8,), (1,)), types: (tf.int64, tf.int32)>, <TensorSliceDataset shapes: ((8,), (1,)), types: (tf.int64, tf.int32)>, <TensorSliceDataset shapes: ((8,), (1,)), types: (tf.int64, tf.int32)>, <TensorSliceDataset shapes: ((8,), (1,)), types: (tf.int64, tf.int32)>, <TensorSliceDataset shapes: ((8,), (1,)), types: (tf.int64, tf.int32)>, <TensorSliceDataset shapes: ((8,), (1,)), types: (tf.int64, tf.int32)>, <TensorSliceDataset shapes: ((8,), (1,)), types: (tf.int64, tf.int32)>, <TensorSliceDataset shapes: ((8,), (1,)), types: (tf.int64, tf.int32)>, <TensorSliceDataset shapes: ((8,), (1,)), types: (tf.int64, tf.int32)>, <TensorSliceDataset shapes: ((8,), (1,)), types: (tf.int64, tf.int32)>, <TensorSliceDataset shapes: ((8,), (1,)), types: (tf.int64, tf.int32)>, <TensorSliceDataset shapes: ((8,), (1,)), types: (tf.int64, tf.int32)>, <TensorSliceDataset shapes: ((8,), (1,)), types: (tf.int64, tf.int32)>, <TensorSliceDataset shapes: ((8,), (1,)), types: (tf.int64, tf.int32)>, <TensorSliceDataset shapes: ((8,), (1,)), types: (tf.int64, tf.int32)>, <TensorSliceDataset shapes: ((8,), (1,)), types: (tf.int64, tf.int32)>, <TensorSliceDataset shapes: ((8,), (1,)), types: (tf.int64, tf.int32)>, <TensorSliceDataset shapes: ((8,), (1,)), types: (tf.int64, tf.int32)>, <TensorSliceDataset shapes: ((8,), (1,)), types: (tf.int64, tf.int32)>, <TensorSliceDataset shapes: ((8,), (1,)), types: (tf.int64, tf.int32)>, <TensorSliceDataset shapes: ((8,), (1,)), types: (tf.int64, tf.int32)>, <TensorSliceDataset shapes: ((8,), (1,)), types: (tf.int64, tf.int32)>, <TensorSliceDataset shapes: ((8,), (1,)), types: (tf.int64, tf.int32)>, <TensorSliceDataset shapes: ((8,), (1,)), types: (tf.int64, tf.int32)>, <TensorSliceDataset shapes: ((8,), (1,)), types: (tf.int64, tf.int32)>, <TensorSliceDataset shapes: ((8,), (1,)), types: (tf.int64, tf.int32)>, <TensorSliceDataset shapes: ((8,), (1,)), types: (tf.int64, tf.int32)>, <TensorSliceDataset shapes: ((8,), (1,)), types: (tf.int64, tf.int32)>, <TensorSliceDataset shapes: ((8,), (1,)), types: (tf.int64, tf.int32)>, <TensorSliceDataset shapes: ((8,), (1,)), types: (tf.int64, tf.int32)>, <TensorSliceDataset shapes: ((8,), (1,)), types: (tf.int64, tf.int32)>, <TensorSliceDataset shapes: ((8,), (1,)), types: (tf.int64, tf.int32)>, <TensorSliceDataset shapes: ((8,), (1,)), types: (tf.int64, tf.int32)>, <TensorSliceDataset shapes: ((8,), (1,)), types: (tf.int64, tf.int32)>, <TensorSliceDataset shapes: ((8,), (1,)), types: (tf.int64, tf.int32)>, <TensorSliceDataset shapes: ((8,), (1,)), types: (tf.int64, tf.int32)>, <TensorSliceDataset shapes: ((8,), (1,)), types: (tf.int64, tf.int32)>, <TensorSliceDataset shapes: ((8,), (1,)), types: (tf.int64, tf.int32)>, <TensorSliceDataset shapes: ((8,), (1,)), types: (tf.int64, tf.int32)>, <TensorSliceDataset shapes: ((8,), (1,)), types: (tf.int64, tf.int32)>, <TensorSliceDataset shapes: ((8,), (1,)), types: (tf.int64, tf.int32)>, <TensorSliceDataset shapes: ((8,), (1,)), types: (tf.int64, tf.int32)>, <TensorSliceDataset shapes: ((8,), (1,)), types: (tf.int64, tf.int32)>, <TensorSliceDataset shapes: ((8,), (1,)), types: (tf.int64, tf.int32)>, <TensorSliceDataset shapes: ((8,), (1,)), types: (tf.int64, tf.int32)>, <TensorSliceDataset shapes: ((8,), (1,)), types: (tf.int64, tf.int32)>, <TensorSliceDataset shapes: ((8,), (1,)), types: (tf.int64, tf.int32)>, <TensorSliceDataset shapes: ((8,), (1,)), types: (tf.int64, tf.int32)>, <TensorSliceDataset shapes: ((8,), (1,)), types: (tf.int64, tf.int32)>, <TensorSliceDataset shapes: ((8,), (1,)), types: (tf.int64, tf.int32)>, <TensorSliceDataset shapes: ((8,), (1,)), types: (tf.int64, tf.int32)>, <TensorSliceDataset shapes: ((8,), (1,)), types: (tf.int64, tf.int32)>, <TensorSliceDataset shapes: ((8,), (1,)), types: (tf.int64, tf.int32)>, <TensorSliceDataset shapes: ((8,), (1,)), types: (tf.int64, tf.int32)>, <TensorSliceDataset shapes: ((8,), (1,)), types: (tf.int64, tf.int32)>, <TensorSliceDataset shapes: ((8,), (1,)), types: (tf.int64, tf.int32)>, <TensorSliceDataset shapes: ((8,), (1,)), types: (tf.int64, tf.int32)>, <TensorSliceDataset shapes: ((8,), (1,)), types: (tf.int64, tf.int32)>, <TensorSliceDataset shapes: ((8,), (1,)), types: (tf.int64, tf.int32)>, <TensorSliceDataset shapes: ((8,), (1,)), types: (tf.int64, tf.int32)>, <TensorSliceDataset shapes: ((8,), (1,)), types: (tf.int64, tf.int32)>, <TensorSliceDataset shapes: ((8,), (1,)), types: (tf.int64, tf.int32)>, <TensorSliceDataset shapes: ((8,), (1,)), types: (tf.int64, tf.int32)>, <TensorSliceDataset shapes: ((8,), (1,)), types: (tf.int64, tf.int32)>, <TensorSliceDataset shapes: ((8,), (1,)), types: (tf.int64, tf.int32)>, <TensorSliceDataset shapes: ((8,), (1,)), types: (tf.int64, tf.int32)>, <TensorSliceDataset shapes: ((8,), (1,)), types: (tf.int64, tf.int32)>, <TensorSliceDataset shapes: ((8,), (1,)), types: (tf.int64, tf.int32)>, <TensorSliceDataset shapes: ((8,), (1,)), types: (tf.int64, tf.int32)>, <TensorSliceDataset shapes: ((8,), (1,)), types: (tf.int64, tf.int32)>, <TensorSliceDataset shapes: ((8,), (1,)), types: (tf.int64, tf.int32)>, <TensorSliceDataset shapes: ((8,), (1,)), types: (tf.int64, tf.int32)>, <TensorSliceDataset shapes: ((8,), (1,)), types: (tf.int64, tf.int32)>, <TensorSliceDataset shapes: ((8,), (1,)), types: (tf.int64, tf.int32)>, <TensorSliceDataset shapes: ((8,), (1,)), types: (tf.int64, tf.int32)>, <TensorSliceDataset shapes: ((8,), (1,)), types: (tf.int64, tf.int32)>, <TensorSliceDataset shapes: ((8,), (1,)), types: (tf.int64, tf.int32)>, <TensorSliceDataset shapes: ((8,), (1,)), types: (tf.int64, tf.int32)>, <TensorSliceDataset shapes: ((8,), (1,)), types: (tf.int64, tf.int32)>, <TensorSliceDataset shapes: ((8,), (1,)), types: (tf.int64, tf.int32)>, <TensorSliceDataset shapes: ((8,), (1,)), types: (tf.int64, tf.int32)>, <TensorSliceDataset shapes: ((8,), (1,)), types: (tf.int64, tf.int32)>, <TensorSliceDataset shapes: ((8,), (1,)), types: (tf.int64, tf.int32)>, <TensorSliceDataset shapes: ((8,), (1,)), types: (tf.int64, tf.int32)>, <TensorSliceDataset shapes: ((8,), (1,)), types: (tf.int64, tf.int32)>, <TensorSliceDataset shapes: ((8,), (1,)), types: (tf.int64, tf.int32)>, <TensorSliceDataset shapes: ((8,), (1,)), types: (tf.int64, tf.int32)>, <TensorSliceDataset shapes: ((8,), (1,)), types: (tf.int64, tf.int32)>, <TensorSliceDataset shapes: ((8,), (1,)), types: (tf.int64, tf.int32)>, <TensorSliceDataset shapes: ((8,), (1,)), types: (tf.int64, tf.int32)>, <TensorSliceDataset shapes: ((8,), (1,)), types: (tf.int64, tf.int32)>, <TensorSliceDataset shapes: ((8,), (1,)), types: (tf.int64, tf.int32)>, <TensorSliceDataset shapes: ((8,), (1,)), types: (tf.int64, tf.int32)>, <TensorSliceDataset shapes: ((8,), (1,)), types: (tf.int64, tf.int32)>, <TensorSliceDataset shapes: ((8,), (1,)), types: (tf.int64, tf.int32)>, <TensorSliceDataset shapes: ((8,), (1,)), types: (tf.int64, tf.int32)>, <TensorSliceDataset shapes: ((8,), (1,)), types: (tf.int64, tf.int32)>, <TensorSliceDataset shapes: ((8,), (1,)), types: (tf.int64, tf.int32)>, <TensorSliceDataset shapes: ((8,), (1,)), types: (tf.int64, tf.int32)>, <TensorSliceDataset shapes: ((8,), (1,)), types: (tf.int64, tf.int32)>, <TensorSliceDataset shapes: ((8,), (1,)), types: (tf.int64, tf.int32)>, <TensorSliceDataset shapes: ((8,), (1,)), types: (tf.int64, tf.int32)>, <TensorSliceDataset shapes: ((8,), (1,)), types: (tf.int64, tf.int32)>, <TensorSliceDataset shapes: ((8,), (1,)), types: (tf.int64, tf.int32)>, <TensorSliceDataset shapes: ((8,), (1,)), types: (tf.int64, tf.int32)>, <TensorSliceDataset shapes: ((8,), (1,)), types: (tf.int64, tf.int32)>, <TensorSliceDataset shapes: ((8,), (1,)), types: (tf.int64, tf.int32)>, <TensorSliceDataset shapes: ((8,), (1,)), types: (tf.int64, tf.int32)>, <TensorSliceDataset shapes: ((8,), (1,)), types: (tf.int64, tf.int32)>, <TensorSliceDataset shapes: ((8,), (1,)), types: (tf.int64, tf.int32)>, <TensorSliceDataset shapes: ((8,), (1,)), types: (tf.int64, tf.int32)>, <TensorSliceDataset shapes: ((8,), (1,)), types: (tf.int64, tf.int32)>, <TensorSliceDataset shapes: ((8,), (1,)), types: (tf.int64, tf.int32)>, <TensorSliceDataset shapes: ((8,), (1,)), types: (tf.int64, tf.int32)>, <TensorSliceDataset shapes: ((8,), (1,)), types: (tf.int64, tf.int32)>, <TensorSliceDataset shapes: ((8,), (1,)), types: (tf.int64, tf.int32)>, <TensorSliceDataset shapes: ((8,), (1,)), types: (tf.int64, tf.int32)>, <TensorSliceDataset shapes: ((8,), (1,)), types: (tf.int64, tf.int32)>, <TensorSliceDataset shapes: ((8,), (1,)), types: (tf.int64, tf.int32)>, <TensorSliceDataset shapes: ((8,), (1,)), types: (tf.int64, tf.int32)>, <TensorSliceDataset shapes: ((8,), (1,)), types: (tf.int64, tf.int32)>, <TensorSliceDataset shapes: ((8,), (1,)), types: (tf.int64, tf.int32)>, <TensorSliceDataset shapes: ((8,), (1,)), types: (tf.int64, tf.int32)>, <TensorSliceDataset shapes: ((8,), (1,)), types: (tf.int64, tf.int32)>, <TensorSliceDataset shapes: ((8,), (1,)), types: (tf.int64, tf.int32)>, <TensorSliceDataset shapes: ((8,), (1,)), types: (tf.int64, tf.int32)>, <TensorSliceDataset shapes: ((8,), (1,)), types: (tf.int64, tf.int32)>, <TensorSliceDataset shapes: ((8,), (1,)), types: (tf.int64, tf.int32)>, <TensorSliceDataset shapes: ((8,), (1,)), types: (tf.int64, tf.int32)>, <TensorSliceDataset shapes: ((8,), (1,)), types: (tf.int64, tf.int32)>, <TensorSliceDataset shapes: ((8,), (1,)), types: (tf.int64, tf.int32)>, <TensorSliceDataset shapes: ((8,), (1,)), types: (tf.int64, tf.int32)>, <TensorSliceDataset shapes: ((8,), (1,)), types: (tf.int64, tf.int32)>, <TensorSliceDataset shapes: ((8,), (1,)), types: (tf.int64, tf.int32)>, <TensorSliceDataset shapes: ((8,), (1,)), types: (tf.int64, tf.int32)>, <TensorSliceDataset shapes: ((8,), (1,)), types: (tf.int64, tf.int32)>, <TensorSliceDataset shapes: ((8,), (1,)), types: (tf.int64, tf.int32)>, <TensorSliceDataset shapes: ((8,), (1,)), types: (tf.int64, tf.int32)>, <TensorSliceDataset shapes: ((8,), (1,)), types: (tf.int64, tf.int32)>, <TensorSliceDataset shapes: ((8,), (1,)), types: (tf.int64, tf.int32)>, <TensorSliceDataset shapes: ((8,), (1,)), types: (tf.int64, tf.int32)>, <TensorSliceDataset shapes: ((8,), (1,)), types: (tf.int64, tf.int32)>, <TensorSliceDataset shapes: ((8,), (1,)), types: (tf.int64, tf.int32)>, <TensorSliceDataset shapes: ((8,), (1,)), types: (tf.int64, tf.int32)>, <TensorSliceDataset shapes: ((8,), (1,)), types: (tf.int64, tf.int32)>, <TensorSliceDataset shapes: ((8,), (1,)), types: (tf.int64, tf.int32)>, <TensorSliceDataset shapes: ((8,), (1,)), types: (tf.int64, tf.int32)>, <TensorSliceDataset shapes: ((8,), (1,)), types: (tf.int64, tf.int32)>, <TensorSliceDataset shapes: ((8,), (1,)), types: (tf.int64, tf.int32)>, <TensorSliceDataset shapes: ((8,), (1,)), types: (tf.int64, tf.int32)>, <TensorSliceDataset shapes: ((8,), (1,)), types: (tf.int64, tf.int32)>, <TensorSliceDataset shapes: ((8,), (1,)), types: (tf.int64, tf.int32)>, <TensorSliceDataset shapes: ((8,), (1,)), types: (tf.int64, tf.int32)>, <TensorSliceDataset shapes: ((8,), (1,)), types: (tf.int64, tf.int32)>, <TensorSliceDataset shapes: ((8,), (1,)), types: (tf.int64, tf.int32)>, <TensorSliceDataset shapes: ((8,), (1,)), types: (tf.int64, tf.int32)>, <TensorSliceDataset shapes: ((8,), (1,)), types: (tf.int64, tf.int32)>, <TensorSliceDataset shapes: ((8,), (1,)), types: (tf.int64, tf.int32)>, <TensorSliceDataset shapes: ((8,), (1,)), types: (tf.int64, tf.int32)>, <TensorSliceDataset shapes: ((8,), (1,)), types: (tf.int64, tf.int32)>, <TensorSliceDataset shapes: ((8,), (1,)), types: (tf.int64, tf.int32)>, <TensorSliceDataset shapes: ((8,), (1,)), types: (tf.int64, tf.int32)>, <TensorSliceDataset shapes: ((8,), (1,)), types: (tf.int64, tf.int32)>, <TensorSliceDataset shapes: ((8,), (1,)), types: (tf.int64, tf.int32)>, <TensorSliceDataset shapes: ((8,), (1,)), types: (tf.int64, tf.int32)>, <TensorSliceDataset shapes: ((8,), (1,)), types: (tf.int64, tf.int32)>, <TensorSliceDataset shapes: ((8,), (1,)), types: (tf.int64, tf.int32)>, <TensorSliceDataset shapes: ((8,), (1,)), types: (tf.int64, tf.int32)>, <TensorSliceDataset shapes: ((8,), (1,)), types: (tf.int64, tf.int32)>, <TensorSliceDataset shapes: ((8,), (1,)), types: (tf.int64, tf.int32)>, <TensorSliceDataset shapes: ((8,), (1,)), types: (tf.int64, tf.int32)>, <TensorSliceDataset shapes: ((8,), (1,)), types: (tf.int64, tf.int32)>, <TensorSliceDataset shapes: ((8,), (1,)), types: (tf.int64, tf.int32)>, <TensorSliceDataset shapes: ((8,), (1,)), types: (tf.int64, tf.int32)>, <TensorSliceDataset shapes: ((8,), (1,)), types: (tf.int64, tf.int32)>, <TensorSliceDataset shapes: ((8,), (1,)), types: (tf.int64, tf.int32)>, <TensorSliceDataset shapes: ((8,), (1,)), types: (tf.int64, tf.int32)>, <TensorSliceDataset shapes: ((8,), (1,)), types: (tf.int64, tf.int32)>, <TensorSliceDataset shapes: ((8,), (1,)), types: (tf.int64, tf.int32)>, <TensorSliceDataset shapes: ((8,), (1,)), types: (tf.int64, tf.int32)>, <TensorSliceDataset shapes: ((8,), (1,)), types: (tf.int64, tf.int32)>, <TensorSliceDataset shapes: ((8,), (1,)), types: (tf.int64, tf.int32)>, <TensorSliceDataset shapes: ((8,), (1,)), types: (tf.int64, tf.int32)>, <TensorSliceDataset shapes: ((8,), (1,)), types: (tf.int64, tf.int32)>, <TensorSliceDataset shapes: ((8,), (1,)), types: (tf.int64, tf.int32)>, <TensorSliceDataset shapes: ((8,), (1,)), types: (tf.int64, tf.int32)>, <TensorSliceDataset shapes: ((8,), (1,)), types: (tf.int64, tf.int32)>, <TensorSliceDataset shapes: ((8,), (1,)), types: (tf.int64, tf.int32)>, <TensorSliceDataset shapes: ((8,), (1,)), types: (tf.int64, tf.int32)>, <TensorSliceDataset shapes: ((8,), (1,)), types: (tf.int64, tf.int32)>, <TensorSliceDataset shapes: ((8,), (1,)), types: (tf.int64, tf.int32)>, <TensorSliceDataset shapes: ((8,), (1,)), types: (tf.int64, tf.int32)>, <TensorSliceDataset shapes: ((8,), (1,)), types: (tf.int64, tf.int32)>, <TensorSliceDataset shapes: ((8,), (1,)), types: (tf.int64, tf.int32)>, <TensorSliceDataset shapes: ((8,), (1,)), types: (tf.int64, tf.int32)>, <TensorSliceDataset shapes: ((8,), (1,)), types: (tf.int64, tf.int32)>, <TensorSliceDataset shapes: ((8,), (1,)), types: (tf.int64, tf.int32)>, <TensorSliceDataset shapes: ((8,), (1,)), types: (tf.int64, tf.int32)>, <TensorSliceDataset shapes: ((8,), (1,)), types: (tf.int64, tf.int32)>, <TensorSliceDataset shapes: ((8,), (1,)), types: (tf.int64, tf.int32)>, <TensorSliceDataset shapes: ((8,), (1,)), types: (tf.int64, tf.int32)>, <TensorSliceDataset shapes: ((8,), (1,)), types: (tf.int64, tf.int32)>, <TensorSliceDataset shapes: ((8,), (1,)), types: (tf.int64, tf.int32)>, <TensorSliceDataset shapes: ((8,), (1,)), types: (tf.int64, tf.int32)>, <TensorSliceDataset shapes: ((8,), (1,)), types: (tf.int64, tf.int32)>, <TensorSliceDataset shapes: ((8,), (1,)), types: (tf.int64, tf.int32)>, <TensorSliceDataset shapes: ((8,), (1,)), types: (tf.int64, tf.int32)>, <TensorSliceDataset shapes: ((8,), (1,)), types: (tf.int64, tf.int32)>, <TensorSliceDataset shapes: ((8,), (1,)), types: (tf.int64, tf.int32)>, <TensorSliceDataset shapes: ((8,), (1,)), types: (tf.int64, tf.int32)>, <TensorSliceDataset shapes: ((8,), (1,)), types: (tf.int64, tf.int32)>, <TensorSliceDataset shapes: ((8,), (1,)), types: (tf.int64, tf.int32)>, <TensorSliceDataset shapes: ((8,), (1,)), types: (tf.int64, tf.int32)>, <TensorSliceDataset shapes: ((8,), (1,)), types: (tf.int64, tf.int32)>, <TensorSliceDataset shapes: ((8,), (1,)), types: (tf.int64, tf.int32)>, <TensorSliceDataset shapes: ((8,), (1,)), types: (tf.int64, tf.int32)>, <TensorSliceDataset shapes: ((8,), (1,)), types: (tf.int64, tf.int32)>, <TensorSliceDataset shapes: ((8,), (1,)), types: (tf.int64, tf.int32)>, <TensorSliceDataset shapes: ((8,), (1,)), types: (tf.int64, tf.int32)>, <TensorSliceDataset shapes: ((8,), (1,)), types: (tf.int64, tf.int32)>, <TensorSliceDataset shapes: ((8,), (1,)), types: (tf.int64, tf.int32)>, <TensorSliceDataset shapes: ((8,), (1,)), types: (tf.int64, tf.int32)>, <TensorSliceDataset shapes: ((8,), (1,)), types: (tf.int64, tf.int32)>, <TensorSliceDataset shapes: ((8,), (1,)), types: (tf.int64, tf.int32)>, <TensorSliceDataset shapes: ((8,), (1,)), types: (tf.int64, tf.int32)>, <TensorSliceDataset shapes: ((8,), (1,)), types: (tf.int64, tf.int32)>, <TensorSliceDataset shapes: ((8,), (1,)), types: (tf.int64, tf.int32)>, <TensorSliceDataset shapes: ((8,), (1,)), types: (tf.int64, tf.int32)>, <TensorSliceDataset shapes: ((8,), (1,)), types: (tf.int64, tf.int32)>, <TensorSliceDataset shapes: ((8,), (1,)), types: (tf.int64, tf.int32)>, <TensorSliceDataset shapes: ((8,), (1,)), types: (tf.int64, tf.int32)>, <TensorSliceDataset shapes: ((8,), (1,)), types: (tf.int64, tf.int32)>, <TensorSliceDataset shapes: ((8,), (1,)), types: (tf.int64, tf.int32)>, <TensorSliceDataset shapes: ((8,), (1,)), types: (tf.int64, tf.int32)>, <TensorSliceDataset shapes: ((8,), (1,)), types: (tf.int64, tf.int32)>, <TensorSliceDataset shapes: ((8,), (1,)), types: (tf.int64, tf.int32)>, <TensorSliceDataset shapes: ((8,), (1,)), types: (tf.int64, tf.int32)>, <TensorSliceDataset shapes: ((8,), (1,)), types: (tf.int64, tf.int32)>, <TensorSliceDataset shapes: ((8,), (1,)), types: (tf.int64, tf.int32)>, <TensorSliceDataset shapes: ((8,), (1,)), types: (tf.int64, tf.int32)>, <TensorSliceDataset shapes: ((8,), (1,)), types: (tf.int64, tf.int32)>, <TensorSliceDataset shapes: ((8,), (1,)), types: (tf.int64, tf.int32)>, <TensorSliceDataset shapes: ((8,), (1,)), types: (tf.int64, tf.int32)>, <TensorSliceDataset shapes: ((8,), (1,)), types: (tf.int64, tf.int32)>, <TensorSliceDataset shapes: ((8,), (1,)), types: (tf.int64, tf.int32)>, <TensorSliceDataset shapes: ((8,), (1,)), types: (tf.int64, tf.int32)>, <TensorSliceDataset shapes: ((8,), (1,)), types: (tf.int64, tf.int32)>, <TensorSliceDataset shapes: ((8,), (1,)), types: (tf.int64, tf.int32)>, <TensorSliceDataset shapes: ((8,), (1,)), types: (tf.int64, tf.int32)>, <TensorSliceDataset shapes: ((8,), (1,)), types: (tf.int64, tf.int32)>, <TensorSliceDataset shapes: ((8,), (1,)), types: (tf.int64, tf.int32)>, <TensorSliceDataset shapes: ((8,), (1,)), types: (tf.int64, tf.int32)>, <TensorSliceDataset shapes: ((8,), (1,)), types: (tf.int64, tf.int32)>, <TensorSliceDataset shapes: ((8,), (1,)), types: (tf.int64, tf.int32)>, <TensorSliceDataset shapes: ((8,), (1,)), types: (tf.int64, tf.int32)>, <TensorSliceDataset shapes: ((8,), (1,)), types: (tf.int64, tf.int32)>, <TensorSliceDataset shapes: ((8,), (1,)), types: (tf.int64, tf.int32)>, <TensorSliceDataset shapes: ((8,), (1,)), types: (tf.int64, tf.int32)>, <TensorSliceDataset shapes: ((8,), (1,)), types: (tf.int64, tf.int32)>, <TensorSliceDataset shapes: ((8,), (1,)), types: (tf.int64, tf.int32)>, <TensorSliceDataset shapes: ((8,), (1,)), types: (tf.int64, tf.int32)>, <TensorSliceDataset shapes: ((8,), (1,)), types: (tf.int64, tf.int32)>, <TensorSliceDataset shapes: ((8,), (1,)), types: (tf.int64, tf.int32)>, <TensorSliceDataset shapes: ((8,), (1,)), types: (tf.int64, tf.int32)>, <TensorSliceDataset shapes: ((8,), (1,)), types: (tf.int64, tf.int32)>, <TensorSliceDataset shapes: ((8,), (1,)), types: (tf.int64, tf.int32)>, <TensorSliceDataset shapes: ((8,), (1,)), types: (tf.int64, tf.int32)>, <TensorSliceDataset shapes: ((8,), (1,)), types: (tf.int64, tf.int32)>, <TensorSliceDataset shapes: ((8,), (1,)), types: (tf.int64, tf.int32)>, <TensorSliceDataset shapes: ((8,), (1,)), types: (tf.int64, tf.int32)>, <TensorSliceDataset shapes: ((8,), (1,)), types: (tf.int64, tf.int32)>, <TensorSliceDataset shapes: ((8,), (1,)), types: (tf.int64, tf.int32)>, <TensorSliceDataset shapes: ((8,), (1,)), types: (tf.int64, tf.int32)>, <TensorSliceDataset shapes: ((8,), (1,)), types: (tf.int64, tf.int32)>, <TensorSliceDataset shapes: ((8,), (1,)), types: (tf.int64, tf.int32)>, <TensorSliceDataset shapes: ((8,), (1,)), types: (tf.int64, tf.int32)>, <TensorSliceDataset shapes: ((8,), (1,)), types: (tf.int64, tf.int32)>, <TensorSliceDataset shapes: ((8,), (1,)), types: (tf.int64, tf.int32)>, <TensorSliceDataset shapes: ((8,), (1,)), types: (tf.int64, tf.int32)>, <TensorSliceDataset shapes: ((8,), (1,)), types: (tf.int64, tf.int32)>, <TensorSliceDataset shapes: ((8,), (1,)), types: (tf.int64, tf.int32)>, <TensorSliceDataset shapes: ((8,), (1,)), types: (tf.int64, tf.int32)>, <TensorSliceDataset shapes: ((8,), (1,)), types: (tf.int64, tf.int32)>, <TensorSliceDataset shapes: ((8,), (1,)), types: (tf.int64, tf.int32)>, <TensorSliceDataset shapes: ((8,), (1,)), types: (tf.int64, tf.int32)>, <TensorSliceDataset shapes: ((8,), (1,)), types: (tf.int64, tf.int32)>, <TensorSliceDataset shapes: ((8,), (1,)), types: (tf.int64, tf.int32)>, <TensorSliceDataset shapes: ((8,), (1,)), types: (tf.int64, tf.int32)>, <TensorSliceDataset shapes: ((8,), (1,)), types: (tf.int64, tf.int32)>, <TensorSliceDataset shapes: ((8,), (1,)), types: (tf.int64, tf.int32)>, <TensorSliceDataset shapes: ((8,), (1,)), types: (tf.int64, tf.int32)>, <TensorSliceDataset shapes: ((8,), (1,)), types: (tf.int64, tf.int32)>, <TensorSliceDataset shapes: ((8,), (1,)), types: (tf.int64, tf.int32)>, <TensorSliceDataset shapes: ((8,), (1,)), types: (tf.int64, tf.int32)>, <TensorSliceDataset shapes: ((8,), (1,)), types: (tf.int64, tf.int32)>, <TensorSliceDataset shapes: ((8,), (1,)), types: (tf.int64, tf.int32)>, <TensorSliceDataset shapes: ((8,), (1,)), types: (tf.int64, tf.int32)>, <TensorSliceDataset shapes: ((8,), (1,)), types: (tf.int64, tf.int32)>, <TensorSliceDataset shapes: ((8,), (1,)), types: (tf.int64, tf.int32)>, <TensorSliceDataset shapes: ((8,), (1,)), types: (tf.int64, tf.int32)>, <TensorSliceDataset shapes: ((8,), (1,)), types: (tf.int64, tf.int32)>, <TensorSliceDataset shapes: ((8,), (1,)), types: (tf.int64, tf.int32)>, <TensorSliceDataset shapes: ((8,), (1,)), types: (tf.int64, tf.int32)>, <TensorSliceDataset shapes: ((8,), (1,)), types: (tf.int64, tf.int32)>, <TensorSliceDataset shapes: ((8,), (1,)), types: (tf.int64, tf.int32)>, <TensorSliceDataset shapes: ((8,), (1,)), types: (tf.int64, tf.int32)>, <TensorSliceDataset shapes: ((8,), (1,)), types: (tf.int64, tf.int32)>, <TensorSliceDataset shapes: ((8,), (1,)), types: (tf.int64, tf.int32)>, <TensorSliceDataset shapes: ((8,), (1,)), types: (tf.int64, tf.int32)>, <TensorSliceDataset shapes: ((8,), (1,)), types: (tf.int64, tf.int32)>, <TensorSliceDataset shapes: ((8,), (1,)), types: (tf.int64, tf.int32)>, <TensorSliceDataset shapes: ((8,), (1,)), types: (tf.int64, tf.int32)>, <TensorSliceDataset shapes: ((8,), (1,)), types: (tf.int64, tf.int32)>, <TensorSliceDataset shapes: ((8,), (1,)), types: (tf.int64, tf.int32)>, <TensorSliceDataset shapes: ((8,), (1,)), types: (tf.int64, tf.int32)>, <TensorSliceDataset shapes: ((8,), (1,)), types: (tf.int64, tf.int32)>, <TensorSliceDataset shapes: ((8,), (1,)), types: (tf.int64, tf.int32)>, <TensorSliceDataset shapes: ((8,), (1,)), types: (tf.int64, tf.int32)>, <TensorSliceDataset shapes: ((8,), (1,)), types: (tf.int64, tf.int32)>, <TensorSliceDataset shapes: ((8,), (1,)), types: (tf.int64, tf.int32)>, <TensorSliceDataset shapes: ((8,), (1,)), types: (tf.int64, tf.int32)>, <TensorSliceDataset shapes: ((8,), (1,)), types: (tf.int64, tf.int32)>, <TensorSliceDataset shapes: ((8,), (1,)), types: (tf.int64, tf.int32)>, <TensorSliceDataset shapes: ((8,), (1,)), types: (tf.int64, tf.int32)>, <TensorSliceDataset shapes: ((8,), (1,)), types: (tf.int64, tf.int32)>, <TensorSliceDataset shapes: ((8,), (1,)), types: (tf.int64, tf.int32)>, <TensorSliceDataset shapes: ((8,), (1,)), types: (tf.int64, tf.int32)>, <TensorSliceDataset shapes: ((8,), (1,)), types: (tf.int64, tf.int32)>, <TensorSliceDataset shapes: ((8,), (1,)), types: (tf.int64, tf.int32)>, <TensorSliceDataset shapes: ((8,), (1,)), types: (tf.int64, tf.int32)>, <TensorSliceDataset shapes: ((8,), (1,)), types: (tf.int64, tf.int32)>, <TensorSliceDataset shapes: ((8,), (1,)), types: (tf.int64, tf.int32)>, <TensorSliceDataset shapes: ((8,), (1,)), types: (tf.int64, tf.int32)>, <TensorSliceDataset shapes: ((8,), (1,)), types: (tf.int64, tf.int32)>, <TensorSliceDataset shapes: ((8,), (1,)), types: (tf.int64, tf.int32)>, <TensorSliceDataset shapes: ((8,), (1,)), types: (tf.int64, tf.int32)>, <TensorSliceDataset shapes: ((8,), (1,)), types: (tf.int64, tf.int32)>, <TensorSliceDataset shapes: ((8,), (1,)), types: (tf.int64, tf.int32)>, <TensorSliceDataset shapes: ((8,), (1,)), types: (tf.int64, tf.int32)>, <TensorSliceDataset shapes: ((8,), (1,)), types: (tf.int64, tf.int32)>, <TensorSliceDataset shapes: ((8,), (1,)), types: (tf.int64, tf.int32)>, <TensorSliceDataset shapes: ((8,), (1,)), types: (tf.int64, tf.int32)>, <TensorSliceDataset shapes: ((8,), (1,)), types: (tf.int64, tf.int32)>, <TensorSliceDataset shapes: ((8,), (1,)), types: (tf.int64, tf.int32)>, <TensorSliceDataset shapes: ((8,), (1,)), types: (tf.int64, tf.int32)>, <TensorSliceDataset shapes: ((8,), (1,)), types: (tf.int64, tf.int32)>, <TensorSliceDataset shapes: ((8,), (1,)), types: (tf.int64, tf.int32)>, <TensorSliceDataset shapes: ((8,), (1,)), types: (tf.int64, tf.int32)>, <TensorSliceDataset shapes: ((8,), (1,)), types: (tf.int64, tf.int32)>, <TensorSliceDataset shapes: ((8,), (1,)), types: (tf.int64, tf.int32)>, <TensorSliceDataset shapes: ((8,), (1,)), types: (tf.int64, tf.int32)>, <TensorSliceDataset shapes: ((8,), (1,)), types: (tf.int64, tf.int32)>, <TensorSliceDataset shapes: ((8,), (1,)), types: (tf.int64, tf.int32)>, <TensorSliceDataset shapes: ((8,), (1,)), types: (tf.int64, tf.int32)>, <TensorSliceDataset shapes: ((8,), (1,)), types: (tf.int64, tf.int32)>, <TensorSliceDataset shapes: ((8,), (1,)), types: (tf.int64, tf.int32)>, <TensorSliceDataset shapes: ((8,), (1,)), types: (tf.int64, tf.int32)>, <TensorSliceDataset shapes: ((8,), (1,)), types: (tf.int64, tf.int32)>, <TensorSliceDataset shapes: ((8,), (1,)), types: (tf.int64, tf.int32)>, <TensorSliceDataset shapes: ((8,), (1,)), types: (tf.int64, tf.int32)>, <TensorSliceDataset shapes: ((8,), (1,)), types: (tf.int64, tf.int32)>, <TensorSliceDataset shapes: ((8,), (1,)), types: (tf.int64, tf.int32)>, <TensorSliceDataset shapes: ((8,), (1,)), types: (tf.int64, tf.int32)>, <TensorSliceDataset shapes: ((8,), (1,)), types: (tf.int64, tf.int32)>, <TensorSliceDataset shapes: ((8,), (1,)), types: (tf.int64, tf.int32)>, <TensorSliceDataset shapes: ((8,), (1,)), types: (tf.int64, tf.int32)>, <TensorSliceDataset shapes: ((8,), (1,)), types: (tf.int64, tf.int32)>, <TensorSliceDataset shapes: ((8,), (1,)), types: (tf.int64, tf.int32)>, <TensorSliceDataset shapes: ((8,), (1,)), types: (tf.int64, tf.int32)>, <TensorSliceDataset shapes: ((8,), (1,)), types: (tf.int64, tf.int32)>, <TensorSliceDataset shapes: ((8,), (1,)), types: (tf.int64, tf.int32)>, <TensorSliceDataset shapes: ((8,), (1,)), types: (tf.int64, tf.int32)>, <TensorSliceDataset shapes: ((8,), (1,)), types: (tf.int64, tf.int32)>, <TensorSliceDataset shapes: ((8,), (1,)), types: (tf.int64, tf.int32)>, <TensorSliceDataset shapes: ((8,), (1,)), types: (tf.int64, tf.int32)>, <TensorSliceDataset shapes: ((8,), (1,)), types: (tf.int64, tf.int32)>, <TensorSliceDataset shapes: ((8,), (1,)), types: (tf.int64, tf.int32)>, <TensorSliceDataset shapes: ((8,), (1,)), types: (tf.int64, tf.int32)>, <TensorSliceDataset shapes: ((8,), (1,)), types: (tf.int64, tf.int32)>, <TensorSliceDataset shapes: ((8,), (1,)), types: (tf.int64, tf.int32)>, <TensorSliceDataset shapes: ((8,), (1,)), types: (tf.int64, tf.int32)>, <TensorSliceDataset shapes: ((8,), (1,)), types: (tf.int64, tf.int32)>, <TensorSliceDataset shapes: ((8,), (1,)), types: (tf.int64, tf.int32)>, <TensorSliceDataset shapes: ((8,), (1,)), types: (tf.int64, tf.int32)>, <TensorSliceDataset shapes: ((8,), (1,)), types: (tf.int64, tf.int32)>, <TensorSliceDataset shapes: ((8,), (1,)), types: (tf.int64, tf.int32)>, <TensorSliceDataset shapes: ((8,), (1,)), types: (tf.int64, tf.int32)>, <TensorSliceDataset shapes: ((8,), (1,)), types: (tf.int64, tf.int32)>, <TensorSliceDataset shapes: ((8,), (1,)), types: (tf.int64, tf.int32)>, <TensorSliceDataset shapes: ((8,), (1,)), types: (tf.int64, tf.int32)>, <TensorSliceDataset shapes: ((8,), (1,)), types: (tf.int64, tf.int32)>, <TensorSliceDataset shapes: ((8,), (1,)), types: (tf.int64, tf.int32)>, <TensorSliceDataset shapes: ((8,), (1,)), types: (tf.int64, tf.int32)>, <TensorSliceDataset shapes: ((8,), (1,)), types: (tf.int64, tf.int32)>, <TensorSliceDataset shapes: ((8,), (1,)), types: (tf.int64, tf.int32)>, <TensorSliceDataset shapes: ((8,), (1,)), types: (tf.int64, tf.int32)>, <TensorSliceDataset shapes: ((8,), (1,)), types: (tf.int64, tf.int32)>, <TensorSliceDataset shapes: ((8,), (1,)), types: (tf.int64, tf.int32)>, <TensorSliceDataset shapes: ((8,), (1,)), types: (tf.int64, tf.int32)>, <TensorSliceDataset shapes: ((8,), (1,)), types: (tf.int64, tf.int32)>, <TensorSliceDataset shapes: ((8,), (1,)), types: (tf.int64, tf.int32)>, <TensorSliceDataset shapes: ((8,), (1,)), types: (tf.int64, tf.int32)>, <TensorSliceDataset shapes: ((8,), (1,)), types: (tf.int64, tf.int32)>, <TensorSliceDataset shapes: ((8,), (1,)), types: (tf.int64, tf.int32)>, <TensorSliceDataset shapes: ((8,), (1,)), types: (tf.int64, tf.int32)>, <TensorSliceDataset shapes: ((8,), (1,)), types: (tf.int64, tf.int32)>, <TensorSliceDataset shapes: ((8,), (1,)), types: (tf.int64, tf.int32)>, <TensorSliceDataset shapes: ((8,), (1,)), types: (tf.int64, tf.int32)>, <TensorSliceDataset shapes: ((8,), (1,)), types: (tf.int64, tf.int32)>, <TensorSliceDataset shapes: ((8,), (1,)), types: (tf.int64, tf.int32)>, <TensorSliceDataset shapes: ((8,), (1,)), types: (tf.int64, tf.int32)>, <TensorSliceDataset shapes: ((8,), (1,)), types: (tf.int64, tf.int32)>, <TensorSliceDataset shapes: ((8,), (1,)), types: (tf.int64, tf.int32)>, <TensorSliceDataset shapes: ((8,), (1,)), types: (tf.int64, tf.int32)>, <TensorSliceDataset shapes: ((8,), (1,)), types: (tf.int64, tf.int32)>, <TensorSliceDataset shapes: ((8,), (1,)), types: (tf.int64, tf.int32)>, <TensorSliceDataset shapes: ((8,), (1,)), types: (tf.int64, tf.int32)>, <TensorSliceDataset shapes: ((8,), (1,)), types: (tf.int64, tf.int32)>, <TensorSliceDataset shapes: ((8,), (1,)), types: (tf.int64, tf.int32)>, <TensorSliceDataset shapes: ((8,), (1,)), types: (tf.int64, tf.int32)>, <TensorSliceDataset shapes: ((8,), (1,)), types: (tf.int64, tf.int32)>, <TensorSliceDataset shapes: ((8,), (1,)), types: (tf.int64, tf.int32)>, <TensorSliceDataset shapes: ((8,), (1,)), types: (tf.int64, tf.int32)>, <TensorSliceDataset shapes: ((8,), (1,)), types: (tf.int64, tf.int32)>, <TensorSliceDataset shapes: ((8,), (1,)), types: (tf.int64, tf.int32)>, <TensorSliceDataset shapes: ((8,), (1,)), types: (tf.int64, tf.int32)>, <TensorSliceDataset shapes: ((8,), (1,)), types: (tf.int64, tf.int32)>, <TensorSliceDataset shapes: ((8,), (1,)), types: (tf.int64, tf.int32)>, <TensorSliceDataset shapes: ((8,), (1,)), types: (tf.int64, tf.int32)>, <TensorSliceDataset shapes: ((8,), (1,)), types: (tf.int64, tf.int32)>, <TensorSliceDataset shapes: ((8,), (1,)), types: (tf.int64, tf.int32)>, <TensorSliceDataset shapes: ((8,), (1,)), types: (tf.int64, tf.int32)>, <TensorSliceDataset shapes: ((8,), (1,)), types: (tf.int64, tf.int32)>, <TensorSliceDataset shapes: ((8,), (1,)), types: (tf.int64, tf.int32)>, <TensorSliceDataset shapes: ((8,), (1,)), types: (tf.int64, tf.int32)>, <TensorSliceDataset shapes: ((8,), (1,)), types: (tf.int64, tf.int32)>, <TensorSliceDataset shapes: ((8,), (1,)), types: (tf.int64, tf.int32)>, <TensorSliceDataset shapes: ((8,), (1,)), types: (tf.int64, tf.int32)>, <TensorSliceDataset shapes: ((8,), (1,)), types: (tf.int64, tf.int32)>, <TensorSliceDataset shapes: ((8,), (1,)), types: (tf.int64, tf.int32)>, <TensorSliceDataset shapes: ((8,), (1,)), types: (tf.int64, tf.int32)>, <TensorSliceDataset shapes: ((8,), (1,)), types: (tf.int64, tf.int32)>, <TensorSliceDataset shapes: ((8,), (1,)), types: (tf.int64, tf.int32)>, <TensorSliceDataset shapes: ((8,), (1,)), types: (tf.int64, tf.int32)>, <TensorSliceDataset shapes: ((8,), (1,)), types: (tf.int64, tf.int32)>, <TensorSliceDataset shapes: ((8,), (1,)), types: (tf.int64, tf.int32)>, <TensorSliceDataset shapes: ((8,), (1,)), types: (tf.int64, tf.int32)>, <TensorSliceDataset shapes: ((8,), (1,)), types: (tf.int64, tf.int32)>, <TensorSliceDataset shapes: ((8,), (1,)), types: (tf.int64, tf.int32)>, <TensorSliceDataset shapes: ((8,), (1,)), types: (tf.int64, tf.int32)>, <TensorSliceDataset shapes: ((8,), (1,)), types: (tf.int64, tf.int32)>, <TensorSliceDataset shapes: ((8,), (1,)), types: (tf.int64, tf.int32)>, <TensorSliceDataset shapes: ((8,), (1,)), types: (tf.int64, tf.int32)>, <TensorSliceDataset shapes: ((8,), (1,)), types: (tf.int64, tf.int32)>, <TensorSliceDataset shapes: ((8,), (1,)), types: (tf.int64, tf.int32)>, <TensorSliceDataset shapes: ((8,), (1,)), types: (tf.int64, tf.int32)>, <TensorSliceDataset shapes: ((8,), (1,)), types: (tf.int64, tf.int32)>, <TensorSliceDataset shapes: ((8,), (1,)), types: (tf.int64, tf.int32)>, <TensorSliceDataset shapes: ((8,), (1,)), types: (tf.int64, tf.int32)>, <TensorSliceDataset shapes: ((8,), (1,)), types: (tf.int64, tf.int32)>, <TensorSliceDataset shapes: ((8,), (1,)), types: (tf.int64, tf.int32)>, <TensorSliceDataset shapes: ((8,), (1,)), types: (tf.int64, tf.int32)>, <TensorSliceDataset shapes: ((8,), (1,)), types: (tf.int64, tf.int32)>, <TensorSliceDataset shapes: ((8,), (1,)), types: (tf.int64, tf.int32)>, <TensorSliceDataset shapes: ((8,), (1,)), types: (tf.int64, tf.int32)>, <TensorSliceDataset shapes: ((8,), (1,)), types: (tf.int64, tf.int32)>, <TensorSliceDataset shapes: ((8,), (1,)), types: (tf.int64, tf.int32)>, <TensorSliceDataset shapes: ((8,), (1,)), types: (tf.int64, tf.int32)>, <TensorSliceDataset shapes: ((8,), (1,)), types: (tf.int64, tf.int32)>, <TensorSliceDataset shapes: ((8,), (1,)), types: (tf.int64, tf.int32)>, <TensorSliceDataset shapes: ((8,), (1,)), types: (tf.int64, tf.int32)>, <TensorSliceDataset shapes: ((8,), (1,)), types: (tf.int64, tf.int32)>, <TensorSliceDataset shapes: ((8,), (1,)), types: (tf.int64, tf.int32)>, <TensorSliceDataset shapes: ((8,), (1,)), types: (tf.int64, tf.int32)>, <TensorSliceDataset shapes: ((8,), (1,)), types: (tf.int64, tf.int32)>, <TensorSliceDataset shapes: ((8,), (1,)), types: (tf.int64, tf.int32)>, <TensorSliceDataset shapes: ((8,), (1,)), types: (tf.int64, tf.int32)>, <TensorSliceDataset shapes: ((8,), (1,)), types: (tf.int64, tf.int32)>, <TensorSliceDataset shapes: ((8,), (1,)), types: (tf.int64, tf.int32)>, <TensorSliceDataset shapes: ((8,), (1,)), types: (tf.int64, tf.int32)>, <TensorSliceDataset shapes: ((8,), (1,)), types: (tf.int64, tf.int32)>, <TensorSliceDataset shapes: ((8,), (1,)), types: (tf.int64, tf.int32)>, <TensorSliceDataset shapes: ((8,), (1,)), types: (tf.int64, tf.int32)>, <TensorSliceDataset shapes: ((8,), (1,)), types: (tf.int64, tf.int32)>, <TensorSliceDataset shapes: ((8,), (1,)), types: (tf.int64, tf.int32)>, <TensorSliceDataset shapes: ((8,), (1,)), types: (tf.int64, tf.int32)>, <TensorSliceDataset shapes: ((8,), (1,)), types: (tf.int64, tf.int32)>, <TensorSliceDataset shapes: ((8,), (1,)), types: (tf.int64, tf.int32)>, <TensorSliceDataset shapes: ((8,), (1,)), types: (tf.int64, tf.int32)>, <TensorSliceDataset shapes: ((8,), (1,)), types: (tf.int64, tf.int32)>, <TensorSliceDataset shapes: ((8,), (1,)), types: (tf.int64, tf.int32)>, <TensorSliceDataset shapes: ((8,), (1,)), types: (tf.int64, tf.int32)>, <TensorSliceDataset shapes: ((8,), (1,)), types: (tf.int64, tf.int32)>, <TensorSliceDataset shapes: ((8,), (1,)), types: (tf.int64, tf.int32)>, <TensorSliceDataset shapes: ((8,), (1,)), types: (tf.int64, tf.int32)>, <TensorSliceDataset shapes: ((8,), (1,)), types: (tf.int64, tf.int32)>, <TensorSliceDataset shapes: ((8,), (1,)), types: (tf.int64, tf.int32)>, <TensorSliceDataset shapes: ((8,), (1,)), types: (tf.int64, tf.int32)>, <TensorSliceDataset shapes: ((8,), (1,)), types: (tf.int64, tf.int32)>, <TensorSliceDataset shapes: ((8,), (1,)), types: (tf.int64, tf.int32)>, <TensorSliceDataset shapes: ((8,), (1,)), types: (tf.int64, tf.int32)>, <TensorSliceDataset shapes: ((8,), (1,)), types: (tf.int64, tf.int32)>, <TensorSliceDataset shapes: ((8,), (1,)), types: (tf.int64, tf.int32)>, <TensorSliceDataset shapes: ((8,), (1,)), types: (tf.int64, tf.int32)>, <TensorSliceDataset shapes: ((8,), (1,)), types: (tf.int64, tf.int32)>, <TensorSliceDataset shapes: ((8,), (1,)), types: (tf.int64, tf.int32)>, <TensorSliceDataset shapes: ((8,), (1,)), types: (tf.int64, tf.int32)>, <TensorSliceDataset shapes: ((8,), (1,)), types: (tf.int64, tf.int32)>, <TensorSliceDataset shapes: ((8,), (1,)), types: (tf.int64, tf.int32)>, <TensorSliceDataset shapes: ((8,), (1,)), types: (tf.int64, tf.int32)>, <TensorSliceDataset shapes: ((8,), (1,)), types: (tf.int64, tf.int32)>, <TensorSliceDataset shapes: ((8,), (1,)), types: (tf.int64, tf.int32)>, <TensorSliceDataset shapes: ((8,), (1,)), types: (tf.int64, tf.int32)>, <TensorSliceDataset shapes: ((8,), (1,)), types: (tf.int64, tf.int32)>, <TensorSliceDataset shapes: ((8,), (1,)), types: (tf.int64, tf.int32)>, <TensorSliceDataset shapes: ((8,), (1,)), types: (tf.int64, tf.int32)>, <TensorSliceDataset shapes: ((8,), (1,)), types: (tf.int64, tf.int32)>, <TensorSliceDataset shapes: ((8,), (1,)), types: (tf.int64, tf.int32)>, <TensorSliceDataset shapes: ((8,), (1,)), types: (tf.int64, tf.int32)>, <TensorSliceDataset shapes: ((8,), (1,)), types: (tf.int64, tf.int32)>, <TensorSliceDataset shapes: ((8,), (1,)), types: (tf.int64, tf.int32)>, <TensorSliceDataset shapes: ((8,), (1,)), types: (tf.int64, tf.int32)>, <TensorSliceDataset shapes: ((8,), (1,)), types: (tf.int64, tf.int32)>, <TensorSliceDataset shapes: ((8,), (1,)), types: (tf.int64, tf.int32)>, <TensorSliceDataset shapes: ((8,), (1,)), types: (tf.int64, tf.int32)>, <TensorSliceDataset shapes: ((8,), (1,)), types: (tf.int64, tf.int32)>, <TensorSliceDataset shapes: ((8,), (1,)), types: (tf.int64, tf.int32)>, <TensorSliceDataset shapes: ((8,), (1,)), types: (tf.int64, tf.int32)>, <TensorSliceDataset shapes: ((8,), (1,)), types: (tf.int64, tf.int32)>, <TensorSliceDataset shapes: ((8,), (1,)), types: (tf.int64, tf.int32)>, <TensorSliceDataset shapes: ((8,), (1,)), types: (tf.int64, tf.int32)>, <TensorSliceDataset shapes: ((8,), (1,)), types: (tf.int64, tf.int32)>, <TensorSliceDataset shapes: ((8,), (1,)), types: (tf.int64, tf.int32)>, <TensorSliceDataset shapes: ((8,), (1,)), types: (tf.int64, tf.int32)>, <TensorSliceDataset shapes: ((8,), (1,)), types: (tf.int64, tf.int32)>, <TensorSliceDataset shapes: ((8,), (1,)), types: (tf.int64, tf.int32)>, <TensorSliceDataset shapes: ((8,), (1,)), types: (tf.int64, tf.int32)>, <TensorSliceDataset shapes: ((8,), (1,)), types: (tf.int64, tf.int32)>, <TensorSliceDataset shapes: ((8,), (1,)), types: (tf.int64, tf.int32)>, <TensorSliceDataset shapes: ((8,), (1,)), types: (tf.int64, tf.int32)>, <TensorSliceDataset shapes: ((8,), (1,)), types: (tf.int64, tf.int32)>, <TensorSliceDataset shapes: ((8,), (1,)), types: (tf.int64, tf.int32)>, <TensorSliceDataset shapes: ((8,), (1,)), types: (tf.int64, tf.int32)>, <TensorSliceDataset shapes: ((8,), (1,)), types: (tf.int64, tf.int32)>, <TensorSliceDataset shapes: ((8,), (1,)), types: (tf.int64, tf.int32)>, <TensorSliceDataset shapes: ((8,), (1,)), types: (tf.int64, tf.int32)>, <TensorSliceDataset shapes: ((8,), (1,)), types: (tf.int64, tf.int32)>, <TensorSliceDataset shapes: ((8,), (1,)), types: (tf.int64, tf.int32)>, <TensorSliceDataset shapes: ((8,), (1,)), types: (tf.int64, tf.int32)>, <TensorSliceDataset shapes: ((8,), (1,)), types: (tf.int64, tf.int32)>, <TensorSliceDataset shapes: ((8,), (1,)), types: (tf.int64, tf.int32)>, <TensorSliceDataset shapes: ((8,), (1,)), types: (tf.int64, tf.int32)>, <TensorSliceDataset shapes: ((8,), (1,)), types: (tf.int64, tf.int32)>, <TensorSliceDataset shapes: ((8,), (1,)), types: (tf.int64, tf.int32)>, <TensorSliceDataset shapes: ((8,), (1,)), types: (tf.int64, tf.int32)>, <TensorSliceDataset shapes: ((8,), (1,)), types: (tf.int64, tf.int32)>, <TensorSliceDataset shapes: ((8,), (1,)), types: (tf.int64, tf.int32)>, <TensorSliceDataset shapes: ((8,), (1,)), types: (tf.int64, tf.int32)>, <TensorSliceDataset shapes: ((8,), (1,)), types: (tf.int64, tf.int32)>, <TensorSliceDataset shapes: ((8,), (1,)), types: (tf.int64, tf.int32)>, <TensorSliceDataset shapes: ((8,), (1,)), types: (tf.int64, tf.int32)>, <TensorSliceDataset shapes: ((8,), (1,)), types: (tf.int64, tf.int32)>, <TensorSliceDataset shapes: ((8,), (1,)), types: (tf.int64, tf.int32)>, <TensorSliceDataset shapes: ((8,), (1,)), types: (tf.int64, tf.int32)>, <TensorSliceDataset shapes: ((8,), (1,)), types: (tf.int64, tf.int32)>, <TensorSliceDataset shapes: ((8,), (1,)), types: (tf.int64, tf.int32)>, <TensorSliceDataset shapes: ((8,), (1,)), types: (tf.int64, tf.int32)>, <TensorSliceDataset shapes: ((8,), (1,)), types: (tf.int64, tf.int32)>, <TensorSliceDataset shapes: ((8,), (1,)), types: (tf.int64, tf.int32)>, <TensorSliceDataset shapes: ((8,), (1,)), types: (tf.int64, tf.int32)>, <TensorSliceDataset shapes: ((8,), (1,)), types: (tf.int64, tf.int32)>, <TensorSliceDataset shapes: ((8,), (1,)), types: (tf.int64, tf.int32)>, <TensorSliceDataset shapes: ((8,), (1,)), types: (tf.int64, tf.int32)>, <TensorSliceDataset shapes: ((8,), (1,)), types: (tf.int64, tf.int32)>, <TensorSliceDataset shapes: ((8,), (1,)), types: (tf.int64, tf.int32)>, <TensorSliceDataset shapes: ((8,), (1,)), types: (tf.int64, tf.int32)>, <TensorSliceDataset shapes: ((8,), (1,)), types: (tf.int64, tf.int32)>, <TensorSliceDataset shapes: ((8,), (1,)), types: (tf.int64, tf.int32)>, <TensorSliceDataset shapes: ((8,), (1,)), types: (tf.int64, tf.int32)>, <TensorSliceDataset shapes: ((8,), (1,)), types: (tf.int64, tf.int32)>, <TensorSliceDataset shapes: ((8,), (1,)), types: (tf.int64, tf.int32)>, <TensorSliceDataset shapes: ((8,), (1,)), types: (tf.int64, tf.int32)>, <TensorSliceDataset shapes: ((8,), (1,)), types: (tf.int64, tf.int32)>, <TensorSliceDataset shapes: ((8,), (1,)), types: (tf.int64, tf.int32)>, <TensorSliceDataset shapes: ((8,), (1,)), types: (tf.int64, tf.int32)>, <TensorSliceDataset shapes: ((8,), (1,)), types: (tf.int64, tf.int32)>, <TensorSliceDataset shapes: ((8,), (1,)), types: (tf.int64, tf.int32)>, <TensorSliceDataset shapes: ((8,), (1,)), types: (tf.int64, tf.int32)>, <TensorSliceDataset shapes: ((8,), (1,)), types: (tf.int64, tf.int32)>, <TensorSliceDataset shapes: ((8,), (1,)), types: (tf.int64, tf.int32)>, <TensorSliceDataset shapes: ((8,), (1,)), types: (tf.int64, tf.int32)>, <TensorSliceDataset shapes: ((8,), (1,)), types: (tf.int64, tf.int32)>, <TensorSliceDataset shapes: ((8,), (1,)), types: (tf.int64, tf.int32)>, <TensorSliceDataset shapes: ((8,), (1,)), types: (tf.int64, tf.int32)>, <TensorSliceDataset shapes: ((8,), (1,)), types: (tf.int64, tf.int32)>, <TensorSliceDataset shapes: ((8,), (1,)), types: (tf.int64, tf.int32)>, <TensorSliceDataset shapes: ((8,), (1,)), types: (tf.int64, tf.int32)>, <TensorSliceDataset shapes: ((8,), (1,)), types: (tf.int64, tf.int32)>, <TensorSliceDataset shapes: ((8,), (1,)), types: (tf.int64, tf.int32)>, <TensorSliceDataset shapes: ((8,), (1,)), types: (tf.int64, tf.int32)>, <TensorSliceDataset shapes: ((8,), (1,)), types: (tf.int64, tf.int32)>, <TensorSliceDataset shapes: ((8,), (1,)), types: (tf.int64, tf.int32)>, <TensorSliceDataset shapes: ((8,), (1,)), types: (tf.int64, tf.int32)>, <TensorSliceDataset shapes: ((8,), (1,)), types: (tf.int64, tf.int32)>, <TensorSliceDataset shapes: ((8,), (1,)), types: (tf.int64, tf.int32)>, <TensorSliceDataset shapes: ((8,), (1,)), types: (tf.int64, tf.int32)>, <TensorSliceDataset shapes: ((8,), (1,)), types: (tf.int64, tf.int32)>, <TensorSliceDataset shapes: ((8,), (1,)), types: (tf.int64, tf.int32)>, <TensorSliceDataset shapes: ((8,), (1,)), types: (tf.int64, tf.int32)>, <TensorSliceDataset shapes: ((8,), (1,)), types: (tf.int64, tf.int32)>, <TensorSliceDataset shapes: ((8,), (1,)), types: (tf.int64, tf.int32)>, <TensorSliceDataset shapes: ((8,), (1,)), types: (tf.int64, tf.int32)>, <TensorSliceDataset shapes: ((8,), (1,)), types: (tf.int64, tf.int32)>, <TensorSliceDataset shapes: ((8,), (1,)), types: (tf.int64, tf.int32)>, <TensorSliceDataset shapes: ((8,), (1,)), types: (tf.int64, tf.int32)>, <TensorSliceDataset shapes: ((8,), (1,)), types: (tf.int64, tf.int32)>, <TensorSliceDataset shapes: ((8,), (1,)), types: (tf.int64, tf.int32)>, <TensorSliceDataset shapes: ((8,), (1,)), types: (tf.int64, tf.int32)>, <TensorSliceDataset shapes: ((8,), (1,)), types: (tf.int64, tf.int32)>, <TensorSliceDataset shapes: ((8,), (1,)), types: (tf.int64, tf.int32)>, <TensorSliceDataset shapes: ((8,), (1,)), types: (tf.int64, tf.int32)>, <TensorSliceDataset shapes: ((8,), (1,)), types: (tf.int64, tf.int32)>, <TensorSliceDataset shapes: ((8,), (1,)), types: (tf.int64, tf.int32)>, <TensorSliceDataset shapes: ((8,), (1,)), types: (tf.int64, tf.int32)>, <TensorSliceDataset shapes: ((8,), (1,)), types: (tf.int64, tf.int32)>, <TensorSliceDataset shapes: ((8,), (1,)), types: (tf.int64, tf.int32)>, <TensorSliceDataset shapes: ((8,), (1,)), types: (tf.int64, tf.int32)>, <TensorSliceDataset shapes: ((8,), (1,)), types: (tf.int64, tf.int32)>, <TensorSliceDataset shapes: ((8,), (1,)), types: (tf.int64, tf.int32)>, <TensorSliceDataset shapes: ((8,), (1,)), types: (tf.int64, tf.int32)>, <TensorSliceDataset shapes: ((8,), (1,)), types: (tf.int64, tf.int32)>, <TensorSliceDataset shapes: ((8,), (1,)), types: (tf.int64, tf.int32)>, <TensorSliceDataset shapes: ((8,), (1,)), types: (tf.int64, tf.int32)>, <TensorSliceDataset shapes: ((8,), (1,)), types: (tf.int64, tf.int32)>, <TensorSliceDataset shapes: ((8,), (1,)), types: (tf.int64, tf.int32)>, <TensorSliceDataset shapes: ((8,), (1,)), types: (tf.int64, tf.int32)>, <TensorSliceDataset shapes: ((8,), (1,)), types: (tf.int64, tf.int32)>, <TensorSliceDataset shapes: ((8,), (1,)), types: (tf.int64, tf.int32)>, <TensorSliceDataset shapes: ((8,), (1,)), types: (tf.int64, tf.int32)>, <TensorSliceDataset shapes: ((8,), (1,)), types: (tf.int64, tf.int32)>, <TensorSliceDataset shapes: ((8,), (1,)), types: (tf.int64, tf.int32)>, <TensorSliceDataset shapes: ((8,), (1,)), types: (tf.int64, tf.int32)>, <TensorSliceDataset shapes: ((8,), (1,)), types: (tf.int64, tf.int32)>, <TensorSliceDataset shapes: ((8,), (1,)), types: (tf.int64, tf.int32)>, <TensorSliceDataset shapes: ((8,), (1,)), types: (tf.int64, tf.int32)>, <TensorSliceDataset shapes: ((8,), (1,)), types: (tf.int64, tf.int32)>, <TensorSliceDataset shapes: ((8,), (1,)), types: (tf.int64, tf.int32)>, <TensorSliceDataset shapes: ((8,), (1,)), types: (tf.int64, tf.int32)>, <TensorSliceDataset shapes: ((8,), (1,)), types: (tf.int64, tf.int32)>, <TensorSliceDataset shapes: ((8,), (1,)), types: (tf.int64, tf.int32)>, <TensorSliceDataset shapes: ((8,), (1,)), types: (tf.int64, tf.int32)>, <TensorSliceDataset shapes: ((8,), (1,)), types: (tf.int64, tf.int32)>, <TensorSliceDataset shapes: ((8,), (1,)), types: (tf.int64, tf.int32)>, <TensorSliceDataset shapes: ((8,), (1,)), types: (tf.int64, tf.int32)>, <TensorSliceDataset shapes: ((8,), (1,)), types: (tf.int64, tf.int32)>, <TensorSliceDataset shapes: ((8,), (1,)), types: (tf.int64, tf.int32)>, <TensorSliceDataset shapes: ((8,), (1,)), types: (tf.int64, tf.int32)>, <TensorSliceDataset shapes: ((8,), (1,)), types: (tf.int64, tf.int32)>, <TensorSliceDataset shapes: ((8,), (1,)), types: (tf.int64, tf.int32)>, <TensorSliceDataset shapes: ((8,), (1,)), types: (tf.int64, tf.int32)>, <TensorSliceDataset shapes: ((8,), (1,)), types: (tf.int64, tf.int32)>, <TensorSliceDataset shapes: ((8,), (1,)), types: (tf.int64, tf.int32)>, <TensorSliceDataset shapes: ((8,), (1,)), types: (tf.int64, tf.int32)>, <TensorSliceDataset shapes: ((8,), (1,)), types: (tf.int64, tf.int32)>, <TensorSliceDataset shapes: ((8,), (1,)), types: (tf.int64, tf.int32)>, <TensorSliceDataset shapes: ((8,), (1,)), types: (tf.int64, tf.int32)>, <TensorSliceDataset shapes: ((8,), (1,)), types: (tf.int64, tf.int32)>, <TensorSliceDataset shapes: ((8,), (1,)), types: (tf.int64, tf.int32)>, <TensorSliceDataset shapes: ((8,), (1,)), types: (tf.int64, tf.int32)>, <TensorSliceDataset shapes: ((8,), (1,)), types: (tf.int64, tf.int32)>, <TensorSliceDataset shapes: ((8,), (1,)), types: (tf.int64, tf.int32)>, <TensorSliceDataset shapes: ((8,), (1,)), types: (tf.int64, tf.int32)>, <TensorSliceDataset shapes: ((8,), (1,)), types: (tf.int64, tf.int32)>, <TensorSliceDataset shapes: ((8,), (1,)), types: (tf.int64, tf.int32)>, <TensorSliceDataset shapes: ((8,), (1,)), types: (tf.int64, tf.int32)>, <TensorSliceDataset shapes: ((8,), (1,)), types: (tf.int64, tf.int32)>, <TensorSliceDataset shapes: ((8,), (1,)), types: (tf.int64, tf.int32)>, <TensorSliceDataset shapes: ((8,), (1,)), types: (tf.int64, tf.int32)>, <TensorSliceDataset shapes: ((8,), (1,)), types: (tf.int64, tf.int32)>, <TensorSliceDataset shapes: ((8,), (1,)), types: (tf.int64, tf.int32)>, <TensorSliceDataset shapes: ((8,), (1,)), types: (tf.int64, tf.int32)>, <TensorSliceDataset shapes: ((8,), (1,)), types: (tf.int64, tf.int32)>, <TensorSliceDataset shapes: ((8,), (1,)), types: (tf.int64, tf.int32)>, <TensorSliceDataset shapes: ((8,), (1,)), types: (tf.int64, tf.int32)>, <TensorSliceDataset shapes: ((8,), (1,)), types: (tf.int64, tf.int32)>, <TensorSliceDataset shapes: ((8,), (1,)), types: (tf.int64, tf.int32)>, <TensorSliceDataset shapes: ((8,), (1,)), types: (tf.int64, tf.int32)>, <TensorSliceDataset shapes: ((8,), (1,)), types: (tf.int64, tf.int32)>, <TensorSliceDataset shapes: ((8,), (1,)), types: (tf.int64, tf.int32)>, <TensorSliceDataset shapes: ((8,), (1,)), types: (tf.int64, tf.int32)>, <TensorSliceDataset shapes: ((8,), (1,)), types: (tf.int64, tf.int32)>, <TensorSliceDataset shapes: ((8,), (1,)), types: (tf.int64, tf.int32)>, <TensorSliceDataset shapes: ((8,), (1,)), types: (tf.int64, tf.int32)>, <TensorSliceDataset shapes: ((8,), (1,)), types: (tf.int64, tf.int32)>, <TensorSliceDataset shapes: ((8,), (1,)), types: (tf.int64, tf.int32)>, <TensorSliceDataset shapes: ((8,), (1,)), types: (tf.int64, tf.int32)>, <TensorSliceDataset shapes: ((8,), (1,)), types: (tf.int64, tf.int32)>, <TensorSliceDataset shapes: ((8,), (1,)), types: (tf.int64, tf.int32)>, <TensorSliceDataset shapes: ((8,), (1,)), types: (tf.int64, tf.int32)>, <TensorSliceDataset shapes: ((8,), (1,)), types: (tf.int64, tf.int32)>, <TensorSliceDataset shapes: ((8,), (1,)), types: (tf.int64, tf.int32)>, <TensorSliceDataset shapes: ((8,), (1,)), types: (tf.int64, tf.int32)>, <TensorSliceDataset shapes: ((8,), (1,)), types: (tf.int64, tf.int32)>, <TensorSliceDataset shapes: ((8,), (1,)), types: (tf.int64, tf.int32)>, <TensorSliceDataset shapes: ((8,), (1,)), types: (tf.int64, tf.int32)>, <TensorSliceDataset shapes: ((8,), (1,)), types: (tf.int64, tf.int32)>, <TensorSliceDataset shapes: ((8,), (1,)), types: (tf.int64, tf.int32)>, <TensorSliceDataset shapes: ((8,), (1,)), types: (tf.int64, tf.int32)>, <TensorSliceDataset shapes: ((8,), (1,)), types: (tf.int64, tf.int32)>, <TensorSliceDataset shapes: ((8,), (1,)), types: (tf.int64, tf.int32)>, <TensorSliceDataset shapes: ((8,), (1,)), types: (tf.int64, tf.int32)>, <TensorSliceDataset shapes: ((8,), (1,)), types: (tf.int64, tf.int32)>, <TensorSliceDataset shapes: ((8,), (1,)), types: (tf.int64, tf.int32)>, <TensorSliceDataset shapes: ((8,), (1,)), types: (tf.int64, tf.int32)>, <TensorSliceDataset shapes: ((8,), (1,)), types: (tf.int64, tf.int32)>, <TensorSliceDataset shapes: ((8,), (1,)), types: (tf.int64, tf.int32)>, <TensorSliceDataset shapes: ((8,), (1,)), types: (tf.int64, tf.int32)>, <TensorSliceDataset shapes: ((8,), (1,)), types: (tf.int64, tf.int32)>, <TensorSliceDataset shapes: ((8,), (1,)), types: (tf.int64, tf.int32)>, <TensorSliceDataset shapes: ((8,), (1,)), types: (tf.int64, tf.int32)>, <TensorSliceDataset shapes: ((8,), (1,)), types: (tf.int64, tf.int32)>, <TensorSliceDataset shapes: ((8,), (1,)), types: (tf.int64, tf.int32)>, <TensorSliceDataset shapes: ((8,), (1,)), types: (tf.int64, tf.int32)>, <TensorSliceDataset shapes: ((8,), (1,)), types: (tf.int64, tf.int32)>, <TensorSliceDataset shapes: ((8,), (1,)), types: (tf.int64, tf.int32)>, <TensorSliceDataset shapes: ((8,), (1,)), types: (tf.int64, tf.int32)>, <TensorSliceDataset shapes: ((8,), (1,)), types: (tf.int64, tf.int32)>, <TensorSliceDataset shapes: ((8,), (1,)), types: (tf.int64, tf.int32)>, <TensorSliceDataset shapes: ((8,), (1,)), types: (tf.int64, tf.int32)>, <TensorSliceDataset shapes: ((8,), (1,)), types: (tf.int64, tf.int32)>, <TensorSliceDataset shapes: ((8,), (1,)), types: (tf.int64, tf.int32)>, <TensorSliceDataset shapes: ((8,), (1,)), types: (tf.int64, tf.int32)>, <TensorSliceDataset shapes: ((8,), (1,)), types: (tf.int64, tf.int32)>, <TensorSliceDataset shapes: ((8,), (1,)), types: (tf.int64, tf.int32)>, <TensorSliceDataset shapes: ((8,), (1,)), types: (tf.int64, tf.int32)>, <TensorSliceDataset shapes: ((8,), (1,)), types: (tf.int64, tf.int32)>, <TensorSliceDataset shapes: ((8,), (1,)), types: (tf.int64, tf.int32)>, <TensorSliceDataset shapes: ((8,), (1,)), types: (tf.int64, tf.int32)>, <TensorSliceDataset shapes: ((8,), (1,)), types: (tf.int64, tf.int32)>, <TensorSliceDataset shapes: ((8,), (1,)), types: (tf.int64, tf.int32)>, <TensorSliceDataset shapes: ((8,), (1,)), types: (tf.int64, tf.int32)>, <TensorSliceDataset shapes: ((8,), (1,)), types: (tf.int64, tf.int32)>, <TensorSliceDataset shapes: ((8,), (1,)), types: (tf.int64, tf.int32)>, <TensorSliceDataset shapes: ((8,), (1,)), types: (tf.int64, tf.int32)>, <TensorSliceDataset shapes: ((8,), (1,)), types: (tf.int64, tf.int32)>, <TensorSliceDataset shapes: ((8,), (1,)), types: (tf.int64, tf.int32)>, <TensorSliceDataset shapes: ((8,), (1,)), types: (tf.int64, tf.int32)>, <TensorSliceDataset shapes: ((8,), (1,)), types: (tf.int64, tf.int32)>, <TensorSliceDataset shapes: ((8,), (1,)), types: (tf.int64, tf.int32)>, <TensorSliceDataset shapes: ((8,), (1,)), types: (tf.int64, tf.int32)>, <TensorSliceDataset shapes: ((8,), (1,)), types: (tf.int64, tf.int32)>, <TensorSliceDataset shapes: ((8,), (1,)), types: (tf.int64, tf.int32)>, <TensorSliceDataset shapes: ((8,), (1,)), types: (tf.int64, tf.int32)>, <TensorSliceDataset shapes: ((8,), (1,)), types: (tf.int64, tf.int32)>, <TensorSliceDataset shapes: ((8,), (1,)), types: (tf.int64, tf.int32)>, <TensorSliceDataset shapes: ((8,), (1,)), types: (tf.int64, tf.int32)>, <TensorSliceDataset shapes: ((8,), (1,)), types: (tf.int64, tf.int32)>, <TensorSliceDataset shapes: ((8,), (1,)), types: (tf.int64, tf.int32)>, <TensorSliceDataset shapes: ((8,), (1,)), types: (tf.int64, tf.int32)>, <TensorSliceDataset shapes: ((8,), (1,)), types: (tf.int64, tf.int32)>, <TensorSliceDataset shapes: ((8,), (1,)), types: (tf.int64, tf.int32)>, <TensorSliceDataset shapes: ((8,), (1,)), types: (tf.int64, tf.int32)>, <TensorSliceDataset shapes: ((8,), (1,)), types: (tf.int64, tf.int32)>, <TensorSliceDataset shapes: ((8,), (1,)), types: (tf.int64, tf.int32)>, <TensorSliceDataset shapes: ((8,), (1,)), types: (tf.int64, tf.int32)>, <TensorSliceDataset shapes: ((8,), (1,)), types: (tf.int64, tf.int32)>, <TensorSliceDataset shapes: ((8,), (1,)), types: (tf.int64, tf.int32)>, <TensorSliceDataset shapes: ((8,), (1,)), types: (tf.int64, tf.int32)>, <TensorSliceDataset shapes: ((8,), (1,)), types: (tf.int64, tf.int32)>, <TensorSliceDataset shapes: ((8,), (1,)), types: (tf.int64, tf.int32)>, <TensorSliceDataset shapes: ((8,), (1,)), types: (tf.int64, tf.int32)>, <TensorSliceDataset shapes: ((8,), (1,)), types: (tf.int64, tf.int32)>, <TensorSliceDataset shapes: ((8,), (1,)), types: (tf.int64, tf.int32)>, <TensorSliceDataset shapes: ((8,), (1,)), types: (tf.int64, tf.int32)>, <TensorSliceDataset shapes: ((8,), (1,)), types: (tf.int64, tf.int32)>, <TensorSliceDataset shapes: ((8,), (1,)), types: (tf.int64, tf.int32)>, <TensorSliceDataset shapes: ((8,), (1,)), types: (tf.int64, tf.int32)>, <TensorSliceDataset shapes: ((8,), (1,)), types: (tf.int64, tf.int32)>, <TensorSliceDataset shapes: ((8,), (1,)), types: (tf.int64, tf.int32)>, <TensorSliceDataset shapes: ((8,), (1,)), types: (tf.int64, tf.int32)>, <TensorSliceDataset shapes: ((8,), (1,)), types: (tf.int64, tf.int32)>, <TensorSliceDataset shapes: ((8,), (1,)), types: (tf.int64, tf.int32)>, <TensorSliceDataset shapes: ((8,), (1,)), types: (tf.int64, tf.int32)>, <TensorSliceDataset shapes: ((8,), (1,)), types: (tf.int64, tf.int32)>, <TensorSliceDataset shapes: ((8,), (1,)), types: (tf.int64, tf.int32)>, <TensorSliceDataset shapes: ((8,), (1,)), types: (tf.int64, tf.int32)>, <TensorSliceDataset shapes: ((8,), (1,)), types: (tf.int64, tf.int32)>, <TensorSliceDataset shapes: ((8,), (1,)), types: (tf.int64, tf.int32)>, <TensorSliceDataset shapes: ((8,), (1,)), types: (tf.int64, tf.int32)>, <TensorSliceDataset shapes: ((8,), (1,)), types: (tf.int64, tf.int32)>, <TensorSliceDataset shapes: ((8,), (1,)), types: (tf.int64, tf.int32)>, <TensorSliceDataset shapes: ((8,), (1,)), types: (tf.int64, tf.int32)>, <TensorSliceDataset shapes: ((8,), (1,)), types: (tf.int64, tf.int32)>, <TensorSliceDataset shapes: ((8,), (1,)), types: (tf.int64, tf.int32)>, <TensorSliceDataset shapes: ((8,), (1,)), types: (tf.int64, tf.int32)>, <TensorSliceDataset shapes: ((8,), (1,)), types: (tf.int64, tf.int32)>, <TensorSliceDataset shapes: ((8,), (1,)), types: (tf.int64, tf.int32)>, <TensorSliceDataset shapes: ((8,), (1,)), types: (tf.int64, tf.int32)>, <TensorSliceDataset shapes: ((8,), (1,)), types: (tf.int64, tf.int32)>, <TensorSliceDataset shapes: ((8,), (1,)), types: (tf.int64, tf.int32)>, <TensorSliceDataset shapes: ((8,), (1,)), types: (tf.int64, tf.int32)>, <TensorSliceDataset shapes: ((8,), (1,)), types: (tf.int64, tf.int32)>, <TensorSliceDataset shapes: ((8,), (1,)), types: (tf.int64, tf.int32)>, <TensorSliceDataset shapes: ((8,), (1,)), types: (tf.int64, tf.int32)>, <TensorSliceDataset shapes: ((8,), (1,)), types: (tf.int64, tf.int32)>, <TensorSliceDataset shapes: ((8,), (1,)), types: (tf.int64, tf.int32)>, <TensorSliceDataset shapes: ((8,), (1,)), types: (tf.int64, tf.int32)>, <TensorSliceDataset shapes: ((8,), (1,)), types: (tf.int64, tf.int32)>, <TensorSliceDataset shapes: ((8,), (1,)), types: (tf.int64, tf.int32)>, <TensorSliceDataset shapes: ((8,), (1,)), types: (tf.int64, tf.int32)>, <TensorSliceDataset shapes: ((8,), (1,)), types: (tf.int64, tf.int32)>, <TensorSliceDataset shapes: ((8,), (1,)), types: (tf.int64, tf.int32)>, <TensorSliceDataset shapes: ((8,), (1,)), types: (tf.int64, tf.int32)>, <TensorSliceDataset shapes: ((8,), (1,)), types: (tf.int64, tf.int32)>, <TensorSliceDataset shapes: ((8,), (1,)), types: (tf.int64, tf.int32)>, <TensorSliceDataset shapes: ((8,), (1,)), types: (tf.int64, tf.int32)>, <TensorSliceDataset shapes: ((8,), (1,)), types: (tf.int64, tf.int32)>, <TensorSliceDataset shapes: ((8,), (1,)), types: (tf.int64, tf.int32)>, <TensorSliceDataset shapes: ((8,), (1,)), types: (tf.int64, tf.int32)>, <TensorSliceDataset shapes: ((8,), (1,)), types: (tf.int64, tf.int32)>, <TensorSliceDataset shapes: ((8,), (1,)), types: (tf.int64, tf.int32)>, <TensorSliceDataset shapes: ((8,), (1,)), types: (tf.int64, tf.int32)>, <TensorSliceDataset shapes: ((8,), (1,)), types: (tf.int64, tf.int32)>, <TensorSliceDataset shapes: ((8,), (1,)), types: (tf.int64, tf.int32)>, <TensorSliceDataset shapes: ((8,), (1,)), types: (tf.int64, tf.int32)>, <TensorSliceDataset shapes: ((8,), (1,)), types: (tf.int64, tf.int32)>, <TensorSliceDataset shapes: ((8,), (1,)), types: (tf.int64, tf.int32)>, <TensorSliceDataset shapes: ((8,), (1,)), types: (tf.int64, tf.int32)>, <TensorSliceDataset shapes: ((8,), (1,)), types: (tf.int64, tf.int32)>, <TensorSliceDataset shapes: ((8,), (1,)), types: (tf.int64, tf.int32)>, <TensorSliceDataset shapes: ((8,), (1,)), types: (tf.int64, tf.int32)>, <TensorSliceDataset shapes: ((8,), (1,)), types: (tf.int64, tf.int32)>, <TensorSliceDataset shapes: ((8,), (1,)), types: (tf.int64, tf.int32)>, <TensorSliceDataset shapes: ((8,), (1,)), types: (tf.int64, tf.int32)>, <TensorSliceDataset shapes: ((8,), (1,)), types: (tf.int64, tf.int32)>, <TensorSliceDataset shapes: ((8,), (1,)), types: (tf.int64, tf.int32)>, <TensorSliceDataset shapes: ((8,), (1,)), types: (tf.int64, tf.int32)>, <TensorSliceDataset shapes: ((8,), (1,)), types: (tf.int64, tf.int32)>, <TensorSliceDataset shapes: ((8,), (1,)), types: (tf.int64, tf.int32)>, <TensorSliceDataset shapes: ((8,), (1,)), types: (tf.int64, tf.int32)>, <TensorSliceDataset shapes: ((8,), (1,)), types: (tf.int64, tf.int32)>, <TensorSliceDataset shapes: ((8,), (1,)), types: (tf.int64, tf.int32)>, <TensorSliceDataset shapes: ((8,), (1,)), types: (tf.int64, tf.int32)>, <TensorSliceDataset shapes: ((8,), (1,)), types: (tf.int64, tf.int32)>, <TensorSliceDataset shapes: ((8,), (1,)), types: (tf.int64, tf.int32)>, <TensorSliceDataset shapes: ((8,), (1,)), types: (tf.int64, tf.int32)>, <TensorSliceDataset shapes: ((8,), (1,)), types: (tf.int64, tf.int32)>, <TensorSliceDataset shapes: ((8,), (1,)), types: (tf.int64, tf.int32)>, <TensorSliceDataset shapes: ((8,), (1,)), types: (tf.int64, tf.int32)>, <TensorSliceDataset shapes: ((8,), (1,)), types: (tf.int64, tf.int32)>, <TensorSliceDataset shapes: ((8,), (1,)), types: (tf.int64, tf.int32)>, <TensorSliceDataset shapes: ((8,), (1,)), types: (tf.int64, tf.int32)>, <TensorSliceDataset shapes: ((8,), (1,)), types: (tf.int64, tf.int32)>, <TensorSliceDataset shapes: ((8,), (1,)), types: (tf.int64, tf.int32)>, <TensorSliceDataset shapes: ((8,), (1,)), types: (tf.int64, tf.int32)>, <TensorSliceDataset shapes: ((8,), (1,)), types: (tf.int64, tf.int32)>, <TensorSliceDataset shapes: ((8,), (1,)), types: (tf.int64, tf.int32)>, <TensorSliceDataset shapes: ((8,), (1,)), types: (tf.int64, tf.int32)>, <TensorSliceDataset shapes: ((8,), (1,)), types: (tf.int64, tf.int32)>, <TensorSliceDataset shapes: ((8,), (1,)), types: (tf.int64, tf.int32)>, <TensorSliceDataset shapes: ((8,), (1,)), types: (tf.int64, tf.int32)>, <TensorSliceDataset shapes: ((8,), (1,)), types: (tf.int64, tf.int32)>, <TensorSliceDataset shapes: ((8,), (1,)), types: (tf.int64, tf.int32)>, <TensorSliceDataset shapes: ((8,), (1,)), types: (tf.int64, tf.int32)>, <TensorSliceDataset shapes: ((8,), (1,)), types: (tf.int64, tf.int32)>, <TensorSliceDataset shapes: ((8,), (1,)), types: (tf.int64, tf.int32)>, <TensorSliceDataset shapes: ((8,), (1,)), types: (tf.int64, tf.int32)>, <TensorSliceDataset shapes: ((8,), (1,)), types: (tf.int64, tf.int32)>, <TensorSliceDataset shapes: ((8,), (1,)), types: (tf.int64, tf.int32)>, <TensorSliceDataset shapes: ((8,), (1,)), types: (tf.int64, tf.int32)>, <TensorSliceDataset shapes: ((8,), (1,)), types: (tf.int64, tf.int32)>, <TensorSliceDataset shapes: ((8,), (1,)), types: (tf.int64, tf.int32)>, <TensorSliceDataset shapes: ((8,), (1,)), types: (tf.int64, tf.int32)>, <TensorSliceDataset shapes: ((8,), (1,)), types: (tf.int64, tf.int32)>, <TensorSliceDataset shapes: ((8,), (1,)), types: (tf.int64, tf.int32)>, <TensorSliceDataset shapes: ((8,), (1,)), types: (tf.int64, tf.int32)>, <TensorSliceDataset shapes: ((8,), (1,)), types: (tf.int64, tf.int32)>, <TensorSliceDataset shapes: ((8,), (1,)), types: (tf.int64, tf.int32)>, <TensorSliceDataset shapes: ((8,), (1,)), types: (tf.int64, tf.int32)>, <TensorSliceDataset shapes: ((8,), (1,)), types: (tf.int64, tf.int32)>, <TensorSliceDataset shapes: ((8,), (1,)), types: (tf.int64, tf.int32)>, <TensorSliceDataset shapes: ((8,), (1,)), types: (tf.int64, tf.int32)>, <TensorSliceDataset shapes: ((8,), (1,)), types: (tf.int64, tf.int32)>, <TensorSliceDataset shapes: ((8,), (1,)), types: (tf.int64, tf.int32)>, <TensorSliceDataset shapes: ((8,), (1,)), types: (tf.int64, tf.int32)>, <TensorSliceDataset shapes: ((8,), (1,)), types: (tf.int64, tf.int32)>, <TensorSliceDataset shapes: ((8,), (1,)), types: (tf.int64, tf.int32)>, <TensorSliceDataset shapes: ((8,), (1,)), types: (tf.int64, tf.int32)>, <TensorSliceDataset shapes: ((8,), (1,)), types: (tf.int64, tf.int32)>, <TensorSliceDataset shapes: ((8,), (1,)), types: (tf.int64, tf.int32)>, <TensorSliceDataset shapes: ((8,), (1,)), types: (tf.int64, tf.int32)>, <TensorSliceDataset shapes: ((8,), (1,)), types: (tf.int64, tf.int32)>, <TensorSliceDataset shapes: ((8,), (1,)), types: (tf.int64, tf.int32)>, <TensorSliceDataset shapes: ((8,), (1,)), types: (tf.int64, tf.int32)>, <TensorSliceDataset shapes: ((8,), (1,)), types: (tf.int64, tf.int32)>, <TensorSliceDataset shapes: ((8,), (1,)), types: (tf.int64, tf.int32)>, <TensorSliceDataset shapes: ((8,), (1,)), types: (tf.int64, tf.int32)>, <TensorSliceDataset shapes: ((8,), (1,)), types: (tf.int64, tf.int32)>, <TensorSliceDataset shapes: ((8,), (1,)), types: (tf.int64, tf.int32)>, <TensorSliceDataset shapes: ((8,), (1,)), types: (tf.int64, tf.int32)>, <TensorSliceDataset shapes: ((8,), (1,)), types: (tf.int64, tf.int32)>, <TensorSliceDataset shapes: ((8,), (1,)), types: (tf.int64, tf.int32)>, <TensorSliceDataset shapes: ((8,), (1,)), types: (tf.int64, tf.int32)>, <TensorSliceDataset shapes: ((8,), (1,)), types: (tf.int64, tf.int32)>, <TensorSliceDataset shapes: ((8,), (1,)), types: (tf.int64, tf.int32)>, <TensorSliceDataset shapes: ((8,), (1,)), types: (tf.int64, tf.int32)>, <TensorSliceDataset shapes: ((8,), (1,)), types: (tf.int64, tf.int32)>, <TensorSliceDataset shapes: ((8,), (1,)), types: (tf.int64, tf.int32)>, <TensorSliceDataset shapes: ((8,), (1,)), types: (tf.int64, tf.int32)>, <TensorSliceDataset shapes: ((8,), (1,)), types: (tf.int64, tf.int32)>, <TensorSliceDataset shapes: ((8,), (1,)), types: (tf.int64, tf.int32)>, <TensorSliceDataset shapes: ((8,), (1,)), types: (tf.int64, tf.int32)>, <TensorSliceDataset shapes: ((8,), (1,)), types: (tf.int64, tf.int32)>, <TensorSliceDataset shapes: ((8,), (1,)), types: (tf.int64, tf.int32)>, <TensorSliceDataset shapes: ((8,), (1,)), types: (tf.int64, tf.int32)>, <TensorSliceDataset shapes: ((8,), (1,)), types: (tf.int64, tf.int32)>, <TensorSliceDataset shapes: ((8,), (1,)), types: (tf.int64, tf.int32)>, <TensorSliceDataset shapes: ((8,), (1,)), types: (tf.int64, tf.int32)>, <TensorSliceDataset shapes: ((8,), (1,)), types: (tf.int64, tf.int32)>, <TensorSliceDataset shapes: ((8,), (1,)), types: (tf.int64, tf.int32)>, <TensorSliceDataset shapes: ((8,), (1,)), types: (tf.int64, tf.int32)>, <TensorSliceDataset shapes: ((8,), (1,)), types: (tf.int64, tf.int32)>, <TensorSliceDataset shapes: ((8,), (1,)), types: (tf.int64, tf.int32)>, <TensorSliceDataset shapes: ((8,), (1,)), types: (tf.int64, tf.int32)>, <TensorSliceDataset shapes: ((8,), (1,)), types: (tf.int64, tf.int32)>, <TensorSliceDataset shapes: ((8,), (1,)), types: (tf.int64, tf.int32)>, <TensorSliceDataset shapes: ((8,), (1,)), types: (tf.int64, tf.int32)>, <TensorSliceDataset shapes: ((8,), (1,)), types: (tf.int64, tf.int32)>, <TensorSliceDataset shapes: ((8,), (1,)), types: (tf.int64, tf.int32)>, <TensorSliceDataset shapes: ((8,), (1,)), types: (tf.int64, tf.int32)>, <TensorSliceDataset shapes: ((8,), (1,)), types: (tf.int64, tf.int32)>, <TensorSliceDataset shapes: ((8,), (1,)), types: (tf.int64, tf.int32)>, <TensorSliceDataset shapes: ((8,), (1,)), types: (tf.int64, tf.int32)>, <TensorSliceDataset shapes: ((8,), (1,)), types: (tf.int64, tf.int32)>, <TensorSliceDataset shapes: ((8,), (1,)), types: (tf.int64, tf.int32)>, <TensorSliceDataset shapes: ((8,), (1,)), types: (tf.int64, tf.int32)>, <TensorSliceDataset shapes: ((8,), (1,)), types: (tf.int64, tf.int32)>, <TensorSliceDataset shapes: ((8,), (1,)), types: (tf.int64, tf.int32)>, <TensorSliceDataset shapes: ((8,), (1,)), types: (tf.int64, tf.int32)>, <TensorSliceDataset shapes: ((8,), (1,)), types: (tf.int64, tf.int32)>, <TensorSliceDataset shapes: ((8,), (1,)), types: (tf.int64, tf.int32)>, <TensorSliceDataset shapes: ((8,), (1,)), types: (tf.int64, tf.int32)>, <TensorSliceDataset shapes: ((8,), (1,)), types: (tf.int64, tf.int32)>, <TensorSliceDataset shapes: ((8,), (1,)), types: (tf.int64, tf.int32)>, <TensorSliceDataset shapes: ((8,), (1,)), types: (tf.int64, tf.int32)>, <TensorSliceDataset shapes: ((8,), (1,)), types: (tf.int64, tf.int32)>, <TensorSliceDataset shapes: ((8,), (1,)), types: (tf.int64, tf.int32)>, <TensorSliceDataset shapes: ((8,), (1,)), types: (tf.int64, tf.int32)>, <TensorSliceDataset shapes: ((8,), (1,)), types: (tf.int64, tf.int32)>, <TensorSliceDataset shapes: ((8,), (1,)), types: (tf.int64, tf.int32)>, <TensorSliceDataset shapes: ((8,), (1,)), types: (tf.int64, tf.int32)>, <TensorSliceDataset shapes: ((8,), (1,)), types: (tf.int64, tf.int32)>, <TensorSliceDataset shapes: ((8,), (1,)), types: (tf.int64, tf.int32)>, <TensorSliceDataset shapes: ((8,), (1,)), types: (tf.int64, tf.int32)>, <TensorSliceDataset shapes: ((8,), (1,)), types: (tf.int64, tf.int32)>, <TensorSliceDataset shapes: ((8,), (1,)), types: (tf.int64, tf.int32)>, <TensorSliceDataset shapes: ((8,), (1,)), types: (tf.int64, tf.int32)>, <TensorSliceDataset shapes: ((8,), (1,)), types: (tf.int64, tf.int32)>, <TensorSliceDataset shapes: ((8,), (1,)), types: (tf.int64, tf.int32)>, <TensorSliceDataset shapes: ((8,), (1,)), types: (tf.int64, tf.int32)>, <TensorSliceDataset shapes: ((8,), (1,)), types: (tf.int64, tf.int32)>, <TensorSliceDataset shapes: ((8,), (1,)), types: (tf.int64, tf.int32)>, <TensorSliceDataset shapes: ((8,), (1,)), types: (tf.int64, tf.int32)>, <TensorSliceDataset shapes: ((8,), (1,)), types: (tf.int64, tf.int32)>, <TensorSliceDataset shapes: ((8,), (1,)), types: (tf.int64, tf.int32)>, <TensorSliceDataset shapes: ((8,), (1,)), types: (tf.int64, tf.int32)>, <TensorSliceDataset shapes: ((8,), (1,)), types: (tf.int64, tf.int32)>, <TensorSliceDataset shapes: ((8,), (1,)), types: (tf.int64, tf.int32)>, <TensorSliceDataset shapes: ((8,), (1,)), types: (tf.int64, tf.int32)>, <TensorSliceDataset shapes: ((8,), (1,)), types: (tf.int64, tf.int32)>, <TensorSliceDataset shapes: ((8,), (1,)), types: (tf.int64, tf.int32)>, <TensorSliceDataset shapes: ((8,), (1,)), types: (tf.int64, tf.int32)>, <TensorSliceDataset shapes: ((8,), (1,)), types: (tf.int64, tf.int32)>, <TensorSliceDataset shapes: ((8,), (1,)), types: (tf.int64, tf.int32)>, <TensorSliceDataset shapes: ((8,), (1,)), types: (tf.int64, tf.int32)>, <TensorSliceDataset shapes: ((8,), (1,)), types: (tf.int64, tf.int32)>, <TensorSliceDataset shapes: ((8,), (1,)), types: (tf.int64, tf.int32)>, <TensorSliceDataset shapes: ((8,), (1,)), types: (tf.int64, tf.int32)>, <TensorSliceDataset shapes: ((8,), (1,)), types: (tf.int64, tf.int32)>, <TensorSliceDataset shapes: ((8,), (1,)), types: (tf.int64, tf.int32)>, <TensorSliceDataset shapes: ((8,), (1,)), types: (tf.int64, tf.int32)>, <TensorSliceDataset shapes: ((8,), (1,)), types: (tf.int64, tf.int32)>, <TensorSliceDataset shapes: ((8,), (1,)), types: (tf.int64, tf.int32)>, <TensorSliceDataset shapes: ((8,), (1,)), types: (tf.int64, tf.int32)>, <TensorSliceDataset shapes: ((8,), (1,)), types: (tf.int64, tf.int32)>, <TensorSliceDataset shapes: ((8,), (1,)), types: (tf.int64, tf.int32)>, <TensorSliceDataset shapes: ((8,), (1,)), types: (tf.int64, tf.int32)>, <TensorSliceDataset shapes: ((8,), (1,)), types: (tf.int64, tf.int32)>, <TensorSliceDataset shapes: ((8,), (1,)), types: (tf.int64, tf.int32)>, <TensorSliceDataset shapes: ((8,), (1,)), types: (tf.int64, tf.int32)>, <TensorSliceDataset shapes: ((8,), (1,)), types: (tf.int64, tf.int32)>, <TensorSliceDataset shapes: ((8,), (1,)), types: (tf.int64, tf.int32)>, <TensorSliceDataset shapes: ((8,), (1,)), types: (tf.int64, tf.int32)>, <TensorSliceDataset shapes: ((8,), (1,)), types: (tf.int64, tf.int32)>, <TensorSliceDataset shapes: ((8,), (1,)), types: (tf.int64, tf.int32)>, <TensorSliceDataset shapes: ((8,), (1,)), types: (tf.int64, tf.int32)>, <TensorSliceDataset shapes: ((8,), (1,)), types: (tf.int64, tf.int32)>, <TensorSliceDataset shapes: ((8,), (1,)), types: (tf.int64, tf.int32)>, <TensorSliceDataset shapes: ((8,), (1,)), types: (tf.int64, tf.int32)>, <TensorSliceDataset shapes: ((8,), (1,)), types: (tf.int64, tf.int32)>, <TensorSliceDataset shapes: ((8,), (1,)), types: (tf.int64, tf.int32)>, <TensorSliceDataset shapes: ((8,), (1,)), types: (tf.int64, tf.int32)>, <TensorSliceDataset shapes: ((8,), (1,)), types: (tf.int64, tf.int32)>, <TensorSliceDataset shapes: ((8,), (1,)), types: (tf.int64, tf.int32)>, <TensorSliceDataset shapes: ((8,), (1,)), types: (tf.int64, tf.int32)>, <TensorSliceDataset shapes: ((8,), (1,)), types: (tf.int64, tf.int32)>, <TensorSliceDataset shapes: ((8,), (1,)), types: (tf.int64, tf.int32)>, <TensorSliceDataset shapes: ((8,), (1,)), types: (tf.int64, tf.int32)>, <TensorSliceDataset shapes: ((8,), (1,)), types: (tf.int64, tf.int32)>, <TensorSliceDataset shapes: ((8,), (1,)), types: (tf.int64, tf.int32)>, <TensorSliceDataset shapes: ((8,), (1,)), types: (tf.int64, tf.int32)>, <TensorSliceDataset shapes: ((8,), (1,)), types: (tf.int64, tf.int32)>, <TensorSliceDataset shapes: ((8,), (1,)), types: (tf.int64, tf.int32)>, <TensorSliceDataset shapes: ((8,), (1,)), types: (tf.int64, tf.int32)>, <TensorSliceDataset shapes: ((8,), (1,)), types: (tf.int64, tf.int32)>, <TensorSliceDataset shapes: ((8,), (1,)), types: (tf.int64, tf.int32)>, <TensorSliceDataset shapes: ((8,), (1,)), types: (tf.int64, tf.int32)>, <TensorSliceDataset shapes: ((8,), (1,)), types: (tf.int64, tf.int32)>, <TensorSliceDataset shapes: ((8,), (1,)), types: (tf.int64, tf.int32)>, <TensorSliceDataset shapes: ((8,), (1,)), types: (tf.int64, tf.int32)>, <TensorSliceDataset shapes: ((8,), (1,)), types: (tf.int64, tf.int32)>, <TensorSliceDataset shapes: ((8,), (1,)), types: (tf.int64, tf.int32)>, <TensorSliceDataset shapes: ((8,), (1,)), types: (tf.int64, tf.int32)>, <TensorSliceDataset shapes: ((8,), (1,)), types: (tf.int64, tf.int32)>, <TensorSliceDataset shapes: ((8,), (1,)), types: (tf.int64, tf.int32)>, <TensorSliceDataset shapes: ((8,), (1,)), types: (tf.int64, tf.int32)>, <TensorSliceDataset shapes: ((8,), (1,)), types: (tf.int64, tf.int32)>, <TensorSliceDataset shapes: ((8,), (1,)), types: (tf.int64, tf.int32)>, <TensorSliceDataset shapes: ((8,), (1,)), types: (tf.int64, tf.int32)>, <TensorSliceDataset shapes: ((8,), (1,)), types: (tf.int64, tf.int32)>, <TensorSliceDataset shapes: ((8,), (1,)), types: (tf.int64, tf.int32)>, <TensorSliceDataset shapes: ((8,), (1,)), types: (tf.int64, tf.int32)>, <TensorSliceDataset shapes: ((8,), (1,)), types: (tf.int64, tf.int32)>, <TensorSliceDataset shapes: ((8,), (1,)), types: (tf.int64, tf.int32)>, <TensorSliceDataset shapes: ((8,), (1,)), types: (tf.int64, tf.int32)>, <TensorSliceDataset shapes: ((8,), (1,)), types: (tf.int64, tf.int32)>, <TensorSliceDataset shapes: ((8,), (1,)), types: (tf.int64, tf.int32)>, <TensorSliceDataset shapes: ((8,), (1,)), types: (tf.int64, tf.int32)>, <TensorSliceDataset shapes: ((8,), (1,)), types: (tf.int64, tf.int32)>, <TensorSliceDataset shapes: ((8,), (1,)), types: (tf.int64, tf.int32)>, <TensorSliceDataset shapes: ((8,), (1,)), types: (tf.int64, tf.int32)>, <TensorSliceDataset shapes: ((8,), (1,)), types: (tf.int64, tf.int32)>, <TensorSliceDataset shapes: ((8,), (1,)), types: (tf.int64, tf.int32)>, <TensorSliceDataset shapes: ((8,), (1,)), types: (tf.int64, tf.int32)>, <TensorSliceDataset shapes: ((8,), (1,)), types: (tf.int64, tf.int32)>, <TensorSliceDataset shapes: ((8,), (1,)), types: (tf.int64, tf.int32)>, <TensorSliceDataset shapes: ((8,), (1,)), types: (tf.int64, tf.int32)>, <TensorSliceDataset shapes: ((8,), (1,)), types: (tf.int64, tf.int32)>, <TensorSliceDataset shapes: ((8,), (1,)), types: (tf.int64, tf.int32)>, <TensorSliceDataset shapes: ((8,), (1,)), types: (tf.int64, tf.int32)>, <TensorSliceDataset shapes: ((8,), (1,)), types: (tf.int64, tf.int32)>, <TensorSliceDataset shapes: ((8,), (1,)), types: (tf.int64, tf.int32)>, <TensorSliceDataset shapes: ((8,), (1,)), types: (tf.int64, tf.int32)>, <TensorSliceDataset shapes: ((8,), (1,)), types: (tf.int64, tf.int32)>, <TensorSliceDataset shapes: ((8,), (1,)), types: (tf.int64, tf.int32)>, <TensorSliceDataset shapes: ((8,), (1,)), types: (tf.int64, tf.int32)>, <TensorSliceDataset shapes: ((8,), (1,)), types: (tf.int64, tf.int32)>, <TensorSliceDataset shapes: ((8,), (1,)), types: (tf.int64, tf.int32)>, <TensorSliceDataset shapes: ((8,), (1,)), types: (tf.int64, tf.int32)>, <TensorSliceDataset shapes: ((8,), (1,)), types: (tf.int64, tf.int32)>, <TensorSliceDataset shapes: ((8,), (1,)), types: (tf.int64, tf.int32)>, <TensorSliceDataset shapes: ((8,), (1,)), types: (tf.int64, tf.int32)>, <TensorSliceDataset shapes: ((8,), (1,)), types: (tf.int64, tf.int32)>, <TensorSliceDataset shapes: ((8,), (1,)), types: (tf.int64, tf.int32)>, <TensorSliceDataset shapes: ((8,), (1,)), types: (tf.int64, tf.int32)>, <TensorSliceDataset shapes: ((8,), (1,)), types: (tf.int64, tf.int32)>, <TensorSliceDataset shapes: ((8,), (1,)), types: (tf.int64, tf.int32)>, <TensorSliceDataset shapes: ((8,), (1,)), types: (tf.int64, tf.int32)>, <TensorSliceDataset shapes: ((8,), (1,)), types: (tf.int64, tf.int32)>, <TensorSliceDataset shapes: ((8,), (1,)), types: (tf.int64, tf.int32)>, <TensorSliceDataset shapes: ((8,), (1,)), types: (tf.int64, tf.int32)>, <TensorSliceDataset shapes: ((8,), (1,)), types: (tf.int64, tf.int32)>, <TensorSliceDataset shapes: ((8,), (1,)), types: (tf.int64, tf.int32)>, <TensorSliceDataset shapes: ((8,), (1,)), types: (tf.int64, tf.int32)>, <TensorSliceDataset shapes: ((8,), (1,)), types: (tf.int64, tf.int32)>, <TensorSliceDataset shapes: ((8,), (1,)), types: (tf.int64, tf.int32)>, <TensorSliceDataset shapes: ((8,), (1,)), types: (tf.int64, tf.int32)>, <TensorSliceDataset shapes: ((8,), (1,)), types: (tf.int64, tf.int32)>, <TensorSliceDataset shapes: ((8,), (1,)), types: (tf.int64, tf.int32)>, <TensorSliceDataset shapes: ((8,), (1,)), types: (tf.int64, tf.int32)>, <TensorSliceDataset shapes: ((8,), (1,)), types: (tf.int64, tf.int32)>, <TensorSliceDataset shapes: ((8,), (1,)), types: (tf.int64, tf.int32)>, <TensorSliceDataset shapes: ((8,), (1,)), types: (tf.int64, tf.int32)>, <TensorSliceDataset shapes: ((8,), (1,)), types: (tf.int64, tf.int32)>, <TensorSliceDataset shapes: ((8,), (1,)), types: (tf.int64, tf.int32)>, <TensorSliceDataset shapes: ((8,), (1,)), types: (tf.int64, tf.int32)>, <TensorSliceDataset shapes: ((8,), (1,)), types: (tf.int64, tf.int32)>, <TensorSliceDataset shapes: ((8,), (1,)), types: (tf.int64, tf.int32)>, <TensorSliceDataset shapes: ((8,), (1,)), types: (tf.int64, tf.int32)>, <TensorSliceDataset shapes: ((8,), (1,)), types: (tf.int64, tf.int32)>, <TensorSliceDataset shapes: ((8,), (1,)), types: (tf.int64, tf.int32)>, <TensorSliceDataset shapes: ((8,), (1,)), types: (tf.int64, tf.int32)>, <TensorSliceDataset shapes: ((8,), (1,)), types: (tf.int64, tf.int32)>, <TensorSliceDataset shapes: ((8,), (1,)), types: (tf.int64, tf.int32)>, <TensorSliceDataset shapes: ((8,), (1,)), types: (tf.int64, tf.int32)>, <TensorSliceDataset shapes: ((8,), (1,)), types: (tf.int64, tf.int32)>, <TensorSliceDataset shapes: ((8,), (1,)), types: (tf.int64, tf.int32)>, <TensorSliceDataset shapes: ((8,), (1,)), types: (tf.int64, tf.int32)>, <TensorSliceDataset shapes: ((8,), (1,)), types: (tf.int64, tf.int32)>, <TensorSliceDataset shapes: ((8,), (1,)), types: (tf.int64, tf.int32)>, <TensorSliceDataset shapes: ((8,), (1,)), types: (tf.int64, tf.int32)>, <TensorSliceDataset shapes: ((8,), (1,)), types: (tf.int64, tf.int32)>, <TensorSliceDataset shapes: ((8,), (1,)), types: (tf.int64, tf.int32)>, <TensorSliceDataset shapes: ((8,), (1,)), types: (tf.int64, tf.int32)>, <TensorSliceDataset shapes: ((8,), (1,)), types: (tf.int64, tf.int32)>, <TensorSliceDataset shapes: ((8,), (1,)), types: (tf.int64, tf.int32)>, <TensorSliceDataset shapes: ((8,), (1,)), types: (tf.int64, tf.int32)>, <TensorSliceDataset shapes: ((8,), (1,)), types: (tf.int64, tf.int32)>, <TensorSliceDataset shapes: ((8,), (1,)), types: (tf.int64, tf.int32)>, <TensorSliceDataset shapes: ((8,), (1,)), types: (tf.int64, tf.int32)>, <TensorSliceDataset shapes: ((8,), (1,)), types: (tf.int64, tf.int32)>, <TensorSliceDataset shapes: ((8,), (1,)), types: (tf.int64, tf.int32)>, <TensorSliceDataset shapes: ((8,), (1,)), types: (tf.int64, tf.int32)>, <TensorSliceDataset shapes: ((8,), (1,)), types: (tf.int64, tf.int32)>, <TensorSliceDataset shapes: ((8,), (1,)), types: (tf.int64, tf.int32)>, <TensorSliceDataset shapes: ((8,), (1,)), types: (tf.int64, tf.int32)>, <TensorSliceDataset shapes: ((8,), (1,)), types: (tf.int64, tf.int32)>, <TensorSliceDataset shapes: ((8,), (1,)), types: (tf.int64, tf.int32)>, <TensorSliceDataset shapes: ((8,), (1,)), types: (tf.int64, tf.int32)>, <TensorSliceDataset shapes: ((8,), (1,)), types: (tf.int64, tf.int32)>, <TensorSliceDataset shapes: ((8,), (1,)), types: (tf.int64, tf.int32)>, <TensorSliceDataset shapes: ((8,), (1,)), types: (tf.int64, tf.int32)>, <TensorSliceDataset shapes: ((8,), (1,)), types: (tf.int64, tf.int32)>, <TensorSliceDataset shapes: ((8,), (1,)), types: (tf.int64, tf.int32)>, <TensorSliceDataset shapes: ((8,), (1,)), types: (tf.int64, tf.int32)>, <TensorSliceDataset shapes: ((8,), (1,)), types: (tf.int64, tf.int32)>, <TensorSliceDataset shapes: ((8,), (1,)), types: (tf.int64, tf.int32)>, <TensorSliceDataset shapes: ((8,), (1,)), types: (tf.int64, tf.int32)>, <TensorSliceDataset shapes: ((8,), (1,)), types: (tf.int64, tf.int32)>, <TensorSliceDataset shapes: ((8,), (1,)), types: (tf.int64, tf.int32)>, <TensorSliceDataset shapes: ((8,), (1,)), types: (tf.int64, tf.int32)>, <TensorSliceDataset shapes: ((8,), (1,)), types: (tf.int64, tf.int32)>, <TensorSliceDataset shapes: ((8,), (1,)), types: (tf.int64, tf.int32)>, <TensorSliceDataset shapes: ((8,), (1,)), types: (tf.int64, tf.int32)>, <TensorSliceDataset shapes: ((8,), (1,)), types: (tf.int64, tf.int32)>, <TensorSliceDataset shapes: ((8,), (1,)), types: (tf.int64, tf.int32)>, <TensorSliceDataset shapes: ((8,), (1,)), types: (tf.int64, tf.int32)>, <TensorSliceDataset shapes: ((8,), (1,)), types: (tf.int64, tf.int32)>, <TensorSliceDataset shapes: ((8,), (1,)), types: (tf.int64, tf.int32)>, <TensorSliceDataset shapes: ((8,), (1,)), types: (tf.int64, tf.int32)>, <TensorSliceDataset shapes: ((8,), (1,)), types: (tf.int64, tf.int32)>, <TensorSliceDataset shapes: ((8,), (1,)), types: (tf.int64, tf.int32)>, <TensorSliceDataset shapes: ((8,), (1,)), types: (tf.int64, tf.int32)>, <TensorSliceDataset shapes: ((8,), (1,)), types: (tf.int64, tf.int32)>, <TensorSliceDataset shapes: ((8,), (1,)), types: (tf.int64, tf.int32)>, <TensorSliceDataset shapes: ((8,), (1,)), types: (tf.int64, tf.int32)>, <TensorSliceDataset shapes: ((8,), (1,)), types: (tf.int64, tf.int32)>, <TensorSliceDataset shapes: ((8,), (1,)), types: (tf.int64, tf.int32)>, <TensorSliceDataset shapes: ((8,), (1,)), types: (tf.int64, tf.int32)>, <TensorSliceDataset shapes: ((8,), (1,)), types: (tf.int64, tf.int32)>, <TensorSliceDataset shapes: ((8,), (1,)), types: (tf.int64, tf.int32)>, <TensorSliceDataset shapes: ((8,), (1,)), types: (tf.int64, tf.int32)>, <TensorSliceDataset shapes: ((8,), (1,)), types: (tf.int64, tf.int32)>, <TensorSliceDataset shapes: ((8,), (1,)), types: (tf.int64, tf.int32)>, <TensorSliceDataset shapes: ((8,), (1,)), types: (tf.int64, tf.int32)>, <TensorSliceDataset shapes: ((8,), (1,)), types: (tf.int64, tf.int32)>, <TensorSliceDataset shapes: ((8,), (1,)), types: (tf.int64, tf.int32)>, <TensorSliceDataset shapes: ((8,), (1,)), types: (tf.int64, tf.int32)>, <TensorSliceDataset shapes: ((8,), (1,)), types: (tf.int64, tf.int32)>, <TensorSliceDataset shapes: ((8,), (1,)), types: (tf.int64, tf.int32)>, <TensorSliceDataset shapes: ((8,), (1,)), types: (tf.int64, tf.int32)>, <TensorSliceDataset shapes: ((8,), (1,)), types: (tf.int64, tf.int32)>, <TensorSliceDataset shapes: ((8,), (1,)), types: (tf.int64, tf.int32)>, <TensorSliceDataset shapes: ((8,), (1,)), types: (tf.int64, tf.int32)>, <TensorSliceDataset shapes: ((8,), (1,)), types: (tf.int64, tf.int32)>, <TensorSliceDataset shapes: ((8,), (1,)), types: (tf.int64, tf.int32)>, <TensorSliceDataset shapes: ((8,), (1,)), types: (tf.int64, tf.int32)>, <TensorSliceDataset shapes: ((8,), (1,)), types: (tf.int64, tf.int32)>, <TensorSliceDataset shapes: ((8,), (1,)), types: (tf.int64, tf.int32)>, <TensorSliceDataset shapes: ((8,), (1,)), types: (tf.int64, tf.int32)>, <TensorSliceDataset shapes: ((8,), (1,)), types: (tf.int64, tf.int32)>, <TensorSliceDataset shapes: ((8,), (1,)), types: (tf.int64, tf.int32)>, <TensorSliceDataset shapes: ((8,), (1,)), types: (tf.int64, tf.int32)>, <TensorSliceDataset shapes: ((8,), (1,)), types: (tf.int64, tf.int32)>, <TensorSliceDataset shapes: ((8,), (1,)), types: (tf.int64, tf.int32)>, <TensorSliceDataset shapes: ((8,), (1,)), types: (tf.int64, tf.int32)>, <TensorSliceDataset shapes: ((8,), (1,)), types: (tf.int64, tf.int32)>, <TensorSliceDataset shapes: ((8,), (1,)), types: (tf.int64, tf.int32)>, <TensorSliceDataset shapes: ((8,), (1,)), types: (tf.int64, tf.int32)>, <TensorSliceDataset shapes: ((8,), (1,)), types: (tf.int64, tf.int32)>, <TensorSliceDataset shapes: ((8,), (1,)), types: (tf.int64, tf.int32)>, <TensorSliceDataset shapes: ((8,), (1,)), types: (tf.int64, tf.int32)>, <TensorSliceDataset shapes: ((8,), (1,)), types: (tf.int64, tf.int32)>, <TensorSliceDataset shapes: ((8,), (1,)), types: (tf.int64, tf.int32)>, <TensorSliceDataset shapes: ((8,), (1,)), types: (tf.int64, tf.int32)>, <TensorSliceDataset shapes: ((8,), (1,)), types: (tf.int64, tf.int32)>, <TensorSliceDataset shapes: ((8,), (1,)), types: (tf.int64, tf.int32)>, <TensorSliceDataset shapes: ((8,), (1,)), types: (tf.int64, tf.int32)>, <TensorSliceDataset shapes: ((8,), (1,)), types: (tf.int64, tf.int32)>, <TensorSliceDataset shapes: ((8,), (1,)), types: (tf.int64, tf.int32)>, <TensorSliceDataset shapes: ((8,), (1,)), types: (tf.int64, tf.int32)>, <TensorSliceDataset shapes: ((8,), (1,)), types: (tf.int64, tf.int32)>, <TensorSliceDataset shapes: ((8,), (1,)), types: (tf.int64, tf.int32)>, <TensorSliceDataset shapes: ((8,), (1,)), types: (tf.int64, tf.int32)>, <TensorSliceDataset shapes: ((8,), (1,)), types: (tf.int64, tf.int32)>, <TensorSliceDataset shapes: ((8,), (1,)), types: (tf.int64, tf.int32)>, <TensorSliceDataset shapes: ((8,), (1,)), types: (tf.int64, tf.int32)>, <TensorSliceDataset shapes: ((8,), (1,)), types: (tf.int64, tf.int32)>, <TensorSliceDataset shapes: ((8,), (1,)), types: (tf.int64, tf.int32)>, <TensorSliceDataset shapes: ((8,), (1,)), types: (tf.int64, tf.int32)>, <TensorSliceDataset shapes: ((8,), (1,)), types: (tf.int64, tf.int32)>, <TensorSliceDataset shapes: ((8,), (1,)), types: (tf.int64, tf.int32)>, <TensorSliceDataset shapes: ((8,), (1,)), types: (tf.int64, tf.int32)>, <TensorSliceDataset shapes: ((8,), (1,)), types: (tf.int64, tf.int32)>, <TensorSliceDataset shapes: ((8,), (1,)), types: (tf.int64, tf.int32)>, <TensorSliceDataset shapes: ((8,), (1,)), types: (tf.int64, tf.int32)>, <TensorSliceDataset shapes: ((8,), (1,)), types: (tf.int64, tf.int32)>, <TensorSliceDataset shapes: ((8,), (1,)), types: (tf.int64, tf.int32)>, <TensorSliceDataset shapes: ((8,), (1,)), types: (tf.int64, tf.int32)>, <TensorSliceDataset shapes: ((8,), (1,)), types: (tf.int64, tf.int32)>, <TensorSliceDataset shapes: ((8,), (1,)), types: (tf.int64, tf.int32)>, <TensorSliceDataset shapes: ((8,), (1,)), types: (tf.int64, tf.int32)>, <TensorSliceDataset shapes: ((8,), (1,)), types: (tf.int64, tf.int32)>, <TensorSliceDataset shapes: ((8,), (1,)), types: (tf.int64, tf.int32)>, <TensorSliceDataset shapes: ((8,), (1,)), types: (tf.int64, tf.int32)>, <TensorSliceDataset shapes: ((8,), (1,)), types: (tf.int64, tf.int32)>, <TensorSliceDataset shapes: ((8,), (1,)), types: (tf.int64, tf.int32)>, <TensorSliceDataset shapes: ((8,), (1,)), types: (tf.int64, tf.int32)>, <TensorSliceDataset shapes: ((8,), (1,)), types: (tf.int64, tf.int32)>, <TensorSliceDataset shapes: ((8,), (1,)), types: (tf.int64, tf.int32)>, <TensorSliceDataset shapes: ((8,), (1,)), types: (tf.int64, tf.int32)>, <TensorSliceDataset shapes: ((8,), (1,)), types: (tf.int64, tf.int32)>, <TensorSliceDataset shapes: ((8,), (1,)), types: (tf.int64, tf.int32)>, <TensorSliceDataset shapes: ((8,), (1,)), types: (tf.int64, tf.int32)>, <TensorSliceDataset shapes: ((8,), (1,)), types: (tf.int64, tf.int32)>, <TensorSliceDataset shapes: ((8,), (1,)), types: (tf.int64, tf.int32)>, <TensorSliceDataset shapes: ((8,), (1,)), types: (tf.int64, tf.int32)>, <TensorSliceDataset shapes: ((8,), (1,)), types: (tf.int64, tf.int32)>, <TensorSliceDataset shapes: ((8,), (1,)), types: (tf.int64, tf.int32)>, <TensorSliceDataset shapes: ((8,), (1,)), types: (tf.int64, tf.int32)>, <TensorSliceDataset shapes: ((8,), (1,)), types: (tf.int64, tf.int32)>, <TensorSliceDataset shapes: ((8,), (1,)), types: (tf.int64, tf.int32)>, <TensorSliceDataset shapes: ((8,), (1,)), types: (tf.int64, tf.int32)>, <TensorSliceDataset shapes: ((8,), (1,)), types: (tf.int64, tf.int32)>, <TensorSliceDataset shapes: ((8,), (1,)), types: (tf.int64, tf.int32)>, <TensorSliceDataset shapes: ((8,), (1,)), types: (tf.int64, tf.int32)>, <TensorSliceDataset shapes: ((8,), (1,)), types: (tf.int64, tf.int32)>, <TensorSliceDataset shapes: ((8,), (1,)), types: (tf.int64, tf.int32)>, <TensorSliceDataset shapes: ((8,), (1,)), types: (tf.int64, tf.int32)>, <TensorSliceDataset shapes: ((8,), (1,)), types: (tf.int64, tf.int32)>, <TensorSliceDataset shapes: ((8,), (1,)), types: (tf.int64, tf.int32)>, <TensorSliceDataset shapes: ((8,), (1,)), types: (tf.int64, tf.int32)>, <TensorSliceDataset shapes: ((8,), (1,)), types: (tf.int64, tf.int32)>, <TensorSliceDataset shapes: ((8,), (1,)), types: (tf.int64, tf.int32)>, <TensorSliceDataset shapes: ((8,), (1,)), types: (tf.int64, tf.int32)>, <TensorSliceDataset shapes: ((8,), (1,)), types: (tf.int64, tf.int32)>, <TensorSliceDataset shapes: ((8,), (1,)), types: (tf.int64, tf.int32)>, <TensorSliceDataset shapes: ((8,), (1,)), types: (tf.int64, tf.int32)>, <TensorSliceDataset shapes: ((8,), (1,)), types: (tf.int64, tf.int32)>, <TensorSliceDataset shapes: ((8,), (1,)), types: (tf.int64, tf.int32)>, <TensorSliceDataset shapes: ((8,), (1,)), types: (tf.int64, tf.int32)>, <TensorSliceDataset shapes: ((8,), (1,)), types: (tf.int64, tf.int32)>, <TensorSliceDataset shapes: ((8,), (1,)), types: (tf.int64, tf.int32)>, <TensorSliceDataset shapes: ((8,), (1,)), types: (tf.int64, tf.int32)>, <TensorSliceDataset shapes: ((8,), (1,)), types: (tf.int64, tf.int32)>, <TensorSliceDataset shapes: ((8,), (1,)), types: (tf.int64, tf.int32)>, <TensorSliceDataset shapes: ((8,), (1,)), types: (tf.int64, tf.int32)>, <TensorSliceDataset shapes: ((8,), (1,)), types: (tf.int64, tf.int32)>, <TensorSliceDataset shapes: ((8,), (1,)), types: (tf.int64, tf.int32)>, <TensorSliceDataset shapes: ((8,), (1,)), types: (tf.int64, tf.int32)>, <TensorSliceDataset shapes: ((8,), (1,)), types: (tf.int64, tf.int32)>, <TensorSliceDataset shapes: ((8,), (1,)), types: (tf.int64, tf.int32)>, <TensorSliceDataset shapes: ((8,), (1,)), types: (tf.int64, tf.int32)>, <TensorSliceDataset shapes: ((8,), (1,)), types: (tf.int64, tf.int32)>, <TensorSliceDataset shapes: ((8,), (1,)), types: (tf.int64, tf.int32)>, <TensorSliceDataset shapes: ((8,), (1,)), types: (tf.int64, tf.int32)>, <TensorSliceDataset shapes: ((8,), (1,)), types: (tf.int64, tf.int32)>, <TensorSliceDataset shapes: ((8,), (1,)), types: (tf.int64, tf.int32)>, <TensorSliceDataset shapes: ((8,), (1,)), types: (tf.int64, tf.int32)>, <TensorSliceDataset shapes: ((8,), (1,)), types: (tf.int64, tf.int32)>, <TensorSliceDataset shapes: ((8,), (1,)), types: (tf.int64, tf.int32)>, <TensorSliceDataset shapes: ((8,), (1,)), types: (tf.int64, tf.int32)>, <TensorSliceDataset shapes: ((8,), (1,)), types: (tf.int64, tf.int32)>, <TensorSliceDataset shapes: ((8,), (1,)), types: (tf.int64, tf.int32)>, <TensorSliceDataset shapes: ((8,), (1,)), types: (tf.int64, tf.int32)>, <TensorSliceDataset shapes: ((8,), (1,)), types: (tf.int64, tf.int32)>, <TensorSliceDataset shapes: ((8,), (1,)), types: (tf.int64, tf.int32)>, <TensorSliceDataset shapes: ((8,), (1,)), types: (tf.int64, tf.int32)>, <TensorSliceDataset shapes: ((8,), (1,)), types: (tf.int64, tf.int32)>, <TensorSliceDataset shapes: ((8,), (1,)), types: (tf.int64, tf.int32)>, <TensorSliceDataset shapes: ((8,), (1,)), types: (tf.int64, tf.int32)>, <TensorSliceDataset shapes: ((8,), (1,)), types: (tf.int64, tf.int32)>, <TensorSliceDataset shapes: ((8,), (1,)), types: (tf.int64, tf.int32)>, <TensorSliceDataset shapes: ((8,), (1,)), types: (tf.int64, tf.int32)>, <TensorSliceDataset shapes: ((8,), (1,)), types: (tf.int64, tf.int32)>, <TensorSliceDataset shapes: ((8,), (1,)), types: (tf.int64, tf.int32)>, <TensorSliceDataset shapes: ((8,), (1,)), types: (tf.int64, tf.int32)>, <TensorSliceDataset shapes: ((8,), (1,)), types: (tf.int64, tf.int32)>, <TensorSliceDataset shapes: ((8,), (1,)), types: (tf.int64, tf.int32)>, <TensorSliceDataset shapes: ((8,), (1,)), types: (tf.int64, tf.int32)>, <TensorSliceDataset shapes: ((8,), (1,)), types: (tf.int64, tf.int32)>, <TensorSliceDataset shapes: ((8,), (1,)), types: (tf.int64, tf.int32)>, <TensorSliceDataset shapes: ((8,), (1,)), types: (tf.int64, tf.int32)>, <TensorSliceDataset shapes: ((8,), (1,)), types: (tf.int64, tf.int32)>, <TensorSliceDataset shapes: ((8,), (1,)), types: (tf.int64, tf.int32)>, <TensorSliceDataset shapes: ((8,), (1,)), types: (tf.int64, tf.int32)>, <TensorSliceDataset shapes: ((8,), (1,)), types: (tf.int64, tf.int32)>, <TensorSliceDataset shapes: ((8,), (1,)), types: (tf.int64, tf.int32)>, <TensorSliceDataset shapes: ((8,), (1,)), types: (tf.int64, tf.int32)>, <TensorSliceDataset shapes: ((8,), (1,)), types: (tf.int64, tf.int32)>, <TensorSliceDataset shapes: ((8,), (1,)), types: (tf.int64, tf.int32)>, <TensorSliceDataset shapes: ((8,), (1,)), types: (tf.int64, tf.int32)>, <TensorSliceDataset shapes: ((8,), (1,)), types: (tf.int64, tf.int32)>, <TensorSliceDataset shapes: ((8,), (1,)), types: (tf.int64, tf.int32)>, <TensorSliceDataset shapes: ((8,), (1,)), types: (tf.int64, tf.int32)>, <TensorSliceDataset shapes: ((8,), (1,)), types: (tf.int64, tf.int32)>, <TensorSliceDataset shapes: ((8,), (1,)), types: (tf.int64, tf.int32)>, <TensorSliceDataset shapes: ((8,), (1,)), types: (tf.int64, tf.int32)>, <TensorSliceDataset shapes: ((8,), (1,)), types: (tf.int64, tf.int32)>, <TensorSliceDataset shapes: ((8,), (1,)), types: (tf.int64, tf.int32)>, <TensorSliceDataset shapes: ((8,), (1,)), types: (tf.int64, tf.int32)>, <TensorSliceDataset shapes: ((8,), (1,)), types: (tf.int64, tf.int32)>, <TensorSliceDataset shapes: ((8,), (1,)), types: (tf.int64, tf.int32)>, <TensorSliceDataset shapes: ((8,), (1,)), types: (tf.int64, tf.int32)>, <TensorSliceDataset shapes: ((8,), (1,)), types: (tf.int64, tf.int32)>, <TensorSliceDataset shapes: ((8,), (1,)), types: (tf.int64, tf.int32)>, <TensorSliceDataset shapes: ((8,), (1,)), types: (tf.int64, tf.int32)>, <TensorSliceDataset shapes: ((8,), (1,)), types: (tf.int64, tf.int32)>, <TensorSliceDataset shapes: ((8,), (1,)), types: (tf.int64, tf.int32)>, <TensorSliceDataset shapes: ((8,), (1,)), types: (tf.int64, tf.int32)>, <TensorSliceDataset shapes: ((8,), (1,)), types: (tf.int64, tf.int32)>, <TensorSliceDataset shapes: ((8,), (1,)), types: (tf.int64, tf.int32)>, <TensorSliceDataset shapes: ((8,), (1,)), types: (tf.int64, tf.int32)>, <TensorSliceDataset shapes: ((8,), (1,)), types: (tf.int64, tf.int32)>, <TensorSliceDataset shapes: ((8,), (1,)), types: (tf.int64, tf.int32)>, <TensorSliceDataset shapes: ((8,), (1,)), types: (tf.int64, tf.int32)>, <TensorSliceDataset shapes: ((8,), (1,)), types: (tf.int64, tf.int32)>, <TensorSliceDataset shapes: ((8,), (1,)), types: (tf.int64, tf.int32)>, <TensorSliceDataset shapes: ((8,), (1,)), types: (tf.int64, tf.int32)>, <TensorSliceDataset shapes: ((8,), (1,)), types: (tf.int64, tf.int32)>, <TensorSliceDataset shapes: ((8,), (1,)), types: (tf.int64, tf.int32)>, <TensorSliceDataset shapes: ((8,), (1,)), types: (tf.int64, tf.int32)>, <TensorSliceDataset shapes: ((8,), (1,)), types: (tf.int64, tf.int32)>, <TensorSliceDataset shapes: ((8,), (1,)), types: (tf.int64, tf.int32)>, <TensorSliceDataset shapes: ((8,), (1,)), types: (tf.int64, tf.int32)>, <TensorSliceDataset shapes: ((8,), (1,)), types: (tf.int64, tf.int32)>, <TensorSliceDataset shapes: ((8,), (1,)), types: (tf.int64, tf.int32)>, <TensorSliceDataset shapes: ((8,), (1,)), types: (tf.int64, tf.int32)>, <TensorSliceDataset shapes: ((8,), (1,)), types: (tf.int64, tf.int32)>, <TensorSliceDataset shapes: ((8,), (1,)), types: (tf.int64, tf.int32)>, <TensorSliceDataset shapes: ((8,), (1,)), types: (tf.int64, tf.int32)>, <TensorSliceDataset shapes: ((8,), (1,)), types: (tf.int64, tf.int32)>, <TensorSliceDataset shapes: ((8,), (1,)), types: (tf.int64, tf.int32)>, <TensorSliceDataset shapes: ((8,), (1,)), types: (tf.int64, tf.int32)>, <TensorSliceDataset shapes: ((8,), (1,)), types: (tf.int64, tf.int32)>, <TensorSliceDataset shapes: ((8,), (1,)), types: (tf.int64, tf.int32)>, <TensorSliceDataset shapes: ((8,), (1,)), types: (tf.int64, tf.int32)>, <TensorSliceDataset shapes: ((8,), (1,)), types: (tf.int64, tf.int32)>, <TensorSliceDataset shapes: ((8,), (1,)), types: (tf.int64, tf.int32)>, <TensorSliceDataset shapes: ((8,), (1,)), types: (tf.int64, tf.int32)>, <TensorSliceDataset shapes: ((8,), (1,)), types: (tf.int64, tf.int32)>, <TensorSliceDataset shapes: ((8,), (1,)), types: (tf.int64, tf.int32)>, <TensorSliceDataset shapes: ((8,), (1,)), types: (tf.int64, tf.int32)>, <TensorSliceDataset shapes: ((8,), (1,)), types: (tf.int64, tf.int32)>, <TensorSliceDataset shapes: ((8,), (1,)), types: (tf.int64, tf.int32)>, <TensorSliceDataset shapes: ((8,), (1,)), types: (tf.int64, tf.int32)>, <TensorSliceDataset shapes: ((8,), (1,)), types: (tf.int64, tf.int32)>, <TensorSliceDataset shapes: ((8,), (1,)), types: (tf.int64, tf.int32)>, <TensorSliceDataset shapes: ((8,), (1,)), types: (tf.int64, tf.int32)>, <TensorSliceDataset shapes: ((8,), (1,)), types: (tf.int64, tf.int32)>, <TensorSliceDataset shapes: ((8,), (1,)), types: (tf.int64, tf.int32)>, <TensorSliceDataset shapes: ((8,), (1,)), types: (tf.int64, tf.int32)>, <TensorSliceDataset shapes: ((8,), (1,)), types: (tf.int64, tf.int32)>, <TensorSliceDataset shapes: ((8,), (1,)), types: (tf.int64, tf.int32)>, <TensorSliceDataset shapes: ((8,), (1,)), types: (tf.int64, tf.int32)>, <TensorSliceDataset shapes: ((8,), (1,)), types: (tf.int64, tf.int32)>, <TensorSliceDataset shapes: ((8,), (1,)), types: (tf.int64, tf.int32)>, <TensorSliceDataset shapes: ((8,), (1,)), types: (tf.int64, tf.int32)>, <TensorSliceDataset shapes: ((8,), (1,)), types: (tf.int64, tf.int32)>, <TensorSliceDataset shapes: ((8,), (1,)), types: (tf.int64, tf.int32)>, <TensorSliceDataset shapes: ((8,), (1,)), types: (tf.int64, tf.int32)>, <TensorSliceDataset shapes: ((8,), (1,)), types: (tf.int64, tf.int32)>, <TensorSliceDataset shapes: ((8,), (1,)), types: (tf.int64, tf.int32)>, <TensorSliceDataset shapes: ((8,), (1,)), types: (tf.int64, tf.int32)>, <TensorSliceDataset shapes: ((8,), (1,)), types: (tf.int64, tf.int32)>, <TensorSliceDataset shapes: ((8,), (1,)), types: (tf.int64, tf.int32)>, <TensorSliceDataset shapes: ((8,), (1,)), types: (tf.int64, tf.int32)>, <TensorSliceDataset shapes: ((8,), (1,)), types: (tf.int64, tf.int32)>, <TensorSliceDataset shapes: ((8,), (1,)), types: (tf.int64, tf.int32)>, <TensorSliceDataset shapes: ((8,), (1,)), types: (tf.int64, tf.int32)>, <TensorSliceDataset shapes: ((8,), (1,)), types: (tf.int64, tf.int32)>, <TensorSliceDataset shapes: ((8,), (1,)), types: (tf.int64, tf.int32)>, <TensorSliceDataset shapes: ((8,), (1,)), types: (tf.int64, tf.int32)>, <TensorSliceDataset shapes: ((8,), (1,)), types: (tf.int64, tf.int32)>, <TensorSliceDataset shapes: ((8,), (1,)), types: (tf.int64, tf.int32)>, <TensorSliceDataset shapes: ((8,), (1,)), types: (tf.int64, tf.int32)>, <TensorSliceDataset shapes: ((8,), (1,)), types: (tf.int64, tf.int32)>, <TensorSliceDataset shapes: ((8,), (1,)), types: (tf.int64, tf.int32)>, <TensorSliceDataset shapes: ((8,), (1,)), types: (tf.int64, tf.int32)>, <TensorSliceDataset shapes: ((8,), (1,)), types: (tf.int64, tf.int32)>, <TensorSliceDataset shapes: ((8,), (1,)), types: (tf.int64, tf.int32)>, <TensorSliceDataset shapes: ((8,), (1,)), types: (tf.int64, tf.int32)>, <TensorSliceDataset shapes: ((8,), (1,)), types: (tf.int64, tf.int32)>, <TensorSliceDataset shapes: ((8,), (1,)), types: (tf.int64, tf.int32)>, <TensorSliceDataset shapes: ((8,), (1,)), types: (tf.int64, tf.int32)>, <TensorSliceDataset shapes: ((8,), (1,)), types: (tf.int64, tf.int32)>, <TensorSliceDataset shapes: ((8,), (1,)), types: (tf.int64, tf.int32)>, <TensorSliceDataset shapes: ((8,), (1,)), types: (tf.int64, tf.int32)>, <TensorSliceDataset shapes: ((8,), (1,)), types: (tf.int64, tf.int32)>, <TensorSliceDataset shapes: ((8,), (1,)), types: (tf.int64, tf.int32)>, <TensorSliceDataset shapes: ((8,), (1,)), types: (tf.int64, tf.int32)>, <TensorSliceDataset shapes: ((8,), (1,)), types: (tf.int64, tf.int32)>, <TensorSliceDataset shapes: ((8,), (1,)), types: (tf.int64, tf.int32)>, <TensorSliceDataset shapes: ((8,), (1,)), types: (tf.int64, tf.int32)>, <TensorSliceDataset shapes: ((8,), (1,)), types: (tf.int64, tf.int32)>, <TensorSliceDataset shapes: ((8,), (1,)), types: (tf.int64, tf.int32)>, <TensorSliceDataset shapes: ((8,), (1,)), types: (tf.int64, tf.int32)>, <TensorSliceDataset shapes: ((8,), (1,)), types: (tf.int64, tf.int32)>, <TensorSliceDataset shapes: ((8,), (1,)), types: (tf.int64, tf.int32)>, <TensorSliceDataset shapes: ((8,), (1,)), types: (tf.int64, tf.int32)>, <TensorSliceDataset shapes: ((8,), (1,)), types: (tf.int64, tf.int32)>, <TensorSliceDataset shapes: ((8,), (1,)), types: (tf.int64, tf.int32)>, <TensorSliceDataset shapes: ((8,), (1,)), types: (tf.int64, tf.int32)>, <TensorSliceDataset shapes: ((8,), (1,)), types: (tf.int64, tf.int32)>, <TensorSliceDataset shapes: ((8,), (1,)), types: (tf.int64, tf.int32)>, <TensorSliceDataset shapes: ((8,), (1,)), types: (tf.int64, tf.int32)>, <TensorSliceDataset shapes: ((8,), (1,)), types: (tf.int64, tf.int32)>, <TensorSliceDataset shapes: ((8,), (1,)), types: (tf.int64, tf.int32)>, <TensorSliceDataset shapes: ((8,), (1,)), types: (tf.int64, tf.int32)>, <TensorSliceDataset shapes: ((8,), (1,)), types: (tf.int64, tf.int32)>, <TensorSliceDataset shapes: ((8,), (1,)), types: (tf.int64, tf.int32)>, <TensorSliceDataset shapes: ((8,), (1,)), types: (tf.int64, tf.int32)>, <TensorSliceDataset shapes: ((8,), (1,)), types: (tf.int64, tf.int32)>, <TensorSliceDataset shapes: ((8,), (1,)), types: (tf.int64, tf.int32)>, <TensorSliceDataset shapes: ((8,), (1,)), types: (tf.int64, tf.int32)>, <TensorSliceDataset shapes: ((8,), (1,)), types: (tf.int64, tf.int32)>, <TensorSliceDataset shapes: ((8,), (1,)), types: (tf.int64, tf.int32)>, <TensorSliceDataset shapes: ((8,), (1,)), types: (tf.int64, tf.int32)>, <TensorSliceDataset shapes: ((8,), (1,)), types: (tf.int64, tf.int32)>, <TensorSliceDataset shapes: ((8,), (1,)), types: (tf.int64, tf.int32)>, <TensorSliceDataset shapes: ((8,), (1,)), types: (tf.int64, tf.int32)>, <TensorSliceDataset shapes: ((8,), (1,)), types: (tf.int64, tf.int32)>, <TensorSliceDataset shapes: ((8,), (1,)), types: (tf.int64, tf.int32)>, <TensorSliceDataset shapes: ((8,), (1,)), types: (tf.int64, tf.int32)>, <TensorSliceDataset shapes: ((8,), (1,)), types: (tf.int64, tf.int32)>, <TensorSliceDataset shapes: ((8,), (1,)), types: (tf.int64, tf.int32)>, <TensorSliceDataset shapes: ((8,), (1,)), types: (tf.int64, tf.int32)>, <TensorSliceDataset shapes: ((8,), (1,)), types: (tf.int64, tf.int32)>, <TensorSliceDataset shapes: ((8,), (1,)), types: (tf.int64, tf.int32)>, <TensorSliceDataset shapes: ((8,), (1,)), types: (tf.int64, tf.int32)>, <TensorSliceDataset shapes: ((8,), (1,)), types: (tf.int64, tf.int32)>, <TensorSliceDataset shapes: ((8,), (1,)), types: (tf.int64, tf.int32)>, <TensorSliceDataset shapes: ((8,), (1,)), types: (tf.int64, tf.int32)>, <TensorSliceDataset shapes: ((8,), (1,)), types: (tf.int64, tf.int32)>, <TensorSliceDataset shapes: ((8,), (1,)), types: (tf.int64, tf.int32)>, <TensorSliceDataset shapes: ((8,), (1,)), types: (tf.int64, tf.int32)>, <TensorSliceDataset shapes: ((8,), (1,)), types: (tf.int64, tf.int32)>, <TensorSliceDataset shapes: ((8,), (1,)), types: (tf.int64, tf.int32)>, <TensorSliceDataset shapes: ((8,), (1,)), types: (tf.int64, tf.int32)>, <TensorSliceDataset shapes: ((8,), (1,)), types: (tf.int64, tf.int32)>, <TensorSliceDataset shapes: ((8,), (1,)), types: (tf.int64, tf.int32)>, <TensorSliceDataset shapes: ((8,), (1,)), types: (tf.int64, tf.int32)>, <TensorSliceDataset shapes: ((8,), (1,)), types: (tf.int64, tf.int32)>, <TensorSliceDataset shapes: ((8,), (1,)), types: (tf.int64, tf.int32)>, <TensorSliceDataset shapes: ((8,), (1,)), types: (tf.int64, tf.int32)>, <TensorSliceDataset shapes: ((8,), (1,)), types: (tf.int64, tf.int32)>, <TensorSliceDataset shapes: ((8,), (1,)), types: (tf.int64, tf.int32)>, <TensorSliceDataset shapes: ((8,), (1,)), types: (tf.int64, tf.int32)>, <TensorSliceDataset shapes: ((8,), (1,)), types: (tf.int64, tf.int32)>, <TensorSliceDataset shapes: ((8,), (1,)), types: (tf.int64, tf.int32)>, <TensorSliceDataset shapes: ((8,), (1,)), types: (tf.int64, tf.int32)>, <TensorSliceDataset shapes: ((8,), (1,)), types: (tf.int64, tf.int32)>, <TensorSliceDataset shapes: ((8,), (1,)), types: (tf.int64, tf.int32)>, <TensorSliceDataset shapes: ((8,), (1,)), types: (tf.int64, tf.int32)>, <TensorSliceDataset shapes: ((8,), (1,)), types: (tf.int64, tf.int32)>, <TensorSliceDataset shapes: ((8,), (1,)), types: (tf.int64, tf.int32)>, <TensorSliceDataset shapes: ((8,), (1,)), types: (tf.int64, tf.int32)>, <TensorSliceDataset shapes: ((8,), (1,)), types: (tf.int64, tf.int32)>, <TensorSliceDataset shapes: ((8,), (1,)), types: (tf.int64, tf.int32)>, <TensorSliceDataset shapes: ((8,), (1,)), types: (tf.int64, tf.int32)>, <TensorSliceDataset shapes: ((8,), (1,)), types: (tf.int64, tf.int32)>, <TensorSliceDataset shapes: ((8,), (1,)), types: (tf.int64, tf.int32)>, <TensorSliceDataset shapes: ((8,), (1,)), types: (tf.int64, tf.int32)>, <TensorSliceDataset shapes: ((8,), (1,)), types: (tf.int64, tf.int32)>, <TensorSliceDataset shapes: ((8,), (1,)), types: (tf.int64, tf.int32)>, <TensorSliceDataset shapes: ((8,), (1,)), types: (tf.int64, tf.int32)>, <TensorSliceDataset shapes: ((8,), (1,)), types: (tf.int64, tf.int32)>, <TensorSliceDataset shapes: ((8,), (1,)), types: (tf.int64, tf.int32)>, <TensorSliceDataset shapes: ((8,), (1,)), types: (tf.int64, tf.int32)>, <TensorSliceDataset shapes: ((8,), (1,)), types: (tf.int64, tf.int32)>, <TensorSliceDataset shapes: ((8,), (1,)), types: (tf.int64, tf.int32)>, <TensorSliceDataset shapes: ((8,), (1,)), types: (tf.int64, tf.int32)>, <TensorSliceDataset shapes: ((8,), (1,)), types: (tf.int64, tf.int32)>, <TensorSliceDataset shapes: ((8,), (1,)), types: (tf.int64, tf.int32)>, <TensorSliceDataset shapes: ((8,), (1,)), types: (tf.int64, tf.int32)>, <TensorSliceDataset shapes: ((8,), (1,)), types: (tf.int64, tf.int32)>, <TensorSliceDataset shapes: ((8,), (1,)), types: (tf.int64, tf.int32)>, <TensorSliceDataset shapes: ((8,), (1,)), types: (tf.int64, tf.int32)>, <TensorSliceDataset shapes: ((8,), (1,)), types: (tf.int64, tf.int32)>, <TensorSliceDataset shapes: ((8,), (1,)), types: (tf.int64, tf.int32)>, <TensorSliceDataset shapes: ((8,), (1,)), types: (tf.int64, tf.int32)>, <TensorSliceDataset shapes: ((8,), (1,)), types: (tf.int64, tf.int32)>, <TensorSliceDataset shapes: ((8,), (1,)), types: (tf.int64, tf.int32)>, <TensorSliceDataset shapes: ((8,), (1,)), types: (tf.int64, tf.int32)>, <TensorSliceDataset shapes: ((8,), (1,)), types: (tf.int64, tf.int32)>, <TensorSliceDataset shapes: ((8,), (1,)), types: (tf.int64, tf.int32)>, <TensorSliceDataset shapes: ((8,), (1,)), types: (tf.int64, tf.int32)>, <TensorSliceDataset shapes: ((8,), (1,)), types: (tf.int64, tf.int32)>, <TensorSliceDataset shapes: ((8,), (1,)), types: (tf.int64, tf.int32)>, <TensorSliceDataset shapes: ((8,), (1,)), types: (tf.int64, tf.int32)>, <TensorSliceDataset shapes: ((8,), (1,)), types: (tf.int64, tf.int32)>, <TensorSliceDataset shapes: ((8,), (1,)), types: (tf.int64, tf.int32)>, <TensorSliceDataset shapes: ((8,), (1,)), types: (tf.int64, tf.int32)>, <TensorSliceDataset shapes: ((8,), (1,)), types: (tf.int64, tf.int32)>, <TensorSliceDataset shapes: ((8,), (1,)), types: (tf.int64, tf.int32)>, <TensorSliceDataset shapes: ((8,), (1,)), types: (tf.int64, tf.int32)>, <TensorSliceDataset shapes: ((8,), (1,)), types: (tf.int64, tf.int32)>, <TensorSliceDataset shapes: ((8,), (1,)), types: (tf.int64, tf.int32)>, <TensorSliceDataset shapes: ((8,), (1,)), types: (tf.int64, tf.int32)>, <TensorSliceDataset shapes: ((8,), (1,)), types: (tf.int64, tf.int32)>, <TensorSliceDataset shapes: ((8,), (1,)), types: (tf.int64, tf.int32)>, <TensorSliceDataset shapes: ((8,), (1,)), types: (tf.int64, tf.int32)>, <TensorSliceDataset shapes: ((8,), (1,)), types: (tf.int64, tf.int32)>, <TensorSliceDataset shapes: ((8,), (1,)), types: (tf.int64, tf.int32)>, <TensorSliceDataset shapes: ((8,), (1,)), types: (tf.int64, tf.int32)>, <TensorSliceDataset shapes: ((8,), (1,)), types: (tf.int64, tf.int32)>, <TensorSliceDataset shapes: ((8,), (1,)), types: (tf.int64, tf.int32)>, <TensorSliceDataset shapes: ((8,), (1,)), types: (tf.int64, tf.int32)>, <TensorSliceDataset shapes: ((8,), (1,)), types: (tf.int64, tf.int32)>, <TensorSliceDataset shapes: ((8,), (1,)), types: (tf.int64, tf.int32)>, <TensorSliceDataset shapes: ((8,), (1,)), types: (tf.int64, tf.int32)>, <TensorSliceDataset shapes: ((8,), (1,)), types: (tf.int64, tf.int32)>, <TensorSliceDataset shapes: ((8,), (1,)), types: (tf.int64, tf.int32)>, <TensorSliceDataset shapes: ((8,), (1,)), types: (tf.int64, tf.int32)>, <TensorSliceDataset shapes: ((8,), (1,)), types: (tf.int64, tf.int32)>, <TensorSliceDataset shapes: ((8,), (1,)), types: (tf.int64, tf.int32)>, <TensorSliceDataset shapes: ((8,), (1,)), types: (tf.int64, tf.int32)>, <TensorSliceDataset shapes: ((8,), (1,)), types: (tf.int64, tf.int32)>, <TensorSliceDataset shapes: ((8,), (1,)), types: (tf.int64, tf.int32)>, <TensorSliceDataset shapes: ((8,), (1,)), types: (tf.int64, tf.int32)>, <TensorSliceDataset shapes: ((8,), (1,)), types: (tf.int64, tf.int32)>, <TensorSliceDataset shapes: ((8,), (1,)), types: (tf.int64, tf.int32)>, <TensorSliceDataset shapes: ((8,), (1,)), types: (tf.int64, tf.int32)>, <TensorSliceDataset shapes: ((8,), (1,)), types: (tf.int64, tf.int32)>, <TensorSliceDataset shapes: ((8,), (1,)), types: (tf.int64, tf.int32)>, <TensorSliceDataset shapes: ((8,), (1,)), types: (tf.int64, tf.int32)>, <TensorSliceDataset shapes: ((8,), (1,)), types: (tf.int64, tf.int32)>, <TensorSliceDataset shapes: ((8,), (1,)), types: (tf.int64, tf.int32)>, <TensorSliceDataset shapes: ((8,), (1,)), types: (tf.int64, tf.int32)>, <TensorSliceDataset shapes: ((8,), (1,)), types: (tf.int64, tf.int32)>, <TensorSliceDataset shapes: ((8,), (1,)), types: (tf.int64, tf.int32)>, <TensorSliceDataset shapes: ((8,), (1,)), types: (tf.int64, tf.int32)>, <TensorSliceDataset shapes: ((8,), (1,)), types: (tf.int64, tf.int32)>, <TensorSliceDataset shapes: ((8,), (1,)), types: (tf.int64, tf.int32)>, <TensorSliceDataset shapes: ((8,), (1,)), types: (tf.int64, tf.int32)>, <TensorSliceDataset shapes: ((8,), (1,)), types: (tf.int64, tf.int32)>, <TensorSliceDataset shapes: ((8,), (1,)), types: (tf.int64, tf.int32)>, <TensorSliceDataset shapes: ((8,), (1,)), types: (tf.int64, tf.int32)>, <TensorSliceDataset shapes: ((8,), (1,)), types: (tf.int64, tf.int32)>, <TensorSliceDataset shapes: ((8,), (1,)), types: (tf.int64, tf.int32)>, <TensorSliceDataset shapes: ((8,), (1,)), types: (tf.int64, tf.int32)>, <TensorSliceDataset shapes: ((8,), (1,)), types: (tf.int64, tf.int32)>, <TensorSliceDataset shapes: ((8,), (1,)), types: (tf.int64, tf.int32)>, <TensorSliceDataset shapes: ((8,), (1,)), types: (tf.int64, tf.int32)>, <TensorSliceDataset shapes: ((8,), (1,)), types: (tf.int64, tf.int32)>, <TensorSliceDataset shapes: ((8,), (1,)), types: (tf.int64, tf.int32)>, <TensorSliceDataset shapes: ((8,), (1,)), types: (tf.int64, tf.int32)>, <TensorSliceDataset shapes: ((8,), (1,)), types: (tf.int64, tf.int32)>, <TensorSliceDataset shapes: ((8,), (1,)), types: (tf.int64, tf.int32)>, <TensorSliceDataset shapes: ((8,), (1,)), types: (tf.int64, tf.int32)>, <TensorSliceDataset shapes: ((8,), (1,)), types: (tf.int64, tf.int32)>, <TensorSliceDataset shapes: ((8,), (1,)), types: (tf.int64, tf.int32)>, <TensorSliceDataset shapes: ((8,), (1,)), types: (tf.int64, tf.int32)>, <TensorSliceDataset shapes: ((8,), (1,)), types: (tf.int64, tf.int32)>, <TensorSliceDataset shapes: ((8,), (1,)), types: (tf.int64, tf.int32)>, <TensorSliceDataset shapes: ((8,), (1,)), types: (tf.int64, tf.int32)>, <TensorSliceDataset shapes: ((8,), (1,)), types: (tf.int64, tf.int32)>, <TensorSliceDataset shapes: ((8,), (1,)), types: (tf.int64, tf.int32)>, <TensorSliceDataset shapes: ((8,), (1,)), types: (tf.int64, tf.int32)>, <TensorSliceDataset shapes: ((8,), (1,)), types: (tf.int64, tf.int32)>, <TensorSliceDataset shapes: ((8,), (1,)), types: (tf.int64, tf.int32)>, <TensorSliceDataset shapes: ((8,), (1,)), types: (tf.int64, tf.int32)>, <TensorSliceDataset shapes: ((8,), (1,)), types: (tf.int64, tf.int32)>, <TensorSliceDataset shapes: ((8,), (1,)), types: (tf.int64, tf.int32)>, <TensorSliceDataset shapes: ((8,), (1,)), types: (tf.int64, tf.int32)>, <TensorSliceDataset shapes: ((8,), (1,)), types: (tf.int64, tf.int32)>, <TensorSliceDataset shapes: ((8,), (1,)), types: (tf.int64, tf.int32)>, <TensorSliceDataset shapes: ((8,), (1,)), types: (tf.int64, tf.int32)>, <TensorSliceDataset shapes: ((8,), (1,)), types: (tf.int64, tf.int32)>, <TensorSliceDataset shapes: ((8,), (1,)), types: (tf.int64, tf.int32)>, <TensorSliceDataset shapes: ((8,), (1,)), types: (tf.int64, tf.int32)>, <TensorSliceDataset shapes: ((8,), (1,)), types: (tf.int64, tf.int32)>, <TensorSliceDataset shapes: ((8,), (1,)), types: (tf.int64, tf.int32)>, <TensorSliceDataset shapes: ((8,), (1,)), types: (tf.int64, tf.int32)>, <TensorSliceDataset shapes: ((8,), (1,)), types: (tf.int64, tf.int32)>, <TensorSliceDataset shapes: ((8,), (1,)), types: (tf.int64, tf.int32)>, <TensorSliceDataset shapes: ((8,), (1,)), types: (tf.int64, tf.int32)>, <TensorSliceDataset shapes: ((8,), (1,)), types: (tf.int64, tf.int32)>, <TensorSliceDataset shapes: ((8,), (1,)), types: (tf.int64, tf.int32)>, <TensorSliceDataset shapes: ((8,), (1,)), types: (tf.int64, tf.int32)>, <TensorSliceDataset shapes: ((8,), (1,)), types: (tf.int64, tf.int32)>, <TensorSliceDataset shapes: ((8,), (1,)), types: (tf.int64, tf.int32)>, <TensorSliceDataset shapes: ((8,), (1,)), types: (tf.int64, tf.int32)>, <TensorSliceDataset shapes: ((8,), (1,)), types: (tf.int64, tf.int32)>, <TensorSliceDataset shapes: ((8,), (1,)), types: (tf.int64, tf.int32)>, <TensorSliceDataset shapes: ((8,), (1,)), types: (tf.int64, tf.int32)>, <TensorSliceDataset shapes: ((8,), (1,)), types: (tf.int64, tf.int32)>, <TensorSliceDataset shapes: ((8,), (1,)), types: (tf.int64, tf.int32)>, <TensorSliceDataset shapes: ((8,), (1,)), types: (tf.int64, tf.int32)>, <TensorSliceDataset shapes: ((8,), (1,)), types: (tf.int64, tf.int32)>, <TensorSliceDataset shapes: ((8,), (1,)), types: (tf.int64, tf.int32)>, <TensorSliceDataset shapes: ((8,), (1,)), types: (tf.int64, tf.int32)>, <TensorSliceDataset shapes: ((8,), (1,)), types: (tf.int64, tf.int32)>, <TensorSliceDataset shapes: ((8,), (1,)), types: (tf.int64, tf.int32)>, <TensorSliceDataset shapes: ((8,), (1,)), types: (tf.int64, tf.int32)>, <TensorSliceDataset shapes: ((8,), (1,)), types: (tf.int64, tf.int32)>, <TensorSliceDataset shapes: ((8,), (1,)), types: (tf.int64, tf.int32)>, <TensorSliceDataset shapes: ((8,), (1,)), types: (tf.int64, tf.int32)>, <TensorSliceDataset shapes: ((8,), (1,)), types: (tf.int64, tf.int32)>, <TensorSliceDataset shapes: ((8,), (1,)), types: (tf.int64, tf.int32)>, <TensorSliceDataset shapes: ((8,), (1,)), types: (tf.int64, tf.int32)>, <TensorSliceDataset shapes: ((8,), (1,)), types: (tf.int64, tf.int32)>, <TensorSliceDataset shapes: ((8,), (1,)), types: (tf.int64, tf.int32)>, <TensorSliceDataset shapes: ((8,), (1,)), types: (tf.int64, tf.int32)>, <TensorSliceDataset shapes: ((8,), (1,)), types: (tf.int64, tf.int32)>, <TensorSliceDataset shapes: ((8,), (1,)), types: (tf.int64, tf.int32)>, <TensorSliceDataset shapes: ((8,), (1,)), types: (tf.int64, tf.int32)>, <TensorSliceDataset shapes: ((8,), (1,)), types: (tf.int64, tf.int32)>, <TensorSliceDataset shapes: ((8,), (1,)), types: (tf.int64, tf.int32)>, <TensorSliceDataset shapes: ((8,), (1,)), types: (tf.int64, tf.int32)>, <TensorSliceDataset shapes: ((8,), (1,)), types: (tf.int64, tf.int32)>, <TensorSliceDataset shapes: ((8,), (1,)), types: (tf.int64, tf.int32)>, <TensorSliceDataset shapes: ((8,), (1,)), types: (tf.int64, tf.int32)>, <TensorSliceDataset shapes: ((8,), (1,)), types: (tf.int64, tf.int32)>, <TensorSliceDataset shapes: ((8,), (1,)), types: (tf.int64, tf.int32)>, <TensorSliceDataset shapes: ((8,), (1,)), types: (tf.int64, tf.int32)>, <TensorSliceDataset shapes: ((8,), (1,)), types: (tf.int64, tf.int32)>, <TensorSliceDataset shapes: ((8,), (1,)), types: (tf.int64, tf.int32)>, <TensorSliceDataset shapes: ((8,), (1,)), types: (tf.int64, tf.int32)>, <TensorSliceDataset shapes: ((8,), (1,)), types: (tf.int64, tf.int32)>, <TensorSliceDataset shapes: ((8,), (1,)), types: (tf.int64, tf.int32)>, <TensorSliceDataset shapes: ((8,), (1,)), types: (tf.int64, tf.int32)>, <TensorSliceDataset shapes: ((8,), (1,)), types: (tf.int64, tf.int32)>, <TensorSliceDataset shapes: ((8,), (1,)), types: (tf.int64, tf.int32)>, <TensorSliceDataset shapes: ((8,), (1,)), types: (tf.int64, tf.int32)>, <TensorSliceDataset shapes: ((8,), (1,)), types: (tf.int64, tf.int32)>, <TensorSliceDataset shapes: ((8,), (1,)), types: (tf.int64, tf.int32)>, <TensorSliceDataset shapes: ((8,), (1,)), types: (tf.int64, tf.int32)>, <TensorSliceDataset shapes: ((8,), (1,)), types: (tf.int64, tf.int32)>, <TensorSliceDataset shapes: ((8,), (1,)), types: (tf.int64, tf.int32)>, <TensorSliceDataset shapes: ((8,), (1,)), types: (tf.int64, tf.int32)>, <TensorSliceDataset shapes: ((8,), (1,)), types: (tf.int64, tf.int32)>, <TensorSliceDataset shapes: ((8,), (1,)), types: (tf.int64, tf.int32)>, <TensorSliceDataset shapes: ((8,), (1,)), types: (tf.int64, tf.int32)>, <TensorSliceDataset shapes: ((8,), (1,)), types: (tf.int64, tf.int32)>, <TensorSliceDataset shapes: ((8,), (1,)), types: (tf.int64, tf.int32)>, <TensorSliceDataset shapes: ((8,), (1,)), types: (tf.int64, tf.int32)>, <TensorSliceDataset shapes: ((8,), (1,)), types: (tf.int64, tf.int32)>, <TensorSliceDataset shapes: ((8,), (1,)), types: (tf.int64, tf.int32)>, <TensorSliceDataset shapes: ((8,), (1,)), types: (tf.int64, tf.int32)>, <TensorSliceDataset shapes: ((8,), (1,)), types: (tf.int64, tf.int32)>, <TensorSliceDataset shapes: ((8,), (1,)), types: (tf.int64, tf.int32)>, <TensorSliceDataset shapes: ((8,), (1,)), types: (tf.int64, tf.int32)>, <TensorSliceDataset shapes: ((8,), (1,)), types: (tf.int64, tf.int32)>, <TensorSliceDataset shapes: ((8,), (1,)), types: (tf.int64, tf.int32)>, <TensorSliceDataset shapes: ((8,), (1,)), types: (tf.int64, tf.int32)>, <TensorSliceDataset shapes: ((8,), (1,)), types: (tf.int64, tf.int32)>, <TensorSliceDataset shapes: ((8,), (1,)), types: (tf.int64, tf.int32)>, <TensorSliceDataset shapes: ((8,), (1,)), types: (tf.int64, tf.int32)>, <TensorSliceDataset shapes: ((8,), (1,)), types: (tf.int64, tf.int32)>, <TensorSliceDataset shapes: ((8,), (1,)), types: (tf.int64, tf.int32)>, <TensorSliceDataset shapes: ((8,), (1,)), types: (tf.int64, tf.int32)>, <TensorSliceDataset shapes: ((8,), (1,)), types: (tf.int64, tf.int32)>, <TensorSliceDataset shapes: ((8,), (1,)), types: (tf.int64, tf.int32)>, <TensorSliceDataset shapes: ((8,), (1,)), types: (tf.int64, tf.int32)>, <TensorSliceDataset shapes: ((8,), (1,)), types: (tf.int64, tf.int32)>, <TensorSliceDataset shapes: ((8,), (1,)), types: (tf.int64, tf.int32)>, <TensorSliceDataset shapes: ((8,), (1,)), types: (tf.int64, tf.int32)>, <TensorSliceDataset shapes: ((8,), (1,)), types: (tf.int64, tf.int32)>, <TensorSliceDataset shapes: ((8,), (1,)), types: (tf.int64, tf.int32)>, <TensorSliceDataset shapes: ((8,), (1,)), types: (tf.int64, tf.int32)>, <TensorSliceDataset shapes: ((8,), (1,)), types: (tf.int64, tf.int32)>, <TensorSliceDataset shapes: ((8,), (1,)), types: (tf.int64, tf.int32)>, <TensorSliceDataset shapes: ((8,), (1,)), types: (tf.int64, tf.int32)>, <TensorSliceDataset shapes: ((8,), (1,)), types: (tf.int64, tf.int32)>, <TensorSliceDataset shapes: ((8,), (1,)), types: (tf.int64, tf.int32)>, <TensorSliceDataset shapes: ((8,), (1,)), types: (tf.int64, tf.int32)>, <TensorSliceDataset shapes: ((8,), (1,)), types: (tf.int64, tf.int32)>, <TensorSliceDataset shapes: ((8,), (1,)), types: (tf.int64, tf.int32)>, <TensorSliceDataset shapes: ((8,), (1,)), types: (tf.int64, tf.int32)>, <TensorSliceDataset shapes: ((8,), (1,)), types: (tf.int64, tf.int32)>, <TensorSliceDataset shapes: ((8,), (1,)), types: (tf.int64, tf.int32)>, <TensorSliceDataset shapes: ((8,), (1,)), types: (tf.int64, tf.int32)>, <TensorSliceDataset shapes: ((8,), (1,)), types: (tf.int64, tf.int32)>, <TensorSliceDataset shapes: ((8,), (1,)), types: (tf.int64, tf.int32)>, <TensorSliceDataset shapes: ((8,), (1,)), types: (tf.int64, tf.int32)>, <TensorSliceDataset shapes: ((8,), (1,)), types: (tf.int64, tf.int32)>, <TensorSliceDataset shapes: ((8,), (1,)), types: (tf.int64, tf.int32)>, <TensorSliceDataset shapes: ((8,), (1,)), types: (tf.int64, tf.int32)>, <TensorSliceDataset shapes: ((8,), (1,)), types: (tf.int64, tf.int32)>, <TensorSliceDataset shapes: ((8,), (1,)), types: (tf.int64, tf.int32)>, <TensorSliceDataset shapes: ((8,), (1,)), types: (tf.int64, tf.int32)>, <TensorSliceDataset shapes: ((8,), (1,)), types: (tf.int64, tf.int32)>, <TensorSliceDataset shapes: ((8,), (1,)), types: (tf.int64, tf.int32)>, <TensorSliceDataset shapes: ((8,), (1,)), types: (tf.int64, tf.int32)>, <TensorSliceDataset shapes: ((8,), (1,)), types: (tf.int64, tf.int32)>, <TensorSliceDataset shapes: ((8,), (1,)), types: (tf.int64, tf.int32)>, <TensorSliceDataset shapes: ((8,), (1,)), types: (tf.int64, tf.int32)>, <TensorSliceDataset shapes: ((8,), (1,)), types: (tf.int64, tf.int32)>, <TensorSliceDataset shapes: ((8,), (1,)), types: (tf.int64, tf.int32)>, <TensorSliceDataset shapes: ((8,), (1,)), types: (tf.int64, tf.int32)>, <TensorSliceDataset shapes: ((8,), (1,)), types: (tf.int64, tf.int32)>, <TensorSliceDataset shapes: ((8,), (1,)), types: (tf.int64, tf.int32)>, <TensorSliceDataset shapes: ((8,), (1,)), types: (tf.int64, tf.int32)>, <TensorSliceDataset shapes: ((8,), (1,)), types: (tf.int64, tf.int32)>, <TensorSliceDataset shapes: ((8,), (1,)), types: (tf.int64, tf.int32)>, <TensorSliceDataset shapes: ((8,), (1,)), types: (tf.int64, tf.int32)>, <TensorSliceDataset shapes: ((8,), (1,)), types: (tf.int64, tf.int32)>, <TensorSliceDataset shapes: ((8,), (1,)), types: (tf.int64, tf.int32)>, <TensorSliceDataset shapes: ((8,), (1,)), types: (tf.int64, tf.int32)>, <TensorSliceDataset shapes: ((8,), (1,)), types: (tf.int64, tf.int32)>, <TensorSliceDataset shapes: ((8,), (1,)), types: (tf.int64, tf.int32)>, <TensorSliceDataset shapes: ((8,), (1,)), types: (tf.int64, tf.int32)>, <TensorSliceDataset shapes: ((8,), (1,)), types: (tf.int64, tf.int32)>, <TensorSliceDataset shapes: ((8,), (1,)), types: (tf.int64, tf.int32)>, <TensorSliceDataset shapes: ((8,), (1,)), types: (tf.int64, tf.int32)>, <TensorSliceDataset shapes: ((8,), (1,)), types: (tf.int64, tf.int32)>, <TensorSliceDataset shapes: ((8,), (1,)), types: (tf.int64, tf.int32)>, <TensorSliceDataset shapes: ((8,), (1,)), types: (tf.int64, tf.int32)>, <TensorSliceDataset shapes: ((8,), (1,)), types: (tf.int64, tf.int32)>, <TensorSliceDataset shapes: ((8,), (1,)), types: (tf.int64, tf.int32)>, <TensorSliceDataset shapes: ((8,), (1,)), types: (tf.int64, tf.int32)>, <TensorSliceDataset shapes: ((8,), (1,)), types: (tf.int64, tf.int32)>, <TensorSliceDataset shapes: ((8,), (1,)), types: (tf.int64, tf.int32)>, <TensorSliceDataset shapes: ((8,), (1,)), types: (tf.int64, tf.int32)>, <TensorSliceDataset shapes: ((8,), (1,)), types: (tf.int64, tf.int32)>, <TensorSliceDataset shapes: ((8,), (1,)), types: (tf.int64, tf.int32)>, <TensorSliceDataset shapes: ((8,), (1,)), types: (tf.int64, tf.int32)>, <TensorSliceDataset shapes: ((8,), (1,)), types: (tf.int64, tf.int32)>, <TensorSliceDataset shapes: ((8,), (1,)), types: (tf.int64, tf.int32)>, <TensorSliceDataset shapes: ((8,), (1,)), types: (tf.int64, tf.int32)>, <TensorSliceDataset shapes: ((8,), (1,)), types: (tf.int64, tf.int32)>, <TensorSliceDataset shapes: ((8,), (1,)), types: (tf.int64, tf.int32)>, <TensorSliceDataset shapes: ((8,), (1,)), types: (tf.int64, tf.int32)>, <TensorSliceDataset shapes: ((8,), (1,)), types: (tf.int64, tf.int32)>, <TensorSliceDataset shapes: ((8,), (1,)), types: (tf.int64, tf.int32)>, <TensorSliceDataset shapes: ((8,), (1,)), types: (tf.int64, tf.int32)>, <TensorSliceDataset shapes: ((8,), (1,)), types: (tf.int64, tf.int32)>, <TensorSliceDataset shapes: ((8,), (1,)), types: (tf.int64, tf.int32)>, <TensorSliceDataset shapes: ((8,), (1,)), types: (tf.int64, tf.int32)>, <TensorSliceDataset shapes: ((8,), (1,)), types: (tf.int64, tf.int32)>, <TensorSliceDataset shapes: ((8,), (1,)), types: (tf.int64, tf.int32)>, <TensorSliceDataset shapes: ((8,), (1,)), types: (tf.int64, tf.int32)>, <TensorSliceDataset shapes: ((8,), (1,)), types: (tf.int64, tf.int32)>, <TensorSliceDataset shapes: ((8,), (1,)), types: (tf.int64, tf.int32)>, <TensorSliceDataset shapes: ((8,), (1,)), types: (tf.int64, tf.int32)>, <TensorSliceDataset shapes: ((8,), (1,)), types: (tf.int64, tf.int32)>, <TensorSliceDataset shapes: ((8,), (1,)), types: (tf.int64, tf.int32)>, <TensorSliceDataset shapes: ((8,), (1,)), types: (tf.int64, tf.int32)>, <TensorSliceDataset shapes: ((8,), (1,)), types: (tf.int64, tf.int32)>, <TensorSliceDataset shapes: ((8,), (1,)), types: (tf.int64, tf.int32)>, <TensorSliceDataset shapes: ((8,), (1,)), types: (tf.int64, tf.int32)>, <TensorSliceDataset shapes: ((8,), (1,)), types: (tf.int64, tf.int32)>, <TensorSliceDataset shapes: ((8,), (1,)), types: (tf.int64, tf.int32)>, <TensorSliceDataset shapes: ((8,), (1,)), types: (tf.int64, tf.int32)>, <TensorSliceDataset shapes: ((8,), (1,)), types: (tf.int64, tf.int32)>, <TensorSliceDataset shapes: ((8,), (1,)), types: (tf.int64, tf.int32)>, <TensorSliceDataset shapes: ((8,), (1,)), types: (tf.int64, tf.int32)>, <TensorSliceDataset shapes: ((8,), (1,)), types: (tf.int64, tf.int32)>, <TensorSliceDataset shapes: ((8,), (1,)), types: (tf.int64, tf.int32)>, <TensorSliceDataset shapes: ((8,), (1,)), types: (tf.int64, tf.int32)>, <TensorSliceDataset shapes: ((8,), (1,)), types: (tf.int64, tf.int32)>, <TensorSliceDataset shapes: ((8,), (1,)), types: (tf.int64, tf.int32)>, <TensorSliceDataset shapes: ((8,), (1,)), types: (tf.int64, tf.int32)>, <TensorSliceDataset shapes: ((8,), (1,)), types: (tf.int64, tf.int32)>, <TensorSliceDataset shapes: ((8,), (1,)), types: (tf.int64, tf.int32)>, <TensorSliceDataset shapes: ((8,), (1,)), types: (tf.int64, tf.int32)>, <TensorSliceDataset shapes: ((8,), (1,)), types: (tf.int64, tf.int32)>, <TensorSliceDataset shapes: ((8,), (1,)), types: (tf.int64, tf.int32)>, <TensorSliceDataset shapes: ((8,), (1,)), types: (tf.int64, tf.int32)>, <TensorSliceDataset shapes: ((8,), (1,)), types: (tf.int64, tf.int32)>, <TensorSliceDataset shapes: ((8,), (1,)), types: (tf.int64, tf.int32)>, <TensorSliceDataset shapes: ((8,), (1,)), types: (tf.int64, tf.int32)>, <TensorSliceDataset shapes: ((8,), (1,)), types: (tf.int64, tf.int32)>, <TensorSliceDataset shapes: ((8,), (1,)), types: (tf.int64, tf.int32)>, <TensorSliceDataset shapes: ((8,), (1,)), types: (tf.int64, tf.int32)>, <TensorSliceDataset shapes: ((8,), (1,)), types: (tf.int64, tf.int32)>, <TensorSliceDataset shapes: ((8,), (1,)), types: (tf.int64, tf.int32)>, <TensorSliceDataset shapes: ((8,), (1,)), types: (tf.int64, tf.int32)>, <TensorSliceDataset shapes: ((8,), (1,)), types: (tf.int64, tf.int32)>, <TensorSliceDataset shapes: ((8,), (1,)), types: (tf.int64, tf.int32)>, <TensorSliceDataset shapes: ((8,), (1,)), types: (tf.int64, tf.int32)>, <TensorSliceDataset shapes: ((8,), (1,)), types: (tf.int64, tf.int32)>, <TensorSliceDataset shapes: ((8,), (1,)), types: (tf.int64, tf.int32)>, <TensorSliceDataset shapes: ((8,), (1,)), types: (tf.int64, tf.int32)>, <TensorSliceDataset shapes: ((8,), (1,)), types: (tf.int64, tf.int32)>, <TensorSliceDataset shapes: ((8,), (1,)), types: (tf.int64, tf.int32)>, <TensorSliceDataset shapes: ((8,), (1,)), types: (tf.int64, tf.int32)>, <TensorSliceDataset shapes: ((8,), (1,)), types: (tf.int64, tf.int32)>, <TensorSliceDataset shapes: ((8,), (1,)), types: (tf.int64, tf.int32)>, <TensorSliceDataset shapes: ((8,), (1,)), types: (tf.int64, tf.int32)>, <TensorSliceDataset shapes: ((8,), (1,)), types: (tf.int64, tf.int32)>, <TensorSliceDataset shapes: ((8,), (1,)), types: (tf.int64, tf.int32)>, <TensorSliceDataset shapes: ((8,), (1,)), types: (tf.int64, tf.int32)>, <TensorSliceDataset shapes: ((8,), (1,)), types: (tf.int64, tf.int32)>, <TensorSliceDataset shapes: ((8,), (1,)), types: (tf.int64, tf.int32)>, <TensorSliceDataset shapes: ((8,), (1,)), types: (tf.int64, tf.int32)>, <TensorSliceDataset shapes: ((8,), (1,)), types: (tf.int64, tf.int32)>, <TensorSliceDataset shapes: ((8,), (1,)), types: (tf.int64, tf.int32)>, <TensorSliceDataset shapes: ((8,), (1,)), types: (tf.int64, tf.int32)>, <TensorSliceDataset shapes: ((8,), (1,)), types: (tf.int64, tf.int32)>, <TensorSliceDataset shapes: ((8,), (1,)), types: (tf.int64, tf.int32)>, <TensorSliceDataset shapes: ((8,), (1,)), types: (tf.int64, tf.int32)>, <TensorSliceDataset shapes: ((8,), (1,)), types: (tf.int64, tf.int32)>, <TensorSliceDataset shapes: ((8,), (1,)), types: (tf.int64, tf.int32)>, <TensorSliceDataset shapes: ((8,), (1,)), types: (tf.int64, tf.int32)>, <TensorSliceDataset shapes: ((8,), (1,)), types: (tf.int64, tf.int32)>, <TensorSliceDataset shapes: ((8,), (1,)), types: (tf.int64, tf.int32)>, <TensorSliceDataset shapes: ((8,), (1,)), types: (tf.int64, tf.int32)>, <TensorSliceDataset shapes: ((8,), (1,)), types: (tf.int64, tf.int32)>, <TensorSliceDataset shapes: ((8,), (1,)), types: (tf.int64, tf.int32)>, <TensorSliceDataset shapes: ((8,), (1,)), types: (tf.int64, tf.int32)>, <TensorSliceDataset shapes: ((8,), (1,)), types: (tf.int64, tf.int32)>, <TensorSliceDataset shapes: ((8,), (1,)), types: (tf.int64, tf.int32)>, <TensorSliceDataset shapes: ((8,), (1,)), types: (tf.int64, tf.int32)>, <TensorSliceDataset shapes: ((8,), (1,)), types: (tf.int64, tf.int32)>, <TensorSliceDataset shapes: ((8,), (1,)), types: (tf.int64, tf.int32)>, <TensorSliceDataset shapes: ((8,), (1,)), types: (tf.int64, tf.int32)>, <TensorSliceDataset shapes: ((8,), (1,)), types: (tf.int64, tf.int32)>, <TensorSliceDataset shapes: ((8,), (1,)), types: (tf.int64, tf.int32)>, <TensorSliceDataset shapes: ((8,), (1,)), types: (tf.int64, tf.int32)>, <TensorSliceDataset shapes: ((8,), (1,)), types: (tf.int64, tf.int32)>, <TensorSliceDataset shapes: ((8,), (1,)), types: (tf.int64, tf.int32)>, <TensorSliceDataset shapes: ((8,), (1,)), types: (tf.int64, tf.int32)>, <TensorSliceDataset shapes: ((8,), (1,)), types: (tf.int64, tf.int32)>, <TensorSliceDataset shapes: ((8,), (1,)), types: (tf.int64, tf.int32)>, <TensorSliceDataset shapes: ((8,), (1,)), types: (tf.int64, tf.int32)>, <TensorSliceDataset shapes: ((8,), (1,)), types: (tf.int64, tf.int32)>, <TensorSliceDataset shapes: ((8,), (1,)), types: (tf.int64, tf.int32)>, <TensorSliceDataset shapes: ((8,), (1,)), types: (tf.int64, tf.int32)>, <TensorSliceDataset shapes: ((8,), (1,)), types: (tf.int64, tf.int32)>, <TensorSliceDataset shapes: ((8,), (1,)), types: (tf.int64, tf.int32)>, <TensorSliceDataset shapes: ((8,), (1,)), types: (tf.int64, tf.int32)>, <TensorSliceDataset shapes: ((8,), (1,)), types: (tf.int64, tf.int32)>, <TensorSliceDataset shapes: ((8,), (1,)), types: (tf.int64, tf.int32)>, <TensorSliceDataset shapes: ((8,), (1,)), types: (tf.int64, tf.int32)>, <TensorSliceDataset shapes: ((8,), (1,)), types: (tf.int64, tf.int32)>, <TensorSliceDataset shapes: ((8,), (1,)), types: (tf.int64, tf.int32)>, <TensorSliceDataset shapes: ((8,), (1,)), types: (tf.int64, tf.int32)>, <TensorSliceDataset shapes: ((8,), (1,)), types: (tf.int64, tf.int32)>, <TensorSliceDataset shapes: ((8,), (1,)), types: (tf.int64, tf.int32)>, <TensorSliceDataset shapes: ((8,), (1,)), types: (tf.int64, tf.int32)>, <TensorSliceDataset shapes: ((8,), (1,)), types: (tf.int64, tf.int32)>, <TensorSliceDataset shapes: ((8,), (1,)), types: (tf.int64, tf.int32)>, <TensorSliceDataset shapes: ((8,), (1,)), types: (tf.int64, tf.int32)>, <TensorSliceDataset shapes: ((8,), (1,)), types: (tf.int64, tf.int32)>, <TensorSliceDataset shapes: ((8,), (1,)), types: (tf.int64, tf.int32)>, <TensorSliceDataset shapes: ((8,), (1,)), types: (tf.int64, tf.int32)>, <TensorSliceDataset shapes: ((8,), (1,)), types: (tf.int64, tf.int32)>, <TensorSliceDataset shapes: ((8,), (1,)), types: (tf.int64, tf.int32)>, <TensorSliceDataset shapes: ((8,), (1,)), types: (tf.int64, tf.int32)>, <TensorSliceDataset shapes: ((8,), (1,)), types: (tf.int64, tf.int32)>, <TensorSliceDataset shapes: ((8,), (1,)), types: (tf.int64, tf.int32)>, <TensorSliceDataset shapes: ((8,), (1,)), types: (tf.int64, tf.int32)>, <TensorSliceDataset shapes: ((8,), (1,)), types: (tf.int64, tf.int32)>, <TensorSliceDataset shapes: ((8,), (1,)), types: (tf.int64, tf.int32)>, <TensorSliceDataset shapes: ((8,), (1,)), types: (tf.int64, tf.int32)>, <TensorSliceDataset shapes: ((8,), (1,)), types: (tf.int64, tf.int32)>, <TensorSliceDataset shapes: ((8,), (1,)), types: (tf.int64, tf.int32)>, <TensorSliceDataset shapes: ((8,), (1,)), types: (tf.int64, tf.int32)>, <TensorSliceDataset shapes: ((8,), (1,)), types: (tf.int64, tf.int32)>, <TensorSliceDataset shapes: ((8,), (1,)), types: (tf.int64, tf.int32)>, <TensorSliceDataset shapes: ((8,), (1,)), types: (tf.int64, tf.int32)>, <TensorSliceDataset shapes: ((8,), (1,)), types: (tf.int64, tf.int32)>, <TensorSliceDataset shapes: ((8,), (1,)), types: (tf.int64, tf.int32)>, <TensorSliceDataset shapes: ((8,), (1,)), types: (tf.int64, tf.int32)>, <TensorSliceDataset shapes: ((8,), (1,)), types: (tf.int64, tf.int32)>, <TensorSliceDataset shapes: ((8,), (1,)), types: (tf.int64, tf.int32)>, <TensorSliceDataset shapes: ((8,), (1,)), types: (tf.int64, tf.int32)>, <TensorSliceDataset shapes: ((8,), (1,)), types: (tf.int64, tf.int32)>, <TensorSliceDataset shapes: ((8,), (1,)), types: (tf.int64, tf.int32)>, <TensorSliceDataset shapes: ((8,), (1,)), types: (tf.int64, tf.int32)>, <TensorSliceDataset shapes: ((8,), (1,)), types: (tf.int64, tf.int32)>, <TensorSliceDataset shapes: ((8,), (1,)), types: (tf.int64, tf.int32)>, <TensorSliceDataset shapes: ((8,), (1,)), types: (tf.int64, tf.int32)>, <TensorSliceDataset shapes: ((8,), (1,)), types: (tf.int64, tf.int32)>, <TensorSliceDataset shapes: ((8,), (1,)), types: (tf.int64, tf.int32)>, <TensorSliceDataset shapes: ((8,), (1,)), types: (tf.int64, tf.int32)>, <TensorSliceDataset shapes: ((8,), (1,)), types: (tf.int64, tf.int32)>, <TensorSliceDataset shapes: ((8,), (1,)), types: (tf.int64, tf.int32)>, <TensorSliceDataset shapes: ((8,), (1,)), types: (tf.int64, tf.int32)>, <TensorSliceDataset shapes: ((8,), (1,)), types: (tf.int64, tf.int32)>, <TensorSliceDataset shapes: ((8,), (1,)), types: (tf.int64, tf.int32)>, <TensorSliceDataset shapes: ((8,), (1,)), types: (tf.int64, tf.int32)>, <TensorSliceDataset shapes: ((8,), (1,)), types: (tf.int64, tf.int32)>, <TensorSliceDataset shapes: ((8,), (1,)), types: (tf.int64, tf.int32)>, <TensorSliceDataset shapes: ((8,), (1,)), types: (tf.int64, tf.int32)>, <TensorSliceDataset shapes: ((8,), (1,)), types: (tf.int64, tf.int32)>, <TensorSliceDataset shapes: ((8,), (1,)), types: (tf.int64, tf.int32)>, <TensorSliceDataset shapes: ((8,), (1,)), types: (tf.int64, tf.int32)>, <TensorSliceDataset shapes: ((8,), (1,)), types: (tf.int64, tf.int32)>, <TensorSliceDataset shapes: ((8,), (1,)), types: (tf.int64, tf.int32)>, <TensorSliceDataset shapes: ((8,), (1,)), types: (tf.int64, tf.int32)>, <TensorSliceDataset shapes: ((8,), (1,)), types: (tf.int64, tf.int32)>, <TensorSliceDataset shapes: ((8,), (1,)), types: (tf.int64, tf.int32)>, <TensorSliceDataset shapes: ((8,), (1,)), types: (tf.int64, tf.int32)>, <TensorSliceDataset shapes: ((8,), (1,)), types: (tf.int64, tf.int32)>, <TensorSliceDataset shapes: ((8,), (1,)), types: (tf.int64, tf.int32)>, <TensorSliceDataset shapes: ((8,), (1,)), types: (tf.int64, tf.int32)>, <TensorSliceDataset shapes: ((8,), (1,)), types: (tf.int64, tf.int32)>, <TensorSliceDataset shapes: ((8,), (1,)), types: (tf.int64, tf.int32)>, <TensorSliceDataset shapes: ((8,), (1,)), types: (tf.int64, tf.int32)>, <TensorSliceDataset shapes: ((8,), (1,)), types: (tf.int64, tf.int32)>, <TensorSliceDataset shapes: ((8,), (1,)), types: (tf.int64, tf.int32)>, <TensorSliceDataset shapes: ((8,), (1,)), types: (tf.int64, tf.int32)>, <TensorSliceDataset shapes: ((8,), (1,)), types: (tf.int64, tf.int32)>, <TensorSliceDataset shapes: ((8,), (1,)), types: (tf.int64, tf.int32)>, <TensorSliceDataset shapes: ((8,), (1,)), types: (tf.int64, tf.int32)>, <TensorSliceDataset shapes: ((8,), (1,)), types: (tf.int64, tf.int32)>, <TensorSliceDataset shapes: ((8,), (1,)), types: (tf.int64, tf.int32)>, <TensorSliceDataset shapes: ((8,), (1,)), types: (tf.int64, tf.int32)>, <TensorSliceDataset shapes: ((8,), (1,)), types: (tf.int64, tf.int32)>, <TensorSliceDataset shapes: ((8,), (1,)), types: (tf.int64, tf.int32)>, <TensorSliceDataset shapes: ((8,), (1,)), types: (tf.int64, tf.int32)>, <TensorSliceDataset shapes: ((8,), (1,)), types: (tf.int64, tf.int32)>, <TensorSliceDataset shapes: ((8,), (1,)), types: (tf.int64, tf.int32)>, <TensorSliceDataset shapes: ((8,), (1,)), types: (tf.int64, tf.int32)>, <TensorSliceDataset shapes: ((8,), (1,)), types: (tf.int64, tf.int32)>, <TensorSliceDataset shapes: ((8,), (1,)), types: (tf.int64, tf.int32)>, <TensorSliceDataset shapes: ((8,), (1,)), types: (tf.int64, tf.int32)>, <TensorSliceDataset shapes: ((8,), (1,)), types: (tf.int64, tf.int32)>, <TensorSliceDataset shapes: ((8,), (1,)), types: (tf.int64, tf.int32)>, <TensorSliceDataset shapes: ((8,), (1,)), types: (tf.int64, tf.int32)>, <TensorSliceDataset shapes: ((8,), (1,)), types: (tf.int64, tf.int32)>, <TensorSliceDataset shapes: ((8,), (1,)), types: (tf.int64, tf.int32)>, <TensorSliceDataset shapes: ((8,), (1,)), types: (tf.int64, tf.int32)>, <TensorSliceDataset shapes: ((8,), (1,)), types: (tf.int64, tf.int32)>, <TensorSliceDataset shapes: ((8,), (1,)), types: (tf.int64, tf.int32)>, <TensorSliceDataset shapes: ((8,), (1,)), types: (tf.int64, tf.int32)>, <TensorSliceDataset shapes: ((8,), (1,)), types: (tf.int64, tf.int32)>, <TensorSliceDataset shapes: ((8,), (1,)), types: (tf.int64, tf.int32)>, <TensorSliceDataset shapes: ((8,), (1,)), types: (tf.int64, tf.int32)>, <TensorSliceDataset shapes: ((8,), (1,)), types: (tf.int64, tf.int32)>, <TensorSliceDataset shapes: ((8,), (1,)), types: (tf.int64, tf.int32)>, <TensorSliceDataset shapes: ((8,), (1,)), types: (tf.int64, tf.int32)>, <TensorSliceDataset shapes: ((8,), (1,)), types: (tf.int64, tf.int32)>, <TensorSliceDataset shapes: ((8,), (1,)), types: (tf.int64, tf.int32)>, <TensorSliceDataset shapes: ((8,), (1,)), types: (tf.int64, tf.int32)>, <TensorSliceDataset shapes: ((8,), (1,)), types: (tf.int64, tf.int32)>, <TensorSliceDataset shapes: ((8,), (1,)), types: (tf.int64, tf.int32)>, <TensorSliceDataset shapes: ((8,), (1,)), types: (tf.int64, tf.int32)>, <TensorSliceDataset shapes: ((8,), (1,)), types: (tf.int64, tf.int32)>, <TensorSliceDataset shapes: ((8,), (1,)), types: (tf.int64, tf.int32)>, <TensorSliceDataset shapes: ((8,), (1,)), types: (tf.int64, tf.int32)>, <TensorSliceDataset shapes: ((8,), (1,)), types: (tf.int64, tf.int32)>, <TensorSliceDataset shapes: ((8,), (1,)), types: (tf.int64, tf.int32)>, <TensorSliceDataset shapes: ((8,), (1,)), types: (tf.int64, tf.int32)>, <TensorSliceDataset shapes: ((8,), (1,)), types: (tf.int64, tf.int32)>, <TensorSliceDataset shapes: ((8,), (1,)), types: (tf.int64, tf.int32)>, <TensorSliceDataset shapes: ((8,), (1,)), types: (tf.int64, tf.int32)>, <TensorSliceDataset shapes: ((8,), (1,)), types: (tf.int64, tf.int32)>, <TensorSliceDataset shapes: ((8,), (1,)), types: (tf.int64, tf.int32)>, <TensorSliceDataset shapes: ((8,), (1,)), types: (tf.int64, tf.int32)>, <TensorSliceDataset shapes: ((8,), (1,)), types: (tf.int64, tf.int32)>, <TensorSliceDataset shapes: ((8,), (1,)), types: (tf.int64, tf.int32)>, <TensorSliceDataset shapes: ((8,), (1,)), types: (tf.int64, tf.int32)>, <TensorSliceDataset shapes: ((8,), (1,)), types: (tf.int64, tf.int32)>, <TensorSliceDataset shapes: ((8,), (1,)), types: (tf.int64, tf.int32)>, <TensorSliceDataset shapes: ((8,), (1,)), types: (tf.int64, tf.int32)>, <TensorSliceDataset shapes: ((8,), (1,)), types: (tf.int64, tf.int32)>, <TensorSliceDataset shapes: ((8,), (1,)), types: (tf.int64, tf.int32)>, <TensorSliceDataset shapes: ((8,), (1,)), types: (tf.int64, tf.int32)>, <TensorSliceDataset shapes: ((8,), (1,)), types: (tf.int64, tf.int32)>, <TensorSliceDataset shapes: ((8,), (1,)), types: (tf.int64, tf.int32)>, <TensorSliceDataset shapes: ((8,), (1,)), types: (tf.int64, tf.int32)>, <TensorSliceDataset shapes: ((8,), (1,)), types: (tf.int64, tf.int32)>, <TensorSliceDataset shapes: ((8,), (1,)), types: (tf.int64, tf.int32)>, <TensorSliceDataset shapes: ((8,), (1,)), types: (tf.int64, tf.int32)>, <TensorSliceDataset shapes: ((8,), (1,)), types: (tf.int64, tf.int32)>, <TensorSliceDataset shapes: ((8,), (1,)), types: (tf.int64, tf.int32)>, <TensorSliceDataset shapes: ((8,), (1,)), types: (tf.int64, tf.int32)>, <TensorSliceDataset shapes: ((8,), (1,)), types: (tf.int64, tf.int32)>, <TensorSliceDataset shapes: ((8,), (1,)), types: (tf.int64, tf.int32)>, <TensorSliceDataset shapes: ((8,), (1,)), types: (tf.int64, tf.int32)>, <TensorSliceDataset shapes: ((8,), (1,)), types: (tf.int64, tf.int32)>, <TensorSliceDataset shapes: ((8,), (1,)), types: (tf.int64, tf.int32)>, <TensorSliceDataset shapes: ((8,), (1,)), types: (tf.int64, tf.int32)>, <TensorSliceDataset shapes: ((8,), (1,)), types: (tf.int64, tf.int32)>, <TensorSliceDataset shapes: ((8,), (1,)), types: (tf.int64, tf.int32)>, <TensorSliceDataset shapes: ((8,), (1,)), types: (tf.int64, tf.int32)>, <TensorSliceDataset shapes: ((8,), (1,)), types: (tf.int64, tf.int32)>, <TensorSliceDataset shapes: ((8,), (1,)), types: (tf.int64, tf.int32)>, <TensorSliceDataset shapes: ((8,), (1,)), types: (tf.int64, tf.int32)>, <TensorSliceDataset shapes: ((8,), (1,)), types: (tf.int64, tf.int32)>, <TensorSliceDataset shapes: ((8,), (1,)), types: (tf.int64, tf.int32)>, <TensorSliceDataset shapes: ((8,), (1,)), types: (tf.int64, tf.int32)>, <TensorSliceDataset shapes: ((8,), (1,)), types: (tf.int64, tf.int32)>, <TensorSliceDataset shapes: ((8,), (1,)), types: (tf.int64, tf.int32)>, <TensorSliceDataset shapes: ((8,), (1,)), types: (tf.int64, tf.int32)>, <TensorSliceDataset shapes: ((8,), (1,)), types: (tf.int64, tf.int32)>, <TensorSliceDataset shapes: ((8,), (1,)), types: (tf.int64, tf.int32)>, <TensorSliceDataset shapes: ((8,), (1,)), types: (tf.int64, tf.int32)>, <TensorSliceDataset shapes: ((8,), (1,)), types: (tf.int64, tf.int32)>, <TensorSliceDataset shapes: ((8,), (1,)), types: (tf.int64, tf.int32)>, <TensorSliceDataset shapes: ((8,), (1,)), types: (tf.int64, tf.int32)>, <TensorSliceDataset shapes: ((8,), (1,)), types: (tf.int64, tf.int32)>, <TensorSliceDataset shapes: ((8,), (1,)), types: (tf.int64, tf.int32)>, <TensorSliceDataset shapes: ((8,), (1,)), types: (tf.int64, tf.int32)>, <TensorSliceDataset shapes: ((8,), (1,)), types: (tf.int64, tf.int32)>, <TensorSliceDataset shapes: ((8,), (1,)), types: (tf.int64, tf.int32)>, <TensorSliceDataset shapes: ((8,), (1,)), types: (tf.int64, tf.int32)>, <TensorSliceDataset shapes: ((8,), (1,)), types: (tf.int64, tf.int32)>, <TensorSliceDataset shapes: ((8,), (1,)), types: (tf.int64, tf.int32)>, <TensorSliceDataset shapes: ((8,), (1,)), types: (tf.int64, tf.int32)>, <TensorSliceDataset shapes: ((8,), (1,)), types: (tf.int64, tf.int32)>, <TensorSliceDataset shapes: ((8,), (1,)), types: (tf.int64, tf.int32)>, <TensorSliceDataset shapes: ((8,), (1,)), types: (tf.int64, tf.int32)>, <TensorSliceDataset shapes: ((8,), (1,)), types: (tf.int64, tf.int32)>, <TensorSliceDataset shapes: ((8,), (1,)), types: (tf.int64, tf.int32)>, <TensorSliceDataset shapes: ((8,), (1,)), types: (tf.int64, tf.int32)>, <TensorSliceDataset shapes: ((8,), (1,)), types: (tf.int64, tf.int32)>, <TensorSliceDataset shapes: ((8,), (1,)), types: (tf.int64, tf.int32)>, <TensorSliceDataset shapes: ((8,), (1,)), types: (tf.int64, tf.int32)>, <TensorSliceDataset shapes: ((8,), (1,)), types: (tf.int64, tf.int32)>, <TensorSliceDataset shapes: ((8,), (1,)), types: (tf.int64, tf.int32)>, <TensorSliceDataset shapes: ((8,), (1,)), types: (tf.int64, tf.int32)>, <TensorSliceDataset shapes: ((8,), (1,)), types: (tf.int64, tf.int32)>, <TensorSliceDataset shapes: ((8,), (1,)), types: (tf.int64, tf.int32)>, <TensorSliceDataset shapes: ((8,), (1,)), types: (tf.int64, tf.int32)>, <TensorSliceDataset shapes: ((8,), (1,)), types: (tf.int64, tf.int32)>, <TensorSliceDataset shapes: ((8,), (1,)), types: (tf.int64, tf.int32)>, <TensorSliceDataset shapes: ((8,), (1,)), types: (tf.int64, tf.int32)>, <TensorSliceDataset shapes: ((8,), (1,)), types: (tf.int64, tf.int32)>, <TensorSliceDataset shapes: ((8,), (1,)), types: (tf.int64, tf.int32)>, <TensorSliceDataset shapes: ((8,), (1,)), types: (tf.int64, tf.int32)>, <TensorSliceDataset shapes: ((8,), (1,)), types: (tf.int64, tf.int32)>, <TensorSliceDataset shapes: ((8,), (1,)), types: (tf.int64, tf.int32)>, <TensorSliceDataset shapes: ((8,), (1,)), types: (tf.int64, tf.int32)>, <TensorSliceDataset shapes: ((8,), (1,)), types: (tf.int64, tf.int32)>, <TensorSliceDataset shapes: ((8,), (1,)), types: (tf.int64, tf.int32)>, <TensorSliceDataset shapes: ((8,), (1,)), types: (tf.int64, tf.int32)>, <TensorSliceDataset shapes: ((8,), (1,)), types: (tf.int64, tf.int32)>, <TensorSliceDataset shapes: ((8,), (1,)), types: (tf.int64, tf.int32)>, <TensorSliceDataset shapes: ((8,), (1,)), types: (tf.int64, tf.int32)>, <TensorSliceDataset shapes: ((8,), (1,)), types: (tf.int64, tf.int32)>, <TensorSliceDataset shapes: ((8,), (1,)), types: (tf.int64, tf.int32)>, <TensorSliceDataset shapes: ((8,), (1,)), types: (tf.int64, tf.int32)>, <TensorSliceDataset shapes: ((8,), (1,)), types: (tf.int64, tf.int32)>, <TensorSliceDataset shapes: ((8,), (1,)), types: (tf.int64, tf.int32)>, <TensorSliceDataset shapes: ((8,), (1,)), types: (tf.int64, tf.int32)>, <TensorSliceDataset shapes: ((8,), (1,)), types: (tf.int64, tf.int32)>, <TensorSliceDataset shapes: ((8,), (1,)), types: (tf.int64, tf.int32)>, <TensorSliceDataset shapes: ((8,), (1,)), types: (tf.int64, tf.int32)>, <TensorSliceDataset shapes: ((8,), (1,)), types: (tf.int64, tf.int32)>, <TensorSliceDataset shapes: ((8,), (1,)), types: (tf.int64, tf.int32)>, <TensorSliceDataset shapes: ((8,), (1,)), types: (tf.int64, tf.int32)>, <TensorSliceDataset shapes: ((8,), (1,)), types: (tf.int64, tf.int32)>, <TensorSliceDataset shapes: ((8,), (1,)), types: (tf.int64, tf.int32)>, <TensorSliceDataset shapes: ((8,), (1,)), types: (tf.int64, tf.int32)>, <TensorSliceDataset shapes: ((8,), (1,)), types: (tf.int64, tf.int32)>, <TensorSliceDataset shapes: ((8,), (1,)), types: (tf.int64, tf.int32)>, <TensorSliceDataset shapes: ((8,), (1,)), types: (tf.int64, tf.int32)>, <TensorSliceDataset shapes: ((8,), (1,)), types: (tf.int64, tf.int32)>, <TensorSliceDataset shapes: ((8,), (1,)), types: (tf.int64, tf.int32)>, <TensorSliceDataset shapes: ((8,), (1,)), types: (tf.int64, tf.int32)>, <TensorSliceDataset shapes: ((8,), (1,)), types: (tf.int64, tf.int32)>, <TensorSliceDataset shapes: ((8,), (1,)), types: (tf.int64, tf.int32)>, <TensorSliceDataset shapes: ((8,), (1,)), types: (tf.int64, tf.int32)>, <TensorSliceDataset shapes: ((8,), (1,)), types: (tf.int64, tf.int32)>, <TensorSliceDataset shapes: ((8,), (1,)), types: (tf.int64, tf.int32)>, <TensorSliceDataset shapes: ((8,), (1,)), types: (tf.int64, tf.int32)>, <TensorSliceDataset shapes: ((8,), (1,)), types: (tf.int64, tf.int32)>, <TensorSliceDataset shapes: ((8,), (1,)), types: (tf.int64, tf.int32)>, <TensorSliceDataset shapes: ((8,), (1,)), types: (tf.int64, tf.int32)>, <TensorSliceDataset shapes: ((8,), (1,)), types: (tf.int64, tf.int32)>, <TensorSliceDataset shapes: ((8,), (1,)), types: (tf.int64, tf.int32)>, <TensorSliceDataset shapes: ((8,), (1,)), types: (tf.int64, tf.int32)>, <TensorSliceDataset shapes: ((8,), (1,)), types: (tf.int64, tf.int32)>, <TensorSliceDataset shapes: ((8,), (1,)), types: (tf.int64, tf.int32)>, <TensorSliceDataset shapes: ((8,), (1,)), types: (tf.int64, tf.int32)>, <TensorSliceDataset shapes: ((8,), (1,)), types: (tf.int64, tf.int32)>, <TensorSliceDataset shapes: ((8,), (1,)), types: (tf.int64, tf.int32)>, <TensorSliceDataset shapes: ((8,), (1,)), types: (tf.int64, tf.int32)>, <TensorSliceDataset shapes: ((8,), (1,)), types: (tf.int64, tf.int32)>, <TensorSliceDataset shapes: ((8,), (1,)), types: (tf.int64, tf.int32)>, <TensorSliceDataset shapes: ((8,), (1,)), types: (tf.int64, tf.int32)>, <TensorSliceDataset shapes: ((8,), (1,)), types: (tf.int64, tf.int32)>, <TensorSliceDataset shapes: ((8,), (1,)), types: (tf.int64, tf.int32)>, <TensorSliceDataset shapes: ((8,), (1,)), types: (tf.int64, tf.int32)>, <TensorSliceDataset shapes: ((8,), (1,)), types: (tf.int64, tf.int32)>, <TensorSliceDataset shapes: ((8,), (1,)), types: (tf.int64, tf.int32)>, <TensorSliceDataset shapes: ((8,), (1,)), types: (tf.int64, tf.int32)>, <TensorSliceDataset shapes: ((8,), (1,)), types: (tf.int64, tf.int32)>, <TensorSliceDataset shapes: ((8,), (1,)), types: (tf.int64, tf.int32)>, <TensorSliceDataset shapes: ((8,), (1,)), types: (tf.int64, tf.int32)>, <TensorSliceDataset shapes: ((8,), (1,)), types: (tf.int64, tf.int32)>, <TensorSliceDataset shapes: ((8,), (1,)), types: (tf.int64, tf.int32)>, <TensorSliceDataset shapes: ((8,), (1,)), types: (tf.int64, tf.int32)>, <TensorSliceDataset shapes: ((8,), (1,)), types: (tf.int64, tf.int32)>, <TensorSliceDataset shapes: ((8,), (1,)), types: (tf.int64, tf.int32)>, <TensorSliceDataset shapes: ((8,), (1,)), types: (tf.int64, tf.int32)>, <TensorSliceDataset shapes: ((8,), (1,)), types: (tf.int64, tf.int32)>, <TensorSliceDataset shapes: ((8,), (1,)), types: (tf.int64, tf.int32)>, <TensorSliceDataset shapes: ((8,), (1,)), types: (tf.int64, tf.int32)>, <TensorSliceDataset shapes: ((8,), (1,)), types: (tf.int64, tf.int32)>, <TensorSliceDataset shapes: ((8,), (1,)), types: (tf.int64, tf.int32)>, <TensorSliceDataset shapes: ((8,), (1,)), types: (tf.int64, tf.int32)>, <TensorSliceDataset shapes: ((8,), (1,)), types: (tf.int64, tf.int32)>, <TensorSliceDataset shapes: ((8,), (1,)), types: (tf.int64, tf.int32)>, <TensorSliceDataset shapes: ((8,), (1,)), types: (tf.int64, tf.int32)>, <TensorSliceDataset shapes: ((8,), (1,)), types: (tf.int64, tf.int32)>, <TensorSliceDataset shapes: ((8,), (1,)), types: (tf.int64, tf.int32)>, <TensorSliceDataset shapes: ((8,), (1,)), types: (tf.int64, tf.int32)>, <TensorSliceDataset shapes: ((8,), (1,)), types: (tf.int64, tf.int32)>, <TensorSliceDataset shapes: ((8,), (1,)), types: (tf.int64, tf.int32)>, <TensorSliceDataset shapes: ((8,), (1,)), types: (tf.int64, tf.int32)>, <TensorSliceDataset shapes: ((8,), (1,)), types: (tf.int64, tf.int32)>, <TensorSliceDataset shapes: ((8,), (1,)), types: (tf.int64, tf.int32)>, <TensorSliceDataset shapes: ((8,), (1,)), types: (tf.int64, tf.int32)>, <TensorSliceDataset shapes: ((8,), (1,)), types: (tf.int64, tf.int32)>, <TensorSliceDataset shapes: ((8,), (1,)), types: (tf.int64, tf.int32)>, <TensorSliceDataset shapes: ((8,), (1,)), types: (tf.int64, tf.int32)>, <TensorSliceDataset shapes: ((8,), (1,)), types: (tf.int64, tf.int32)>, <TensorSliceDataset shapes: ((8,), (1,)), types: (tf.int64, tf.int32)>, <TensorSliceDataset shapes: ((8,), (1,)), types: (tf.int64, tf.int32)>, <TensorSliceDataset shapes: ((8,), (1,)), types: (tf.int64, tf.int32)>, <TensorSliceDataset shapes: ((8,), (1,)), types: (tf.int64, tf.int32)>, <TensorSliceDataset shapes: ((8,), (1,)), types: (tf.int64, tf.int32)>, <TensorSliceDataset shapes: ((8,), (1,)), types: (tf.int64, tf.int32)>, <TensorSliceDataset shapes: ((8,), (1,)), types: (tf.int64, tf.int32)>, <TensorSliceDataset shapes: ((8,), (1,)), types: (tf.int64, tf.int32)>, <TensorSliceDataset shapes: ((8,), (1,)), types: (tf.int64, tf.int32)>, <TensorSliceDataset shapes: ((8,), (1,)), types: (tf.int64, tf.int32)>, <TensorSliceDataset shapes: ((8,), (1,)), types: (tf.int64, tf.int32)>, <TensorSliceDataset shapes: ((8,), (1,)), types: (tf.int64, tf.int32)>, <TensorSliceDataset shapes: ((8,), (1,)), types: (tf.int64, tf.int32)>, <TensorSliceDataset shapes: ((8,), (1,)), types: (tf.int64, tf.int32)>, <TensorSliceDataset shapes: ((8,), (1,)), types: (tf.int64, tf.int32)>, <TensorSliceDataset shapes: ((8,), (1,)), types: (tf.int64, tf.int32)>, <TensorSliceDataset shapes: ((8,), (1,)), types: (tf.int64, tf.int32)>, <TensorSliceDataset shapes: ((8,), (1,)), types: (tf.int64, tf.int32)>, <TensorSliceDataset shapes: ((8,), (1,)), types: (tf.int64, tf.int32)>, <TensorSliceDataset shapes: ((8,), (1,)), types: (tf.int64, tf.int32)>, <TensorSliceDataset shapes: ((8,), (1,)), types: (tf.int64, tf.int32)>, <TensorSliceDataset shapes: ((8,), (1,)), types: (tf.int64, tf.int32)>, <TensorSliceDataset shapes: ((8,), (1,)), types: (tf.int64, tf.int32)>, <TensorSliceDataset shapes: ((8,), (1,)), types: (tf.int64, tf.int32)>, <TensorSliceDataset shapes: ((8,), (1,)), types: (tf.int64, tf.int32)>, <TensorSliceDataset shapes: ((8,), (1,)), types: (tf.int64, tf.int32)>, <TensorSliceDataset shapes: ((8,), (1,)), types: (tf.int64, tf.int32)>, <TensorSliceDataset shapes: ((8,), (1,)), types: (tf.int64, tf.int32)>, <TensorSliceDataset shapes: ((8,), (1,)), types: (tf.int64, tf.int32)>, <TensorSliceDataset shapes: ((8,), (1,)), types: (tf.int64, tf.int32)>, <TensorSliceDataset shapes: ((8,), (1,)), types: (tf.int64, tf.int32)>, <TensorSliceDataset shapes: ((8,), (1,)), types: (tf.int64, tf.int32)>, <TensorSliceDataset shapes: ((8,), (1,)), types: (tf.int64, tf.int32)>, <TensorSliceDataset shapes: ((8,), (1,)), types: (tf.int64, tf.int32)>, <TensorSliceDataset shapes: ((8,), (1,)), types: (tf.int64, tf.int32)>, <TensorSliceDataset shapes: ((8,), (1,)), types: (tf.int64, tf.int32)>, <TensorSliceDataset shapes: ((8,), (1,)), types: (tf.int64, tf.int32)>, <TensorSliceDataset shapes: ((8,), (1,)), types: (tf.int64, tf.int32)>, <TensorSliceDataset shapes: ((8,), (1,)), types: (tf.int64, tf.int32)>, <TensorSliceDataset shapes: ((8,), (1,)), types: (tf.int64, tf.int32)>, <TensorSliceDataset shapes: ((8,), (1,)), types: (tf.int64, tf.int32)>, <TensorSliceDataset shapes: ((8,), (1,)), types: (tf.int64, tf.int32)>, <TensorSliceDataset shapes: ((8,), (1,)), types: (tf.int64, tf.int32)>, <TensorSliceDataset shapes: ((8,), (1,)), types: (tf.int64, tf.int32)>, <TensorSliceDataset shapes: ((8,), (1,)), types: (tf.int64, tf.int32)>, <TensorSliceDataset shapes: ((8,), (1,)), types: (tf.int64, tf.int32)>, <TensorSliceDataset shapes: ((8,), (1,)), types: (tf.int64, tf.int32)>, <TensorSliceDataset shapes: ((8,), (1,)), types: (tf.int64, tf.int32)>, <TensorSliceDataset shapes: ((8,), (1,)), types: (tf.int64, tf.int32)>, <TensorSliceDataset shapes: ((8,), (1,)), types: (tf.int64, tf.int32)>, <TensorSliceDataset shapes: ((8,), (1,)), types: (tf.int64, tf.int32)>, <TensorSliceDataset shapes: ((8,), (1,)), types: (tf.int64, tf.int32)>, <TensorSliceDataset shapes: ((8,), (1,)), types: (tf.int64, tf.int32)>, <TensorSliceDataset shapes: ((8,), (1,)), types: (tf.int64, tf.int32)>, <TensorSliceDataset shapes: ((8,), (1,)), types: (tf.int64, tf.int32)>, <TensorSliceDataset shapes: ((8,), (1,)), types: (tf.int64, tf.int32)>, <TensorSliceDataset shapes: ((8,), (1,)), types: (tf.int64, tf.int32)>, <TensorSliceDataset shapes: ((8,), (1,)), types: (tf.int64, tf.int32)>, <TensorSliceDataset shapes: ((8,), (1,)), types: (tf.int64, tf.int32)>, <TensorSliceDataset shapes: ((8,), (1,)), types: (tf.int64, tf.int32)>, <TensorSliceDataset shapes: ((8,), (1,)), types: (tf.int64, tf.int32)>, <TensorSliceDataset shapes: ((8,), (1,)), types: (tf.int64, tf.int32)>, <TensorSliceDataset shapes: ((8,), (1,)), types: (tf.int64, tf.int32)>, <TensorSliceDataset shapes: ((8,), (1,)), types: (tf.int64, tf.int32)>, <TensorSliceDataset shapes: ((8,), (1,)), types: (tf.int64, tf.int32)>, <TensorSliceDataset shapes: ((8,), (1,)), types: (tf.int64, tf.int32)>, <TensorSliceDataset shapes: ((8,), (1,)), types: (tf.int64, tf.int32)>, <TensorSliceDataset shapes: ((8,), (1,)), types: (tf.int64, tf.int32)>, <TensorSliceDataset shapes: ((8,), (1,)), types: (tf.int64, tf.int32)>, <TensorSliceDataset shapes: ((8,), (1,)), types: (tf.int64, tf.int32)>, <TensorSliceDataset shapes: ((8,), (1,)), types: (tf.int64, tf.int32)>, <TensorSliceDataset shapes: ((8,), (1,)), types: (tf.int64, tf.int32)>, <TensorSliceDataset shapes: ((8,), (1,)), types: (tf.int64, tf.int32)>, <TensorSliceDataset shapes: ((8,), (1,)), types: (tf.int64, tf.int32)>, <TensorSliceDataset shapes: ((8,), (1,)), types: (tf.int64, tf.int32)>, <TensorSliceDataset shapes: ((8,), (1,)), types: (tf.int64, tf.int32)>, <TensorSliceDataset shapes: ((8,), (1,)), types: (tf.int64, tf.int32)>, <TensorSliceDataset shapes: ((8,), (1,)), types: (tf.int64, tf.int32)>, <TensorSliceDataset shapes: ((8,), (1,)), types: (tf.int64, tf.int32)>, <TensorSliceDataset shapes: ((8,), (1,)), types: (tf.int64, tf.int32)>, <TensorSliceDataset shapes: ((8,), (1,)), types: (tf.int64, tf.int32)>, <TensorSliceDataset shapes: ((8,), (1,)), types: (tf.int64, tf.int32)>, <TensorSliceDataset shapes: ((8,), (1,)), types: (tf.int64, tf.int32)>, <TensorSliceDataset shapes: ((8,), (1,)), types: (tf.int64, tf.int32)>, <TensorSliceDataset shapes: ((8,), (1,)), types: (tf.int64, tf.int32)>, <TensorSliceDataset shapes: ((8,), (1,)), types: (tf.int64, tf.int32)>, <TensorSliceDataset shapes: ((8,), (1,)), types: (tf.int64, tf.int32)>, <TensorSliceDataset shapes: ((8,), (1,)), types: (tf.int64, tf.int32)>, <TensorSliceDataset shapes: ((8,), (1,)), types: (tf.int64, tf.int32)>, <TensorSliceDataset shapes: ((8,), (1,)), types: (tf.int64, tf.int32)>, <TensorSliceDataset shapes: ((8,), (1,)), types: (tf.int64, tf.int32)>, <TensorSliceDataset shapes: ((8,), (1,)), types: (tf.int64, tf.int32)>, <TensorSliceDataset shapes: ((8,), (1,)), types: (tf.int64, tf.int32)>, <TensorSliceDataset shapes: ((8,), (1,)), types: (tf.int64, tf.int32)>, <TensorSliceDataset shapes: ((8,), (1,)), types: (tf.int64, tf.int32)>, <TensorSliceDataset shapes: ((8,), (1,)), types: (tf.int64, tf.int32)>, <TensorSliceDataset shapes: ((8,), (1,)), types: (tf.int64, tf.int32)>, <TensorSliceDataset shapes: ((8,), (1,)), types: (tf.int64, tf.int32)>, <TensorSliceDataset shapes: ((8,), (1,)), types: (tf.int64, tf.int32)>, <TensorSliceDataset shapes: ((8,), (1,)), types: (tf.int64, tf.int32)>, <TensorSliceDataset shapes: ((8,), (1,)), types: (tf.int64, tf.int32)>, <TensorSliceDataset shapes: ((8,), (1,)), types: (tf.int64, tf.int32)>, <TensorSliceDataset shapes: ((8,), (1,)), types: (tf.int64, tf.int32)>, <TensorSliceDataset shapes: ((8,), (1,)), types: (tf.int64, tf.int32)>, <TensorSliceDataset shapes: ((8,), (1,)), types: (tf.int64, tf.int32)>, <TensorSliceDataset shapes: ((8,), (1,)), types: (tf.int64, tf.int32)>, <TensorSliceDataset shapes: ((8,), (1,)), types: (tf.int64, tf.int32)>, <TensorSliceDataset shapes: ((8,), (1,)), types: (tf.int64, tf.int32)>, <TensorSliceDataset shapes: ((8,), (1,)), types: (tf.int64, tf.int32)>, <TensorSliceDataset shapes: ((8,), (1,)), types: (tf.int64, tf.int32)>, <TensorSliceDataset shapes: ((8,), (1,)), types: (tf.int64, tf.int32)>, <TensorSliceDataset shapes: ((8,), (1,)), types: (tf.int64, tf.int32)>, <TensorSliceDataset shapes: ((8,), (1,)), types: (tf.int64, tf.int32)>, <TensorSliceDataset shapes: ((8,), (1,)), types: (tf.int64, tf.int32)>, <TensorSliceDataset shapes: ((8,), (1,)), types: (tf.int64, tf.int32)>, <TensorSliceDataset shapes: ((8,), (1,)), types: (tf.int64, tf.int32)>, <TensorSliceDataset shapes: ((8,), (1,)), types: (tf.int64, tf.int32)>, <TensorSliceDataset shapes: ((8,), (1,)), types: (tf.int64, tf.int32)>, <TensorSliceDataset shapes: ((8,), (1,)), types: (tf.int64, tf.int32)>, <TensorSliceDataset shapes: ((8,), (1,)), types: (tf.int64, tf.int32)>, <TensorSliceDataset shapes: ((8,), (1,)), types: (tf.int64, tf.int32)>, <TensorSliceDataset shapes: ((8,), (1,)), types: (tf.int64, tf.int32)>, <TensorSliceDataset shapes: ((8,), (1,)), types: (tf.int64, tf.int32)>, <TensorSliceDataset shapes: ((8,), (1,)), types: (tf.int64, tf.int32)>, <TensorSliceDataset shapes: ((8,), (1,)), types: (tf.int64, tf.int32)>, <TensorSliceDataset shapes: ((8,), (1,)), types: (tf.int64, tf.int32)>, <TensorSliceDataset shapes: ((8,), (1,)), types: (tf.int64, tf.int32)>, <TensorSliceDataset shapes: ((8,), (1,)), types: (tf.int64, tf.int32)>, <TensorSliceDataset shapes: ((8,), (1,)), types: (tf.int64, tf.int32)>, <TensorSliceDataset shapes: ((8,), (1,)), types: (tf.int64, tf.int32)>, <TensorSliceDataset shapes: ((8,), (1,)), types: (tf.int64, tf.int32)>, <TensorSliceDataset shapes: ((8,), (1,)), types: (tf.int64, tf.int32)>, <TensorSliceDataset shapes: ((8,), (1,)), types: (tf.int64, tf.int32)>, <TensorSliceDataset shapes: ((8,), (1,)), types: (tf.int64, tf.int32)>, <TensorSliceDataset shapes: ((8,), (1,)), types: (tf.int64, tf.int32)>, <TensorSliceDataset shapes: ((8,), (1,)), types: (tf.int64, tf.int32)>, <TensorSliceDataset shapes: ((8,), (1,)), types: (tf.int64, tf.int32)>, <TensorSliceDataset shapes: ((8,), (1,)), types: (tf.int64, tf.int32)>, <TensorSliceDataset shapes: ((8,), (1,)), types: (tf.int64, tf.int32)>, <TensorSliceDataset shapes: ((8,), (1,)), types: (tf.int64, tf.int32)>, <TensorSliceDataset shapes: ((8,), (1,)), types: (tf.int64, tf.int32)>, <TensorSliceDataset shapes: ((8,), (1,)), types: (tf.int64, tf.int32)>, <TensorSliceDataset shapes: ((8,), (1,)), types: (tf.int64, tf.int32)>, <TensorSliceDataset shapes: ((8,), (1,)), types: (tf.int64, tf.int32)>, <TensorSliceDataset shapes: ((8,), (1,)), types: (tf.int64, tf.int32)>, <TensorSliceDataset shapes: ((8,), (1,)), types: (tf.int64, tf.int32)>, <TensorSliceDataset shapes: ((8,), (1,)), types: (tf.int64, tf.int32)>, <TensorSliceDataset shapes: ((8,), (1,)), types: (tf.int64, tf.int32)>, <TensorSliceDataset shapes: ((8,), (1,)), types: (tf.int64, tf.int32)>, <TensorSliceDataset shapes: ((8,), (1,)), types: (tf.int64, tf.int32)>, <TensorSliceDataset shapes: ((8,), (1,)), types: (tf.int64, tf.int32)>, <TensorSliceDataset shapes: ((8,), (1,)), types: (tf.int64, tf.int32)>, <TensorSliceDataset shapes: ((8,), (1,)), types: (tf.int64, tf.int32)>, <TensorSliceDataset shapes: ((8,), (1,)), types: (tf.int64, tf.int32)>, <TensorSliceDataset shapes: ((8,), (1,)), types: (tf.int64, tf.int32)>, <TensorSliceDataset shapes: ((8,), (1,)), types: (tf.int64, tf.int32)>, <TensorSliceDataset shapes: ((8,), (1,)), types: (tf.int64, tf.int32)>, <TensorSliceDataset shapes: ((8,), (1,)), types: (tf.int64, tf.int32)>, <TensorSliceDataset shapes: ((8,), (1,)), types: (tf.int64, tf.int32)>, <TensorSliceDataset shapes: ((8,), (1,)), types: (tf.int64, tf.int32)>, <TensorSliceDataset shapes: ((8,), (1,)), types: (tf.int64, tf.int32)>, <TensorSliceDataset shapes: ((8,), (1,)), types: (tf.int64, tf.int32)>, <TensorSliceDataset shapes: ((8,), (1,)), types: (tf.int64, tf.int32)>, <TensorSliceDataset shapes: ((8,), (1,)), types: (tf.int64, tf.int32)>, <TensorSliceDataset shapes: ((8,), (1,)), types: (tf.int64, tf.int32)>, <TensorSliceDataset shapes: ((8,), (1,)), types: (tf.int64, tf.int32)>, <TensorSliceDataset shapes: ((8,), (1,)), types: (tf.int64, tf.int32)>, <TensorSliceDataset shapes: ((8,), (1,)), types: (tf.int64, tf.int32)>, <TensorSliceDataset shapes: ((8,), (1,)), types: (tf.int64, tf.int32)>, <TensorSliceDataset shapes: ((8,), (1,)), types: (tf.int64, tf.int32)>, <TensorSliceDataset shapes: ((8,), (1,)), types: (tf.int64, tf.int32)>, <TensorSliceDataset shapes: ((8,), (1,)), types: (tf.int64, tf.int32)>, <TensorSliceDataset shapes: ((8,), (1,)), types: (tf.int64, tf.int32)>, <TensorSliceDataset shapes: ((8,), (1,)), types: (tf.int64, tf.int32)>, <TensorSliceDataset shapes: ((8,), (1,)), types: (tf.int64, tf.int32)>, <TensorSliceDataset shapes: ((8,), (1,)), types: (tf.int64, tf.int32)>, <TensorSliceDataset shapes: ((8,), (1,)), types: (tf.int64, tf.int32)>, <TensorSliceDataset shapes: ((8,), (1,)), types: (tf.int64, tf.int32)>, <TensorSliceDataset shapes: ((8,), (1,)), types: (tf.int64, tf.int32)>, <TensorSliceDataset shapes: ((8,), (1,)), types: (tf.int64, tf.int32)>, <TensorSliceDataset shapes: ((8,), (1,)), types: (tf.int64, tf.int32)>, <TensorSliceDataset shapes: ((8,), (1,)), types: (tf.int64, tf.int32)>, <TensorSliceDataset shapes: ((8,), (1,)), types: (tf.int64, tf.int32)>, <TensorSliceDataset shapes: ((8,), (1,)), types: (tf.int64, tf.int32)>, <TensorSliceDataset shapes: ((8,), (1,)), types: (tf.int64, tf.int32)>, <TensorSliceDataset shapes: ((8,), (1,)), types: (tf.int64, tf.int32)>, <TensorSliceDataset shapes: ((8,), (1,)), types: (tf.int64, tf.int32)>, <TensorSliceDataset shapes: ((8,), (1,)), types: (tf.int64, tf.int32)>, <TensorSliceDataset shapes: ((8,), (1,)), types: (tf.int64, tf.int32)>, <TensorSliceDataset shapes: ((8,), (1,)), types: (tf.int64, tf.int32)>, <TensorSliceDataset shapes: ((8,), (1,)), types: (tf.int64, tf.int32)>, <TensorSliceDataset shapes: ((8,), (1,)), types: (tf.int64, tf.int32)>, <TensorSliceDataset shapes: ((8,), (1,)), types: (tf.int64, tf.int32)>, <TensorSliceDataset shapes: ((8,), (1,)), types: (tf.int64, tf.int32)>, <TensorSliceDataset shapes: ((8,), (1,)), types: (tf.int64, tf.int32)>, <TensorSliceDataset shapes: ((8,), (1,)), types: (tf.int64, tf.int32)>, <TensorSliceDataset shapes: ((8,), (1,)), types: (tf.int64, tf.int32)>, <TensorSliceDataset shapes: ((8,), (1,)), types: (tf.int64, tf.int32)>, <TensorSliceDataset shapes: ((8,), (1,)), types: (tf.int64, tf.int32)>, <TensorSliceDataset shapes: ((8,), (1,)), types: (tf.int64, tf.int32)>, <TensorSliceDataset shapes: ((8,), (1,)), types: (tf.int64, tf.int32)>, <TensorSliceDataset shapes: ((8,), (1,)), types: (tf.int64, tf.int32)>, <TensorSliceDataset shapes: ((8,), (1,)), types: (tf.int64, tf.int32)>, <TensorSliceDataset shapes: ((8,), (1,)), types: (tf.int64, tf.int32)>, <TensorSliceDataset shapes: ((8,), (1,)), types: (tf.int64, tf.int32)>, <TensorSliceDataset shapes: ((8,), (1,)), types: (tf.int64, tf.int32)>, <TensorSliceDataset shapes: ((8,), (1,)), types: (tf.int64, tf.int32)>, <TensorSliceDataset shapes: ((8,), (1,)), types: (tf.int64, tf.int32)>, <TensorSliceDataset shapes: ((8,), (1,)), types: (tf.int64, tf.int32)>, <TensorSliceDataset shapes: ((8,), (1,)), types: (tf.int64, tf.int32)>, <TensorSliceDataset shapes: ((8,), (1,)), types: (tf.int64, tf.int32)>, <TensorSliceDataset shapes: ((8,), (1,)), types: (tf.int64, tf.int32)>, <TensorSliceDataset shapes: ((8,), (1,)), types: (tf.int64, tf.int32)>, <TensorSliceDataset shapes: ((8,), (1,)), types: (tf.int64, tf.int32)>, <TensorSliceDataset shapes: ((8,), (1,)), types: (tf.int64, tf.int32)>, <TensorSliceDataset shapes: ((8,), (1,)), types: (tf.int64, tf.int32)>, <TensorSliceDataset shapes: ((8,), (1,)), types: (tf.int64, tf.int32)>, <TensorSliceDataset shapes: ((8,), (1,)), types: (tf.int64, tf.int32)>, <TensorSliceDataset shapes: ((8,), (1,)), types: (tf.int64, tf.int32)>, <TensorSliceDataset shapes: ((8,), (1,)), types: (tf.int64, tf.int32)>, <TensorSliceDataset shapes: ((8,), (1,)), types: (tf.int64, tf.int32)>, <TensorSliceDataset shapes: ((8,), (1,)), types: (tf.int64, tf.int32)>, <TensorSliceDataset shapes: ((8,), (1,)), types: (tf.int64, tf.int32)>, <TensorSliceDataset shapes: ((8,), (1,)), types: (tf.int64, tf.int32)>, <TensorSliceDataset shapes: ((8,), (1,)), types: (tf.int64, tf.int32)>, <TensorSliceDataset shapes: ((8,), (1,)), types: (tf.int64, tf.int32)>, <TensorSliceDataset shapes: ((8,), (1,)), types: (tf.int64, tf.int32)>, <TensorSliceDataset shapes: ((8,), (1,)), types: (tf.int64, tf.int32)>, <TensorSliceDataset shapes: ((8,), (1,)), types: (tf.int64, tf.int32)>, <TensorSliceDataset shapes: ((8,), (1,)), types: (tf.int64, tf.int32)>, <TensorSliceDataset shapes: ((8,), (1,)), types: (tf.int64, tf.int32)>, <TensorSliceDataset shapes: ((8,), (1,)), types: (tf.int64, tf.int32)>, <TensorSliceDataset shapes: ((8,), (1,)), types: (tf.int64, tf.int32)>, <TensorSliceDataset shapes: ((8,), (1,)), types: (tf.int64, tf.int32)>, <TensorSliceDataset shapes: ((8,), (1,)), types: (tf.int64, tf.int32)>, <TensorSliceDataset shapes: ((8,), (1,)), types: (tf.int64, tf.int32)>, <TensorSliceDataset shapes: ((8,), (1,)), types: (tf.int64, tf.int32)>, <TensorSliceDataset shapes: ((8,), (1,)), types: (tf.int64, tf.int32)>, <TensorSliceDataset shapes: ((8,), (1,)), types: (tf.int64, tf.int32)>, <TensorSliceDataset shapes: ((8,), (1,)), types: (tf.int64, tf.int32)>, <TensorSliceDataset shapes: ((8,), (1,)), types: (tf.int64, tf.int32)>, <TensorSliceDataset shapes: ((8,), (1,)), types: (tf.int64, tf.int32)>, <TensorSliceDataset shapes: ((8,), (1,)), types: (tf.int64, tf.int32)>, <TensorSliceDataset shapes: ((8,), (1,)), types: (tf.int64, tf.int32)>, <TensorSliceDataset shapes: ((8,), (1,)), types: (tf.int64, tf.int32)>, <TensorSliceDataset shapes: ((8,), (1,)), types: (tf.int64, tf.int32)>, <TensorSliceDataset shapes: ((8,), (1,)), types: (tf.int64, tf.int32)>, <TensorSliceDataset shapes: ((8,), (1,)), types: (tf.int64, tf.int32)>, <TensorSliceDataset shapes: ((8,), (1,)), types: (tf.int64, tf.int32)>, <TensorSliceDataset shapes: ((8,), (1,)), types: (tf.int64, tf.int32)>, <TensorSliceDataset shapes: ((8,), (1,)), types: (tf.int64, tf.int32)>, <TensorSliceDataset shapes: ((8,), (1,)), types: (tf.int64, tf.int32)>, <TensorSliceDataset shapes: ((8,), (1,)), types: (tf.int64, tf.int32)>, <TensorSliceDataset shapes: ((8,), (1,)), types: (tf.int64, tf.int32)>, <TensorSliceDataset shapes: ((8,), (1,)), types: (tf.int64, tf.int32)>, <TensorSliceDataset shapes: ((8,), (1,)), types: (tf.int64, tf.int32)>, <TensorSliceDataset shapes: ((8,), (1,)), types: (tf.int64, tf.int32)>, <TensorSliceDataset shapes: ((8,), (1,)), types: (tf.int64, tf.int32)>, <TensorSliceDataset shapes: ((8,), (1,)), types: (tf.int64, tf.int32)>, <TensorSliceDataset shapes: ((8,), (1,)), types: (tf.int64, tf.int32)>, <TensorSliceDataset shapes: ((8,), (1,)), types: (tf.int64, tf.int32)>, <TensorSliceDataset shapes: ((8,), (1,)), types: (tf.int64, tf.int32)>, <TensorSliceDataset shapes: ((8,), (1,)), types: (tf.int64, tf.int32)>, <TensorSliceDataset shapes: ((8,), (1,)), types: (tf.int64, tf.int32)>, <TensorSliceDataset shapes: ((8,), (1,)), types: (tf.int64, tf.int32)>, <TensorSliceDataset shapes: ((8,), (1,)), types: (tf.int64, tf.int32)>, <TensorSliceDataset shapes: ((8,), (1,)), types: (tf.int64, tf.int32)>, <TensorSliceDataset shapes: ((8,), (1,)), types: (tf.int64, tf.int32)>, <TensorSliceDataset shapes: ((8,), (1,)), types: (tf.int64, tf.int32)>, <TensorSliceDataset shapes: ((8,), (1,)), types: (tf.int64, tf.int32)>, <TensorSliceDataset shapes: ((8,), (1,)), types: (tf.int64, tf.int32)>, <TensorSliceDataset shapes: ((8,), (1,)), types: (tf.int64, tf.int32)>, <TensorSliceDataset shapes: ((8,), (1,)), types: (tf.int64, tf.int32)>, <TensorSliceDataset shapes: ((8,), (1,)), types: (tf.int64, tf.int32)>, <TensorSliceDataset shapes: ((8,), (1,)), types: (tf.int64, tf.int32)>, <TensorSliceDataset shapes: ((8,), (1,)), types: (tf.int64, tf.int32)>, <TensorSliceDataset shapes: ((8,), (1,)), types: (tf.int64, tf.int32)>, <TensorSliceDataset shapes: ((8,), (1,)), types: (tf.int64, tf.int32)>, <TensorSliceDataset shapes: ((8,), (1,)), types: (tf.int64, tf.int32)>, <TensorSliceDataset shapes: ((8,), (1,)), types: (tf.int64, tf.int32)>, <TensorSliceDataset shapes: ((8,), (1,)), types: (tf.int64, tf.int32)>, <TensorSliceDataset shapes: ((8,), (1,)), types: (tf.int64, tf.int32)>, <TensorSliceDataset shapes: ((8,), (1,)), types: (tf.int64, tf.int32)>, <TensorSliceDataset shapes: ((8,), (1,)), types: (tf.int64, tf.int32)>, <TensorSliceDataset shapes: ((8,), (1,)), types: (tf.int64, tf.int32)>, <TensorSliceDataset shapes: ((8,), (1,)), types: (tf.int64, tf.int32)>, <TensorSliceDataset shapes: ((8,), (1,)), types: (tf.int64, tf.int32)>, <TensorSliceDataset shapes: ((8,), (1,)), types: (tf.int64, tf.int32)>, <TensorSliceDataset shapes: ((8,), (1,)), types: (tf.int64, tf.int32)>, <TensorSliceDataset shapes: ((8,), (1,)), types: (tf.int64, tf.int32)>, <TensorSliceDataset shapes: ((8,), (1,)), types: (tf.int64, tf.int32)>, <TensorSliceDataset shapes: ((8,), (1,)), types: (tf.int64, tf.int32)>, <TensorSliceDataset shapes: ((8,), (1,)), types: (tf.int64, tf.int32)>, <TensorSliceDataset shapes: ((8,), (1,)), types: (tf.int64, tf.int32)>, <TensorSliceDataset shapes: ((8,), (1,)), types: (tf.int64, tf.int32)>, <TensorSliceDataset shapes: ((8,), (1,)), types: (tf.int64, tf.int32)>, <TensorSliceDataset shapes: ((8,), (1,)), types: (tf.int64, tf.int32)>, <TensorSliceDataset shapes: ((8,), (1,)), types: (tf.int64, tf.int32)>, <TensorSliceDataset shapes: ((8,), (1,)), types: (tf.int64, tf.int32)>, <TensorSliceDataset shapes: ((8,), (1,)), types: (tf.int64, tf.int32)>, <TensorSliceDataset shapes: ((8,), (1,)), types: (tf.int64, tf.int32)>, <TensorSliceDataset shapes: ((8,), (1,)), types: (tf.int64, tf.int32)>, <TensorSliceDataset shapes: ((8,), (1,)), types: (tf.int64, tf.int32)>, <TensorSliceDataset shapes: ((8,), (1,)), types: (tf.int64, tf.int32)>, <TensorSliceDataset shapes: ((8,), (1,)), types: (tf.int64, tf.int32)>, <TensorSliceDataset shapes: ((8,), (1,)), types: (tf.int64, tf.int32)>, <TensorSliceDataset shapes: ((8,), (1,)), types: (tf.int64, tf.int32)>, <TensorSliceDataset shapes: ((8,), (1,)), types: (tf.int64, tf.int32)>, <TensorSliceDataset shapes: ((8,), (1,)), types: (tf.int64, tf.int32)>, <TensorSliceDataset shapes: ((8,), (1,)), types: (tf.int64, tf.int32)>, <TensorSliceDataset shapes: ((8,), (1,)), types: (tf.int64, tf.int32)>, <TensorSliceDataset shapes: ((8,), (1,)), types: (tf.int64, tf.int32)>, <TensorSliceDataset shapes: ((8,), (1,)), types: (tf.int64, tf.int32)>, <TensorSliceDataset shapes: ((8,), (1,)), types: (tf.int64, tf.int32)>, <TensorSliceDataset shapes: ((8,), (1,)), types: (tf.int64, tf.int32)>, <TensorSliceDataset shapes: ((8,), (1,)), types: (tf.int64, tf.int32)>, <TensorSliceDataset shapes: ((8,), (1,)), types: (tf.int64, tf.int32)>, <TensorSliceDataset shapes: ((8,), (1,)), types: (tf.int64, tf.int32)>, <TensorSliceDataset shapes: ((8,), (1,)), types: (tf.int64, tf.int32)>, <TensorSliceDataset shapes: ((8,), (1,)), types: (tf.int64, tf.int32)>, <TensorSliceDataset shapes: ((8,), (1,)), types: (tf.int64, tf.int32)>, <TensorSliceDataset shapes: ((8,), (1,)), types: (tf.int64, tf.int32)>, <TensorSliceDataset shapes: ((8,), (1,)), types: (tf.int64, tf.int32)>, <TensorSliceDataset shapes: ((8,), (1,)), types: (tf.int64, tf.int32)>, <TensorSliceDataset shapes: ((8,), (1,)), types: (tf.int64, tf.int32)>, <TensorSliceDataset shapes: ((8,), (1,)), types: (tf.int64, tf.int32)>, <TensorSliceDataset shapes: ((8,), (1,)), types: (tf.int64, tf.int32)>, <TensorSliceDataset shapes: ((8,), (1,)), types: (tf.int64, tf.int32)>, <TensorSliceDataset shapes: ((8,), (1,)), types: (tf.int64, tf.int32)>, <TensorSliceDataset shapes: ((8,), (1,)), types: (tf.int64, tf.int32)>, <TensorSliceDataset shapes: ((8,), (1,)), types: (tf.int64, tf.int32)>, <TensorSliceDataset shapes: ((8,), (1,)), types: (tf.int64, tf.int32)>, <TensorSliceDataset shapes: ((8,), (1,)), types: (tf.int64, tf.int32)>, <TensorSliceDataset shapes: ((8,), (1,)), types: (tf.int64, tf.int32)>, <TensorSliceDataset shapes: ((8,), (1,)), types: (tf.int64, tf.int32)>, <TensorSliceDataset shapes: ((8,), (1,)), types: (tf.int64, tf.int32)>, <TensorSliceDataset shapes: ((8,), (1,)), types: (tf.int64, tf.int32)>, <TensorSliceDataset shapes: ((8,), (1,)), types: (tf.int64, tf.int32)>, <TensorSliceDataset shapes: ((8,), (1,)), types: (tf.int64, tf.int32)>, <TensorSliceDataset shapes: ((8,), (1,)), types: (tf.int64, tf.int32)>, <TensorSliceDataset shapes: ((8,), (1,)), types: (tf.int64, tf.int32)>, <TensorSliceDataset shapes: ((8,), (1,)), types: (tf.int64, tf.int32)>, <TensorSliceDataset shapes: ((8,), (1,)), types: (tf.int64, tf.int32)>, <TensorSliceDataset shapes: ((8,), (1,)), types: (tf.int64, tf.int32)>, <TensorSliceDataset shapes: ((8,), (1,)), types: (tf.int64, tf.int32)>, <TensorSliceDataset shapes: ((8,), (1,)), types: (tf.int64, tf.int32)>, <TensorSliceDataset shapes: ((8,), (1,)), types: (tf.int64, tf.int32)>, <TensorSliceDataset shapes: ((8,), (1,)), types: (tf.int64, tf.int32)>, <TensorSliceDataset shapes: ((8,), (1,)), types: (tf.int64, tf.int32)>, <TensorSliceDataset shapes: ((8,), (1,)), types: (tf.int64, tf.int32)>, <TensorSliceDataset shapes: ((8,), (1,)), types: (tf.int64, tf.int32)>, <TensorSliceDataset shapes: ((8,), (1,)), types: (tf.int64, tf.int32)>, <TensorSliceDataset shapes: ((8,), (1,)), types: (tf.int64, tf.int32)>, <TensorSliceDataset shapes: ((8,), (1,)), types: (tf.int64, tf.int32)>, <TensorSliceDataset shapes: ((8,), (1,)), types: (tf.int64, tf.int32)>, <TensorSliceDataset shapes: ((8,), (1,)), types: (tf.int64, tf.int32)>, <TensorSliceDataset shapes: ((8,), (1,)), types: (tf.int64, tf.int32)>, <TensorSliceDataset shapes: ((8,), (1,)), types: (tf.int64, tf.int32)>, <TensorSliceDataset shapes: ((8,), (1,)), types: (tf.int64, tf.int32)>, <TensorSliceDataset shapes: ((8,), (1,)), types: (tf.int64, tf.int32)>, <TensorSliceDataset shapes: ((8,), (1,)), types: (tf.int64, tf.int32)>, <TensorSliceDataset shapes: ((8,), (1,)), types: (tf.int64, tf.int32)>, <TensorSliceDataset shapes: ((8,), (1,)), types: (tf.int64, tf.int32)>, <TensorSliceDataset shapes: ((8,), (1,)), types: (tf.int64, tf.int32)>, <TensorSliceDataset shapes: ((8,), (1,)), types: (tf.int64, tf.int32)>, <TensorSliceDataset shapes: ((8,), (1,)), types: (tf.int64, tf.int32)>, <TensorSliceDataset shapes: ((8,), (1,)), types: (tf.int64, tf.int32)>, <TensorSliceDataset shapes: ((8,), (1,)), types: (tf.int64, tf.int32)>, <TensorSliceDataset shapes: ((8,), (1,)), types: (tf.int64, tf.int32)>, <TensorSliceDataset shapes: ((8,), (1,)), types: (tf.int64, tf.int32)>, <TensorSliceDataset shapes: ((8,), (1,)), types: (tf.int64, tf.int32)>, <TensorSliceDataset shapes: ((8,), (1,)), types: (tf.int64, tf.int32)>, <TensorSliceDataset shapes: ((8,), (1,)), types: (tf.int64, tf.int32)>, <TensorSliceDataset shapes: ((8,), (1,)), types: (tf.int64, tf.int32)>, <TensorSliceDataset shapes: ((8,), (1,)), types: (tf.int64, tf.int32)>, <TensorSliceDataset shapes: ((8,), (1,)), types: (tf.int64, tf.int32)>, <TensorSliceDataset shapes: ((8,), (1,)), types: (tf.int64, tf.int32)>, <TensorSliceDataset shapes: ((8,), (1,)), types: (tf.int64, tf.int32)>, <TensorSliceDataset shapes: ((8,), (1,)), types: (tf.int64, tf.int32)>, <TensorSliceDataset shapes: ((8,), (1,)), types: (tf.int64, tf.int32)>, <TensorSliceDataset shapes: ((8,), (1,)), types: (tf.int64, tf.int32)>, <TensorSliceDataset shapes: ((8,), (1,)), types: (tf.int64, tf.int32)>, <TensorSliceDataset shapes: ((8,), (1,)), types: (tf.int64, tf.int32)>, <TensorSliceDataset shapes: ((8,), (1,)), types: (tf.int64, tf.int32)>, <TensorSliceDataset shapes: ((8,), (1,)), types: (tf.int64, tf.int32)>, <TensorSliceDataset shapes: ((8,), (1,)), types: (tf.int64, tf.int32)>, <TensorSliceDataset shapes: ((8,), (1,)), types: (tf.int64, tf.int32)>, <TensorSliceDataset shapes: ((8,), (1,)), types: (tf.int64, tf.int32)>, <TensorSliceDataset shapes: ((8,), (1,)), types: (tf.int64, tf.int32)>, <TensorSliceDataset shapes: ((8,), (1,)), types: (tf.int64, tf.int32)>, <TensorSliceDataset shapes: ((8,), (1,)), types: (tf.int64, tf.int32)>, <TensorSliceDataset shapes: ((8,), (1,)), types: (tf.int64, tf.int32)>, <TensorSliceDataset shapes: ((8,), (1,)), types: (tf.int64, tf.int32)>, <TensorSliceDataset shapes: ((8,), (1,)), types: (tf.int64, tf.int32)>, <TensorSliceDataset shapes: ((8,), (1,)), types: (tf.int64, tf.int32)>, <TensorSliceDataset shapes: ((8,), (1,)), types: (tf.int64, tf.int32)>, <TensorSliceDataset shapes: ((8,), (1,)), types: (tf.int64, tf.int32)>, <TensorSliceDataset shapes: ((8,), (1,)), types: (tf.int64, tf.int32)>, <TensorSliceDataset shapes: ((8,), (1,)), types: (tf.int64, tf.int32)>, <TensorSliceDataset shapes: ((8,), (1,)), types: (tf.int64, tf.int32)>, <TensorSliceDataset shapes: ((8,), (1,)), types: (tf.int64, tf.int32)>, <TensorSliceDataset shapes: ((8,), (1,)), types: (tf.int64, tf.int32)>, <TensorSliceDataset shapes: ((8,), (1,)), types: (tf.int64, tf.int32)>, <TensorSliceDataset shapes: ((8,), (1,)), types: (tf.int64, tf.int32)>, <TensorSliceDataset shapes: ((8,), (1,)), types: (tf.int64, tf.int32)>, <TensorSliceDataset shapes: ((8,), (1,)), types: (tf.int64, tf.int32)>, <TensorSliceDataset shapes: ((8,), (1,)), types: (tf.int64, tf.int32)>, <TensorSliceDataset shapes: ((8,), (1,)), types: (tf.int64, tf.int32)>, <TensorSliceDataset shapes: ((8,), (1,)), types: (tf.int64, tf.int32)>, <TensorSliceDataset shapes: ((8,), (1,)), types: (tf.int64, tf.int32)>, <TensorSliceDataset shapes: ((8,), (1,)), types: (tf.int64, tf.int32)>, <TensorSliceDataset shapes: ((8,), (1,)), types: (tf.int64, tf.int32)>, <TensorSliceDataset shapes: ((8,), (1,)), types: (tf.int64, tf.int32)>, <TensorSliceDataset shapes: ((8,), (1,)), types: (tf.int64, tf.int32)>, <TensorSliceDataset shapes: ((8,), (1,)), types: (tf.int64, tf.int32)>, <TensorSliceDataset shapes: ((8,), (1,)), types: (tf.int64, tf.int32)>, <TensorSliceDataset shapes: ((8,), (1,)), types: (tf.int64, tf.int32)>, <TensorSliceDataset shapes: ((8,), (1,)), types: (tf.int64, tf.int32)>, <TensorSliceDataset shapes: ((8,), (1,)), types: (tf.int64, tf.int32)>, <TensorSliceDataset shapes: ((8,), (1,)), types: (tf.int64, tf.int32)>, <TensorSliceDataset shapes: ((8,), (1,)), types: (tf.int64, tf.int32)>, <TensorSliceDataset shapes: ((8,), (1,)), types: (tf.int64, tf.int32)>, <TensorSliceDataset shapes: ((8,), (1,)), types: (tf.int64, tf.int32)>, <TensorSliceDataset shapes: ((8,), (1,)), types: (tf.int64, tf.int32)>, <TensorSliceDataset shapes: ((8,), (1,)), types: (tf.int64, tf.int32)>, <TensorSliceDataset shapes: ((8,), (1,)), types: (tf.int64, tf.int32)>, <TensorSliceDataset shapes: ((8,), (1,)), types: (tf.int64, tf.int32)>, <TensorSliceDataset shapes: ((8,), (1,)), types: (tf.int64, tf.int32)>, <TensorSliceDataset shapes: ((8,), (1,)), types: (tf.int64, tf.int32)>, <TensorSliceDataset shapes: ((8,), (1,)), types: (tf.int64, tf.int32)>, <TensorSliceDataset shapes: ((8,), (1,)), types: (tf.int64, tf.int32)>, <TensorSliceDataset shapes: ((8,), (1,)), types: (tf.int64, tf.int32)>, <TensorSliceDataset shapes: ((8,), (1,)), types: (tf.int64, tf.int32)>, <TensorSliceDataset shapes: ((8,), (1,)), types: (tf.int64, tf.int32)>, <TensorSliceDataset shapes: ((8,), (1,)), types: (tf.int64, tf.int32)>, <TensorSliceDataset shapes: ((8,), (1,)), types: (tf.int64, tf.int32)>, <TensorSliceDataset shapes: ((8,), (1,)), types: (tf.int64, tf.int32)>, <TensorSliceDataset shapes: ((8,), (1,)), types: (tf.int64, tf.int32)>, <TensorSliceDataset shapes: ((8,), (1,)), types: (tf.int64, tf.int32)>, <TensorSliceDataset shapes: ((8,), (1,)), types: (tf.int64, tf.int32)>, <TensorSliceDataset shapes: ((8,), (1,)), types: (tf.int64, tf.int32)>, <TensorSliceDataset shapes: ((8,), (1,)), types: (tf.int64, tf.int32)>, <TensorSliceDataset shapes: ((8,), (1,)), types: (tf.int64, tf.int32)>, <TensorSliceDataset shapes: ((8,), (1,)), types: (tf.int64, tf.int32)>, <TensorSliceDataset shapes: ((8,), (1,)), types: (tf.int64, tf.int32)>, <TensorSliceDataset shapes: ((8,), (1,)), types: (tf.int64, tf.int32)>, <TensorSliceDataset shapes: ((8,), (1,)), types: (tf.int64, tf.int32)>, <TensorSliceDataset shapes: ((8,), (1,)), types: (tf.int64, tf.int32)>, <TensorSliceDataset shapes: ((8,), (1,)), types: (tf.int64, tf.int32)>, <TensorSliceDataset shapes: ((8,), (1,)), types: (tf.int64, tf.int32)>, <TensorSliceDataset shapes: ((8,), (1,)), types: (tf.int64, tf.int32)>, <TensorSliceDataset shapes: ((8,), (1,)), types: (tf.int64, tf.int32)>, <TensorSliceDataset shapes: ((8,), (1,)), types: (tf.int64, tf.int32)>, <TensorSliceDataset shapes: ((8,), (1,)), types: (tf.int64, tf.int32)>, <TensorSliceDataset shapes: ((8,), (1,)), types: (tf.int64, tf.int32)>, <TensorSliceDataset shapes: ((8,), (1,)), types: (tf.int64, tf.int32)>, <TensorSliceDataset shapes: ((8,), (1,)), types: (tf.int64, tf.int32)>, <TensorSliceDataset shapes: ((8,), (1,)), types: (tf.int64, tf.int32)>, <TensorSliceDataset shapes: ((8,), (1,)), types: (tf.int64, tf.int32)>, <TensorSliceDataset shapes: ((8,), (1,)), types: (tf.int64, tf.int32)>, <TensorSliceDataset shapes: ((8,), (1,)), types: (tf.int64, tf.int32)>, <TensorSliceDataset shapes: ((8,), (1,)), types: (tf.int64, tf.int32)>, <TensorSliceDataset shapes: ((8,), (1,)), types: (tf.int64, tf.int32)>, <TensorSliceDataset shapes: ((8,), (1,)), types: (tf.int64, tf.int32)>, <TensorSliceDataset shapes: ((8,), (1,)), types: (tf.int64, tf.int32)>, <TensorSliceDataset shapes: ((8,), (1,)), types: (tf.int64, tf.int32)>, <TensorSliceDataset shapes: ((8,), (1,)), types: (tf.int64, tf.int32)>, <TensorSliceDataset shapes: ((8,), (1,)), types: (tf.int64, tf.int32)>, <TensorSliceDataset shapes: ((8,), (1,)), types: (tf.int64, tf.int32)>, <TensorSliceDataset shapes: ((8,), (1,)), types: (tf.int64, tf.int32)>, <TensorSliceDataset shapes: ((8,), (1,)), types: (tf.int64, tf.int32)>, <TensorSliceDataset shapes: ((8,), (1,)), types: (tf.int64, tf.int32)>, <TensorSliceDataset shapes: ((8,), (1,)), types: (tf.int64, tf.int32)>, <TensorSliceDataset shapes: ((8,), (1,)), types: (tf.int64, tf.int32)>, <TensorSliceDataset shapes: ((8,), (1,)), types: (tf.int64, tf.int32)>, <TensorSliceDataset shapes: ((8,), (1,)), types: (tf.int64, tf.int32)>, <TensorSliceDataset shapes: ((8,), (1,)), types: (tf.int64, tf.int32)>, <TensorSliceDataset shapes: ((8,), (1,)), types: (tf.int64, tf.int32)>, <TensorSliceDataset shapes: ((8,), (1,)), types: (tf.int64, tf.int32)>, <TensorSliceDataset shapes: ((8,), (1,)), types: (tf.int64, tf.int32)>, <TensorSliceDataset shapes: ((8,), (1,)), types: (tf.int64, tf.int32)>, <TensorSliceDataset shapes: ((8,), (1,)), types: (tf.int64, tf.int32)>, <TensorSliceDataset shapes: ((8,), (1,)), types: (tf.int64, tf.int32)>, <TensorSliceDataset shapes: ((8,), (1,)), types: (tf.int64, tf.int32)>, <TensorSliceDataset shapes: ((8,), (1,)), types: (tf.int64, tf.int32)>, <TensorSliceDataset shapes: ((8,), (1,)), types: (tf.int64, tf.int32)>, <TensorSliceDataset shapes: ((8,), (1,)), types: (tf.int64, tf.int32)>, <TensorSliceDataset shapes: ((8,), (1,)), types: (tf.int64, tf.int32)>, <TensorSliceDataset shapes: ((8,), (1,)), types: (tf.int64, tf.int32)>, <TensorSliceDataset shapes: ((8,), (1,)), types: (tf.int64, tf.int32)>, <TensorSliceDataset shapes: ((8,), (1,)), types: (tf.int64, tf.int32)>, <TensorSliceDataset shapes: ((8,), (1,)), types: (tf.int64, tf.int32)>, <TensorSliceDataset shapes: ((8,), (1,)), types: (tf.int64, tf.int32)>, <TensorSliceDataset shapes: ((8,), (1,)), types: (tf.int64, tf.int32)>, <TensorSliceDataset shapes: ((8,), (1,)), types: (tf.int64, tf.int32)>, <TensorSliceDataset shapes: ((8,), (1,)), types: (tf.int64, tf.int32)>, <TensorSliceDataset shapes: ((8,), (1,)), types: (tf.int64, tf.int32)>, <TensorSliceDataset shapes: ((8,), (1,)), types: (tf.int64, tf.int32)>, <TensorSliceDataset shapes: ((8,), (1,)), types: (tf.int64, tf.int32)>, <TensorSliceDataset shapes: ((8,), (1,)), types: (tf.int64, tf.int32)>, <TensorSliceDataset shapes: ((8,), (1,)), types: (tf.int64, tf.int32)>, <TensorSliceDataset shapes: ((8,), (1,)), types: (tf.int64, tf.int32)>, <TensorSliceDataset shapes: ((8,), (1,)), types: (tf.int64, tf.int32)>, <TensorSliceDataset shapes: ((8,), (1,)), types: (tf.int64, tf.int32)>, <TensorSliceDataset shapes: ((8,), (1,)), types: (tf.int64, tf.int32)>, <TensorSliceDataset shapes: ((8,), (1,)), types: (tf.int64, tf.int32)>, <TensorSliceDataset shapes: ((8,), (1,)), types: (tf.int64, tf.int32)>, <TensorSliceDataset shapes: ((8,), (1,)), types: (tf.int64, tf.int32)>, <TensorSliceDataset shapes: ((8,), (1,)), types: (tf.int64, tf.int32)>, <TensorSliceDataset shapes: ((8,), (1,)), types: (tf.int64, tf.int32)>, <TensorSliceDataset shapes: ((8,), (1,)), types: (tf.int64, tf.int32)>, <TensorSliceDataset shapes: ((8,), (1,)), types: (tf.int64, tf.int32)>, <TensorSliceDataset shapes: ((8,), (1,)), types: (tf.int64, tf.int32)>, <TensorSliceDataset shapes: ((8,), (1,)), types: (tf.int64, tf.int32)>, <TensorSliceDataset shapes: ((8,), (1,)), types: (tf.int64, tf.int32)>, <TensorSliceDataset shapes: ((8,), (1,)), types: (tf.int64, tf.int32)>, <TensorSliceDataset shapes: ((8,), (1,)), types: (tf.int64, tf.int32)>, <TensorSliceDataset shapes: ((8,), (1,)), types: (tf.int64, tf.int32)>, <TensorSliceDataset shapes: ((8,), (1,)), types: (tf.int64, tf.int32)>, <TensorSliceDataset shapes: ((8,), (1,)), types: (tf.int64, tf.int32)>, <TensorSliceDataset shapes: ((8,), (1,)), types: (tf.int64, tf.int32)>, <TensorSliceDataset shapes: ((8,), (1,)), types: (tf.int64, tf.int32)>, <TensorSliceDataset shapes: ((8,), (1,)), types: (tf.int64, tf.int32)>, <TensorSliceDataset shapes: ((8,), (1,)), types: (tf.int64, tf.int32)>, <TensorSliceDataset shapes: ((8,), (1,)), types: (tf.int64, tf.int32)>, <TensorSliceDataset shapes: ((8,), (1,)), types: (tf.int64, tf.int32)>, <TensorSliceDataset shapes: ((8,), (1,)), types: (tf.int64, tf.int32)>, <TensorSliceDataset shapes: ((8,), (1,)), types: (tf.int64, tf.int32)>, <TensorSliceDataset shapes: ((8,), (1,)), types: (tf.int64, tf.int32)>, <TensorSliceDataset shapes: ((8,), (1,)), types: (tf.int64, tf.int32)>, <TensorSliceDataset shapes: ((8,), (1,)), types: (tf.int64, tf.int32)>, <TensorSliceDataset shapes: ((8,), (1,)), types: (tf.int64, tf.int32)>, <TensorSliceDataset shapes: ((8,), (1,)), types: (tf.int64, tf.int32)>, <TensorSliceDataset shapes: ((8,), (1,)), types: (tf.int64, tf.int32)>, <TensorSliceDataset shapes: ((8,), (1,)), types: (tf.int64, tf.int32)>, <TensorSliceDataset shapes: ((8,), (1,)), types: (tf.int64, tf.int32)>, <TensorSliceDataset shapes: ((8,), (1,)), types: (tf.int64, tf.int32)>, <TensorSliceDataset shapes: ((8,), (1,)), types: (tf.int64, tf.int32)>, <TensorSliceDataset shapes: ((8,), (1,)), types: (tf.int64, tf.int32)>, <TensorSliceDataset shapes: ((8,), (1,)), types: (tf.int64, tf.int32)>, <TensorSliceDataset shapes: ((8,), (1,)), types: (tf.int64, tf.int32)>, <TensorSliceDataset shapes: ((8,), (1,)), types: (tf.int64, tf.int32)>, <TensorSliceDataset shapes: ((8,), (1,)), types: (tf.int64, tf.int32)>, <TensorSliceDataset shapes: ((8,), (1,)), types: (tf.int64, tf.int32)>, <TensorSliceDataset shapes: ((8,), (1,)), types: (tf.int64, tf.int32)>, <TensorSliceDataset shapes: ((8,), (1,)), types: (tf.int64, tf.int32)>, <TensorSliceDataset shapes: ((8,), (1,)), types: (tf.int64, tf.int32)>, <TensorSliceDataset shapes: ((8,), (1,)), types: (tf.int64, tf.int32)>, <TensorSliceDataset shapes: ((8,), (1,)), types: (tf.int64, tf.int32)>, <TensorSliceDataset shapes: ((8,), (1,)), types: (tf.int64, tf.int32)>, <TensorSliceDataset shapes: ((8,), (1,)), types: (tf.int64, tf.int32)>, <TensorSliceDataset shapes: ((8,), (1,)), types: (tf.int64, tf.int32)>, <TensorSliceDataset shapes: ((8,), (1,)), types: (tf.int64, tf.int32)>, <TensorSliceDataset shapes: ((8,), (1,)), types: (tf.int64, tf.int32)>, <TensorSliceDataset shapes: ((8,), (1,)), types: (tf.int64, tf.int32)>, <TensorSliceDataset shapes: ((8,), (1,)), types: (tf.int64, tf.int32)>, <TensorSliceDataset shapes: ((8,), (1,)), types: (tf.int64, tf.int32)>, <TensorSliceDataset shapes: ((8,), (1,)), types: (tf.int64, tf.int32)>, <TensorSliceDataset shapes: ((8,), (1,)), types: (tf.int64, tf.int32)>, <TensorSliceDataset shapes: ((8,), (1,)), types: (tf.int64, tf.int32)>, <TensorSliceDataset shapes: ((8,), (1,)), types: (tf.int64, tf.int32)>, <TensorSliceDataset shapes: ((8,), (1,)), types: (tf.int64, tf.int32)>, <TensorSliceDataset shapes: ((8,), (1,)), types: (tf.int64, tf.int32)>, <TensorSliceDataset shapes: ((8,), (1,)), types: (tf.int64, tf.int32)>, <TensorSliceDataset shapes: ((8,), (1,)), types: (tf.int64, tf.int32)>, <TensorSliceDataset shapes: ((8,), (1,)), types: (tf.int64, tf.int32)>, <TensorSliceDataset shapes: ((8,), (1,)), types: (tf.int64, tf.int32)>, <TensorSliceDataset shapes: ((8,), (1,)), types: (tf.int64, tf.int32)>, <TensorSliceDataset shapes: ((8,), (1,)), types: (tf.int64, tf.int32)>, <TensorSliceDataset shapes: ((8,), (1,)), types: (tf.int64, tf.int32)>, <TensorSliceDataset shapes: ((8,), (1,)), types: (tf.int64, tf.int32)>, <TensorSliceDataset shapes: ((8,), (1,)), types: (tf.int64, tf.int32)>, <TensorSliceDataset shapes: ((8,), (1,)), types: (tf.int64, tf.int32)>, <TensorSliceDataset shapes: ((8,), (1,)), types: (tf.int64, tf.int32)>, <TensorSliceDataset shapes: ((8,), (1,)), types: (tf.int64, tf.int32)>, <TensorSliceDataset shapes: ((8,), (1,)), types: (tf.int64, tf.int32)>, <TensorSliceDataset shapes: ((8,), (1,)), types: (tf.int64, tf.int32)>, <TensorSliceDataset shapes: ((8,), (1,)), types: (tf.int64, tf.int32)>, <TensorSliceDataset shapes: ((8,), (1,)), types: (tf.int64, tf.int32)>, <TensorSliceDataset shapes: ((8,), (1,)), types: (tf.int64, tf.int32)>, <TensorSliceDataset shapes: ((8,), (1,)), types: (tf.int64, tf.int32)>, <TensorSliceDataset shapes: ((8,), (1,)), types: (tf.int64, tf.int32)>, <TensorSliceDataset shapes: ((8,), (1,)), types: (tf.int64, tf.int32)>, <TensorSliceDataset shapes: ((8,), (1,)), types: (tf.int64, tf.int32)>, <TensorSliceDataset shapes: ((8,), (1,)), types: (tf.int64, tf.int32)>, <TensorSliceDataset shapes: ((8,), (1,)), types: (tf.int64, tf.int32)>, <TensorSliceDataset shapes: ((8,), (1,)), types: (tf.int64, tf.int32)>, <TensorSliceDataset shapes: ((8,), (1,)), types: (tf.int64, tf.int32)>, <TensorSliceDataset shapes: ((8,), (1,)), types: (tf.int64, tf.int32)>, <TensorSliceDataset shapes: ((8,), (1,)), types: (tf.int64, tf.int32)>, <TensorSliceDataset shapes: ((8,), (1,)), types: (tf.int64, tf.int32)>, <TensorSliceDataset shapes: ((8,), (1,)), types: (tf.int64, tf.int32)>, <TensorSliceDataset shapes: ((8,), (1,)), types: (tf.int64, tf.int32)>, <TensorSliceDataset shapes: ((8,), (1,)), types: (tf.int64, tf.int32)>, <TensorSliceDataset shapes: ((8,), (1,)), types: (tf.int64, tf.int32)>, <TensorSliceDataset shapes: ((8,), (1,)), types: (tf.int64, tf.int32)>, <TensorSliceDataset shapes: ((8,), (1,)), types: (tf.int64, tf.int32)>, <TensorSliceDataset shapes: ((8,), (1,)), types: (tf.int64, tf.int32)>, <TensorSliceDataset shapes: ((8,), (1,)), types: (tf.int64, tf.int32)>, <TensorSliceDataset shapes: ((8,), (1,)), types: (tf.int64, tf.int32)>, <TensorSliceDataset shapes: ((8,), (1,)), types: (tf.int64, tf.int32)>, <TensorSliceDataset shapes: ((8,), (1,)), types: (tf.int64, tf.int32)>, <TensorSliceDataset shapes: ((8,), (1,)), types: (tf.int64, tf.int32)>, <TensorSliceDataset shapes: ((8,), (1,)), types: (tf.int64, tf.int32)>, <TensorSliceDataset shapes: ((8,), (1,)), types: (tf.int64, tf.int32)>, <TensorSliceDataset shapes: ((8,), (1,)), types: (tf.int64, tf.int32)>, <TensorSliceDataset shapes: ((8,), (1,)), types: (tf.int64, tf.int32)>, <TensorSliceDataset shapes: ((8,), (1,)), types: (tf.int64, tf.int32)>, <TensorSliceDataset shapes: ((8,), (1,)), types: (tf.int64, tf.int32)>, <TensorSliceDataset shapes: ((8,), (1,)), types: (tf.int64, tf.int32)>, <TensorSliceDataset shapes: ((8,), (1,)), types: (tf.int64, tf.int32)>, <TensorSliceDataset shapes: ((8,), (1,)), types: (tf.int64, tf.int32)>, <TensorSliceDataset shapes: ((8,), (1,)), types: (tf.int64, tf.int32)>, <TensorSliceDataset shapes: ((8,), (1,)), types: (tf.int64, tf.int32)>, <TensorSliceDataset shapes: ((8,), (1,)), types: (tf.int64, tf.int32)>, <TensorSliceDataset shapes: ((8,), (1,)), types: (tf.int64, tf.int32)>, <TensorSliceDataset shapes: ((8,), (1,)), types: (tf.int64, tf.int32)>, <TensorSliceDataset shapes: ((8,), (1,)), types: (tf.int64, tf.int32)>, <TensorSliceDataset shapes: ((8,), (1,)), types: (tf.int64, tf.int32)>, <TensorSliceDataset shapes: ((8,), (1,)), types: (tf.int64, tf.int32)>, <TensorSliceDataset shapes: ((8,), (1,)), types: (tf.int64, tf.int32)>, <TensorSliceDataset shapes: ((8,), (1,)), types: (tf.int64, tf.int32)>, <TensorSliceDataset shapes: ((8,), (1,)), types: (tf.int64, tf.int32)>, <TensorSliceDataset shapes: ((8,), (1,)), types: (tf.int64, tf.int32)>, <TensorSliceDataset shapes: ((8,), (1,)), types: (tf.int64, tf.int32)>, <TensorSliceDataset shapes: ((8,), (1,)), types: (tf.int64, tf.int32)>, <TensorSliceDataset shapes: ((8,), (1,)), types: (tf.int64, tf.int32)>, <TensorSliceDataset shapes: ((8,), (1,)), types: (tf.int64, tf.int32)>, <TensorSliceDataset shapes: ((8,), (1,)), types: (tf.int64, tf.int32)>, <TensorSliceDataset shapes: ((8,), (1,)), types: (tf.int64, tf.int32)>, <TensorSliceDataset shapes: ((8,), (1,)), types: (tf.int64, tf.int32)>, <TensorSliceDataset shapes: ((8,), (1,)), types: (tf.int64, tf.int32)>, <TensorSliceDataset shapes: ((8,), (1,)), types: (tf.int64, tf.int32)>, <TensorSliceDataset shapes: ((8,), (1,)), types: (tf.int64, tf.int32)>, <TensorSliceDataset shapes: ((8,), (1,)), types: (tf.int64, tf.int32)>, <TensorSliceDataset shapes: ((8,), (1,)), types: (tf.int64, tf.int32)>, <TensorSliceDataset shapes: ((8,), (1,)), types: (tf.int64, tf.int32)>, <TensorSliceDataset shapes: ((8,), (1,)), types: (tf.int64, tf.int32)>, <TensorSliceDataset shapes: ((8,), (1,)), types: (tf.int64, tf.int32)>, <TensorSliceDataset shapes: ((8,), (1,)), types: (tf.int64, tf.int32)>, <TensorSliceDataset shapes: ((8,), (1,)), types: (tf.int64, tf.int32)>, <TensorSliceDataset shapes: ((8,), (1,)), types: (tf.int64, tf.int32)>, <TensorSliceDataset shapes: ((8,), (1,)), types: (tf.int64, tf.int32)>, <TensorSliceDataset shapes: ((8,), (1,)), types: (tf.int64, tf.int32)>, <TensorSliceDataset shapes: ((8,), (1,)), types: (tf.int64, tf.int32)>, <TensorSliceDataset shapes: ((8,), (1,)), types: (tf.int64, tf.int32)>, <TensorSliceDataset shapes: ((8,), (1,)), types: (tf.int64, tf.int32)>, <TensorSliceDataset shapes: ((8,), (1,)), types: (tf.int64, tf.int32)>, <TensorSliceDataset shapes: ((8,), (1,)), types: (tf.int64, tf.int32)>, <TensorSliceDataset shapes: ((8,), (1,)), types: (tf.int64, tf.int32)>, <TensorSliceDataset shapes: ((8,), (1,)), types: (tf.int64, tf.int32)>, <TensorSliceDataset shapes: ((8,), (1,)), types: (tf.int64, tf.int32)>, <TensorSliceDataset shapes: ((8,), (1,)), types: (tf.int64, tf.int32)>, <TensorSliceDataset shapes: ((8,), (1,)), types: (tf.int64, tf.int32)>, <TensorSliceDataset shapes: ((8,), (1,)), types: (tf.int64, tf.int32)>, <TensorSliceDataset shapes: ((8,), (1,)), types: (tf.int64, tf.int32)>, <TensorSliceDataset shapes: ((8,), (1,)), types: (tf.int64, tf.int32)>, <TensorSliceDataset shapes: ((8,), (1,)), types: (tf.int64, tf.int32)>, <TensorSliceDataset shapes: ((8,), (1,)), types: (tf.int64, tf.int32)>, <TensorSliceDataset shapes: ((8,), (1,)), types: (tf.int64, tf.int32)>, <TensorSliceDataset shapes: ((8,), (1,)), types: (tf.int64, tf.int32)>, <TensorSliceDataset shapes: ((8,), (1,)), types: (tf.int64, tf.int32)>, <TensorSliceDataset shapes: ((8,), (1,)), types: (tf.int64, tf.int32)>, <TensorSliceDataset shapes: ((8,), (1,)), types: (tf.int64, tf.int32)>, <TensorSliceDataset shapes: ((8,), (1,)), types: (tf.int64, tf.int32)>, <TensorSliceDataset shapes: ((8,), (1,)), types: (tf.int64, tf.int32)>, <TensorSliceDataset shapes: ((8,), (1,)), types: (tf.int64, tf.int32)>, <TensorSliceDataset shapes: ((8,), (1,)), types: (tf.int64, tf.int32)>, <TensorSliceDataset shapes: ((8,), (1,)), types: (tf.int64, tf.int32)>, <TensorSliceDataset shapes: ((8,), (1,)), types: (tf.int64, tf.int32)>, <TensorSliceDataset shapes: ((8,), (1,)), types: (tf.int64, tf.int32)>, <TensorSliceDataset shapes: ((8,), (1,)), types: (tf.int64, tf.int32)>, <TensorSliceDataset shapes: ((8,), (1,)), types: (tf.int64, tf.int32)>, <TensorSliceDataset shapes: ((8,), (1,)), types: (tf.int64, tf.int32)>, <TensorSliceDataset shapes: ((8,), (1,)), types: (tf.int64, tf.int32)>, <TensorSliceDataset shapes: ((8,), (1,)), types: (tf.int64, tf.int32)>, <TensorSliceDataset shapes: ((8,), (1,)), types: (tf.int64, tf.int32)>, <TensorSliceDataset shapes: ((8,), (1,)), types: (tf.int64, tf.int32)>, <TensorSliceDataset shapes: ((8,), (1,)), types: (tf.int64, tf.int32)>, <TensorSliceDataset shapes: ((8,), (1,)), types: (tf.int64, tf.int32)>, <TensorSliceDataset shapes: ((8,), (1,)), types: (tf.int64, tf.int32)>, <TensorSliceDataset shapes: ((8,), (1,)), types: (tf.int64, tf.int32)>, <TensorSliceDataset shapes: ((8,), (1,)), types: (tf.int64, tf.int32)>, <TensorSliceDataset shapes: ((8,), (1,)), types: (tf.int64, tf.int32)>, <TensorSliceDataset shapes: ((8,), (1,)), types: (tf.int64, tf.int32)>, <TensorSliceDataset shapes: ((8,), (1,)), types: (tf.int64, tf.int32)>, <TensorSliceDataset shapes: ((8,), (1,)), types: (tf.int64, tf.int32)>, <TensorSliceDataset shapes: ((8,), (1,)), types: (tf.int64, tf.int32)>, <TensorSliceDataset shapes: ((8,), (1,)), types: (tf.int64, tf.int32)>, <TensorSliceDataset shapes: ((8,), (1,)), types: (tf.int64, tf.int32)>, <TensorSliceDataset shapes: ((8,), (1,)), types: (tf.int64, tf.int32)>, <TensorSliceDataset shapes: ((8,), (1,)), types: (tf.int64, tf.int32)>, <TensorSliceDataset shapes: ((8,), (1,)), types: (tf.int64, tf.int32)>, <TensorSliceDataset shapes: ((8,), (1,)), types: (tf.int64, tf.int32)>, <TensorSliceDataset shapes: ((8,), (1,)), types: (tf.int64, tf.int32)>, <TensorSliceDataset shapes: ((8,), (1,)), types: (tf.int64, tf.int32)>, <TensorSliceDataset shapes: ((8,), (1,)), types: (tf.int64, tf.int32)>, <TensorSliceDataset shapes: ((8,), (1,)), types: (tf.int64, tf.int32)>, <TensorSliceDataset shapes: ((8,), (1,)), types: (tf.int64, tf.int32)>, <TensorSliceDataset shapes: ((8,), (1,)), types: (tf.int64, tf.int32)>, <TensorSliceDataset shapes: ((8,), (1,)), types: (tf.int64, tf.int32)>, <TensorSliceDataset shapes: ((8,), (1,)), types: (tf.int64, tf.int32)>, <TensorSliceDataset shapes: ((8,), (1,)), types: (tf.int64, tf.int32)>, <TensorSliceDataset shapes: ((8,), (1,)), types: (tf.int64, tf.int32)>, <TensorSliceDataset shapes: ((8,), (1,)), types: (tf.int64, tf.int32)>, <TensorSliceDataset shapes: ((8,), (1,)), types: (tf.int64, tf.int32)>, <TensorSliceDataset shapes: ((8,), (1,)), types: (tf.int64, tf.int32)>, <TensorSliceDataset shapes: ((8,), (1,)), types: (tf.int64, tf.int32)>, <TensorSliceDataset shapes: ((8,), (1,)), types: (tf.int64, tf.int32)>, <TensorSliceDataset shapes: ((8,), (1,)), types: (tf.int64, tf.int32)>, <TensorSliceDataset shapes: ((8,), (1,)), types: (tf.int64, tf.int32)>, <TensorSliceDataset shapes: ((8,), (1,)), types: (tf.int64, tf.int32)>, <TensorSliceDataset shapes: ((8,), (1,)), types: (tf.int64, tf.int32)>, <TensorSliceDataset shapes: ((8,), (1,)), types: (tf.int64, tf.int32)>, <TensorSliceDataset shapes: ((8,), (1,)), types: (tf.int64, tf.int32)>, <TensorSliceDataset shapes: ((8,), (1,)), types: (tf.int64, tf.int32)>, <TensorSliceDataset shapes: ((8,), (1,)), types: (tf.int64, tf.int32)>, <TensorSliceDataset shapes: ((8,), (1,)), types: (tf.int64, tf.int32)>, <TensorSliceDataset shapes: ((8,), (1,)), types: (tf.int64, tf.int32)>, <TensorSliceDataset shapes: ((8,), (1,)), types: (tf.int64, tf.int32)>, <TensorSliceDataset shapes: ((8,), (1,)), types: (tf.int64, tf.int32)>, <TensorSliceDataset shapes: ((8,), (1,)), types: (tf.int64, tf.int32)>, <TensorSliceDataset shapes: ((8,), (1,)), types: (tf.int64, tf.int32)>, <TensorSliceDataset shapes: ((8,), (1,)), types: (tf.int64, tf.int32)>, <TensorSliceDataset shapes: ((8,), (1,)), types: (tf.int64, tf.int32)>, <TensorSliceDataset shapes: ((8,), (1,)), types: (tf.int64, tf.int32)>, <TensorSliceDataset shapes: ((8,), (1,)), types: (tf.int64, tf.int32)>, <TensorSliceDataset shapes: ((8,), (1,)), types: (tf.int64, tf.int32)>, <TensorSliceDataset shapes: ((8,), (1,)), types: (tf.int64, tf.int32)>, <TensorSliceDataset shapes: ((8,), (1,)), types: (tf.int64, tf.int32)>, <TensorSliceDataset shapes: ((8,), (1,)), types: (tf.int64, tf.int32)>, <TensorSliceDataset shapes: ((8,), (1,)), types: (tf.int64, tf.int32)>, <TensorSliceDataset shapes: ((8,), (1,)), types: (tf.int64, tf.int32)>, <TensorSliceDataset shapes: ((8,), (1,)), types: (tf.int64, tf.int32)>, <TensorSliceDataset shapes: ((8,), (1,)), types: (tf.int64, tf.int32)>, <TensorSliceDataset shapes: ((8,), (1,)), types: (tf.int64, tf.int32)>, <TensorSliceDataset shapes: ((8,), (1,)), types: (tf.int64, tf.int32)>, <TensorSliceDataset shapes: ((8,), (1,)), types: (tf.int64, tf.int32)>, <TensorSliceDataset shapes: ((8,), (1,)), types: (tf.int64, tf.int32)>, <TensorSliceDataset shapes: ((8,), (1,)), types: (tf.int64, tf.int32)>, <TensorSliceDataset shapes: ((8,), (1,)), types: (tf.int64, tf.int32)>, <TensorSliceDataset shapes: ((8,), (1,)), types: (tf.int64, tf.int32)>, <TensorSliceDataset shapes: ((8,), (1,)), types: (tf.int64, tf.int32)>, <TensorSliceDataset shapes: ((8,), (1,)), types: (tf.int64, tf.int32)>, <TensorSliceDataset shapes: ((8,), (1,)), types: (tf.int64, tf.int32)>, <TensorSliceDataset shapes: ((8,), (1,)), types: (tf.int64, tf.int32)>, <TensorSliceDataset shapes: ((8,), (1,)), types: (tf.int64, tf.int32)>, <TensorSliceDataset shapes: ((8,), (1,)), types: (tf.int64, tf.int32)>, <TensorSliceDataset shapes: ((8,), (1,)), types: (tf.int64, tf.int32)>, <TensorSliceDataset shapes: ((8,), (1,)), types: (tf.int64, tf.int32)>, <TensorSliceDataset shapes: ((8,), (1,)), types: (tf.int64, tf.int32)>, <TensorSliceDataset shapes: ((8,), (1,)), types: (tf.int64, tf.int32)>, <TensorSliceDataset shapes: ((8,), (1,)), types: (tf.int64, tf.int32)>, <TensorSliceDataset shapes: ((8,), (1,)), types: (tf.int64, tf.int32)>, <TensorSliceDataset shapes: ((8,), (1,)), types: (tf.int64, tf.int32)>, <TensorSliceDataset shapes: ((8,), (1,)), types: (tf.int64, tf.int32)>, <TensorSliceDataset shapes: ((8,), (1,)), types: (tf.int64, tf.int32)>, <TensorSliceDataset shapes: ((8,), (1,)), types: (tf.int64, tf.int32)>, <TensorSliceDataset shapes: ((8,), (1,)), types: (tf.int64, tf.int32)>, <TensorSliceDataset shapes: ((8,), (1,)), types: (tf.int64, tf.int32)>, <TensorSliceDataset shapes: ((8,), (1,)), types: (tf.int64, tf.int32)>, <TensorSliceDataset shapes: ((8,), (1,)), types: (tf.int64, tf.int32)>, <TensorSliceDataset shapes: ((8,), (1,)), types: (tf.int64, tf.int32)>, <TensorSliceDataset shapes: ((8,), (1,)), types: (tf.int64, tf.int32)>, <TensorSliceDataset shapes: ((8,), (1,)), types: (tf.int64, tf.int32)>, <TensorSliceDataset shapes: ((8,), (1,)), types: (tf.int64, tf.int32)>, <TensorSliceDataset shapes: ((8,), (1,)), types: (tf.int64, tf.int32)>, <TensorSliceDataset shapes: ((8,), (1,)), types: (tf.int64, tf.int32)>, <TensorSliceDataset shapes: ((8,), (1,)), types: (tf.int64, tf.int32)>, <TensorSliceDataset shapes: ((8,), (1,)), types: (tf.int64, tf.int32)>, <TensorSliceDataset shapes: ((8,), (1,)), types: (tf.int64, tf.int32)>, <TensorSliceDataset shapes: ((8,), (1,)), types: (tf.int64, tf.int32)>, <TensorSliceDataset shapes: ((8,), (1,)), types: (tf.int64, tf.int32)>, <TensorSliceDataset shapes: ((8,), (1,)), types: (tf.int64, tf.int32)>, <TensorSliceDataset shapes: ((8,), (1,)), types: (tf.int64, tf.int32)>, <TensorSliceDataset shapes: ((8,), (1,)), types: (tf.int64, tf.int32)>, <TensorSliceDataset shapes: ((8,), (1,)), types: (tf.int64, tf.int32)>, <TensorSliceDataset shapes: ((8,), (1,)), types: (tf.int64, tf.int32)>, <TensorSliceDataset shapes: ((8,), (1,)), types: (tf.int64, tf.int32)>, <TensorSliceDataset shapes: ((8,), (1,)), types: (tf.int64, tf.int32)>, <TensorSliceDataset shapes: ((8,), (1,)), types: (tf.int64, tf.int32)>, <TensorSliceDataset shapes: ((8,), (1,)), types: (tf.int64, tf.int32)>, <TensorSliceDataset shapes: ((8,), (1,)), types: (tf.int64, tf.int32)>, <TensorSliceDataset shapes: ((8,), (1,)), types: (tf.int64, tf.int32)>, <TensorSliceDataset shapes: ((8,), (1,)), types: (tf.int64, tf.int32)>, <TensorSliceDataset shapes: ((8,), (1,)), types: (tf.int64, tf.int32)>, <TensorSliceDataset shapes: ((8,), (1,)), types: (tf.int64, tf.int32)>, <TensorSliceDataset shapes: ((8,), (1,)), types: (tf.int64, tf.int32)>, <TensorSliceDataset shapes: ((8,), (1,)), types: (tf.int64, tf.int32)>, <TensorSliceDataset shapes: ((8,), (1,)), types: (tf.int64, tf.int32)>, <TensorSliceDataset shapes: ((8,), (1,)), types: (tf.int64, tf.int32)>, <TensorSliceDataset shapes: ((8,), (1,)), types: (tf.int64, tf.int32)>, <TensorSliceDataset shapes: ((8,), (1,)), types: (tf.int64, tf.int32)>, <TensorSliceDataset shapes: ((8,), (1,)), types: (tf.int64, tf.int32)>, <TensorSliceDataset shapes: ((8,), (1,)), types: (tf.int64, tf.int32)>, <TensorSliceDataset shapes: ((8,), (1,)), types: (tf.int64, tf.int32)>, <TensorSliceDataset shapes: ((8,), (1,)), types: (tf.int64, tf.int32)>, <TensorSliceDataset shapes: ((8,), (1,)), types: (tf.int64, tf.int32)>, <TensorSliceDataset shapes: ((8,), (1,)), types: (tf.int64, tf.int32)>, <TensorSliceDataset shapes: ((8,), (1,)), types: (tf.int64, tf.int32)>, <TensorSliceDataset shapes: ((8,), (1,)), types: (tf.int64, tf.int32)>, <TensorSliceDataset shapes: ((8,), (1,)), types: (tf.int64, tf.int32)>, <TensorSliceDataset shapes: ((8,), (1,)), types: (tf.int64, tf.int32)>, <TensorSliceDataset shapes: ((8,), (1,)), types: (tf.int64, tf.int32)>, <TensorSliceDataset shapes: ((8,), (1,)), types: (tf.int64, tf.int32)>, <TensorSliceDataset shapes: ((8,), (1,)), types: (tf.int64, tf.int32)>, <TensorSliceDataset shapes: ((8,), (1,)), types: (tf.int64, tf.int32)>, <TensorSliceDataset shapes: ((8,), (1,)), types: (tf.int64, tf.int32)>, <TensorSliceDataset shapes: ((8,), (1,)), types: (tf.int64, tf.int32)>, <TensorSliceDataset shapes: ((8,), (1,)), types: (tf.int64, tf.int32)>, <TensorSliceDataset shapes: ((8,), (1,)), types: (tf.int64, tf.int32)>, <TensorSliceDataset shapes: ((8,), (1,)), types: (tf.int64, tf.int32)>, <TensorSliceDataset shapes: ((8,), (1,)), types: (tf.int64, tf.int32)>, <TensorSliceDataset shapes: ((8,), (1,)), types: (tf.int64, tf.int32)>, <TensorSliceDataset shapes: ((8,), (1,)), types: (tf.int64, tf.int32)>, <TensorSliceDataset shapes: ((8,), (1,)), types: (tf.int64, tf.int32)>, <TensorSliceDataset shapes: ((8,), (1,)), types: (tf.int64, tf.int32)>, <TensorSliceDataset shapes: ((8,), (1,)), types: (tf.int64, tf.int32)>, <TensorSliceDataset shapes: ((8,), (1,)), types: (tf.int64, tf.int32)>, <TensorSliceDataset shapes: ((8,), (1,)), types: (tf.int64, tf.int32)>, <TensorSliceDataset shapes: ((8,), (1,)), types: (tf.int64, tf.int32)>, <TensorSliceDataset shapes: ((8,), (1,)), types: (tf.int64, tf.int32)>, <TensorSliceDataset shapes: ((8,), (1,)), types: (tf.int64, tf.int32)>, <TensorSliceDataset shapes: ((8,), (1,)), types: (tf.int64, tf.int32)>, <TensorSliceDataset shapes: ((8,), (1,)), types: (tf.int64, tf.int32)>, <TensorSliceDataset shapes: ((8,), (1,)), types: (tf.int64, tf.int32)>, <TensorSliceDataset shapes: ((8,), (1,)), types: (tf.int64, tf.int32)>, <TensorSliceDataset shapes: ((8,), (1,)), types: (tf.int64, tf.int32)>, <TensorSliceDataset shapes: ((8,), (1,)), types: (tf.int64, tf.int32)>, <TensorSliceDataset shapes: ((8,), (1,)), types: (tf.int64, tf.int32)>, <TensorSliceDataset shapes: ((8,), (1,)), types: (tf.int64, tf.int32)>, <TensorSliceDataset shapes: ((8,), (1,)), types: (tf.int64, tf.int32)>, <TensorSliceDataset shapes: ((8,), (1,)), types: (tf.int64, tf.int32)>, <TensorSliceDataset shapes: ((8,), (1,)), types: (tf.int64, tf.int32)>, <TensorSliceDataset shapes: ((8,), (1,)), types: (tf.int64, tf.int32)>, <TensorSliceDataset shapes: ((8,), (1,)), types: (tf.int64, tf.int32)>, <TensorSliceDataset shapes: ((8,), (1,)), types: (tf.int64, tf.int32)>, <TensorSliceDataset shapes: ((8,), (1,)), types: (tf.int64, tf.int32)>, <TensorSliceDataset shapes: ((8,), (1,)), types: (tf.int64, tf.int32)>, <TensorSliceDataset shapes: ((8,), (1,)), types: (tf.int64, tf.int32)>, <TensorSliceDataset shapes: ((8,), (1,)), types: (tf.int64, tf.int32)>, <TensorSliceDataset shapes: ((8,), (1,)), types: (tf.int64, tf.int32)>, <TensorSliceDataset shapes: ((8,), (1,)), types: (tf.int64, tf.int32)>, <TensorSliceDataset shapes: ((8,), (1,)), types: (tf.int64, tf.int32)>, <TensorSliceDataset shapes: ((8,), (1,)), types: (tf.int64, tf.int32)>, <TensorSliceDataset shapes: ((8,), (1,)), types: (tf.int64, tf.int32)>, <TensorSliceDataset shapes: ((8,), (1,)), types: (tf.int64, tf.int32)>, <TensorSliceDataset shapes: ((8,), (1,)), types: (tf.int64, tf.int32)>, <TensorSliceDataset shapes: ((8,), (1,)), types: (tf.int64, tf.int32)>, <TensorSliceDataset shapes: ((8,), (1,)), types: (tf.int64, tf.int32)>, <TensorSliceDataset shapes: ((8,), (1,)), types: (tf.int64, tf.int32)>, <TensorSliceDataset shapes: ((8,), (1,)), types: (tf.int64, tf.int32)>, <TensorSliceDataset shapes: ((8,), (1,)), types: (tf.int64, tf.int32)>, <TensorSliceDataset shapes: ((8,), (1,)), types: (tf.int64, tf.int32)>, <TensorSliceDataset shapes: ((8,), (1,)), types: (tf.int64, tf.int32)>, <TensorSliceDataset shapes: ((8,), (1,)), types: (tf.int64, tf.int32)>, <TensorSliceDataset shapes: ((8,), (1,)), types: (tf.int64, tf.int32)>, <TensorSliceDataset shapes: ((8,), (1,)), types: (tf.int64, tf.int32)>, <TensorSliceDataset shapes: ((8,), (1,)), types: (tf.int64, tf.int32)>, <TensorSliceDataset shapes: ((8,), (1,)), types: (tf.int64, tf.int32)>, <TensorSliceDataset shapes: ((8,), (1,)), types: (tf.int64, tf.int32)>, <TensorSliceDataset shapes: ((8,), (1,)), types: (tf.int64, tf.int32)>, <TensorSliceDataset shapes: ((8,), (1,)), types: (tf.int64, tf.int32)>, <TensorSliceDataset shapes: ((8,), (1,)), types: (tf.int64, tf.int32)>, <TensorSliceDataset shapes: ((8,), (1,)), types: (tf.int64, tf.int32)>, <TensorSliceDataset shapes: ((8,), (1,)), types: (tf.int64, tf.int32)>, <TensorSliceDataset shapes: ((8,), (1,)), types: (tf.int64, tf.int32)>, <TensorSliceDataset shapes: ((8,), (1,)), types: (tf.int64, tf.int32)>, <TensorSliceDataset shapes: ((8,), (1,)), types: (tf.int64, tf.int32)>, <TensorSliceDataset shapes: ((8,), (1,)), types: (tf.int64, tf.int32)>, <TensorSliceDataset shapes: ((8,), (1,)), types: (tf.int64, tf.int32)>, <TensorSliceDataset shapes: ((8,), (1,)), types: (tf.int64, tf.int32)>, <TensorSliceDataset shapes: ((8,), (1,)), types: (tf.int64, tf.int32)>, <TensorSliceDataset shapes: ((8,), (1,)), types: (tf.int64, tf.int32)>, <TensorSliceDataset shapes: ((8,), (1,)), types: (tf.int64, tf.int32)>, <TensorSliceDataset shapes: ((8,), (1,)), types: (tf.int64, tf.int32)>, <TensorSliceDataset shapes: ((8,), (1,)), types: (tf.int64, tf.int32)>, <TensorSliceDataset shapes: ((8,), (1,)), types: (tf.int64, tf.int32)>, <TensorSliceDataset shapes: ((8,), (1,)), types: (tf.int64, tf.int32)>, <TensorSliceDataset shapes: ((8,), (1,)), types: (tf.int64, tf.int32)>, <TensorSliceDataset shapes: ((8,), (1,)), types: (tf.int64, tf.int32)>, <TensorSliceDataset shapes: ((8,), (1,)), types: (tf.int64, tf.int32)>, <TensorSliceDataset shapes: ((8,), (1,)), types: (tf.int64, tf.int32)>, <TensorSliceDataset shapes: ((8,), (1,)), types: (tf.int64, tf.int32)>, <TensorSliceDataset shapes: ((8,), (1,)), types: (tf.int64, tf.int32)>, <TensorSliceDataset shapes: ((8,), (1,)), types: (tf.int64, tf.int32)>, <TensorSliceDataset shapes: ((8,), (1,)), types: (tf.int64, tf.int32)>, <TensorSliceDataset shapes: ((8,), (1,)), types: (tf.int64, tf.int32)>, <TensorSliceDataset shapes: ((8,), (1,)), types: (tf.int64, tf.int32)>, <TensorSliceDataset shapes: ((8,), (1,)), types: (tf.int64, tf.int32)>, <TensorSliceDataset shapes: ((8,), (1,)), types: (tf.int64, tf.int32)>, <TensorSliceDataset shapes: ((8,), (1,)), types: (tf.int64, tf.int32)>, <TensorSliceDataset shapes: ((8,), (1,)), types: (tf.int64, tf.int32)>, <TensorSliceDataset shapes: ((8,), (1,)), types: (tf.int64, tf.int32)>, <TensorSliceDataset shapes: ((8,), (1,)), types: (tf.int64, tf.int32)>, <TensorSliceDataset shapes: ((8,), (1,)), types: (tf.int64, tf.int32)>, <TensorSliceDataset shapes: ((8,), (1,)), types: (tf.int64, tf.int32)>, <TensorSliceDataset shapes: ((8,), (1,)), types: (tf.int64, tf.int32)>, <TensorSliceDataset shapes: ((8,), (1,)), types: (tf.int64, tf.int32)>, <TensorSliceDataset shapes: ((8,), (1,)), types: (tf.int64, tf.int32)>, <TensorSliceDataset shapes: ((8,), (1,)), types: (tf.int64, tf.int32)>, <TensorSliceDataset shapes: ((8,), (1,)), types: (tf.int64, tf.int32)>, <TensorSliceDataset shapes: ((8,), (1,)), types: (tf.int64, tf.int32)>, <TensorSliceDataset shapes: ((8,), (1,)), types: (tf.int64, tf.int32)>, <TensorSliceDataset shapes: ((8,), (1,)), types: (tf.int64, tf.int32)>, <TensorSliceDataset shapes: ((8,), (1,)), types: (tf.int64, tf.int32)>, <TensorSliceDataset shapes: ((8,), (1,)), types: (tf.int64, tf.int32)>, <TensorSliceDataset shapes: ((8,), (1,)), types: (tf.int64, tf.int32)>, <TensorSliceDataset shapes: ((8,), (1,)), types: (tf.int64, tf.int32)>, <TensorSliceDataset shapes: ((8,), (1,)), types: (tf.int64, tf.int32)>, <TensorSliceDataset shapes: ((8,), (1,)), types: (tf.int64, tf.int32)>, <TensorSliceDataset shapes: ((8,), (1,)), types: (tf.int64, tf.int32)>, <TensorSliceDataset shapes: ((8,), (1,)), types: (tf.int64, tf.int32)>, <TensorSliceDataset shapes: ((8,), (1,)), types: (tf.int64, tf.int32)>, <TensorSliceDataset shapes: ((8,), (1,)), types: (tf.int64, tf.int32)>, <TensorSliceDataset shapes: ((8,), (1,)), types: (tf.int64, tf.int32)>, <TensorSliceDataset shapes: ((8,), (1,)), types: (tf.int64, tf.int32)>, <TensorSliceDataset shapes: ((8,), (1,)), types: (tf.int64, tf.int32)>, <TensorSliceDataset shapes: ((8,), (1,)), types: (tf.int64, tf.int32)>, <TensorSliceDataset shapes: ((8,), (1,)), types: (tf.int64, tf.int32)>, <TensorSliceDataset shapes: ((8,), (1,)), types: (tf.int64, tf.int32)>, <TensorSliceDataset shapes: ((8,), (1,)), types: (tf.int64, tf.int32)>, <TensorSliceDataset shapes: ((8,), (1,)), types: (tf.int64, tf.int32)>, <TensorSliceDataset shapes: ((8,), (1,)), types: (tf.int64, tf.int32)>, <TensorSliceDataset shapes: ((8,), (1,)), types: (tf.int64, tf.int32)>, <TensorSliceDataset shapes: ((8,), (1,)), types: (tf.int64, tf.int32)>, <TensorSliceDataset shapes: ((8,), (1,)), types: (tf.int64, tf.int32)>, <TensorSliceDataset shapes: ((8,), (1,)), types: (tf.int64, tf.int32)>, <TensorSliceDataset shapes: ((8,), (1,)), types: (tf.int64, tf.int32)>, <TensorSliceDataset shapes: ((8,), (1,)), types: (tf.int64, tf.int32)>, <TensorSliceDataset shapes: ((8,), (1,)), types: (tf.int64, tf.int32)>, <TensorSliceDataset shapes: ((8,), (1,)), types: (tf.int64, tf.int32)>, <TensorSliceDataset shapes: ((8,), (1,)), types: (tf.int64, tf.int32)>, <TensorSliceDataset shapes: ((8,), (1,)), types: (tf.int64, tf.int32)>, <TensorSliceDataset shapes: ((8,), (1,)), types: (tf.int64, tf.int32)>, <TensorSliceDataset shapes: ((8,), (1,)), types: (tf.int64, tf.int32)>, <TensorSliceDataset shapes: ((8,), (1,)), types: (tf.int64, tf.int32)>, <TensorSliceDataset shapes: ((8,), (1,)), types: (tf.int64, tf.int32)>, <TensorSliceDataset shapes: ((8,), (1,)), types: (tf.int64, tf.int32)>, <TensorSliceDataset shapes: ((8,), (1,)), types: (tf.int64, tf.int32)>, <TensorSliceDataset shapes: ((8,), (1,)), types: (tf.int64, tf.int32)>, <TensorSliceDataset shapes: ((8,), (1,)), types: (tf.int64, tf.int32)>, <TensorSliceDataset shapes: ((8,), (1,)), types: (tf.int64, tf.int32)>, <TensorSliceDataset shapes: ((8,), (1,)), types: (tf.int64, tf.int32)>, <TensorSliceDataset shapes: ((8,), (1,)), types: (tf.int64, tf.int32)>, <TensorSliceDataset shapes: ((8,), (1,)), types: (tf.int64, tf.int32)>, <TensorSliceDataset shapes: ((8,), (1,)), types: (tf.int64, tf.int32)>, <TensorSliceDataset shapes: ((8,), (1,)), types: (tf.int64, tf.int32)>, <TensorSliceDataset shapes: ((8,), (1,)), types: (tf.int64, tf.int32)>, <TensorSliceDataset shapes: ((8,), (1,)), types: (tf.int64, tf.int32)>, <TensorSliceDataset shapes: ((8,), (1,)), types: (tf.int64, tf.int32)>, <TensorSliceDataset shapes: ((8,), (1,)), types: (tf.int64, tf.int32)>, <TensorSliceDataset shapes: ((8,), (1,)), types: (tf.int64, tf.int32)>, <TensorSliceDataset shapes: ((8,), (1,)), types: (tf.int64, tf.int32)>, <TensorSliceDataset shapes: ((8,), (1,)), types: (tf.int64, tf.int32)>, <TensorSliceDataset shapes: ((8,), (1,)), types: (tf.int64, tf.int32)>, <TensorSliceDataset shapes: ((8,), (1,)), types: (tf.int64, tf.int32)>, <TensorSliceDataset shapes: ((8,), (1,)), types: (tf.int64, tf.int32)>, <TensorSliceDataset shapes: ((8,), (1,)), types: (tf.int64, tf.int32)>, <TensorSliceDataset shapes: ((8,), (1,)), types: (tf.int64, tf.int32)>, <TensorSliceDataset shapes: ((8,), (1,)), types: (tf.int64, tf.int32)>, <TensorSliceDataset shapes: ((8,), (1,)), types: (tf.int64, tf.int32)>, <TensorSliceDataset shapes: ((8,), (1,)), types: (tf.int64, tf.int32)>, <TensorSliceDataset shapes: ((8,), (1,)), types: (tf.int64, tf.int32)>, <TensorSliceDataset shapes: ((8,), (1,)), types: (tf.int64, tf.int32)>, <TensorSliceDataset shapes: ((8,), (1,)), types: (tf.int64, tf.int32)>, <TensorSliceDataset shapes: ((8,), (1,)), types: (tf.int64, tf.int32)>, <TensorSliceDataset shapes: ((8,), (1,)), types: (tf.int64, tf.int32)>, <TensorSliceDataset shapes: ((8,), (1,)), types: (tf.int64, tf.int32)>, <TensorSliceDataset shapes: ((8,), (1,)), types: (tf.int64, tf.int32)>, <TensorSliceDataset shapes: ((8,), (1,)), types: (tf.int64, tf.int32)>, <TensorSliceDataset shapes: ((8,), (1,)), types: (tf.int64, tf.int32)>, <TensorSliceDataset shapes: ((8,), (1,)), types: (tf.int64, tf.int32)>, <TensorSliceDataset shapes: ((8,), (1,)), types: (tf.int64, tf.int32)>, <TensorSliceDataset shapes: ((8,), (1,)), types: (tf.int64, tf.int32)>, <TensorSliceDataset shapes: ((8,), (1,)), types: (tf.int64, tf.int32)>, <TensorSliceDataset shapes: ((8,), (1,)), types: (tf.int64, tf.int32)>, <TensorSliceDataset shapes: ((8,), (1,)), types: (tf.int64, tf.int32)>, <TensorSliceDataset shapes: ((8,), (1,)), types: (tf.int64, tf.int32)>, <TensorSliceDataset shapes: ((8,), (1,)), types: (tf.int64, tf.int32)>, <TensorSliceDataset shapes: ((8,), (1,)), types: (tf.int64, tf.int32)>, <TensorSliceDataset shapes: ((8,), (1,)), types: (tf.int64, tf.int32)>, <TensorSliceDataset shapes: ((8,), (1,)), types: (tf.int64, tf.int32)>, <TensorSliceDataset shapes: ((8,), (1,)), types: (tf.int64, tf.int32)>, <TensorSliceDataset shapes: ((8,), (1,)), types: (tf.int64, tf.int32)>, <TensorSliceDataset shapes: ((8,), (1,)), types: (tf.int64, tf.int32)>, <TensorSliceDataset shapes: ((8,), (1,)), types: (tf.int64, tf.int32)>, <TensorSliceDataset shapes: ((8,), (1,)), types: (tf.int64, tf.int32)>, <TensorSliceDataset shapes: ((8,), (1,)), types: (tf.int64, tf.int32)>, <TensorSliceDataset shapes: ((8,), (1,)), types: (tf.int64, tf.int32)>, <TensorSliceDataset shapes: ((8,), (1,)), types: (tf.int64, tf.int32)>, <TensorSliceDataset shapes: ((8,), (1,)), types: (tf.int64, tf.int32)>, <TensorSliceDataset shapes: ((8,), (1,)), types: (tf.int64, tf.int32)>, <TensorSliceDataset shapes: ((8,), (1,)), types: (tf.int64, tf.int32)>, <TensorSliceDataset shapes: ((8,), (1,)), types: (tf.int64, tf.int32)>, <TensorSliceDataset shapes: ((8,), (1,)), types: (tf.int64, tf.int32)>, <TensorSliceDataset shapes: ((8,), (1,)), types: (tf.int64, tf.int32)>, <TensorSliceDataset shapes: ((8,), (1,)), types: (tf.int64, tf.int32)>, <TensorSliceDataset shapes: ((8,), (1,)), types: (tf.int64, tf.int32)>, <TensorSliceDataset shapes: ((8,), (1,)), types: (tf.int64, tf.int32)>, <TensorSliceDataset shapes: ((8,), (1,)), types: (tf.int64, tf.int32)>, <TensorSliceDataset shapes: ((8,), (1,)), types: (tf.int64, tf.int32)>, <TensorSliceDataset shapes: ((8,), (1,)), types: (tf.int64, tf.int32)>, <TensorSliceDataset shapes: ((8,), (1,)), types: (tf.int64, tf.int32)>, <TensorSliceDataset shapes: ((8,), (1,)), types: (tf.int64, tf.int32)>, <TensorSliceDataset shapes: ((8,), (1,)), types: (tf.int64, tf.int32)>, <TensorSliceDataset shapes: ((8,), (1,)), types: (tf.int64, tf.int32)>, <TensorSliceDataset shapes: ((8,), (1,)), types: (tf.int64, tf.int32)>, <TensorSliceDataset shapes: ((8,), (1,)), types: (tf.int64, tf.int32)>, <TensorSliceDataset shapes: ((8,), (1,)), types: (tf.int64, tf.int32)>, <TensorSliceDataset shapes: ((8,), (1,)), types: (tf.int64, tf.int32)>, <TensorSliceDataset shapes: ((8,), (1,)), types: (tf.int64, tf.int32)>, <TensorSliceDataset shapes: ((8,), (1,)), types: (tf.int64, tf.int32)>, <TensorSliceDataset shapes: ((8,), (1,)), types: (tf.int64, tf.int32)>, <TensorSliceDataset shapes: ((8,), (1,)), types: (tf.int64, tf.int32)>, <TensorSliceDataset shapes: ((8,), (1,)), types: (tf.int64, tf.int32)>, <TensorSliceDataset shapes: ((8,), (1,)), types: (tf.int64, tf.int32)>, <TensorSliceDataset shapes: ((8,), (1,)), types: (tf.int64, tf.int32)>, <TensorSliceDataset shapes: ((8,), (1,)), types: (tf.int64, tf.int32)>, <TensorSliceDataset shapes: ((8,), (1,)), types: (tf.int64, tf.int32)>, <TensorSliceDataset shapes: ((8,), (1,)), types: (tf.int64, tf.int32)>, <TensorSliceDataset shapes: ((8,), (1,)), types: (tf.int64, tf.int32)>, <TensorSliceDataset shapes: ((8,), (1,)), types: (tf.int64, tf.int32)>, <TensorSliceDataset shapes: ((8,), (1,)), types: (tf.int64, tf.int32)>, <TensorSliceDataset shapes: ((8,), (1,)), types: (tf.int64, tf.int32)>, <TensorSliceDataset shapes: ((8,), (1,)), types: (tf.int64, tf.int32)>, <TensorSliceDataset shapes: ((8,), (1,)), types: (tf.int64, tf.int32)>, <TensorSliceDataset shapes: ((8,), (1,)), types: (tf.int64, tf.int32)>, <TensorSliceDataset shapes: ((8,), (1,)), types: (tf.int64, tf.int32)>, <TensorSliceDataset shapes: ((8,), (1,)), types: (tf.int64, tf.int32)>, <TensorSliceDataset shapes: ((8,), (1,)), types: (tf.int64, tf.int32)>, <TensorSliceDataset shapes: ((8,), (1,)), types: (tf.int64, tf.int32)>, <TensorSliceDataset shapes: ((8,), (1,)), types: (tf.int64, tf.int32)>, <TensorSliceDataset shapes: ((8,), (1,)), types: (tf.int64, tf.int32)>, <TensorSliceDataset shapes: ((8,), (1,)), types: (tf.int64, tf.int32)>, <TensorSliceDataset shapes: ((8,), (1,)), types: (tf.int64, tf.int32)>, <TensorSliceDataset shapes: ((8,), (1,)), types: (tf.int64, tf.int32)>, <TensorSliceDataset shapes: ((8,), (1,)), types: (tf.int64, tf.int32)>, <TensorSliceDataset shapes: ((8,), (1,)), types: (tf.int64, tf.int32)>, <TensorSliceDataset shapes: ((8,), (1,)), types: (tf.int64, tf.int32)>, <TensorSliceDataset shapes: ((8,), (1,)), types: (tf.int64, tf.int32)>, <TensorSliceDataset shapes: ((8,), (1,)), types: (tf.int64, tf.int32)>, <TensorSliceDataset shapes: ((8,), (1,)), types: (tf.int64, tf.int32)>, <TensorSliceDataset shapes: ((8,), (1,)), types: (tf.int64, tf.int32)>, <TensorSliceDataset shapes: ((8,), (1,)), types: (tf.int64, tf.int32)>, <TensorSliceDataset shapes: ((8,), (1,)), types: (tf.int64, tf.int32)>, <TensorSliceDataset shapes: ((8,), (1,)), types: (tf.int64, tf.int32)>, <TensorSliceDataset shapes: ((8,), (1,)), types: (tf.int64, tf.int32)>, <TensorSliceDataset shapes: ((8,), (1,)), types: (tf.int64, tf.int32)>, <TensorSliceDataset shapes: ((8,), (1,)), types: (tf.int64, tf.int32)>, <TensorSliceDataset shapes: ((8,), (1,)), types: (tf.int64, tf.int32)>, <TensorSliceDataset shapes: ((8,), (1,)), types: (tf.int64, tf.int32)>, <TensorSliceDataset shapes: ((8,), (1,)), types: (tf.int64, tf.int32)>, <TensorSliceDataset shapes: ((8,), (1,)), types: (tf.int64, tf.int32)>, <TensorSliceDataset shapes: ((8,), (1,)), types: (tf.int64, tf.int32)>, <TensorSliceDataset shapes: ((8,), (1,)), types: (tf.int64, tf.int32)>, <TensorSliceDataset shapes: ((8,), (1,)), types: (tf.int64, tf.int32)>, <TensorSliceDataset shapes: ((8,), (1,)), types: (tf.int64, tf.int32)>, <TensorSliceDataset shapes: ((8,), (1,)), types: (tf.int64, tf.int32)>, <TensorSliceDataset shapes: ((8,), (1,)), types: (tf.int64, tf.int32)>, <TensorSliceDataset shapes: ((8,), (1,)), types: (tf.int64, tf.int32)>, <TensorSliceDataset shapes: ((8,), (1,)), types: (tf.int64, tf.int32)>, <TensorSliceDataset shapes: ((8,), (1,)), types: (tf.int64, tf.int32)>, <TensorSliceDataset shapes: ((8,), (1,)), types: (tf.int64, tf.int32)>, <TensorSliceDataset shapes: ((8,), (1,)), types: (tf.int64, tf.int32)>, <TensorSliceDataset shapes: ((8,), (1,)), types: (tf.int64, tf.int32)>, <TensorSliceDataset shapes: ((8,), (1,)), types: (tf.int64, tf.int32)>, <TensorSliceDataset shapes: ((8,), (1,)), types: (tf.int64, tf.int32)>, <TensorSliceDataset shapes: ((8,), (1,)), types: (tf.int64, tf.int32)>, <TensorSliceDataset shapes: ((8,), (1,)), types: (tf.int64, tf.int32)>, <TensorSliceDataset shapes: ((8,), (1,)), types: (tf.int64, tf.int32)>, <TensorSliceDataset shapes: ((8,), (1,)), types: (tf.int64, tf.int32)>, <TensorSliceDataset shapes: ((8,), (1,)), types: (tf.int64, tf.int32)>, <TensorSliceDataset shapes: ((8,), (1,)), types: (tf.int64, tf.int32)>, <TensorSliceDataset shapes: ((8,), (1,)), types: (tf.int64, tf.int32)>, <TensorSliceDataset shapes: ((8,), (1,)), types: (tf.int64, tf.int32)>, <TensorSliceDataset shapes: ((8,), (1,)), types: (tf.int64, tf.int32)>, <TensorSliceDataset shapes: ((8,), (1,)), types: (tf.int64, tf.int32)>, <TensorSliceDataset shapes: ((8,), (1,)), types: (tf.int64, tf.int32)>, <TensorSliceDataset shapes: ((8,), (1,)), types: (tf.int64, tf.int32)>, <TensorSliceDataset shapes: ((8,), (1,)), types: (tf.int64, tf.int32)>, <TensorSliceDataset shapes: ((8,), (1,)), types: (tf.int64, tf.int32)>, <TensorSliceDataset shapes: ((8,), (1,)), types: (tf.int64, tf.int32)>, <TensorSliceDataset shapes: ((8,), (1,)), types: (tf.int64, tf.int32)>, <TensorSliceDataset shapes: ((8,), (1,)), types: (tf.int64, tf.int32)>, <TensorSliceDataset shapes: ((8,), (1,)), types: (tf.int64, tf.int32)>, <TensorSliceDataset shapes: ((8,), (1,)), types: (tf.int64, tf.int32)>, <TensorSliceDataset shapes: ((8,), (1,)), types: (tf.int64, tf.int32)>, <TensorSliceDataset shapes: ((8,), (1,)), types: (tf.int64, tf.int32)>, <TensorSliceDataset shapes: ((8,), (1,)), types: (tf.int64, tf.int32)>, <TensorSliceDataset shapes: ((8,), (1,)), types: (tf.int64, tf.int32)>, <TensorSliceDataset shapes: ((8,), (1,)), types: (tf.int64, tf.int32)>, <TensorSliceDataset shapes: ((8,), (1,)), types: (tf.int64, tf.int32)>, <TensorSliceDataset shapes: ((8,), (1,)), types: (tf.int64, tf.int32)>, <TensorSliceDataset shapes: ((8,), (1,)), types: (tf.int64, tf.int32)>, <TensorSliceDataset shapes: ((8,), (1,)), types: (tf.int64, tf.int32)>, <TensorSliceDataset shapes: ((8,), (1,)), types: (tf.int64, tf.int32)>, <TensorSliceDataset shapes: ((8,), (1,)), types: (tf.int64, tf.int32)>, <TensorSliceDataset shapes: ((8,), (1,)), types: (tf.int64, tf.int32)>, <TensorSliceDataset shapes: ((8,), (1,)), types: (tf.int64, tf.int32)>, <TensorSliceDataset shapes: ((8,), (1,)), types: (tf.int64, tf.int32)>, <TensorSliceDataset shapes: ((8,), (1,)), types: (tf.int64, tf.int32)>, <TensorSliceDataset shapes: ((8,), (1,)), types: (tf.int64, tf.int32)>, <TensorSliceDataset shapes: ((8,), (1,)), types: (tf.int64, tf.int32)>, <TensorSliceDataset shapes: ((8,), (1,)), types: (tf.int64, tf.int32)>, <TensorSliceDataset shapes: ((8,), (1,)), types: (tf.int64, tf.int32)>, <TensorSliceDataset shapes: ((8,), (1,)), types: (tf.int64, tf.int32)>, <TensorSliceDataset shapes: ((8,), (1,)), types: (tf.int64, tf.int32)>, <TensorSliceDataset shapes: ((8,), (1,)), types: (tf.int64, tf.int32)>, <TensorSliceDataset shapes: ((8,), (1,)), types: (tf.int64, tf.int32)>, <TensorSliceDataset shapes: ((8,), (1,)), types: (tf.int64, tf.int32)>, <TensorSliceDataset shapes: ((8,), (1,)), types: (tf.int64, tf.int32)>, <TensorSliceDataset shapes: ((8,), (1,)), types: (tf.int64, tf.int32)>, <TensorSliceDataset shapes: ((8,), (1,)), types: (tf.int64, tf.int32)>, <TensorSliceDataset shapes: ((8,), (1,)), types: (tf.int64, tf.int32)>, <TensorSliceDataset shapes: ((8,), (1,)), types: (tf.int64, tf.int32)>, <TensorSliceDataset shapes: ((8,), (1,)), types: (tf.int64, tf.int32)>, <TensorSliceDataset shapes: ((8,), (1,)), types: (tf.int64, tf.int32)>, <TensorSliceDataset shapes: ((8,), (1,)), types: (tf.int64, tf.int32)>, <TensorSliceDataset shapes: ((8,), (1,)), types: (tf.int64, tf.int32)>, <TensorSliceDataset shapes: ((8,), (1,)), types: (tf.int64, tf.int32)>, <TensorSliceDataset shapes: ((8,), (1,)), types: (tf.int64, tf.int32)>, <TensorSliceDataset shapes: ((8,), (1,)), types: (tf.int64, tf.int32)>, <TensorSliceDataset shapes: ((8,), (1,)), types: (tf.int64, tf.int32)>, <TensorSliceDataset shapes: ((8,), (1,)), types: (tf.int64, tf.int32)>, <TensorSliceDataset shapes: ((8,), (1,)), types: (tf.int64, tf.int32)>, <TensorSliceDataset shapes: ((8,), (1,)), types: (tf.int64, tf.int32)>, <TensorSliceDataset shapes: ((8,), (1,)), types: (tf.int64, tf.int32)>, <TensorSliceDataset shapes: ((8,), (1,)), types: (tf.int64, tf.int32)>, <TensorSliceDataset shapes: ((8,), (1,)), types: (tf.int64, tf.int32)>, <TensorSliceDataset shapes: ((8,), (1,)), types: (tf.int64, tf.int32)>, <TensorSliceDataset shapes: ((8,), (1,)), types: (tf.int64, tf.int32)>, <TensorSliceDataset shapes: ((8,), (1,)), types: (tf.int64, tf.int32)>, <TensorSliceDataset shapes: ((8,), (1,)), types: (tf.int64, tf.int32)>, <TensorSliceDataset shapes: ((8,), (1,)), types: (tf.int64, tf.int32)>, <TensorSliceDataset shapes: ((8,), (1,)), types: (tf.int64, tf.int32)>, <TensorSliceDataset shapes: ((8,), (1,)), types: (tf.int64, tf.int32)>, <TensorSliceDataset shapes: ((8,), (1,)), types: (tf.int64, tf.int32)>, <TensorSliceDataset shapes: ((8,), (1,)), types: (tf.int64, tf.int32)>, <TensorSliceDataset shapes: ((8,), (1,)), types: (tf.int64, tf.int32)>, <TensorSliceDataset shapes: ((8,), (1,)), types: (tf.int64, tf.int32)>, <TensorSliceDataset shapes: ((8,), (1,)), types: (tf.int64, tf.int32)>, <TensorSliceDataset shapes: ((8,), (1,)), types: (tf.int64, tf.int32)>, <TensorSliceDataset shapes: ((8,), (1,)), types: (tf.int64, tf.int32)>, <TensorSliceDataset shapes: ((8,), (1,)), types: (tf.int64, tf.int32)>, <TensorSliceDataset shapes: ((8,), (1,)), types: (tf.int64, tf.int32)>, <TensorSliceDataset shapes: ((8,), (1,)), types: (tf.int64, tf.int32)>, <TensorSliceDataset shapes: ((8,), (1,)), types: (tf.int64, tf.int32)>, <TensorSliceDataset shapes: ((8,), (1,)), types: (tf.int64, tf.int32)>, <TensorSliceDataset shapes: ((8,), (1,)), types: (tf.int64, tf.int32)>, <TensorSliceDataset shapes: ((8,), (1,)), types: (tf.int64, tf.int32)>, <TensorSliceDataset shapes: ((8,), (1,)), types: (tf.int64, tf.int32)>, <TensorSliceDataset shapes: ((8,), (1,)), types: (tf.int64, tf.int32)>, <TensorSliceDataset shapes: ((8,), (1,)), types: (tf.int64, tf.int32)>, <TensorSliceDataset shapes: ((8,), (1,)), types: (tf.int64, tf.int32)>, <TensorSliceDataset shapes: ((8,), (1,)), types: (tf.int64, tf.int32)>, <TensorSliceDataset shapes: ((8,), (1,)), types: (tf.int64, tf.int32)>, <TensorSliceDataset shapes: ((8,), (1,)), types: (tf.int64, tf.int32)>, <TensorSliceDataset shapes: ((8,), (1,)), types: (tf.int64, tf.int32)>, <TensorSliceDataset shapes: ((8,), (1,)), types: (tf.int64, tf.int32)>, <TensorSliceDataset shapes: ((8,), (1,)), types: (tf.int64, tf.int32)>, <TensorSliceDataset shapes: ((8,), (1,)), types: (tf.int64, tf.int32)>, <TensorSliceDataset shapes: ((8,), (1,)), types: (tf.int64, tf.int32)>, <TensorSliceDataset shapes: ((8,), (1,)), types: (tf.int64, tf.int32)>, <TensorSliceDataset shapes: ((8,), (1,)), types: (tf.int64, tf.int32)>, <TensorSliceDataset shapes: ((8,), (1,)), types: (tf.int64, tf.int32)>, <TensorSliceDataset shapes: ((8,), (1,)), types: (tf.int64, tf.int32)>, <TensorSliceDataset shapes: ((8,), (1,)), types: (tf.int64, tf.int32)>, <TensorSliceDataset shapes: ((8,), (1,)), types: (tf.int64, tf.int32)>, <TensorSliceDataset shapes: ((8,), (1,)), types: (tf.int64, tf.int32)>, <TensorSliceDataset shapes: ((8,), (1,)), types: (tf.int64, tf.int32)>, <TensorSliceDataset shapes: ((8,), (1,)), types: (tf.int64, tf.int32)>, <TensorSliceDataset shapes: ((8,), (1,)), types: (tf.int64, tf.int32)>, <TensorSliceDataset shapes: ((8,), (1,)), types: (tf.int64, tf.int32)>, <TensorSliceDataset shapes: ((8,), (1,)), types: (tf.int64, tf.int32)>, <TensorSliceDataset shapes: ((8,), (1,)), types: (tf.int64, tf.int32)>, <TensorSliceDataset shapes: ((8,), (1,)), types: (tf.int64, tf.int32)>, <TensorSliceDataset shapes: ((8,), (1,)), types: (tf.int64, tf.int32)>, <TensorSliceDataset shapes: ((8,), (1,)), types: (tf.int64, tf.int32)>, <TensorSliceDataset shapes: ((8,), (1,)), types: (tf.int64, tf.int32)>, <TensorSliceDataset shapes: ((8,), (1,)), types: (tf.int64, tf.int32)>, <TensorSliceDataset shapes: ((8,), (1,)), types: (tf.int64, tf.int32)>, <TensorSliceDataset shapes: ((8,), (1,)), types: (tf.int64, tf.int32)>, <TensorSliceDataset shapes: ((8,), (1,)), types: (tf.int64, tf.int32)>, <TensorSliceDataset shapes: ((8,), (1,)), types: (tf.int64, tf.int32)>, <TensorSliceDataset shapes: ((8,), (1,)), types: (tf.int64, tf.int32)>, <TensorSliceDataset shapes: ((8,), (1,)), types: (tf.int64, tf.int32)>, <TensorSliceDataset shapes: ((8,), (1,)), types: (tf.int64, tf.int32)>, <TensorSliceDataset shapes: ((8,), (1,)), types: (tf.int64, tf.int32)>, <TensorSliceDataset shapes: ((8,), (1,)), types: (tf.int64, tf.int32)>, <TensorSliceDataset shapes: ((8,), (1,)), types: (tf.int64, tf.int32)>, <TensorSliceDataset shapes: ((8,), (1,)), types: (tf.int64, tf.int32)>, <TensorSliceDataset shapes: ((8,), (1,)), types: (tf.int64, tf.int32)>, <TensorSliceDataset shapes: ((8,), (1,)), types: (tf.int64, tf.int32)>, <TensorSliceDataset shapes: ((8,), (1,)), types: (tf.int64, tf.int32)>, <TensorSliceDataset shapes: ((8,), (1,)), types: (tf.int64, tf.int32)>, <TensorSliceDataset shapes: ((8,), (1,)), types: (tf.int64, tf.int32)>, <TensorSliceDataset shapes: ((8,), (1,)), types: (tf.int64, tf.int32)>, <TensorSliceDataset shapes: ((8,), (1,)), types: (tf.int64, tf.int32)>, <TensorSliceDataset shapes: ((8,), (1,)), types: (tf.int64, tf.int32)>, <TensorSliceDataset shapes: ((8,), (1,)), types: (tf.int64, tf.int32)>, <TensorSliceDataset shapes: ((8,), (1,)), types: (tf.int64, tf.int32)>, <TensorSliceDataset shapes: ((8,), (1,)), types: (tf.int64, tf.int32)>, <TensorSliceDataset shapes: ((8,), (1,)), types: (tf.int64, tf.int32)>, <TensorSliceDataset shapes: ((8,), (1,)), types: (tf.int64, tf.int32)>, <TensorSliceDataset shapes: ((8,), (1,)), types: (tf.int64, tf.int32)>, <TensorSliceDataset shapes: ((8,), (1,)), types: (tf.int64, tf.int32)>, <TensorSliceDataset shapes: ((8,), (1,)), types: (tf.int64, tf.int32)>, <TensorSliceDataset shapes: ((8,), (1,)), types: (tf.int64, tf.int32)>, <TensorSliceDataset shapes: ((8,), (1,)), types: (tf.int64, tf.int32)>, <TensorSliceDataset shapes: ((8,), (1,)), types: (tf.int64, tf.int32)>, <TensorSliceDataset shapes: ((8,), (1,)), types: (tf.int64, tf.int32)>, <TensorSliceDataset shapes: ((8,), (1,)), types: (tf.int64, tf.int32)>, <TensorSliceDataset shapes: ((8,), (1,)), types: (tf.int64, tf.int32)>, <TensorSliceDataset shapes: ((8,), (1,)), types: (tf.int64, tf.int32)>, <TensorSliceDataset shapes: ((8,), (1,)), types: (tf.int64, tf.int32)>, <TensorSliceDataset shapes: ((8,), (1,)), types: (tf.int64, tf.int32)>, <TensorSliceDataset shapes: ((8,), (1,)), types: (tf.int64, tf.int32)>, <TensorSliceDataset shapes: ((8,), (1,)), types: (tf.int64, tf.int32)>, <TensorSliceDataset shapes: ((8,), (1,)), types: (tf.int64, tf.int32)>, <TensorSliceDataset shapes: ((8,), (1,)), types: (tf.int64, tf.int32)>, <TensorSliceDataset shapes: ((8,), (1,)), types: (tf.int64, tf.int32)>, <TensorSliceDataset shapes: ((8,), (1,)), types: (tf.int64, tf.int32)>, <TensorSliceDataset shapes: ((8,), (1,)), types: (tf.int64, tf.int32)>, <TensorSliceDataset shapes: ((8,), (1,)), types: (tf.int64, tf.int32)>, <TensorSliceDataset shapes: ((8,), (1,)), types: (tf.int64, tf.int32)>, <TensorSliceDataset shapes: ((8,), (1,)), types: (tf.int64, tf.int32)>, <TensorSliceDataset shapes: ((8,), (1,)), types: (tf.int64, tf.int32)>, <TensorSliceDataset shapes: ((8,), (1,)), types: (tf.int64, tf.int32)>, <TensorSliceDataset shapes: ((8,), (1,)), types: (tf.int64, tf.int32)>, <TensorSliceDataset shapes: ((8,), (1,)), types: (tf.int64, tf.int32)>, <TensorSliceDataset shapes: ((8,), (1,)), types: (tf.int64, tf.int32)>, <TensorSliceDataset shapes: ((8,), (1,)), types: (tf.int64, tf.int32)>, <TensorSliceDataset shapes: ((8,), (1,)), types: (tf.int64, tf.int32)>, <TensorSliceDataset shapes: ((8,), (1,)), types: (tf.int64, tf.int32)>, <TensorSliceDataset shapes: ((8,), (1,)), types: (tf.int64, tf.int32)>, <TensorSliceDataset shapes: ((8,), (1,)), types: (tf.int64, tf.int32)>, <TensorSliceDataset shapes: ((8,), (1,)), types: (tf.int64, tf.int32)>, <TensorSliceDataset shapes: ((8,), (1,)), types: (tf.int64, tf.int32)>, <TensorSliceDataset shapes: ((8,), (1,)), types: (tf.int64, tf.int32)>, <TensorSliceDataset shapes: ((8,), (1,)), types: (tf.int64, tf.int32)>, <TensorSliceDataset shapes: ((8,), (1,)), types: (tf.int64, tf.int32)>, <TensorSliceDataset shapes: ((8,), (1,)), types: (tf.int64, tf.int32)>, <TensorSliceDataset shapes: ((8,), (1,)), types: (tf.int64, tf.int32)>, <TensorSliceDataset shapes: ((8,), (1,)), types: (tf.int64, tf.int32)>, <TensorSliceDataset shapes: ((8,), (1,)), types: (tf.int64, tf.int32)>, <TensorSliceDataset shapes: ((8,), (1,)), types: (tf.int64, tf.int32)>, <TensorSliceDataset shapes: ((8,), (1,)), types: (tf.int64, tf.int32)>, <TensorSliceDataset shapes: ((8,), (1,)), types: (tf.int64, tf.int32)>, <TensorSliceDataset shapes: ((8,), (1,)), types: (tf.int64, tf.int32)>, <TensorSliceDataset shapes: ((8,), (1,)), types: (tf.int64, tf.int32)>, <TensorSliceDataset shapes: ((8,), (1,)), types: (tf.int64, tf.int32)>, <TensorSliceDataset shapes: ((8,), (1,)), types: (tf.int64, tf.int32)>, <TensorSliceDataset shapes: ((8,), (1,)), types: (tf.int64, tf.int32)>, <TensorSliceDataset shapes: ((8,), (1,)), types: (tf.int64, tf.int32)>, <TensorSliceDataset shapes: ((8,), (1,)), types: (tf.int64, tf.int32)>, <TensorSliceDataset shapes: ((8,), (1,)), types: (tf.int64, tf.int32)>, <TensorSliceDataset shapes: ((8,), (1,)), types: (tf.int64, tf.int32)>, <TensorSliceDataset shapes: ((8,), (1,)), types: (tf.int64, tf.int32)>, <TensorSliceDataset shapes: ((8,), (1,)), types: (tf.int64, tf.int32)>, <TensorSliceDataset shapes: ((8,), (1,)), types: (tf.int64, tf.int32)>, <TensorSliceDataset shapes: ((8,), (1,)), types: (tf.int64, tf.int32)>, <TensorSliceDataset shapes: ((8,), (1,)), types: (tf.int64, tf.int32)>, <TensorSliceDataset shapes: ((8,), (1,)), types: (tf.int64, tf.int32)>, <TensorSliceDataset shapes: ((8,), (1,)), types: (tf.int64, tf.int32)>, <TensorSliceDataset shapes: ((8,), (1,)), types: (tf.int64, tf.int32)>, <TensorSliceDataset shapes: ((8,), (1,)), types: (tf.int64, tf.int32)>, <TensorSliceDataset shapes: ((8,), (1,)), types: (tf.int64, tf.int32)>, <TensorSliceDataset shapes: ((8,), (1,)), types: (tf.int64, tf.int32)>, <TensorSliceDataset shapes: ((8,), (1,)), types: (tf.int64, tf.int32)>, <TensorSliceDataset shapes: ((8,), (1,)), types: (tf.int64, tf.int32)>, <TensorSliceDataset shapes: ((8,), (1,)), types: (tf.int64, tf.int32)>, <TensorSliceDataset shapes: ((8,), (1,)), types: (tf.int64, tf.int32)>, <TensorSliceDataset shapes: ((8,), (1,)), types: (tf.int64, tf.int32)>, <TensorSliceDataset shapes: ((8,), (1,)), types: (tf.int64, tf.int32)>, <TensorSliceDataset shapes: ((8,), (1,)), types: (tf.int64, tf.int32)>, <TensorSliceDataset shapes: ((8,), (1,)), types: (tf.int64, tf.int32)>, <TensorSliceDataset shapes: ((8,), (1,)), types: (tf.int64, tf.int32)>, <TensorSliceDataset shapes: ((8,), (1,)), types: (tf.int64, tf.int32)>, <TensorSliceDataset shapes: ((8,), (1,)), types: (tf.int64, tf.int32)>, <TensorSliceDataset shapes: ((8,), (1,)), types: (tf.int64, tf.int32)>, <TensorSliceDataset shapes: ((8,), (1,)), types: (tf.int64, tf.int32)>, <TensorSliceDataset shapes: ((8,), (1,)), types: (tf.int64, tf.int32)>, <TensorSliceDataset shapes: ((8,), (1,)), types: (tf.int64, tf.int32)>, <TensorSliceDataset shapes: ((8,), (1,)), types: (tf.int64, tf.int32)>, <TensorSliceDataset shapes: ((8,), (1,)), types: (tf.int64, tf.int32)>, <TensorSliceDataset shapes: ((8,), (1,)), types: (tf.int64, tf.int32)>, <TensorSliceDataset shapes: ((8,), (1,)), types: (tf.int64, tf.int32)>, <TensorSliceDataset shapes: ((8,), (1,)), types: (tf.int64, tf.int32)>, <TensorSliceDataset shapes: ((8,), (1,)), types: (tf.int64, tf.int32)>, <TensorSliceDataset shapes: ((8,), (1,)), types: (tf.int64, tf.int32)>, <TensorSliceDataset shapes: ((8,), (1,)), types: (tf.int64, tf.int32)>, <TensorSliceDataset shapes: ((8,), (1,)), types: (tf.int64, tf.int32)>, <TensorSliceDataset shapes: ((8,), (1,)), types: (tf.int64, tf.int32)>, <TensorSliceDataset shapes: ((8,), (1,)), types: (tf.int64, tf.int32)>, <TensorSliceDataset shapes: ((8,), (1,)), types: (tf.int64, tf.int32)>, <TensorSliceDataset shapes: ((8,), (1,)), types: (tf.int64, tf.int32)>, <TensorSliceDataset shapes: ((8,), (1,)), types: (tf.int64, tf.int32)>, <TensorSliceDataset shapes: ((8,), (1,)), types: (tf.int64, tf.int32)>, <TensorSliceDataset shapes: ((8,), (1,)), types: (tf.int64, tf.int32)>, <TensorSliceDataset shapes: ((8,), (1,)), types: (tf.int64, tf.int32)>, <TensorSliceDataset shapes: ((8,), (1,)), types: (tf.int64, tf.int32)>, <TensorSliceDataset shapes: ((8,), (1,)), types: (tf.int64, tf.int32)>, <TensorSliceDataset shapes: ((8,), (1,)), types: (tf.int64, tf.int32)>, <TensorSliceDataset shapes: ((8,), (1,)), types: (tf.int64, tf.int32)>, <TensorSliceDataset shapes: ((8,), (1,)), types: (tf.int64, tf.int32)>, <TensorSliceDataset shapes: ((8,), (1,)), types: (tf.int64, tf.int32)>, <TensorSliceDataset shapes: ((8,), (1,)), types: (tf.int64, tf.int32)>, <TensorSliceDataset shapes: ((8,), (1,)), types: (tf.int64, tf.int32)>, <TensorSliceDataset shapes: ((8,), (1,)), types: (tf.int64, tf.int32)>, <TensorSliceDataset shapes: ((8,), (1,)), types: (tf.int64, tf.int32)>, <TensorSliceDataset shapes: ((8,), (1,)), types: (tf.int64, tf.int32)>, <TensorSliceDataset shapes: ((8,), (1,)), types: (tf.int64, tf.int32)>, <TensorSliceDataset shapes: ((8,), (1,)), types: (tf.int64, tf.int32)>, <TensorSliceDataset shapes: ((8,), (1,)), types: (tf.int64, tf.int32)>, <TensorSliceDataset shapes: ((8,), (1,)), types: (tf.int64, tf.int32)>, <TensorSliceDataset shapes: ((8,), (1,)), types: (tf.int64, tf.int32)>, <TensorSliceDataset shapes: ((8,), (1,)), types: (tf.int64, tf.int32)>, <TensorSliceDataset shapes: ((8,), (1,)), types: (tf.int64, tf.int32)>, <TensorSliceDataset shapes: ((8,), (1,)), types: (tf.int64, tf.int32)>, <TensorSliceDataset shapes: ((8,), (1,)), types: (tf.int64, tf.int32)>, <TensorSliceDataset shapes: ((8,), (1,)), types: (tf.int64, tf.int32)>, <TensorSliceDataset shapes: ((8,), (1,)), types: (tf.int64, tf.int32)>, <TensorSliceDataset shapes: ((8,), (1,)), types: (tf.int64, tf.int32)>, <TensorSliceDataset shapes: ((8,), (1,)), types: (tf.int64, tf.int32)>, <TensorSliceDataset shapes: ((8,), (1,)), types: (tf.int64, tf.int32)>, <TensorSliceDataset shapes: ((8,), (1,)), types: (tf.int64, tf.int32)>, <TensorSliceDataset shapes: ((8,), (1,)), types: (tf.int64, tf.int32)>, <TensorSliceDataset shapes: ((8,), (1,)), types: (tf.int64, tf.int32)>, <TensorSliceDataset shapes: ((8,), (1,)), types: (tf.int64, tf.int32)>, <TensorSliceDataset shapes: ((8,), (1,)), types: (tf.int64, tf.int32)>, <TensorSliceDataset shapes: ((8,), (1,)), types: (tf.int64, tf.int32)>, <TensorSliceDataset shapes: ((8,), (1,)), types: (tf.int64, tf.int32)>, <TensorSliceDataset shapes: ((8,), (1,)), types: (tf.int64, tf.int32)>, <TensorSliceDataset shapes: ((8,), (1,)), types: (tf.int64, tf.int32)>, <TensorSliceDataset shapes: ((8,), (1,)), types: (tf.int64, tf.int32)>, <TensorSliceDataset shapes: ((8,), (1,)), types: (tf.int64, tf.int32)>, <TensorSliceDataset shapes: ((8,), (1,)), types: (tf.int64, tf.int32)>, <TensorSliceDataset shapes: ((8,), (1,)), types: (tf.int64, tf.int32)>, <TensorSliceDataset shapes: ((8,), (1,)), types: (tf.int64, tf.int32)>, <TensorSliceDataset shapes: ((8,), (1,)), types: (tf.int64, tf.int32)>, <TensorSliceDataset shapes: ((8,), (1,)), types: (tf.int64, tf.int32)>, <TensorSliceDataset shapes: ((8,), (1,)), types: (tf.int64, tf.int32)>, <TensorSliceDataset shapes: ((8,), (1,)), types: (tf.int64, tf.int32)>, <TensorSliceDataset shapes: ((8,), (1,)), types: (tf.int64, tf.int32)>, <TensorSliceDataset shapes: ((8,), (1,)), types: (tf.int64, tf.int32)>, <TensorSliceDataset shapes: ((8,), (1,)), types: (tf.int64, tf.int32)>, <TensorSliceDataset shapes: ((8,), (1,)), types: (tf.int64, tf.int32)>, <TensorSliceDataset shapes: ((8,), (1,)), types: (tf.int64, tf.int32)>, <TensorSliceDataset shapes: ((8,), (1,)), types: (tf.int64, tf.int32)>, <TensorSliceDataset shapes: ((8,), (1,)), types: (tf.int64, tf.int32)>, <TensorSliceDataset shapes: ((8,), (1,)), types: (tf.int64, tf.int32)>, <TensorSliceDataset shapes: ((8,), (1,)), types: (tf.int64, tf.int32)>, <TensorSliceDataset shapes: ((8,), (1,)), types: (tf.int64, tf.int32)>, <TensorSliceDataset shapes: ((8,), (1,)), types: (tf.int64, tf.int32)>, <TensorSliceDataset shapes: ((8,), (1,)), types: (tf.int64, tf.int32)>, <TensorSliceDataset shapes: ((8,), (1,)), types: (tf.int64, tf.int32)>, <TensorSliceDataset shapes: ((8,), (1,)), types: (tf.int64, tf.int32)>, <TensorSliceDataset shapes: ((8,), (1,)), types: (tf.int64, tf.int32)>, <TensorSliceDataset shapes: ((8,), (1,)), types: (tf.int64, tf.int32)>, <TensorSliceDataset shapes: ((8,), (1,)), types: (tf.int64, tf.int32)>, <TensorSliceDataset shapes: ((8,), (1,)), types: (tf.int64, tf.int32)>, <TensorSliceDataset shapes: ((8,), (1,)), types: (tf.int64, tf.int32)>, <TensorSliceDataset shapes: ((8,), (1,)), types: (tf.int64, tf.int32)>, <TensorSliceDataset shapes: ((8,), (1,)), types: (tf.int64, tf.int32)>, <TensorSliceDataset shapes: ((8,), (1,)), types: (tf.int64, tf.int32)>, <TensorSliceDataset shapes: ((8,), (1,)), types: (tf.int64, tf.int32)>, <TensorSliceDataset shapes: ((8,), (1,)), types: (tf.int64, tf.int32)>, <TensorSliceDataset shapes: ((8,), (1,)), types: (tf.int64, tf.int32)>, <TensorSliceDataset shapes: ((8,), (1,)), types: (tf.int64, tf.int32)>, <TensorSliceDataset shapes: ((8,), (1,)), types: (tf.int64, tf.int32)>, <TensorSliceDataset shapes: ((8,), (1,)), types: (tf.int64, tf.int32)>, <TensorSliceDataset shapes: ((8,), (1,)), types: (tf.int64, tf.int32)>, <TensorSliceDataset shapes: ((8,), (1,)), types: (tf.int64, tf.int32)>, <TensorSliceDataset shapes: ((8,), (1,)), types: (tf.int64, tf.int32)>, <TensorSliceDataset shapes: ((8,), (1,)), types: (tf.int64, tf.int32)>, <TensorSliceDataset shapes: ((8,), (1,)), types: (tf.int64, tf.int32)>, <TensorSliceDataset shapes: ((8,), (1,)), types: (tf.int64, tf.int32)>, <TensorSliceDataset shapes: ((8,), (1,)), types: (tf.int64, tf.int32)>, <TensorSliceDataset shapes: ((8,), (1,)), types: (tf.int64, tf.int32)>, <TensorSliceDataset shapes: ((8,), (1,)), types: (tf.int64, tf.int32)>, <TensorSliceDataset shapes: ((8,), (1,)), types: (tf.int64, tf.int32)>, <TensorSliceDataset shapes: ((8,), (1,)), types: (tf.int64, tf.int32)>, <TensorSliceDataset shapes: ((8,), (1,)), types: (tf.int64, tf.int32)>, <TensorSliceDataset shapes: ((8,), (1,)), types: (tf.int64, tf.int32)>, <TensorSliceDataset shapes: ((8,), (1,)), types: (tf.int64, tf.int32)>, <TensorSliceDataset shapes: ((8,), (1,)), types: (tf.int64, tf.int32)>, <TensorSliceDataset shapes: ((8,), (1,)), types: (tf.int64, tf.int32)>, <TensorSliceDataset shapes: ((8,), (1,)), types: (tf.int64, tf.int32)>, <TensorSliceDataset shapes: ((8,), (1,)), types: (tf.int64, tf.int32)>, <TensorSliceDataset shapes: ((8,), (1,)), types: (tf.int64, tf.int32)>, <TensorSliceDataset shapes: ((8,), (1,)), types: (tf.int64, tf.int32)>, <TensorSliceDataset shapes: ((8,), (1,)), types: (tf.int64, tf.int32)>, <TensorSliceDataset shapes: ((8,), (1,)), types: (tf.int64, tf.int32)>, <TensorSliceDataset shapes: ((8,), (1,)), types: (tf.int64, tf.int32)>, <TensorSliceDataset shapes: ((8,), (1,)), types: (tf.int64, tf.int32)>, <TensorSliceDataset shapes: ((8,), (1,)), types: (tf.int64, tf.int32)>, <TensorSliceDataset shapes: ((8,), (1,)), types: (tf.int64, tf.int32)>, <TensorSliceDataset shapes: ((8,), (1,)), types: (tf.int64, tf.int32)>, <TensorSliceDataset shapes: ((8,), (1,)), types: (tf.int64, tf.int32)>, <TensorSliceDataset shapes: ((8,), (1,)), types: (tf.int64, tf.int32)>, <TensorSliceDataset shapes: ((8,), (1,)), types: (tf.int64, tf.int32)>, <TensorSliceDataset shapes: ((8,), (1,)), types: (tf.int64, tf.int32)>, <TensorSliceDataset shapes: ((8,), (1,)), types: (tf.int64, tf.int32)>, <TensorSliceDataset shapes: ((8,), (1,)), types: (tf.int64, tf.int32)>, <TensorSliceDataset shapes: ((8,), (1,)), types: (tf.int64, tf.int32)>, <TensorSliceDataset shapes: ((8,), (1,)), types: (tf.int64, tf.int32)>, <TensorSliceDataset shapes: ((8,), (1,)), types: (tf.int64, tf.int32)>, <TensorSliceDataset shapes: ((8,), (1,)), types: (tf.int64, tf.int32)>, <TensorSliceDataset shapes: ((8,), (1,)), types: (tf.int64, tf.int32)>, <TensorSliceDataset shapes: ((8,), (1,)), types: (tf.int64, tf.int32)>, <TensorSliceDataset shapes: ((8,), (1,)), types: (tf.int64, tf.int32)>, <TensorSliceDataset shapes: ((8,), (1,)), types: (tf.int64, tf.int32)>, <TensorSliceDataset shapes: ((8,), (1,)), types: (tf.int64, tf.int32)>, <TensorSliceDataset shapes: ((8,), (1,)), types: (tf.int64, tf.int32)>, <TensorSliceDataset shapes: ((8,), (1,)), types: (tf.int64, tf.int32)>, <TensorSliceDataset shapes: ((8,), (1,)), types: (tf.int64, tf.int32)>, <TensorSliceDataset shapes: ((8,), (1,)), types: (tf.int64, tf.int32)>, <TensorSliceDataset shapes: ((8,), (1,)), types: (tf.int64, tf.int32)>, <TensorSliceDataset shapes: ((8,), (1,)), types: (tf.int64, tf.int32)>, <TensorSliceDataset shapes: ((8,), (1,)), types: (tf.int64, tf.int32)>, <TensorSliceDataset shapes: ((8,), (1,)), types: (tf.int64, tf.int32)>, <TensorSliceDataset shapes: ((8,), (1,)), types: (tf.int64, tf.int32)>, <TensorSliceDataset shapes: ((8,), (1,)), types: (tf.int64, tf.int32)>, <TensorSliceDataset shapes: ((8,), (1,)), types: (tf.int64, tf.int32)>, <TensorSliceDataset shapes: ((8,), (1,)), types: (tf.int64, tf.int32)>, <TensorSliceDataset shapes: ((8,), (1,)), types: (tf.int64, tf.int32)>, <TensorSliceDataset shapes: ((8,), (1,)), types: (tf.int64, tf.int32)>, <TensorSliceDataset shapes: ((8,), (1,)), types: (tf.int64, tf.int32)>, <TensorSliceDataset shapes: ((8,), (1,)), types: (tf.int64, tf.int32)>, <TensorSliceDataset shapes: ((8,), (1,)), types: (tf.int64, tf.int32)>, <TensorSliceDataset shapes: ((8,), (1,)), types: (tf.int64, tf.int32)>, <TensorSliceDataset shapes: ((8,), (1,)), types: (tf.int64, tf.int32)>, <TensorSliceDataset shapes: ((8,), (1,)), types: (tf.int64, tf.int32)>, <TensorSliceDataset shapes: ((8,), (1,)), types: (tf.int64, tf.int32)>, <TensorSliceDataset shapes: ((8,), (1,)), types: (tf.int64, tf.int32)>, <TensorSliceDataset shapes: ((8,), (1,)), types: (tf.int64, tf.int32)>, <TensorSliceDataset shapes: ((8,), (1,)), types: (tf.int64, tf.int32)>, <TensorSliceDataset shapes: ((8,), (1,)), types: (tf.int64, tf.int32)>, <TensorSliceDataset shapes: ((8,), (1,)), types: (tf.int64, tf.int32)>, <TensorSliceDataset shapes: ((8,), (1,)), types: (tf.int64, tf.int32)>, <TensorSliceDataset shapes: ((8,), (1,)), types: (tf.int64, tf.int32)>, <TensorSliceDataset shapes: ((8,), (1,)), types: (tf.int64, tf.int32)>, <TensorSliceDataset shapes: ((8,), (1,)), types: (tf.int64, tf.int32)>, <TensorSliceDataset shapes: ((8,), (1,)), types: (tf.int64, tf.int32)>, <TensorSliceDataset shapes: ((8,), (1,)), types: (tf.int64, tf.int32)>, <TensorSliceDataset shapes: ((8,), (1,)), types: (tf.int64, tf.int32)>, <TensorSliceDataset shapes: ((8,), (1,)), types: (tf.int64, tf.int32)>, <TensorSliceDataset shapes: ((8,), (1,)), types: (tf.int64, tf.int32)>, <TensorSliceDataset shapes: ((8,), (1,)), types: (tf.int64, tf.int32)>, <TensorSliceDataset shapes: ((8,), (1,)), types: (tf.int64, tf.int32)>, <TensorSliceDataset shapes: ((8,), (1,)), types: (tf.int64, tf.int32)>, <TensorSliceDataset shapes: ((8,), (1,)), types: (tf.int64, tf.int32)>, <TensorSliceDataset shapes: ((8,), (1,)), types: (tf.int64, tf.int32)>, <TensorSliceDataset shapes: ((8,), (1,)), types: (tf.int64, tf.int32)>, <TensorSliceDataset shapes: ((8,), (1,)), types: (tf.int64, tf.int32)>, <TensorSliceDataset shapes: ((8,), (1,)), types: (tf.int64, tf.int32)>, <TensorSliceDataset shapes: ((8,), (1,)), types: (tf.int64, tf.int32)>, <TensorSliceDataset shapes: ((8,), (1,)), types: (tf.int64, tf.int32)>, <TensorSliceDataset shapes: ((8,), (1,)), types: (tf.int64, tf.int32)>, <TensorSliceDataset shapes: ((8,), (1,)), types: (tf.int64, tf.int32)>, <TensorSliceDataset shapes: ((8,), (1,)), types: (tf.int64, tf.int32)>, <TensorSliceDataset shapes: ((8,), (1,)), types: (tf.int64, tf.int32)>, <TensorSliceDataset shapes: ((8,), (1,)), types: (tf.int64, tf.int32)>, <TensorSliceDataset shapes: ((8,), (1,)), types: (tf.int64, tf.int32)>, <TensorSliceDataset shapes: ((8,), (1,)), types: (tf.int64, tf.int32)>, <TensorSliceDataset shapes: ((8,), (1,)), types: (tf.int64, tf.int32)>, <TensorSliceDataset shapes: ((8,), (1,)), types: (tf.int64, tf.int32)>, <TensorSliceDataset shapes: ((8,), (1,)), types: (tf.int64, tf.int32)>, <TensorSliceDataset shapes: ((8,), (1,)), types: (tf.int64, tf.int32)>, <TensorSliceDataset shapes: ((8,), (1,)), types: (tf.int64, tf.int32)>, <TensorSliceDataset shapes: ((8,), (1,)), types: (tf.int64, tf.int32)>, <TensorSliceDataset shapes: ((8,), (1,)), types: (tf.int64, tf.int32)>, <TensorSliceDataset shapes: ((8,), (1,)), types: (tf.int64, tf.int32)>, <TensorSliceDataset shapes: ((8,), (1,)), types: (tf.int64, tf.int32)>, <TensorSliceDataset shapes: ((8,), (1,)), types: (tf.int64, tf.int32)>, <TensorSliceDataset shapes: ((8,), (1,)), types: (tf.int64, tf.int32)>, <TensorSliceDataset shapes: ((8,), (1,)), types: (tf.int64, tf.int32)>, <TensorSliceDataset shapes: ((8,), (1,)), types: (tf.int64, tf.int32)>, <TensorSliceDataset shapes: ((8,), (1,)), types: (tf.int64, tf.int32)>, <TensorSliceDataset shapes: ((8,), (1,)), types: (tf.int64, tf.int32)>, <TensorSliceDataset shapes: ((8,), (1,)), types: (tf.int64, tf.int32)>, <TensorSliceDataset shapes: ((8,), (1,)), types: (tf.int64, tf.int32)>, <TensorSliceDataset shapes: ((8,), (1,)), types: (tf.int64, tf.int32)>, <TensorSliceDataset shapes: ((8,), (1,)), types: (tf.int64, tf.int32)>, <TensorSliceDataset shapes: ((8,), (1,)), types: (tf.int64, tf.int32)>, <TensorSliceDataset shapes: ((8,), (1,)), types: (tf.int64, tf.int32)>, <TensorSliceDataset shapes: ((8,), (1,)), types: (tf.int64, tf.int32)>, <TensorSliceDataset shapes: ((8,), (1,)), types: (tf.int64, tf.int32)>, <TensorSliceDataset shapes: ((8,), (1,)), types: (tf.int64, tf.int32)>, <TensorSliceDataset shapes: ((8,), (1,)), types: (tf.int64, tf.int32)>, <TensorSliceDataset shapes: ((8,), (1,)), types: (tf.int64, tf.int32)>, <TensorSliceDataset shapes: ((8,), (1,)), types: (tf.int64, tf.int32)>, <TensorSliceDataset shapes: ((8,), (1,)), types: (tf.int64, tf.int32)>, <TensorSliceDataset shapes: ((8,), (1,)), types: (tf.int64, tf.int32)>, <TensorSliceDataset shapes: ((8,), (1,)), types: (tf.int64, tf.int32)>, <TensorSliceDataset shapes: ((8,), (1,)), types: (tf.int64, tf.int32)>, <TensorSliceDataset shapes: ((8,), (1,)), types: (tf.int64, tf.int32)>, <TensorSliceDataset shapes: ((8,), (1,)), types: (tf.int64, tf.int32)>, <TensorSliceDataset shapes: ((8,), (1,)), types: (tf.int64, tf.int32)>, <TensorSliceDataset shapes: ((8,), (1,)), types: (tf.int64, tf.int32)>, <TensorSliceDataset shapes: ((8,), (1,)), types: (tf.int64, tf.int32)>, <TensorSliceDataset shapes: ((8,), (1,)), types: (tf.int64, tf.int32)>, <TensorSliceDataset shapes: ((8,), (1,)), types: (tf.int64, tf.int32)>, <TensorSliceDataset shapes: ((8,), (1,)), types: (tf.int64, tf.int32)>, <TensorSliceDataset shapes: ((8,), (1,)), types: (tf.int64, tf.int32)>, <TensorSliceDataset shapes: ((8,), (1,)), types: (tf.int64, tf.int32)>, <TensorSliceDataset shapes: ((8,), (1,)), types: (tf.int64, tf.int32)>, <TensorSliceDataset shapes: ((8,), (1,)), types: (tf.int64, tf.int32)>, <TensorSliceDataset shapes: ((8,), (1,)), types: (tf.int64, tf.int32)>, <TensorSliceDataset shapes: ((8,), (1,)), types: (tf.int64, tf.int32)>, <TensorSliceDataset shapes: ((8,), (1,)), types: (tf.int64, tf.int32)>, <TensorSliceDataset shapes: ((8,), (1,)), types: (tf.int64, tf.int32)>, <TensorSliceDataset shapes: ((8,), (1,)), types: (tf.int64, tf.int32)>, <TensorSliceDataset shapes: ((8,), (1,)), types: (tf.int64, tf.int32)>, <TensorSliceDataset shapes: ((8,), (1,)), types: (tf.int64, tf.int32)>, <TensorSliceDataset shapes: ((8,), (1,)), types: (tf.int64, tf.int32)>, <TensorSliceDataset shapes: ((8,), (1,)), types: (tf.int64, tf.int32)>, <TensorSliceDataset shapes: ((8,), (1,)), types: (tf.int64, tf.int32)>, <TensorSliceDataset shapes: ((8,), (1,)), types: (tf.int64, tf.int32)>, <TensorSliceDataset shapes: ((8,), (1,)), types: (tf.int64, tf.int32)>, <TensorSliceDataset shapes: ((8,), (1,)), types: (tf.int64, tf.int32)>, <TensorSliceDataset shapes: ((8,), (1,)), types: (tf.int64, tf.int32)>, <TensorSliceDataset shapes: ((8,), (1,)), types: (tf.int64, tf.int32)>, <TensorSliceDataset shapes: ((8,), (1,)), types: (tf.int64, tf.int32)>, <TensorSliceDataset shapes: ((8,), (1,)), types: (tf.int64, tf.int32)>, <TensorSliceDataset shapes: ((8,), (1,)), types: (tf.int64, tf.int32)>, <TensorSliceDataset shapes: ((8,), (1,)), types: (tf.int64, tf.int32)>, <TensorSliceDataset shapes: ((8,), (1,)), types: (tf.int64, tf.int32)>, <TensorSliceDataset shapes: ((8,), (1,)), types: (tf.int64, tf.int32)>, <TensorSliceDataset shapes: ((8,), (1,)), types: (tf.int64, tf.int32)>, <TensorSliceDataset shapes: ((8,), (1,)), types: (tf.int64, tf.int32)>, <TensorSliceDataset shapes: ((8,), (1,)), types: (tf.int64, tf.int32)>, <TensorSliceDataset shapes: ((8,), (1,)), types: (tf.int64, tf.int32)>, <TensorSliceDataset shapes: ((8,), (1,)), types: (tf.int64, tf.int32)>, <TensorSliceDataset shapes: ((8,), (1,)), types: (tf.int64, tf.int32)>, <TensorSliceDataset shapes: ((8,), (1,)), types: (tf.int64, tf.int32)>, <TensorSliceDataset shapes: ((8,), (1,)), types: (tf.int64, tf.int32)>, <TensorSliceDataset shapes: ((8,), (1,)), types: (tf.int64, tf.int32)>, <TensorSliceDataset shapes: ((8,), (1,)), types: (tf.int64, tf.int32)>, <TensorSliceDataset shapes: ((8,), (1,)), types: (tf.int64, tf.int32)>, <TensorSliceDataset shapes: ((8,), (1,)), types: (tf.int64, tf.int32)>, <TensorSliceDataset shapes: ((8,), (1,)), types: (tf.int64, tf.int32)>, <TensorSliceDataset shapes: ((8,), (1,)), types: (tf.int64, tf.int32)>, <TensorSliceDataset shapes: ((8,), (1,)), types: (tf.int64, tf.int32)>, <TensorSliceDataset shapes: ((8,), (1,)), types: (tf.int64, tf.int32)>, <TensorSliceDataset shapes: ((8,), (1,)), types: (tf.int64, tf.int32)>, <TensorSliceDataset shapes: ((8,), (1,)), types: (tf.int64, tf.int32)>, <TensorSliceDataset shapes: ((8,), (1,)), types: (tf.int64, tf.int32)>, <TensorSliceDataset shapes: ((8,), (1,)), types: (tf.int64, tf.int32)>, <TensorSliceDataset shapes: ((8,), (1,)), types: (tf.int64, tf.int32)>, <TensorSliceDataset shapes: ((8,), (1,)), types: (tf.int64, tf.int32)>, <TensorSliceDataset shapes: ((8,), (1,)), types: (tf.int64, tf.int32)>, <TensorSliceDataset shapes: ((8,), (1,)), types: (tf.int64, tf.int32)>, <TensorSliceDataset shapes: ((8,), (1,)), types: (tf.int64, tf.int32)>, <TensorSliceDataset shapes: ((8,), (1,)), types: (tf.int64, tf.int32)>, <TensorSliceDataset shapes: ((8,), (1,)), types: (tf.int64, tf.int32)>, <TensorSliceDataset shapes: ((8,), (1,)), types: (tf.int64, tf.int32)>, <TensorSliceDataset shapes: ((8,), (1,)), types: (tf.int64, tf.int32)>, <TensorSliceDataset shapes: ((8,), (1,)), types: (tf.int64, tf.int32)>, <TensorSliceDataset shapes: ((8,), (1,)), types: (tf.int64, tf.int32)>, <TensorSliceDataset shapes: ((8,), (1,)), types: (tf.int64, tf.int32)>, <TensorSliceDataset shapes: ((8,), (1,)), types: (tf.int64, tf.int32)>, <TensorSliceDataset shapes: ((8,), (1,)), types: (tf.int64, tf.int32)>, <TensorSliceDataset shapes: ((8,), (1,)), types: (tf.int64, tf.int32)>, <TensorSliceDataset shapes: ((8,), (1,)), types: (tf.int64, tf.int32)>, <TensorSliceDataset shapes: ((8,), (1,)), types: (tf.int64, tf.int32)>, <TensorSliceDataset shapes: ((8,), (1,)), types: (tf.int64, tf.int32)>, <TensorSliceDataset shapes: ((8,), (1,)), types: (tf.int64, tf.int32)>, <TensorSliceDataset shapes: ((8,), (1,)), types: (tf.int64, tf.int32)>, <TensorSliceDataset shapes: ((8,), (1,)), types: (tf.int64, tf.int32)>, <TensorSliceDataset shapes: ((8,), (1,)), types: (tf.int64, tf.int32)>, <TensorSliceDataset shapes: ((8,), (1,)), types: (tf.int64, tf.int32)>, <TensorSliceDataset shapes: ((8,), (1,)), types: (tf.int64, tf.int32)>, <TensorSliceDataset shapes: ((8,), (1,)), types: (tf.int64, tf.int32)>, <TensorSliceDataset shapes: ((8,), (1,)), types: (tf.int64, tf.int32)>, <TensorSliceDataset shapes: ((8,), (1,)), types: (tf.int64, tf.int32)>, <TensorSliceDataset shapes: ((8,), (1,)), types: (tf.int64, tf.int32)>, <TensorSliceDataset shapes: ((8,), (1,)), types: (tf.int64, tf.int32)>, <TensorSliceDataset shapes: ((8,), (1,)), types: (tf.int64, tf.int32)>, <TensorSliceDataset shapes: ((8,), (1,)), types: (tf.int64, tf.int32)>, <TensorSliceDataset shapes: ((8,), (1,)), types: (tf.int64, tf.int32)>, <TensorSliceDataset shapes: ((8,), (1,)), types: (tf.int64, tf.int32)>, <TensorSliceDataset shapes: ((8,), (1,)), types: (tf.int64, tf.int32)>, <TensorSliceDataset shapes: ((8,), (1,)), types: (tf.int64, tf.int32)>, <TensorSliceDataset shapes: ((8,), (1,)), types: (tf.int64, tf.int32)>, <TensorSliceDataset shapes: ((8,), (1,)), types: (tf.int64, tf.int32)>, <TensorSliceDataset shapes: ((8,), (1,)), types: (tf.int64, tf.int32)>, <TensorSliceDataset shapes: ((8,), (1,)), types: (tf.int64, tf.int32)>, <TensorSliceDataset shapes: ((8,), (1,)), types: (tf.int64, tf.int32)>, <TensorSliceDataset shapes: ((8,), (1,)), types: (tf.int64, tf.int32)>, <TensorSliceDataset shapes: ((8,), (1,)), types: (tf.int64, tf.int32)>, <TensorSliceDataset shapes: ((8,), (1,)), types: (tf.int64, tf.int32)>, <TensorSliceDataset shapes: ((8,), (1,)), types: (tf.int64, tf.int32)>, <TensorSliceDataset shapes: ((8,), (1,)), types: (tf.int64, tf.int32)>, <TensorSliceDataset shapes: ((8,), (1,)), types: (tf.int64, tf.int32)>, <TensorSliceDataset shapes: ((8,), (1,)), types: (tf.int64, tf.int32)>, <TensorSliceDataset shapes: ((8,), (1,)), types: (tf.int64, tf.int32)>, <TensorSliceDataset shapes: ((8,), (1,)), types: (tf.int64, tf.int32)>, <TensorSliceDataset shapes: ((8,), (1,)), types: (tf.int64, tf.int32)>, <TensorSliceDataset shapes: ((8,), (1,)), types: (tf.int64, tf.int32)>, <TensorSliceDataset shapes: ((8,), (1,)), types: (tf.int64, tf.int32)>, <TensorSliceDataset shapes: ((8,), (1,)), types: (tf.int64, tf.int32)>, <TensorSliceDataset shapes: ((8,), (1,)), types: (tf.int64, tf.int32)>, <TensorSliceDataset shapes: ((8,), (1,)), types: (tf.int64, tf.int32)>, <TensorSliceDataset shapes: ((8,), (1,)), types: (tf.int64, tf.int32)>, <TensorSliceDataset shapes: ((8,), (1,)), types: (tf.int64, tf.int32)>, <TensorSliceDataset shapes: ((8,), (1,)), types: (tf.int64, tf.int32)>, <TensorSliceDataset shapes: ((8,), (1,)), types: (tf.int64, tf.int32)>, <TensorSliceDataset shapes: ((8,), (1,)), types: (tf.int64, tf.int32)>, <TensorSliceDataset shapes: ((8,), (1,)), types: (tf.int64, tf.int32)>, <TensorSliceDataset shapes: ((8,), (1,)), types: (tf.int64, tf.int32)>, <TensorSliceDataset shapes: ((8,), (1,)), types: (tf.int64, tf.int32)>, <TensorSliceDataset shapes: ((8,), (1,)), types: (tf.int64, tf.int32)>, <TensorSliceDataset shapes: ((8,), (1,)), types: (tf.int64, tf.int32)>, <TensorSliceDataset shapes: ((8,), (1,)), types: (tf.int64, tf.int32)>, <TensorSliceDataset shapes: ((8,), (1,)), types: (tf.int64, tf.int32)>, <TensorSliceDataset shapes: ((8,), (1,)), types: (tf.int64, tf.int32)>, <TensorSliceDataset shapes: ((8,), (1,)), types: (tf.int64, tf.int32)>, <TensorSliceDataset shapes: ((8,), (1,)), types: (tf.int64, tf.int32)>, <TensorSliceDataset shapes: ((8,), (1,)), types: (tf.int64, tf.int32)>, <TensorSliceDataset shapes: ((8,), (1,)), types: (tf.int64, tf.int32)>, <TensorSliceDataset shapes: ((8,), (1,)), types: (tf.int64, tf.int32)>, <TensorSliceDataset shapes: ((8,), (1,)), types: (tf.int64, tf.int32)>, <TensorSliceDataset shapes: ((8,), (1,)), types: (tf.int64, tf.int32)>, <TensorSliceDataset shapes: ((8,), (1,)), types: (tf.int64, tf.int32)>, <TensorSliceDataset shapes: ((8,), (1,)), types: (tf.int64, tf.int32)>, <TensorSliceDataset shapes: ((8,), (1,)), types: (tf.int64, tf.int32)>, <TensorSliceDataset shapes: ((8,), (1,)), types: (tf.int64, tf.int32)>, <TensorSliceDataset shapes: ((8,), (1,)), types: (tf.int64, tf.int32)>, <TensorSliceDataset shapes: ((8,), (1,)), types: (tf.int64, tf.int32)>, <TensorSliceDataset shapes: ((8,), (1,)), types: (tf.int64, tf.int32)>, <TensorSliceDataset shapes: ((8,), (1,)), types: (tf.int64, tf.int32)>, <TensorSliceDataset shapes: ((8,), (1,)), types: (tf.int64, tf.int32)>, <TensorSliceDataset shapes: ((8,), (1,)), types: (tf.int64, tf.int32)>, <TensorSliceDataset shapes: ((8,), (1,)), types: (tf.int64, tf.int32)>, <TensorSliceDataset shapes: ((8,), (1,)), types: (tf.int64, tf.int32)>, <TensorSliceDataset shapes: ((8,), (1,)), types: (tf.int64, tf.int32)>, <TensorSliceDataset shapes: ((8,), (1,)), types: (tf.int64, tf.int32)>, <TensorSliceDataset shapes: ((8,), (1,)), types: (tf.int64, tf.int32)>, <TensorSliceDataset shapes: ((8,), (1,)), types: (tf.int64, tf.int32)>, <TensorSliceDataset shapes: ((8,), (1,)), types: (tf.int64, tf.int32)>, <TensorSliceDataset shapes: ((8,), (1,)), types: (tf.int64, tf.int32)>, <TensorSliceDataset shapes: ((8,), (1,)), types: (tf.int64, tf.int32)>, <TensorSliceDataset shapes: ((8,), (1,)), types: (tf.int64, tf.int32)>, <TensorSliceDataset shapes: ((8,), (1,)), types: (tf.int64, tf.int32)>, <TensorSliceDataset shapes: ((8,), (1,)), types: (tf.int64, tf.int32)>, <TensorSliceDataset shapes: ((8,), (1,)), types: (tf.int64, tf.int32)>, <TensorSliceDataset shapes: ((8,), (1,)), types: (tf.int64, tf.int32)>, <TensorSliceDataset shapes: ((8,), (1,)), types: (tf.int64, tf.int32)>, <TensorSliceDataset shapes: ((8,), (1,)), types: (tf.int64, tf.int32)>, <TensorSliceDataset shapes: ((8,), (1,)), types: (tf.int64, tf.int32)>, <TensorSliceDataset shapes: ((8,), (1,)), types: (tf.int64, tf.int32)>, <TensorSliceDataset shapes: ((8,), (1,)), types: (tf.int64, tf.int32)>, <TensorSliceDataset shapes: ((8,), (1,)), types: (tf.int64, tf.int32)>, <TensorSliceDataset shapes: ((8,), (1,)), types: (tf.int64, tf.int32)>, <TensorSliceDataset shapes: ((8,), (1,)), types: (tf.int64, tf.int32)>, <TensorSliceDataset shapes: ((8,), (1,)), types: (tf.int64, tf.int32)>, <TensorSliceDataset shapes: ((8,), (1,)), types: (tf.int64, tf.int32)>, <TensorSliceDataset shapes: ((8,), (1,)), types: (tf.int64, tf.int32)>, <TensorSliceDataset shapes: ((8,), (1,)), types: (tf.int64, tf.int32)>, <TensorSliceDataset shapes: ((8,), (1,)), types: (tf.int64, tf.int32)>, <TensorSliceDataset shapes: ((8,), (1,)), types: (tf.int64, tf.int32)>, <TensorSliceDataset shapes: ((8,), (1,)), types: (tf.int64, tf.int32)>, <TensorSliceDataset shapes: ((8,), (1,)), types: (tf.int64, tf.int32)>, <TensorSliceDataset shapes: ((8,), (1,)), types: (tf.int64, tf.int32)>, <TensorSliceDataset shapes: ((8,), (1,)), types: (tf.int64, tf.int32)>, <TensorSliceDataset shapes: ((8,), (1,)), types: (tf.int64, tf.int32)>, <TensorSliceDataset shapes: ((8,), (1,)), types: (tf.int64, tf.int32)>, <TensorSliceDataset shapes: ((8,), (1,)), types: (tf.int64, tf.int32)>, <TensorSliceDataset shapes: ((8,), (1,)), types: (tf.int64, tf.int32)>, <TensorSliceDataset shapes: ((8,), (1,)), types: (tf.int64, tf.int32)>, <TensorSliceDataset shapes: ((8,), (1,)), types: (tf.int64, tf.int32)>, <TensorSliceDataset shapes: ((8,), (1,)), types: (tf.int64, tf.int32)>, <TensorSliceDataset shapes: ((8,), (1,)), types: (tf.int64, tf.int32)>, <TensorSliceDataset shapes: ((8,), (1,)), types: (tf.int64, tf.int32)>, <TensorSliceDataset shapes: ((8,), (1,)), types: (tf.int64, tf.int32)>, <TensorSliceDataset shapes: ((8,), (1,)), types: (tf.int64, tf.int32)>, <TensorSliceDataset shapes: ((8,), (1,)), types: (tf.int64, tf.int32)>, <TensorSliceDataset shapes: ((8,), (1,)), types: (tf.int64, tf.int32)>, <TensorSliceDataset shapes: ((8,), (1,)), types: (tf.int64, tf.int32)>, <TensorSliceDataset shapes: ((8,), (1,)), types: (tf.int64, tf.int32)>, <TensorSliceDataset shapes: ((8,), (1,)), types: (tf.int64, tf.int32)>, <TensorSliceDataset shapes: ((8,), (1,)), types: (tf.int64, tf.int32)>, <TensorSliceDataset shapes: ((8,), (1,)), types: (tf.int64, tf.int32)>, <TensorSliceDataset shapes: ((8,), (1,)), types: (tf.int64, tf.int32)>, <TensorSliceDataset shapes: ((8,), (1,)), types: (tf.int64, tf.int32)>, <TensorSliceDataset shapes: ((8,), (1,)), types: (tf.int64, tf.int32)>, <TensorSliceDataset shapes: ((8,), (1,)), types: (tf.int64, tf.int32)>, <TensorSliceDataset shapes: ((8,), (1,)), types: (tf.int64, tf.int32)>, <TensorSliceDataset shapes: ((8,), (1,)), types: (tf.int64, tf.int32)>, <TensorSliceDataset shapes: ((8,), (1,)), types: (tf.int64, tf.int32)>, <TensorSliceDataset shapes: ((8,), (1,)), types: (tf.int64, tf.int32)>, <TensorSliceDataset shapes: ((8,), (1,)), types: (tf.int64, tf.int32)>, <TensorSliceDataset shapes: ((8,), (1,)), types: (tf.int64, tf.int32)>, <TensorSliceDataset shapes: ((8,), (1,)), types: (tf.int64, tf.int32)>, <TensorSliceDataset shapes: ((8,), (1,)), types: (tf.int64, tf.int32)>, <TensorSliceDataset shapes: ((8,), (1,)), types: (tf.int64, tf.int32)>, <TensorSliceDataset shapes: ((8,), (1,)), types: (tf.int64, tf.int32)>, <TensorSliceDataset shapes: ((8,), (1,)), types: (tf.int64, tf.int32)>, <TensorSliceDataset shapes: ((8,), (1,)), types: (tf.int64, tf.int32)>, <TensorSliceDataset shapes: ((8,), (1,)), types: (tf.int64, tf.int32)>, <TensorSliceDataset shapes: ((8,), (1,)), types: (tf.int64, tf.int32)>, <TensorSliceDataset shapes: ((8,), (1,)), types: (tf.int64, tf.int32)>, <TensorSliceDataset shapes: ((8,), (1,)), types: (tf.int64, tf.int32)>, <TensorSliceDataset shapes: ((8,), (1,)), types: (tf.int64, tf.int32)>, <TensorSliceDataset shapes: ((8,), (1,)), types: (tf.int64, tf.int32)>, <TensorSliceDataset shapes: ((8,), (1,)), types: (tf.int64, tf.int32)>, <TensorSliceDataset shapes: ((8,), (1,)), types: (tf.int64, tf.int32)>, <TensorSliceDataset shapes: ((8,), (1,)), types: (tf.int64, tf.int32)>, <TensorSliceDataset shapes: ((8,), (1,)), types: (tf.int64, tf.int32)>, <TensorSliceDataset shapes: ((8,), (1,)), types: (tf.int64, tf.int32)>, <TensorSliceDataset shapes: ((8,), (1,)), types: (tf.int64, tf.int32)>, <TensorSliceDataset shapes: ((8,), (1,)), types: (tf.int64, tf.int32)>, <TensorSliceDataset shapes: ((8,), (1,)), types: (tf.int64, tf.int32)>, <TensorSliceDataset shapes: ((8,), (1,)), types: (tf.int64, tf.int32)>, <TensorSliceDataset shapes: ((8,), (1,)), types: (tf.int64, tf.int32)>, <TensorSliceDataset shapes: ((8,), (1,)), types: (tf.int64, tf.int32)>, <TensorSliceDataset shapes: ((8,), (1,)), types: (tf.int64, tf.int32)>, <TensorSliceDataset shapes: ((8,), (1,)), types: (tf.int64, tf.int32)>, <TensorSliceDataset shapes: ((8,), (1,)), types: (tf.int64, tf.int32)>, <TensorSliceDataset shapes: ((8,), (1,)), types: (tf.int64, tf.int32)>, <TensorSliceDataset shapes: ((8,), (1,)), types: (tf.int64, tf.int32)>, <TensorSliceDataset shapes: ((8,), (1,)), types: (tf.int64, tf.int32)>, <TensorSliceDataset shapes: ((8,), (1,)), types: (tf.int64, tf.int32)>, <TensorSliceDataset shapes: ((8,), (1,)), types: (tf.int64, tf.int32)>, <TensorSliceDataset shapes: ((8,), (1,)), types: (tf.int64, tf.int32)>, <TensorSliceDataset shapes: ((8,), (1,)), types: (tf.int64, tf.int32)>, <TensorSliceDataset shapes: ((8,), (1,)), types: (tf.int64, tf.int32)>, <TensorSliceDataset shapes: ((8,), (1,)), types: (tf.int64, tf.int32)>, <TensorSliceDataset shapes: ((8,), (1,)), types: (tf.int64, tf.int32)>, <TensorSliceDataset shapes: ((8,), (1,)), types: (tf.int64, tf.int32)>, <TensorSliceDataset shapes: ((8,), (1,)), types: (tf.int64, tf.int32)>, <TensorSliceDataset shapes: ((8,), (1,)), types: (tf.int64, tf.int32)>, <TensorSliceDataset shapes: ((8,), (1,)), types: (tf.int64, tf.int32)>, <TensorSliceDataset shapes: ((8,), (1,)), types: (tf.int64, tf.int32)>, <TensorSliceDataset shapes: ((8,), (1,)), types: (tf.int64, tf.int32)>, <TensorSliceDataset shapes: ((8,), (1,)), types: (tf.int64, tf.int32)>, <TensorSliceDataset shapes: ((8,), (1,)), types: (tf.int64, tf.int32)>, <TensorSliceDataset shapes: ((8,), (1,)), types: (tf.int64, tf.int32)>, <TensorSliceDataset shapes: ((8,), (1,)), types: (tf.int64, tf.int32)>, <TensorSliceDataset shapes: ((8,), (1,)), types: (tf.int64, tf.int32)>, <TensorSliceDataset shapes: ((8,), (1,)), types: (tf.int64, tf.int32)>, <TensorSliceDataset shapes: ((8,), (1,)), types: (tf.int64, tf.int32)>, <TensorSliceDataset shapes: ((8,), (1,)), types: (tf.int64, tf.int32)>, <TensorSliceDataset shapes: ((8,), (1,)), types: (tf.int64, tf.int32)>, <TensorSliceDataset shapes: ((8,), (1,)), types: (tf.int64, tf.int32)>, <TensorSliceDataset shapes: ((8,), (1,)), types: (tf.int64, tf.int32)>, <TensorSliceDataset shapes: ((8,), (1,)), types: (tf.int64, tf.int32)>, <TensorSliceDataset shapes: ((8,), (1,)), types: (tf.int64, tf.int32)>, <TensorSliceDataset shapes: ((8,), (1,)), types: (tf.int64, tf.int32)>, <TensorSliceDataset shapes: ((8,), (1,)), types: (tf.int64, tf.int32)>, <TensorSliceDataset shapes: ((8,), (1,)), types: (tf.int64, tf.int32)>, <TensorSliceDataset shapes: ((8,), (1,)), types: (tf.int64, tf.int32)>, <TensorSliceDataset shapes: ((8,), (1,)), types: (tf.int64, tf.int32)>, <TensorSliceDataset shapes: ((8,), (1,)), types: (tf.int64, tf.int32)>, <TensorSliceDataset shapes: ((8,), (1,)), types: (tf.int64, tf.int32)>, <TensorSliceDataset shapes: ((8,), (1,)), types: (tf.int64, tf.int32)>, <TensorSliceDataset shapes: ((8,), (1,)), types: (tf.int64, tf.int32)>, <TensorSliceDataset shapes: ((8,), (1,)), types: (tf.int64, tf.int32)>, <TensorSliceDataset shapes: ((8,), (1,)), types: (tf.int64, tf.int32)>, <TensorSliceDataset shapes: ((8,), (1,)), types: (tf.int64, tf.int32)>, <TensorSliceDataset shapes: ((8,), (1,)), types: (tf.int64, tf.int32)>, <TensorSliceDataset shapes: ((8,), (1,)), types: (tf.int64, tf.int32)>, <TensorSliceDataset shapes: ((8,), (1,)), types: (tf.int64, tf.int32)>, <TensorSliceDataset shapes: ((8,), (1,)), types: (tf.int64, tf.int32)>, <TensorSliceDataset shapes: ((8,), (1,)), types: (tf.int64, tf.int32)>, <TensorSliceDataset shapes: ((8,), (1,)), types: (tf.int64, tf.int32)>, <TensorSliceDataset shapes: ((8,), (1,)), types: (tf.int64, tf.int32)>, <TensorSliceDataset shapes: ((8,), (1,)), types: (tf.int64, tf.int32)>, <TensorSliceDataset shapes: ((8,), (1,)), types: (tf.int64, tf.int32)>, <TensorSliceDataset shapes: ((8,), (1,)), types: (tf.int64, tf.int32)>, <TensorSliceDataset shapes: ((8,), (1,)), types: (tf.int64, tf.int32)>, <TensorSliceDataset shapes: ((8,), (1,)), types: (tf.int64, tf.int32)>, <TensorSliceDataset shapes: ((8,), (1,)), types: (tf.int64, tf.int32)>, <TensorSliceDataset shapes: ((8,), (1,)), types: (tf.int64, tf.int32)>, <TensorSliceDataset shapes: ((8,), (1,)), types: (tf.int64, tf.int32)>, <TensorSliceDataset shapes: ((8,), (1,)), types: (tf.int64, tf.int32)>, <TensorSliceDataset shapes: ((8,), (1,)), types: (tf.int64, tf.int32)>, <TensorSliceDataset shapes: ((8,), (1,)), types: (tf.int64, tf.int32)>, <TensorSliceDataset shapes: ((8,), (1,)), types: (tf.int64, tf.int32)>, <TensorSliceDataset shapes: ((8,), (1,)), types: (tf.int64, tf.int32)>, <TensorSliceDataset shapes: ((8,), (1,)), types: (tf.int64, tf.int32)>, <TensorSliceDataset shapes: ((8,), (1,)), types: (tf.int64, tf.int32)>, <TensorSliceDataset shapes: ((8,), (1,)), types: (tf.int64, tf.int32)>, <TensorSliceDataset shapes: ((8,), (1,)), types: (tf.int64, tf.int32)>, <TensorSliceDataset shapes: ((8,), (1,)), types: (tf.int64, tf.int32)>, <TensorSliceDataset shapes: ((8,), (1,)), types: (tf.int64, tf.int32)>, <TensorSliceDataset shapes: ((8,), (1,)), types: (tf.int64, tf.int32)>, <TensorSliceDataset shapes: ((8,), (1,)), types: (tf.int64, tf.int32)>, <TensorSliceDataset shapes: ((8,), (1,)), types: (tf.int64, tf.int32)>, <TensorSliceDataset shapes: ((8,), (1,)), types: (tf.int64, tf.int32)>, <TensorSliceDataset shapes: ((8,), (1,)), types: (tf.int64, tf.int32)>, <TensorSliceDataset shapes: ((8,), (1,)), types: (tf.int64, tf.int32)>, <TensorSliceDataset shapes: ((8,), (1,)), types: (tf.int64, tf.int32)>, <TensorSliceDataset shapes: ((8,), (1,)), types: (tf.int64, tf.int32)>, <TensorSliceDataset shapes: ((8,), (1,)), types: (tf.int64, tf.int32)>, <TensorSliceDataset shapes: ((8,), (1,)), types: (tf.int64, tf.int32)>, <TensorSliceDataset shapes: ((8,), (1,)), types: (tf.int64, tf.int32)>, <TensorSliceDataset shapes: ((8,), (1,)), types: (tf.int64, tf.int32)>, <TensorSliceDataset shapes: ((8,), (1,)), types: (tf.int64, tf.int32)>, <TensorSliceDataset shapes: ((8,), (1,)), types: (tf.int64, tf.int32)>, <TensorSliceDataset shapes: ((8,), (1,)), types: (tf.int64, tf.int32)>, <TensorSliceDataset shapes: ((8,), (1,)), types: (tf.int64, tf.int32)>, <TensorSliceDataset shapes: ((8,), (1,)), types: (tf.int64, tf.int32)>, <TensorSliceDataset shapes: ((8,), (1,)), types: (tf.int64, tf.int32)>, <TensorSliceDataset shapes: ((8,), (1,)), types: (tf.int64, tf.int32)>, <TensorSliceDataset shapes: ((8,), (1,)), types: (tf.int64, tf.int32)>, <TensorSliceDataset shapes: ((8,), (1,)), types: (tf.int64, tf.int32)>, <TensorSliceDataset shapes: ((8,), (1,)), types: (tf.int64, tf.int32)>, <TensorSliceDataset shapes: ((8,), (1,)), types: (tf.int64, tf.int32)>, <TensorSliceDataset shapes: ((8,), (1,)), types: (tf.int64, tf.int32)>, <TensorSliceDataset shapes: ((8,), (1,)), types: (tf.int64, tf.int32)>, <TensorSliceDataset shapes: ((8,), (1,)), types: (tf.int64, tf.int32)>, <TensorSliceDataset shapes: ((8,), (1,)), types: (tf.int64, tf.int32)>, <TensorSliceDataset shapes: ((8,), (1,)), types: (tf.int64, tf.int32)>, <TensorSliceDataset shapes: ((8,), (1,)), types: (tf.int64, tf.int32)>, <TensorSliceDataset shapes: ((8,), (1,)), types: (tf.int64, tf.int32)>, <TensorSliceDataset shapes: ((8,), (1,)), types: (tf.int64, tf.int32)>, <TensorSliceDataset shapes: ((8,), (1,)), types: (tf.int64, tf.int32)>, <TensorSliceDataset shapes: ((8,), (1,)), types: (tf.int64, tf.int32)>, <TensorSliceDataset shapes: ((8,), (1,)), types: (tf.int64, tf.int32)>, <TensorSliceDataset shapes: ((8,), (1,)), types: (tf.int64, tf.int32)>, <TensorSliceDataset shapes: ((8,), (1,)), types: (tf.int64, tf.int32)>, <TensorSliceDataset shapes: ((8,), (1,)), types: (tf.int64, tf.int32)>, <TensorSliceDataset shapes: ((8,), (1,)), types: (tf.int64, tf.int32)>, <TensorSliceDataset shapes: ((8,), (1,)), types: (tf.int64, tf.int32)>, <TensorSliceDataset shapes: ((8,), (1,)), types: (tf.int64, tf.int32)>, <TensorSliceDataset shapes: ((8,), (1,)), types: (tf.int64, tf.int32)>, <TensorSliceDataset shapes: ((8,), (1,)), types: (tf.int64, tf.int32)>, <TensorSliceDataset shapes: ((8,), (1,)), types: (tf.int64, tf.int32)>, <TensorSliceDataset shapes: ((8,), (1,)), types: (tf.int64, tf.int32)>, <TensorSliceDataset shapes: ((8,), (1,)), types: (tf.int64, tf.int32)>, <TensorSliceDataset shapes: ((8,), (1,)), types: (tf.int64, tf.int32)>, <TensorSliceDataset shapes: ((8,), (1,)), types: (tf.int64, tf.int32)>, <TensorSliceDataset shapes: ((8,), (1,)), types: (tf.int64, tf.int32)>, <TensorSliceDataset shapes: ((8,), (1,)), types: (tf.int64, tf.int32)>, <TensorSliceDataset shapes: ((8,), (1,)), types: (tf.int64, tf.int32)>, <TensorSliceDataset shapes: ((8,), (1,)), types: (tf.int64, tf.int32)>, <TensorSliceDataset shapes: ((8,), (1,)), types: (tf.int64, tf.int32)>, <TensorSliceDataset shapes: ((8,), (1,)), types: (tf.int64, tf.int32)>, <TensorSliceDataset shapes: ((8,), (1,)), types: (tf.int64, tf.int32)>, <TensorSliceDataset shapes: ((8,), (1,)), types: (tf.int64, tf.int32)>, <TensorSliceDataset shapes: ((8,), (1,)), types: (tf.int64, tf.int32)>, <TensorSliceDataset shapes: ((8,), (1,)), types: (tf.int64, tf.int32)>, <TensorSliceDataset shapes: ((8,), (1,)), types: (tf.int64, tf.int32)>, <TensorSliceDataset shapes: ((8,), (1,)), types: (tf.int64, tf.int32)>, <TensorSliceDataset shapes: ((8,), (1,)), types: (tf.int64, tf.int32)>, <TensorSliceDataset shapes: ((8,), (1,)), types: (tf.int64, tf.int32)>, <TensorSliceDataset shapes: ((8,), (1,)), types: (tf.int64, tf.int32)>, <TensorSliceDataset shapes: ((8,), (1,)), types: (tf.int64, tf.int32)>, <TensorSliceDataset shapes: ((8,), (1,)), types: (tf.int64, tf.int32)>, <TensorSliceDataset shapes: ((8,), (1,)), types: (tf.int64, tf.int32)>, <TensorSliceDataset shapes: ((8,), (1,)), types: (tf.int64, tf.int32)>, <TensorSliceDataset shapes: ((8,), (1,)), types: (tf.int64, tf.int32)>, <TensorSliceDataset shapes: ((8,), (1,)), types: (tf.int64, tf.int32)>, <TensorSliceDataset shapes: ((8,), (1,)), types: (tf.int64, tf.int32)>, <TensorSliceDataset shapes: ((8,), (1,)), types: (tf.int64, tf.int32)>, <TensorSliceDataset shapes: ((8,), (1,)), types: (tf.int64, tf.int32)>, <TensorSliceDataset shapes: ((8,), (1,)), types: (tf.int64, tf.int32)>, <TensorSliceDataset shapes: ((8,), (1,)), types: (tf.int64, tf.int32)>, <TensorSliceDataset shapes: ((8,), (1,)), types: (tf.int64, tf.int32)>, <TensorSliceDataset shapes: ((8,), (1,)), types: (tf.int64, tf.int32)>, <TensorSliceDataset shapes: ((8,), (1,)), types: (tf.int64, tf.int32)>, <TensorSliceDataset shapes: ((8,), (1,)), types: (tf.int64, tf.int32)>, <TensorSliceDataset shapes: ((8,), (1,)), types: (tf.int64, tf.int32)>, <TensorSliceDataset shapes: ((8,), (1,)), types: (tf.int64, tf.int32)>, <TensorSliceDataset shapes: ((8,), (1,)), types: (tf.int64, tf.int32)>, <TensorSliceDataset shapes: ((8,), (1,)), types: (tf.int64, tf.int32)>, <TensorSliceDataset shapes: ((8,), (1,)), types: (tf.int64, tf.int32)>, <TensorSliceDataset shapes: ((8,), (1,)), types: (tf.int64, tf.int32)>, <TensorSliceDataset shapes: ((8,), (1,)), types: (tf.int64, tf.int32)>, <TensorSliceDataset shapes: ((8,), (1,)), types: (tf.int64, tf.int32)>, <TensorSliceDataset shapes: ((8,), (1,)), types: (tf.int64, tf.int32)>, <TensorSliceDataset shapes: ((8,), (1,)), types: (tf.int64, tf.int32)>, <TensorSliceDataset shapes: ((8,), (1,)), types: (tf.int64, tf.int32)>, <TensorSliceDataset shapes: ((8,), (1,)), types: (tf.int64, tf.int32)>, <TensorSliceDataset shapes: ((8,), (1,)), types: (tf.int64, tf.int32)>, <TensorSliceDataset shapes: ((8,), (1,)), types: (tf.int64, tf.int32)>, <TensorSliceDataset shapes: ((8,), (1,)), types: (tf.int64, tf.int32)>, <TensorSliceDataset shapes: ((8,), (1,)), types: (tf.int64, tf.int32)>, <TensorSliceDataset shapes: ((8,), (1,)), types: (tf.int64, tf.int32)>, <TensorSliceDataset shapes: ((8,), (1,)), types: (tf.int64, tf.int32)>, <TensorSliceDataset shapes: ((8,), (1,)), types: (tf.int64, tf.int32)>, <TensorSliceDataset shapes: ((8,), (1,)), types: (tf.int64, tf.int32)>, <TensorSliceDataset shapes: ((8,), (1,)), types: (tf.int64, tf.int32)>, <TensorSliceDataset shapes: ((8,), (1,)), types: (tf.int64, tf.int32)>, <TensorSliceDataset shapes: ((8,), (1,)), types: (tf.int64, tf.int32)>, <TensorSliceDataset shapes: ((8,), (1,)), types: (tf.int64, tf.int32)>, <TensorSliceDataset shapes: ((8,), (1,)), types: (tf.int64, tf.int32)>, <TensorSliceDataset shapes: ((8,), (1,)), types: (tf.int64, tf.int32)>, <TensorSliceDataset shapes: ((8,), (1,)), types: (tf.int64, tf.int32)>, <TensorSliceDataset shapes: ((8,), (1,)), types: (tf.int64, tf.int32)>, <TensorSliceDataset shapes: ((8,), (1,)), types: (tf.int64, tf.int32)>, <TensorSliceDataset shapes: ((8,), (1,)), types: (tf.int64, tf.int32)>, <TensorSliceDataset shapes: ((8,), (1,)), types: (tf.int64, tf.int32)>, <TensorSliceDataset shapes: ((8,), (1,)), types: (tf.int64, tf.int32)>, <TensorSliceDataset shapes: ((8,), (1,)), types: (tf.int64, tf.int32)>, <TensorSliceDataset shapes: ((8,), (1,)), types: (tf.int64, tf.int32)>, <TensorSliceDataset shapes: ((8,), (1,)), types: (tf.int64, tf.int32)>, <TensorSliceDataset shapes: ((8,), (1,)), types: (tf.int64, tf.int32)>, <TensorSliceDataset shapes: ((8,), (1,)), types: (tf.int64, tf.int32)>, <TensorSliceDataset shapes: ((8,), (1,)), types: (tf.int64, tf.int32)>, <TensorSliceDataset shapes: ((8,), (1,)), types: (tf.int64, tf.int32)>, <TensorSliceDataset shapes: ((8,), (1,)), types: (tf.int64, tf.int32)>, <TensorSliceDataset shapes: ((8,), (1,)), types: (tf.int64, tf.int32)>, <TensorSliceDataset shapes: ((8,), (1,)), types: (tf.int64, tf.int32)>, <TensorSliceDataset shapes: ((8,), (1,)), types: (tf.int64, tf.int32)>, <TensorSliceDataset shapes: ((8,), (1,)), types: (tf.int64, tf.int32)>, <TensorSliceDataset shapes: ((8,), (1,)), types: (tf.int64, tf.int32)>, <TensorSliceDataset shapes: ((8,), (1,)), types: (tf.int64, tf.int32)>, <TensorSliceDataset shapes: ((8,), (1,)), types: (tf.int64, tf.int32)>, <TensorSliceDataset shapes: ((8,), (1,)), types: (tf.int64, tf.int32)>, <TensorSliceDataset shapes: ((8,), (1,)), types: (tf.int64, tf.int32)>, <TensorSliceDataset shapes: ((8,), (1,)), types: (tf.int64, tf.int32)>, <TensorSliceDataset shapes: ((8,), (1,)), types: (tf.int64, tf.int32)>, <TensorSliceDataset shapes: ((8,), (1,)), types: (tf.int64, tf.int32)>, <TensorSliceDataset shapes: ((8,), (1,)), types: (tf.int64, tf.int32)>, <TensorSliceDataset shapes: ((8,), (1,)), types: (tf.int64, tf.int32)>, <TensorSliceDataset shapes: ((8,), (1,)), types: (tf.int64, tf.int32)>, <TensorSliceDataset shapes: ((8,), (1,)), types: (tf.int64, tf.int32)>, <TensorSliceDataset shapes: ((8,), (1,)), types: (tf.int64, tf.int32)>, <TensorSliceDataset shapes: ((8,), (1,)), types: (tf.int64, tf.int32)>, <TensorSliceDataset shapes: ((8,), (1,)), types: (tf.int64, tf.int32)>, <TensorSliceDataset shapes: ((8,), (1,)), types: (tf.int64, tf.int32)>, <TensorSliceDataset shapes: ((8,), (1,)), types: (tf.int64, tf.int32)>, <TensorSliceDataset shapes: ((8,), (1,)), types: (tf.int64, tf.int32)>, <TensorSliceDataset shapes: ((8,), (1,)), types: (tf.int64, tf.int32)>, <TensorSliceDataset shapes: ((8,), (1,)), types: (tf.int64, tf.int32)>, <TensorSliceDataset shapes: ((8,), (1,)), types: (tf.int64, tf.int32)>, <TensorSliceDataset shapes: ((8,), (1,)), types: (tf.int64, tf.int32)>, <TensorSliceDataset shapes: ((8,), (1,)), types: (tf.int64, tf.int32)>, <TensorSliceDataset shapes: ((8,), (1,)), types: (tf.int64, tf.int32)>, <TensorSliceDataset shapes: ((8,), (1,)), types: (tf.int64, tf.int32)>, <TensorSliceDataset shapes: ((8,), (1,)), types: (tf.int64, tf.int32)>, <TensorSliceDataset shapes: ((8,), (1,)), types: (tf.int64, tf.int32)>, <TensorSliceDataset shapes: ((8,), (1,)), types: (tf.int64, tf.int32)>, <TensorSliceDataset shapes: ((8,), (1,)), types: (tf.int64, tf.int32)>, <TensorSliceDataset shapes: ((8,), (1,)), types: (tf.int64, tf.int32)>, <TensorSliceDataset shapes: ((8,), (1,)), types: (tf.int64, tf.int32)>, <TensorSliceDataset shapes: ((8,), (1,)), types: (tf.int64, tf.int32)>, <TensorSliceDataset shapes: ((8,), (1,)), types: (tf.int64, tf.int32)>, <TensorSliceDataset shapes: ((8,), (1,)), types: (tf.int64, tf.int32)>, <TensorSliceDataset shapes: ((8,), (1,)), types: (tf.int64, tf.int32)>, <TensorSliceDataset shapes: ((8,), (1,)), types: (tf.int64, tf.int32)>, <TensorSliceDataset shapes: ((8,), (1,)), types: (tf.int64, tf.int32)>, <TensorSliceDataset shapes: ((8,), (1,)), types: (tf.int64, tf.int32)>, <TensorSliceDataset shapes: ((8,), (1,)), types: (tf.int64, tf.int32)>, <TensorSliceDataset shapes: ((8,), (1,)), types: (tf.int64, tf.int32)>, <TensorSliceDataset shapes: ((8,), (1,)), types: (tf.int64, tf.int32)>, <TensorSliceDataset shapes: ((8,), (1,)), types: (tf.int64, tf.int32)>, <TensorSliceDataset shapes: ((8,), (1,)), types: (tf.int64, tf.int32)>, <TensorSliceDataset shapes: ((8,), (1,)), types: (tf.int64, tf.int32)>, <TensorSliceDataset shapes: ((8,), (1,)), types: (tf.int64, tf.int32)>, <TensorSliceDataset shapes: ((8,), (1,)), types: (tf.int64, tf.int32)>, <TensorSliceDataset shapes: ((8,), (1,)), types: (tf.int64, tf.int32)>, <TensorSliceDataset shapes: ((8,), (1,)), types: (tf.int64, tf.int32)>, <TensorSliceDataset shapes: ((8,), (1,)), types: (tf.int64, tf.int32)>, <TensorSliceDataset shapes: ((8,), (1,)), types: (tf.int64, tf.int32)>, <TensorSliceDataset shapes: ((8,), (1,)), types: (tf.int64, tf.int32)>, <TensorSliceDataset shapes: ((8,), (1,)), types: (tf.int64, tf.int32)>, <TensorSliceDataset shapes: ((8,), (1,)), types: (tf.int64, tf.int32)>, <TensorSliceDataset shapes: ((8,), (1,)), types: (tf.int64, tf.int32)>, <TensorSliceDataset shapes: ((8,), (1,)), types: (tf.int64, tf.int32)>, <TensorSliceDataset shapes: ((8,), (1,)), types: (tf.int64, tf.int32)>, <TensorSliceDataset shapes: ((8,), (1,)), types: (tf.int64, tf.int32)>, <TensorSliceDataset shapes: ((8,), (1,)), types: (tf.int64, tf.int32)>, <TensorSliceDataset shapes: ((8,), (1,)), types: (tf.int64, tf.int32)>, <TensorSliceDataset shapes: ((8,), (1,)), types: (tf.int64, tf.int32)>, <TensorSliceDataset shapes: ((8,), (1,)), types: (tf.int64, tf.int32)>, <TensorSliceDataset shapes: ((8,), (1,)), types: (tf.int64, tf.int32)>, <TensorSliceDataset shapes: ((8,), (1,)), types: (tf.int64, tf.int32)>, <TensorSliceDataset shapes: ((8,), (1,)), types: (tf.int64, tf.int32)>, <TensorSliceDataset shapes: ((8,), (1,)), types: (tf.int64, tf.int32)>, <TensorSliceDataset shapes: ((8,), (1,)), types: (tf.int64, tf.int32)>, <TensorSliceDataset shapes: ((8,), (1,)), types: (tf.int64, tf.int32)>, <TensorSliceDataset shapes: ((8,), (1,)), types: (tf.int64, tf.int32)>, <TensorSliceDataset shapes: ((8,), (1,)), types: (tf.int64, tf.int32)>, <TensorSliceDataset shapes: ((8,), (1,)), types: (tf.int64, tf.int32)>, <TensorSliceDataset shapes: ((8,), (1,)), types: (tf.int64, tf.int32)>, <TensorSliceDataset shapes: ((8,), (1,)), types: (tf.int64, tf.int32)>, <TensorSliceDataset shapes: ((8,), (1,)), types: (tf.int64, tf.int32)>, <TensorSliceDataset shapes: ((8,), (1,)), types: (tf.int64, tf.int32)>, <TensorSliceDataset shapes: ((8,), (1,)), types: (tf.int64, tf.int32)>, <TensorSliceDataset shapes: ((8,), (1,)), types: (tf.int64, tf.int32)>, <TensorSliceDataset shapes: ((8,), (1,)), types: (tf.int64, tf.int32)>, <TensorSliceDataset shapes: ((8,), (1,)), types: (tf.int64, tf.int32)>, <TensorSliceDataset shapes: ((8,), (1,)), types: (tf.int64, tf.int32)>, <TensorSliceDataset shapes: ((8,), (1,)), types: (tf.int64, tf.int32)>, <TensorSliceDataset shapes: ((8,), (1,)), types: (tf.int64, tf.int32)>, <TensorSliceDataset shapes: ((8,), (1,)), types: (tf.int64, tf.int32)>, <TensorSliceDataset shapes: ((8,), (1,)), types: (tf.int64, tf.int32)>, <TensorSliceDataset shapes: ((8,), (1,)), types: (tf.int64, tf.int32)>, <TensorSliceDataset shapes: ((8,), (1,)), types: (tf.int64, tf.int32)>, <TensorSliceDataset shapes: ((8,), (1,)), types: (tf.int64, tf.int32)>, <TensorSliceDataset shapes: ((8,), (1,)), types: (tf.int64, tf.int32)>, <TensorSliceDataset shapes: ((8,), (1,)), types: (tf.int64, tf.int32)>, <TensorSliceDataset shapes: ((8,), (1,)), types: (tf.int64, tf.int32)>, <TensorSliceDataset shapes: ((8,), (1,)), types: (tf.int64, tf.int32)>, <TensorSliceDataset shapes: ((8,), (1,)), types: (tf.int64, tf.int32)>, <TensorSliceDataset shapes: ((8,), (1,)), types: (tf.int64, tf.int32)>, <TensorSliceDataset shapes: ((8,), (1,)), types: (tf.int64, tf.int32)>, <TensorSliceDataset shapes: ((8,), (1,)), types: (tf.int64, tf.int32)>, <TensorSliceDataset shapes: ((8,), (1,)), types: (tf.int64, tf.int32)>, <TensorSliceDataset shapes: ((8,), (1,)), types: (tf.int64, tf.int32)>, <TensorSliceDataset shapes: ((8,), (1,)), types: (tf.int64, tf.int32)>, <TensorSliceDataset shapes: ((8,), (1,)), types: (tf.int64, tf.int32)>, <TensorSliceDataset shapes: ((8,), (1,)), types: (tf.int64, tf.int32)>, <TensorSliceDataset shapes: ((8,), (1,)), types: (tf.int64, tf.int32)>, <TensorSliceDataset shapes: ((8,), (1,)), types: (tf.int64, tf.int32)>, <TensorSliceDataset shapes: ((8,), (1,)), types: (tf.int64, tf.int32)>, <TensorSliceDataset shapes: ((8,), (1,)), types: (tf.int64, tf.int32)>, <TensorSliceDataset shapes: ((8,), (1,)), types: (tf.int64, tf.int32)>, <TensorSliceDataset shapes: ((8,), (1,)), types: (tf.int64, tf.int32)>, <TensorSliceDataset shapes: ((8,), (1,)), types: (tf.int64, tf.int32)>, <TensorSliceDataset shapes: ((8,), (1,)), types: (tf.int64, tf.int32)>, <TensorSliceDataset shapes: ((8,), (1,)), types: (tf.int64, tf.int32)>, <TensorSliceDataset shapes: ((8,), (1,)), types: (tf.int64, tf.int32)>, <TensorSliceDataset shapes: ((8,), (1,)), types: (tf.int64, tf.int32)>, <TensorSliceDataset shapes: ((8,), (1,)), types: (tf.int64, tf.int32)>, <TensorSliceDataset shapes: ((8,), (1,)), types: (tf.int64, tf.int32)>, <TensorSliceDataset shapes: ((8,), (1,)), types: (tf.int64, tf.int32)>, <TensorSliceDataset shapes: ((8,), (1,)), types: (tf.int64, tf.int32)>, <TensorSliceDataset shapes: ((8,), (1,)), types: (tf.int64, tf.int32)>, <TensorSliceDataset shapes: ((8,), (1,)), types: (tf.int64, tf.int32)>, <TensorSliceDataset shapes: ((8,), (1,)), types: (tf.int64, tf.int32)>, <TensorSliceDataset shapes: ((8,), (1,)), types: (tf.int64, tf.int32)>, <TensorSliceDataset shapes: ((8,), (1,)), types: (tf.int64, tf.int32)>, <TensorSliceDataset shapes: ((8,), (1,)), types: (tf.int64, tf.int32)>, <TensorSliceDataset shapes: ((8,), (1,)), types: (tf.int64, tf.int32)>, <TensorSliceDataset shapes: ((8,), (1,)), types: (tf.int64, tf.int32)>, <TensorSliceDataset shapes: ((8,), (1,)), types: (tf.int64, tf.int32)>, <TensorSliceDataset shapes: ((8,), (1,)), types: (tf.int64, tf.int32)>, <TensorSliceDataset shapes: ((8,), (1,)), types: (tf.int64, tf.int32)>, <TensorSliceDataset shapes: ((8,), (1,)), types: (tf.int64, tf.int32)>, <TensorSliceDataset shapes: ((8,), (1,)), types: (tf.int64, tf.int32)>, <TensorSliceDataset shapes: ((8,), (1,)), types: (tf.int64, tf.int32)>, <TensorSliceDataset shapes: ((8,), (1,)), types: (tf.int64, tf.int32)>, <TensorSliceDataset shapes: ((8,), (1,)), types: (tf.int64, tf.int32)>, <TensorSliceDataset shapes: ((8,), (1,)), types: (tf.int64, tf.int32)>, <TensorSliceDataset shapes: ((8,), (1,)), types: (tf.int64, tf.int32)>, <TensorSliceDataset shapes: ((8,), (1,)), types: (tf.int64, tf.int32)>, <TensorSliceDataset shapes: ((8,), (1,)), types: (tf.int64, tf.int32)>, <TensorSliceDataset shapes: ((8,), (1,)), types: (tf.int64, tf.int32)>, <TensorSliceDataset shapes: ((8,), (1,)), types: (tf.int64, tf.int32)>]\n"
          ],
          "name": "stdout"
        }
      ]
    },
    {
      "cell_type": "markdown",
      "metadata": {
        "id": "-9VIT4SLtEIB"
      },
      "source": [
        "## Creating Federated Environment"
      ]
    },
    {
      "cell_type": "markdown",
      "metadata": {
        "id": "N_TzW_nrQRXz"
      },
      "source": [
        "###Preparing Input"
      ]
    },
    {
      "cell_type": "markdown",
      "metadata": {
        "id": "fu8flc0ta1up"
      },
      "source": [
        "The following converts the preprocessed dataset into a federated dataset. This is a list, with each element in the list being a 'batchDataset', containing data relating to one client. This 'batchDataset' contains two tensors, one containing the features, and one containing the labels."
      ]
    },
    {
      "cell_type": "code",
      "metadata": {
        "id": "ZsdSvUpbQUkW",
        "colab": {
          "base_uri": "https://localhost:8080/"
        },
        "outputId": "2bf239e8-9b2d-4940-ebd7-74118271f6e6"
      },
      "source": [
        "\n",
        "BATCH_SIZE = 10000\n",
        "NUM_EPOCHS = 100\n",
        "SHUFFLE_BUFFER = 100\n",
        "\n",
        "def preprocess(dataset):\n",
        "\n",
        "  def batch_format_fn(element):\n",
        "    return (tf.reshape(element[0], [-1, 8]), \n",
        "            tf.reshape(element[1], [-1, 1]))\n",
        "  for element in dataset:\n",
        "    element = batch_format_fn(element)\n",
        "  dataset = dataset.repeat(NUM_EPOCHS).shuffle(SHUFFLE_BUFFER).batch(BATCH_SIZE)\n",
        "  \n",
        "  return dataset\n",
        "\n",
        "batched_federated_dataset = [] #create empty list\n",
        "for i in federated_dataset:#for every element in federated_dataset\n",
        "  #print(i)\n",
        "  batched_federated_dataset.append(preprocess(i))\n",
        "batched_federated_dataset"
      ],
      "execution_count": null,
      "outputs": [
        {
          "output_type": "execute_result",
          "data": {
            "text/plain": [
              "[<BatchDataset shapes: ((None, 8), (None, 1)), types: (tf.int64, tf.int32)>,\n",
              " <BatchDataset shapes: ((None, 8), (None, 1)), types: (tf.int64, tf.int32)>,\n",
              " <BatchDataset shapes: ((None, 8), (None, 1)), types: (tf.int64, tf.int32)>,\n",
              " <BatchDataset shapes: ((None, 8), (None, 1)), types: (tf.int64, tf.int32)>,\n",
              " <BatchDataset shapes: ((None, 8), (None, 1)), types: (tf.int64, tf.int32)>,\n",
              " <BatchDataset shapes: ((None, 8), (None, 1)), types: (tf.int64, tf.int32)>,\n",
              " <BatchDataset shapes: ((None, 8), (None, 1)), types: (tf.int64, tf.int32)>,\n",
              " <BatchDataset shapes: ((None, 8), (None, 1)), types: (tf.int64, tf.int32)>,\n",
              " <BatchDataset shapes: ((None, 8), (None, 1)), types: (tf.int64, tf.int32)>,\n",
              " <BatchDataset shapes: ((None, 8), (None, 1)), types: (tf.int64, tf.int32)>,\n",
              " <BatchDataset shapes: ((None, 8), (None, 1)), types: (tf.int64, tf.int32)>,\n",
              " <BatchDataset shapes: ((None, 8), (None, 1)), types: (tf.int64, tf.int32)>,\n",
              " <BatchDataset shapes: ((None, 8), (None, 1)), types: (tf.int64, tf.int32)>,\n",
              " <BatchDataset shapes: ((None, 8), (None, 1)), types: (tf.int64, tf.int32)>,\n",
              " <BatchDataset shapes: ((None, 8), (None, 1)), types: (tf.int64, tf.int32)>,\n",
              " <BatchDataset shapes: ((None, 8), (None, 1)), types: (tf.int64, tf.int32)>,\n",
              " <BatchDataset shapes: ((None, 8), (None, 1)), types: (tf.int64, tf.int32)>,\n",
              " <BatchDataset shapes: ((None, 8), (None, 1)), types: (tf.int64, tf.int32)>,\n",
              " <BatchDataset shapes: ((None, 8), (None, 1)), types: (tf.int64, tf.int32)>,\n",
              " <BatchDataset shapes: ((None, 8), (None, 1)), types: (tf.int64, tf.int32)>,\n",
              " <BatchDataset shapes: ((None, 8), (None, 1)), types: (tf.int64, tf.int32)>,\n",
              " <BatchDataset shapes: ((None, 8), (None, 1)), types: (tf.int64, tf.int32)>,\n",
              " <BatchDataset shapes: ((None, 8), (None, 1)), types: (tf.int64, tf.int32)>,\n",
              " <BatchDataset shapes: ((None, 8), (None, 1)), types: (tf.int64, tf.int32)>,\n",
              " <BatchDataset shapes: ((None, 8), (None, 1)), types: (tf.int64, tf.int32)>,\n",
              " <BatchDataset shapes: ((None, 8), (None, 1)), types: (tf.int64, tf.int32)>,\n",
              " <BatchDataset shapes: ((None, 8), (None, 1)), types: (tf.int64, tf.int32)>,\n",
              " <BatchDataset shapes: ((None, 8), (None, 1)), types: (tf.int64, tf.int32)>,\n",
              " <BatchDataset shapes: ((None, 8), (None, 1)), types: (tf.int64, tf.int32)>,\n",
              " <BatchDataset shapes: ((None, 8), (None, 1)), types: (tf.int64, tf.int32)>,\n",
              " <BatchDataset shapes: ((None, 8), (None, 1)), types: (tf.int64, tf.int32)>,\n",
              " <BatchDataset shapes: ((None, 8), (None, 1)), types: (tf.int64, tf.int32)>,\n",
              " <BatchDataset shapes: ((None, 8), (None, 1)), types: (tf.int64, tf.int32)>,\n",
              " <BatchDataset shapes: ((None, 8), (None, 1)), types: (tf.int64, tf.int32)>,\n",
              " <BatchDataset shapes: ((None, 8), (None, 1)), types: (tf.int64, tf.int32)>,\n",
              " <BatchDataset shapes: ((None, 8), (None, 1)), types: (tf.int64, tf.int32)>,\n",
              " <BatchDataset shapes: ((None, 8), (None, 1)), types: (tf.int64, tf.int32)>,\n",
              " <BatchDataset shapes: ((None, 8), (None, 1)), types: (tf.int64, tf.int32)>,\n",
              " <BatchDataset shapes: ((None, 8), (None, 1)), types: (tf.int64, tf.int32)>,\n",
              " <BatchDataset shapes: ((None, 8), (None, 1)), types: (tf.int64, tf.int32)>,\n",
              " <BatchDataset shapes: ((None, 8), (None, 1)), types: (tf.int64, tf.int32)>,\n",
              " <BatchDataset shapes: ((None, 8), (None, 1)), types: (tf.int64, tf.int32)>,\n",
              " <BatchDataset shapes: ((None, 8), (None, 1)), types: (tf.int64, tf.int32)>,\n",
              " <BatchDataset shapes: ((None, 8), (None, 1)), types: (tf.int64, tf.int32)>,\n",
              " <BatchDataset shapes: ((None, 8), (None, 1)), types: (tf.int64, tf.int32)>,\n",
              " <BatchDataset shapes: ((None, 8), (None, 1)), types: (tf.int64, tf.int32)>,\n",
              " <BatchDataset shapes: ((None, 8), (None, 1)), types: (tf.int64, tf.int32)>,\n",
              " <BatchDataset shapes: ((None, 8), (None, 1)), types: (tf.int64, tf.int32)>,\n",
              " <BatchDataset shapes: ((None, 8), (None, 1)), types: (tf.int64, tf.int32)>,\n",
              " <BatchDataset shapes: ((None, 8), (None, 1)), types: (tf.int64, tf.int32)>,\n",
              " <BatchDataset shapes: ((None, 8), (None, 1)), types: (tf.int64, tf.int32)>,\n",
              " <BatchDataset shapes: ((None, 8), (None, 1)), types: (tf.int64, tf.int32)>,\n",
              " <BatchDataset shapes: ((None, 8), (None, 1)), types: (tf.int64, tf.int32)>,\n",
              " <BatchDataset shapes: ((None, 8), (None, 1)), types: (tf.int64, tf.int32)>,\n",
              " <BatchDataset shapes: ((None, 8), (None, 1)), types: (tf.int64, tf.int32)>,\n",
              " <BatchDataset shapes: ((None, 8), (None, 1)), types: (tf.int64, tf.int32)>,\n",
              " <BatchDataset shapes: ((None, 8), (None, 1)), types: (tf.int64, tf.int32)>,\n",
              " <BatchDataset shapes: ((None, 8), (None, 1)), types: (tf.int64, tf.int32)>,\n",
              " <BatchDataset shapes: ((None, 8), (None, 1)), types: (tf.int64, tf.int32)>,\n",
              " <BatchDataset shapes: ((None, 8), (None, 1)), types: (tf.int64, tf.int32)>,\n",
              " <BatchDataset shapes: ((None, 8), (None, 1)), types: (tf.int64, tf.int32)>,\n",
              " <BatchDataset shapes: ((None, 8), (None, 1)), types: (tf.int64, tf.int32)>,\n",
              " <BatchDataset shapes: ((None, 8), (None, 1)), types: (tf.int64, tf.int32)>,\n",
              " <BatchDataset shapes: ((None, 8), (None, 1)), types: (tf.int64, tf.int32)>,\n",
              " <BatchDataset shapes: ((None, 8), (None, 1)), types: (tf.int64, tf.int32)>,\n",
              " <BatchDataset shapes: ((None, 8), (None, 1)), types: (tf.int64, tf.int32)>,\n",
              " <BatchDataset shapes: ((None, 8), (None, 1)), types: (tf.int64, tf.int32)>,\n",
              " <BatchDataset shapes: ((None, 8), (None, 1)), types: (tf.int64, tf.int32)>,\n",
              " <BatchDataset shapes: ((None, 8), (None, 1)), types: (tf.int64, tf.int32)>,\n",
              " <BatchDataset shapes: ((None, 8), (None, 1)), types: (tf.int64, tf.int32)>,\n",
              " <BatchDataset shapes: ((None, 8), (None, 1)), types: (tf.int64, tf.int32)>,\n",
              " <BatchDataset shapes: ((None, 8), (None, 1)), types: (tf.int64, tf.int32)>,\n",
              " <BatchDataset shapes: ((None, 8), (None, 1)), types: (tf.int64, tf.int32)>,\n",
              " <BatchDataset shapes: ((None, 8), (None, 1)), types: (tf.int64, tf.int32)>,\n",
              " <BatchDataset shapes: ((None, 8), (None, 1)), types: (tf.int64, tf.int32)>,\n",
              " <BatchDataset shapes: ((None, 8), (None, 1)), types: (tf.int64, tf.int32)>,\n",
              " <BatchDataset shapes: ((None, 8), (None, 1)), types: (tf.int64, tf.int32)>,\n",
              " <BatchDataset shapes: ((None, 8), (None, 1)), types: (tf.int64, tf.int32)>,\n",
              " <BatchDataset shapes: ((None, 8), (None, 1)), types: (tf.int64, tf.int32)>,\n",
              " <BatchDataset shapes: ((None, 8), (None, 1)), types: (tf.int64, tf.int32)>,\n",
              " <BatchDataset shapes: ((None, 8), (None, 1)), types: (tf.int64, tf.int32)>,\n",
              " <BatchDataset shapes: ((None, 8), (None, 1)), types: (tf.int64, tf.int32)>,\n",
              " <BatchDataset shapes: ((None, 8), (None, 1)), types: (tf.int64, tf.int32)>,\n",
              " <BatchDataset shapes: ((None, 8), (None, 1)), types: (tf.int64, tf.int32)>,\n",
              " <BatchDataset shapes: ((None, 8), (None, 1)), types: (tf.int64, tf.int32)>,\n",
              " <BatchDataset shapes: ((None, 8), (None, 1)), types: (tf.int64, tf.int32)>,\n",
              " <BatchDataset shapes: ((None, 8), (None, 1)), types: (tf.int64, tf.int32)>,\n",
              " <BatchDataset shapes: ((None, 8), (None, 1)), types: (tf.int64, tf.int32)>,\n",
              " <BatchDataset shapes: ((None, 8), (None, 1)), types: (tf.int64, tf.int32)>,\n",
              " <BatchDataset shapes: ((None, 8), (None, 1)), types: (tf.int64, tf.int32)>,\n",
              " <BatchDataset shapes: ((None, 8), (None, 1)), types: (tf.int64, tf.int32)>,\n",
              " <BatchDataset shapes: ((None, 8), (None, 1)), types: (tf.int64, tf.int32)>,\n",
              " <BatchDataset shapes: ((None, 8), (None, 1)), types: (tf.int64, tf.int32)>,\n",
              " <BatchDataset shapes: ((None, 8), (None, 1)), types: (tf.int64, tf.int32)>,\n",
              " <BatchDataset shapes: ((None, 8), (None, 1)), types: (tf.int64, tf.int32)>,\n",
              " <BatchDataset shapes: ((None, 8), (None, 1)), types: (tf.int64, tf.int32)>,\n",
              " <BatchDataset shapes: ((None, 8), (None, 1)), types: (tf.int64, tf.int32)>,\n",
              " <BatchDataset shapes: ((None, 8), (None, 1)), types: (tf.int64, tf.int32)>,\n",
              " <BatchDataset shapes: ((None, 8), (None, 1)), types: (tf.int64, tf.int32)>,\n",
              " <BatchDataset shapes: ((None, 8), (None, 1)), types: (tf.int64, tf.int32)>,\n",
              " <BatchDataset shapes: ((None, 8), (None, 1)), types: (tf.int64, tf.int32)>,\n",
              " <BatchDataset shapes: ((None, 8), (None, 1)), types: (tf.int64, tf.int32)>,\n",
              " <BatchDataset shapes: ((None, 8), (None, 1)), types: (tf.int64, tf.int32)>,\n",
              " <BatchDataset shapes: ((None, 8), (None, 1)), types: (tf.int64, tf.int32)>,\n",
              " <BatchDataset shapes: ((None, 8), (None, 1)), types: (tf.int64, tf.int32)>,\n",
              " <BatchDataset shapes: ((None, 8), (None, 1)), types: (tf.int64, tf.int32)>,\n",
              " <BatchDataset shapes: ((None, 8), (None, 1)), types: (tf.int64, tf.int32)>,\n",
              " <BatchDataset shapes: ((None, 8), (None, 1)), types: (tf.int64, tf.int32)>,\n",
              " <BatchDataset shapes: ((None, 8), (None, 1)), types: (tf.int64, tf.int32)>,\n",
              " <BatchDataset shapes: ((None, 8), (None, 1)), types: (tf.int64, tf.int32)>,\n",
              " <BatchDataset shapes: ((None, 8), (None, 1)), types: (tf.int64, tf.int32)>,\n",
              " <BatchDataset shapes: ((None, 8), (None, 1)), types: (tf.int64, tf.int32)>,\n",
              " <BatchDataset shapes: ((None, 8), (None, 1)), types: (tf.int64, tf.int32)>,\n",
              " <BatchDataset shapes: ((None, 8), (None, 1)), types: (tf.int64, tf.int32)>,\n",
              " <BatchDataset shapes: ((None, 8), (None, 1)), types: (tf.int64, tf.int32)>,\n",
              " <BatchDataset shapes: ((None, 8), (None, 1)), types: (tf.int64, tf.int32)>,\n",
              " <BatchDataset shapes: ((None, 8), (None, 1)), types: (tf.int64, tf.int32)>,\n",
              " <BatchDataset shapes: ((None, 8), (None, 1)), types: (tf.int64, tf.int32)>,\n",
              " <BatchDataset shapes: ((None, 8), (None, 1)), types: (tf.int64, tf.int32)>,\n",
              " <BatchDataset shapes: ((None, 8), (None, 1)), types: (tf.int64, tf.int32)>,\n",
              " <BatchDataset shapes: ((None, 8), (None, 1)), types: (tf.int64, tf.int32)>,\n",
              " <BatchDataset shapes: ((None, 8), (None, 1)), types: (tf.int64, tf.int32)>,\n",
              " <BatchDataset shapes: ((None, 8), (None, 1)), types: (tf.int64, tf.int32)>,\n",
              " <BatchDataset shapes: ((None, 8), (None, 1)), types: (tf.int64, tf.int32)>,\n",
              " <BatchDataset shapes: ((None, 8), (None, 1)), types: (tf.int64, tf.int32)>,\n",
              " <BatchDataset shapes: ((None, 8), (None, 1)), types: (tf.int64, tf.int32)>,\n",
              " <BatchDataset shapes: ((None, 8), (None, 1)), types: (tf.int64, tf.int32)>,\n",
              " <BatchDataset shapes: ((None, 8), (None, 1)), types: (tf.int64, tf.int32)>,\n",
              " <BatchDataset shapes: ((None, 8), (None, 1)), types: (tf.int64, tf.int32)>,\n",
              " <BatchDataset shapes: ((None, 8), (None, 1)), types: (tf.int64, tf.int32)>,\n",
              " <BatchDataset shapes: ((None, 8), (None, 1)), types: (tf.int64, tf.int32)>,\n",
              " <BatchDataset shapes: ((None, 8), (None, 1)), types: (tf.int64, tf.int32)>,\n",
              " <BatchDataset shapes: ((None, 8), (None, 1)), types: (tf.int64, tf.int32)>,\n",
              " <BatchDataset shapes: ((None, 8), (None, 1)), types: (tf.int64, tf.int32)>,\n",
              " <BatchDataset shapes: ((None, 8), (None, 1)), types: (tf.int64, tf.int32)>,\n",
              " <BatchDataset shapes: ((None, 8), (None, 1)), types: (tf.int64, tf.int32)>,\n",
              " <BatchDataset shapes: ((None, 8), (None, 1)), types: (tf.int64, tf.int32)>,\n",
              " <BatchDataset shapes: ((None, 8), (None, 1)), types: (tf.int64, tf.int32)>,\n",
              " <BatchDataset shapes: ((None, 8), (None, 1)), types: (tf.int64, tf.int32)>,\n",
              " <BatchDataset shapes: ((None, 8), (None, 1)), types: (tf.int64, tf.int32)>,\n",
              " <BatchDataset shapes: ((None, 8), (None, 1)), types: (tf.int64, tf.int32)>,\n",
              " <BatchDataset shapes: ((None, 8), (None, 1)), types: (tf.int64, tf.int32)>,\n",
              " <BatchDataset shapes: ((None, 8), (None, 1)), types: (tf.int64, tf.int32)>,\n",
              " <BatchDataset shapes: ((None, 8), (None, 1)), types: (tf.int64, tf.int32)>,\n",
              " <BatchDataset shapes: ((None, 8), (None, 1)), types: (tf.int64, tf.int32)>,\n",
              " <BatchDataset shapes: ((None, 8), (None, 1)), types: (tf.int64, tf.int32)>,\n",
              " <BatchDataset shapes: ((None, 8), (None, 1)), types: (tf.int64, tf.int32)>,\n",
              " <BatchDataset shapes: ((None, 8), (None, 1)), types: (tf.int64, tf.int32)>,\n",
              " <BatchDataset shapes: ((None, 8), (None, 1)), types: (tf.int64, tf.int32)>,\n",
              " <BatchDataset shapes: ((None, 8), (None, 1)), types: (tf.int64, tf.int32)>,\n",
              " <BatchDataset shapes: ((None, 8), (None, 1)), types: (tf.int64, tf.int32)>,\n",
              " <BatchDataset shapes: ((None, 8), (None, 1)), types: (tf.int64, tf.int32)>,\n",
              " <BatchDataset shapes: ((None, 8), (None, 1)), types: (tf.int64, tf.int32)>,\n",
              " <BatchDataset shapes: ((None, 8), (None, 1)), types: (tf.int64, tf.int32)>,\n",
              " <BatchDataset shapes: ((None, 8), (None, 1)), types: (tf.int64, tf.int32)>,\n",
              " <BatchDataset shapes: ((None, 8), (None, 1)), types: (tf.int64, tf.int32)>,\n",
              " <BatchDataset shapes: ((None, 8), (None, 1)), types: (tf.int64, tf.int32)>,\n",
              " <BatchDataset shapes: ((None, 8), (None, 1)), types: (tf.int64, tf.int32)>,\n",
              " <BatchDataset shapes: ((None, 8), (None, 1)), types: (tf.int64, tf.int32)>,\n",
              " <BatchDataset shapes: ((None, 8), (None, 1)), types: (tf.int64, tf.int32)>,\n",
              " <BatchDataset shapes: ((None, 8), (None, 1)), types: (tf.int64, tf.int32)>,\n",
              " <BatchDataset shapes: ((None, 8), (None, 1)), types: (tf.int64, tf.int32)>,\n",
              " <BatchDataset shapes: ((None, 8), (None, 1)), types: (tf.int64, tf.int32)>,\n",
              " <BatchDataset shapes: ((None, 8), (None, 1)), types: (tf.int64, tf.int32)>,\n",
              " <BatchDataset shapes: ((None, 8), (None, 1)), types: (tf.int64, tf.int32)>,\n",
              " <BatchDataset shapes: ((None, 8), (None, 1)), types: (tf.int64, tf.int32)>,\n",
              " <BatchDataset shapes: ((None, 8), (None, 1)), types: (tf.int64, tf.int32)>,\n",
              " <BatchDataset shapes: ((None, 8), (None, 1)), types: (tf.int64, tf.int32)>,\n",
              " <BatchDataset shapes: ((None, 8), (None, 1)), types: (tf.int64, tf.int32)>,\n",
              " <BatchDataset shapes: ((None, 8), (None, 1)), types: (tf.int64, tf.int32)>,\n",
              " <BatchDataset shapes: ((None, 8), (None, 1)), types: (tf.int64, tf.int32)>,\n",
              " <BatchDataset shapes: ((None, 8), (None, 1)), types: (tf.int64, tf.int32)>,\n",
              " <BatchDataset shapes: ((None, 8), (None, 1)), types: (tf.int64, tf.int32)>,\n",
              " <BatchDataset shapes: ((None, 8), (None, 1)), types: (tf.int64, tf.int32)>,\n",
              " <BatchDataset shapes: ((None, 8), (None, 1)), types: (tf.int64, tf.int32)>,\n",
              " <BatchDataset shapes: ((None, 8), (None, 1)), types: (tf.int64, tf.int32)>,\n",
              " <BatchDataset shapes: ((None, 8), (None, 1)), types: (tf.int64, tf.int32)>,\n",
              " <BatchDataset shapes: ((None, 8), (None, 1)), types: (tf.int64, tf.int32)>,\n",
              " <BatchDataset shapes: ((None, 8), (None, 1)), types: (tf.int64, tf.int32)>,\n",
              " <BatchDataset shapes: ((None, 8), (None, 1)), types: (tf.int64, tf.int32)>,\n",
              " <BatchDataset shapes: ((None, 8), (None, 1)), types: (tf.int64, tf.int32)>,\n",
              " <BatchDataset shapes: ((None, 8), (None, 1)), types: (tf.int64, tf.int32)>,\n",
              " <BatchDataset shapes: ((None, 8), (None, 1)), types: (tf.int64, tf.int32)>,\n",
              " <BatchDataset shapes: ((None, 8), (None, 1)), types: (tf.int64, tf.int32)>,\n",
              " <BatchDataset shapes: ((None, 8), (None, 1)), types: (tf.int64, tf.int32)>,\n",
              " <BatchDataset shapes: ((None, 8), (None, 1)), types: (tf.int64, tf.int32)>,\n",
              " <BatchDataset shapes: ((None, 8), (None, 1)), types: (tf.int64, tf.int32)>,\n",
              " <BatchDataset shapes: ((None, 8), (None, 1)), types: (tf.int64, tf.int32)>,\n",
              " <BatchDataset shapes: ((None, 8), (None, 1)), types: (tf.int64, tf.int32)>,\n",
              " <BatchDataset shapes: ((None, 8), (None, 1)), types: (tf.int64, tf.int32)>,\n",
              " <BatchDataset shapes: ((None, 8), (None, 1)), types: (tf.int64, tf.int32)>,\n",
              " <BatchDataset shapes: ((None, 8), (None, 1)), types: (tf.int64, tf.int32)>,\n",
              " <BatchDataset shapes: ((None, 8), (None, 1)), types: (tf.int64, tf.int32)>,\n",
              " <BatchDataset shapes: ((None, 8), (None, 1)), types: (tf.int64, tf.int32)>,\n",
              " <BatchDataset shapes: ((None, 8), (None, 1)), types: (tf.int64, tf.int32)>,\n",
              " <BatchDataset shapes: ((None, 8), (None, 1)), types: (tf.int64, tf.int32)>,\n",
              " <BatchDataset shapes: ((None, 8), (None, 1)), types: (tf.int64, tf.int32)>,\n",
              " <BatchDataset shapes: ((None, 8), (None, 1)), types: (tf.int64, tf.int32)>,\n",
              " <BatchDataset shapes: ((None, 8), (None, 1)), types: (tf.int64, tf.int32)>,\n",
              " <BatchDataset shapes: ((None, 8), (None, 1)), types: (tf.int64, tf.int32)>,\n",
              " <BatchDataset shapes: ((None, 8), (None, 1)), types: (tf.int64, tf.int32)>,\n",
              " <BatchDataset shapes: ((None, 8), (None, 1)), types: (tf.int64, tf.int32)>,\n",
              " <BatchDataset shapes: ((None, 8), (None, 1)), types: (tf.int64, tf.int32)>,\n",
              " <BatchDataset shapes: ((None, 8), (None, 1)), types: (tf.int64, tf.int32)>,\n",
              " <BatchDataset shapes: ((None, 8), (None, 1)), types: (tf.int64, tf.int32)>,\n",
              " <BatchDataset shapes: ((None, 8), (None, 1)), types: (tf.int64, tf.int32)>,\n",
              " <BatchDataset shapes: ((None, 8), (None, 1)), types: (tf.int64, tf.int32)>,\n",
              " <BatchDataset shapes: ((None, 8), (None, 1)), types: (tf.int64, tf.int32)>,\n",
              " <BatchDataset shapes: ((None, 8), (None, 1)), types: (tf.int64, tf.int32)>,\n",
              " <BatchDataset shapes: ((None, 8), (None, 1)), types: (tf.int64, tf.int32)>,\n",
              " <BatchDataset shapes: ((None, 8), (None, 1)), types: (tf.int64, tf.int32)>,\n",
              " <BatchDataset shapes: ((None, 8), (None, 1)), types: (tf.int64, tf.int32)>,\n",
              " <BatchDataset shapes: ((None, 8), (None, 1)), types: (tf.int64, tf.int32)>,\n",
              " <BatchDataset shapes: ((None, 8), (None, 1)), types: (tf.int64, tf.int32)>,\n",
              " <BatchDataset shapes: ((None, 8), (None, 1)), types: (tf.int64, tf.int32)>,\n",
              " <BatchDataset shapes: ((None, 8), (None, 1)), types: (tf.int64, tf.int32)>,\n",
              " <BatchDataset shapes: ((None, 8), (None, 1)), types: (tf.int64, tf.int32)>,\n",
              " <BatchDataset shapes: ((None, 8), (None, 1)), types: (tf.int64, tf.int32)>,\n",
              " <BatchDataset shapes: ((None, 8), (None, 1)), types: (tf.int64, tf.int32)>,\n",
              " <BatchDataset shapes: ((None, 8), (None, 1)), types: (tf.int64, tf.int32)>,\n",
              " <BatchDataset shapes: ((None, 8), (None, 1)), types: (tf.int64, tf.int32)>,\n",
              " <BatchDataset shapes: ((None, 8), (None, 1)), types: (tf.int64, tf.int32)>,\n",
              " <BatchDataset shapes: ((None, 8), (None, 1)), types: (tf.int64, tf.int32)>,\n",
              " <BatchDataset shapes: ((None, 8), (None, 1)), types: (tf.int64, tf.int32)>,\n",
              " <BatchDataset shapes: ((None, 8), (None, 1)), types: (tf.int64, tf.int32)>,\n",
              " <BatchDataset shapes: ((None, 8), (None, 1)), types: (tf.int64, tf.int32)>,\n",
              " <BatchDataset shapes: ((None, 8), (None, 1)), types: (tf.int64, tf.int32)>,\n",
              " <BatchDataset shapes: ((None, 8), (None, 1)), types: (tf.int64, tf.int32)>,\n",
              " <BatchDataset shapes: ((None, 8), (None, 1)), types: (tf.int64, tf.int32)>,\n",
              " <BatchDataset shapes: ((None, 8), (None, 1)), types: (tf.int64, tf.int32)>,\n",
              " <BatchDataset shapes: ((None, 8), (None, 1)), types: (tf.int64, tf.int32)>,\n",
              " <BatchDataset shapes: ((None, 8), (None, 1)), types: (tf.int64, tf.int32)>,\n",
              " <BatchDataset shapes: ((None, 8), (None, 1)), types: (tf.int64, tf.int32)>,\n",
              " <BatchDataset shapes: ((None, 8), (None, 1)), types: (tf.int64, tf.int32)>,\n",
              " <BatchDataset shapes: ((None, 8), (None, 1)), types: (tf.int64, tf.int32)>,\n",
              " <BatchDataset shapes: ((None, 8), (None, 1)), types: (tf.int64, tf.int32)>,\n",
              " <BatchDataset shapes: ((None, 8), (None, 1)), types: (tf.int64, tf.int32)>,\n",
              " <BatchDataset shapes: ((None, 8), (None, 1)), types: (tf.int64, tf.int32)>,\n",
              " <BatchDataset shapes: ((None, 8), (None, 1)), types: (tf.int64, tf.int32)>,\n",
              " <BatchDataset shapes: ((None, 8), (None, 1)), types: (tf.int64, tf.int32)>,\n",
              " <BatchDataset shapes: ((None, 8), (None, 1)), types: (tf.int64, tf.int32)>,\n",
              " <BatchDataset shapes: ((None, 8), (None, 1)), types: (tf.int64, tf.int32)>,\n",
              " <BatchDataset shapes: ((None, 8), (None, 1)), types: (tf.int64, tf.int32)>,\n",
              " <BatchDataset shapes: ((None, 8), (None, 1)), types: (tf.int64, tf.int32)>,\n",
              " <BatchDataset shapes: ((None, 8), (None, 1)), types: (tf.int64, tf.int32)>,\n",
              " <BatchDataset shapes: ((None, 8), (None, 1)), types: (tf.int64, tf.int32)>,\n",
              " <BatchDataset shapes: ((None, 8), (None, 1)), types: (tf.int64, tf.int32)>,\n",
              " <BatchDataset shapes: ((None, 8), (None, 1)), types: (tf.int64, tf.int32)>,\n",
              " <BatchDataset shapes: ((None, 8), (None, 1)), types: (tf.int64, tf.int32)>,\n",
              " <BatchDataset shapes: ((None, 8), (None, 1)), types: (tf.int64, tf.int32)>,\n",
              " <BatchDataset shapes: ((None, 8), (None, 1)), types: (tf.int64, tf.int32)>,\n",
              " <BatchDataset shapes: ((None, 8), (None, 1)), types: (tf.int64, tf.int32)>,\n",
              " <BatchDataset shapes: ((None, 8), (None, 1)), types: (tf.int64, tf.int32)>,\n",
              " <BatchDataset shapes: ((None, 8), (None, 1)), types: (tf.int64, tf.int32)>,\n",
              " <BatchDataset shapes: ((None, 8), (None, 1)), types: (tf.int64, tf.int32)>,\n",
              " <BatchDataset shapes: ((None, 8), (None, 1)), types: (tf.int64, tf.int32)>,\n",
              " <BatchDataset shapes: ((None, 8), (None, 1)), types: (tf.int64, tf.int32)>,\n",
              " <BatchDataset shapes: ((None, 8), (None, 1)), types: (tf.int64, tf.int32)>,\n",
              " <BatchDataset shapes: ((None, 8), (None, 1)), types: (tf.int64, tf.int32)>,\n",
              " <BatchDataset shapes: ((None, 8), (None, 1)), types: (tf.int64, tf.int32)>,\n",
              " <BatchDataset shapes: ((None, 8), (None, 1)), types: (tf.int64, tf.int32)>,\n",
              " <BatchDataset shapes: ((None, 8), (None, 1)), types: (tf.int64, tf.int32)>,\n",
              " <BatchDataset shapes: ((None, 8), (None, 1)), types: (tf.int64, tf.int32)>,\n",
              " <BatchDataset shapes: ((None, 8), (None, 1)), types: (tf.int64, tf.int32)>,\n",
              " <BatchDataset shapes: ((None, 8), (None, 1)), types: (tf.int64, tf.int32)>,\n",
              " <BatchDataset shapes: ((None, 8), (None, 1)), types: (tf.int64, tf.int32)>,\n",
              " <BatchDataset shapes: ((None, 8), (None, 1)), types: (tf.int64, tf.int32)>,\n",
              " <BatchDataset shapes: ((None, 8), (None, 1)), types: (tf.int64, tf.int32)>,\n",
              " <BatchDataset shapes: ((None, 8), (None, 1)), types: (tf.int64, tf.int32)>,\n",
              " <BatchDataset shapes: ((None, 8), (None, 1)), types: (tf.int64, tf.int32)>,\n",
              " <BatchDataset shapes: ((None, 8), (None, 1)), types: (tf.int64, tf.int32)>,\n",
              " <BatchDataset shapes: ((None, 8), (None, 1)), types: (tf.int64, tf.int32)>,\n",
              " <BatchDataset shapes: ((None, 8), (None, 1)), types: (tf.int64, tf.int32)>,\n",
              " <BatchDataset shapes: ((None, 8), (None, 1)), types: (tf.int64, tf.int32)>,\n",
              " <BatchDataset shapes: ((None, 8), (None, 1)), types: (tf.int64, tf.int32)>,\n",
              " <BatchDataset shapes: ((None, 8), (None, 1)), types: (tf.int64, tf.int32)>,\n",
              " <BatchDataset shapes: ((None, 8), (None, 1)), types: (tf.int64, tf.int32)>,\n",
              " <BatchDataset shapes: ((None, 8), (None, 1)), types: (tf.int64, tf.int32)>,\n",
              " <BatchDataset shapes: ((None, 8), (None, 1)), types: (tf.int64, tf.int32)>,\n",
              " <BatchDataset shapes: ((None, 8), (None, 1)), types: (tf.int64, tf.int32)>,\n",
              " <BatchDataset shapes: ((None, 8), (None, 1)), types: (tf.int64, tf.int32)>,\n",
              " <BatchDataset shapes: ((None, 8), (None, 1)), types: (tf.int64, tf.int32)>,\n",
              " <BatchDataset shapes: ((None, 8), (None, 1)), types: (tf.int64, tf.int32)>,\n",
              " <BatchDataset shapes: ((None, 8), (None, 1)), types: (tf.int64, tf.int32)>,\n",
              " <BatchDataset shapes: ((None, 8), (None, 1)), types: (tf.int64, tf.int32)>,\n",
              " <BatchDataset shapes: ((None, 8), (None, 1)), types: (tf.int64, tf.int32)>,\n",
              " <BatchDataset shapes: ((None, 8), (None, 1)), types: (tf.int64, tf.int32)>,\n",
              " <BatchDataset shapes: ((None, 8), (None, 1)), types: (tf.int64, tf.int32)>,\n",
              " <BatchDataset shapes: ((None, 8), (None, 1)), types: (tf.int64, tf.int32)>,\n",
              " <BatchDataset shapes: ((None, 8), (None, 1)), types: (tf.int64, tf.int32)>,\n",
              " <BatchDataset shapes: ((None, 8), (None, 1)), types: (tf.int64, tf.int32)>,\n",
              " <BatchDataset shapes: ((None, 8), (None, 1)), types: (tf.int64, tf.int32)>,\n",
              " <BatchDataset shapes: ((None, 8), (None, 1)), types: (tf.int64, tf.int32)>,\n",
              " <BatchDataset shapes: ((None, 8), (None, 1)), types: (tf.int64, tf.int32)>,\n",
              " <BatchDataset shapes: ((None, 8), (None, 1)), types: (tf.int64, tf.int32)>,\n",
              " <BatchDataset shapes: ((None, 8), (None, 1)), types: (tf.int64, tf.int32)>,\n",
              " <BatchDataset shapes: ((None, 8), (None, 1)), types: (tf.int64, tf.int32)>,\n",
              " <BatchDataset shapes: ((None, 8), (None, 1)), types: (tf.int64, tf.int32)>,\n",
              " <BatchDataset shapes: ((None, 8), (None, 1)), types: (tf.int64, tf.int32)>,\n",
              " <BatchDataset shapes: ((None, 8), (None, 1)), types: (tf.int64, tf.int32)>,\n",
              " <BatchDataset shapes: ((None, 8), (None, 1)), types: (tf.int64, tf.int32)>,\n",
              " <BatchDataset shapes: ((None, 8), (None, 1)), types: (tf.int64, tf.int32)>,\n",
              " <BatchDataset shapes: ((None, 8), (None, 1)), types: (tf.int64, tf.int32)>,\n",
              " <BatchDataset shapes: ((None, 8), (None, 1)), types: (tf.int64, tf.int32)>,\n",
              " <BatchDataset shapes: ((None, 8), (None, 1)), types: (tf.int64, tf.int32)>,\n",
              " <BatchDataset shapes: ((None, 8), (None, 1)), types: (tf.int64, tf.int32)>,\n",
              " <BatchDataset shapes: ((None, 8), (None, 1)), types: (tf.int64, tf.int32)>,\n",
              " <BatchDataset shapes: ((None, 8), (None, 1)), types: (tf.int64, tf.int32)>,\n",
              " <BatchDataset shapes: ((None, 8), (None, 1)), types: (tf.int64, tf.int32)>,\n",
              " <BatchDataset shapes: ((None, 8), (None, 1)), types: (tf.int64, tf.int32)>,\n",
              " <BatchDataset shapes: ((None, 8), (None, 1)), types: (tf.int64, tf.int32)>,\n",
              " <BatchDataset shapes: ((None, 8), (None, 1)), types: (tf.int64, tf.int32)>,\n",
              " <BatchDataset shapes: ((None, 8), (None, 1)), types: (tf.int64, tf.int32)>,\n",
              " <BatchDataset shapes: ((None, 8), (None, 1)), types: (tf.int64, tf.int32)>,\n",
              " <BatchDataset shapes: ((None, 8), (None, 1)), types: (tf.int64, tf.int32)>,\n",
              " <BatchDataset shapes: ((None, 8), (None, 1)), types: (tf.int64, tf.int32)>,\n",
              " <BatchDataset shapes: ((None, 8), (None, 1)), types: (tf.int64, tf.int32)>,\n",
              " <BatchDataset shapes: ((None, 8), (None, 1)), types: (tf.int64, tf.int32)>,\n",
              " <BatchDataset shapes: ((None, 8), (None, 1)), types: (tf.int64, tf.int32)>,\n",
              " <BatchDataset shapes: ((None, 8), (None, 1)), types: (tf.int64, tf.int32)>,\n",
              " <BatchDataset shapes: ((None, 8), (None, 1)), types: (tf.int64, tf.int32)>,\n",
              " <BatchDataset shapes: ((None, 8), (None, 1)), types: (tf.int64, tf.int32)>,\n",
              " <BatchDataset shapes: ((None, 8), (None, 1)), types: (tf.int64, tf.int32)>,\n",
              " <BatchDataset shapes: ((None, 8), (None, 1)), types: (tf.int64, tf.int32)>,\n",
              " <BatchDataset shapes: ((None, 8), (None, 1)), types: (tf.int64, tf.int32)>,\n",
              " <BatchDataset shapes: ((None, 8), (None, 1)), types: (tf.int64, tf.int32)>,\n",
              " <BatchDataset shapes: ((None, 8), (None, 1)), types: (tf.int64, tf.int32)>,\n",
              " <BatchDataset shapes: ((None, 8), (None, 1)), types: (tf.int64, tf.int32)>,\n",
              " <BatchDataset shapes: ((None, 8), (None, 1)), types: (tf.int64, tf.int32)>,\n",
              " <BatchDataset shapes: ((None, 8), (None, 1)), types: (tf.int64, tf.int32)>,\n",
              " <BatchDataset shapes: ((None, 8), (None, 1)), types: (tf.int64, tf.int32)>,\n",
              " <BatchDataset shapes: ((None, 8), (None, 1)), types: (tf.int64, tf.int32)>,\n",
              " <BatchDataset shapes: ((None, 8), (None, 1)), types: (tf.int64, tf.int32)>,\n",
              " <BatchDataset shapes: ((None, 8), (None, 1)), types: (tf.int64, tf.int32)>,\n",
              " <BatchDataset shapes: ((None, 8), (None, 1)), types: (tf.int64, tf.int32)>,\n",
              " <BatchDataset shapes: ((None, 8), (None, 1)), types: (tf.int64, tf.int32)>,\n",
              " <BatchDataset shapes: ((None, 8), (None, 1)), types: (tf.int64, tf.int32)>,\n",
              " <BatchDataset shapes: ((None, 8), (None, 1)), types: (tf.int64, tf.int32)>,\n",
              " <BatchDataset shapes: ((None, 8), (None, 1)), types: (tf.int64, tf.int32)>,\n",
              " <BatchDataset shapes: ((None, 8), (None, 1)), types: (tf.int64, tf.int32)>,\n",
              " <BatchDataset shapes: ((None, 8), (None, 1)), types: (tf.int64, tf.int32)>,\n",
              " <BatchDataset shapes: ((None, 8), (None, 1)), types: (tf.int64, tf.int32)>,\n",
              " <BatchDataset shapes: ((None, 8), (None, 1)), types: (tf.int64, tf.int32)>,\n",
              " <BatchDataset shapes: ((None, 8), (None, 1)), types: (tf.int64, tf.int32)>,\n",
              " <BatchDataset shapes: ((None, 8), (None, 1)), types: (tf.int64, tf.int32)>,\n",
              " <BatchDataset shapes: ((None, 8), (None, 1)), types: (tf.int64, tf.int32)>,\n",
              " <BatchDataset shapes: ((None, 8), (None, 1)), types: (tf.int64, tf.int32)>,\n",
              " <BatchDataset shapes: ((None, 8), (None, 1)), types: (tf.int64, tf.int32)>,\n",
              " <BatchDataset shapes: ((None, 8), (None, 1)), types: (tf.int64, tf.int32)>,\n",
              " <BatchDataset shapes: ((None, 8), (None, 1)), types: (tf.int64, tf.int32)>,\n",
              " <BatchDataset shapes: ((None, 8), (None, 1)), types: (tf.int64, tf.int32)>,\n",
              " <BatchDataset shapes: ((None, 8), (None, 1)), types: (tf.int64, tf.int32)>,\n",
              " <BatchDataset shapes: ((None, 8), (None, 1)), types: (tf.int64, tf.int32)>,\n",
              " <BatchDataset shapes: ((None, 8), (None, 1)), types: (tf.int64, tf.int32)>,\n",
              " <BatchDataset shapes: ((None, 8), (None, 1)), types: (tf.int64, tf.int32)>,\n",
              " <BatchDataset shapes: ((None, 8), (None, 1)), types: (tf.int64, tf.int32)>,\n",
              " <BatchDataset shapes: ((None, 8), (None, 1)), types: (tf.int64, tf.int32)>,\n",
              " <BatchDataset shapes: ((None, 8), (None, 1)), types: (tf.int64, tf.int32)>,\n",
              " <BatchDataset shapes: ((None, 8), (None, 1)), types: (tf.int64, tf.int32)>,\n",
              " <BatchDataset shapes: ((None, 8), (None, 1)), types: (tf.int64, tf.int32)>,\n",
              " <BatchDataset shapes: ((None, 8), (None, 1)), types: (tf.int64, tf.int32)>,\n",
              " <BatchDataset shapes: ((None, 8), (None, 1)), types: (tf.int64, tf.int32)>,\n",
              " <BatchDataset shapes: ((None, 8), (None, 1)), types: (tf.int64, tf.int32)>,\n",
              " <BatchDataset shapes: ((None, 8), (None, 1)), types: (tf.int64, tf.int32)>,\n",
              " <BatchDataset shapes: ((None, 8), (None, 1)), types: (tf.int64, tf.int32)>,\n",
              " <BatchDataset shapes: ((None, 8), (None, 1)), types: (tf.int64, tf.int32)>,\n",
              " <BatchDataset shapes: ((None, 8), (None, 1)), types: (tf.int64, tf.int32)>,\n",
              " <BatchDataset shapes: ((None, 8), (None, 1)), types: (tf.int64, tf.int32)>,\n",
              " <BatchDataset shapes: ((None, 8), (None, 1)), types: (tf.int64, tf.int32)>,\n",
              " <BatchDataset shapes: ((None, 8), (None, 1)), types: (tf.int64, tf.int32)>,\n",
              " <BatchDataset shapes: ((None, 8), (None, 1)), types: (tf.int64, tf.int32)>,\n",
              " <BatchDataset shapes: ((None, 8), (None, 1)), types: (tf.int64, tf.int32)>,\n",
              " <BatchDataset shapes: ((None, 8), (None, 1)), types: (tf.int64, tf.int32)>,\n",
              " <BatchDataset shapes: ((None, 8), (None, 1)), types: (tf.int64, tf.int32)>,\n",
              " <BatchDataset shapes: ((None, 8), (None, 1)), types: (tf.int64, tf.int32)>,\n",
              " <BatchDataset shapes: ((None, 8), (None, 1)), types: (tf.int64, tf.int32)>,\n",
              " <BatchDataset shapes: ((None, 8), (None, 1)), types: (tf.int64, tf.int32)>,\n",
              " <BatchDataset shapes: ((None, 8), (None, 1)), types: (tf.int64, tf.int32)>,\n",
              " <BatchDataset shapes: ((None, 8), (None, 1)), types: (tf.int64, tf.int32)>,\n",
              " <BatchDataset shapes: ((None, 8), (None, 1)), types: (tf.int64, tf.int32)>,\n",
              " <BatchDataset shapes: ((None, 8), (None, 1)), types: (tf.int64, tf.int32)>,\n",
              " <BatchDataset shapes: ((None, 8), (None, 1)), types: (tf.int64, tf.int32)>,\n",
              " <BatchDataset shapes: ((None, 8), (None, 1)), types: (tf.int64, tf.int32)>,\n",
              " <BatchDataset shapes: ((None, 8), (None, 1)), types: (tf.int64, tf.int32)>,\n",
              " <BatchDataset shapes: ((None, 8), (None, 1)), types: (tf.int64, tf.int32)>,\n",
              " <BatchDataset shapes: ((None, 8), (None, 1)), types: (tf.int64, tf.int32)>,\n",
              " <BatchDataset shapes: ((None, 8), (None, 1)), types: (tf.int64, tf.int32)>,\n",
              " <BatchDataset shapes: ((None, 8), (None, 1)), types: (tf.int64, tf.int32)>,\n",
              " <BatchDataset shapes: ((None, 8), (None, 1)), types: (tf.int64, tf.int32)>,\n",
              " <BatchDataset shapes: ((None, 8), (None, 1)), types: (tf.int64, tf.int32)>,\n",
              " <BatchDataset shapes: ((None, 8), (None, 1)), types: (tf.int64, tf.int32)>,\n",
              " <BatchDataset shapes: ((None, 8), (None, 1)), types: (tf.int64, tf.int32)>,\n",
              " <BatchDataset shapes: ((None, 8), (None, 1)), types: (tf.int64, tf.int32)>,\n",
              " <BatchDataset shapes: ((None, 8), (None, 1)), types: (tf.int64, tf.int32)>,\n",
              " <BatchDataset shapes: ((None, 8), (None, 1)), types: (tf.int64, tf.int32)>,\n",
              " <BatchDataset shapes: ((None, 8), (None, 1)), types: (tf.int64, tf.int32)>,\n",
              " <BatchDataset shapes: ((None, 8), (None, 1)), types: (tf.int64, tf.int32)>,\n",
              " <BatchDataset shapes: ((None, 8), (None, 1)), types: (tf.int64, tf.int32)>,\n",
              " <BatchDataset shapes: ((None, 8), (None, 1)), types: (tf.int64, tf.int32)>,\n",
              " <BatchDataset shapes: ((None, 8), (None, 1)), types: (tf.int64, tf.int32)>,\n",
              " <BatchDataset shapes: ((None, 8), (None, 1)), types: (tf.int64, tf.int32)>,\n",
              " <BatchDataset shapes: ((None, 8), (None, 1)), types: (tf.int64, tf.int32)>,\n",
              " <BatchDataset shapes: ((None, 8), (None, 1)), types: (tf.int64, tf.int32)>,\n",
              " <BatchDataset shapes: ((None, 8), (None, 1)), types: (tf.int64, tf.int32)>,\n",
              " <BatchDataset shapes: ((None, 8), (None, 1)), types: (tf.int64, tf.int32)>,\n",
              " <BatchDataset shapes: ((None, 8), (None, 1)), types: (tf.int64, tf.int32)>,\n",
              " <BatchDataset shapes: ((None, 8), (None, 1)), types: (tf.int64, tf.int32)>,\n",
              " <BatchDataset shapes: ((None, 8), (None, 1)), types: (tf.int64, tf.int32)>,\n",
              " <BatchDataset shapes: ((None, 8), (None, 1)), types: (tf.int64, tf.int32)>,\n",
              " <BatchDataset shapes: ((None, 8), (None, 1)), types: (tf.int64, tf.int32)>,\n",
              " <BatchDataset shapes: ((None, 8), (None, 1)), types: (tf.int64, tf.int32)>,\n",
              " <BatchDataset shapes: ((None, 8), (None, 1)), types: (tf.int64, tf.int32)>,\n",
              " <BatchDataset shapes: ((None, 8), (None, 1)), types: (tf.int64, tf.int32)>,\n",
              " <BatchDataset shapes: ((None, 8), (None, 1)), types: (tf.int64, tf.int32)>,\n",
              " <BatchDataset shapes: ((None, 8), (None, 1)), types: (tf.int64, tf.int32)>,\n",
              " <BatchDataset shapes: ((None, 8), (None, 1)), types: (tf.int64, tf.int32)>,\n",
              " <BatchDataset shapes: ((None, 8), (None, 1)), types: (tf.int64, tf.int32)>,\n",
              " <BatchDataset shapes: ((None, 8), (None, 1)), types: (tf.int64, tf.int32)>,\n",
              " <BatchDataset shapes: ((None, 8), (None, 1)), types: (tf.int64, tf.int32)>,\n",
              " <BatchDataset shapes: ((None, 8), (None, 1)), types: (tf.int64, tf.int32)>,\n",
              " <BatchDataset shapes: ((None, 8), (None, 1)), types: (tf.int64, tf.int32)>,\n",
              " <BatchDataset shapes: ((None, 8), (None, 1)), types: (tf.int64, tf.int32)>,\n",
              " <BatchDataset shapes: ((None, 8), (None, 1)), types: (tf.int64, tf.int32)>,\n",
              " <BatchDataset shapes: ((None, 8), (None, 1)), types: (tf.int64, tf.int32)>,\n",
              " <BatchDataset shapes: ((None, 8), (None, 1)), types: (tf.int64, tf.int32)>,\n",
              " <BatchDataset shapes: ((None, 8), (None, 1)), types: (tf.int64, tf.int32)>,\n",
              " <BatchDataset shapes: ((None, 8), (None, 1)), types: (tf.int64, tf.int32)>,\n",
              " <BatchDataset shapes: ((None, 8), (None, 1)), types: (tf.int64, tf.int32)>,\n",
              " <BatchDataset shapes: ((None, 8), (None, 1)), types: (tf.int64, tf.int32)>,\n",
              " <BatchDataset shapes: ((None, 8), (None, 1)), types: (tf.int64, tf.int32)>,\n",
              " <BatchDataset shapes: ((None, 8), (None, 1)), types: (tf.int64, tf.int32)>,\n",
              " <BatchDataset shapes: ((None, 8), (None, 1)), types: (tf.int64, tf.int32)>,\n",
              " <BatchDataset shapes: ((None, 8), (None, 1)), types: (tf.int64, tf.int32)>,\n",
              " <BatchDataset shapes: ((None, 8), (None, 1)), types: (tf.int64, tf.int32)>,\n",
              " <BatchDataset shapes: ((None, 8), (None, 1)), types: (tf.int64, tf.int32)>,\n",
              " <BatchDataset shapes: ((None, 8), (None, 1)), types: (tf.int64, tf.int32)>,\n",
              " <BatchDataset shapes: ((None, 8), (None, 1)), types: (tf.int64, tf.int32)>,\n",
              " <BatchDataset shapes: ((None, 8), (None, 1)), types: (tf.int64, tf.int32)>,\n",
              " <BatchDataset shapes: ((None, 8), (None, 1)), types: (tf.int64, tf.int32)>,\n",
              " <BatchDataset shapes: ((None, 8), (None, 1)), types: (tf.int64, tf.int32)>,\n",
              " <BatchDataset shapes: ((None, 8), (None, 1)), types: (tf.int64, tf.int32)>,\n",
              " <BatchDataset shapes: ((None, 8), (None, 1)), types: (tf.int64, tf.int32)>,\n",
              " <BatchDataset shapes: ((None, 8), (None, 1)), types: (tf.int64, tf.int32)>,\n",
              " <BatchDataset shapes: ((None, 8), (None, 1)), types: (tf.int64, tf.int32)>,\n",
              " <BatchDataset shapes: ((None, 8), (None, 1)), types: (tf.int64, tf.int32)>,\n",
              " <BatchDataset shapes: ((None, 8), (None, 1)), types: (tf.int64, tf.int32)>,\n",
              " <BatchDataset shapes: ((None, 8), (None, 1)), types: (tf.int64, tf.int32)>,\n",
              " <BatchDataset shapes: ((None, 8), (None, 1)), types: (tf.int64, tf.int32)>,\n",
              " <BatchDataset shapes: ((None, 8), (None, 1)), types: (tf.int64, tf.int32)>,\n",
              " <BatchDataset shapes: ((None, 8), (None, 1)), types: (tf.int64, tf.int32)>,\n",
              " <BatchDataset shapes: ((None, 8), (None, 1)), types: (tf.int64, tf.int32)>,\n",
              " <BatchDataset shapes: ((None, 8), (None, 1)), types: (tf.int64, tf.int32)>,\n",
              " <BatchDataset shapes: ((None, 8), (None, 1)), types: (tf.int64, tf.int32)>,\n",
              " <BatchDataset shapes: ((None, 8), (None, 1)), types: (tf.int64, tf.int32)>,\n",
              " <BatchDataset shapes: ((None, 8), (None, 1)), types: (tf.int64, tf.int32)>,\n",
              " <BatchDataset shapes: ((None, 8), (None, 1)), types: (tf.int64, tf.int32)>,\n",
              " <BatchDataset shapes: ((None, 8), (None, 1)), types: (tf.int64, tf.int32)>,\n",
              " <BatchDataset shapes: ((None, 8), (None, 1)), types: (tf.int64, tf.int32)>,\n",
              " <BatchDataset shapes: ((None, 8), (None, 1)), types: (tf.int64, tf.int32)>,\n",
              " <BatchDataset shapes: ((None, 8), (None, 1)), types: (tf.int64, tf.int32)>,\n",
              " <BatchDataset shapes: ((None, 8), (None, 1)), types: (tf.int64, tf.int32)>,\n",
              " <BatchDataset shapes: ((None, 8), (None, 1)), types: (tf.int64, tf.int32)>,\n",
              " <BatchDataset shapes: ((None, 8), (None, 1)), types: (tf.int64, tf.int32)>,\n",
              " <BatchDataset shapes: ((None, 8), (None, 1)), types: (tf.int64, tf.int32)>,\n",
              " <BatchDataset shapes: ((None, 8), (None, 1)), types: (tf.int64, tf.int32)>,\n",
              " <BatchDataset shapes: ((None, 8), (None, 1)), types: (tf.int64, tf.int32)>,\n",
              " <BatchDataset shapes: ((None, 8), (None, 1)), types: (tf.int64, tf.int32)>,\n",
              " <BatchDataset shapes: ((None, 8), (None, 1)), types: (tf.int64, tf.int32)>,\n",
              " <BatchDataset shapes: ((None, 8), (None, 1)), types: (tf.int64, tf.int32)>,\n",
              " <BatchDataset shapes: ((None, 8), (None, 1)), types: (tf.int64, tf.int32)>,\n",
              " <BatchDataset shapes: ((None, 8), (None, 1)), types: (tf.int64, tf.int32)>,\n",
              " <BatchDataset shapes: ((None, 8), (None, 1)), types: (tf.int64, tf.int32)>,\n",
              " <BatchDataset shapes: ((None, 8), (None, 1)), types: (tf.int64, tf.int32)>,\n",
              " <BatchDataset shapes: ((None, 8), (None, 1)), types: (tf.int64, tf.int32)>,\n",
              " <BatchDataset shapes: ((None, 8), (None, 1)), types: (tf.int64, tf.int32)>,\n",
              " <BatchDataset shapes: ((None, 8), (None, 1)), types: (tf.int64, tf.int32)>,\n",
              " <BatchDataset shapes: ((None, 8), (None, 1)), types: (tf.int64, tf.int32)>,\n",
              " <BatchDataset shapes: ((None, 8), (None, 1)), types: (tf.int64, tf.int32)>,\n",
              " <BatchDataset shapes: ((None, 8), (None, 1)), types: (tf.int64, tf.int32)>,\n",
              " <BatchDataset shapes: ((None, 8), (None, 1)), types: (tf.int64, tf.int32)>,\n",
              " <BatchDataset shapes: ((None, 8), (None, 1)), types: (tf.int64, tf.int32)>,\n",
              " <BatchDataset shapes: ((None, 8), (None, 1)), types: (tf.int64, tf.int32)>,\n",
              " <BatchDataset shapes: ((None, 8), (None, 1)), types: (tf.int64, tf.int32)>,\n",
              " <BatchDataset shapes: ((None, 8), (None, 1)), types: (tf.int64, tf.int32)>,\n",
              " <BatchDataset shapes: ((None, 8), (None, 1)), types: (tf.int64, tf.int32)>,\n",
              " <BatchDataset shapes: ((None, 8), (None, 1)), types: (tf.int64, tf.int32)>,\n",
              " <BatchDataset shapes: ((None, 8), (None, 1)), types: (tf.int64, tf.int32)>,\n",
              " <BatchDataset shapes: ((None, 8), (None, 1)), types: (tf.int64, tf.int32)>,\n",
              " <BatchDataset shapes: ((None, 8), (None, 1)), types: (tf.int64, tf.int32)>,\n",
              " <BatchDataset shapes: ((None, 8), (None, 1)), types: (tf.int64, tf.int32)>,\n",
              " <BatchDataset shapes: ((None, 8), (None, 1)), types: (tf.int64, tf.int32)>,\n",
              " <BatchDataset shapes: ((None, 8), (None, 1)), types: (tf.int64, tf.int32)>,\n",
              " <BatchDataset shapes: ((None, 8), (None, 1)), types: (tf.int64, tf.int32)>,\n",
              " <BatchDataset shapes: ((None, 8), (None, 1)), types: (tf.int64, tf.int32)>,\n",
              " <BatchDataset shapes: ((None, 8), (None, 1)), types: (tf.int64, tf.int32)>,\n",
              " <BatchDataset shapes: ((None, 8), (None, 1)), types: (tf.int64, tf.int32)>,\n",
              " <BatchDataset shapes: ((None, 8), (None, 1)), types: (tf.int64, tf.int32)>,\n",
              " <BatchDataset shapes: ((None, 8), (None, 1)), types: (tf.int64, tf.int32)>,\n",
              " <BatchDataset shapes: ((None, 8), (None, 1)), types: (tf.int64, tf.int32)>,\n",
              " <BatchDataset shapes: ((None, 8), (None, 1)), types: (tf.int64, tf.int32)>,\n",
              " <BatchDataset shapes: ((None, 8), (None, 1)), types: (tf.int64, tf.int32)>,\n",
              " <BatchDataset shapes: ((None, 8), (None, 1)), types: (tf.int64, tf.int32)>,\n",
              " <BatchDataset shapes: ((None, 8), (None, 1)), types: (tf.int64, tf.int32)>,\n",
              " <BatchDataset shapes: ((None, 8), (None, 1)), types: (tf.int64, tf.int32)>,\n",
              " <BatchDataset shapes: ((None, 8), (None, 1)), types: (tf.int64, tf.int32)>,\n",
              " <BatchDataset shapes: ((None, 8), (None, 1)), types: (tf.int64, tf.int32)>,\n",
              " <BatchDataset shapes: ((None, 8), (None, 1)), types: (tf.int64, tf.int32)>,\n",
              " <BatchDataset shapes: ((None, 8), (None, 1)), types: (tf.int64, tf.int32)>,\n",
              " <BatchDataset shapes: ((None, 8), (None, 1)), types: (tf.int64, tf.int32)>,\n",
              " <BatchDataset shapes: ((None, 8), (None, 1)), types: (tf.int64, tf.int32)>,\n",
              " <BatchDataset shapes: ((None, 8), (None, 1)), types: (tf.int64, tf.int32)>,\n",
              " <BatchDataset shapes: ((None, 8), (None, 1)), types: (tf.int64, tf.int32)>,\n",
              " <BatchDataset shapes: ((None, 8), (None, 1)), types: (tf.int64, tf.int32)>,\n",
              " <BatchDataset shapes: ((None, 8), (None, 1)), types: (tf.int64, tf.int32)>,\n",
              " <BatchDataset shapes: ((None, 8), (None, 1)), types: (tf.int64, tf.int32)>,\n",
              " <BatchDataset shapes: ((None, 8), (None, 1)), types: (tf.int64, tf.int32)>,\n",
              " <BatchDataset shapes: ((None, 8), (None, 1)), types: (tf.int64, tf.int32)>,\n",
              " <BatchDataset shapes: ((None, 8), (None, 1)), types: (tf.int64, tf.int32)>,\n",
              " <BatchDataset shapes: ((None, 8), (None, 1)), types: (tf.int64, tf.int32)>,\n",
              " <BatchDataset shapes: ((None, 8), (None, 1)), types: (tf.int64, tf.int32)>,\n",
              " <BatchDataset shapes: ((None, 8), (None, 1)), types: (tf.int64, tf.int32)>,\n",
              " <BatchDataset shapes: ((None, 8), (None, 1)), types: (tf.int64, tf.int32)>,\n",
              " <BatchDataset shapes: ((None, 8), (None, 1)), types: (tf.int64, tf.int32)>,\n",
              " <BatchDataset shapes: ((None, 8), (None, 1)), types: (tf.int64, tf.int32)>,\n",
              " <BatchDataset shapes: ((None, 8), (None, 1)), types: (tf.int64, tf.int32)>,\n",
              " <BatchDataset shapes: ((None, 8), (None, 1)), types: (tf.int64, tf.int32)>,\n",
              " <BatchDataset shapes: ((None, 8), (None, 1)), types: (tf.int64, tf.int32)>,\n",
              " <BatchDataset shapes: ((None, 8), (None, 1)), types: (tf.int64, tf.int32)>,\n",
              " <BatchDataset shapes: ((None, 8), (None, 1)), types: (tf.int64, tf.int32)>,\n",
              " <BatchDataset shapes: ((None, 8), (None, 1)), types: (tf.int64, tf.int32)>,\n",
              " <BatchDataset shapes: ((None, 8), (None, 1)), types: (tf.int64, tf.int32)>,\n",
              " <BatchDataset shapes: ((None, 8), (None, 1)), types: (tf.int64, tf.int32)>,\n",
              " <BatchDataset shapes: ((None, 8), (None, 1)), types: (tf.int64, tf.int32)>,\n",
              " <BatchDataset shapes: ((None, 8), (None, 1)), types: (tf.int64, tf.int32)>,\n",
              " <BatchDataset shapes: ((None, 8), (None, 1)), types: (tf.int64, tf.int32)>,\n",
              " <BatchDataset shapes: ((None, 8), (None, 1)), types: (tf.int64, tf.int32)>,\n",
              " <BatchDataset shapes: ((None, 8), (None, 1)), types: (tf.int64, tf.int32)>,\n",
              " <BatchDataset shapes: ((None, 8), (None, 1)), types: (tf.int64, tf.int32)>,\n",
              " <BatchDataset shapes: ((None, 8), (None, 1)), types: (tf.int64, tf.int32)>,\n",
              " <BatchDataset shapes: ((None, 8), (None, 1)), types: (tf.int64, tf.int32)>,\n",
              " <BatchDataset shapes: ((None, 8), (None, 1)), types: (tf.int64, tf.int32)>,\n",
              " <BatchDataset shapes: ((None, 8), (None, 1)), types: (tf.int64, tf.int32)>,\n",
              " <BatchDataset shapes: ((None, 8), (None, 1)), types: (tf.int64, tf.int32)>,\n",
              " <BatchDataset shapes: ((None, 8), (None, 1)), types: (tf.int64, tf.int32)>,\n",
              " <BatchDataset shapes: ((None, 8), (None, 1)), types: (tf.int64, tf.int32)>,\n",
              " <BatchDataset shapes: ((None, 8), (None, 1)), types: (tf.int64, tf.int32)>,\n",
              " <BatchDataset shapes: ((None, 8), (None, 1)), types: (tf.int64, tf.int32)>,\n",
              " <BatchDataset shapes: ((None, 8), (None, 1)), types: (tf.int64, tf.int32)>,\n",
              " <BatchDataset shapes: ((None, 8), (None, 1)), types: (tf.int64, tf.int32)>,\n",
              " <BatchDataset shapes: ((None, 8), (None, 1)), types: (tf.int64, tf.int32)>,\n",
              " <BatchDataset shapes: ((None, 8), (None, 1)), types: (tf.int64, tf.int32)>,\n",
              " <BatchDataset shapes: ((None, 8), (None, 1)), types: (tf.int64, tf.int32)>,\n",
              " <BatchDataset shapes: ((None, 8), (None, 1)), types: (tf.int64, tf.int32)>,\n",
              " <BatchDataset shapes: ((None, 8), (None, 1)), types: (tf.int64, tf.int32)>,\n",
              " <BatchDataset shapes: ((None, 8), (None, 1)), types: (tf.int64, tf.int32)>,\n",
              " <BatchDataset shapes: ((None, 8), (None, 1)), types: (tf.int64, tf.int32)>,\n",
              " <BatchDataset shapes: ((None, 8), (None, 1)), types: (tf.int64, tf.int32)>,\n",
              " <BatchDataset shapes: ((None, 8), (None, 1)), types: (tf.int64, tf.int32)>,\n",
              " <BatchDataset shapes: ((None, 8), (None, 1)), types: (tf.int64, tf.int32)>,\n",
              " <BatchDataset shapes: ((None, 8), (None, 1)), types: (tf.int64, tf.int32)>,\n",
              " <BatchDataset shapes: ((None, 8), (None, 1)), types: (tf.int64, tf.int32)>,\n",
              " <BatchDataset shapes: ((None, 8), (None, 1)), types: (tf.int64, tf.int32)>,\n",
              " <BatchDataset shapes: ((None, 8), (None, 1)), types: (tf.int64, tf.int32)>,\n",
              " <BatchDataset shapes: ((None, 8), (None, 1)), types: (tf.int64, tf.int32)>,\n",
              " <BatchDataset shapes: ((None, 8), (None, 1)), types: (tf.int64, tf.int32)>,\n",
              " <BatchDataset shapes: ((None, 8), (None, 1)), types: (tf.int64, tf.int32)>,\n",
              " <BatchDataset shapes: ((None, 8), (None, 1)), types: (tf.int64, tf.int32)>,\n",
              " <BatchDataset shapes: ((None, 8), (None, 1)), types: (tf.int64, tf.int32)>,\n",
              " <BatchDataset shapes: ((None, 8), (None, 1)), types: (tf.int64, tf.int32)>,\n",
              " <BatchDataset shapes: ((None, 8), (None, 1)), types: (tf.int64, tf.int32)>,\n",
              " <BatchDataset shapes: ((None, 8), (None, 1)), types: (tf.int64, tf.int32)>,\n",
              " <BatchDataset shapes: ((None, 8), (None, 1)), types: (tf.int64, tf.int32)>,\n",
              " <BatchDataset shapes: ((None, 8), (None, 1)), types: (tf.int64, tf.int32)>,\n",
              " <BatchDataset shapes: ((None, 8), (None, 1)), types: (tf.int64, tf.int32)>,\n",
              " <BatchDataset shapes: ((None, 8), (None, 1)), types: (tf.int64, tf.int32)>,\n",
              " <BatchDataset shapes: ((None, 8), (None, 1)), types: (tf.int64, tf.int32)>,\n",
              " <BatchDataset shapes: ((None, 8), (None, 1)), types: (tf.int64, tf.int32)>,\n",
              " <BatchDataset shapes: ((None, 8), (None, 1)), types: (tf.int64, tf.int32)>,\n",
              " <BatchDataset shapes: ((None, 8), (None, 1)), types: (tf.int64, tf.int32)>,\n",
              " <BatchDataset shapes: ((None, 8), (None, 1)), types: (tf.int64, tf.int32)>,\n",
              " <BatchDataset shapes: ((None, 8), (None, 1)), types: (tf.int64, tf.int32)>,\n",
              " <BatchDataset shapes: ((None, 8), (None, 1)), types: (tf.int64, tf.int32)>,\n",
              " <BatchDataset shapes: ((None, 8), (None, 1)), types: (tf.int64, tf.int32)>,\n",
              " <BatchDataset shapes: ((None, 8), (None, 1)), types: (tf.int64, tf.int32)>,\n",
              " <BatchDataset shapes: ((None, 8), (None, 1)), types: (tf.int64, tf.int32)>,\n",
              " <BatchDataset shapes: ((None, 8), (None, 1)), types: (tf.int64, tf.int32)>,\n",
              " <BatchDataset shapes: ((None, 8), (None, 1)), types: (tf.int64, tf.int32)>,\n",
              " <BatchDataset shapes: ((None, 8), (None, 1)), types: (tf.int64, tf.int32)>,\n",
              " <BatchDataset shapes: ((None, 8), (None, 1)), types: (tf.int64, tf.int32)>,\n",
              " <BatchDataset shapes: ((None, 8), (None, 1)), types: (tf.int64, tf.int32)>,\n",
              " <BatchDataset shapes: ((None, 8), (None, 1)), types: (tf.int64, tf.int32)>,\n",
              " <BatchDataset shapes: ((None, 8), (None, 1)), types: (tf.int64, tf.int32)>,\n",
              " <BatchDataset shapes: ((None, 8), (None, 1)), types: (tf.int64, tf.int32)>,\n",
              " <BatchDataset shapes: ((None, 8), (None, 1)), types: (tf.int64, tf.int32)>,\n",
              " <BatchDataset shapes: ((None, 8), (None, 1)), types: (tf.int64, tf.int32)>,\n",
              " <BatchDataset shapes: ((None, 8), (None, 1)), types: (tf.int64, tf.int32)>,\n",
              " <BatchDataset shapes: ((None, 8), (None, 1)), types: (tf.int64, tf.int32)>,\n",
              " <BatchDataset shapes: ((None, 8), (None, 1)), types: (tf.int64, tf.int32)>,\n",
              " <BatchDataset shapes: ((None, 8), (None, 1)), types: (tf.int64, tf.int32)>,\n",
              " <BatchDataset shapes: ((None, 8), (None, 1)), types: (tf.int64, tf.int32)>,\n",
              " <BatchDataset shapes: ((None, 8), (None, 1)), types: (tf.int64, tf.int32)>,\n",
              " <BatchDataset shapes: ((None, 8), (None, 1)), types: (tf.int64, tf.int32)>,\n",
              " <BatchDataset shapes: ((None, 8), (None, 1)), types: (tf.int64, tf.int32)>,\n",
              " <BatchDataset shapes: ((None, 8), (None, 1)), types: (tf.int64, tf.int32)>,\n",
              " <BatchDataset shapes: ((None, 8), (None, 1)), types: (tf.int64, tf.int32)>,\n",
              " <BatchDataset shapes: ((None, 8), (None, 1)), types: (tf.int64, tf.int32)>,\n",
              " <BatchDataset shapes: ((None, 8), (None, 1)), types: (tf.int64, tf.int32)>,\n",
              " <BatchDataset shapes: ((None, 8), (None, 1)), types: (tf.int64, tf.int32)>,\n",
              " <BatchDataset shapes: ((None, 8), (None, 1)), types: (tf.int64, tf.int32)>,\n",
              " <BatchDataset shapes: ((None, 8), (None, 1)), types: (tf.int64, tf.int32)>,\n",
              " <BatchDataset shapes: ((None, 8), (None, 1)), types: (tf.int64, tf.int32)>,\n",
              " <BatchDataset shapes: ((None, 8), (None, 1)), types: (tf.int64, tf.int32)>,\n",
              " <BatchDataset shapes: ((None, 8), (None, 1)), types: (tf.int64, tf.int32)>,\n",
              " <BatchDataset shapes: ((None, 8), (None, 1)), types: (tf.int64, tf.int32)>,\n",
              " <BatchDataset shapes: ((None, 8), (None, 1)), types: (tf.int64, tf.int32)>,\n",
              " <BatchDataset shapes: ((None, 8), (None, 1)), types: (tf.int64, tf.int32)>,\n",
              " <BatchDataset shapes: ((None, 8), (None, 1)), types: (tf.int64, tf.int32)>,\n",
              " <BatchDataset shapes: ((None, 8), (None, 1)), types: (tf.int64, tf.int32)>,\n",
              " <BatchDataset shapes: ((None, 8), (None, 1)), types: (tf.int64, tf.int32)>,\n",
              " <BatchDataset shapes: ((None, 8), (None, 1)), types: (tf.int64, tf.int32)>,\n",
              " <BatchDataset shapes: ((None, 8), (None, 1)), types: (tf.int64, tf.int32)>,\n",
              " <BatchDataset shapes: ((None, 8), (None, 1)), types: (tf.int64, tf.int32)>,\n",
              " <BatchDataset shapes: ((None, 8), (None, 1)), types: (tf.int64, tf.int32)>,\n",
              " <BatchDataset shapes: ((None, 8), (None, 1)), types: (tf.int64, tf.int32)>,\n",
              " <BatchDataset shapes: ((None, 8), (None, 1)), types: (tf.int64, tf.int32)>,\n",
              " <BatchDataset shapes: ((None, 8), (None, 1)), types: (tf.int64, tf.int32)>,\n",
              " <BatchDataset shapes: ((None, 8), (None, 1)), types: (tf.int64, tf.int32)>,\n",
              " <BatchDataset shapes: ((None, 8), (None, 1)), types: (tf.int64, tf.int32)>,\n",
              " <BatchDataset shapes: ((None, 8), (None, 1)), types: (tf.int64, tf.int32)>,\n",
              " <BatchDataset shapes: ((None, 8), (None, 1)), types: (tf.int64, tf.int32)>,\n",
              " <BatchDataset shapes: ((None, 8), (None, 1)), types: (tf.int64, tf.int32)>,\n",
              " <BatchDataset shapes: ((None, 8), (None, 1)), types: (tf.int64, tf.int32)>,\n",
              " <BatchDataset shapes: ((None, 8), (None, 1)), types: (tf.int64, tf.int32)>,\n",
              " <BatchDataset shapes: ((None, 8), (None, 1)), types: (tf.int64, tf.int32)>,\n",
              " <BatchDataset shapes: ((None, 8), (None, 1)), types: (tf.int64, tf.int32)>,\n",
              " <BatchDataset shapes: ((None, 8), (None, 1)), types: (tf.int64, tf.int32)>,\n",
              " <BatchDataset shapes: ((None, 8), (None, 1)), types: (tf.int64, tf.int32)>,\n",
              " <BatchDataset shapes: ((None, 8), (None, 1)), types: (tf.int64, tf.int32)>,\n",
              " <BatchDataset shapes: ((None, 8), (None, 1)), types: (tf.int64, tf.int32)>,\n",
              " <BatchDataset shapes: ((None, 8), (None, 1)), types: (tf.int64, tf.int32)>,\n",
              " <BatchDataset shapes: ((None, 8), (None, 1)), types: (tf.int64, tf.int32)>,\n",
              " <BatchDataset shapes: ((None, 8), (None, 1)), types: (tf.int64, tf.int32)>,\n",
              " <BatchDataset shapes: ((None, 8), (None, 1)), types: (tf.int64, tf.int32)>,\n",
              " <BatchDataset shapes: ((None, 8), (None, 1)), types: (tf.int64, tf.int32)>,\n",
              " <BatchDataset shapes: ((None, 8), (None, 1)), types: (tf.int64, tf.int32)>,\n",
              " <BatchDataset shapes: ((None, 8), (None, 1)), types: (tf.int64, tf.int32)>,\n",
              " <BatchDataset shapes: ((None, 8), (None, 1)), types: (tf.int64, tf.int32)>,\n",
              " <BatchDataset shapes: ((None, 8), (None, 1)), types: (tf.int64, tf.int32)>,\n",
              " <BatchDataset shapes: ((None, 8), (None, 1)), types: (tf.int64, tf.int32)>,\n",
              " <BatchDataset shapes: ((None, 8), (None, 1)), types: (tf.int64, tf.int32)>,\n",
              " <BatchDataset shapes: ((None, 8), (None, 1)), types: (tf.int64, tf.int32)>,\n",
              " <BatchDataset shapes: ((None, 8), (None, 1)), types: (tf.int64, tf.int32)>,\n",
              " <BatchDataset shapes: ((None, 8), (None, 1)), types: (tf.int64, tf.int32)>,\n",
              " <BatchDataset shapes: ((None, 8), (None, 1)), types: (tf.int64, tf.int32)>,\n",
              " <BatchDataset shapes: ((None, 8), (None, 1)), types: (tf.int64, tf.int32)>,\n",
              " <BatchDataset shapes: ((None, 8), (None, 1)), types: (tf.int64, tf.int32)>,\n",
              " <BatchDataset shapes: ((None, 8), (None, 1)), types: (tf.int64, tf.int32)>,\n",
              " <BatchDataset shapes: ((None, 8), (None, 1)), types: (tf.int64, tf.int32)>,\n",
              " <BatchDataset shapes: ((None, 8), (None, 1)), types: (tf.int64, tf.int32)>,\n",
              " <BatchDataset shapes: ((None, 8), (None, 1)), types: (tf.int64, tf.int32)>,\n",
              " <BatchDataset shapes: ((None, 8), (None, 1)), types: (tf.int64, tf.int32)>,\n",
              " <BatchDataset shapes: ((None, 8), (None, 1)), types: (tf.int64, tf.int32)>,\n",
              " <BatchDataset shapes: ((None, 8), (None, 1)), types: (tf.int64, tf.int32)>,\n",
              " <BatchDataset shapes: ((None, 8), (None, 1)), types: (tf.int64, tf.int32)>,\n",
              " <BatchDataset shapes: ((None, 8), (None, 1)), types: (tf.int64, tf.int32)>,\n",
              " <BatchDataset shapes: ((None, 8), (None, 1)), types: (tf.int64, tf.int32)>,\n",
              " <BatchDataset shapes: ((None, 8), (None, 1)), types: (tf.int64, tf.int32)>,\n",
              " <BatchDataset shapes: ((None, 8), (None, 1)), types: (tf.int64, tf.int32)>,\n",
              " <BatchDataset shapes: ((None, 8), (None, 1)), types: (tf.int64, tf.int32)>,\n",
              " <BatchDataset shapes: ((None, 8), (None, 1)), types: (tf.int64, tf.int32)>,\n",
              " <BatchDataset shapes: ((None, 8), (None, 1)), types: (tf.int64, tf.int32)>,\n",
              " <BatchDataset shapes: ((None, 8), (None, 1)), types: (tf.int64, tf.int32)>,\n",
              " <BatchDataset shapes: ((None, 8), (None, 1)), types: (tf.int64, tf.int32)>,\n",
              " <BatchDataset shapes: ((None, 8), (None, 1)), types: (tf.int64, tf.int32)>,\n",
              " <BatchDataset shapes: ((None, 8), (None, 1)), types: (tf.int64, tf.int32)>,\n",
              " <BatchDataset shapes: ((None, 8), (None, 1)), types: (tf.int64, tf.int32)>,\n",
              " <BatchDataset shapes: ((None, 8), (None, 1)), types: (tf.int64, tf.int32)>,\n",
              " <BatchDataset shapes: ((None, 8), (None, 1)), types: (tf.int64, tf.int32)>,\n",
              " <BatchDataset shapes: ((None, 8), (None, 1)), types: (tf.int64, tf.int32)>,\n",
              " <BatchDataset shapes: ((None, 8), (None, 1)), types: (tf.int64, tf.int32)>,\n",
              " <BatchDataset shapes: ((None, 8), (None, 1)), types: (tf.int64, tf.int32)>,\n",
              " <BatchDataset shapes: ((None, 8), (None, 1)), types: (tf.int64, tf.int32)>,\n",
              " <BatchDataset shapes: ((None, 8), (None, 1)), types: (tf.int64, tf.int32)>,\n",
              " <BatchDataset shapes: ((None, 8), (None, 1)), types: (tf.int64, tf.int32)>,\n",
              " <BatchDataset shapes: ((None, 8), (None, 1)), types: (tf.int64, tf.int32)>,\n",
              " <BatchDataset shapes: ((None, 8), (None, 1)), types: (tf.int64, tf.int32)>,\n",
              " <BatchDataset shapes: ((None, 8), (None, 1)), types: (tf.int64, tf.int32)>,\n",
              " <BatchDataset shapes: ((None, 8), (None, 1)), types: (tf.int64, tf.int32)>,\n",
              " <BatchDataset shapes: ((None, 8), (None, 1)), types: (tf.int64, tf.int32)>,\n",
              " <BatchDataset shapes: ((None, 8), (None, 1)), types: (tf.int64, tf.int32)>,\n",
              " <BatchDataset shapes: ((None, 8), (None, 1)), types: (tf.int64, tf.int32)>,\n",
              " <BatchDataset shapes: ((None, 8), (None, 1)), types: (tf.int64, tf.int32)>,\n",
              " <BatchDataset shapes: ((None, 8), (None, 1)), types: (tf.int64, tf.int32)>,\n",
              " <BatchDataset shapes: ((None, 8), (None, 1)), types: (tf.int64, tf.int32)>,\n",
              " <BatchDataset shapes: ((None, 8), (None, 1)), types: (tf.int64, tf.int32)>,\n",
              " <BatchDataset shapes: ((None, 8), (None, 1)), types: (tf.int64, tf.int32)>,\n",
              " <BatchDataset shapes: ((None, 8), (None, 1)), types: (tf.int64, tf.int32)>,\n",
              " <BatchDataset shapes: ((None, 8), (None, 1)), types: (tf.int64, tf.int32)>,\n",
              " <BatchDataset shapes: ((None, 8), (None, 1)), types: (tf.int64, tf.int32)>,\n",
              " <BatchDataset shapes: ((None, 8), (None, 1)), types: (tf.int64, tf.int32)>,\n",
              " <BatchDataset shapes: ((None, 8), (None, 1)), types: (tf.int64, tf.int32)>,\n",
              " <BatchDataset shapes: ((None, 8), (None, 1)), types: (tf.int64, tf.int32)>,\n",
              " <BatchDataset shapes: ((None, 8), (None, 1)), types: (tf.int64, tf.int32)>,\n",
              " <BatchDataset shapes: ((None, 8), (None, 1)), types: (tf.int64, tf.int32)>,\n",
              " <BatchDataset shapes: ((None, 8), (None, 1)), types: (tf.int64, tf.int32)>,\n",
              " <BatchDataset shapes: ((None, 8), (None, 1)), types: (tf.int64, tf.int32)>,\n",
              " <BatchDataset shapes: ((None, 8), (None, 1)), types: (tf.int64, tf.int32)>,\n",
              " <BatchDataset shapes: ((None, 8), (None, 1)), types: (tf.int64, tf.int32)>,\n",
              " <BatchDataset shapes: ((None, 8), (None, 1)), types: (tf.int64, tf.int32)>,\n",
              " <BatchDataset shapes: ((None, 8), (None, 1)), types: (tf.int64, tf.int32)>,\n",
              " <BatchDataset shapes: ((None, 8), (None, 1)), types: (tf.int64, tf.int32)>,\n",
              " <BatchDataset shapes: ((None, 8), (None, 1)), types: (tf.int64, tf.int32)>,\n",
              " <BatchDataset shapes: ((None, 8), (None, 1)), types: (tf.int64, tf.int32)>,\n",
              " <BatchDataset shapes: ((None, 8), (None, 1)), types: (tf.int64, tf.int32)>,\n",
              " <BatchDataset shapes: ((None, 8), (None, 1)), types: (tf.int64, tf.int32)>,\n",
              " <BatchDataset shapes: ((None, 8), (None, 1)), types: (tf.int64, tf.int32)>,\n",
              " <BatchDataset shapes: ((None, 8), (None, 1)), types: (tf.int64, tf.int32)>,\n",
              " <BatchDataset shapes: ((None, 8), (None, 1)), types: (tf.int64, tf.int32)>,\n",
              " <BatchDataset shapes: ((None, 8), (None, 1)), types: (tf.int64, tf.int32)>,\n",
              " <BatchDataset shapes: ((None, 8), (None, 1)), types: (tf.int64, tf.int32)>,\n",
              " <BatchDataset shapes: ((None, 8), (None, 1)), types: (tf.int64, tf.int32)>,\n",
              " <BatchDataset shapes: ((None, 8), (None, 1)), types: (tf.int64, tf.int32)>,\n",
              " <BatchDataset shapes: ((None, 8), (None, 1)), types: (tf.int64, tf.int32)>,\n",
              " <BatchDataset shapes: ((None, 8), (None, 1)), types: (tf.int64, tf.int32)>,\n",
              " <BatchDataset shapes: ((None, 8), (None, 1)), types: (tf.int64, tf.int32)>,\n",
              " <BatchDataset shapes: ((None, 8), (None, 1)), types: (tf.int64, tf.int32)>,\n",
              " <BatchDataset shapes: ((None, 8), (None, 1)), types: (tf.int64, tf.int32)>,\n",
              " <BatchDataset shapes: ((None, 8), (None, 1)), types: (tf.int64, tf.int32)>,\n",
              " <BatchDataset shapes: ((None, 8), (None, 1)), types: (tf.int64, tf.int32)>,\n",
              " <BatchDataset shapes: ((None, 8), (None, 1)), types: (tf.int64, tf.int32)>,\n",
              " <BatchDataset shapes: ((None, 8), (None, 1)), types: (tf.int64, tf.int32)>,\n",
              " <BatchDataset shapes: ((None, 8), (None, 1)), types: (tf.int64, tf.int32)>,\n",
              " <BatchDataset shapes: ((None, 8), (None, 1)), types: (tf.int64, tf.int32)>,\n",
              " <BatchDataset shapes: ((None, 8), (None, 1)), types: (tf.int64, tf.int32)>,\n",
              " <BatchDataset shapes: ((None, 8), (None, 1)), types: (tf.int64, tf.int32)>,\n",
              " <BatchDataset shapes: ((None, 8), (None, 1)), types: (tf.int64, tf.int32)>,\n",
              " <BatchDataset shapes: ((None, 8), (None, 1)), types: (tf.int64, tf.int32)>,\n",
              " <BatchDataset shapes: ((None, 8), (None, 1)), types: (tf.int64, tf.int32)>,\n",
              " <BatchDataset shapes: ((None, 8), (None, 1)), types: (tf.int64, tf.int32)>,\n",
              " <BatchDataset shapes: ((None, 8), (None, 1)), types: (tf.int64, tf.int32)>,\n",
              " <BatchDataset shapes: ((None, 8), (None, 1)), types: (tf.int64, tf.int32)>,\n",
              " <BatchDataset shapes: ((None, 8), (None, 1)), types: (tf.int64, tf.int32)>,\n",
              " <BatchDataset shapes: ((None, 8), (None, 1)), types: (tf.int64, tf.int32)>,\n",
              " <BatchDataset shapes: ((None, 8), (None, 1)), types: (tf.int64, tf.int32)>,\n",
              " <BatchDataset shapes: ((None, 8), (None, 1)), types: (tf.int64, tf.int32)>,\n",
              " <BatchDataset shapes: ((None, 8), (None, 1)), types: (tf.int64, tf.int32)>,\n",
              " <BatchDataset shapes: ((None, 8), (None, 1)), types: (tf.int64, tf.int32)>,\n",
              " <BatchDataset shapes: ((None, 8), (None, 1)), types: (tf.int64, tf.int32)>,\n",
              " <BatchDataset shapes: ((None, 8), (None, 1)), types: (tf.int64, tf.int32)>,\n",
              " <BatchDataset shapes: ((None, 8), (None, 1)), types: (tf.int64, tf.int32)>,\n",
              " <BatchDataset shapes: ((None, 8), (None, 1)), types: (tf.int64, tf.int32)>,\n",
              " <BatchDataset shapes: ((None, 8), (None, 1)), types: (tf.int64, tf.int32)>,\n",
              " <BatchDataset shapes: ((None, 8), (None, 1)), types: (tf.int64, tf.int32)>,\n",
              " <BatchDataset shapes: ((None, 8), (None, 1)), types: (tf.int64, tf.int32)>,\n",
              " <BatchDataset shapes: ((None, 8), (None, 1)), types: (tf.int64, tf.int32)>,\n",
              " <BatchDataset shapes: ((None, 8), (None, 1)), types: (tf.int64, tf.int32)>,\n",
              " <BatchDataset shapes: ((None, 8), (None, 1)), types: (tf.int64, tf.int32)>,\n",
              " <BatchDataset shapes: ((None, 8), (None, 1)), types: (tf.int64, tf.int32)>,\n",
              " <BatchDataset shapes: ((None, 8), (None, 1)), types: (tf.int64, tf.int32)>,\n",
              " <BatchDataset shapes: ((None, 8), (None, 1)), types: (tf.int64, tf.int32)>,\n",
              " <BatchDataset shapes: ((None, 8), (None, 1)), types: (tf.int64, tf.int32)>,\n",
              " <BatchDataset shapes: ((None, 8), (None, 1)), types: (tf.int64, tf.int32)>,\n",
              " <BatchDataset shapes: ((None, 8), (None, 1)), types: (tf.int64, tf.int32)>,\n",
              " <BatchDataset shapes: ((None, 8), (None, 1)), types: (tf.int64, tf.int32)>,\n",
              " <BatchDataset shapes: ((None, 8), (None, 1)), types: (tf.int64, tf.int32)>,\n",
              " <BatchDataset shapes: ((None, 8), (None, 1)), types: (tf.int64, tf.int32)>,\n",
              " <BatchDataset shapes: ((None, 8), (None, 1)), types: (tf.int64, tf.int32)>,\n",
              " <BatchDataset shapes: ((None, 8), (None, 1)), types: (tf.int64, tf.int32)>,\n",
              " <BatchDataset shapes: ((None, 8), (None, 1)), types: (tf.int64, tf.int32)>,\n",
              " <BatchDataset shapes: ((None, 8), (None, 1)), types: (tf.int64, tf.int32)>,\n",
              " <BatchDataset shapes: ((None, 8), (None, 1)), types: (tf.int64, tf.int32)>,\n",
              " <BatchDataset shapes: ((None, 8), (None, 1)), types: (tf.int64, tf.int32)>,\n",
              " <BatchDataset shapes: ((None, 8), (None, 1)), types: (tf.int64, tf.int32)>,\n",
              " <BatchDataset shapes: ((None, 8), (None, 1)), types: (tf.int64, tf.int32)>,\n",
              " <BatchDataset shapes: ((None, 8), (None, 1)), types: (tf.int64, tf.int32)>,\n",
              " <BatchDataset shapes: ((None, 8), (None, 1)), types: (tf.int64, tf.int32)>,\n",
              " <BatchDataset shapes: ((None, 8), (None, 1)), types: (tf.int64, tf.int32)>,\n",
              " <BatchDataset shapes: ((None, 8), (None, 1)), types: (tf.int64, tf.int32)>,\n",
              " <BatchDataset shapes: ((None, 8), (None, 1)), types: (tf.int64, tf.int32)>,\n",
              " <BatchDataset shapes: ((None, 8), (None, 1)), types: (tf.int64, tf.int32)>,\n",
              " <BatchDataset shapes: ((None, 8), (None, 1)), types: (tf.int64, tf.int32)>,\n",
              " <BatchDataset shapes: ((None, 8), (None, 1)), types: (tf.int64, tf.int32)>,\n",
              " <BatchDataset shapes: ((None, 8), (None, 1)), types: (tf.int64, tf.int32)>,\n",
              " <BatchDataset shapes: ((None, 8), (None, 1)), types: (tf.int64, tf.int32)>,\n",
              " <BatchDataset shapes: ((None, 8), (None, 1)), types: (tf.int64, tf.int32)>,\n",
              " <BatchDataset shapes: ((None, 8), (None, 1)), types: (tf.int64, tf.int32)>,\n",
              " <BatchDataset shapes: ((None, 8), (None, 1)), types: (tf.int64, tf.int32)>,\n",
              " <BatchDataset shapes: ((None, 8), (None, 1)), types: (tf.int64, tf.int32)>,\n",
              " <BatchDataset shapes: ((None, 8), (None, 1)), types: (tf.int64, tf.int32)>,\n",
              " <BatchDataset shapes: ((None, 8), (None, 1)), types: (tf.int64, tf.int32)>,\n",
              " <BatchDataset shapes: ((None, 8), (None, 1)), types: (tf.int64, tf.int32)>,\n",
              " <BatchDataset shapes: ((None, 8), (None, 1)), types: (tf.int64, tf.int32)>,\n",
              " <BatchDataset shapes: ((None, 8), (None, 1)), types: (tf.int64, tf.int32)>,\n",
              " <BatchDataset shapes: ((None, 8), (None, 1)), types: (tf.int64, tf.int32)>,\n",
              " <BatchDataset shapes: ((None, 8), (None, 1)), types: (tf.int64, tf.int32)>,\n",
              " <BatchDataset shapes: ((None, 8), (None, 1)), types: (tf.int64, tf.int32)>,\n",
              " <BatchDataset shapes: ((None, 8), (None, 1)), types: (tf.int64, tf.int32)>,\n",
              " <BatchDataset shapes: ((None, 8), (None, 1)), types: (tf.int64, tf.int32)>,\n",
              " <BatchDataset shapes: ((None, 8), (None, 1)), types: (tf.int64, tf.int32)>,\n",
              " <BatchDataset shapes: ((None, 8), (None, 1)), types: (tf.int64, tf.int32)>,\n",
              " <BatchDataset shapes: ((None, 8), (None, 1)), types: (tf.int64, tf.int32)>,\n",
              " <BatchDataset shapes: ((None, 8), (None, 1)), types: (tf.int64, tf.int32)>,\n",
              " <BatchDataset shapes: ((None, 8), (None, 1)), types: (tf.int64, tf.int32)>,\n",
              " <BatchDataset shapes: ((None, 8), (None, 1)), types: (tf.int64, tf.int32)>,\n",
              " <BatchDataset shapes: ((None, 8), (None, 1)), types: (tf.int64, tf.int32)>,\n",
              " <BatchDataset shapes: ((None, 8), (None, 1)), types: (tf.int64, tf.int32)>,\n",
              " <BatchDataset shapes: ((None, 8), (None, 1)), types: (tf.int64, tf.int32)>,\n",
              " <BatchDataset shapes: ((None, 8), (None, 1)), types: (tf.int64, tf.int32)>,\n",
              " <BatchDataset shapes: ((None, 8), (None, 1)), types: (tf.int64, tf.int32)>,\n",
              " <BatchDataset shapes: ((None, 8), (None, 1)), types: (tf.int64, tf.int32)>,\n",
              " <BatchDataset shapes: ((None, 8), (None, 1)), types: (tf.int64, tf.int32)>,\n",
              " <BatchDataset shapes: ((None, 8), (None, 1)), types: (tf.int64, tf.int32)>,\n",
              " <BatchDataset shapes: ((None, 8), (None, 1)), types: (tf.int64, tf.int32)>,\n",
              " <BatchDataset shapes: ((None, 8), (None, 1)), types: (tf.int64, tf.int32)>,\n",
              " <BatchDataset shapes: ((None, 8), (None, 1)), types: (tf.int64, tf.int32)>,\n",
              " <BatchDataset shapes: ((None, 8), (None, 1)), types: (tf.int64, tf.int32)>,\n",
              " <BatchDataset shapes: ((None, 8), (None, 1)), types: (tf.int64, tf.int32)>,\n",
              " <BatchDataset shapes: ((None, 8), (None, 1)), types: (tf.int64, tf.int32)>,\n",
              " <BatchDataset shapes: ((None, 8), (None, 1)), types: (tf.int64, tf.int32)>,\n",
              " <BatchDataset shapes: ((None, 8), (None, 1)), types: (tf.int64, tf.int32)>,\n",
              " <BatchDataset shapes: ((None, 8), (None, 1)), types: (tf.int64, tf.int32)>,\n",
              " <BatchDataset shapes: ((None, 8), (None, 1)), types: (tf.int64, tf.int32)>,\n",
              " <BatchDataset shapes: ((None, 8), (None, 1)), types: (tf.int64, tf.int32)>,\n",
              " <BatchDataset shapes: ((None, 8), (None, 1)), types: (tf.int64, tf.int32)>,\n",
              " <BatchDataset shapes: ((None, 8), (None, 1)), types: (tf.int64, tf.int32)>,\n",
              " <BatchDataset shapes: ((None, 8), (None, 1)), types: (tf.int64, tf.int32)>,\n",
              " <BatchDataset shapes: ((None, 8), (None, 1)), types: (tf.int64, tf.int32)>,\n",
              " <BatchDataset shapes: ((None, 8), (None, 1)), types: (tf.int64, tf.int32)>,\n",
              " <BatchDataset shapes: ((None, 8), (None, 1)), types: (tf.int64, tf.int32)>,\n",
              " <BatchDataset shapes: ((None, 8), (None, 1)), types: (tf.int64, tf.int32)>,\n",
              " <BatchDataset shapes: ((None, 8), (None, 1)), types: (tf.int64, tf.int32)>,\n",
              " <BatchDataset shapes: ((None, 8), (None, 1)), types: (tf.int64, tf.int32)>,\n",
              " <BatchDataset shapes: ((None, 8), (None, 1)), types: (tf.int64, tf.int32)>,\n",
              " <BatchDataset shapes: ((None, 8), (None, 1)), types: (tf.int64, tf.int32)>,\n",
              " <BatchDataset shapes: ((None, 8), (None, 1)), types: (tf.int64, tf.int32)>,\n",
              " <BatchDataset shapes: ((None, 8), (None, 1)), types: (tf.int64, tf.int32)>,\n",
              " <BatchDataset shapes: ((None, 8), (None, 1)), types: (tf.int64, tf.int32)>,\n",
              " <BatchDataset shapes: ((None, 8), (None, 1)), types: (tf.int64, tf.int32)>,\n",
              " <BatchDataset shapes: ((None, 8), (None, 1)), types: (tf.int64, tf.int32)>,\n",
              " <BatchDataset shapes: ((None, 8), (None, 1)), types: (tf.int64, tf.int32)>,\n",
              " <BatchDataset shapes: ((None, 8), (None, 1)), types: (tf.int64, tf.int32)>,\n",
              " <BatchDataset shapes: ((None, 8), (None, 1)), types: (tf.int64, tf.int32)>,\n",
              " <BatchDataset shapes: ((None, 8), (None, 1)), types: (tf.int64, tf.int32)>,\n",
              " <BatchDataset shapes: ((None, 8), (None, 1)), types: (tf.int64, tf.int32)>,\n",
              " <BatchDataset shapes: ((None, 8), (None, 1)), types: (tf.int64, tf.int32)>,\n",
              " <BatchDataset shapes: ((None, 8), (None, 1)), types: (tf.int64, tf.int32)>,\n",
              " <BatchDataset shapes: ((None, 8), (None, 1)), types: (tf.int64, tf.int32)>,\n",
              " <BatchDataset shapes: ((None, 8), (None, 1)), types: (tf.int64, tf.int32)>,\n",
              " <BatchDataset shapes: ((None, 8), (None, 1)), types: (tf.int64, tf.int32)>,\n",
              " <BatchDataset shapes: ((None, 8), (None, 1)), types: (tf.int64, tf.int32)>,\n",
              " <BatchDataset shapes: ((None, 8), (None, 1)), types: (tf.int64, tf.int32)>,\n",
              " <BatchDataset shapes: ((None, 8), (None, 1)), types: (tf.int64, tf.int32)>,\n",
              " <BatchDataset shapes: ((None, 8), (None, 1)), types: (tf.int64, tf.int32)>,\n",
              " <BatchDataset shapes: ((None, 8), (None, 1)), types: (tf.int64, tf.int32)>,\n",
              " <BatchDataset shapes: ((None, 8), (None, 1)), types: (tf.int64, tf.int32)>,\n",
              " <BatchDataset shapes: ((None, 8), (None, 1)), types: (tf.int64, tf.int32)>,\n",
              " <BatchDataset shapes: ((None, 8), (None, 1)), types: (tf.int64, tf.int32)>,\n",
              " <BatchDataset shapes: ((None, 8), (None, 1)), types: (tf.int64, tf.int32)>,\n",
              " <BatchDataset shapes: ((None, 8), (None, 1)), types: (tf.int64, tf.int32)>,\n",
              " <BatchDataset shapes: ((None, 8), (None, 1)), types: (tf.int64, tf.int32)>,\n",
              " <BatchDataset shapes: ((None, 8), (None, 1)), types: (tf.int64, tf.int32)>,\n",
              " <BatchDataset shapes: ((None, 8), (None, 1)), types: (tf.int64, tf.int32)>,\n",
              " <BatchDataset shapes: ((None, 8), (None, 1)), types: (tf.int64, tf.int32)>,\n",
              " <BatchDataset shapes: ((None, 8), (None, 1)), types: (tf.int64, tf.int32)>,\n",
              " <BatchDataset shapes: ((None, 8), (None, 1)), types: (tf.int64, tf.int32)>,\n",
              " <BatchDataset shapes: ((None, 8), (None, 1)), types: (tf.int64, tf.int32)>,\n",
              " <BatchDataset shapes: ((None, 8), (None, 1)), types: (tf.int64, tf.int32)>,\n",
              " <BatchDataset shapes: ((None, 8), (None, 1)), types: (tf.int64, tf.int32)>,\n",
              " <BatchDataset shapes: ((None, 8), (None, 1)), types: (tf.int64, tf.int32)>,\n",
              " <BatchDataset shapes: ((None, 8), (None, 1)), types: (tf.int64, tf.int32)>,\n",
              " <BatchDataset shapes: ((None, 8), (None, 1)), types: (tf.int64, tf.int32)>,\n",
              " <BatchDataset shapes: ((None, 8), (None, 1)), types: (tf.int64, tf.int32)>,\n",
              " <BatchDataset shapes: ((None, 8), (None, 1)), types: (tf.int64, tf.int32)>,\n",
              " <BatchDataset shapes: ((None, 8), (None, 1)), types: (tf.int64, tf.int32)>,\n",
              " <BatchDataset shapes: ((None, 8), (None, 1)), types: (tf.int64, tf.int32)>,\n",
              " <BatchDataset shapes: ((None, 8), (None, 1)), types: (tf.int64, tf.int32)>,\n",
              " <BatchDataset shapes: ((None, 8), (None, 1)), types: (tf.int64, tf.int32)>,\n",
              " <BatchDataset shapes: ((None, 8), (None, 1)), types: (tf.int64, tf.int32)>,\n",
              " <BatchDataset shapes: ((None, 8), (None, 1)), types: (tf.int64, tf.int32)>,\n",
              " <BatchDataset shapes: ((None, 8), (None, 1)), types: (tf.int64, tf.int32)>,\n",
              " <BatchDataset shapes: ((None, 8), (None, 1)), types: (tf.int64, tf.int32)>,\n",
              " <BatchDataset shapes: ((None, 8), (None, 1)), types: (tf.int64, tf.int32)>,\n",
              " <BatchDataset shapes: ((None, 8), (None, 1)), types: (tf.int64, tf.int32)>,\n",
              " <BatchDataset shapes: ((None, 8), (None, 1)), types: (tf.int64, tf.int32)>,\n",
              " <BatchDataset shapes: ((None, 8), (None, 1)), types: (tf.int64, tf.int32)>,\n",
              " <BatchDataset shapes: ((None, 8), (None, 1)), types: (tf.int64, tf.int32)>,\n",
              " <BatchDataset shapes: ((None, 8), (None, 1)), types: (tf.int64, tf.int32)>,\n",
              " <BatchDataset shapes: ((None, 8), (None, 1)), types: (tf.int64, tf.int32)>,\n",
              " <BatchDataset shapes: ((None, 8), (None, 1)), types: (tf.int64, tf.int32)>,\n",
              " <BatchDataset shapes: ((None, 8), (None, 1)), types: (tf.int64, tf.int32)>,\n",
              " <BatchDataset shapes: ((None, 8), (None, 1)), types: (tf.int64, tf.int32)>,\n",
              " <BatchDataset shapes: ((None, 8), (None, 1)), types: (tf.int64, tf.int32)>,\n",
              " <BatchDataset shapes: ((None, 8), (None, 1)), types: (tf.int64, tf.int32)>,\n",
              " <BatchDataset shapes: ((None, 8), (None, 1)), types: (tf.int64, tf.int32)>,\n",
              " <BatchDataset shapes: ((None, 8), (None, 1)), types: (tf.int64, tf.int32)>,\n",
              " <BatchDataset shapes: ((None, 8), (None, 1)), types: (tf.int64, tf.int32)>,\n",
              " <BatchDataset shapes: ((None, 8), (None, 1)), types: (tf.int64, tf.int32)>,\n",
              " <BatchDataset shapes: ((None, 8), (None, 1)), types: (tf.int64, tf.int32)>,\n",
              " <BatchDataset shapes: ((None, 8), (None, 1)), types: (tf.int64, tf.int32)>,\n",
              " <BatchDataset shapes: ((None, 8), (None, 1)), types: (tf.int64, tf.int32)>,\n",
              " <BatchDataset shapes: ((None, 8), (None, 1)), types: (tf.int64, tf.int32)>,\n",
              " <BatchDataset shapes: ((None, 8), (None, 1)), types: (tf.int64, tf.int32)>,\n",
              " <BatchDataset shapes: ((None, 8), (None, 1)), types: (tf.int64, tf.int32)>,\n",
              " <BatchDataset shapes: ((None, 8), (None, 1)), types: (tf.int64, tf.int32)>,\n",
              " <BatchDataset shapes: ((None, 8), (None, 1)), types: (tf.int64, tf.int32)>,\n",
              " <BatchDataset shapes: ((None, 8), (None, 1)), types: (tf.int64, tf.int32)>,\n",
              " <BatchDataset shapes: ((None, 8), (None, 1)), types: (tf.int64, tf.int32)>,\n",
              " <BatchDataset shapes: ((None, 8), (None, 1)), types: (tf.int64, tf.int32)>,\n",
              " <BatchDataset shapes: ((None, 8), (None, 1)), types: (tf.int64, tf.int32)>,\n",
              " <BatchDataset shapes: ((None, 8), (None, 1)), types: (tf.int64, tf.int32)>,\n",
              " <BatchDataset shapes: ((None, 8), (None, 1)), types: (tf.int64, tf.int32)>,\n",
              " <BatchDataset shapes: ((None, 8), (None, 1)), types: (tf.int64, tf.int32)>,\n",
              " <BatchDataset shapes: ((None, 8), (None, 1)), types: (tf.int64, tf.int32)>,\n",
              " <BatchDataset shapes: ((None, 8), (None, 1)), types: (tf.int64, tf.int32)>,\n",
              " <BatchDataset shapes: ((None, 8), (None, 1)), types: (tf.int64, tf.int32)>,\n",
              " <BatchDataset shapes: ((None, 8), (None, 1)), types: (tf.int64, tf.int32)>,\n",
              " <BatchDataset shapes: ((None, 8), (None, 1)), types: (tf.int64, tf.int32)>,\n",
              " <BatchDataset shapes: ((None, 8), (None, 1)), types: (tf.int64, tf.int32)>,\n",
              " <BatchDataset shapes: ((None, 8), (None, 1)), types: (tf.int64, tf.int32)>,\n",
              " <BatchDataset shapes: ((None, 8), (None, 1)), types: (tf.int64, tf.int32)>,\n",
              " <BatchDataset shapes: ((None, 8), (None, 1)), types: (tf.int64, tf.int32)>,\n",
              " <BatchDataset shapes: ((None, 8), (None, 1)), types: (tf.int64, tf.int32)>,\n",
              " <BatchDataset shapes: ((None, 8), (None, 1)), types: (tf.int64, tf.int32)>,\n",
              " <BatchDataset shapes: ((None, 8), (None, 1)), types: (tf.int64, tf.int32)>,\n",
              " <BatchDataset shapes: ((None, 8), (None, 1)), types: (tf.int64, tf.int32)>,\n",
              " <BatchDataset shapes: ((None, 8), (None, 1)), types: (tf.int64, tf.int32)>,\n",
              " <BatchDataset shapes: ((None, 8), (None, 1)), types: (tf.int64, tf.int32)>,\n",
              " <BatchDataset shapes: ((None, 8), (None, 1)), types: (tf.int64, tf.int32)>,\n",
              " <BatchDataset shapes: ((None, 8), (None, 1)), types: (tf.int64, tf.int32)>,\n",
              " <BatchDataset shapes: ((None, 8), (None, 1)), types: (tf.int64, tf.int32)>,\n",
              " <BatchDataset shapes: ((None, 8), (None, 1)), types: (tf.int64, tf.int32)>,\n",
              " <BatchDataset shapes: ((None, 8), (None, 1)), types: (tf.int64, tf.int32)>,\n",
              " <BatchDataset shapes: ((None, 8), (None, 1)), types: (tf.int64, tf.int32)>,\n",
              " <BatchDataset shapes: ((None, 8), (None, 1)), types: (tf.int64, tf.int32)>,\n",
              " <BatchDataset shapes: ((None, 8), (None, 1)), types: (tf.int64, tf.int32)>,\n",
              " <BatchDataset shapes: ((None, 8), (None, 1)), types: (tf.int64, tf.int32)>,\n",
              " <BatchDataset shapes: ((None, 8), (None, 1)), types: (tf.int64, tf.int32)>,\n",
              " <BatchDataset shapes: ((None, 8), (None, 1)), types: (tf.int64, tf.int32)>,\n",
              " <BatchDataset shapes: ((None, 8), (None, 1)), types: (tf.int64, tf.int32)>,\n",
              " <BatchDataset shapes: ((None, 8), (None, 1)), types: (tf.int64, tf.int32)>,\n",
              " <BatchDataset shapes: ((None, 8), (None, 1)), types: (tf.int64, tf.int32)>,\n",
              " <BatchDataset shapes: ((None, 8), (None, 1)), types: (tf.int64, tf.int32)>,\n",
              " <BatchDataset shapes: ((None, 8), (None, 1)), types: (tf.int64, tf.int32)>,\n",
              " <BatchDataset shapes: ((None, 8), (None, 1)), types: (tf.int64, tf.int32)>,\n",
              " <BatchDataset shapes: ((None, 8), (None, 1)), types: (tf.int64, tf.int32)>,\n",
              " <BatchDataset shapes: ((None, 8), (None, 1)), types: (tf.int64, tf.int32)>,\n",
              " <BatchDataset shapes: ((None, 8), (None, 1)), types: (tf.int64, tf.int32)>,\n",
              " <BatchDataset shapes: ((None, 8), (None, 1)), types: (tf.int64, tf.int32)>,\n",
              " <BatchDataset shapes: ((None, 8), (None, 1)), types: (tf.int64, tf.int32)>,\n",
              " <BatchDataset shapes: ((None, 8), (None, 1)), types: (tf.int64, tf.int32)>,\n",
              " <BatchDataset shapes: ((None, 8), (None, 1)), types: (tf.int64, tf.int32)>,\n",
              " <BatchDataset shapes: ((None, 8), (None, 1)), types: (tf.int64, tf.int32)>,\n",
              " <BatchDataset shapes: ((None, 8), (None, 1)), types: (tf.int64, tf.int32)>,\n",
              " <BatchDataset shapes: ((None, 8), (None, 1)), types: (tf.int64, tf.int32)>,\n",
              " <BatchDataset shapes: ((None, 8), (None, 1)), types: (tf.int64, tf.int32)>,\n",
              " <BatchDataset shapes: ((None, 8), (None, 1)), types: (tf.int64, tf.int32)>,\n",
              " <BatchDataset shapes: ((None, 8), (None, 1)), types: (tf.int64, tf.int32)>,\n",
              " <BatchDataset shapes: ((None, 8), (None, 1)), types: (tf.int64, tf.int32)>,\n",
              " <BatchDataset shapes: ((None, 8), (None, 1)), types: (tf.int64, tf.int32)>,\n",
              " <BatchDataset shapes: ((None, 8), (None, 1)), types: (tf.int64, tf.int32)>,\n",
              " <BatchDataset shapes: ((None, 8), (None, 1)), types: (tf.int64, tf.int32)>,\n",
              " <BatchDataset shapes: ((None, 8), (None, 1)), types: (tf.int64, tf.int32)>,\n",
              " <BatchDataset shapes: ((None, 8), (None, 1)), types: (tf.int64, tf.int32)>,\n",
              " <BatchDataset shapes: ((None, 8), (None, 1)), types: (tf.int64, tf.int32)>,\n",
              " <BatchDataset shapes: ((None, 8), (None, 1)), types: (tf.int64, tf.int32)>,\n",
              " <BatchDataset shapes: ((None, 8), (None, 1)), types: (tf.int64, tf.int32)>,\n",
              " <BatchDataset shapes: ((None, 8), (None, 1)), types: (tf.int64, tf.int32)>,\n",
              " <BatchDataset shapes: ((None, 8), (None, 1)), types: (tf.int64, tf.int32)>,\n",
              " <BatchDataset shapes: ((None, 8), (None, 1)), types: (tf.int64, tf.int32)>,\n",
              " <BatchDataset shapes: ((None, 8), (None, 1)), types: (tf.int64, tf.int32)>,\n",
              " <BatchDataset shapes: ((None, 8), (None, 1)), types: (tf.int64, tf.int32)>,\n",
              " <BatchDataset shapes: ((None, 8), (None, 1)), types: (tf.int64, tf.int32)>,\n",
              " <BatchDataset shapes: ((None, 8), (None, 1)), types: (tf.int64, tf.int32)>,\n",
              " <BatchDataset shapes: ((None, 8), (None, 1)), types: (tf.int64, tf.int32)>,\n",
              " <BatchDataset shapes: ((None, 8), (None, 1)), types: (tf.int64, tf.int32)>,\n",
              " <BatchDataset shapes: ((None, 8), (None, 1)), types: (tf.int64, tf.int32)>,\n",
              " <BatchDataset shapes: ((None, 8), (None, 1)), types: (tf.int64, tf.int32)>,\n",
              " <BatchDataset shapes: ((None, 8), (None, 1)), types: (tf.int64, tf.int32)>,\n",
              " <BatchDataset shapes: ((None, 8), (None, 1)), types: (tf.int64, tf.int32)>,\n",
              " <BatchDataset shapes: ((None, 8), (None, 1)), types: (tf.int64, tf.int32)>,\n",
              " <BatchDataset shapes: ((None, 8), (None, 1)), types: (tf.int64, tf.int32)>,\n",
              " <BatchDataset shapes: ((None, 8), (None, 1)), types: (tf.int64, tf.int32)>,\n",
              " <BatchDataset shapes: ((None, 8), (None, 1)), types: (tf.int64, tf.int32)>,\n",
              " <BatchDataset shapes: ((None, 8), (None, 1)), types: (tf.int64, tf.int32)>,\n",
              " <BatchDataset shapes: ((None, 8), (None, 1)), types: (tf.int64, tf.int32)>,\n",
              " <BatchDataset shapes: ((None, 8), (None, 1)), types: (tf.int64, tf.int32)>,\n",
              " <BatchDataset shapes: ((None, 8), (None, 1)), types: (tf.int64, tf.int32)>,\n",
              " <BatchDataset shapes: ((None, 8), (None, 1)), types: (tf.int64, tf.int32)>,\n",
              " <BatchDataset shapes: ((None, 8), (None, 1)), types: (tf.int64, tf.int32)>,\n",
              " <BatchDataset shapes: ((None, 8), (None, 1)), types: (tf.int64, tf.int32)>,\n",
              " <BatchDataset shapes: ((None, 8), (None, 1)), types: (tf.int64, tf.int32)>,\n",
              " <BatchDataset shapes: ((None, 8), (None, 1)), types: (tf.int64, tf.int32)>,\n",
              " <BatchDataset shapes: ((None, 8), (None, 1)), types: (tf.int64, tf.int32)>,\n",
              " <BatchDataset shapes: ((None, 8), (None, 1)), types: (tf.int64, tf.int32)>,\n",
              " <BatchDataset shapes: ((None, 8), (None, 1)), types: (tf.int64, tf.int32)>,\n",
              " <BatchDataset shapes: ((None, 8), (None, 1)), types: (tf.int64, tf.int32)>,\n",
              " <BatchDataset shapes: ((None, 8), (None, 1)), types: (tf.int64, tf.int32)>,\n",
              " <BatchDataset shapes: ((None, 8), (None, 1)), types: (tf.int64, tf.int32)>,\n",
              " <BatchDataset shapes: ((None, 8), (None, 1)), types: (tf.int64, tf.int32)>,\n",
              " <BatchDataset shapes: ((None, 8), (None, 1)), types: (tf.int64, tf.int32)>,\n",
              " ...]"
            ]
          },
          "metadata": {
            "tags": []
          },
          "execution_count": 86
        }
      ]
    },
    {
      "cell_type": "code",
      "metadata": {
        "colab": {
          "base_uri": "https://localhost:8080/",
          "height": 244
        },
        "id": "uwXYkXzGWEqr",
        "outputId": "8f879924-78b6-4334-e34b-0b72f405d280"
      },
      "source": [
        "'''\n",
        "#client_ids = np.random.choice(client_ids_total, size=NUM_CLIENTS, replace=False)\n",
        "federated_train_data = [preprocess(train_dataset.create_tf_dataset_for_client(x))\n",
        "  for x in client_ids\n",
        "]\n",
        "print(federated_train_data)\n",
        "'''"
      ],
      "execution_count": null,
      "outputs": [
        {
          "output_type": "error",
          "ename": "NameError",
          "evalue": "ignored",
          "traceback": [
            "\u001b[0;31m---------------------------------------------------------------------------\u001b[0m",
            "\u001b[0;31mNameError\u001b[0m                                 Traceback (most recent call last)",
            "\u001b[0;32m<ipython-input-9-9e5e379860e9>\u001b[0m in \u001b[0;36m<module>\u001b[0;34m()\u001b[0m\n\u001b[1;32m      1\u001b[0m \u001b[0;31m#client_ids = np.random.choice(client_ids_total, size=NUM_CLIENTS, replace=False)\u001b[0m\u001b[0;34m\u001b[0m\u001b[0;34m\u001b[0m\u001b[0;34m\u001b[0m\u001b[0m\n\u001b[1;32m      2\u001b[0m federated_train_data = [preprocess(train_dataset.create_tf_dataset_for_client(x))\n\u001b[0;32m----> 3\u001b[0;31m   \u001b[0;32mfor\u001b[0m \u001b[0mx\u001b[0m \u001b[0;32min\u001b[0m \u001b[0mclient_ids\u001b[0m\u001b[0;34m\u001b[0m\u001b[0;34m\u001b[0m\u001b[0m\n\u001b[0m\u001b[1;32m      4\u001b[0m ]\n\u001b[1;32m      5\u001b[0m \u001b[0mprint\u001b[0m\u001b[0;34m(\u001b[0m\u001b[0mfederated_train_data\u001b[0m\u001b[0;34m)\u001b[0m\u001b[0;34m\u001b[0m\u001b[0;34m\u001b[0m\u001b[0m\n",
            "\u001b[0;31mNameError\u001b[0m: name 'client_ids' is not defined"
          ]
        }
      ]
    },
    {
      "cell_type": "code",
      "metadata": {
        "colab": {
          "base_uri": "https://localhost:8080/",
          "height": 171
        },
        "id": "CrLe22cORLoY",
        "outputId": "a3798a41-5e60-49b2-c65c-3e883b82eb3b"
      },
      "source": [
        "#dataset.create_tf_dataset_for_client(x)"
      ],
      "execution_count": null,
      "outputs": [
        {
          "output_type": "error",
          "ename": "NameError",
          "evalue": "ignored",
          "traceback": [
            "\u001b[0;31m---------------------------------------------------------------------------\u001b[0m",
            "\u001b[0;31mNameError\u001b[0m                                 Traceback (most recent call last)",
            "\u001b[0;32m<ipython-input-10-4535c98742c4>\u001b[0m in \u001b[0;36m<module>\u001b[0;34m()\u001b[0m\n\u001b[0;32m----> 1\u001b[0;31m \u001b[0mdataset\u001b[0m\u001b[0;34m.\u001b[0m\u001b[0mcreate_tf_dataset_for_client\u001b[0m\u001b[0;34m(\u001b[0m\u001b[0mx\u001b[0m\u001b[0;34m)\u001b[0m\u001b[0;34m\u001b[0m\u001b[0;34m\u001b[0m\u001b[0m\n\u001b[0m",
            "\u001b[0;31mNameError\u001b[0m: name 'dataset' is not defined"
          ]
        }
      ]
    },
    {
      "cell_type": "markdown",
      "metadata": {
        "id": "MS9lbS3Js2oq"
      },
      "source": [
        "### Preparing the Model"
      ]
    },
    {
      "cell_type": "markdown",
      "metadata": {
        "id": "v8oTztbUu06h"
      },
      "source": [
        "Create Keras Model,and returns that keras model as a tensorflow learning keras model"
      ]
    },
    {
      "cell_type": "code",
      "metadata": {
        "colab": {
          "base_uri": "https://localhost:8080/"
        },
        "id": "ICaHZvVGlBgc",
        "outputId": "1f8fc519-88cb-4edf-a17e-77a29f2f8449"
      },
      "source": [
        "batched_federated_dataset[0].cardinality"
      ],
      "execution_count": null,
      "outputs": [
        {
          "output_type": "execute_result",
          "data": {
            "text/plain": [
              "<bound method DatasetV2.cardinality of <BatchDataset shapes: ((None, 8), (None, 1)), types: (tf.int64, tf.int32)>>"
            ]
          },
          "metadata": {
            "tags": []
          },
          "execution_count": 87
        }
      ]
    },
    {
      "cell_type": "markdown",
      "metadata": {
        "id": "hGUxSVGtb7rP"
      },
      "source": [
        "This shis shows the batched dataset for one client. Since the batched dataset was only set to 10, there are only 10 rows"
      ]
    },
    {
      "cell_type": "code",
      "metadata": {
        "colab": {
          "base_uri": "https://localhost:8080/"
        },
        "id": "5F6JJb9kmw27",
        "outputId": "c67ede68-bbfb-40d1-f3fb-c7a2a816a55e"
      },
      "source": [
        "for elem in batched_federated_dataset[0].take(1):\n",
        "  print (elem)"
      ],
      "execution_count": null,
      "outputs": [
        {
          "output_type": "stream",
          "text": [
            "(<tf.Tensor: shape=(100, 8), dtype=int64, numpy=\n",
            "array([[1, 0, 0, 0, 1, 0, 0, 0],\n",
            "       [1, 0, 0, 0, 1, 0, 0, 0],\n",
            "       [1, 0, 0, 0, 1, 0, 0, 0],\n",
            "       [1, 0, 0, 0, 1, 0, 0, 0],\n",
            "       [1, 0, 0, 0, 1, 0, 0, 0],\n",
            "       [1, 0, 0, 0, 1, 0, 0, 0],\n",
            "       [1, 0, 0, 0, 1, 0, 0, 0],\n",
            "       [1, 0, 0, 0, 1, 0, 0, 0],\n",
            "       [1, 0, 0, 0, 1, 0, 0, 0],\n",
            "       [1, 0, 0, 0, 1, 0, 0, 0],\n",
            "       [1, 0, 0, 0, 1, 0, 0, 0],\n",
            "       [1, 0, 0, 0, 1, 0, 0, 0],\n",
            "       [1, 0, 0, 0, 1, 0, 0, 0],\n",
            "       [1, 0, 0, 0, 1, 0, 0, 0],\n",
            "       [1, 0, 0, 0, 1, 0, 0, 0],\n",
            "       [1, 0, 0, 0, 1, 0, 0, 0],\n",
            "       [1, 0, 0, 0, 1, 0, 0, 0],\n",
            "       [1, 0, 0, 0, 1, 0, 0, 0],\n",
            "       [1, 0, 0, 0, 1, 0, 0, 0],\n",
            "       [1, 0, 0, 0, 1, 0, 0, 0],\n",
            "       [1, 0, 0, 0, 1, 0, 0, 0],\n",
            "       [1, 0, 0, 0, 1, 0, 0, 0],\n",
            "       [1, 0, 0, 0, 1, 0, 0, 0],\n",
            "       [1, 0, 0, 0, 1, 0, 0, 0],\n",
            "       [1, 0, 0, 0, 1, 0, 0, 0],\n",
            "       [1, 0, 0, 0, 1, 0, 0, 0],\n",
            "       [1, 0, 0, 0, 1, 0, 0, 0],\n",
            "       [1, 0, 0, 0, 1, 0, 0, 0],\n",
            "       [1, 0, 0, 0, 1, 0, 0, 0],\n",
            "       [1, 0, 0, 0, 1, 0, 0, 0],\n",
            "       [1, 0, 0, 0, 1, 0, 0, 0],\n",
            "       [1, 0, 0, 0, 1, 0, 0, 0],\n",
            "       [1, 0, 0, 0, 1, 0, 0, 0],\n",
            "       [1, 0, 0, 0, 1, 0, 0, 0],\n",
            "       [1, 0, 0, 0, 1, 0, 0, 0],\n",
            "       [1, 0, 0, 0, 1, 0, 0, 0],\n",
            "       [1, 0, 0, 0, 1, 0, 0, 0],\n",
            "       [1, 0, 0, 0, 1, 0, 0, 0],\n",
            "       [1, 0, 0, 0, 1, 0, 0, 0],\n",
            "       [1, 0, 0, 0, 1, 0, 0, 0],\n",
            "       [1, 0, 0, 0, 1, 0, 0, 0],\n",
            "       [1, 0, 0, 0, 1, 0, 0, 0],\n",
            "       [1, 0, 0, 0, 1, 0, 0, 0],\n",
            "       [1, 0, 0, 0, 1, 0, 0, 0],\n",
            "       [1, 0, 0, 0, 1, 0, 0, 0],\n",
            "       [1, 0, 0, 0, 1, 0, 0, 0],\n",
            "       [1, 0, 0, 0, 1, 0, 0, 0],\n",
            "       [1, 0, 0, 0, 1, 0, 0, 0],\n",
            "       [1, 0, 0, 0, 1, 0, 0, 0],\n",
            "       [1, 0, 0, 0, 1, 0, 0, 0],\n",
            "       [1, 0, 0, 0, 1, 0, 0, 0],\n",
            "       [1, 0, 0, 0, 1, 0, 0, 0],\n",
            "       [1, 0, 0, 0, 1, 0, 0, 0],\n",
            "       [1, 0, 0, 0, 1, 0, 0, 0],\n",
            "       [1, 0, 0, 0, 1, 0, 0, 0],\n",
            "       [1, 0, 0, 0, 1, 0, 0, 0],\n",
            "       [1, 0, 0, 0, 1, 0, 0, 0],\n",
            "       [1, 0, 0, 0, 1, 0, 0, 0],\n",
            "       [1, 0, 0, 0, 1, 0, 0, 0],\n",
            "       [1, 0, 0, 0, 1, 0, 0, 0],\n",
            "       [1, 0, 0, 0, 1, 0, 0, 0],\n",
            "       [1, 0, 0, 0, 1, 0, 0, 0],\n",
            "       [1, 0, 0, 0, 1, 0, 0, 0],\n",
            "       [1, 0, 0, 0, 1, 0, 0, 0],\n",
            "       [1, 0, 0, 0, 1, 0, 0, 0],\n",
            "       [1, 0, 0, 0, 1, 0, 0, 0],\n",
            "       [1, 0, 0, 0, 1, 0, 0, 0],\n",
            "       [1, 0, 0, 0, 1, 0, 0, 0],\n",
            "       [1, 0, 0, 0, 1, 0, 0, 0],\n",
            "       [1, 0, 0, 0, 1, 0, 0, 0],\n",
            "       [1, 0, 0, 0, 1, 0, 0, 0],\n",
            "       [1, 0, 0, 0, 1, 0, 0, 0],\n",
            "       [1, 0, 0, 0, 1, 0, 0, 0],\n",
            "       [1, 0, 0, 0, 1, 0, 0, 0],\n",
            "       [1, 0, 0, 0, 1, 0, 0, 0],\n",
            "       [1, 0, 0, 0, 1, 0, 0, 0],\n",
            "       [1, 0, 0, 0, 1, 0, 0, 0],\n",
            "       [1, 0, 0, 0, 1, 0, 0, 0],\n",
            "       [1, 0, 0, 0, 1, 0, 0, 0],\n",
            "       [1, 0, 0, 0, 1, 0, 0, 0],\n",
            "       [1, 0, 0, 0, 1, 0, 0, 0],\n",
            "       [1, 0, 0, 0, 1, 0, 0, 0],\n",
            "       [1, 0, 0, 0, 1, 0, 0, 0],\n",
            "       [1, 0, 0, 0, 1, 0, 0, 0],\n",
            "       [1, 0, 0, 0, 1, 0, 0, 0],\n",
            "       [1, 0, 0, 0, 1, 0, 0, 0],\n",
            "       [1, 0, 0, 0, 1, 0, 0, 0],\n",
            "       [1, 0, 0, 0, 1, 0, 0, 0],\n",
            "       [1, 0, 0, 0, 1, 0, 0, 0],\n",
            "       [1, 0, 0, 0, 1, 0, 0, 0],\n",
            "       [1, 0, 0, 0, 1, 0, 0, 0],\n",
            "       [1, 0, 0, 0, 1, 0, 0, 0],\n",
            "       [1, 0, 0, 0, 1, 0, 0, 0],\n",
            "       [1, 0, 0, 0, 1, 0, 0, 0],\n",
            "       [1, 0, 0, 0, 1, 0, 0, 0],\n",
            "       [1, 0, 0, 0, 1, 0, 0, 0],\n",
            "       [1, 0, 0, 0, 1, 0, 0, 0],\n",
            "       [1, 0, 0, 0, 1, 0, 0, 0],\n",
            "       [1, 0, 0, 0, 1, 0, 0, 0],\n",
            "       [1, 0, 0, 0, 1, 0, 0, 0]])>, <tf.Tensor: shape=(100, 1), dtype=int32, numpy=\n",
            "array([[0],\n",
            "       [0],\n",
            "       [0],\n",
            "       [0],\n",
            "       [0],\n",
            "       [0],\n",
            "       [0],\n",
            "       [0],\n",
            "       [0],\n",
            "       [0],\n",
            "       [0],\n",
            "       [0],\n",
            "       [0],\n",
            "       [0],\n",
            "       [0],\n",
            "       [0],\n",
            "       [0],\n",
            "       [0],\n",
            "       [0],\n",
            "       [0],\n",
            "       [0],\n",
            "       [0],\n",
            "       [0],\n",
            "       [0],\n",
            "       [0],\n",
            "       [0],\n",
            "       [0],\n",
            "       [0],\n",
            "       [0],\n",
            "       [0],\n",
            "       [0],\n",
            "       [0],\n",
            "       [0],\n",
            "       [0],\n",
            "       [0],\n",
            "       [0],\n",
            "       [0],\n",
            "       [0],\n",
            "       [0],\n",
            "       [0],\n",
            "       [0],\n",
            "       [0],\n",
            "       [0],\n",
            "       [0],\n",
            "       [0],\n",
            "       [0],\n",
            "       [0],\n",
            "       [0],\n",
            "       [0],\n",
            "       [0],\n",
            "       [0],\n",
            "       [0],\n",
            "       [0],\n",
            "       [0],\n",
            "       [0],\n",
            "       [0],\n",
            "       [0],\n",
            "       [0],\n",
            "       [0],\n",
            "       [0],\n",
            "       [0],\n",
            "       [0],\n",
            "       [0],\n",
            "       [0],\n",
            "       [0],\n",
            "       [0],\n",
            "       [0],\n",
            "       [0],\n",
            "       [0],\n",
            "       [0],\n",
            "       [0],\n",
            "       [0],\n",
            "       [0],\n",
            "       [0],\n",
            "       [0],\n",
            "       [0],\n",
            "       [0],\n",
            "       [0],\n",
            "       [0],\n",
            "       [0],\n",
            "       [0],\n",
            "       [0],\n",
            "       [0],\n",
            "       [0],\n",
            "       [0],\n",
            "       [0],\n",
            "       [0],\n",
            "       [0],\n",
            "       [0],\n",
            "       [0],\n",
            "       [0],\n",
            "       [0],\n",
            "       [0],\n",
            "       [0],\n",
            "       [0],\n",
            "       [0],\n",
            "       [0],\n",
            "       [0],\n",
            "       [0],\n",
            "       [0]], dtype=int32)>)\n"
          ],
          "name": "stdout"
        }
      ]
    },
    {
      "cell_type": "markdown",
      "metadata": {
        "id": "EStMEE6wcH8U"
      },
      "source": [
        "this shows the structure of one client's data"
      ]
    },
    {
      "cell_type": "code",
      "metadata": {
        "colab": {
          "base_uri": "https://localhost:8080/"
        },
        "id": "GVfBGFYareqJ",
        "outputId": "741eec44-266f-41fd-f140-f71c917aad1d"
      },
      "source": [
        "batched_federated_dataset[0].element_spec"
      ],
      "execution_count": null,
      "outputs": [
        {
          "output_type": "execute_result",
          "data": {
            "text/plain": [
              "(TensorSpec(shape=(None, 8), dtype=tf.int64, name=None),\n",
              " TensorSpec(shape=(None, 1), dtype=tf.int32, name=None))"
            ]
          },
          "metadata": {
            "tags": []
          },
          "execution_count": 89
        }
      ]
    },
    {
      "cell_type": "markdown",
      "metadata": {
        "id": "WSYJx0x-cX4p"
      },
      "source": [
        "The following are two functions which are used to create the keras model. Since it's binary classification, we use binary loss functions and metrics.\n",
        "\n",
        "These aren't called at the moment, but are called by an initialise function later on"
      ]
    },
    {
      "cell_type": "code",
      "metadata": {
        "colab": {
          "base_uri": "https://localhost:8080/"
        },
        "id": "f0ULwM1Me2t2",
        "outputId": "e9a4c9a1-b19c-473d-e4ec-00eae0fa8040"
      },
      "source": [
        "def create_keras_model():\n",
        "  return tf.keras.models.Sequential([\n",
        "      tf.keras.layers.Input(shape=(8,)),\n",
        "      tf.keras.layers.Dense(8,activation='relu'),\n",
        "      tf.keras.layers.Dense(1,activation='sigmoid'),\n",
        "  ])\n",
        "def model_fn():\n",
        "  keras_model = create_keras_model()\n",
        "  return tff.learning.from_keras_model(\n",
        "      keras_model,\n",
        "      input_spec=batched_federated_dataset[0].element_spec,\n",
        "      loss=tf.keras.losses.BinaryCrossentropy(from_logits=False, label_smoothing=0),\n",
        "      metrics=[tf.keras.metrics.BinaryAccuracy(threshold=0.5)]\n",
        "      )\n",
        "print(model_fn())"
      ],
      "execution_count": null,
      "outputs": [
        {
          "output_type": "stream",
          "text": [
            "WARNING:tensorflow:Please add `keras.layers.InputLayer` instead of `keras.Input` to Sequential model. `keras.Input` is intended to be used by Functional model.\n"
          ],
          "name": "stdout"
        },
        {
          "output_type": "stream",
          "text": [
            "WARNING:tensorflow:Please add `keras.layers.InputLayer` instead of `keras.Input` to Sequential model. `keras.Input` is intended to be used by Functional model.\n"
          ],
          "name": "stderr"
        },
        {
          "output_type": "stream",
          "text": [
            "WARNING:tensorflow:5 out of the last 5 calls to <function _KerasModel.report_local_outputs at 0x7fdfcf584050> triggered tf.function retracing. Tracing is expensive and the excessive number of tracings could be due to (1) creating @tf.function repeatedly in a loop, (2) passing tensors with different shapes, (3) passing Python objects instead of tensors. For (1), please define your @tf.function outside of the loop. For (2), @tf.function has experimental_relax_shapes=True option that relaxes argument shapes that can avoid unnecessary retracing. For (3), please refer to https://www.tensorflow.org/guide/function#controlling_retracing and https://www.tensorflow.org/api_docs/python/tf/function for  more details.\n"
          ],
          "name": "stdout"
        },
        {
          "output_type": "stream",
          "text": [
            "WARNING:tensorflow:5 out of the last 5 calls to <function _KerasModel.report_local_outputs at 0x7fdfcf584050> triggered tf.function retracing. Tracing is expensive and the excessive number of tracings could be due to (1) creating @tf.function repeatedly in a loop, (2) passing tensors with different shapes, (3) passing Python objects instead of tensors. For (1), please define your @tf.function outside of the loop. For (2), @tf.function has experimental_relax_shapes=True option that relaxes argument shapes that can avoid unnecessary retracing. For (3), please refer to https://www.tensorflow.org/guide/function#controlling_retracing and https://www.tensorflow.org/api_docs/python/tf/function for  more details.\n"
          ],
          "name": "stderr"
        },
        {
          "output_type": "stream",
          "text": [
            "<tensorflow_federated.python.learning.model_utils.EnhancedModel object at 0x7fdfda6141d0>\n"
          ],
          "name": "stdout"
        }
      ]
    },
    {
      "cell_type": "markdown",
      "metadata": {
        "id": "9diUxNRKtPIu"
      },
      "source": [
        "### Initialize model / server"
      ]
    },
    {
      "cell_type": "markdown",
      "metadata": {
        "id": "GmYWSXTqvCRC"
      },
      "source": [
        "Takes the keras model from above function, and returns it's trainable variables"
      ]
    },
    {
      "cell_type": "markdown",
      "metadata": {
        "id": "F6387K11dmna"
      },
      "source": [
        "server_init() functions which creates a model and returns it. it's a server computation"
      ]
    },
    {
      "cell_type": "code",
      "metadata": {
        "id": "3XFsAlq_nocy",
        "colab": {
          "base_uri": "https://localhost:8080/"
        },
        "outputId": "bcde518a-e67b-4a14-d1e2-0e877b505fc9"
      },
      "source": [
        "@tff.tf_computation\n",
        "def server_init():\n",
        "  model = model_fn()\n",
        "  return model.trainable_variables"
      ],
      "execution_count": null,
      "outputs": [
        {
          "output_type": "stream",
          "text": [
            "WARNING:tensorflow:Please add `keras.layers.InputLayer` instead of `keras.Input` to Sequential model. `keras.Input` is intended to be used by Functional model.\n"
          ],
          "name": "stdout"
        },
        {
          "output_type": "stream",
          "text": [
            "WARNING:tensorflow:Please add `keras.layers.InputLayer` instead of `keras.Input` to Sequential model. `keras.Input` is intended to be used by Functional model.\n"
          ],
          "name": "stderr"
        }
      ]
    },
    {
      "cell_type": "markdown",
      "metadata": {
        "id": "UXOTgifUeH9v"
      },
      "source": [
        "This is the initialise function, it returns a federated value (some data, where it belongs)\n",
        "it returns the model, on the tff server"
      ]
    },
    {
      "cell_type": "code",
      "metadata": {
        "id": "s5zI7Um6xDtJ"
      },
      "source": [
        "@tff.federated_computation\n",
        "def initialize_fn():\n",
        "  return tff.federated_value(server_init(), tff.SERVER)"
      ],
      "execution_count": null,
      "outputs": []
    },
    {
      "cell_type": "markdown",
      "metadata": {
        "id": "j4uWPzxRtVOC"
      },
      "source": [
        "### Getting info on our Model"
      ]
    },
    {
      "cell_type": "markdown",
      "metadata": {
        "id": "hRDVVBviya9a"
      },
      "source": [
        "we obtain the model weight types from a dummy run of our model, we use these to set up our environment"
      ]
    },
    {
      "cell_type": "code",
      "metadata": {
        "id": "29lwgVcGxMRV",
        "colab": {
          "base_uri": "https://localhost:8080/"
        },
        "outputId": "170ff678-c568-4bbf-af7a-fd577150acff"
      },
      "source": [
        "dummy_model = model_fn()\n",
        "tf_dataset_type = tff.SequenceType(dummy_model.input_spec)"
      ],
      "execution_count": null,
      "outputs": [
        {
          "output_type": "stream",
          "text": [
            "WARNING:tensorflow:Please add `keras.layers.InputLayer` instead of `keras.Input` to Sequential model. `keras.Input` is intended to be used by Functional model.\n"
          ],
          "name": "stdout"
        },
        {
          "output_type": "stream",
          "text": [
            "WARNING:tensorflow:Please add `keras.layers.InputLayer` instead of `keras.Input` to Sequential model. `keras.Input` is intended to be used by Functional model.\n"
          ],
          "name": "stderr"
        },
        {
          "output_type": "stream",
          "text": [
            "WARNING:tensorflow:6 out of the last 6 calls to <function _KerasModel.report_local_outputs at 0x7fdfce577560> triggered tf.function retracing. Tracing is expensive and the excessive number of tracings could be due to (1) creating @tf.function repeatedly in a loop, (2) passing tensors with different shapes, (3) passing Python objects instead of tensors. For (1), please define your @tf.function outside of the loop. For (2), @tf.function has experimental_relax_shapes=True option that relaxes argument shapes that can avoid unnecessary retracing. For (3), please refer to https://www.tensorflow.org/guide/function#controlling_retracing and https://www.tensorflow.org/api_docs/python/tf/function for  more details.\n"
          ],
          "name": "stdout"
        },
        {
          "output_type": "stream",
          "text": [
            "WARNING:tensorflow:6 out of the last 6 calls to <function _KerasModel.report_local_outputs at 0x7fdfce577560> triggered tf.function retracing. Tracing is expensive and the excessive number of tracings could be due to (1) creating @tf.function repeatedly in a loop, (2) passing tensors with different shapes, (3) passing Python objects instead of tensors. For (1), please define your @tf.function outside of the loop. For (2), @tf.function has experimental_relax_shapes=True option that relaxes argument shapes that can avoid unnecessary retracing. For (3), please refer to https://www.tensorflow.org/guide/function#controlling_retracing and https://www.tensorflow.org/api_docs/python/tf/function for  more details.\n"
          ],
          "name": "stderr"
        }
      ]
    },
    {
      "cell_type": "code",
      "metadata": {
        "colab": {
          "base_uri": "https://localhost:8080/",
          "height": 35
        },
        "id": "HjduIzIKxTro",
        "outputId": "05918cef-ce8e-42d3-8b62-b6319669d1a7"
      },
      "source": [
        "str(tf_dataset_type)"
      ],
      "execution_count": null,
      "outputs": [
        {
          "output_type": "execute_result",
          "data": {
            "application/vnd.google.colaboratory.intrinsic+json": {
              "type": "string"
            },
            "text/plain": [
              "'<int64[?,8],int32[?,1]>*'"
            ]
          },
          "metadata": {
            "tags": []
          },
          "execution_count": 94
        }
      ]
    },
    {
      "cell_type": "code",
      "metadata": {
        "id": "pb6mHxp2xYEG"
      },
      "source": [
        "model_weights_type = server_init.type_signature.result"
      ],
      "execution_count": null,
      "outputs": []
    },
    {
      "cell_type": "code",
      "metadata": {
        "colab": {
          "base_uri": "https://localhost:8080/",
          "height": 35
        },
        "id": "bRtbkj6TxcK8",
        "outputId": "63f7397c-62ed-4241-d93e-b8e30fa356d5"
      },
      "source": [
        "str(model_weights_type)"
      ],
      "execution_count": null,
      "outputs": [
        {
          "output_type": "execute_result",
          "data": {
            "application/vnd.google.colaboratory.intrinsic+json": {
              "type": "string"
            },
            "text/plain": [
              "'<float32[8,8],float32[8],float32[8,1],float32[1]>'"
            ]
          },
          "metadata": {
            "tags": []
          },
          "execution_count": 96
        }
      ]
    },
    {
      "cell_type": "markdown",
      "metadata": {
        "id": "lnQjrytWuIRj"
      },
      "source": [
        "### Client Update"
      ]
    },
    {
      "cell_type": "markdown",
      "metadata": {
        "id": "B2PPUyxkvlwa"
      },
      "source": [
        "* client recieves the model's current weights\n",
        "* Assigns the server's weights to the client's model\n",
        "* Updates local model with local data\n",
        "* applies gradient descent to weights\n",
        "* Returns client weights"
      ]
    },
    {
      "cell_type": "code",
      "metadata": {
        "id": "PevHpcBUoGUP"
      },
      "source": [
        "@tf.function\n",
        "def client_update(model, dataset, server_weights, client_optimizer):\n",
        "  \n",
        "  \"\"\"Performs training (using the server model weights) on the client's dataset.\"\"\"\n",
        "  # Initialize the client model with the current server weights.\n",
        "  client_weights = model.trainable_variables\n",
        "  # Assign the server weights to the client model.\n",
        "  tf.nest.map_structure(lambda x, y: x.assign(y),\n",
        "                        client_weights, server_weights)\n",
        "  \n",
        "  # Use the client_optimizer to update the local model.\n",
        "  print(dataset)\n",
        "  for batch in dataset:\n",
        "    print('batch: ',batch)\n",
        "    with tf.GradientTape() as tape:\n",
        "      # Compute a forward pass on the batch of data\n",
        "      outputs = model.forward_pass(batch) #Error is here\n",
        "    \n",
        "    # Compute the corresponding gradient\n",
        "    grads = tape.gradient(outputs.loss, client_weights)\n",
        "    grads_and_vars = zip(grads, client_weights)\n",
        "    \n",
        "    # Apply the gradient using a client optimizer.\n",
        "    client_optimizer.apply_gradients(grads_and_vars)\n",
        "  return client_weights"
      ],
      "execution_count": null,
      "outputs": []
    },
    {
      "cell_type": "code",
      "metadata": {
        "colab": {
          "base_uri": "https://localhost:8080/"
        },
        "id": "xymv7NFZx1cf",
        "outputId": "b01410c3-2859-4b4c-e791-9b42696a583c"
      },
      "source": [
        "@tff.tf_computation(tf_dataset_type, model_weights_type)\n",
        "def client_update_fn(tf_dataset, server_weights):\n",
        "  model = model_fn()\n",
        "  client_optimizer = tf.keras.optimizers.SGD(learning_rate=0.01)\n",
        "  return client_update(model, tf_dataset, server_weights, client_optimizer)"
      ],
      "execution_count": null,
      "outputs": [
        {
          "output_type": "stream",
          "text": [
            "WARNING:tensorflow:Please add `keras.layers.InputLayer` instead of `keras.Input` to Sequential model. `keras.Input` is intended to be used by Functional model.\n"
          ],
          "name": "stdout"
        },
        {
          "output_type": "stream",
          "text": [
            "WARNING:tensorflow:Please add `keras.layers.InputLayer` instead of `keras.Input` to Sequential model. `keras.Input` is intended to be used by Functional model.\n"
          ],
          "name": "stderr"
        },
        {
          "output_type": "stream",
          "text": [
            "<_VariantDataset shapes: ((None, 8), (None, 1)), types: (tf.int64, tf.int32)>\n",
            "batch:  (<tf.Tensor 'args_1:0' shape=(None, 8) dtype=int64>, <tf.Tensor 'args_2:0' shape=(None, 1) dtype=int32>)\n"
          ],
          "name": "stdout"
        }
      ]
    },
    {
      "cell_type": "markdown",
      "metadata": {
        "id": "6e5lV1SUuWw6"
      },
      "source": [
        "### Server Update"
      ]
    },
    {
      "cell_type": "markdown",
      "metadata": {
        "id": "SgsCiidmue3Q"
      },
      "source": [
        "takes the mean client weights\n",
        "assigns them to the model's weights"
      ]
    },
    {
      "cell_type": "code",
      "metadata": {
        "id": "5cW0n5k_uaYz"
      },
      "source": [
        "@tf.function\n",
        "def server_update(model, mean_client_weights):\n",
        "  \"\"\"Updates the server model weights as the average of the client model weights.\"\"\"\n",
        "  model_weights = model.trainable_variables\n",
        "  # Assign the mean client weights to the server model.\n",
        "  tf.nest.map_structure(lambda x, y: x.assign(y),\n",
        "                        model_weights, mean_client_weights)\n",
        "  return model_weights"
      ],
      "execution_count": null,
      "outputs": []
    },
    {
      "cell_type": "code",
      "metadata": {
        "id": "RfvM8o1rx_Hk",
        "colab": {
          "base_uri": "https://localhost:8080/"
        },
        "outputId": "4184e7cf-ab62-42b7-9ea1-67d646800fb2"
      },
      "source": [
        "@tff.tf_computation(model_weights_type)\n",
        "def server_update_fn(mean_client_weights):\n",
        "  model = model_fn()\n",
        "  return server_update(model, mean_client_weights)"
      ],
      "execution_count": null,
      "outputs": [
        {
          "output_type": "stream",
          "text": [
            "WARNING:tensorflow:Please add `keras.layers.InputLayer` instead of `keras.Input` to Sequential model. `keras.Input` is intended to be used by Functional model.\n"
          ],
          "name": "stdout"
        },
        {
          "output_type": "stream",
          "text": [
            "WARNING:tensorflow:Please add `keras.layers.InputLayer` instead of `keras.Input` to Sequential model. `keras.Input` is intended to be used by Functional model.\n"
          ],
          "name": "stderr"
        }
      ]
    },
    {
      "cell_type": "markdown",
      "metadata": {
        "id": "EdZpei0DyinP"
      },
      "source": [
        "### Assigning Federated Types"
      ]
    },
    {
      "cell_type": "code",
      "metadata": {
        "id": "9zg_cMffa7o3"
      },
      "source": [
        "federated_server_type = tff.FederatedType(model_weights_type, tff.SERVER)\n",
        "federated_dataset_type = tff.FederatedType(tf_dataset_type, tff.CLIENTS)"
      ],
      "execution_count": null,
      "outputs": []
    },
    {
      "cell_type": "markdown",
      "metadata": {
        "id": "mEp8pultys-Z"
      },
      "source": [
        "### Next Function Definition"
      ]
    },
    {
      "cell_type": "markdown",
      "metadata": {
        "id": "Flk_oLSDvJYC"
      },
      "source": [
        "* Sends current weights to each client\n",
        "* Client updates the weights with their data and sends the weights back\n",
        "* Calculate Average of those weights\n",
        "* Server updates it's weights with those averages"
      ]
    },
    {
      "cell_type": "code",
      "metadata": {
        "id": "V7QuheUxnqad"
      },
      "source": [
        "@tff.federated_computation(federated_server_type, federated_dataset_type)\n",
        "def next_fn(server_weights, federated_dataset):\n",
        "  # Broadcast the server weights to the clients.\n",
        "  server_weights_at_client = tff.federated_broadcast(server_weights)\n",
        "\n",
        "  # Each client computes their updated weights.\n",
        "  client_weights = tff.federated_map(\n",
        "      client_update_fn, (federated_dataset, server_weights_at_client))\n",
        "  \n",
        "  # The server averages these updates.\n",
        "  mean_client_weights = tff.federated_mean(client_weights)\n",
        "\n",
        "  # The server updates its model.\n",
        "  server_weights = tff.federated_map(server_update_fn, mean_client_weights)\n",
        "\n",
        "  return server_weights"
      ],
      "execution_count": null,
      "outputs": []
    },
    {
      "cell_type": "markdown",
      "metadata": {
        "id": "L8WOFtJRzBUR"
      },
      "source": [
        "### Run Algorithm Function"
      ]
    },
    {
      "cell_type": "code",
      "metadata": {
        "id": "w06cf0exzHNZ"
      },
      "source": [
        "federated_algorithm = tff.templates.IterativeProcess(\n",
        "    initialize_fn=initialize_fn,\n",
        "    next_fn=next_fn\n",
        ")\n"
      ],
      "execution_count": null,
      "outputs": []
    },
    {
      "cell_type": "markdown",
      "metadata": {
        "id": "ygbQAfkJzeRF"
      },
      "source": [
        "## Run Algorithm info"
      ]
    },
    {
      "cell_type": "code",
      "metadata": {
        "id": "ndVBM9v1zg5s",
        "colab": {
          "base_uri": "https://localhost:8080/",
          "height": 35
        },
        "outputId": "b88bf9e2-b42d-4e1a-8945-4e6ad0e452b2"
      },
      "source": [
        "str(federated_algorithm.initialize.type_signature)"
      ],
      "execution_count": null,
      "outputs": [
        {
          "output_type": "execute_result",
          "data": {
            "application/vnd.google.colaboratory.intrinsic+json": {
              "type": "string"
            },
            "text/plain": [
              "'( -> <float32[8,8],float32[8],float32[8,1],float32[1]>@SERVER)'"
            ]
          },
          "metadata": {
            "tags": []
          },
          "execution_count": 104
        }
      ]
    },
    {
      "cell_type": "code",
      "metadata": {
        "id": "A-cjPxErzjOw",
        "colab": {
          "base_uri": "https://localhost:8080/",
          "height": 54
        },
        "outputId": "3f384c2f-7aa5-48f7-b5e2-cf74960461d7"
      },
      "source": [
        "str(federated_algorithm.next.type_signature)"
      ],
      "execution_count": null,
      "outputs": [
        {
          "output_type": "execute_result",
          "data": {
            "application/vnd.google.colaboratory.intrinsic+json": {
              "type": "string"
            },
            "text/plain": [
              "'(<server_weights=<float32[8,8],float32[8],float32[8,1],float32[1]>@SERVER,federated_dataset={<int64[?,8],int32[?,1]>*}@CLIENTS> -> <float32[8,8],float32[8],float32[8,1],float32[1]>@SERVER)'"
            ]
          },
          "metadata": {
            "tags": []
          },
          "execution_count": 105
        }
      ]
    },
    {
      "cell_type": "markdown",
      "metadata": {
        "id": "NsiXBcN4zpU4"
      },
      "source": [
        "## Evaluating the algorithm"
      ]
    },
    {
      "cell_type": "code",
      "metadata": {
        "colab": {
          "base_uri": "https://localhost:8080/",
          "height": 189
        },
        "id": "VLpcBYgT75gL",
        "outputId": "ec14c5e7-f155-4582-8f50-464a9e20ce95"
      },
      "source": [
        "central_emnist_test = emnist_test.create_tf_dataset_from_all_clients().take(1000)\n",
        "central_emnist_test = preprocess(central_emnist_test)"
      ],
      "execution_count": null,
      "outputs": [
        {
          "output_type": "error",
          "ename": "NameError",
          "evalue": "ignored",
          "traceback": [
            "\u001b[0;31m---------------------------------------------------------------------------\u001b[0m",
            "\u001b[0;31mNameError\u001b[0m                                 Traceback (most recent call last)",
            "\u001b[0;32m<ipython-input-29-01df6f8b31e4>\u001b[0m in \u001b[0;36m<module>\u001b[0;34m()\u001b[0m\n\u001b[0;32m----> 1\u001b[0;31m \u001b[0mcentral_emnist_test\u001b[0m \u001b[0;34m=\u001b[0m \u001b[0memnist_test\u001b[0m\u001b[0;34m.\u001b[0m\u001b[0mcreate_tf_dataset_from_all_clients\u001b[0m\u001b[0;34m(\u001b[0m\u001b[0;34m)\u001b[0m\u001b[0;34m.\u001b[0m\u001b[0mtake\u001b[0m\u001b[0;34m(\u001b[0m\u001b[0;36m1000\u001b[0m\u001b[0;34m)\u001b[0m\u001b[0;34m\u001b[0m\u001b[0;34m\u001b[0m\u001b[0m\n\u001b[0m\u001b[1;32m      2\u001b[0m \u001b[0mcentral_emnist_test\u001b[0m \u001b[0;34m=\u001b[0m \u001b[0mpreprocess\u001b[0m\u001b[0;34m(\u001b[0m\u001b[0mcentral_emnist_test\u001b[0m\u001b[0;34m)\u001b[0m\u001b[0;34m\u001b[0m\u001b[0;34m\u001b[0m\u001b[0m\n",
            "\u001b[0;31mNameError\u001b[0m: name 'emnist_test' is not defined"
          ]
        }
      ]
    },
    {
      "cell_type": "code",
      "metadata": {
        "id": "Cs1Or7RSZfGr"
      },
      "source": [
        "np_batched_federated_dataset = np.asarray(batched_federated_dataset)\n",
        "\n",
        "#x_test_tensor\n",
        "#y_true = [[0, 1], [0, 0]]\n",
        "#y_pred = [[0.6, 0.4], [0.4, 0.6]]"
      ],
      "execution_count": null,
      "outputs": []
    },
    {
      "cell_type": "code",
      "metadata": {
        "id": "ob9eAc_F8Dac"
      },
      "source": [
        "def evaluate(server_state):\n",
        "  keras_model = create_keras_model()\n",
        "  keras_model.compile(\n",
        "      loss=tf.keras.losses.BinaryCrossentropy(from_logits=False, label_smoothing=0),\n",
        "      metrics=[tf.keras.metrics.BinaryAccuracy(threshold=0.5)]\n",
        "  )\n",
        "  keras_model.set_weights(server_state)\n",
        "  keras_model.evaluate(x_test, y_test)"
      ],
      "execution_count": null,
      "outputs": []
    },
    {
      "cell_type": "code",
      "metadata": {
        "id": "M9oEljxD8kgY",
        "colab": {
          "base_uri": "https://localhost:8080/"
        },
        "outputId": "0307314f-19d0-48f6-8e79-2ebe5a68941f"
      },
      "source": [
        "!pip install nest_asyncio\n",
        "import nest_asyncio\n",
        "nest_asyncio.apply()"
      ],
      "execution_count": null,
      "outputs": [
        {
          "output_type": "stream",
          "text": [
            "Requirement already satisfied: nest_asyncio in /usr/local/lib/python3.7/dist-packages (1.5.1)\n"
          ],
          "name": "stdout"
        }
      ]
    },
    {
      "cell_type": "code",
      "metadata": {
        "colab": {
          "base_uri": "https://localhost:8080/"
        },
        "id": "AvtwkhOq8Rs8",
        "outputId": "2947dd01-763a-42e4-a317-684345d57fe6"
      },
      "source": [
        "server_state = federated_algorithm.initialize()\n",
        "evaluate(server_state)"
      ],
      "execution_count": null,
      "outputs": [
        {
          "output_type": "stream",
          "text": [
            "WARNING:tensorflow:Please add `keras.layers.InputLayer` instead of `keras.Input` to Sequential model. `keras.Input` is intended to be used by Functional model.\n"
          ],
          "name": "stdout"
        },
        {
          "output_type": "stream",
          "text": [
            "WARNING:tensorflow:Please add `keras.layers.InputLayer` instead of `keras.Input` to Sequential model. `keras.Input` is intended to be used by Functional model.\n"
          ],
          "name": "stderr"
        },
        {
          "output_type": "stream",
          "text": [
            "26/26 [==============================] - 0s 846us/step - loss: 0.6851 - binary_accuracy: 0.5916\n"
          ],
          "name": "stdout"
        }
      ]
    }
  ]
}